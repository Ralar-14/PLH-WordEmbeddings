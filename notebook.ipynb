{
 "cells": [
  {
   "cell_type": "markdown",
   "metadata": {},
   "source": [
    "# Pràctica 4 PLH - Rubén Álvarez Aragonés i Pol Pérez Prades"
   ]
  },
  {
   "cell_type": "markdown",
   "metadata": {},
   "source": [
    "____"
   ]
  },
  {
   "cell_type": "markdown",
   "metadata": {},
   "source": [
    "# Stuff"
   ]
  },
  {
   "cell_type": "markdown",
   "metadata": {},
   "source": [
    "## Imports "
   ]
  },
  {
   "cell_type": "code",
   "execution_count": 1,
   "metadata": {},
   "outputs": [
    {
     "name": "stdout",
     "output_type": "stream",
     "text": [
      "Requirement already satisfied: tensorflow in c:\\users\\ralva\\desktop\\university\\4t-cuatrimestre-gia\\plh\\plh-wordembeddings\\wordembeddings\\lib\\site-packages (from -r requirements.txt (line 1)) (2.16.1)\n",
      "Requirement already satisfied: numpy in c:\\users\\ralva\\desktop\\university\\4t-cuatrimestre-gia\\plh\\plh-wordembeddings\\wordembeddings\\lib\\site-packages (from -r requirements.txt (line 2)) (1.26.4)\n",
      "Requirement already satisfied: spacy in c:\\users\\ralva\\desktop\\university\\4t-cuatrimestre-gia\\plh\\plh-wordembeddings\\wordembeddings\\lib\\site-packages (from -r requirements.txt (line 3)) (3.7.4)\n",
      "Requirement already satisfied: scipy==1.10.1 in c:\\users\\ralva\\desktop\\university\\4t-cuatrimestre-gia\\plh\\plh-wordembeddings\\wordembeddings\\lib\\site-packages (from -r requirements.txt (line 4)) (1.10.1)\n",
      "Requirement already satisfied: gensim in c:\\users\\ralva\\desktop\\university\\4t-cuatrimestre-gia\\plh\\plh-wordembeddings\\wordembeddings\\lib\\site-packages (from -r requirements.txt (line 5)) (4.3.2)\n",
      "Requirement already satisfied: torch in c:\\users\\ralva\\desktop\\university\\4t-cuatrimestre-gia\\plh\\plh-wordembeddings\\wordembeddings\\lib\\site-packages (from -r requirements.txt (line 6)) (2.3.0)\n",
      "Requirement already satisfied: scikit-learn in c:\\users\\ralva\\desktop\\university\\4t-cuatrimestre-gia\\plh\\plh-wordembeddings\\wordembeddings\\lib\\site-packages (from -r requirements.txt (line 7)) (1.4.2)\n",
      "Requirement already satisfied: matplotlib in c:\\users\\ralva\\desktop\\university\\4t-cuatrimestre-gia\\plh\\plh-wordembeddings\\wordembeddings\\lib\\site-packages (from -r requirements.txt (line 8)) (3.9.0)\n",
      "Requirement already satisfied: plotly in c:\\users\\ralva\\desktop\\university\\4t-cuatrimestre-gia\\plh\\plh-wordembeddings\\wordembeddings\\lib\\site-packages (from -r requirements.txt (line 9)) (5.22.0)\n",
      "Requirement already satisfied: pandas in c:\\users\\ralva\\desktop\\university\\4t-cuatrimestre-gia\\plh\\plh-wordembeddings\\wordembeddings\\lib\\site-packages (from -r requirements.txt (line 10)) (2.2.2)\n",
      "Collecting fasttext (from -r requirements.txt (line 11))\n",
      "  Using cached fasttext-0.9.2.tar.gz (68 kB)\n",
      "  Preparing metadata (setup.py): started\n",
      "  Preparing metadata (setup.py): finished with status 'done'\n",
      "Requirement already satisfied: nbformat>=4.2.0 in c:\\users\\ralva\\desktop\\university\\4t-cuatrimestre-gia\\plh\\plh-wordembeddings\\wordembeddings\\lib\\site-packages (from -r requirements.txt (line 12)) (5.10.4)\n",
      "Requirement already satisfied: tensorflow-intel==2.16.1 in c:\\users\\ralva\\desktop\\university\\4t-cuatrimestre-gia\\plh\\plh-wordembeddings\\wordembeddings\\lib\\site-packages (from tensorflow->-r requirements.txt (line 1)) (2.16.1)\n",
      "Requirement already satisfied: absl-py>=1.0.0 in c:\\users\\ralva\\desktop\\university\\4t-cuatrimestre-gia\\plh\\plh-wordembeddings\\wordembeddings\\lib\\site-packages (from tensorflow-intel==2.16.1->tensorflow->-r requirements.txt (line 1)) (2.1.0)\n",
      "Requirement already satisfied: astunparse>=1.6.0 in c:\\users\\ralva\\desktop\\university\\4t-cuatrimestre-gia\\plh\\plh-wordembeddings\\wordembeddings\\lib\\site-packages (from tensorflow-intel==2.16.1->tensorflow->-r requirements.txt (line 1)) (1.6.3)\n",
      "Requirement already satisfied: flatbuffers>=23.5.26 in c:\\users\\ralva\\desktop\\university\\4t-cuatrimestre-gia\\plh\\plh-wordembeddings\\wordembeddings\\lib\\site-packages (from tensorflow-intel==2.16.1->tensorflow->-r requirements.txt (line 1)) (24.3.25)\n",
      "Requirement already satisfied: gast!=0.5.0,!=0.5.1,!=0.5.2,>=0.2.1 in c:\\users\\ralva\\desktop\\university\\4t-cuatrimestre-gia\\plh\\plh-wordembeddings\\wordembeddings\\lib\\site-packages (from tensorflow-intel==2.16.1->tensorflow->-r requirements.txt (line 1)) (0.5.4)\n",
      "Requirement already satisfied: google-pasta>=0.1.1 in c:\\users\\ralva\\desktop\\university\\4t-cuatrimestre-gia\\plh\\plh-wordembeddings\\wordembeddings\\lib\\site-packages (from tensorflow-intel==2.16.1->tensorflow->-r requirements.txt (line 1)) (0.2.0)\n",
      "Requirement already satisfied: h5py>=3.10.0 in c:\\users\\ralva\\desktop\\university\\4t-cuatrimestre-gia\\plh\\plh-wordembeddings\\wordembeddings\\lib\\site-packages (from tensorflow-intel==2.16.1->tensorflow->-r requirements.txt (line 1)) (3.11.0)\n",
      "Requirement already satisfied: libclang>=13.0.0 in c:\\users\\ralva\\desktop\\university\\4t-cuatrimestre-gia\\plh\\plh-wordembeddings\\wordembeddings\\lib\\site-packages (from tensorflow-intel==2.16.1->tensorflow->-r requirements.txt (line 1)) (18.1.1)\n",
      "Requirement already satisfied: ml-dtypes~=0.3.1 in c:\\users\\ralva\\desktop\\university\\4t-cuatrimestre-gia\\plh\\plh-wordembeddings\\wordembeddings\\lib\\site-packages (from tensorflow-intel==2.16.1->tensorflow->-r requirements.txt (line 1)) (0.3.2)\n",
      "Requirement already satisfied: opt-einsum>=2.3.2 in c:\\users\\ralva\\desktop\\university\\4t-cuatrimestre-gia\\plh\\plh-wordembeddings\\wordembeddings\\lib\\site-packages (from tensorflow-intel==2.16.1->tensorflow->-r requirements.txt (line 1)) (3.3.0)\n",
      "Requirement already satisfied: packaging in c:\\users\\ralva\\desktop\\university\\4t-cuatrimestre-gia\\plh\\plh-wordembeddings\\wordembeddings\\lib\\site-packages (from tensorflow-intel==2.16.1->tensorflow->-r requirements.txt (line 1)) (24.0)\n",
      "Requirement already satisfied: protobuf!=4.21.0,!=4.21.1,!=4.21.2,!=4.21.3,!=4.21.4,!=4.21.5,<5.0.0dev,>=3.20.3 in c:\\users\\ralva\\desktop\\university\\4t-cuatrimestre-gia\\plh\\plh-wordembeddings\\wordembeddings\\lib\\site-packages (from tensorflow-intel==2.16.1->tensorflow->-r requirements.txt (line 1)) (4.25.3)\n",
      "Requirement already satisfied: requests<3,>=2.21.0 in c:\\users\\ralva\\desktop\\university\\4t-cuatrimestre-gia\\plh\\plh-wordembeddings\\wordembeddings\\lib\\site-packages (from tensorflow-intel==2.16.1->tensorflow->-r requirements.txt (line 1)) (2.31.0)\n",
      "Requirement already satisfied: setuptools in c:\\users\\ralva\\desktop\\university\\4t-cuatrimestre-gia\\plh\\plh-wordembeddings\\wordembeddings\\lib\\site-packages (from tensorflow-intel==2.16.1->tensorflow->-r requirements.txt (line 1)) (65.5.0)\n",
      "Requirement already satisfied: six>=1.12.0 in c:\\users\\ralva\\desktop\\university\\4t-cuatrimestre-gia\\plh\\plh-wordembeddings\\wordembeddings\\lib\\site-packages (from tensorflow-intel==2.16.1->tensorflow->-r requirements.txt (line 1)) (1.16.0)\n",
      "Requirement already satisfied: termcolor>=1.1.0 in c:\\users\\ralva\\desktop\\university\\4t-cuatrimestre-gia\\plh\\plh-wordembeddings\\wordembeddings\\lib\\site-packages (from tensorflow-intel==2.16.1->tensorflow->-r requirements.txt (line 1)) (2.4.0)\n",
      "Requirement already satisfied: typing-extensions>=3.6.6 in c:\\users\\ralva\\desktop\\university\\4t-cuatrimestre-gia\\plh\\plh-wordembeddings\\wordembeddings\\lib\\site-packages (from tensorflow-intel==2.16.1->tensorflow->-r requirements.txt (line 1)) (4.11.0)\n",
      "Requirement already satisfied: wrapt>=1.11.0 in c:\\users\\ralva\\desktop\\university\\4t-cuatrimestre-gia\\plh\\plh-wordembeddings\\wordembeddings\\lib\\site-packages (from tensorflow-intel==2.16.1->tensorflow->-r requirements.txt (line 1)) (1.16.0)\n",
      "Requirement already satisfied: grpcio<2.0,>=1.24.3 in c:\\users\\ralva\\desktop\\university\\4t-cuatrimestre-gia\\plh\\plh-wordembeddings\\wordembeddings\\lib\\site-packages (from tensorflow-intel==2.16.1->tensorflow->-r requirements.txt (line 1)) (1.63.0)\n",
      "Requirement already satisfied: tensorboard<2.17,>=2.16 in c:\\users\\ralva\\desktop\\university\\4t-cuatrimestre-gia\\plh\\plh-wordembeddings\\wordembeddings\\lib\\site-packages (from tensorflow-intel==2.16.1->tensorflow->-r requirements.txt (line 1)) (2.16.2)\n",
      "Requirement already satisfied: keras>=3.0.0 in c:\\users\\ralva\\desktop\\university\\4t-cuatrimestre-gia\\plh\\plh-wordembeddings\\wordembeddings\\lib\\site-packages (from tensorflow-intel==2.16.1->tensorflow->-r requirements.txt (line 1)) (3.3.3)\n",
      "Requirement already satisfied: tensorflow-io-gcs-filesystem>=0.23.1 in c:\\users\\ralva\\desktop\\university\\4t-cuatrimestre-gia\\plh\\plh-wordembeddings\\wordembeddings\\lib\\site-packages (from tensorflow-intel==2.16.1->tensorflow->-r requirements.txt (line 1)) (0.31.0)\n",
      "Requirement already satisfied: spacy-legacy<3.1.0,>=3.0.11 in c:\\users\\ralva\\desktop\\university\\4t-cuatrimestre-gia\\plh\\plh-wordembeddings\\wordembeddings\\lib\\site-packages (from spacy->-r requirements.txt (line 3)) (3.0.12)\n",
      "Requirement already satisfied: spacy-loggers<2.0.0,>=1.0.0 in c:\\users\\ralva\\desktop\\university\\4t-cuatrimestre-gia\\plh\\plh-wordembeddings\\wordembeddings\\lib\\site-packages (from spacy->-r requirements.txt (line 3)) (1.0.5)\n",
      "Requirement already satisfied: murmurhash<1.1.0,>=0.28.0 in c:\\users\\ralva\\desktop\\university\\4t-cuatrimestre-gia\\plh\\plh-wordembeddings\\wordembeddings\\lib\\site-packages (from spacy->-r requirements.txt (line 3)) (1.0.10)\n",
      "Requirement already satisfied: cymem<2.1.0,>=2.0.2 in c:\\users\\ralva\\desktop\\university\\4t-cuatrimestre-gia\\plh\\plh-wordembeddings\\wordembeddings\\lib\\site-packages (from spacy->-r requirements.txt (line 3)) (2.0.8)\n",
      "Requirement already satisfied: preshed<3.1.0,>=3.0.2 in c:\\users\\ralva\\desktop\\university\\4t-cuatrimestre-gia\\plh\\plh-wordembeddings\\wordembeddings\\lib\\site-packages (from spacy->-r requirements.txt (line 3)) (3.0.9)\n",
      "Requirement already satisfied: thinc<8.3.0,>=8.2.2 in c:\\users\\ralva\\desktop\\university\\4t-cuatrimestre-gia\\plh\\plh-wordembeddings\\wordembeddings\\lib\\site-packages (from spacy->-r requirements.txt (line 3)) (8.2.3)\n",
      "Requirement already satisfied: wasabi<1.2.0,>=0.9.1 in c:\\users\\ralva\\desktop\\university\\4t-cuatrimestre-gia\\plh\\plh-wordembeddings\\wordembeddings\\lib\\site-packages (from spacy->-r requirements.txt (line 3)) (1.1.2)\n",
      "Requirement already satisfied: srsly<3.0.0,>=2.4.3 in c:\\users\\ralva\\desktop\\university\\4t-cuatrimestre-gia\\plh\\plh-wordembeddings\\wordembeddings\\lib\\site-packages (from spacy->-r requirements.txt (line 3)) (2.4.8)\n",
      "Requirement already satisfied: catalogue<2.1.0,>=2.0.6 in c:\\users\\ralva\\desktop\\university\\4t-cuatrimestre-gia\\plh\\plh-wordembeddings\\wordembeddings\\lib\\site-packages (from spacy->-r requirements.txt (line 3)) (2.0.10)\n",
      "Requirement already satisfied: weasel<0.4.0,>=0.1.0 in c:\\users\\ralva\\desktop\\university\\4t-cuatrimestre-gia\\plh\\plh-wordembeddings\\wordembeddings\\lib\\site-packages (from spacy->-r requirements.txt (line 3)) (0.3.4)\n",
      "Requirement already satisfied: typer<0.10.0,>=0.3.0 in c:\\users\\ralva\\desktop\\university\\4t-cuatrimestre-gia\\plh\\plh-wordembeddings\\wordembeddings\\lib\\site-packages (from spacy->-r requirements.txt (line 3)) (0.9.4)\n",
      "Requirement already satisfied: smart-open<7.0.0,>=5.2.1 in c:\\users\\ralva\\desktop\\university\\4t-cuatrimestre-gia\\plh\\plh-wordembeddings\\wordembeddings\\lib\\site-packages (from spacy->-r requirements.txt (line 3)) (6.4.0)\n",
      "Requirement already satisfied: tqdm<5.0.0,>=4.38.0 in c:\\users\\ralva\\desktop\\university\\4t-cuatrimestre-gia\\plh\\plh-wordembeddings\\wordembeddings\\lib\\site-packages (from spacy->-r requirements.txt (line 3)) (4.66.4)\n",
      "Requirement already satisfied: pydantic!=1.8,!=1.8.1,<3.0.0,>=1.7.4 in c:\\users\\ralva\\desktop\\university\\4t-cuatrimestre-gia\\plh\\plh-wordembeddings\\wordembeddings\\lib\\site-packages (from spacy->-r requirements.txt (line 3)) (2.7.1)\n",
      "Requirement already satisfied: jinja2 in c:\\users\\ralva\\desktop\\university\\4t-cuatrimestre-gia\\plh\\plh-wordembeddings\\wordembeddings\\lib\\site-packages (from spacy->-r requirements.txt (line 3)) (3.1.4)\n",
      "Requirement already satisfied: langcodes<4.0.0,>=3.2.0 in c:\\users\\ralva\\desktop\\university\\4t-cuatrimestre-gia\\plh\\plh-wordembeddings\\wordembeddings\\lib\\site-packages (from spacy->-r requirements.txt (line 3)) (3.4.0)\n",
      "Requirement already satisfied: filelock in c:\\users\\ralva\\desktop\\university\\4t-cuatrimestre-gia\\plh\\plh-wordembeddings\\wordembeddings\\lib\\site-packages (from torch->-r requirements.txt (line 6)) (3.14.0)\n",
      "Requirement already satisfied: sympy in c:\\users\\ralva\\desktop\\university\\4t-cuatrimestre-gia\\plh\\plh-wordembeddings\\wordembeddings\\lib\\site-packages (from torch->-r requirements.txt (line 6)) (1.12)\n",
      "Requirement already satisfied: networkx in c:\\users\\ralva\\desktop\\university\\4t-cuatrimestre-gia\\plh\\plh-wordembeddings\\wordembeddings\\lib\\site-packages (from torch->-r requirements.txt (line 6)) (3.3)\n",
      "Requirement already satisfied: fsspec in c:\\users\\ralva\\desktop\\university\\4t-cuatrimestre-gia\\plh\\plh-wordembeddings\\wordembeddings\\lib\\site-packages (from torch->-r requirements.txt (line 6)) (2024.3.1)\n",
      "Requirement already satisfied: mkl<=2021.4.0,>=2021.1.1 in c:\\users\\ralva\\desktop\\university\\4t-cuatrimestre-gia\\plh\\plh-wordembeddings\\wordembeddings\\lib\\site-packages (from torch->-r requirements.txt (line 6)) (2021.4.0)\n",
      "Requirement already satisfied: joblib>=1.2.0 in c:\\users\\ralva\\desktop\\university\\4t-cuatrimestre-gia\\plh\\plh-wordembeddings\\wordembeddings\\lib\\site-packages (from scikit-learn->-r requirements.txt (line 7)) (1.4.2)\n",
      "Requirement already satisfied: threadpoolctl>=2.0.0 in c:\\users\\ralva\\desktop\\university\\4t-cuatrimestre-gia\\plh\\plh-wordembeddings\\wordembeddings\\lib\\site-packages (from scikit-learn->-r requirements.txt (line 7)) (3.5.0)\n",
      "Requirement already satisfied: contourpy>=1.0.1 in c:\\users\\ralva\\desktop\\university\\4t-cuatrimestre-gia\\plh\\plh-wordembeddings\\wordembeddings\\lib\\site-packages (from matplotlib->-r requirements.txt (line 8)) (1.2.1)\n",
      "Requirement already satisfied: cycler>=0.10 in c:\\users\\ralva\\desktop\\university\\4t-cuatrimestre-gia\\plh\\plh-wordembeddings\\wordembeddings\\lib\\site-packages (from matplotlib->-r requirements.txt (line 8)) (0.12.1)\n",
      "Requirement already satisfied: fonttools>=4.22.0 in c:\\users\\ralva\\desktop\\university\\4t-cuatrimestre-gia\\plh\\plh-wordembeddings\\wordembeddings\\lib\\site-packages (from matplotlib->-r requirements.txt (line 8)) (4.51.0)\n",
      "Requirement already satisfied: kiwisolver>=1.3.1 in c:\\users\\ralva\\desktop\\university\\4t-cuatrimestre-gia\\plh\\plh-wordembeddings\\wordembeddings\\lib\\site-packages (from matplotlib->-r requirements.txt (line 8)) (1.4.5)\n",
      "Requirement already satisfied: pillow>=8 in c:\\users\\ralva\\desktop\\university\\4t-cuatrimestre-gia\\plh\\plh-wordembeddings\\wordembeddings\\lib\\site-packages (from matplotlib->-r requirements.txt (line 8)) (10.3.0)\n",
      "Requirement already satisfied: pyparsing>=2.3.1 in c:\\users\\ralva\\desktop\\university\\4t-cuatrimestre-gia\\plh\\plh-wordembeddings\\wordembeddings\\lib\\site-packages (from matplotlib->-r requirements.txt (line 8)) (3.1.2)\n",
      "Requirement already satisfied: python-dateutil>=2.7 in c:\\users\\ralva\\desktop\\university\\4t-cuatrimestre-gia\\plh\\plh-wordembeddings\\wordembeddings\\lib\\site-packages (from matplotlib->-r requirements.txt (line 8)) (2.9.0.post0)\n",
      "Requirement already satisfied: tenacity>=6.2.0 in c:\\users\\ralva\\desktop\\university\\4t-cuatrimestre-gia\\plh\\plh-wordembeddings\\wordembeddings\\lib\\site-packages (from plotly->-r requirements.txt (line 9)) (8.3.0)\n",
      "Requirement already satisfied: pytz>=2020.1 in c:\\users\\ralva\\desktop\\university\\4t-cuatrimestre-gia\\plh\\plh-wordembeddings\\wordembeddings\\lib\\site-packages (from pandas->-r requirements.txt (line 10)) (2024.1)\n",
      "Requirement already satisfied: tzdata>=2022.7 in c:\\users\\ralva\\desktop\\university\\4t-cuatrimestre-gia\\plh\\plh-wordembeddings\\wordembeddings\\lib\\site-packages (from pandas->-r requirements.txt (line 10)) (2024.1)\n",
      "Requirement already satisfied: pybind11>=2.2 in c:\\users\\ralva\\desktop\\university\\4t-cuatrimestre-gia\\plh\\plh-wordembeddings\\wordembeddings\\lib\\site-packages (from fasttext->-r requirements.txt (line 11)) (2.12.0)\n",
      "Requirement already satisfied: fastjsonschema>=2.15 in c:\\users\\ralva\\desktop\\university\\4t-cuatrimestre-gia\\plh\\plh-wordembeddings\\wordembeddings\\lib\\site-packages (from nbformat>=4.2.0->-r requirements.txt (line 12)) (2.19.1)\n",
      "Requirement already satisfied: jsonschema>=2.6 in c:\\users\\ralva\\desktop\\university\\4t-cuatrimestre-gia\\plh\\plh-wordembeddings\\wordembeddings\\lib\\site-packages (from nbformat>=4.2.0->-r requirements.txt (line 12)) (4.22.0)\n",
      "Requirement already satisfied: jupyter-core!=5.0.*,>=4.12 in c:\\users\\ralva\\desktop\\university\\4t-cuatrimestre-gia\\plh\\plh-wordembeddings\\wordembeddings\\lib\\site-packages (from nbformat>=4.2.0->-r requirements.txt (line 12)) (5.7.2)\n",
      "Requirement already satisfied: traitlets>=5.1 in c:\\users\\ralva\\desktop\\university\\4t-cuatrimestre-gia\\plh\\plh-wordembeddings\\wordembeddings\\lib\\site-packages (from nbformat>=4.2.0->-r requirements.txt (line 12)) (5.14.3)\n",
      "Requirement already satisfied: attrs>=22.2.0 in c:\\users\\ralva\\desktop\\university\\4t-cuatrimestre-gia\\plh\\plh-wordembeddings\\wordembeddings\\lib\\site-packages (from jsonschema>=2.6->nbformat>=4.2.0->-r requirements.txt (line 12)) (23.2.0)\n",
      "Requirement already satisfied: jsonschema-specifications>=2023.03.6 in c:\\users\\ralva\\desktop\\university\\4t-cuatrimestre-gia\\plh\\plh-wordembeddings\\wordembeddings\\lib\\site-packages (from jsonschema>=2.6->nbformat>=4.2.0->-r requirements.txt (line 12)) (2023.12.1)\n",
      "Requirement already satisfied: referencing>=0.28.4 in c:\\users\\ralva\\desktop\\university\\4t-cuatrimestre-gia\\plh\\plh-wordembeddings\\wordembeddings\\lib\\site-packages (from jsonschema>=2.6->nbformat>=4.2.0->-r requirements.txt (line 12)) (0.35.1)\n",
      "Requirement already satisfied: rpds-py>=0.7.1 in c:\\users\\ralva\\desktop\\university\\4t-cuatrimestre-gia\\plh\\plh-wordembeddings\\wordembeddings\\lib\\site-packages (from jsonschema>=2.6->nbformat>=4.2.0->-r requirements.txt (line 12)) (0.18.1)\n",
      "Requirement already satisfied: platformdirs>=2.5 in c:\\users\\ralva\\desktop\\university\\4t-cuatrimestre-gia\\plh\\plh-wordembeddings\\wordembeddings\\lib\\site-packages (from jupyter-core!=5.0.*,>=4.12->nbformat>=4.2.0->-r requirements.txt (line 12)) (4.2.2)\n",
      "Requirement already satisfied: pywin32>=300 in c:\\users\\ralva\\desktop\\university\\4t-cuatrimestre-gia\\plh\\plh-wordembeddings\\wordembeddings\\lib\\site-packages (from jupyter-core!=5.0.*,>=4.12->nbformat>=4.2.0->-r requirements.txt (line 12)) (306)\n",
      "Requirement already satisfied: language-data>=1.2 in c:\\users\\ralva\\desktop\\university\\4t-cuatrimestre-gia\\plh\\plh-wordembeddings\\wordembeddings\\lib\\site-packages (from langcodes<4.0.0,>=3.2.0->spacy->-r requirements.txt (line 3)) (1.2.0)\n",
      "Requirement already satisfied: intel-openmp==2021.* in c:\\users\\ralva\\desktop\\university\\4t-cuatrimestre-gia\\plh\\plh-wordembeddings\\wordembeddings\\lib\\site-packages (from mkl<=2021.4.0,>=2021.1.1->torch->-r requirements.txt (line 6)) (2021.4.0)\n",
      "Requirement already satisfied: tbb==2021.* in c:\\users\\ralva\\desktop\\university\\4t-cuatrimestre-gia\\plh\\plh-wordembeddings\\wordembeddings\\lib\\site-packages (from mkl<=2021.4.0,>=2021.1.1->torch->-r requirements.txt (line 6)) (2021.12.0)\n",
      "Requirement already satisfied: annotated-types>=0.4.0 in c:\\users\\ralva\\desktop\\university\\4t-cuatrimestre-gia\\plh\\plh-wordembeddings\\wordembeddings\\lib\\site-packages (from pydantic!=1.8,!=1.8.1,<3.0.0,>=1.7.4->spacy->-r requirements.txt (line 3)) (0.6.0)\n",
      "Requirement already satisfied: pydantic-core==2.18.2 in c:\\users\\ralva\\desktop\\university\\4t-cuatrimestre-gia\\plh\\plh-wordembeddings\\wordembeddings\\lib\\site-packages (from pydantic!=1.8,!=1.8.1,<3.0.0,>=1.7.4->spacy->-r requirements.txt (line 3)) (2.18.2)\n",
      "Requirement already satisfied: charset-normalizer<4,>=2 in c:\\users\\ralva\\desktop\\university\\4t-cuatrimestre-gia\\plh\\plh-wordembeddings\\wordembeddings\\lib\\site-packages (from requests<3,>=2.21.0->tensorflow-intel==2.16.1->tensorflow->-r requirements.txt (line 1)) (3.3.2)\n",
      "Requirement already satisfied: idna<4,>=2.5 in c:\\users\\ralva\\desktop\\university\\4t-cuatrimestre-gia\\plh\\plh-wordembeddings\\wordembeddings\\lib\\site-packages (from requests<3,>=2.21.0->tensorflow-intel==2.16.1->tensorflow->-r requirements.txt (line 1)) (3.7)\n",
      "Requirement already satisfied: urllib3<3,>=1.21.1 in c:\\users\\ralva\\desktop\\university\\4t-cuatrimestre-gia\\plh\\plh-wordembeddings\\wordembeddings\\lib\\site-packages (from requests<3,>=2.21.0->tensorflow-intel==2.16.1->tensorflow->-r requirements.txt (line 1)) (2.2.1)\n",
      "Requirement already satisfied: certifi>=2017.4.17 in c:\\users\\ralva\\desktop\\university\\4t-cuatrimestre-gia\\plh\\plh-wordembeddings\\wordembeddings\\lib\\site-packages (from requests<3,>=2.21.0->tensorflow-intel==2.16.1->tensorflow->-r requirements.txt (line 1)) (2024.2.2)\n",
      "Requirement already satisfied: blis<0.8.0,>=0.7.8 in c:\\users\\ralva\\desktop\\university\\4t-cuatrimestre-gia\\plh\\plh-wordembeddings\\wordembeddings\\lib\\site-packages (from thinc<8.3.0,>=8.2.2->spacy->-r requirements.txt (line 3)) (0.7.11)\n",
      "Requirement already satisfied: confection<1.0.0,>=0.0.1 in c:\\users\\ralva\\desktop\\university\\4t-cuatrimestre-gia\\plh\\plh-wordembeddings\\wordembeddings\\lib\\site-packages (from thinc<8.3.0,>=8.2.2->spacy->-r requirements.txt (line 3)) (0.1.4)\n",
      "Requirement already satisfied: colorama in c:\\users\\ralva\\desktop\\university\\4t-cuatrimestre-gia\\plh\\plh-wordembeddings\\wordembeddings\\lib\\site-packages (from tqdm<5.0.0,>=4.38.0->spacy->-r requirements.txt (line 3)) (0.4.6)\n",
      "Requirement already satisfied: click<9.0.0,>=7.1.1 in c:\\users\\ralva\\desktop\\university\\4t-cuatrimestre-gia\\plh\\plh-wordembeddings\\wordembeddings\\lib\\site-packages (from typer<0.10.0,>=0.3.0->spacy->-r requirements.txt (line 3)) (8.1.7)\n",
      "Requirement already satisfied: cloudpathlib<0.17.0,>=0.7.0 in c:\\users\\ralva\\desktop\\university\\4t-cuatrimestre-gia\\plh\\plh-wordembeddings\\wordembeddings\\lib\\site-packages (from weasel<0.4.0,>=0.1.0->spacy->-r requirements.txt (line 3)) (0.16.0)\n",
      "Requirement already satisfied: MarkupSafe>=2.0 in c:\\users\\ralva\\desktop\\university\\4t-cuatrimestre-gia\\plh\\plh-wordembeddings\\wordembeddings\\lib\\site-packages (from jinja2->spacy->-r requirements.txt (line 3)) (2.1.5)\n",
      "Requirement already satisfied: mpmath>=0.19 in c:\\users\\ralva\\desktop\\university\\4t-cuatrimestre-gia\\plh\\plh-wordembeddings\\wordembeddings\\lib\\site-packages (from sympy->torch->-r requirements.txt (line 6)) (1.3.0)\n",
      "Requirement already satisfied: wheel<1.0,>=0.23.0 in c:\\users\\ralva\\desktop\\university\\4t-cuatrimestre-gia\\plh\\plh-wordembeddings\\wordembeddings\\lib\\site-packages (from astunparse>=1.6.0->tensorflow-intel==2.16.1->tensorflow->-r requirements.txt (line 1)) (0.43.0)\n",
      "Requirement already satisfied: rich in c:\\users\\ralva\\desktop\\university\\4t-cuatrimestre-gia\\plh\\plh-wordembeddings\\wordembeddings\\lib\\site-packages (from keras>=3.0.0->tensorflow-intel==2.16.1->tensorflow->-r requirements.txt (line 1)) (13.7.1)\n",
      "Requirement already satisfied: namex in c:\\users\\ralva\\desktop\\university\\4t-cuatrimestre-gia\\plh\\plh-wordembeddings\\wordembeddings\\lib\\site-packages (from keras>=3.0.0->tensorflow-intel==2.16.1->tensorflow->-r requirements.txt (line 1)) (0.0.8)\n",
      "Requirement already satisfied: optree in c:\\users\\ralva\\desktop\\university\\4t-cuatrimestre-gia\\plh\\plh-wordembeddings\\wordembeddings\\lib\\site-packages (from keras>=3.0.0->tensorflow-intel==2.16.1->tensorflow->-r requirements.txt (line 1)) (0.11.0)\n",
      "Requirement already satisfied: marisa-trie>=0.7.7 in c:\\users\\ralva\\desktop\\university\\4t-cuatrimestre-gia\\plh\\plh-wordembeddings\\wordembeddings\\lib\\site-packages (from language-data>=1.2->langcodes<4.0.0,>=3.2.0->spacy->-r requirements.txt (line 3)) (1.1.1)\n",
      "Requirement already satisfied: markdown>=2.6.8 in c:\\users\\ralva\\desktop\\university\\4t-cuatrimestre-gia\\plh\\plh-wordembeddings\\wordembeddings\\lib\\site-packages (from tensorboard<2.17,>=2.16->tensorflow-intel==2.16.1->tensorflow->-r requirements.txt (line 1)) (3.6)\n",
      "Requirement already satisfied: tensorboard-data-server<0.8.0,>=0.7.0 in c:\\users\\ralva\\desktop\\university\\4t-cuatrimestre-gia\\plh\\plh-wordembeddings\\wordembeddings\\lib\\site-packages (from tensorboard<2.17,>=2.16->tensorflow-intel==2.16.1->tensorflow->-r requirements.txt (line 1)) (0.7.2)\n",
      "Requirement already satisfied: werkzeug>=1.0.1 in c:\\users\\ralva\\desktop\\university\\4t-cuatrimestre-gia\\plh\\plh-wordembeddings\\wordembeddings\\lib\\site-packages (from tensorboard<2.17,>=2.16->tensorflow-intel==2.16.1->tensorflow->-r requirements.txt (line 1)) (3.0.3)\n",
      "Requirement already satisfied: markdown-it-py>=2.2.0 in c:\\users\\ralva\\desktop\\university\\4t-cuatrimestre-gia\\plh\\plh-wordembeddings\\wordembeddings\\lib\\site-packages (from rich->keras>=3.0.0->tensorflow-intel==2.16.1->tensorflow->-r requirements.txt (line 1)) (3.0.0)\n",
      "Requirement already satisfied: pygments<3.0.0,>=2.13.0 in c:\\users\\ralva\\desktop\\university\\4t-cuatrimestre-gia\\plh\\plh-wordembeddings\\wordembeddings\\lib\\site-packages (from rich->keras>=3.0.0->tensorflow-intel==2.16.1->tensorflow->-r requirements.txt (line 1)) (2.18.0)\n",
      "Requirement already satisfied: mdurl~=0.1 in c:\\users\\ralva\\desktop\\university\\4t-cuatrimestre-gia\\plh\\plh-wordembeddings\\wordembeddings\\lib\\site-packages (from markdown-it-py>=2.2.0->rich->keras>=3.0.0->tensorflow-intel==2.16.1->tensorflow->-r requirements.txt (line 1)) (0.1.2)\n",
      "Building wheels for collected packages: fasttext\n",
      "  Building wheel for fasttext (setup.py): started\n",
      "  Building wheel for fasttext (setup.py): finished with status 'error'\n",
      "  Running setup.py clean for fasttext\n",
      "Failed to build fasttext\n",
      "Note: you may need to restart the kernel to use updated packages.\n"
     ]
    },
    {
     "name": "stderr",
     "output_type": "stream",
     "text": [
      "  error: subprocess-exited-with-error\n",
      "  \n",
      "  × python setup.py bdist_wheel did not run successfully.\n",
      "  │ exit code: 1\n",
      "  ╰─> [62 lines of output]\n",
      "      c:\\Users\\ralva\\Desktop\\University\\4t-Cuatrimestre-GIA\\PLH\\PLH-WordEmbeddings\\WordEmbeddings\\Lib\\site-packages\\setuptools\\dist.py:771: UserWarning: Usage of dash-separated 'description-file' will not be supported in future versions. Please use the underscore name 'description_file' instead\n",
      "        warnings.warn(\n",
      "      running bdist_wheel\n",
      "      running build\n",
      "      running build_py\n",
      "      creating build\n",
      "      creating build\\lib.win-amd64-cpython-311\n",
      "      creating build\\lib.win-amd64-cpython-311\\fasttext\n",
      "      copying python\\fasttext_module\\fasttext\\FastText.py -> build\\lib.win-amd64-cpython-311\\fasttext\n",
      "      copying python\\fasttext_module\\fasttext\\__init__.py -> build\\lib.win-amd64-cpython-311\\fasttext\n",
      "      creating build\\lib.win-amd64-cpython-311\\fasttext\\util\n",
      "      copying python\\fasttext_module\\fasttext\\util\\util.py -> build\\lib.win-amd64-cpython-311\\fasttext\\util\n",
      "      copying python\\fasttext_module\\fasttext\\util\\__init__.py -> build\\lib.win-amd64-cpython-311\\fasttext\\util\n",
      "      creating build\\lib.win-amd64-cpython-311\\fasttext\\tests\n",
      "      copying python\\fasttext_module\\fasttext\\tests\\test_configurations.py -> build\\lib.win-amd64-cpython-311\\fasttext\\tests\n",
      "      copying python\\fasttext_module\\fasttext\\tests\\test_script.py -> build\\lib.win-amd64-cpython-311\\fasttext\\tests\n",
      "      copying python\\fasttext_module\\fasttext\\tests\\__init__.py -> build\\lib.win-amd64-cpython-311\\fasttext\\tests\n",
      "      running build_ext\n",
      "      building 'fasttext_pybind' extension\n",
      "      creating build\\temp.win-amd64-cpython-311\n",
      "      creating build\\temp.win-amd64-cpython-311\\Release\n",
      "      creating build\\temp.win-amd64-cpython-311\\Release\\python\n",
      "      creating build\\temp.win-amd64-cpython-311\\Release\\python\\fasttext_module\n",
      "      creating build\\temp.win-amd64-cpython-311\\Release\\python\\fasttext_module\\fasttext\n",
      "      creating build\\temp.win-amd64-cpython-311\\Release\\python\\fasttext_module\\fasttext\\pybind\n",
      "      creating build\\temp.win-amd64-cpython-311\\Release\\src\n",
      "      \"C:\\Program Files (x86)\\Microsoft Visual Studio\\2022\\BuildTools\\VC\\Tools\\MSVC\\14.39.33519\\bin\\HostX86\\x64\\cl.exe\" /c /nologo /O2 /W3 /GL /DNDEBUG /MD -Ic:\\Users\\ralva\\Desktop\\University\\4t-Cuatrimestre-GIA\\PLH\\PLH-WordEmbeddings\\WordEmbeddings\\Lib\\site-packages\\pybind11\\include -Ic:\\Users\\ralva\\Desktop\\University\\4t-Cuatrimestre-GIA\\PLH\\PLH-WordEmbeddings\\WordEmbeddings\\Lib\\site-packages\\pybind11\\include -Isrc -Ic:\\Users\\ralva\\Desktop\\University\\4t-Cuatrimestre-GIA\\PLH\\PLH-WordEmbeddings\\WordEmbeddings\\include \"-IC:\\Program Files\\WindowsApps\\PythonSoftwareFoundation.Python.3.11_3.11.2544.0_x64__qbz5n2kfra8p0\\include\" \"-IC:\\Program Files\\WindowsApps\\PythonSoftwareFoundation.Python.3.11_3.11.2544.0_x64__qbz5n2kfra8p0\\Include\" \"-IC:\\Program Files (x86)\\Microsoft Visual Studio\\2022\\BuildTools\\VC\\Tools\\MSVC\\14.39.33519\\include\" \"-IC:\\Program Files (x86)\\Microsoft Visual Studio\\2022\\BuildTools\\VC\\Auxiliary\\VS\\include\" \"-IC:\\Program Files (x86)\\Windows Kits\\10\\include\\10.0.22621.0\\ucrt\" \"-IC:\\Program Files (x86)\\Windows Kits\\10\\\\include\\10.0.22621.0\\\\um\" \"-IC:\\Program Files (x86)\\Windows Kits\\10\\\\include\\10.0.22621.0\\\\shared\" \"-IC:\\Program Files (x86)\\Windows Kits\\10\\\\include\\10.0.22621.0\\\\winrt\" \"-IC:\\Program Files (x86)\\Windows Kits\\10\\\\include\\10.0.22621.0\\\\cppwinrt\" /EHsc /Tppython/fasttext_module/fasttext/pybind/fasttext_pybind.cc /Fobuild\\temp.win-amd64-cpython-311\\Release\\python/fasttext_module/fasttext/pybind/fasttext_pybind.obj /EHsc /DVERSION_INFO=\\\\\\\"0.9.2\\\\\\\"\n",
      "      fasttext_pybind.cc\n",
      "      python/fasttext_module/fasttext/pybind/fasttext_pybind.cc(171): error C2065: 'ssize_t': identificador no declarado\n",
      "      python/fasttext_module/fasttext/pybind/fasttext_pybind.cc(171): error C2672: 'pybind11::init': no se encontr¢ una funci¢n sobrecargada que coincida\n",
      "      c:\\Users\\ralva\\Desktop\\University\\4t-Cuatrimestre-GIA\\PLH\\PLH-WordEmbeddings\\WordEmbeddings\\Lib\\site-packages\\pybind11\\include\\pybind11\\pybind11.h(1991): note: puede ser 'Ret pybind11::init(CFunc &&,AFunc &&)'\n",
      "      python/fasttext_module/fasttext/pybind/fasttext_pybind.cc(171): note: \"pybind11::init\": argumento plantilla no v lido para \"CFunc\", tipo esperado\n",
      "      c:\\Users\\ralva\\Desktop\\University\\4t-Cuatrimestre-GIA\\PLH\\PLH-WordEmbeddings\\WordEmbeddings\\Lib\\site-packages\\pybind11\\include\\pybind11\\pybind11.h(1983): note: o       'Ret pybind11::init(Func &&)'\n",
      "      python/fasttext_module/fasttext/pybind/fasttext_pybind.cc(171): note: \"pybind11::init\": argumento plantilla no v lido para \"Func\", tipo esperado\n",
      "      c:\\Users\\ralva\\Desktop\\University\\4t-Cuatrimestre-GIA\\PLH\\PLH-WordEmbeddings\\WordEmbeddings\\Lib\\site-packages\\pybind11\\include\\pybind11\\pybind11.h(1971): note: o       'pybind11::detail::initimpl::constructor<Args...> pybind11::init(void)'\n",
      "      python/fasttext_module/fasttext/pybind/fasttext_pybind.cc(171): note: \"pybind11::init\": argumento plantilla no v lido para \"Args\", tipo esperado\n",
      "      python/fasttext_module/fasttext/pybind/fasttext_pybind.cc(171): error C2672: 'pybind11::class_<fasttext::Vector>::def': no se encontr¢ una funci¢n sobrecargada que coincida\n",
      "      c:\\Users\\ralva\\Desktop\\University\\4t-Cuatrimestre-GIA\\PLH\\PLH-WordEmbeddings\\WordEmbeddings\\Lib\\site-packages\\pybind11\\include\\pybind11\\pybind11.h(1690): note: puede ser 'pybind11::class_<fasttext::Vector> &pybind11::class_<fasttext::Vector>::def(pybind11::detail::initimpl::pickle_factory<Args...> &&,const Extra &...)'\n",
      "      c:\\Users\\ralva\\Desktop\\University\\4t-Cuatrimestre-GIA\\PLH\\PLH-WordEmbeddings\\WordEmbeddings\\Lib\\site-packages\\pybind11\\include\\pybind11\\pybind11.h(1684): note: o       'pybind11::class_<fasttext::Vector> &pybind11::class_<fasttext::Vector>::def(pybind11::detail::initimpl::factory<Args...> &&,const Extra &...)'\n",
      "      c:\\Users\\ralva\\Desktop\\University\\4t-Cuatrimestre-GIA\\PLH\\PLH-WordEmbeddings\\WordEmbeddings\\Lib\\site-packages\\pybind11\\include\\pybind11\\pybind11.h(1677): note: o       'pybind11::class_<fasttext::Vector> &pybind11::class_<fasttext::Vector>::def(const pybind11::detail::initimpl::alias_constructor<Args...> &,const Extra &...)'\n",
      "      c:\\Users\\ralva\\Desktop\\University\\4t-Cuatrimestre-GIA\\PLH\\PLH-WordEmbeddings\\WordEmbeddings\\Lib\\site-packages\\pybind11\\include\\pybind11\\pybind11.h(1670): note: o       'pybind11::class_<fasttext::Vector> &pybind11::class_<fasttext::Vector>::def(const pybind11::detail::initimpl::constructor<Args...> &,const Extra &...)'\n",
      "      c:\\Users\\ralva\\Desktop\\University\\4t-Cuatrimestre-GIA\\PLH\\PLH-WordEmbeddings\\WordEmbeddings\\Lib\\site-packages\\pybind11\\include\\pybind11\\pybind11.h(1658): note: o       'pybind11::class_<fasttext::Vector> &pybind11::class_<fasttext::Vector>::def(const T &,const Extra &...)'\n",
      "      c:\\Users\\ralva\\Desktop\\University\\4t-Cuatrimestre-GIA\\PLH\\PLH-WordEmbeddings\\WordEmbeddings\\Lib\\site-packages\\pybind11\\include\\pybind11\\pybind11.h(1633): note: o       'pybind11::class_<fasttext::Vector> &pybind11::class_<fasttext::Vector>::def(const char *,Func &&,const Extra &...)'\n",
      "      python/fasttext_module/fasttext/pybind/fasttext_pybind.cc(171): note: \"pybind11::class_<fasttext::Vector> &pybind11::class_<fasttext::Vector>::def(const char *,Func &&,const Extra &...)\": espera 3 argumentos - 1 proporcionado\n",
      "      python/fasttext_module/fasttext/pybind/fasttext_pybind.cc(185): error C2065: 'ssize_t': identificador no declarado\n",
      "      python/fasttext_module/fasttext/pybind/fasttext_pybind.cc(185): error C2065: 'ssize_t': identificador no declarado\n",
      "      python/fasttext_module/fasttext/pybind/fasttext_pybind.cc(185): error C2672: 'pybind11::init': no se encontr¢ una funci¢n sobrecargada que coincida\n",
      "      c:\\Users\\ralva\\Desktop\\University\\4t-Cuatrimestre-GIA\\PLH\\PLH-WordEmbeddings\\WordEmbeddings\\Lib\\site-packages\\pybind11\\include\\pybind11\\pybind11.h(1991): note: puede ser 'Ret pybind11::init(CFunc &&,AFunc &&)'\n",
      "      python/fasttext_module/fasttext/pybind/fasttext_pybind.cc(185): note: \"pybind11::init\": argumento plantilla no v lido para \"CFunc\", tipo esperado\n",
      "      c:\\Users\\ralva\\Desktop\\University\\4t-Cuatrimestre-GIA\\PLH\\PLH-WordEmbeddings\\WordEmbeddings\\Lib\\site-packages\\pybind11\\include\\pybind11\\pybind11.h(1983): note: o       'Ret pybind11::init(Func &&)'\n",
      "      python/fasttext_module/fasttext/pybind/fasttext_pybind.cc(185): note: \"pybind11::init\": argumento plantilla no v lido para \"Func\", tipo esperado\n",
      "      c:\\Users\\ralva\\Desktop\\University\\4t-Cuatrimestre-GIA\\PLH\\PLH-WordEmbeddings\\WordEmbeddings\\Lib\\site-packages\\pybind11\\include\\pybind11\\pybind11.h(1971): note: o       'pybind11::detail::initimpl::constructor<Args...> pybind11::init(void)'\n",
      "      python/fasttext_module/fasttext/pybind/fasttext_pybind.cc(185): note: \"pybind11::init\": argumento plantilla no v lido para \"Args\", tipo esperado\n",
      "      python/fasttext_module/fasttext/pybind/fasttext_pybind.cc(185): error C2672: 'pybind11::class_<fasttext::DenseMatrix>::def': no se encontr¢ una funci¢n sobrecargada que coincida\n",
      "      c:\\Users\\ralva\\Desktop\\University\\4t-Cuatrimestre-GIA\\PLH\\PLH-WordEmbeddings\\WordEmbeddings\\Lib\\site-packages\\pybind11\\include\\pybind11\\pybind11.h(1690): note: puede ser 'pybind11::class_<fasttext::DenseMatrix> &pybind11::class_<fasttext::DenseMatrix>::def(pybind11::detail::initimpl::pickle_factory<Args...> &&,const Extra &...)'\n",
      "      c:\\Users\\ralva\\Desktop\\University\\4t-Cuatrimestre-GIA\\PLH\\PLH-WordEmbeddings\\WordEmbeddings\\Lib\\site-packages\\pybind11\\include\\pybind11\\pybind11.h(1684): note: o       'pybind11::class_<fasttext::DenseMatrix> &pybind11::class_<fasttext::DenseMatrix>::def(pybind11::detail::initimpl::factory<Args...> &&,const Extra &...)'\n",
      "      c:\\Users\\ralva\\Desktop\\University\\4t-Cuatrimestre-GIA\\PLH\\PLH-WordEmbeddings\\WordEmbeddings\\Lib\\site-packages\\pybind11\\include\\pybind11\\pybind11.h(1677): note: o       'pybind11::class_<fasttext::DenseMatrix> &pybind11::class_<fasttext::DenseMatrix>::def(const pybind11::detail::initimpl::alias_constructor<Args...> &,const Extra &...)'\n",
      "      c:\\Users\\ralva\\Desktop\\University\\4t-Cuatrimestre-GIA\\PLH\\PLH-WordEmbeddings\\WordEmbeddings\\Lib\\site-packages\\pybind11\\include\\pybind11\\pybind11.h(1670): note: o       'pybind11::class_<fasttext::DenseMatrix> &pybind11::class_<fasttext::DenseMatrix>::def(const pybind11::detail::initimpl::constructor<Args...> &,const Extra &...)'\n",
      "      c:\\Users\\ralva\\Desktop\\University\\4t-Cuatrimestre-GIA\\PLH\\PLH-WordEmbeddings\\WordEmbeddings\\Lib\\site-packages\\pybind11\\include\\pybind11\\pybind11.h(1658): note: o       'pybind11::class_<fasttext::DenseMatrix> &pybind11::class_<fasttext::DenseMatrix>::def(const T &,const Extra &...)'\n",
      "      c:\\Users\\ralva\\Desktop\\University\\4t-Cuatrimestre-GIA\\PLH\\PLH-WordEmbeddings\\WordEmbeddings\\Lib\\site-packages\\pybind11\\include\\pybind11\\pybind11.h(1633): note: o       'pybind11::class_<fasttext::DenseMatrix> &pybind11::class_<fasttext::DenseMatrix>::def(const char *,Func &&,const Extra &...)'\n",
      "      python/fasttext_module/fasttext/pybind/fasttext_pybind.cc(185): note: \"pybind11::class_<fasttext::DenseMatrix> &pybind11::class_<fasttext::DenseMatrix>::def(const char *,Func &&,const Extra &...)\": espera 3 argumentos - 1 proporcionado\n",
      "      error: command 'C:\\\\Program Files (x86)\\\\Microsoft Visual Studio\\\\2022\\\\BuildTools\\\\VC\\\\Tools\\\\MSVC\\\\14.39.33519\\\\bin\\\\HostX86\\\\x64\\\\cl.exe' failed with exit code 2\n",
      "      [end of output]\n",
      "  \n",
      "  note: This error originates from a subprocess, and is likely not a problem with pip.\n",
      "  ERROR: Failed building wheel for fasttext\n",
      "ERROR: Could not build wheels for fasttext, which is required to install pyproject.toml-based projects\n"
     ]
    }
   ],
   "source": [
    "%pip install -r requirements.txt"
   ]
  },
  {
   "cell_type": "code",
   "execution_count": 2,
   "metadata": {},
   "outputs": [
    {
     "name": "stderr",
     "output_type": "stream",
     "text": [
      "[nltk_data] Downloading package punkt to\n",
      "[nltk_data]     C:\\Users\\ralva\\AppData\\Roaming\\nltk_data...\n",
      "[nltk_data]   Package punkt is already up-to-date!\n",
      "[nltk_data] Downloading package stopwords to\n",
      "[nltk_data]     C:\\Users\\ralva\\AppData\\Roaming\\nltk_data...\n",
      "[nltk_data]   Package stopwords is already up-to-date!\n"
     ]
    },
    {
     "name": "stdout",
     "output_type": "stream",
     "text": [
      "\u001b[38;5;2m✔ Download and installation successful\u001b[0m\n",
      "You can now load the package via spacy.load('ca_core_news_sm')\n",
      "\u001b[38;5;3m⚠ Restart to reload dependencies\u001b[0m\n",
      "If you are in a Jupyter or Colab notebook, you may need to restart Python in\n",
      "order to load all the package's dependencies. You can do this by selecting the\n",
      "'Restart kernel' or 'Restart runtime' option.\n"
     ]
    }
   ],
   "source": [
    "import tensorflow as tf\n",
    "import numpy as np\n",
    "import nltk\n",
    "import re\n",
    "import spacy\n",
    "from spacy.lang.ca.examples import sentences \n",
    "from gensim.models import word2vec\n",
    "import torch\n",
    "import plotly.express as px\n",
    "import pandas as pd\n",
    "from sklearn.manifold import TSNE\n",
    "\n",
    "import os\n",
    "os.environ[\"CUDA_DEVICE_ORDER\"] = \"PCI_BUS_ID\"\n",
    "os.environ[\"CUDA_VISIBLE_DEVICES\"] = \"0\"\n",
    "\n",
    "# Requisites\n",
    "from gensim.utils import simple_preprocess\n",
    "from gensim.corpora import Dictionary\n",
    "import numpy as np\n",
    "\n",
    "\n",
    "nltk.download('punkt')\n",
    "nltk.download('stopwords')\n",
    "\n",
    "spacy.cli.download(\"ca_core_news_sm\")\n"
   ]
  },
  {
   "cell_type": "markdown",
   "metadata": {},
   "source": [
    "## Entrenament model Word2Vec"
   ]
  },
  {
   "cell_type": "code",
   "execution_count": 3,
   "metadata": {},
   "outputs": [],
   "source": [
    "class Word2VecEmbedder:\n",
    "    def __init__(self, corpus_path, corpus_size, load_model=False, model_path=None):\n",
    "        if not load_model:\n",
    "            self.corpus_path = corpus_path\n",
    "            self.corpus_size = int(corpus_size * 2**30) if corpus_size else None  # Convert GB to bytes\n",
    "            self.corpus = self.get_corpus(corpus_path)\n",
    "            self.fit()\n",
    "        else:\n",
    "            try:\n",
    "                self.load(model_path)\n",
    "            except FileNotFoundError:\n",
    "                print(\"Model not found. Please check the path.\")\n",
    "                return\n",
    "\n",
    "    def get_corpus(self, corpus_path):\n",
    "        with open(corpus_path, 'r', encoding='utf-8') as f:\n",
    "            print(\"Reading corpus...\")\n",
    "            corpus = f.read(self.corpus_size) if self.corpus_size else f.read()\n",
    "            print(\"Preprocessing corpus...\")\n",
    "            corpus = self.preprocess(corpus)  # Preprocess the corpus and tokenize it\n",
    "        return corpus\n",
    "\n",
    "    def fit(self, window_size=15, vector_size=300, min_count=10, workers=8, epochs=10):\n",
    "        # Initialize the Word2Vec model with gensim\n",
    "        print(\"Initializing Word2Vec model...\")\n",
    "        self.model = word2vec.Word2Vec(sentences=[self.corpus], vector_size=vector_size, window=window_size, min_count=min_count, workers=workers, epochs=epochs)\n",
    "        print(\"Model training completed.\")\n",
    "\n",
    "    def save(self, model_path):\n",
    "        # Save the model\n",
    "        self.model.save(model_path)\n",
    "\n",
    "    def load(self, model_path):\n",
    "        # Load the model\n",
    "        self.model = word2vec.Word2Vec.load(model_path)\n",
    "\n",
    "    def preprocess(self, corpus):\n",
    "        # Lowercase the corpus\n",
    "        print(\"Lowercasing...\")\n",
    "        corpus = corpus.lower()\n",
    "        \n",
    "        # Remove special characters\n",
    "        print(\"Removing special characters...\")\n",
    "        corpus = re.sub(r'[^a-záàéèíìóòúùñüç\\s]', ' ', corpus)\n",
    "        \n",
    "        # Tokenize the corpus\n",
    "        print(\"Tokenizing...\")\n",
    "        corpus = nltk.word_tokenize(corpus)\n",
    "        \n",
    "        # Eliminate last token (probably incomplete word)\n",
    "        corpus = corpus[:-1]\n",
    "        \n",
    "        return corpus\n",
    "\n",
    "    def get_embedding(self, word):\n",
    "        # Get the embedding of a word\n",
    "        try:\n",
    "            return self.model.wv[word]\n",
    "        except KeyError:\n",
    "            print(f\"Word '{word}' not in vocabulary.\")\n",
    "            return None\n",
    "\n",
    "    def print_vocab(self):\n",
    "        print(\"Vocabulary:\", list(self.model.wv.index_to_key))\n",
    "        \n",
    "    "
   ]
  },
  {
   "cell_type": "markdown",
   "metadata": {},
   "source": [
    "### 1. Model amb 100MB de dades"
   ]
  },
  {
   "cell_type": "code",
   "execution_count": 4,
   "metadata": {},
   "outputs": [
    {
     "name": "stdout",
     "output_type": "stream",
     "text": [
      "Reading corpus...\n",
      "Preprocessing corpus...\n",
      "Lowercasing...\n",
      "Removing special characters...\n",
      "Tokenizing...\n",
      "Initializing Word2Vec model...\n",
      "Model training completed.\n"
     ]
    }
   ],
   "source": [
    "Word2Vec_model = Word2VecEmbedder('corpus\\catalan_general_crawling.txt', 0.1)"
   ]
  },
  {
   "cell_type": "code",
   "execution_count": 5,
   "metadata": {},
   "outputs": [],
   "source": [
    "Word2Vec_model.save('models/word2vec_model.bin')"
   ]
  },
  {
   "cell_type": "code",
   "execution_count": 6,
   "metadata": {},
   "outputs": [
    {
     "name": "stdout",
     "output_type": "stream",
     "text": [
      "Vocabulary: ['de', 'la', 'i', 'a', 'que', 'el', 'l', 'en', 'd', 'per', 'els', 'del', 'les', 'un', 'amb', 'una', 'va', 'ha', 'no', 'al', 'es', 'és', 'més', 'com', 'dels', 's', 'aquest', 'hi', 'si', 'o', 'se', 'tot', 'aquesta', 'han', 'fer', 'molt', 'però', 'ser', 'també', 'ja', 'li', 'seu', 'als', 'seva', 'n', 'cap', 'seus', 't', 'ens', 'pàgina', 'veure', 'sobre', 'catalunya', 'pel', 'després', 'estat', 'ho', 'perquè', 'varen', 'entre', 'on', 'fet', 'et', 'català', 'havia', 'lleida', 'tots', 'quan', 'qui', 'són', 'ara', 'm', 'van', 'des', 'fins', 'hem', 'això', 'era', 'partit', 'dia', 'fa', 'anys', 'dir', 'sempre', 'diputació', 'barcelona', 'què', 'part', 'altres', 'només', 'contra', 'durant', 'dos', 'sense', 'equip', 'any', 'voltants', 'interessa', 'recomanem', 'informació', 'primer', 'col', 'em', 'visitis', 'lloc', 'gran', 'hitler', 'tant', 'restaurant', 'cada', 'ni', 'president', 'encara', 'persones', 'e', 'té', 'així', 'estan', 'pot', 'està', 'llengua', 'mateix', 'vam', 'grup', 'aquests', 'bé', 'uns', 'primera', 'us', 'lingüística', 'tenir', 'general', 'final', 'temps', 'pots', 'manera', 'web', 'davant', 'pels', 'catalana', 'totes', 'sant', 'govern', 'ciutat', 'joan', 'poder', 'cop', 'nou', 'diferents', 'altre', 'anar', 'segons', 'casa', 'permet', 'teva', 'aquestes', 'ihc', 'abans', 'tres', 'he', 'prop', 'cas', 'educació', 'tota', 'cal', 'setmana', 'consorci', 'normalització', 'seguit', 'treball', 'vaig', 'seves', 'dues', 'altra', 'donar', 'font', 'organitzar', 'vida', 'projecte', 'destacat', 'aquell', 'dies', 'haver', 'guerra', 'món', 'avall', 'igualada', 'millor', 'estava', 'cases', 'gent', 'activitats', 'mapa', 'qual', 'rural', 'camps', 'properes', 'passat', 'centre', 'serà', 'havien', 'podràs', 'jo', 'tal', 'doncs', 'avui', 'reproducció', 'noticies', 'nivell', 'p', 'aquí', 'programa', 'tan', 'cat', 'rurals', 'escapada', 'moment', 'arribar', 'canvi', 'copyright', 'citi', 'mentre', 'jugadors', 'mai', 'dins', 'servei', 'segona', 'forma', 'electrònica', 'comunicació', 'ell', 'pas', 'tenen', 'adreça', 'activitat', 'jordi', 'tenia', 'mes', 'necessaris', 'curs', 'alguns', 'suport', 'molts', 'partir', 'nova', 'banda', 'ells', 'nostre', 'alumnes', 'llibre', 'posar', 'objectiu', 'començar', 'me', 'poden', 'acte', 'lo', 'alemanya', 'marcats', 'través', 'club', 'publicarà', 'tornar', 'temporada', 'àrea', 'punt', 'ajuntament', 'nord', 'acabar', 'país', 'diu', 'res', 'sol', 'vol', 'unes', 'cosa', 'quatre', 'ben', 'sigui', 'dissabte', 'social', 'hora', 'estar', 'parlar', 'sessió', 'dona', 'classe', 'los', 'bona', 'bon', 'política', 'dades', 'generalitat', 'hores', 'poc', 'punts', 'tothom', 'fent', 'serveis', 'inici', 'eren', 'lliga', 'mica', 'presentació', 'catalans', 'llavors', 'marc', 'h', 'prou', 'important', 'treballar', 'minuts', 'reñé', 'història', 'alemanys', 'joc', 'meu', 'clar', 'segon', 'saber', 'espanya', 'nostra', 'pla', 'utilitza', 'trobar', 'grups', 'camp', 'xarxa', 'partits', 'qualsevol', 'josep', 'feina', 'menys', 'nom', 'aquella', 'cultura', 'euros', 'teu', 'milions', 'espai', 'dijous', 'poble', 'conèixer', 'moltes', 'deixar', 'ús', 'tenim', 'força', 'fan', 'llei', 'escola', 'von', 'situació', 'mort', 'nit', 'ministre', 'universitat', 'passar', 'seguir', 'sentit', 'finalment', 'vegada', 'coses', 'potser', 'massa', 'relació', 'tingut', 'exemple', 'director', 'noves', 'fora', 'grans', 'acord', 'aprenentatge', 'aconseguir', 'sota', 'aquells', 'correu', 'mateixa', 'territori', 'pista', 'explicar', 'te', 'www', 'participació', 'edició', 'jornada', 'dit', 'cos', 'dimarts', 'feia', 'tu', 'internacional', 'terra', 'nostres', 'públic', 'quals', 'utilitzar', 'iniciatives', 'salut', 'sistema', 'comes', 'gràcies', 'acabat', 'procés', 'tipus', 'hauria', 'exercicis', 'nosaltres', 'pa', 'podeu', 'persona', 'gestió', 'ne', 'porta', 'paraules', 'jugar', 've', 'terme', 'parlament', 'nos', 'il', 'estudis', 'rebre', 'divendres', 'laboració', 'tarda', 'entrenament', 'sinó', 'allò', 'alta', 'debats', 'copa', 'pogut', 'meva', 'quedar', 'matí', 'exèrcit', 'exercici', 'home', 'projectes', 'dilluns', 'local', 'qualitat', 'gol', 'alemany', 'jueus', 'cara', 'podem', 'sí', 'c', 'empresa', 'formació', 'resultats', 'crec', 'mundial', 'dret', 'maria', 'possible', 'comissió', 'família', 'jaume', 'transformar', 'societat', 'algunes', 'últim', 'maig', 'tram', 'comú', 'europa', 'prova', 'heu', 'victòria', 'volia', 'llegir', 'goebbels', 'estudi', 'entrada', 'dimecres', 'espanyol', 'galetes', 'fundació', 'total', 'lectura', 'diversos', 'direcció', 'dones', 'abril', 'diumenge', 'demanar', 'som', 'cnl', 'llarg', 'sobretot', 'fritz', 'octubre', 'març', 'editada', 'alguna', 'majoria', 'defensa', 'voluntariat', 'proposta', 'juny', 'cursos', 'quina', 'socials', 'veu', 'entitats', 'resta', 'gols', 'b', 'cinc', 'sortir', 'aigua', 'text', 'següents', 'consell', 'zona', 'vist', 'equips', 'participar', 'homes', 'mig', 'fos', 'companys', 'setembre', 'entrar', 'blog', 'sembla', 'millorar', 'recerques', 'nacional', 'molta', 'futur', 'igualadins', 'novembre', 'sos', 'nous', 'haurà', 'desenvolupament', 'problemes', 'recerca', 'selecció', 'centres', 'has', 'seria', 'resultat', 'hom', 'població', 'imatge', 'aprendre', 'falta', 'obra', 'quin', 'diverses', 'alcalde', 'mitjans', 'ningú', 'presentar', 'article', 'barça', 'compte', 'premsa', 'escriure', 'etc', 'impulsem', 'empreses', 'escrit', 'febrer', 'ns', 'racó', 'carrer', 'associació', 'polítiques', 'sóc', 'recursos', 'costat', 'guanyar', 'estem', 'personal', 'car', 'campanya', 'pública', 'primers', 'ciu', 'podria', 'acció', 'ple', 'participants', 'respondre', 'estaven', 'g', 'comentari', 'línia', 'vegades', 'càrrec', 'tema', 'sala', 'test', 'premi', 'organització', 'servir', 'berlín', 'alt', 'mà', 'model', 'unitat', 'ella', 'departament', 'carles', 'base', 'joves', 'administració', 'unió', 'gens', 'instal', 'membres', 'tard', 'donat', 'actual', 'institut', 'mesos', 'ràdio', 'proper', 'pare', 'farà', 'àmbit', 'podia', 'resposta', 'arribat', 'volem', 'tracta', 'diputaciolleida', 'intentar', 'atenció', 'ciutadans', 'estudiants', 'cert', 'sector', 'trobada', 'hagi', 'reunió', 'ls', 'reus', 'electrònic', 'juliol', 'mal', 'comentaris', 'tinc', 'mi', 'anat', 'visita', 'algun', 'gener', 'viure', 'deia', 'pensar', 'realitat', 'palau', 'madrid', 'municipal', 'alhora', 'estic', 'major', 'capacitat', 'desembre', 'esport', 'sap', 'explicat', 'sentir', 'proinosa', 'mas', 'festa', 'debat', 'experiència', 'girona', 'anterior', 'anava', 'tècnic', 'tercer', 'diari', 'arlequinats', 'entorn', 'paper', 'pràctica', 'motiu', 'coneixement', 'tv', 'màxim', 'especialment', 'deu', 'estiu', 'psc', 'david', 'sessions', 'següent', 'perdre', 'camí', 'santa', 'ajudar', 'sort', 'entitat', 'albert', 'adolf', 'àngela', 'tindrà', 'exposició', 'jugador', 'ok', 'petit', 'únic', 'gairebé', 'mare', 'restaurante', 'mitjançant', 'veritat', 'mar', 'locals', 'crear', 'plaça', 'cultural', 'fira', 'decidir', 'objectius', 'front', 'mantenir', 'casos', 'professor', 'començat', 'pau', 'especial', 'atac', 'marxa', 'vos', 'vull', 'frança', 'passa', 'erc', 'continuar', 'portar', 'tornat', 'llibres', 'sud', 'moments', 'oficial', 'líder', 'últims', 'èxit', 'presència', 'dur', 'creació', 'drets', 'assignatura', 'biblioteca', 'condicions', 'competició', 'respecte', 'creaf', 'fàcil', 'eleccions', 'ulls', 'economia', 'principals', 'continuació', 'ss', 'elements', 'obres', 'enviar', 'tret', 'pràctiques', 'nota', 'hagut', 'llista', 'cursa', 'arreu', 'capital', 'sovint', 'realitzar', 'turisme', 'vídeo', 'tenien', 'aconseguit', 'jocs', 'aula', 'millors', 'dic', 'cancel', 'títol', 'by', 'econòmica', 'reunir', 'seguretat', 'hoquei', 'algú', 'sent', 'taula', 'hagués', 'participat', 'afegit', 'fons', 'actes', 'aspectes', 'damunt', 'mesures', 'federació', 'vols', 'agrada', 'principal', 'espais', 'idea', 'treure', 'agafar', 'dictador', 'ésser', 'vic', 'mostra', 'baix', 'francesc', 'volen', 'referència', 'morir', 'accés', 'cel', 'forces', 'segur', 'nens', 'bons', 'noia', 'millora', 'favor', 'famílies', 'rosa', 'fi', 'malgrat', 'soldats', 'actualment', 'control', 'celebrar', 'gaire', 'ordre', 'edu', 'soviètics', 'nombre', 'avaluació', 'paraula', 'sis', 'tarragona', 'son', 'esquerra', 'productes', 'feu', 'professional', 'iniciativa', 'problema', 'superior', 'independència', 'última', 'estats', 'nazis', 'fou', 'podrà', 'teniu', 'gaudir', 'amics', 'treballadors', 'diputat', 'tampoc', 'format', 'rebut', 'blogs', 'xhtml', 'sigut', 'comarques', 'sé', 'r', 'fets', 'fem', 'voltant', 'conseller', 'ferran', 'espanyola', 'pp', 'aquelles', 'darrera', 'present', 'europea', 'pugui', 'posat', 'categoria', 'valor', 'fill', 'municipis', 'noi', 'ex', 'membre', 'catalanes', 'intervenció', 'educatiu', 'ramon', 'units', 'ton', 'endavant', 'número', 'comunitat', 'professionals', 'central', 'propi', 'accions', 'viu', 'alumnat', 'propostes', 'aviat', 'vilanova', 'hosted', 'mans', 'arriba', 'jove', 'difícil', 'porter', 'just', 'oriol', 'clau', 'canviar', 'treballant', 'por', 'explica', 'val', 'evitar', 'llengües', 'sortida', 'sa', 'seran', 'grau', 'dirigir', 'canvis', 'barri', 'ganes', 'segle', 'via', 'origen', 'costa', 'parelles', 'conjunt', 'parla', 'període', 'coneixements', 'cpnl', 'metres', 'castellà', 'vostre', 'preparar', 'importància', 'popular', 'discurs', 'proves', 'troba', 'natural', 'música', 'opinió', 'rei', 'igual', 'informe', 'tropes', 'creu', 'responsable', 'quilòmetres', 'rival', 'bàsic', 'interior', 'novel', 'petits', 'moviment', 'minut', 'principi', 'ajuda', 'vxl', 'operació', 'néixer', 'meus', 'juntament', 'compromís', 'enguany', 'relacions', 'oberta', 'diners', 'municipi', 'lar', 'carta', 'promoció', 'anàlisi', 'allà', 'è', 'periodista', 'setmanes', 'entendre', 'agost', 'material', 'policia', 'importants', 'bola', 'corporació', 'oportunitat', 'volta', 'llibertat', 'urgell', 'na', 'infants', 'interès', 'puguin', 'idees', 'sols', 'polítics', 'actualitat', 'fills', 'tasca', 'lliure', 'temes', 'llocs', 'civil', 'tècnics', 'campionat', 'diuen', 'document', 'notícia', 'bar', 'ering', 'físic', 'miquel', 'reich', 'representació', 'ahir', 'treballat', 'alimentació', 'desenvolupar', 'ofereix', 'públics', 'petita', 'inicial', 'perdut', 'producció', 'fort', 'nutrició', 'única', 'meitat', 'novetats', 'eines', 'reduir', 'queda', 'qüestió', 'mil', 'ts', 'da', 'llurs', 'presentat', 'sèrie', 'antoni', 'mercat', 'classes', 'pares', 'ajuntaments', 'mena', 'aprofitar', 'parlamentari', 'espècies', 'parella', 'edifici', 'baixa', 'pujol', 'educativa', 'voluntat', 'su', 'obrir', 'infantil', 'dóna', 'actuació', 'quedat', 'recuperació', 'física', 'intel', 'xavier', 'nivells', 'organitzat', 'mirar', 'britànics', 'continguts', 'vista', 'enllaç', 'lluny', 'recuperar', 'penal', 'república', 'militar', 'oficina', 'baliu', 'riu', 'resolució', 'plataforma', 'demana', 'pocs', 'darrere', 'receptes', 'divisió', 'enllà', 'perque', 'estructura', 'institucions', 'comandant', 'vicepresident', 'pròpia', 'mitja', 'ciutats', 'preguntes', 're', 'americans', 'esforç', 'oportunitats', 'innovació', 'data', 'marcador', 'podran', 'règim', 'ets', 'educatius', 'bargalló', 'parc', 'europeu', 'rep', 'buscar', 'possibilitat', 'concentració', 'deures', 'oral', 'teatre', 'diferent', 'sabia', 'crisi', 'hospital', 'visitar', 'fabra', 'polític', 'quines', 'concurs', 'època', 'llum', 'prendre', 'autor', 'plantilla', 'quins', 'obtenir', 'decisió', 'caràcter', 'posició', 'necessitats', 'estudiant', 'tècnica', 'tanmateix', 'bo', 'seguiment', 'digital', 'tercera', 'terres', 'notícies', 'obert', 'avançar', 'presidenta', 'ambient', 'necessitat', 'pregunta', 'foto', 'considera', 'finals', 'viatge', 'preguntar', 'aplicació', 'zones', 'actuacions', 'oferta', 'mateixos', 'secretari', 'escoles', 'sou', 'farem', 'consultar', 'edat', 'celebració', 'siguin', 'set', 'textos', 'deixat', 'recordar', 'bones', 'nadal', 'mesura', 'contacte', 'preparació', 'licitud', 'vostra', 'compartir', 'martí', 'endemà', 'llur', 'ordenar', 'oferir', 'itàlia', 'posa', 'econòmic', 'premis', 'global', 'déu', 'televisió', 'lacions', 'lópez', 'ciutadania', 'comença', 'consulta', 'recorregut', 'lingüístiques', 'construcció', 'convertir', 'fc', 'classificació', 'usuaris', 'precisament', 'torna', 'cor', 'formar', 'expressió', 'voleu', 'humans', 'voluntaris', 'fase', 'sistemes', 'celebrarà', 'vespre', 'funció', 'pàg', 'pere', 'comarca', 'menjar', 'matèria', 'mínim', 'hotel', 'teus', 'roda', 'tens', 'practicar', 'lluís', 'pensant', 'himmler', 'diferència', 'vallès', 'muntanya', 'escoltar', 'informar', 'compta', 'construir', 'foc', 'raó', 'vila', 'culturals', 'formes', 'quants', 'pitjor', 'voler', 'assistència', 'darrers', 'darrer', 'treballs', 'valors', 'públiques', 'generals', 'imatges', 'saps', 'rai', 'merda', 'atacar', 'puc', 'ocupació', 'reptes', 'espera', 'municipals', 'tranquil', 'cicle', 'caixa', 'marxar', 'pronoms', 'trobat', 'lluita', 'patir', 'estudiar', 'josé', 'anglès', 'defensar', 'ciències', 'assegurar', 'memòria', 'investigació', 'primeres', 'causa', 'caps', 'nazi', 'autors', 'característiques', 'superar', 'elles', 'directe', 'conveni', 'competències', 'mitjana', 'teoria', 'comentar', 'cinema', 'reconeixement', 'entrades', 'entrevista', 'comarcal', 'pensava', 'jugat', 'demà', 'totalment', 'francès', 'calendari', 'junts', 'arribada', 'experiències', 'audiència', 'hauran', 'ministeri', 'faran', 'diversitat', 'vuit', 'decidit', 'articles', 'futbol', 'km', 'càceres', 'contingut', 'comptat', 'aniversari', 'entrenador', 'segurament', 'entrenaments', 'congrés', 'efectes', 'confiança', 'programes', 'representants', 'llobregat', 'arxiu', 'comptes', 'clubs', 'segueix', 'afegir', 'seua', 'carretera', 'carrers', 'cambra', 'establiments', 'conegut', 'estona', 'dreta', 'funcions', 'lluitar', 'xarxes', 'tractament', 'hagin', 'risc', 'efecte', 'examen', 'caure', 'aire', 'sergi', 'processos', 'acaba', 'necessari', 'haurien', 'doble', 'aplicar', 'can', 'soviètica', 'quart', 'vives', 'institució', 'f', 'opció', 'habitual', 'accedir', 'velocitat', 'migdia', 'lectiu', 'munic', 'monclús', 'alemanyes', 'passada', 'funcionament', 'conferència', 'eina', 'art', 'ciència', 'assistir', 'verbs', 'agents', 'esports', 'aleshores', 'vostres', 'museu', 'volgut', 'usuari', 'gènere', 'descans', 'oficials', 'veig', 'evolució', 'termini', 'mon', 'escolar', 'mitjà', 'havíem', 'hc', 'principis', 'espanyols', 'llarga', 'oli', 'san', 'quarts', 'compareixença', 'situacions', 'impacte', 'lusió', 'intensitat', 'aprovat', 'reflexió', 'pont', 'tècniques', 'navarro', 'capaç', 'transport', 'oriental', 'dient', 'pagar', 'lloret', 'delegació', 'busquets', 'dalt', 'plena', 'presó', 'garantir', 'veia', 'iei', 'natura', 'ruta', 'recull', 'cops', 'comprar', 'mossos', 'real', 'acompanyat', 'meua', 'roba', 'dubte', 'amic', 'protecció', 'tecnocampus', 'directora', 'consum', 'j', 'mataró', 'amor', 'documents', 'tags', 'bloc', 'deixa', 'comerç', 'marca', 'porteria', 'conversa', 'pes', 'preu', 'capità', 'liceo', 'justícia', 'speer', 'tenint', 'permetre', 'directament', 'cèl', 'categories', 'clara', 'clic', 'ocupar', 'venir', 'presenta', 'diputats', 'junta', 'sabem', 'culpa', 'guanyat', 'aliats', 'pujar', 'assegurat', 'promoure', 'trobareu', 'batalla', 'disseny', 'tancar', 'x', 'recordeu', 'línies', 'nes', 'gratu', 'senyor', 'blanc', 'vosaltres', 'organitza', 'indicat', 'aliments', 'ans', 'butlletí', 'ordres', 'empat', 'cul', 'presoners', 'recordat', 'individual', 'revista', 'marcat', 'peu', 'excel', 'roger', 'convocatòria', 'electoral', 'cup', 'alumne', 'càrrecs', 'administracions', 'registre', 'lícula', 'est', 'inclou', 'mala', 'realment', 'elagi', 'violència', 'igualadí', 'derrota', 'opcions', 'poblacions', 'greu', 'trobem', 'consells', 'resistència', 'heinrich', 'sopar', 'jornades', 'previst', 'pobles', 'mentrestant', 'brossa', 'parlant', 'ritme', 'portaveu', 'destacar', 'feta', 'feien', 'ensenyament', 'repte', 'bases', 'animals', 'faci', 'resoldre', 'organitzada', 'parts', 'figura', 'bretanya', 'pavelló', 'mostrar', 'musculació', 'apartat', 'distància', 'sang', 'pacte', 'ocasió', 'color', 'antic', 'barnard', 'noms', 'climàtic', 'iniciar', 'llegit', 'gràcia', 'tancat', 'q', 'recorda', 'crida', 'veus', 'parlat', 'exterior', 'voltregà', 'bofill', 'missatge', 'responsabilitat', 'tingui', 'podien', 'aprovar', 'filla', 'tasques', 'estació', 'ra', 'certificat', 'establir', 'las', 'demostrar', 'avions', 'u', 'parell', 'malament', 'context', 'laboral', 'celebrat', 'solució', 'solucions', 'marcar', 'ràpidament', 'internet', 'estatal', 'semblava', 'suposa', 'demanat', 'companyia', 'energia', 'cotxe', 'creixement', 'sortit', 'trimestre', 'demarcació', 'tants', 'circuit', 'església', 'pell', 'dubtes', 'contrari', 'vots', 'seguida', 'enric', 'escriptor', 'patronat', 'ca', 'aturar', 'agra', 'proposició', 'màxima', 'fes', 'illa', 'vella', 'vacances', 'versió', 'boscos', 'laporta', 'quarter', 'honor', 'twitter', 'troben', 'montserrat', 'materials', 'publicat', 'tocar', 'aixecar', 'pràcticament', 'cers', 'territorial', 'tancats', 'quantitat', 'conceptes', 'pretén', 'últimes', 'frases', 'penso', 'trobava', 'utilitzant', 'finançament', 'britànic', 'patrimoni', 'y', 'àrbitres', 'qüestions', 'treballa', 'pal', 'màster', 'cançó', 'taller', 'amunt', 'vas', 'doctor', 'pompeu', 'formulari', 'inscripció', 'morts', 'fd', 'tinguin', 'decisions', 'internacionals', 'pirineu', 'creure', 'cuina', 'anna', 'ràpid', 'curt', 'finalitat', 'creia', 'frase', 'donen', 'medi', 'àmbits', 'andreu', 'vau', 'barris', 'augment', 'facilitar', 'cridar', 'ull', 'tren', 'esperar', 'fomentar', 'anem', 'produ', 'disposició', 'assemblea', 'models', 'faig', 'possibles', 'interessos', 'corresponent', 'tindran', 'passant', 'interessant', 'blanes', 'podrien', 'formen', 'agència', 'volien', 'dinar', 'pressupost', 'hàbits', 'analitzar', 'campió', 'dificultats', 'visió', 'situat', 'canal', 'literatura', 'americà', 'celebra', 'tribunal', 'signat', 'educatives', 'representant', 'inauguració', 'comunicar', 'negre', 'igualtat', 'tat', 'jugada', 'complicat', 'estratègia', 'manifestat', 'saludable', 'monbus', 'milers', 'comunicat', 'obertes', 'juga', 'lules', 'descobrir', 'fonts', 'afirmar', 'assistents', 'vendrell', 'enlloc', 'personatges', 'intenció', 'trencar', 'acceptar', 'banc', 'prote', 'occidental', 'estil', 'oest', 'qualque', 'marta', 'ofensiva', 'soviètic', 'diàleg', 'professora', 'polònia', 'v', 'tirar', 'eix', 'tanta', 'anaven', 'etiquetes', 'vint', 'nois', 'anteriors', 'poesia', 'the', 'agradaria', 'ensems', 'presents', 'mòbil', 'produir', 'concepte', 'planeta', 'regió', 'històric', 'unitats', 'portes', 'italià', 'plats', 'concretament', 'humà', 'lliurament', 'allí', 'guia', 'familiar', 'hormipresa', 'socialistes', 'afirmat', 'trobades', 'perill', 'visitants', 'propera', 'lletres', 'organisme', 'nsdap', 'resum', 'assistit', 'militars', 'bàsics', 'cau', 'artur', 'posteriorment', 'continu', 'criteris', 'ah', 'difusió', 'concret', 'publicar', 'seguint', 'conseqüència', 'producte', 'fernàndez', 'afegeix', 'possibilitats', 'aprenents', 'publicació', 'bcomú', 'naturals', 'assolir', 'humana', 'cadascú', 'transformació', 'festes', 'lent', 'queden', 'moviments', 'declaracions', 'personals', 'espècie', 'responsables', 'verb', 'dinàmica', 'pallars', 'port', 'boca', 'saludables', 'veient', 'or', 'ocasions', 'mariscal', 'comitè', 'declaració', 'ciclisme', 'breu', 'aoc', 'relacionades', 'mussolini', 'plans', 'escala', 'intermedi', 'acollit', 'marit', 'donant', 'toca', 'estarà', 'retorn', 'vall', 'cervell', 'company', 'tecnologia', 'esportiva', 'inscripcions', 'continua', 'pròxim', 'jugarà', 'democràcia', 'creat', 'parís', 'creus', 'documental', 'cugat', 'manca', 'content', 'reconèixer', 'documentació', 'abast', 'espero', 'esportiu', 'platja', 'tallers', 'ferro', 'laboradors', 'castell', 'actuals', 'collons', 'propis', 'noies', 'malaltia', 'tenerife', 'pensament', 'ponència', 'organitzacions', 'anunciat', 'identificar', 'estigui', 'pressió', 'joseph', 'afrontar', 'augmentar', 'aran', 'plegat', 'preparat', 'pena', 'realització', 'guàrdia', 'aposta', 'capdavall', 'terrassa', 'http', 'ii', 'definitiva', 'hermann', 'propaganda', 'silenci', 'hospitalet', 'agradat', 'mirant', 'etapa', 'escenari', 'vicepresidenta', 'femení', 'espectacle', 'objecte', 'afers', 'avançat', 'escrita', 'solidaritat', 'llit', 'gerard', 'esperem', 'aspecte', 'carrera', 'francesos', 'portava', 'periodistes', 'blaugrana', 'pedra', 'presidència', 'relacionats', 'pis', 'tradicional', 'generar', 'elaboració', 'experts', 'remat', 'votar', 'organismes', 'conflicte', 'institucional', 'prat', 'inversió', 'fotografia', 'quant', 'haurem', 'forta', 'afirma', 'carn', 'dedicat', 'indústria', 'conjuntament', 'normativa', 'foment', 'eliminar', 'comptar', 'ajuts', 'sub', 'germà', 'salvador', 'propers', 'blanca', 'factors', 'fetes', 'duran', 'normal', 'comunitats', 'coll', 'expressar', 'directa', 'estratègies', 'armes', 'assenyalat', 'plantes', 'errors', 'tecnologies', 'enrere', 'districte', 'candidatura', 'cadascun', 'esperit', 'júnior', 'associacions', 'lesió', 'mail', 'sorpresa', 'habilitats', 'error', 'antiga', 'roure', 'newsletter', 'ivan', 'cadena', 'teresa', 'àfrica', 'bars', 'diaris', 'sensació', 'diferències', 'vilafranca', 'manel', 'tra', 'referent', 'cent', 'cita', 'córrer', 'vulgui', 'festival', 'negoci', 'comprensió', 'disposat', 'regidor', 'serra', 'male', 'manté', 'planta', 'positiu', 'surt', 'impossible', 'trets', 'viuen', 'ment', 'estàs', 'hivern', 'jugant', 'esdeveniment', 'cancelleria', 'co', 'malalties', 'poques', 'certa', 'soc', 'parlem', 'horari', 'recollir', 'matinada', 'núria', 'pol', 'declarar', 'empresarial', 'missió', 'autoritats', 'diada', 'vell', 'mirada', 'dani', 'joventut', 'full', 'enviat', 'avió', 'bastant', 'necessita', 'gust', 'penedès', 'legi', 'arran', 'dedicar', 'sanz', 'repassar', 'martin', 'titular', 'triar', 'actitud', 'comandament', 'mots', 'familiars', 'eva', 'caldrà', 'destruir', 'motius', 'econòmics', 'adults', 'codi', 'abandonar', 'proximitat', 'portat', 'exemples', 'fred', 'comptarà', 'homenatge', 'reducció', 'sabut', 'finestra', 'plegats', 'tractar', 'retirar', 'complir', 'sola', 'programació', 'investigadors', 'gramàtica', 'slc', 'aprofitant', 'provocar', 'constitució', 'suficiència', 'poca', 'of', 'votació', 'aportació', 'demostrat', 'esperava', 'fàbrica', 'botiga', 'industrial', 'candidat', 'llenguatge', 'pròxima', 'independentista', 'decret', 'manuel', 'aigües', 'ciutadana', 'prevenció', 'dut', 'vehicles', 'cony', 'protagonista', 'elemental', 'beneficis', 'sectors', 'escriu', 'permeten', 'exèrcits', 'londres', 'reial', 'francesa', 'conseqüències', 'esquena', 'laboratori', 'normes', 'maneres', 'colau', 'ppc', 'mestre', 'atacs', 'legal', 'lingüístic', 'destaca', 'pretemporada', 'lació', 'definir', 'proposar', 'treballen', 'crític', 'bombarders', 'mercè', 'afició', 'clients', 'signatura', 'aprofitat', 'bosc', 'ciclista', 'baixar', 'petites', 'ebre', 'necessàries', 'vi', 'superfície', 'quelcom', 'mateixes', 'permetrà', 'entrat', 'existència', 'obstant', 'comentat', 'pus', 'telèfon', 'valorar', 'fotografies', 'habitants', 'tornada', 'intercanvi', 'llançar', 'personatge', 'colors', 'serveix', 'dirigit', 'rere', 'constru', 'arbitratge', 'digitals', 'impulsar', 'juvenil', 'gestionar', 'saben', 'valoració', 'corregir', 'somni', 'presidit', 'viscut', 'vot', 'redu', 'après', 'illes', 'habitació', 'democràtica', 'bandera', 'pensat', 'transparència', 'víctimes', 'esdeveniments', 'generació', 'aeroport', 'faria', 'processada', 'paral', 'talarn', 'localitat', 'vinent', 'psoe', 'professorat', 'rutina', 'termes', 'boi', 'perelló', 'record', 'lleis', 'torre', 'cost', 'pep', 'nació', 'informes', 'trucar', 'antics', 'manifest', 'to', 'adaptació', 'durada', 'entrenar', 'febles', 'socis', 'sentència', 'participen', 'akismet', 'escolta', 'arlequinat', 'calafell', 'expedient', 'tantes', 'torneig', 'corrent', 'contribuir', 'canceller', 'lideratge', 'representa', 'disposa', 'mot', 'executiu', 'anunciar', 'distribució', 'puig', 'fotre', 'garcia', 'bàsicament', 'combat', 'proposa', 'notifica', 'dictat', 'escoltes', 'integració', 'pengen', 'deixant', 'aviseu', 'històrica', 'trajectòria', 'especials', 'realitzat', 'wilhelm', 'consisteix', 'serien', 'manteniment', 'sensacions', 'ortografia', 'avaluar', 'audiovisual', 'mira', 'vocabulari', 'estel', 'detalls', 'uab', 'secció', 'post', 'xifra', 'pàgines', 'sabadell', 'particular', 'benestar', 'apareix', 'esperant', 'claus', 'arbres', 'garrigues', 'montilla', 'ampliar', 'element', 'rigat', 'xerrada', 'nen', 'blava', 'autonomia', 'intervencions', 'convençut', 'nas', 'faltes', 'degut', 'repetir', 'fruit', 'japonesos', 'considerar', 'calia', 'sabeu', 'contes', 'territoris', 'perfectament', 'portal', 'rendiment', 'pèrdua', 'biodiversitat', 'jueu', 'anomenat', 'quarta', 'cames', 'donava', 'edificis', 'baixes', 'barbàrie', 'convertit', 'prèviament', 'elaborar', 'recurs', 'torn', 'encarregat', 'alimentaris', 'autònoma', 'americana', 'fiscal', 'vestidor', 'temporades', 'turística', 'ofereixen', 'oposició', 'passava', 'carme', 'recepta', 'ssa', 'pogués', 'clarament', 'franco', 'metge', 'únicament', 'sostenible', 'destí', 'posant', 'incorporar', 'carboni', 'subvencions', 'valència', 'esposa', 'aprenent', 'aportar', 'k', 'places', 'nacions', 'complement', 'vora', 'peus', 'revisió', 'esperança', 'vergonya', 'alcaldessa', 'destru', 'observar', 'stalin', 'identitat', 'permès', 'adn', 'neu', 'reconegut', 'planificació', 'sánchez', 'finalitzar', 'àrees', 'pero', 'positiva', 'fugir', 'paisatge', 'sr', 'agenda', 'investigador', 'vies', 'actuar', 'marina', 'universitats', 'invasió', 'cadascuna', 'univers', 'preveu', 'mostrat', 'haguessin', 'posicions', 'habitatge', 'onze', 'completa', 'reforma', 'genètica', 'vulguin', 'pilot', 'encar', 'original', 'usos', 'contracte', 'necessària', 'directiva', 'escollir', 'existeix', 'porten', 'manifestació', 'icv', 'objectes', 'alcoi', 'btt', 'posada', 'vós', 'tradició', 'introducció', 'satisfacció', 'reunions', 'redactar', 'descarregar', 'ací', 'italians', 'transmetre', 'créixer', 'torres', 'corresponents', 'feliç', 'moscou', 'visites', 'indica', 'despatx', 'independent', 'assessorament', 'email', 'roca', 'volum', 'juan', 'presenten', 'canfelipútrida', 'ensenyar', 'martínez', 'felicitat', 'àustria', 'sumar', 'tinent', 'salvar', 'disposar', 'apropar', 'modalitat', 'professors', 'caldes', 'capaços', 'podreu', 'verd', 'canviat', 'ponent', 'lleidatanes', 'sòl', 'fot', 'aplicacions', 'perspectiva', 'forts', 'puntuació', 'estructures', 'victòries', 'hans', 'deute', 'enmig', 'poemes', 'esquadra', 'sens', 'disponibles', 'parar', 'facin', 'càncer', 'anirà', 'mantingut', 'estatut', 'guies', 'oi', 'braços', 'matar', 'dirigents', 'comercial', 'situada', 'implicació', 'definició', 'jueva', 'científic', 'ciutadà', 'arriben', 'científica', 'contestar', 'normalment', 'georg', 'preus', 'davanter', 'metges', 'braç', 'zero', 'parlen', 'dius', 'ideal', 'concert', 'facebook', 'descripció', 'lòpez', 'certificats', 'lingüístics', 'audiovisuals', 'pròpies', 'toni', 'docent', 'desig', 'curses', 'evident', 'actiu', 'primària', 'balaguer', 'obre', 'marge', 'bicicleta', 'delegat', 'galiana', 'flors', 'naixement', 'moció', 'dura', 'moral', 'mètode', 'rac', 'virtual', 'regions', 'acompanyar', 'mental', 'arguments', 'tornava', 'competir', 'pres', 'cloenda', 'exteriors', 'badalona', 'lectius', 'trànsit', 'segura', 'fernández', 'luftwaffe', 'aturada', 'castelldefels', 'ecosistemes', 'tancs', 'cooperació', 'mobilitat', 'caiguda', 'potencial', 'convidats', 'perfil', 'enemic', 'portugal', 'visitat', 'teníem', 'imprescindible', 'ciclistes', 'greus', 'lletra', 'terreny', 'controlar', 'negres', 'revolució', 'ma', 'desenvolupat', 'pressupostos', 'llar', 'cua', 'dissenyar', 'assegura', 'competència', 'vingut', 'xifres', 'horaris', 'agricultura', 'coordinador', 'socialista', 'manresa', 'churchill', 'comerços', 'ànima', 'riba', 'redacció', 'tindre', 'mecanismes', 'mediterrani', 'presa', 'germans', 'peces', 'europeus', 'coordinadora', 'demanava', 'mestres', 'amèrica', 'mites', 'operacions', 'vehicle', 'guillem', 'rellevants', 'participa', 'considerat', 'igualadina', 'protagonistes', 'blau', 'complet', 'jutge', 'conservació', 'hauríem', 'indret', 'obtingut', 'plantejar', 'coneix', 'partida', 'deien', 'patit', 'triomf', 'filosofia', 'menor', 'pilota', 'carlos', 'bell', 'significat', 'fonamental', 'dirigent', 'comprovar', 'cafè', 'dificultat', 'càrrega', 'fotos', 'pensa', 'penals', 'propietat', 'ampli', 'plens', 'imposat', 'frontera', 'domini', 'antonio', 'adquirir', 'econòmiques', 'tractat', 'enorme', 'ribbentrop', 'aventura', 'instruccions', 'alçada', 'soler', 'fusta', 'metodologia', 'valencià', 'vanguardia', 'personalment', 'tripartit', 'difondre', 'corredors', 'consciència', 'vendre', 'virus', 'comarcals', 'poema', 'absència', 'comportament', 'recordo', 'escoltisme', 'participarà', 'salt', 'carreteres', 'pobre', 'editorial', 'governs', 'lular', 'quantes', 'informat', 'absolutament', 'referèndum', 'femenina', 'podrem', 'casal', 'despesa', 'organitzadors', 'roig', 'docents', 'assassinat', 'animal', 'potenciar', 'somriure', 'diccionari', 'atur', 'evidència', 'vaga', 'penjar', 'aficionats', 'bombes', 'individuals', 'nenes', 'tocat', 'explicació', 'oblidar', 'comunistes', 'rajoy', 'respostes', 'introduir', 'amagar', 'crítica', 'menjador', 'mostren', 'motor', 'imposar', 'sostenibilitat', 'aportacions', 'qualificació', 'activa', 'calaf', 'odi', 'creixent', 'patins', 'basat', 'bàsiques', 'laborar', 'quadre', 'darreres', 'materna', 'ambaixador', 'vídeos', 'divisions', 'viatjar', 'dotze', 'científics', 'montferri', 'comprendre', 'lleure', 'cohesió', 'duu', 'secret', 'principalment', 'edicions', 'europees', 'rol', 'riure', 'foren', 'mostres', 'sorteig', 'constant', 'vestit', 'dits', 'incidències', 'maresme', 'condició', 'fossin', 'lecció', 'començarà', 'absoluta', 'tornarà', 'tornen', 'sobte', 'contractació', 'ai', 'anunci', 'tràmits', 'elaborat', 'entregar', 'finançar', 'camins', 'fruita', 'útil', 'cerdanyola', 'equipaments', 'lliurar', 'deixava', 'sentia', 'turístic', 'mevaweb', 'gestapo', 'ràpida', 'roja', 'idioma', 'sants', 'superat', 'raons', 'trenta', 'elit', 'moure', 'ta', 'dormir', 'repàs', 'primavera', 'targeta', 'forestal', 'aporta', 'procedents', 'segueixes', 'substituir', 'permanent', 'demanda', 'forat', 'pagament', 'segre', 'pendent', 'iniciat', 'suficient', 'petició', 'alts', 'expedició', 'licitar', 'populars', 'institucionals', 'in', 'ambiental', 'urbana', 'torra', 'adonar', 'diputada', 'vius', 'parets', 'noguera', 'valent', 'independentistes', 'passen', 'espectadors', 'fas', 'ue', 'adaptar', 'debò', 'esforços', 'ambientals', 'negocis', 'podríem', 'gas', 'demostra', 'acords', 'montcada', 'feines', 'reunit', 'complicada', 'corrupció', 'conte', 'cançons', 'aturat', 'guanyador', 'escollit', 'impostos', 'gossos', 'poeta', 'organitzen', 'correcció', 'cercle', 'servit', 'acadèmic', 'privada', 'inferior', 'britànica', 'ço', 'infraestructures', 'aparèixer', 'coronel', 'vermell', 'adrià', 'eloi', 'traslladar', 'saló', 'consideren', 'coneguda', 'nacionalista', 'consistori', 'enllaços', 'cruz', 'retallades', 'errades', 'començament', 'capdavant', 'actors', 'adés', 'lesions', 'dedicada', 'estableix', 'preparant', 'esdevé', 'tàrrega', 'garraf', 'parlava', 'colla', 'cadira', 'dates', 'negra', 'enfrontament', 'detall', 'regular', 'equipament', 'establiment', 'reflexionar', 'acabava', 'restes', 'infantils', 'omplir', 'alcaldes', 'gos', 'increment', 'recentment', 'seguidors', 'mares', 'rivals', 'mínima', 'execució', 'wehrmacht', 'correctament', 'funcionaris', 'feliu', 'expresident', 'plat', 'unesco', 'busca', 'paul', 'escrits', 'novetat', 'funciona', 'ada', 'aliança', 'conclusió', 'campionats', 'net', 'ecologia', 'donarà', 'samarreta', 'inclús', 'tardor', 'pluja', 'segueixen', 'completar', 'vent', 'habituals', 'so', 'informativa', 'coordinació', 'títols', 'estranger', 'empresaris', 'exposicions', 'provocat', 'cervera', 'renovació', 'mollerussa', 'tordera', 'suprem', 'influència', 'immigració', 'respectivament', 'estany', 'caminar', 'puta', 'comunicacions', 'recent', 'alegria', 'sigues', 'segrià', 'rutes', 'pacients', 'privat', 'semblant', 'obligat', 'francisco', 'immediat', 'pols', 'firmar', 'marín', 'pantalla', 'pistes', 'escapar', 'instant', 'aproximadament', 'garcía', 'consellera', 'nombrat', 'alfred', 'atès', 'aprovació', 'tindria', 'sobirà', 'informacions', 'selva', 'líders', 'secundària', 'ioga', 'reforçar', 'autora', 'accident', 'videojocs', 'cura', 'gen', 'equitat', 'produeix', 'caire', 'modificació', 'labora', 'caigut', 'resulta', 'posterior', 'esportives', 'nacionals', 'probablement', 'oralment', 'criticar', 'suma', 'cartes', 'armament', 'mandat', 'específic', 'botigues', 'conscient', 'eliminatòria', 'estrany', 'blanques', 'habitualment', 'humanitat', 'diem', 'universitari', 'ucra', 'rodríguez', 'dirigida', 'enquesta', 'lèxic', 'laura', 'regidora', 'descens', 'fil', 'quim', 'be', 'campus', 'impuls', 'viatges', 'passi', 'agradar', 'significa', 'dieta', 'agrair', 'roma', 'trias', 'molas', 'clima', 'estada', 'signar', 'ous', 'nascut', 'vigent', 'condu', 'opinions', 'bernat', 'otto', 'vostè', 'regidors', 'caldria', 'reals', 'arts', 'dolor', 'temperatura', 'quasi', 'incloure', 'segles', 'met', 'passeig', 'valls', 'òrgans', 'depèn', 'pronom', 'crits', 'musical', 'protegir', 'disputarà', 'arbre', 'immediatament', 'posen', 'lat', 'deixo', 'cossos', 'igualment', 'lleidatana', 'pre', 'veiem', 'peça', 'tancament', 'afecta', 'infant', 'presencials', 'venda', 'provar', 'convivència', 'intens', 'explicacions', 'haig', 'històries', 'mètodes', 'sexe', 'combatre', 'posem', 'debut', 'riquesa', 'passos', 'japó', 'jugues', 'plural', 'imperi', 'lícules', 'ub', 'necessiten', 'apareixen', 'autoritat', 'llet', 'pilar', 'esmorzar', 'implica', 'emissions', 'munt', 'unir', 'incorporació', 'solar', 'auditori', 'enemics', 'justament', 'medicina', 'pedro', 'lugo', 'llibreria', 'lliures', 'team', 'anual', 'apuntar', 'mallorca', 'comunista', 'parada', 'combinació', 'cerca', 'espectacular', 'milió', 'reserva', 'reacció', 'orientació', 'despeses', 'formada', 'publicacions', 'play', 'raül', 'aules', 'arnau', 'veuen', 'ficar', 'león', 'porto', 'complex', 'sal', 'banderes', 'almenys', 'prèvia', 'estiguin', 'àngel', 'tomàs', 'correcte', 'classificat', 'sexual', 'utilitzat', 'trobo', 'escriptora', 'província', 'atmosfera', 'viena', 'júniors', 'lleidatà', 'dècades', 'pelicano', 'coneguts', 'nucli', 'àdhuc', 'masculí', 'converses', 'castells', 'sortides', 'necessitem', 'genoma', 'tety', 'integral', 'conscients', 'potent', 'esportistes', 'escales', 'llicència', 'nobel', 'afavorir', 'tindrem', 'paco', 'surten', 'dirigides', 'factura', 'laborals', 'rovira', 'anomenada', 'karl', 'escolars', 'quinze', 'balanç', 'ilerdencs', 'remei', 'emocions', 'emetre', 'mida', 'coma', 'preposició', 'conclusions', 'competicions', 'dossier', 'juguen', 'continuava', 'intensa', 'enfonsar', 'tradicionals', 'lectures', 'remarcat', 'ligència', 'polonesos', 'muntané', 'afectats', 'penjat', 'sabent', 'navarra', 'iii', 'detingut', 'correspon', 'litat', 'defensat', 'curta', 'atendre', 'tendència', 'realitza', 'negar', 'individus', 'màgic', 'sentiments', 'publicitat', 'pendents', 'andorra', 'lluna', 'feixista', 'commemoració', 'ajut', 'inscriure', 'guanyadors', 'york', 'clares', 'rebuig', 'obligar', 'lectiva', 'inversions', 'consultes', 'benito', 'planteja', 'mollet', 'genera', 'canals', 'taxa', 'avantatges', 'centenar', 'repartir', 'cartells', 'xina', 'denunciat', 'biblioteques', 'corredor', 'impulsat', 'bomba', 'acull', 'planter', 'infanteria', 'participaran', 'liderat', 'fonamentals', 'conca', 'conferències', 'biologia', 'campions', 'esteu', 'oficines', 'papers', 'superiors', 'restauració', 'distribu', 'desplaçament', 'triat', 'empatar', 'factor', 'llegint', 'vital', 'venia', 'diagonal', 'composició', 'dors', 'anirem', 'obertura', 'aparell', 'comercials', 'fosc', 'cdc', 'alternativa', 'germana', 'esquema', 'destinat', 'autònom', 'visitant', 'reichstag', 'meves', 'legislatura', 'assumir', 'disputat', 'convocat', 'ocells', 'faltar', 'basada', 'arma', 'formatjé', 'peix', 'mediterrània', 'directes', 'refugi', 'panzer', 'especialitzat', 'banqueta', 'acollir', 'oci', 'perfecte', 'rastenburg', 'altes', 'matilda', 'expressions', 'dintre', 'eduard', 'quedava', 'acollida', 'correcta', 'santiago', 'condemnat', 'records', 'entra', 'joguines', 'acomiadar', 'semblar', 'negociar', 'assassinats', 'simple', 'compra', 'voldria', 'cama', 'eacat', 'fe', 'expliquen', 'pertot', 'proposat', 'argentina', 'formats', 'reflexions', 'lector', 'disparar', 'enginyeria', 'exclamar', 'caça', 'granollers', 'esperen', 'reis', 'acaben', 'passió', 'permís', 'disputa', 'sentiment', 'disponible', 'cremar', 'pontevedra', 'danys', 'tanca', 'recuperat', 'vocal', 'conté', 'hereu', 'amistat', 'manlleu', 'confirmat', 'entenc', 'muscular', 'alerta', 'simplement', 'au', 'trobaven', 'arquitecte', 'avinguda', 'plana', 'ençà', 'requisits', 'vagi', 'plau', 'diputacions', 'sino', 'incendis', 'poguessin', 'disputar', 'complert', 'tones', 'marató', 'impedir', 'ferrer', 'intervenir', 'rodona', 'informi', 'vivia', 'explicava', 'creuen', 'residència', 'ajudat', 'mercats', 'convidar', 'circumstàncies', 'pronunciar', 'informa', 'fitxa', 'àmplia', 'roses', 'capítol', 'seleccionar', 'electes', 'consta', 'xx', 'bàsica', 'soroll', 'secretària', 'retirada', 'portaven', 'cotxes', 'nacionalistes', 'ordinador', 'llàstima', 'procediment', 'sindicats', 'desigualtats', 'lema', 'dolors', 'cervesa', 'guanya', 'saludar', 'forn', 'vides', 'humor', 'territorials', 'accent', 'dècada', 'definitivament', 'estadi', 'seguidament', 'fontanellas', 'notar', 'civils', 'novament', 'fóra', 'vidal', 'bosch', 'barca', 'plaer', 'crítiques', 'límit', 'infància', 'ateneu', 'exclusivament', 'semifinals', 'descriure', 'torrent', 'manifestar', 'pérez', 'klein', 'caces', 'associats', 'indrets', 'buit', 'postres', 'anul', 'tractava', 'aneu', 'acadèmia', 'jardí', 'golejador', 'esta', 'veurem', 'motivació', 'lectors', 'agradava', 'safata', 'animació', 'dèficit', 'interpretar', 'relacionat', 'sales', 'venen', 'buscant', 'escriptors', 'miqueta', 'existeixen', 'números', 'alba', 'utilització', 'continuat', 'escriptura', 'aleix', 'notes', 'certs', 'interessants', 'propòsit', 'tingués', 'vàrem', 'lleidatans', 'benefici', 'establert', 'sento', 'observació', 'denuncia', 'corrents', 'burgos', 'òrgan', 'adequat', 'ràbia', 'cornellà', 'ferits', 'legals', 'luis', 'entrega', 'miguel', 'modificar', 'aprenentatges', 'artilleria', 'benvinguda', 'visc', 'open', 'prevista', 'desa', 'presencial', 'equilibri', 'nerviós', 'mur', 'generacions', 'eixos', 'inscrits', 'projecció', 'robert', 'tracte', 'roosevelt', 'destacats', 'olot', 'completament', 'osona', 'universitària', 'sadurní', 'autèntica', 'difícils', 'refugiats', 'paret', 'guió', 'conjunta', 'indicadors', 'pren', 'four', 'borges', 'búnquer', 'percentatge', 'animar', 'xavi', 'missatges', 'clàssic', 'relatiu', 'corregit', 'cares', 'ingressos', 'regne', 'recomanacions', 'utilitzen', 'judici', 'múltiples', 'ambdós', 'indicar', 'humanes', 'mònica', 'eficiència', 'acompanyament', 'ocupat', 'ernst', 'revisar', 'coincidint', 'emergència', 'llaverola', 'potència', 'democràtic', 'facultat', 'entrant', 'introdu', 'nombrosos', 'excepte', 'japonès', 'homs', 'vé', 'religió', 'inclòs', 'candidats', 'voluntari', 'tendències', 'parlamentaris', 'amiga', 'senyora', 'detenir', 'raça', 'olímpic', 'cerimònia', 'casar', 'propietats', 'senyal', 'vermella', 'devia', 'soviètiques', 'columna', 'veí', 'suposat', 'jurat', 'presentarà', 'deitg', 'declarat', 'convèncer', 'mesa', 'ou', 'transició', 'denunciar', 'judicial', 'soldat', 'convocar', 'anada', 'connexió', 'medalla', 'off', 'estaria', 'estrena', 'desenvolupa', 'demés', 'somnis', 'acabada', 'fracàs', 'cinquena', 'locar', 'stalingrad', 'teixit', 'formacions', 'estels', 'nazisme', 'heroi', 'agent', 'comencen', 'pdf', 'suposo', 'facilitat', 'fòrum', 'voluntària', 'publica', 'interpretació', 'cartell', 'deixen', 'cristina', 'tornem', 'definitiu', 'certamen', 'féu', 'preocupació', 'ajudant', 'antigues', 'presentacions', 'fenomen', 'centenars', 'amenaça', 'lluitant', 'pacient', 'comuns', 'vivint', 'inclouen', 'màquina', 'recórrer', 'shum', 'quedaven', 'graus', 'normalitat', 'obligació', 'embarcacions', 'carnet', 'cs', 'basc', 'debatre', 'vistes', 'and', 'creuar', 'luane', 'apuntat', 'rahola', 'substitució', 'demanen', 'cobrir', 'guiada', 'convergència', 'béns', 'prohibir', 'avanç', 'requereix', 'havent', 'proposem', 'permeti', 'forestals', 'rosell', 'joaquim', 'centenari', 'méndez', 'envers', 'film', 'trencat', 'causes', 'anant', 'coloma', 'destaquen', 'orella', 'nena', 'taules', 'interna', 'ves', 'autèntic', 'nil', 'esquí', 'itinerari', 'recollida', 'estrangers', 'directius', 'atemptat', 'essencial', 'holanda', 'rius', 'voltes', 'passejar', 'satisfet', 'formal', 'estacions', 'vestits', 'teves', 'dor', 'laborat', 'franz', 'comte', 'italiana', 'únics', 'botó', 'verda', 'sobreviure', 'acta', 'reglament', 'serveixen', 'aguantar', 'incendi', 'relleu', 'constitucional', 'esteve', 'expressa', 'similar', 'butxaca', 'fires', 'commemorar', 'tallar', 'signes', 'ajuden', 'decisiu', 'temperatures', 'posteriors', 'universitaris', 'cavall', 'endur', 'ànim', 'agrícola', 'muntanyes', 'reportatge', 'contactes', 'agrupaments', 'varietat', 'adequada', 'individu', 'víctima', 'noruega', 'cliqueu', 'incrementar', 'convidat', 'artistes', 'consolidar', 'fulles', 'exactament', 'preparats', 'substitu', 'rambla', 'seminari', 'centrar', 'fases', 'explicant', 'agafant', 'funcional', 'riscos', 'absolut', 'feixistes', 'cooperativa', 'bombardejar', 'compartit', 'tarrida', 'ourense', 'deixem', 'exigir', 'ccma', 'extraordinari', 'prometre', 'unit', 'emissió', 'solidària', 'entorns', 'pirineus', 'exercir', 'exposar', 'maragall', 'bombers', 'química', 'seleccions', 'efectiva', 'situar', 'comporta', 'freda', 'empresarials', 'aeig', 'identificació', 'esdevingut', 'sec', 'torner', 'sequera', 'guiatge', 'corunya', 'tantost', 'detectar', 'integrants', 'moda', 'lourdes', 'vivim', 'mundo', 'compliment', 'eficàcia', 'excusa', 'efectivitat', 'testimoni', 'nits', 'planetes', 'municipalista', 'treu', 'estalvi', 'determinat', 'reina', 'llull', 'determinar', 'menors', 'https', 'beure', 'còpia', 'guardiola', 'cantant', 'registres', 'posava', 'assaig', 'secretaria', 'haureu', 'sabien', 'acabarà', 'expert', 'mereix', 'montsec', 'idiomes', 'mirava', 'aèria', 'anés', 'pagesos', 'tall', 'expressat', 'hola', 'le', 'daniel', 'creativitat', 'solé', 'mòbils', 'pro', 'relacionada', 'moltíssim', 'moto', 'marçal', 'passarà', 'prússia', 'modalitats', 'fragments', 'seqüència', 'zapatero', 'israel', 'intentat', 'winston', 'tertúlia', 'existents', 'planificar', 'paga', 'elevat', 'campaments', 'eliminació', 'magda', 'intent', 'sencer', 'industrials', 'calor', 'esportius', 'digui', 'jxcat', 'creiem', 'avantatge', 'conflictes', 'colònia', 'bellesa', 'singular', 'do', 'urbà', 'trist', 'bormann', 'anuals', 'consellers', 'tros', 'delicte', 'confirmar', 'déus', 'junt', 'pobresa', 'subjectes', 'maría', 'erich', 'beques', 'catàleg', 'instruments', 'boig', 'literària', 'reconeix', 'rússia', 'arribarà', 'tornaran', 'aparició', 'basa', 'junqueras', 'agrupament', 'ofert', 'respon', 'pensen', 'os', 'cd', 'almirall', 'elecció', 'evidentment', 'apunta', 'derrotes', 'immigrants', 'oracions', 'regulació', 'rebutjar', 'coruña', 'reixac', 'bèlgica', 'ocupa', 'keitel', 'específics', 'especialista', 'hisenda', 'destrucció', 'agafat', 'recomano', 'barreja', 'duen', 'catedràtic', 'majors', 'ronda', 'finalitzat', 'contractes', 'emprenedors', 'prestigi', 'temporal', 'continuada', 'pràctics', 'tensió', 'americanes', 'gonzález', 'barra', 'empordà', 'poseu', 'xocolata', 'pèl', 'donem', 'itineraris', 'certes', 'pilots', 'jutjat', 'cabells', 'promocionar', 'superioritat', 'anglaterra', 'descansar', 'volar', 'caixes', 'pica', 'particularment', 'pobres', 'tramitació', 'portem', 'aconsegueix', 'lectora', 'extrem', 'esdevenir', 'preguntat', 'vers', 'visca', 'dimensions', 'contaminació', 'remats', 'millores', 'efectius', 'descobert', 'efectivament', 'administratiu', 'criteri', 'components', 'der', 'financera', 'legislació', 'mir', 'necessitava', 'ros', 'jussà', 'responsabilitats', 'duia', 'límits', 'secrets', 'participant', 'conec', 'incidència', 'matrimoni', 'ligent', 'pais', 'relat', 'interacció', 'interessat', 'crònica', 'gimnàs', 'bombardeig', 'tortosa', 'nombroses', 'fixar', 'grècia', 'ministres', 'assenyala', 'factures', 'barberà', 'teòrics', 'començava', 'vintena', 'polonès', 'defensiva', 'paisatges', 'alliberar', 'ficció', 'universal', 'poders', 'xxi', 'bombardejos', 'infermeria', 'presidents', 'extensió', 'fitness', 'neix', 'guanyant', 'girar', 'consecutiu', 'sobiranista', 'revistes', 'compromisos', 'palma', 'riera', 'assassinar', 'estima', 'puigdemont', 'bancs', 'àvia', 'masses', 'érem', 'inicia', 'felip', 'expectatives', 'específica', 'capacitats', 'policial', 'justificar', 'gros', 'pertany', 'intentant', 'feixisme', 'expansió', 'contents', 'republicà', 'transmissió', 'amant', 'integrar', 'gerent', 'gana', 'rommel', 'vells', 'demanant', 'import', 'totalitat', 'meg', 'fusió', 'felicitar', 'mantenen', 'interessats', 'freqüència', 'màrqueting', 'propietari', 'etapes', 'vinculades', 'uniforme', 'perd', 'servirà', 'inaugurat', 'horta', 'remuntar', 'cívic', 'obligatòria', 'escenaris', 'solsona', 'centrat', 'males', 'masculina', 'arribant', 'acordar', 'empatat', 'adjectius', 'avi', 'recepció', 'parades', 'familia', 'assassí', 'discutir', 'crims', 'flota', 'traducció', 'adreçat', 'verge', 'latorre', 'pagès', 'nuremberg', 'comencem', 'rellevant', 'tremp', 'suposar', 'discapacitat', 'ferm', 'estrella', 'tria', 'solucionar', 'ble', 'escaire', 'regles', 'històrics', 'ampliació', 'arenys', 'escau', 'testimonis', 'reben', 'vocació', 'visible', 'anglada', 'considerava', 'tornant', 'protesta', 'curiosament', 'estudiat', 'comuna', 'promou', 'disciplina', 'privades', 'aixo', 'jugaran', 'champions', 'mals', 'figueras', 'sorra', 'alternatives', 'pràctic', 'sana', 'mireu', 'magnet', 'laia', 'tancada', 'orals', 'vidre', 'inaugural', 'probable', 'executar', 'monument', 'metro', 'quaranta', 'relatius', 'kurt', 'dissenyat', 'adreçada', 'repassat', 'independentisme', 'cantar', 'lents', 'turístics', 'lència', 'caminant', 'pi', 'conclou', 'pit', 'montse', 'activament', 'actius', 'éssers', 'recordant', 'dignitat', 'perdent', 'deixeu', 'aragó', 'acollirà', 'lloguer', 'desnivell', 'tràmit', 'canons', 'heydrich', 'casals', 'ingredients', 'clica', 'baviera', 'arlequinada', 'extrema', 'polèmica', 'regal', 'garrotxa', 'matrícula', 'xix', 'experiments', 'aixó', 'neteja', 'tic', 'entén', 'baixos', 'instrument', 'emprenedoria', 'expedients', 'agraden', 'satèl', 'escena', 'britàniques', 'enfrontar', 'trens', 'papen', 'casas', 'penya', 'blocs', 'gegant', 'descompte', 'orgull', 'puguem', 'rècord', 'optar', 'progrés', 'fosca', 'dents', 'cardar', 'sacrifici', 'sanitari', 'ric', 'seguirà', 'santi', 'teua', 'emmarca', 'aniran', 'efectiu', 'unides', 'dedicació', 'encert', 'medieval', 'corts', 'carallot', 'postgrau', 'alberto', 'cadet', 'horitzó', 'parcial', 'lectual', 'circulació', 'sortia', 'anti', 'diguem', 'macià', 'neus', 'saltar', 'tocava', 'útils', 'vera', 'camacho', 'vivien', 'restaurants', 'desplegament', 'situa', 'advocat', 'viva', 'esquerres', 'amagat', 'representen', 'assolit', 'famós', 'naturalesa', 'comparació', 'integrat', 'literari', 'ambdues', 'llas', 'senzill', 'jugades', 'seca', 'folguera', 'domicili', 'conquerir', 'psicologia', 'avís', 'rafael', 'rus', 'matèries', 'relativament', 'referents', 'marcada', 'discriminació', 'cultures', 'trofeu', 'acusat', 'elegit', 'fragment', 'similars', 'punta', 'futura', 'permetin', 'coalició', 'provincial', 'divertit', 'arribava', 'joachim', 'síndic', 'nodreix', 'cesc', 'llargs', 'crea', 'conservar', 'precisió', 'llegenda', 'inclosos', 'john', 'campanyes', 'incorpora', 'rodes', 'lulars', 'seny', 'fum', 'artista', 'aviació', 'òmnium', 'excés', 'reagrupament', 'respectar', 'gil', 'perduda', 'amo', 'sanitat', 'rics', 'peralta', 'garanties', 'indiquen', 'físics', 'afecten', 'messi', 'excedents', 'vessant', 'insistir', 'agradable', 'pateix', 'prove', 'garantia', 'implantació', 'fàstic', 'seriós', 'atractiu', 'ajudarà', 'talent', 'impactes', 'crema', 'oferirà', 'oberts', 'recaptació', 'augmentat', 'cagar', 'pensem', 'subjecte', 'lamenta', 'actor', 'treballador', 'favorable', 'porters', 'pxc', 'publicada', 'àlex', 'franquista', 'bellpuig', 'extra', 'deessa', 'diria', 'configuració', 'ribera', 'creada', 'propietaris', 'friedrich', 'auschwitz', 'estaran', 'monestir', 'vicenç', 'gastronomia', 'trial', 'semblat', 'gest', 'estabilitat', 'confessar', 'matemàtiques', 'pasta', 'edats', 'filles', 'nomenat', 'motors', 'coneixem', 'defenses', 'marroc', 'podi', 'cambres', 'avançada', 'altrament', 'còmic', 'mutacions', 'fórmula', 'soci', 'quedi', 'ofici', 'assessor', 'torni', 'negativa', 'negociació', 'acompanyada', 'representar', 'concessió', 'walther', 'príncep', 'segarra', 'específiques', 'nacionalisme', 'màquines', 'espectacles', 'símbol', 'síntesi', 'crèdits', 'facilita', 'aqui', 'arribi', 'romania', 'prioritat', 'coneixia', 'llargues', 'lamentat', 'magnífic', 'dispositiu', 'terrenys', 'sortint', 'aparells', 'desert', 'emissora', 'policies', 'badia', 'connectors', 'molecular', 'terrestre', 'mireia', 'aprovada', 'ep', 'fruits', 'cementiri', 'ascens', 'concreta', 'rivera', 'ball', 'brasil', 'hess', 'fàcilment', 'vinculats', 'preposicions', 'occidentals', 'juvenils', 'presentada', 'estadístiques', 'valle', 'deuen', 'flu', 'inaugurar', 'oració', 'acabés', 'detinguts', 'aristarc', 'paciència', 'aprofundir', 'dinamització', 'elevada', 'recomana', 'rellotge', 'protocol', 'avis', 'hindenburg', 'insectes', 'assegut', 'senzilla', 'èxits', 'fitxatge', 'habilitat', 'orelles', 'constantment', 'produeixen', 'comissions', 'implicats', 'tingueu', 'walter', 'esperaven', 'decideix', 'entrenadors', 'cadàvers', 'pisos', 'altura', 'fronteres', 'tir', 'solament', 'destinats', 'parlamentària', 'ponts', 'generat', 'tecnològic', 'ru', 'temàtica', 'semblen', 'sabarich', 'imaginar', 'igualadines', 'altri', 'estratègic', 'veien', 'intern', 'trobarem', 'accentuació', 'excepció', 'caminada', 'pateixen', 'jesús', 'transferència', 'toc', 'valorat', 'oceà', 'desprès', 'university', 'gaires', 'essent', 'llistat', 'continuen', 'pati', 'electrònics', 'orígens', 'jorn', 'realitzades', 'recinte', 'cafe', 'quedarà', 'descoberta', 'empoderament', 'votat', 'guàrdies', 'ofertes', 'emoció', 'ports', 'acompanyats', 'disposen', 'llavis', 'llàgrimes', 'personalitat', 'ombra', 'multitud', 'reserves', 'carros', 'afectat', 'suau', 'actualització', 'coral', 'treballava', 'previstes', 'carregat', 'observacions', 'canvia', 'límetres', 'martín', 'circular', 'costos', 'tradu', 'recordem', 'convenis', 'vaixell', 'piscina', 'esquerre', 'dictadura', 'ventall', 'repel', 'fidel', 'justa', 'turistes', 'catedral', 'muntar', 'sarrià', 'agressió', 'bus', 'client', 'tributs', 'sexuals', 'sucre', 'nature', 'aqueixa', 'eu', 'determinats', 'especialistes', 'cerdanya', 'raf', 'cercar', 'adhesió', 'bèl', 'malalts', 'acadèmica', 'criticat', 'contínua', 'extermini', 'començant', 'fonaments', 'carod', 'paradís', 'fotocòpia', 'bike', 'anuncis', 'llançament', 'candidatures', 'obrers', 'comerciants', 'llistes', 'procediments', 'bossa', 'bisbe', 'concentrar', 'formatge', 'estant', 'ignasi', 'gel', 'cerdà', 'plenament', 'comissari', 'implementació', 'impost', 'obligatori', 'dimissió', 'relacionar', 'àrbitre', 'solidari', 'oliva', 'seues', 'idcat', 'llac', 'guderian', 'saint', 'cabestany', 'previsió', 'cinquè', 'manifestacions', 'índia', 'lou', 'resistir', 'travessar', 'plata', 'vagin', 'laborador', 'periodisme', 'dedica', 'concerts', 'sostre', 'finestres', 'previ', 'electorals', 'poblet', 'extraordinària', 'iosif', 'físiques', 'negociacions', 'jassel', 'veureu', 'visual', 'encarregar', 'balagué', 'logística', 'innovadores', 'bertrana', 'independents', 'fantàstic', 'pèrdues', 'pujada', 'pitjors', 'javier', 'plorar', 'durà', 'definit', 'nat', 'julià', 'trobaran', 'recordava', 'especialitzada', 'ena', 'marcel', 'llicenciat', 'transcurs', 'metodologies', 'mestra', 'voluntàries', 'serem', 'argentí', 'martorell', 'adoptar', 'ètica', 'mecanisme', 'observatori', 'franceses', 'continuarà', 'aparegut', 'trobaràs', 'garreta', 'tradicions', 'plataformes', 'masclista', 'tornés', 'societats', 'inicials', 'àngels', 'cinquanta', 'plantejat', 'companya', 'detecció', 'advertir', 'traslladat', 'platz', 'armats', 'exemplars', 'mou', 'entrevistes', 'laboradores', 'sitges', 'típic', 'ampliem', 'aliades', 'escriuen', 'immediata', 'disponibilitat', 'celebrada', 'continent', 'despertar', 'llums', 'regional', 'espanyoles', 'veieu', 'udl', 'sindicat', 'conduir', 'exclusió', 'remuntada', 'perillós', 'gemma', 'realitzada', 'mèdic', 'realitzen', 'amants', 'cardiovascular', 'ulleres', 'fundar', 'futures', 'allotjament', 'preocupat', 'entesa', 'crèdit', 'arc', 'doni', 'fcb', 'palafrugell', 'cantó', 'limitar', 'acabi', 'valencia', 'converteix', 'majoritàriament', 'reforç', 'magnífica', 'adolescents', 'pedres', 'jurídica', 'norma', 'actituds', 'verbals', 'vilaseca', 'raventós', 'adquisició', 'tost', 'completat', 'salvat', 'antiguitat', 'foten', 'etiqueta', 'olor', 'recollit', 'realitzant', 'entès', 'positius', 'pic', 'bacteris', 'llars', 'futurs', 'nacionalsocialista', 'montju', 'artístic', 'manifesta', 'raval', 'vins', 'autobús', 'oller', 'pedrolo', 'constitu', 'particulars', 'for', 'hm', 'carregar', 'oficialment', 'centra', 'ample', 'defineix', 'demostració', 'vegetació', 'treballem', 'gimcana', 'puigcercós', 'argument', 'fèmines', 'mascles', 'olímpics', 'tesi', 'guardó', 'world', 'inclosa', 'incorporat', 'desaparèixer', 'constituir', 'rellevància', 'verdura', 'fàbriques', 'donaven', 'implementades', 'renunciar', 'executiva', 'frank', 'vinculada', 'desena', 'rebel', 'component', 'url', 'finca', 'extinció', 'balears', 'moderna', 'queixar', 'faré', 'afectades', 'llu', 'bonic', 'persecució', 'portarà', 'ètic', 'orquestra', 'braun', 'broma', 'administrativa', 'minyons', 'seguim', 'gueto', 'acordat', 'ivars', 'berghof', 'provoca', 'platges', 'richard', 'eficaç', 'gavà', 'torras', 'lladres', 'miracle', 'gabinet', 'fisioteràpia', 'ingressar', 'productors', 'incloent', 'estigués', 'estendre', 'sanció', 'sisena', 'quadres', 'quantitats', 'adaptat', 'vulguis', 'doncel', 'suc', 'península', 'pròxims', 'sevilla', 'anàlisis', 'arquitectura', 'cantonada', 'menú', 'canó', 'txecoslovàquia', 'obligats', 'lula', 'bergós', 'sous', 'eixample', 'prové', 'sofà', 'agafa', 'dotació', 'realitzarà', 'marques', 'comparar', 'basades', 'àrab', 'rebot', 'lliurat', 'finances', 'aeri', 'mòdul', 'gala', 'w', 'malalt', 'trentena', 'contrastem', 'complexitat', 'associat', 'aqueixos', 'verds', 'alcaldia', 'insistit', 'arrencar', 'treballarem', 'pàtria', 'segregació', 'penseu', 'exili', 'acostar', 'matisem', 'aniria', 'seguits', 'desenvolupen', 'exigent', 'arrels', 'mèxic', 'impulsa', 'franklin', 'prioritats', 'consens', 'corporal', 'rendir', 'llevat', 'vidres', 'financer', 'figueres', 'emprendre', 'femelles', 'asseure', 'tort', 'lateral', 'batalló', 'dominar', 'ceba', 'proporcionar', 'informàtica', 'frenar', 'vénen', 'convida', 'explotació', 'algún', 'contratac', 'recomanar', 'admetre', 'esfere', 'gaietà', 'constància', 'concretes', 'quadrats', 'professió', 'adjunt', 'clínica', 'inicialment', 'departaments', 'disposats', 'sobirania', 'bòfia', 'llençar', 'mapes', 'regiment', 'dinàmiques', 'energètica', 'corresponen', 'aliat', 'connectar', 'protestar', 'perdó', 'biografia', 'copes', 'concrets', 'estimat', 'zaragoza', 'regalar', 'òrbita', 'víctor', 'positivament', 'estàndard', 'arn', 'avançant', 'teòric', 'sonar', 'residus', 'george', 'japonesa', 'cobrar', 'combina', 'divertida', 'costar', 'canviant', 'adherits', 'acceptat', 'subjuntiu', 'semblants', 'separar', 'anteriorment', 'plenes', 'millorant', 'pantalons', 'lic', 'nervis', 'patates', 'afegeixen', 'mantenint', 'creatiu', 'companyes', 'acabaria', 'tàctica', 'huesca', 'habitacions', 'seminaris', 'greix', 'barba', 'emès', 'emportar', 'gabriel', 'critica', 'estimar', 'mentida', 'solsonès', 'portant', 'groc', 'granada', 'pobla', 'actriu', 'rumors', 'estrès', 'glòria', 'profunditat', 'llotja', 'classificar', 'impressió', 'verbal', 'essència', 'immensa', 'elise', 'terribas', 'cents', 'afectar', 'rudolf', 'brut', 'llibertats', 'denominació', 'pals', 'arrenca', 'abordar', 'inferiors', 'ordenat', 'oferint', 'ocde', 'contribució', 'físicament', 'fiscalia', 'agramunt', 'memòries', 'eficient', 'individualment', 'patint', 'ridícul', 'imminent', 'vinculat', 'isabel', 'varsòvia', 'nogensmenys', 'destinació', 'files', 'destinada', 'intenta', 'inicis', 'pensaven', 'passaven', 'durar', 'aitona', 'franja', 'dolent', 'enfortir', 'pestanya', 'finlàndia', 'rau', 'figures', 'cedir', 'defensiu', 'optimot', 'cadàver', 'catalònia', 'sanitària', 'flor', 'síl', 'desplaçar', 'sèries', 'raja', 'rialp', 'cercador', 'frederic', 'infraestructura', 'progressió', 'interns', 'morta', 'solitari', 'dietrich', 'goig', 'sentenciat', 'mamífers', 'anc', 'renda', 'entenia', 'aturades', 'rebran', 'viabilitat', 'nacionalsocialisme', 'referències', 'demandes', 'corona', 'perseguits', 'invitació', 'deure', 'sènior', 'costums', 'mos', 'targetes', 'mobilització', 'accents', 'díaz', 'werner', 'avisar', 'passats', 'relativa', 'eisenhower', 'ajudes', 'mèrit', 'cansat', 'ferides', 'upf', 'centrals', 'èmfasi', 'convocats', 'discussió', 'veritable', 'gegants', 'buits', 'cadires', 'periódico', 'patró', 'juneda', 'màgia', 'camions', 'elèctric', 'costum', 'raquel', 'assignatures', 'índex', 'armades', 'curiós', 'google', 'teide', 'diagnòstic', 'masia', 'resultar', 'pujat', 'ció', 'wagner', 'csic', 'essencials', 'oviedo', 'fessin', 'fundador', 'informatiu', 'guanyadora', 'artificial', 'prenen', 'desitjava', 'funcionari', 'acompanya', 'episodis', 'augmenta', 'musicals', 'software', 'franquisme', 'cambrils', 'colònies', 'coco', 'pàmies', 'afectada', 'editat', 'registrar', 'pagat', 'delano', 'aporten', 'conductor', 'trajecte', 'sociologia', 'euia', 'taulell', 'sèniors', 'dispositius', 'orgànica', 'enfrontarà', 'havíeu', 'condemna', 'privats', 'portada', 'exigeix', 'cometre', 'memorial', 'assassins', 'obliga', 'companyies', 'ce', 'licituds', 'oblidat', 'diré', 'cures', 'mel', 'obersalzberg', 'probabilitat', 'rodriguez', 'implementar', 'recorreguts', 'robar', 'empresari', 'recomanable', 'mecànica', 'creant', 'períodes', 'pler', 'parlarem', 'esment', 'perspectives', 'limitat', 'bcn', 'iv', 'mortalitat', 'llatí', 'lit', 'acumulació', 'impressionant', 'denúncia', 'consistia', 'insta', 'charles', 'frec', 'arbitral', 'demostren', 'enormes', 'anoia', 'distàncies', 'infecció', 'pausa', 'estàvem', 'competitivitat', 'volíem', 'taberna', 'aproximació', 'iguals', 'proclamar', 'adreçar', 'parcs', 'cidar', 'ampa', 'tomba', 'subvenció', 'conys', 'arròs', 'reuneix', 'coincidir', 'escoltat', 'existent', 'clàssica', 'posarà', 'oliveres', 'contribueix', 'elena', 'aclarir', 'brussel', 'medalles', 'creative', 'alegre', 'eh', 'analitza', 'litoral', 'mèdica', 'pam', 'utilitat', 'commons', 'senyals', 'criminal', 'ventura', 'variables', 'conegudes', 'trama', 'devers', 'rebuda', 'teixits', 'atlàntic', 'euro', 'concloure', 'façana', 'alarma', 'agrupació', 'certament', 'vigo', 'crim', 'infern', 'errada', 'discursos', 'crit', 'pizzeria', 'colom', 'netejar', 'aplicada', 'desembarcament', 'tinguem', 'depenent', 'foscor', 'circuits', 'pesca', 'kg', 'mariano', 'presentades', 'seure', 'runes', 'acceptació', 'batxillerat', 'delictes', 'lògica', 'cadets', 'procedent', 'capítols', 'abandonament', 'repressió', 'ocupats', 'agradi', 'cobertura', 'caos', 'certificació', 'fitxes', 'veterans', 'obligacions', 'natació', 'curiositat', 'passaport', 'nomes', 'er', 'fam', 'onada', 'estratègica', 'vegeu', 'judicis', 'marwin', 'aprèn', 'supera', 'garanteix', 'determinades', 'provisional', 'joventuts', 'ossos', 'intentava', 'duent', 'pedagògica', 'tast', 'personalitats', 'excepcional', 'habitatges', 'paràgraf', 'dièresi', 'arribaven', 'boles', 'jardins', 'realitzaran', 'solen', 'llunyà', 'esmenes', 'faltava', 'nacionalitat', 'combustible', 'oferim', 'carbó', 'bicicletes', 'vincles', 'xinès', 'compten', 'rehabilitació', 'conquesta', 'blancs', 'urgència', 'teòriques', 'donaran', 'cicles', 'artística', 'gat', 'sumat', 'comenta', 'conversar', 'infinitiu', 'jurídic', 'escric', 'boira', 'ajustat', 'fortes', 'coincideix', 'famosa', 'autònoms', 'sorprès', 'integrada', 'sortirà', 'diària', 'parlo', 'dimensió', 'contres', 'titulat', 'sabates', 'amenaces', 'tractaments', 'contemporània', 'batre', 'uneix', 'ocupada', 'sentits', 'rubí', 'fenòmens', 'imperatiu', 'campiona', 'tecnològica', 'exàmens', 'jueves', 'sierra', 'banyes', 'entusiasme', 'qualificat', 'catòlica', 'notificació', 'ala', 'jugava', 'matins', 'admet', 'coberta', 'homo', 'castelladres', 'adjectiu', 'rendició', 'brava', 'sílvia', 'maquinària', 'fuentes', 'ribagorça', 'prepara', 'intervingut', 'assoliment', 'bolets', 'uci', 'enviats', 'fitxatges', 'klara', 'bertran', 'ernest', 'luxe', 'seleccionats', 'descriu', 'exemplar', 'comandants', 'parava', 'lleig', 'pacífic', 'usar', 'dimitir', 'ferit', 'adient', 'situats', 'rigor', 'calgui', 'instituts', 'geltrú', 'baixada', 'obté', 'editor', 'xerrades', 'moreno', 'suspensió', 'obtenció', 'aixecat', 'interessades', 'combats', 'grossa', 'aqueixes', 'prestació', 'contraatac', 'magnitud', 'contempla', 'para', 'fòssils', 'renovat', 'fals', 'ferma', 'clàssics', 'tranquils', 'investigadora', 'llegeix', 'malbé', 'transversal', 'patia', 'fernando', 'cabdal', 'duc', 'derivats', 'perfecta', 'mentals', 'supervivència', 'suficients', 'feble', 'pastor', 'prenent', 'protagonisme', 'greuges', 'naturalment', 'desaparegut', 'llençament', 'casanovas', 'referit', 'turó', 'consulteu', 'parlaven', 'preferit', 'emocional', 'lel', 'borràs', 'don', 'bmx', 'immersió', 'pablo', 'públicament', 'inútil', 'humil', 'historiador', 'ressò', 'intercanviar', 'tve', 'músculs', 'àsia', 'pugueu', 'aliances', 'republicana', 'aterrar', 'còmode', 'destacada', 'nuclear', 'seixanta', 'generen', 'pressa', 'plantejament', 'ales', 'edgar', 'trobes', 'contenta', 'traduir', 'catecp', 'sabíem', 'venien', 'arribem', 'evidències', 'contactar', 'escoltant', 'profunda', 'calma', 'explosió', 'adequació', 'teories', 'sorprendre', 'coneixen', 'ribes', 'cinemes', 'ruc', 'exposat', 'experimentar', 'weimar', 'comiat', 'naltres', 'estranya', 'teòrica', 'acusar', 'jodl', 'impulsada', 'disc', 'consecutiva', 'residents', 'muntaner', 'gómez', 'sd', 'assalt', 'competitiva', 'cavalls', 'calcula', 'espot', 'creien', 'ajudaran', 'llegiu', 'minoria', 'as', 'organitzats', 'telegrama', 'quotidiana', 'destacades', 'notable', 'greixos', 'geieg', 'hat', 'esclatar', 'cru', 'civilització', 'barret', 'edcamp', 'orgullós', 'estret', 'linares', 'fotent', 'lv', 'desenvolupant', 'benjamí', 'proposen', 'esportista', 'reclamar', 'arrencat', 'barcelonès', 'quilograms', 'registrat', 'ermita', 'pollastre', 'analitzat', 'incre', 'fortuna', 'multimèdia', 'trobant', 'desaparició', 'aurora', 'acusa', 'genoll', 'rica', 'tes', 'boxa', 'curts', 'fabricació', 'positives', 'convidem', 'calories', 'seleccionador', 'murcia', 'abandonat', 'himne', 'ix', 'buida', 'fita', 'complements', 'llorenç', 'inclusió', 'tomàquet', 'setmanal', 'infantesa', 'estils', 'bages', 'rosenberg', 'busquen', 'actua', 'preparatòria', 'anuari', 'cava', 'exigència', 'assistirà', 'envia', 'creix', 'episodi', 'postura', 'youtube', 'òpera', 'radiació', 'anomenar', 'profit', 'espatlla', 'aplicat', 'escalfament', 'fulls', 'contextos', 'all', 'reclama', 'desembarcar', 'tothora', 'termcat', 'butaca', 'partícules', 'celebren', 'ofensiu', 'desastre', 'aventures', 'patrons', 'ugt', 'coca', 'carretero', 'entrenat', 'aportat', 'oh', 'obtinguts', 'panorama', 'oficis', 'enginyer', 'isaac', 'esperances', 'drac', 'pensaments', 'bó', 'cuidar', 'helena', 'nutrients', 'guardar', 'historia', 'faltaven', 'molesties', 'clicar', 'sorgir', 'hamburg', 'llicenciada', 'imaginació', 'relats', 'promotors', 'complexos', 'pudent', 'previstos', 'nau', 'coneixes', 'receptor', 'ana', 'complicats', 'dolça', 'vigilància', 'literàries', 'disminució', 'ordinària', 'balcó', 'seleccionat', 'maltractament', 'mart', 'desplaçat', 'desgràcia', 'alicante', 'jutges', 'distingir', 'cala', 'mirat', 'cruel', 'alfons', 'juguem', 'peixos', 'xile', 'quedaria', 'èpoques', 'puguis', 'convé', 'narrativa', 'sòlid', 'automàticament', 'geogràfica', 'adonat', 'bel', 'anàvem', 'volgués', 'entrava', 'prohibició', 'pib', 'ubicat', 'externes', 'pastís', 'funcionar', 'crescut', 'condemnats', 'rang', 'sabaté', 'lla', 'ciutadanes', 'bici', 'gasos', 'senten', 'dividir', 'gauleiter', 'espectaculars', 'empenta', 'casualitat', 'piqué', 'desde', 'ultra', 'escrites', 'cabell', 'sopa', 'paràmetres', 'socioeconòmic', 'contundent', 'governar', 'xoc', 'considerable', 'complicitat', 'tractats', 'compromès', 'aplicant', 'alguaire', 'peticions', 'rescat', 'innovadors', 'sentim', 'especialitat', 'àcid', 'emperador', 'liderar', 'farien', 'galeria', 'versions', 'erwin', 'washington', 'trucada', 'docència', 'consolidació', 'finançat', 'repartit', 'interaccions', 'xi', 'proposo', 'negatiu', 'pudor', 'esteban', 'compostos', 'inserció', 'hospitals', 'consentiment', 'advocats', 'cognom', 'cultiu', 'obrirà', 'con', 'box', 'exhibició', 'efectuar', 'immens', 'ester', 'lleugerament', 'aprofita', 'capa', 'acumulat', 'aleví', 'locat', 'independentment', 'disputaran', 'cc', 'resolt', 'iglesia', 'assumpte', 'frontal', 'ratolins', 'xut', 'conclòs', 'gruix', 'consideració', 'papallones', 'cidi', 'pistola', 'accidents', 'cp', 'competitiu', 'terrestres', 'rebuts', 'expulsar', 'metropolitana', 'max', 'urgent', 'guerres', 'clars', 'fang', 'continental', 'esparreguera', 'jugadores', 'hongria', 'directiu', 'durs', 'electròniques', 'prats', 'alliberament', 'preservar', 'evolutiva', 'riazor', 'salvats', 'estètica', 'dominat', 'firma', 'lliçó', 'neutra', 'fresc', 'ter', 'anuncia', 'andalusia', 'aus', 'estelada', 'prestacions', 'roman', 'econòmicament', 'combinar', 'constitueix', 'donin', 'focus', 'concedir', 'calella', 'millorat', 'escriviu', 'esclaus', 'envair', 'importa', 'gervasi', 'canalla', 'instrucció', 'presentem', 'vents', 'correctes', 'experiment', 'vulnerabilitat', 'ideologia', 'museus', 'fina', 'classificats', 'meues', 'godó', 'estalviar', 'unanimitat', 'sac', 'sencera', 'plantar', 'holocaust', 'ei', 'dirigeix', 'terminologia', 'entenem', 'indicacions', 'papa', 'separació', 'estrelles', 'bronze', 'lectuals', 'orient', 'vocals', 'estrangera', 'branca', 'estudia', 'convoca', 'fauna', 'gibert', 'confirmació', 'austràlia', 'desfilada', 'pedagogia', 'digués', 'considero', 'ramaderia', 'golejada', 'titulars', 'forçar', 'combinat', 'begudes', 'bany', 'trick', 'recents', 'manual', 'construccions', 'eua', 'antisemita', 'malparit', 'firmat', 'córdoba', 'aventatge', 'genòmica', 'herois', 'informatius', 'criminals', 'posi', 'embarcació', 'duresa', 'alliberat', 'terror', 'redueix', 'adverteix', 'demanem', 'contemplar', 'escons', 'envolta', 'titulació', 'feren', 'du', 'associada', 'funcionen', 'quedant', 'arrel', 'localitats', 'taxes', 'sensibilització', 'ecològica', 'gestiona', 'concretar', 'bressol', 'fcc', 'animat', 'programari', 'lligat', 'pròximes', 'sots', 'atribu', 'molins', 'retornar', 'defensant', 'paquet', 'asador', 'acabem', 'ricard', 'lleuger', 'organitzador', 'recorden', 'disposem', 'tercers', 'penses', 'imprescindibles', 'afegiu', 'niu', 'limitacions', 'investigar', 'implicar', 'cafeteria', 'ripoll', 'tornaria', 'colòmbia', 'iec', 'ig', 'permés', 'préstec', 'càlcul', 'auxiliar', 'disciplines', 'racons', 'breus', 'comunitària', 'traçat', 'tempesta', 'potsdamer', 'brutal', 'bandes', 'rodó', 'seqüències', 'califòrnia', 'maçanet', 'piscines', 'comparteixen', 'didàctica', 'dirigits', 'prohibit', 'apunt', 'cromosoma', 'alumna', 'mancomunitat', 'bonica', 'provocant', 'ects', 'modificacions', 'segell', 'programat', 'submarins', 'portaavions', 'pf', 'macaya', 'verdures', 'oc', 'rebrà', 'ballar', 'desconegut', 'comprometre', 'primàries', 'suposarà', 'amistós', 'luminació', 'potències', 'montornès', 'projeccions', 'intencions', 'microorganismes', 'pensada', 'sortien', 'salamanca', 'casc', 'puja', 'vaixells', 'tauler', 'començaran', 'pintura', 'retirat', 'possiblement', 'destinar', 'patiment', 'permisos', 'lògic', 'incident', 'respost', 'rocasalbas', 'alcohol', 'comprat', 'encarregada', 'dures', 'cardedeu', 'utilitzem', 'montbui', 'femella', 'autodeterminació', 'enfadat', 'contenir', 'laboren', 'atorgar', 'utilitzats', 'donés', 'percepció', 'iniciarà', 'lecxit', 'confiar', 'mirall', 'federal', 'dita', 'jorge', 'defecte', 'turístiques', 'aturats', 'cites', 'funcionals', 'patí', 'reconstrucció', 'cansament', 'ànims', 'perfils', 'espriu', 'suècia', 'terminis', 'freqüents', 'vulnerables', 'culpable', 'combinacions', 'convertint', 'estirar', 'llinatge', 'càmera', 'institute', 'religiosa', 'adreçades', 'modern', 'refereix', 'passadís', 'marítim', 'signe', 'cridat', 'amenaçar', 'ampolla', 'montgomery', 'sorprenent', 'despres', 'palmas', 'carbonell', 'aixeca', 'saura', 'brillant', 'submarí', 'variants', 'camisa', 'fama', 'enfocament', 'sòls', 'comès', 'rols', 'competencial', 'redactat', 'passaria', 'suspendre', 'enveja', 'avançats', 'tinguessin', 'russos', 'nul', 'presidida', 'dibuix', 'tarrés', 'online', 'salutació', 'ruiz', 'alcarràs', 'complexa', 'gallina', 'vingui', 'chamberlain', 'manstein', 'experimental', 'mosquit', 'aitan', 'blaus', 'molina', 'dolç', 'entrenant', 'navegador', 'problemàtica', 'deriva', 'hauràs', 'cedit', 'mèdics', 'inspector', 'biològica', 'lopez', 'afavoreix', 'tornaven', 'depressió', 'prim', 'sànchez', 'murs', 'genètic', 'senyera', 'heura', 'deixi', 'fibra', 'sans', 'profundament', 'atura', 'dalmau', 'promocions', 'fonètica', 'fixa', 'pautes', 'conducta', 'brigada', 'transformat', 'mercaderies', 'diversa', 'formant', 'cridava', 'dinamarca', 'directors', 'falten', 'prevenir', 'excursió', 'mosquits', 'cagalló', 'carda', 'rebutjat', 'distinció', 'compartida', 'esmentat', 'tecnològiques', 'putsch', 'rematar', 'bèsties', 'dirigia', 'cim', 'polonesa', 'alcaldable', 'valenciana', 'insults', 'acabant', 'casament', 'originals', 'fal', 'fotia', 'esclat', 'organitzades', 'descobreix', 'concepció', 'aprenen', 'variant', 'ecosistèmics', 'trasllat', 'agustí', 'adquirits', 'aprova', 'enginyers', 'gira', 'sebastià', 'locació', 'semifinal', 'miler', 'mostrava', 'clínic', 'entren', 'monarquia', 'referir', 'calen', 'pou', 'buscat', 'veterà', 'senyalització', 'barrera', 'coure', 'cuguç', 'lelament', 'enfront', 'causar', 'ortega', 'simulació', 'dolents', 'emblemàtics', 'desenes', 'núvols', 'adequats', 'faltat', 'petroli', 'adequades', 'interessar', 'nomenament', 'jean', 'paella', 'tocant', 'velòdrom', 'porc', 'satisfets', 'establerts', 'magatzems', 'pujant', 'mont', 'ccoo', 'afronta', 'decisiva', 'governador', 'assumptes', 'rodalies', 'emprar', 'passes', 'entenen', 'ambició', 'càstig', 'apel', 'arxius', 'contribu', 'horror', 'cascú', 'cognoms', 'meson', 'dada', 'cridant', 'qüestionari', 'lucre', 'estesa', 'passés', 'reivindicar', 'recompensa', 'parteix', 'cens', 'anomena', 'emili', 'povedano', 'robat', 'seigmund', 'provinents', 'roser', 'montgai', 'sergio', 'estàtua', 'queixa', 'ampliat', 'convençuts', 'setmanals', 'cúpula', 'dempeus', 'felicitats', 'paràsits', 'schmidt', 'compleix', 'reinhard', 'videojoc', 'capellans', 'ciclocròs', 'integren', 'joana', 'digué', 'crani', 'podíem', 'estrenar', 'gravetat', 'catorze', 'farina', 'naval', 'formatives', 'regals', 'olla', 'moro', 'tanc', 'muntatge', 'situades', 'pertanyen', 'doctora', 'reaccionar', 'presentador', 'william', 'tretze', 'casi', 'continuant', 'fixat', 'derrotat', 'reflecteix', 'urbanisme', 'metàl', 'tirat', 'poderós', 'tornarem', 'crítics', 'patinatge', 'führer', 'puntuals', 'considerada', 'allargar', 'desigualtat', 'bernadas', 'interrompre', 'engegar', 'penjada', 'longitud', 'suposen', 'tele', 'pur', 'alacant', 'espacial', 'presentaran', 'narració', 'xviii', 'controlat', 'mata', 'missions', 'blomberg', 'tindrien', 'antisemites', 'precedents', 'generalment', 'dol', 'considerem', 'matemàtica', 'eso', 'acabats', 'transports', 'mama', 'descomptes', 'seccions', 'multa', 'arthur', 'josef', 'candidata', 'divulgació', 'nu', 'majúscules', 'titularitat', 'lentament', 'assenyalar', 'àpat', 'publicats', 'remarcar', 'herència', 'destinades', 'donada', 'musculatura', 'teràpia', 'aplica', 'gris', 'garriga', 'possessió', 'lladre', 'new', 'bàsquet', 'dotar', 'programades', 'passatgers', 'associades', 'respectius', 'senyors', 'núm', 'històriques', 'orientat', 'orientar', 'heinz', 'nuclis', 'encertat', 'començarem', 'detectat', 'varietats', 'licitat', 'formativa', 'lica', 'bec', 'conselleria', 'intentarem', 'reivindicació', 'acer', 'claredat', 'investigacions', 'literaris', 'españa', 'sons', 'morfologia', 'scrabble', 'franquistes', 'fastigós', 'contenen', 'pagant', 'aquets', 'nascuda', 'entrevistar', 'determinació', 'sanitaris', 'sara', 'indirecte', 'fèlix', 'pressions', 'retallada', 'sentint', 'vicente', 'gaulle', 'assistent', 'álava', 'oxigen', 'branques', 'acadèmics', 'estès', 'hauries', 'energies', 'glaç', 'hectàrees', 'presos', 'llençat', 'geografia', 'alícia', 'blaugranes', 'domingo', 'protagonitzat', 'parlants', 'tutor', 'encaixar', 'fiscals', 'anualment', 'permetran', 'encendre', 'nus', 'salvatge', 'aconseguint', 'passades', 'correus', 'grada', 'desitjo', 'moderns', 'castella', 'terrible', 'constitueixen', 'pactar', 'vertical', 'editar', 'tambe', 'agrícoles', 'fitxer', 'innovador', 'signatures', 'pinya', 'proporciona', 'oposar', 'praga', 'angoixa', 'plantegen', 'científiques', 'canfelip', 'marcant', 'concentrat', 'reconeguda', 'addicional', 'pura', 'cantabria', 'endins', 'especialitzats', 'blindat', 'genolls', 'sumen', 'batut', 'protestes', 'mor', 'presumpte', 'indignació', 'mancances', 'massi', 'eramprunyà', 'portuguès', 'músics', 'castelladre', 'substàncies', 'exclusiva', 'pissarra', 'oblit', 'surti', 'celebracions', 'funcionalitat', 'tel', 'presentats', 'superant', 'tràfic', 'desitjar', 'notat', 'estand', 'mana', 'successió', 'portaveus', 'sensibilitat', 'deportats', 'cin', 'militants', 'fortalesa', 'permetia', 'insultar', 'amplia', 'molècules', 'obstacles', 'esborrar', 'altament', 'cadenes', 'coincidit', 'cuirassat', 'realitzats', 'reclamat', 'secreta', 'estàndards', 'stage', 'congressos', 'internacionalització', 'queixes', 'hotels', 'seriosament', 'massiva', 'mourinho', 'roc', 'lligada', 'vegetals', 'condemnar', 'galícia', 'tancarà', 'equivalent', 'esglésies', 'pineda', 'castro', 'ona', 'autònomes', 'urbans', 'expositors', 'especialització', 'alonso', 'acusats', 'impressions', 'dietes', 'gr', 'estatals', 'envelliment', 'queia', 'mesurar', 'horts', 'fèiem', 'subministraments', 'lusions', 'puntuable', 'exposa', 'indicis', 'seguia', 'trams', 'demano', 'grec', 'policials', 'gàbia', 'equilibrada', 'juntes', 'buron', 'oscil', 'validesa', 'derbi', 'ecosistema', 'autorització', 'temàtiques', 'barceloní', 'desplaçaments', 'narcís', 'cendres', 'atletes', 'segovia', 'paracaigudistes', 'renovar', 'fórmules', 'profund', 'atenent', 'placa', 'crisis', 'fotògraf', 'considerats', 'nombrar', 'russa', 'austríac', 'ribó', 'benjamins', 'poma', 'science', 'conserva', 'cerebral', 'irregularitats', 'aeròdrom', 'coordinat', 'gramaticals', 'republicans', 'àudio', 'suert', 'estable', 'currículum', 'mobles', 'lúdica', 'esbrinar', 'plegar', 'besòs', 'característica', 'treballarà', 'dresden', 'negatius', 'trau', 'volant', 'rient', 'visualitzar', 'gestor', 'reformes', 'arribés', 'inclourà', 'culpables', 'compatibilitat', 'presidir', 'ensenyat', 'dotat', 'gràfic', 'vindrà', 'visibilitat', 'activar', 'elèctrica', 'aires', 'formals', 'malauradament', 'top', 'reconstruir', 'groga', 'dream', 'banca', 'atmosfèrica', 'perpinyà', 'entrena', 'operatiu', 'descomptat', 'columnes', 'cregut', 'àpats', 'incloses', 'amigues', 'pons', 'ciano', 'isidre', 'cerceda', 'vapor', 'constants', 'repensar', 'politècnica', 'previsions', 'regionals', 'ligents', 'canvien', 'proclamat', 'sona', 'belleu', 'típics', 'símbols', 'ambaixada', 'demanaven', 'berenar', 'comparteix', 'estimada', 'consolidat', 'paguen', 'mèrits', 'específicament', 'arribaran', 'agrària', 'repetit', 'falsa', 'eleuteri', 'magna', 'censura', 'educar', 'practicat', 'alevins', 'previs', 'màrius', 'finalistes', 'maricel', 'motivar', 'sandro', 'explorar', 'coronavirus', 'subministrament', 'armat', 'facis', 'parli', 'automòbil', 'posats', 'serp', 'penes', 'afegint', 'millet', 'administrador', 'normals', 'desesperat', 'encarregats', 'continuaven', 'centrada', 'atractius', 'romana', 'sorpreses', 'temple', 'blindada', 'maials', 'permanència', 'pilates', 'rumb', 'proporció', 'anglesa', 'afegim', 'flames', 'anècdota', 'vivències', 'quedés', 'suec', 'ratxa', 'connexions', 'conjugació', 'seient', 'artesans', 'mutació', 'tastar', 'donaria', 'feliços', 'agafava', 'anima', 'escrivint', 'creuer', 'dotzena', 'reaccions', 'adeu', 'missa', 'aliment', 'xarnec', 'flexibilitat', 'super', 'nega', 'enti', 'globals', 'líquid', 'respirar', 'durament', 'llatina', 'cristians', 'muntat', 'fallar', 'cinquantena', 'cant', 'desitjos', 'preparada', 'activistes', 'màxims', 'tractant', 'imperial', 'school', 'doctorat', 'estreta', 'empleats', 'enva', 'plaza', 'innovadora', 'candelària', 'graella', 'circ', 'adherit', 'localitzar', 'descrit', 'romà', 'reconeguts', 'raigs', 'dietari', 'den', 'menyspreu', 'ametller', 'ripollet', 'granja', 'blat', 'contractar', 'app', 'simó', 'veurà', 'determinada', 'fruites', 'seguirem', 'indústries', 'recta', 'promesa', 'trobarà', 'mascle', 'detenció', 'traspàs', 'palès', 'valents', 'subratllat', 'preocupa', 'dipòsits', 'metralladores', 'suports', 'automàtica', 'encaixat', 'junior', 'mogut', 'bocins', 'lió', 'gestors', 'ismael', 'sotmès', 'tracten', 'qualitats', 'matinal', 'bassano', 'senzillament', 'topar', 'equador', 'nocturn', 'gaudeix', 'mundials', 'palamós', 'neta', 'paràgrafs', 'dansa', 'mines', 'cavaller', 'nombres', 'beca', 'aèries', 'càmeres', 'mercedes', 'dictats', 'quota', 'alejandro', 'vegetal', 'obligada', 'xvi', 'mirador', 'capturar', 'leningrad', 'trencament', 'aixi', 'advertit', 'almería', 'executat', 'learning', 'noticia', 'filòsof', 'gispert', 'faràs', 'amable', 'cambrer', 'variació', 'intents', 'savi', 'faisó', 'catala', 'compres', 'acabaven', 'suportar', 'forats', 'valladolid', 'versalles', 'delta', 'katrina', 'negat', 'monstre', 'bèstia', 'expulsat', 'quevert', 'financers', 'compost', 'escombraries', 'picat', 'dretes', 'receptors', 'budells', 'mateu', 'indicatiu', 'meritxell', 'obrer', 'disposava', 'mínims', 'captació', 'escorta', 'pròpiament', 'celler', 'financeres', 'múltiple', 'mentides', 'districtes', 'beguda', 'defensen', 'favorables', 'manipulació', 'estratègics', 'votacions', 'precisa', 'destructors', 'documentals', 'llinatges', 'vet', 'artesa', 'onades', 'estadística', 'marquen', 'provat', 'mereixen', 'moll', 'admiració', 'tena', 'reforçat', 'nitrogen', 'expulsió', 'ratolí', 'emplenar', 'radical', 'greument', 'desfer', 'gitanos', 'marimon', 'carmen', 'posse', 'catòlics', 'controls', 'mantindrà', 'comportar', 'poetes', 'vinculació', 'menja', 'malestar', 'prima', 'alpicat', 'salvatges', 'monarca', 'planes', 'merescut', 'potents', 'cessió', 'construint', 'bord', 'rebia', 'lleó', 'ferida', 'tertúlies', 'cultius', 'fotut', 'gestions', 'eliminat', 'indignats', 'cobert', 'cristal', 'favorit', 'avança', 'tourmalet', 'bonet', 'pintor', 'vaja', 'ninot', 'admès', 'armada', 'corda', 'conformen', 'consumir', 'geli', 'imposant', 'mentalitat', 'julius', 'seré', 'treballaven', 'morell', 'lot', 'extrems', 'avançades', 'rundstedt', 'necessites', 'tributària', 'preparador', 'belga', 'gesta', 'pretenen', 'kilòmetres', 'vichy', 'digne', 'flux', 'vorera', 'inspirat', 'informàtics', 'supressió', 'confirma', 'separat', 'emportat', 'vigor', 'truc', 'infinit', 'legiats', 'observant', 'preses', 'bloqueig', 'màgica', 'llegim', 'políticament', 'acostuma', 'racisme', 'complementàries', 'franc', 'padrí', 'capdamunt', 'vincle', 'canadà', 'variabilitat', 'hipòtesi', 'suara', 'treballadores', 'escoltava', 'cartera', 'borsa', 'halder', 'comunes', 'xii', 'ocell', 'partidari', 'talla', 'ubicada', 'ubicació', 'coordinar', 'disposarà', 'convenient', 'incompatibilitat', 'tecnològics', 'deixarà', 'cross', 'conservador', 'guanyen', 'vés', 'blanch', 'distribuir', 'tristesa', 'sra', 'cac', 'dubtar', 'vermells', 'arribin', 'fila', 'setena', 'muñoz', 'fotogràfic', 'capellades', 'religiosos', 'vestíbul', 'sonora', 'intu', 'blaves', 'caracteritza', 'uoc', 'tàctic', 'gramenet', 'encàrrec', 'galàxia', 'jaqueta', 'enfonsat', 'túnel', 'mediterranis', 'stauffenberg', 'aliada', 'subgrup', 'jiménez', 'veiés', 'tribunals', 'trossos', 'ficat', 'antònia', 'mut', 'biomassa', 'pagaments', 'ludwig', 'tumorals', 'egipte', 'havies', 'explotar', 'quinzena', 'creient', 'àcids', 'màsters', 'pròrroga', 'genial', 'carnaval', 'lats', 'dependència', 'compromesa', 'callar', 'thomas', 'bogeria', 'esdevenen', 'exigències', 'revisat', 'extreure', 'reichsmarks', 'participatiu', 'vigilar', 'existir', 'golejat', 'dwight', 'legalitat', 'mitjanes', 'enquestes', 'siguem', 'tibau', 'ecs', 'capdevila', 'avenços', 'panxa', 'lectives', 'sàpiga', 'esvàstica', 'franquesa', 'lits', 'vielha', 'gaudit', 'vendes', 'seguiran', 'maco', 'amaga', 'bisbal', 'atorga', 'diccionaris', 'convocatòries', 'afer', 'vine', 'aniré', 'utilitzada', 'endinsar', 'plenari', 'enfrontaments', 'peró', 'taronja', 'espatlles', 'video', 'torrefarrera', 'clicant', 'tramvia', 'joia', 'anècdotes', 'tresor', 'tumors', 'implicat', 'z', 'pl', 'esdevenia', 'aeris', 'tur', 'presideix', 'gra', 'visibles', 'villas', 'volent', 'favorits', 'mons', 'confusió', 'repeteix', 'brandenburg', 'passem', 'simples', 'captar', 'catalanisme', 'accensi', 'perduts', 'anomenats', 'mite', 'esfera', 'consistoris', 'incapaç', 'preocupar', 'neurones', 'baró', 'presentava', 'atracció', 'comissaria', 'cuenca', 'atractiva', 'impedit', 'militant', 'misteri', 'invertir', 'correccions', 'estrangeres', 'bella', 'patton', 'judicials', 'òptica', 'lord', 'chacón', 'bernard', 'deixés', 'transportar', 'racial', 'cròniques', 'sinònims', 'satisfer', 'mark', 'moderat', 'apunts', 'coherència', 'llançat', 'marin', 'retallar', 'creuat', 'estalvis', 'bombarder', 'apartar', 'acosta', 'austeritat', 'emprenedor', 'decepció', 'disfrutar', 'fotem', 'james', 'lament', 'obtingudes', 'iva', 'padilla', 'hostal', 'sàpiguen', 'parer', 'bou', 'llegia', 'llop', 'belles', 'pluges', 'oklliga', 'udo', 'avinyó', 'ajustar', 'andrés', 'esade', 'diana', 'religiós', 'sotmetre', 'animem', 'estiguessin', 'ibèrica', 'cooperatives', 'llegat', 'ley', 'requereixen', 'emissores', 'capellà', 'desesperada', 'banyoles', 'urbanes', 'retard', 'pobra', 'inexistent', 'rotació', 'ensenya', 'estranys', 'todt', 'coincideixen', 'depenen', 'gats', 'recomanat', 'típica', 'radicals', 'pq', 'podrit', 'renúncia', 'torrelameu', 'desenvolupats', 'nacionalsocialistes', 'perqué', 'castellar', 'rebaixa', 'concedit', 'piera', 'identificat', 'meravellós', 'composta', 'circumstància', 'llicències', 'parat', 'rentar', 'qué', 'vinguin', 'cometes', 'densitat', 'obren', 'bàndol', 'frau', 'trista', 'considerant', 'august', 'tito', 'excursionista', 'ideals', 'afores', 'teatral', 'sumant', 'autobusos', 'blindats', 'putes', 'coratge', 'urbanització', 'lesionat', 'cruels', 'verí', 'climàtica', 'canaris', 'peter', 'guiades', 'training', 'escòcia', 'kersten', 'japoneses', 'siguis', 'presoner', 'càrregues', 'gastronòmica', 'incidents', 'seguides', 'adients', 'capitals', 'brauchitsch', 'genètiques', 'afirmació', 'fritsch', 'desviat', 'vulgueu', 'montseny', 'accessible', 'afirmava', 'continuem', 'estarem', 'inspiració', 'assessora', 'sentenciar', 'dòlars', 'debutar', 'fidels', 'cova', 'convenciment', 'torelló', 'àgil', 'neguit', 'licitació', 'cáceres', 'mobile', 'rin', 'treballo', 'trastorns', 'protocols', 'dinamitzar', 'fàcils', 'pepe', 'genomes', 'sigles', 'gerundi', 'fomenta', 'sòlida', 'org', 'bilbao', 'velles', 'pobrissó', 'html', 'complicades', 'gerd', 'partisans', 'marxat', 'ambients', 'sabó', 'vil', 'supervivents', 'ecològics', 'estatuts', 'roent', 'cobren', 'adquirit', 'bales', 'extern', 'ingrés', 'alliberació', 'portabella', 'implicades', 'respectives', 'notificacions', 'adjudicació', 'delegacions', 'corre', 'lidera', 'batalles', 'repassant', 'boicot', 'atacat', 'potes', 'inventat', 'bruts', 'partidaris', 'assenyalen', 'símptomes', 'treuen', 'últimament', 'joel', 'sagrada', 'vencedor', 'reforços', 'paulus', 'puntuar', 'suspès', 'hò', 'ocupen', 'formades', 'falòrnies', 'molí', 'st', 'cauen', 'federacions', 'international', 'nets', 'practicant', 'escàndol', 'exconseller', 'lluitat', 'marxes', 'codis', 'transcripció', 'preveure', 'parlaments', 'escapat', 'compromet', 'paguem', 'valora', 'colpistes', 'webs', 'desitjat', 'notava', 'integrant', 'postal', 'picar', 'intento', 'infermera', 'esborrany', 'zhukov', 'condol', 'augmentant', 'magatzem', 'clàssiques', 'ocupava', 'tigre', 'minimitzar', 'comentant', 'olímpica', 'adéu', 'terç', 'controlada', 'decàleg', 'celebrem', 'corregint', 'cuinar', 'priorat', 'asseguren', 'accepta', 'segurs', 'treia', 'escolteu', 'hernández', 'pioners', 'díez', 'activista', 'enviament', 'pilotes', 'assisteix', 'trail', 'brot', 'llacs', 'vermelles', 'vitals', 'herrera', 'perden', 'prèvies', 'olga', 'romanès', 'tallat', 'contratacs', 'experimentat', 'pin', 'classificacions', 'gèneres', 'metabolisme', 'molèsties', 'xic', 'oients', 'lluent', 'aportant', 'procedència', 'properament', 'decisius', 'irregular', 'down', 'recte', 'comparat', 'etern', 'pancarta', 'vindran', 'puny', 'preferir', 'savis', 'síndrome', 'jovent', 'ordenació', 'deportiu', 'diàries', 'up', 'representat', 'extremadura', 'roques', 'preservació', 'portuguesos', 'darrerament', 'jurídics', 'derivades', 'cremat', 'calcular', 'parcialment', 'expressament', 'auto', 'infeccions', 'apostar', 'bismarck', 'empats', 'málaga', 'necessitaven', 'café', 'premià', 'casat', 'exacte', 'funeral', 'hèstia', 'derrotar', 'setanta', 'enganyar', 'gravar', 'oceans', 'reproduir', 'eufòria', 'coneixeu', 'anglesola', 'elegant', 'mitjanit', 'espectre', 'pintar', 'inspecció', 'venta', 'fosques', 'hoffmann', 'vega', 'antiaèria', 'alimentària', 'meta', 'virtut', 'divideix', 'hanfstaengl', 'llevar', 'berlinesos', 'pétain', 'alois', 'esdevindre', 'rector', 'ajudi', 'quadern', 'jose', 'baixat', 'lega', 'privilegi', 'albiol', 'internes', 'pressupostària', 'afusellar', 'moneda', 'parquet', 'malson', 'arrestat', 'cinta', 'villa', 'metre', 'dèbil', 'biològiques', 'pastisseria', 'mobilitzar', 'mantega', 'adreçats', 'tapar', 'tramesa', 'alteracions', 'pàdel', 'començaven', 'jerarques', 'presentant', 'oliver', 'compensar', 'paquets', 'mòduls', 'pèls', 'calers', 'instància', 'dr', 'mitges', 'fallida', 'catalanista', 'calders', 'llogar', 'guanyava', 'tirant', 'delegats', 'aconsellar', 'lada', 'deixaven', 'verdes', 'at', 'butxaques', 'musculars', 'pantalles', 'informal', 'lliurement', 'carl', 'governació', 'negatives', 'delegada', 'davall', 'júlia', 'piulada', 'castanyada', 'focs', 'calent', 'concursos', 'socialment', 'modernes', 'galàxies', 'esperat', 'problemàtiques', 'plàstic', 'lleterada', 'kms', 'moros', 'reblat', 'creuers', 'xinesos', 'dachau', 'basats', 'finalització', 'núvol', 'luna', 'íntim', 'clavar', 'dependrà', 'vallverdú', 'tipologia', 'amorós', 'fixeu', 'legió', 'valentia', 'encanta', 'ocupant', 'bru', 'complexes', 'valia', 'cuní', 'repugnant', 'ramón', 'álvarez', 'serrano', 'daurada', 'trenca', 'sudets', 'trobi', 'recupera', 'joguina', 'adolescència', 'robatori', 'sandra', 'danzig', 'am', 'endeutament', 'juli', 'mina', 'henry', 'sancions', 'monuments', 'kids', 'vestir', 'salari', 'contrària', 'occident', 'cines', 'validació', 'ressenya', 'tèxtil', 'allunyar', 'dèiem', 'ones', 'ràpids', 'superació', 'tradicionalment', 'comboi', 'economista', 'carlene', 'convocada', 'victor', 'sents', 'ampolles', 'milà', 'bessons', 'monstres', 'acolliment', 'tricentenari', 'cuixes', 'guipúzcoa', 'concentrats', 'calaix', 'substància', 'closca', 'mocador', 'esmena', 'estrictament', 'festiu', 'venut', 'ortogràfiques', 'jaén', 'assignar', 'victoria', 'bocí', 'hauré', 'inaugura', 'munició', 'partidàs', 'recuperant', 'apartats', 'febre', 'urnes', 'ferroviari', 'apoderar', 'guarda', 'abel', 'posés', 'casadevall', 'òscar', 'adonava', 'misèria', 'senat', 'promovent', 'mural', 'instants', 'aplec', 'parells', 'tònica', 'sortiran', 'colell', 'socialdemòcrata', 'podré', 'enteniment', 'castellnou', 'lluis', 'oagrtl', 'dominant', 'gual', 'aprofiten', 'culte', 'finalitza', 'esdevingui', 'park', 'quedin', 'perdia', 'abraçar', 'marcs', 'requeriments', 'temporals', 'màniga', 'pudents', 'guanyem', 'administratius', 'carulla', 'tingué', 'treballadora', 'desenvoluparà', 'hort', 'petó', 'salou', 'reunirà', 'progressiva', 'creativa', 'corria', 'rebutja', 'obertament', 'estimular', 'anessin', 'constituent', 'aparentment', 'interpel', 'ero', 'bruta', 'diàmetre', 'votants', 'membrana', 'excursions', 'articular', 'dependències', 'romans', 'omplert', 'campo', 'hàbit', 'indispensable', 'claramunt', 'contrasenya', 'practica', 'tc', 'emet', 'cassola', 'privilegis', 'obria', 'sensible', 'variable', 'exposats', 'retrat', 'extensa', 'comunisme', 'aparcament', 'wilhelmstrasse', 'guardons', 'tindreu', 'transparent', 'informàtic', 'violents', 'iceta', 'firal', 'incentivar', 'dediquen', 'somrient', 'fact', 'palacín', 'tarannà', 'trajectòries', 'invisible', 'berga', 'concentracions', 'legalment', 'injust', 'manifestants', 'condicionament', 'serviran', 'petromiralles', 'camió', 'lleu', 'imputat', 'italianes', 'fantàstica', 'penetrar', 'obrint', 'inversors', 'gaudí', 'portugués', 'albacete', 'compleixen', 'relaxar', 'introdueix', 'bavaresa', 'catalanoparlants', 'mànega', 'fites', 'ombres', 'endevinar', 'adult', 'fonamentalment', 'omple', 'carro', 'creador', 'travessa', 'continuarem', 'beobachter', 'laboratiu', 'fracassat', 'posicionament', 'intentaran', 'ajudin', 'facilitats', 'intensament', 'canta', 'eres', 'hivernacle', 'editors', 'intentaven', 'cooperatiu', 'fareu', 'alcobendas', 'lkischer', 'loqui', 'bad', 'precís', 'gustos', 'paio', 'escollits', 'governança', 'tàctics', 'duien', 'equivocat', 'gaudint', 'arribessin', 'malparits', 'perills', 'genètics', 'eutanàsia', 'lí', 'research', 'diguin', 'iniciació', 'aixecant', 'fallat', 'domènech', 'excessivament', 'avinentesa', 'transmet', 'consistirà', 'citat', 'assumeix', 'aeroports', 'politics', 'comencés', 'creen', 'llança', 'educadors', 'iu', 'aportarà', 'orfeó', 'biomèdica', 'fidelitat', 'quilòmetre', 'truita', 'adaptada', 'hàbitats', 'donació', 'aterratge', 'prudenci', 'atzar', 'tronc', 'responen', 'encapçalada', 'externa', 'coneguin', 'recollides', 'paris', 'dono', 'palestina', 'fotogràfica', 'piles', 'hitlerianes', 'ras', 'pop', 'inscrit', 'quantitatius', 'actuen', 'excepcions', 'míting', 'das', 'estarien', 'protagonitzar', 'events', 'cereals', 'afany', 'neutralitat', 'finalitats', 'encant', 'conscienciar', 'magistral', 'opinar', 'devien', 'actuat', 'vit', 'adequadament', 'só', 'cansats', 'instagram', 'coneixent', 'aparador', 'essa', 'emergències', 'farré', 'viatgers', 'guardonats', 'separats', 'nascuts', 'arbeca', 'gastar', 'ven', 'carla', 'demostrant', 'tunísia', 'sisè', 'jutjats', 'emocionant', 'corruptes', 'durat', 'neandertals', 'llapis', 'utilitzades', 'adherir', 'atleta', 'anotar', 'cb', 'rosselló', 'globus', 'pimec', 'romero', 'imperfet', 'versos', 'perdices', 'plantat', 'elaborats', 'pluralitat', 'celebraran', 'ministra', 'pedrera', 'fòsfor', 'guionet', 'diego', 'asturias', 'alexander', 'treballaran', 'tour', 'convent', 'sentien', 'repartiment', 'di', 'letal', 'vestidors', 'rebudes', 'descendents', 'aplaudiments', 'born', 'úniques', 'coherent', 'setze', 'ordinadors', 'nan', 'tensions', 'publicades', 'servidor', 'refer', 'eternitat', 'animeu', 'comparada', 'culpar', 'solucionari', 'estructurals', 'energètic', 'ajornat', 'productiu', 'eichmann', 'cercant', 'dibuixar', 'participativa', 'gibraltar', 'romandre', 'conservadors', 'moderada', 'facilitada', 'cuba', 'castellers', 'assumint', 'carpeta', 'fernandez', 'còpies', 'esdevingué', 'cuc', 'constel', 'figa', 'sistemàtica', 'cobertes', 'encarar', 'externs', 'semblaven', 'tapes', 'recullen', 'estades', 'intensos', 'clavat', 'definicions', 'lluites', 'lleugera', 'xvii', 'tribuna', 'brutícia', 'ssos', 'femenins', 'radiofònic', 'escenes', 'convicció', 'gramatical', 'candel', 'pesat', 'deportació', 'limitada', 'macba', 'michael', 'lics', 'identifica', 'tortura', 'equival', 'sotmesos', 'maleta', 'decidida', 'barcelonins', 'plaques', 'irene', 'lars', 'promogut', 'dipòsit', 'deixin', 'viladecans', 'bradley', 'vegi', 'ribas', 'arrossega', 'emprat', 'compartim', 'caus', 'telecomunicacions', 'big', 'portaria', 'viària', 'condueix', 'abaixar', 'formaven', 'inevitable', 'taxi', 'partides', 'santander', 'hipòlit', 'passo', 'convenció', 'singulars', 'càlculs', 'recol', 'deutes', 'preparatius', 'famosos', 'extret', 'pins', 'strasse', 'ses', 'armistici', 'ungles', 'experta', 'extremadament', 'balear', 'sobtat', 'deus', 'aznar', 'laboracions', 'suposadament', 'laboradora', 'ignacio', 'valverde', 'passeu', 'produint', 'padró', 'tsjc', 'sobiranistes', 'estimen', 'salvació', 'posarem', 'traductor', 'enrique', 'vostès', 'posin', 'proposades', 'escolarització', 'jutjar', 'promès', 'protegit', 'carol', 'mol', 'yeste', 'històricament', 'adona', 'prades', 'mesón', 'descripcions', 'incorporen', 'magí', 'activació', 'desplegar', 'grip', 'nomenar', 'flora', 'perfecció', 'formigues', 'consumidors', 'tocats', 'castellana', 'atape', 'impulsors', 'mayor', 'aqueix', 'vicepresidents', 'reg', 'carner', 'marí', 'religioses', 'revela', 'lenta', 'disminuir', 'reichswehr', 'copsar', 'dedicades', 'dirà', 'rebaixar', 'examinar', 'vetllar', 'trepitjar', 'complementar', 'totgraf', 'mercuri', 'pisa', 'acostumats', 'acusació', 'provenen', 'nucleòtids', 'casernes', 'pizza', 'inrevés', 'labes', 'revolta', 'ong', 'cm', 'estruch', 'robatoris', 'bitllets', 'eulàlia', 'optimista', 'matat', 'law', 'antisemitisme', 'musulmans', 'dorsal', 'regeneració', 'berguedà', 'cèntims', 'doctors', 'aconsegueixen', 'incrementat', 'reparació', 'lleialtat', 'gola', 'turquia', 'abad', 'deportar', 'elits', 'querol', 'iugoslàvia', 'fortament', 'multes', 'ambiciós', 'benach', 'marines', 'comenci', 'tiergarten', 'benvinguts', 'meravellosa', 'proposats', 'diferenciar', 'endut', 'aparadors', 'gràfica', 'estefania', 'aparent', 'conjunció', 'montreux', 'acreditació', 'vinc', 'carreres', 'cagat', 'democràtics', 'pet', 'pecat', 'comportaments', 'formava', 'queien', 'fondarella', 'realitats', 'constatar', 'contribueixen', 'pasqua', 'usa', 'peñuelas', 'yogaone', 'lliçons', 'generant', 'esglai', 'amples', 'jordà', 'poso', 'cnlte', 'gènica', 'fep', 'esperats', 'frankfurt', 'músic', 'terrorista', 'ardenes', 'caient', 'justificat', 'puerto', 'projectar', 'turmell', 'ávila', 'sindicatura', 'inconvenients', 'minerals', 'pits', 'quotidianes', 'dieu', 'inútils', 'bateries', 'simon', 'gallec', 'castellans', 'laba', 'prestar', 'arreglar', 'feminista', 'entenent', 'combinen', 'amplada', 'apunten', 'escrivim', 'ampla', 'gorra', 'recital', 'servia', 'plorant', 'rialles', 'comunicatives', 'infermeres', 'justificació', 'ferotge', 'perseguir', 'penjats', 'busqui', 'cola', 'seguien', 'udc', 'lladó', 'herba', 'substitueix', 'influir', 'eta', 'solà', 'hagis', 'tennis', 'compara', 'unter', 'dependents', 'acusacions', 'costes', 'allistar', 'enitz', 'atacant', 'monges', 'monzó', 'motos', 'falses', 'capdecony', 'preferent', 'filologia', 'conviure', 'linden', 'acabarem', 'curiositats', 'expressen', 'fundat', 'ecològic', 'mocions', 'amanida', 'investidura', 'germanes', 'autogovern', 'tinguis', 'puigcerdà', 'formatiu', 'passejada', 'defensor', 'basar', 'diàriament', 'comprovat', 'adulta', 'penjant', 'armand', 'busquem', 'orbital', 'ganivets', 'carregats', 'necessàriament', 'incorrecte', 'cabré', 'agressivitat', 'incertesa', 'sorolls', 'dobles', 'falòrnia', 'productivitat', 'elevats', 'dental', 'destacant', 'significatiu', 'got', 'solvència', 'crueltat', 'rufach', 'oncle', 'avisos', 'qualificar', 'rànquing', 'dibuixos', 'lodi', 'diez', 'dirigien', 'determinants', 'bala', 'acompanyen', 'xicot', 'comercialització', 'alçades', 'rucs', 'patien', 'salsa', 'bles', 'llimona', 'porti', 'raimon', 'ascendit', 'española', 'defensors', 'comunitari', 'parcel', 'inventar', 'upc', 'organitzant', 'tornaré', 'compositor', 'narra', 'guix', 'conill', 'manuals', 'abric', 'assegurant', 'minyona', 'solell', 'mirem', 'vianants', 'pascual', 'avellanes', 'províncies', 'joies', 'avantpassats', 'destinataris', 'paradigma', 'contínuament', 'explicarà', 'enfrontaran', 'alimentari', 'irlanda', 'barrejar', 'inferioritat', 'puigverd', 'napoleó', 'pretenia', 'supervisió', 'personalitzada', 'nocturna', 'dividit', 'existia', 'evacuació', 'cobra', 'urpes', 'gal', 'assisteixen', 'vuitena', 'begut', 'dimonis', 'cretins', 'urgències', 'quilos', 'integritat', 'inquietuds', 'sanitàries', 'suprimir', 'ponències', 'perfectes', 'osonenc', 'generositat', 'allunyat', 'soles', 'anell', 'innombrables', 'plató', 'valencians', 'invent', 'fica', 'bruixes', 'incloguin', 'tou', 'capella', 'encontinent', 'sortís', 'prefereixo', 'grecs', 'aldarulls', 'sincerament', 'guadalajara', 'secs', 'egona', 'manta', 'rodar', 'catòlic', 'enriquir', 'faldilles', 'seriosa', 'fils', 'ventre', 'comandaments', 'calmar', 'tura', 'orientacions', 'montblanc', 'escollida', 'queixals', 'remodelació', 'àneu', 'parlarà', 'cre', 'posaven', 'mentalment', 'strasser', 'tauleta', 'fitxar', 'bat', 'marie', 'fermesa', 'vinyes', 'complot', 'setge', 'portuguesa', 'segueixi', 'trobeu', 'frick', 'gp', 'vuitanta', 'fulla', 'holandès', 'sensibilitzar', 'disculpes', 'aplegar', 'resumir', 'vicent', 'enlairar', 'bulgària', 'emblemàtic', 'jugaven', 'regidoria', 'restriccions', 'portés', 'atentament', 'pelar', 'clot', 'adaptats', 'mític', 'debades', 'retrobar', 'reprendre', 'entrevistat', 'avançava', 'pacífica', 'reivindicacions', 'estones', 'capturat', 'crimea', 'rematat', 'prémer', 'passejant', 'escorça', 'flama', 'suposava', 'afecte', 'terroristes', 'interoperabilitat', 'diploma', 'tira', 'minerva', 'sembli', 'mèdiques', 'serps', 'cucs', 'llits', 'defensava', 'miró', 'laborativa', 'causat', 'refugiar', 'anton', 'burgesia', 'soria', 'significativa', 'blindades', 'posaran', 'fo', 'aprenem', 'comas', 'neutre', 'esmentats', 'estimo', 'cívica', 'tossa', 'normandia', 'follonica', 'feder', 'independencia', 'apropa', 'castillo', 'desviar', 'theodor', 'ginebra', 'poètic', 'federats', 'limitació', 'pressionar', 'televisions', 'fundada', 'temporalment', 'entrepà', 'perú', 'gracies', 'climent', 'determinant', 'obstacle', 'mirades', 'encapçalat', 'múscul', 'encarrega', 'triple', 'curtes', 'comprèn', 'samarretes', 'obtinguda', 'teixidó', 'destina', 'vigilant', 'xinesa', 'games', 'enigma', 'continuitat', 'assignat', 'atansa', 'saragossa', 'obrera', 'promotor', 'químiques', 'municipalisme', 'mencionar', 'trencats', 'reiterat', 'planetària', 'salaris', 'parcials', 'enamorat', 'gaudeixen', 'harmonia', 'navegació', 'enfronta', 'ànimes', 'creieu', 'rebost', 'dolenta', 'difícilment', 'capes', 'contribucions', 'consultori', 'fabricar', 'cullera', 'diòxid', 'quotes', 'vertebrats', 'protegits', 'apareixerà', 'imparable', 'consideraven', 'provoquen', 'qrim', 'digna', 'exdirector', 'presumptes', 'diner', 'polivalent', 'interiors', 'potsdam', 'parroquial', 'é', 'quedo', 'aficions', 'anglesos', 'mantenia', 'intimitat', 'biològic', 'criatures', 'menorca', 'río', 'utilitzava', 'rebent', 'motxilla', 'afiliar', 'estableixen', 'amena', 'breument', 'alimentar', 'acabo', 'entregat', 'tornin', 'teruel', 'comptem', 'diversió', 'integrats', 'observat', 'upyd', 'substitut', 'dni', 'reservat', 'bene', 'tragèdia', 'conques', 'espanyolistes', 'figuerola', 'socialisme', 'ibarz', 'mora', 'antena', 'adu', 'natàlia', 'destinarà', 'campanes', 'absorció', 'sabés', 'puntual', 'enunciat', 'lèxica', 'cardiovasculars', 'asseguts', 'running', 'air', 'abatut', 'intervenen', 'empresonat', 'daltabaix', 'informàtiques', 'despertat', 'diumenges', 'arquitectes', 'atlètic', 'drogues', 'corresponsal', 'tribu', 'mascarell', 'repeticions', 'ignorant', 'fresca', 'ignorància', 'irregulars', 'recollint', 'decebut', 'entraven', 'funcionalitats', 'professionalitat', 'loca', 'ceeilleida', 'philippe', 'arribaria', 'elevades', 'paeria', 'defensives', 'herbes', 'rebien', 'optimisme', 'buides', 'innovar', 'felix', 'apagar', 'atorgat', 'agressions', 'wert', 'comprobar', 'ansietat', 'tancades', 'capçalera', 'enviant', 'torrents', 'telèfons', 'sòlids', 'passaran', 'llença', 'venus', 'evita', 'encès', 'evitat', 'estructural', 'solidesa', 'assegurava', 'accessibilitat', 'zoo', 'reforça', 'fetge', 'estrenat', 'nuclears', 'vergés', 'delinqüents', 'fracassar', 'tindràs', 'trabal', 'almacelles', 'kennedy', 'dh', 'bariles', 'endevina', 'fongs', 'afirmen', 'convencional', 'biològics', 'recomanació', 'linz', 'innocent', 'regla', 'agrari', 'productora', 'fp', 'seients', 'ninots', 'cerveseria', 'espanyolista', 'tolerància', 'toledo', 'rapidesa', 'implantar', 'voldrien', 'princesa', 'leles', 'evitant', 'ensurt', 'potencials', 'efectives', 'normatives', 'pensió', 'solitud', 'gaspar', 'artístics', 'descartar', 'confondre', 'editorials', 'cg', 'pronúncia', 'vàzquez', 'viable', 'interessada', 'promouen', 'permetria', 'contenció', 'reconec', 'fronts', 'gremi', 'fisiologia', 'conjunts', 'torno', 'directrius', 'alçar', 'quarantena', 'dedicats', 'prejudicis', 'evacuar', 'baralla', 'destinacions', 'senyalar', 'reservar', 'esclau', 'succeir', 'rubalcaba', 'inseguretat', 'impliquen', 'creences', 'vàlua', 'captura', 'adaptant', 'moleculars', 'esmentar', 'escalfar', 'preveia', 'recolzament', 'discapacitats', 'bitllet', 'presenti', 'suís', 'biosfera', 'monjos', 'veuràs', 'televisiu', 'aplaudir', 'jan', 'pujava', 'percentatges', 'av', 'quedaran', 'orgullosos', 'destinatari', 'credibilitat', 'maniobra', 'guaita', 'volums', 'tòquio', 'marges', 'insult', 'càtedra', 'diferenciació', 'artificials', 'apostat', 'determina', 'jaumet', 'ganivet', 'desgraciat', 'ren', 'serveixi', 'sinònim', 'comptava', 'limfòcits', 'treballats', 'perillosos', 'guanyadores', 'astúries', 'temàtics', 'terrorisme', 'vàlid', 'imposició', 'mólotov', 'amagats', 'restablir', 'pernil', 'compartint', 'decadència', 'alto', 'acostumat', 'pensions', 'bosses', 'pactes', 'fantasia', 'aragonès', 'absent', 'impedeix', 'austríaca', 'legis', 'trobin', 'laboratoris', 'porteu', 'verdú', 'prototip', 'actualitzar', 'valoracions', 'abraçada', 'pixar', 'consistent', 'culs', 'sch', 'eric', 'enterrat', 'hidrogen', 'escreix', 'far', 'ganxet', 'line', 'journal', 'liberal', 'commemora', 'primes', 'àtoms', 'reestructuració', 'dgpl', 'publiquen', 'moltíssimes', 'sl', 'apostrofació', 'interestel', 'indicant', 'diacrítics', 'estranquis', 'fuster', 'hashtag', 'rates', 'consecutives', 'massiu', 'reivindicat', 'deriven', 'bibliografia', 'justicia', 'forcadell', 'acabin', 'gràfics', 'pebre', 'mona', 'entrés', 'envoltat', 'virgili', 'aconseguim', 'raeder', 'doctoral', 'esquemes', 'contraris', 'point', 'expliquem', 'lesionats', 'viii', 'connectats', 'ordenada', 'representats', 'perles', 'presentin', 'dialectes', 'volcà', 'ordenança', 'absurd', 'barreres', 'progressivament', 'creixen', 'complementari', 'francés', 'romanesos', 'artesania', 'denuncien', 'benet', 'saviesa', 'txecs', 'observa', 'demanarà', 'xiv', 'operar', 'aprofitament', 'mútua', 'operador', 'lligats', 'enviada', 'interactiu', 'precipitació', 'atacats', 'panellets', 'globalleida', 'sur', 'tit', 'pierre', 'campament', 'ordinari', 'amat', 'ivàlua', 'rafa', 'marieta', 'liceu', 'ran', 'vindre', 'abelles', 'ó', 'sebrià', 'anònim', 'nutricional', 'turull', 'ferrocarrils', 'migracions', 'atreure', 'admissió', 'ripollès', 'heus', 'ajustada', 'ullada', 'gestionat', 'ssin', 'qatalà', 'perpètua', 'lus', 'variacions', 'monitors', 'defineixen', 'enfadar', 'suggeriments', 'parles', 'patrocinadors', 'tarradellas', 'ch', 'maligne', 'lingüista', 'organitzarà', 'esther', 'hipòtesis', 'santos', 'futbolista', 'biaix', 'doneu', 'separa', 'impressionat', 'wilson', 'assemblees', 'semestre', 'royal', 'pànic', 'tàctiques', 'confia', 'amistats', 'incidir', 'paula', 'parlamentàries', 'conviden', 'produccions', 'voldríem', 'penúltima', 'mm', 'còmodes', 'astronomia', 'titulada', 'còmics', 'pioner', 'justifica', 'espetec', 'avançaven', 'innovacions', 'estratègiques', 'racistes', 'conselh', 'uniformes', 'esplugues', 'retrocedir', 'allotjar', 'neville', 'vaticà', 'dites', 'desenvolupada', 'fatiga', 'marcadors', 'sicília', 'significats', 'ya', 'exposen', 'acompanyant', 'galliner', 'bacallà', 'àtona', 'diplomàtic', 'ciutadella', 'obtenen', 'pearl', 'granados', 'tutories', 'lligar', 'collserola', 'len', 'onu', 'enjondre', 'ferrocarril', 'expliqueu', 'andrea', 'establertes', 'neurath', 'argumentar', 'preinscripció', 'començà', 'racista', 'vuitens', 'radio', 'cicloturista', 'assistiran', 'secretàries', 'pelegrí', 'compatible', 'qualificacions', 'esqueia', 'analitzant', 'llosa', 'subgrups', 'partint', 'dyser', 'cullell', 'calçada', 'gravat', 'tovallola', 'integra', 'vingués', 'acampada', 'virtuts', 'sport', 'dispersió', 'formalment', 'mini', 'eventual', 'massanet', 'pessebre', 'estoneta', 'pilars', 'merdós', 'baixant', 'consolida', 'participin', 'signa', 'mortals', 'enganxar', 'trast', 'fundadors', 'assistencial', 'plantilles', 'rèplica', 'melero', 'disposaven', 'coets', 'emprenyat', 'cort', 'penja', 'íntegrament', 'cagallons', 'testament', 'fugida', 'odiava', 'immunitari', 'situen', 'instàncies', 'annalisa', 'tassa', 'confiava', 'cloure', 'tàndem', 'grossos', 'goril', 'convençuda', 'topònims', 'injecció', 'xofer', 'judit', 'convergent', 'principat', 'semi', 'estris', 'contrast', 'càpsules', 'batallons', 'proposava', 'ap', 'fluix', 'genocidi', 'sobtada', 'quedem', 'addicionals', 'actualitzada', 'calçotets', 'ju', 'remarca', 'prussià', 'detallat', 'necessito', 'acm', 'demostracions', 'adultes', 'waffen', 'continuaran', 'llegendes', 'ram', 'competitius', 'hidrats', 'basca', 'molla', 'amposta', 'forçat', 'bigues', 'conjuncions', 'sentències', 'sostres', 'elegir', 'holandesos', 'encapçala', 'graduats', 'agroalimentari', 'nosa', 'ofercat', 'àtones', 'senderisme', 'superfícies', 'xampany', 'natal', 'guiar', 'pietat', 'ignorants', 'consecutius', 'llamp', 'presons', 'equivocar', 'sencers', 'condicionat', 'repartits', 'cruyff', 'atrapats', 'salarial', 'horària', 'bol', 'cromosomes', 'vagó', 'invertit', 'golf', 'regalat', 'lamentable', 'mostrant', 'basant', 'margalef', 'comunitaris', 'estricte', 'deixaria', 'telenotícies', 'vitamines', 'autoritzar', 'informatives', 'lunar', 'maletes', 'llach', 'sabor', 'cuixplec', 'cristiana', 'plaga', 'callat', 'autocar', 'forçats', 'parlés', 'armari', 'cardant', 'autèntics', 'dora', 'barceló', 'escalada', 'penelles', 'esgotat', 'secretaris', 'desfet', 'franca', 'vencedors', 'abdominals', 'ciudad', 'márquez', 'diàlegs', 'margarida', 'metadades', 'revenja', 'trucs', 'dosi', 'impunitat', 'clatell', 'malignes', 'reivindica', 'pinta', 'literalment', 'mario', 'temor', 'curricular', 'descàrrega', 'streaming', 'descobriment', 'vizcaya', 'suficientment', 'coordina', 'secundari', 'poliesportiu', 'suspens', 'canàries', 'mosquito', 'ángel', 'llibreter', 'tardes', 'fotien', 'connecta', 'gustav', 'oferia', 'entreteniment', 'zamora', 'brasiler', 'conductors', 'gir', 'donades', 'extens', 'aturant', 'revertir', 'manies', 'traient', 'ly', 'desgraciats', 'purament', 'rodoreda', 'beneficiar', 'coordinada', 'diversificació', 'prioritzar', 'destructor', 'psicològics', 'prenia', 'senador', 'entrebancs', 'revelar', 'contar', 'respiració', 'succe', 'visualització', 'retreu', 'oliveirense', 'muralla', 'modernització', 'adolescent', 'tomb', 'auditoria', 'desconeguda', 'galan', 'finalitzarà', 'cremada', 'quintana', 'ctfc', 'didàctic', 'reservats', 'telecinco', 'carnestoltes', 'emocionat', 'osca', 'sucs', 'heroic', 'somiar', 'cabuda', 'dictar', 'llibreries', 'plus', 'teca', 'replicar', 'balls', 'exòtiques', 'fermament', 'eliminats', 'films', 'lúdic', 'intenten', 'batlle', 'moya', 'embolic', 'guinardó', 'conductes', 'cors', 'lloure', 'assessors', 'degradació', 'denúncies', 'complicar', 'designar', 'esme', 'pujadó', 'gravació', 'comptant', 'atrapat', 'ensopegada', 'cobreix', 'sobres', 'separen', 'allotjaments', 'jaciment', 'xus', 'tabac', 'grapat', 'enviarà', 'desconeguts', 'incorporant', 'agències', 'ximpanzès', 'tapas', 'bàltic', 'hiv', 'tornà', 'visions', 'centímetres', 'veuran', 'enganxat', 'exercit', 'modest', 'lluents', 'visiten', 'filial', 'cresp', 'evidencia', 'superen', 'participi', 'recordes', 'requisit', 'mensual', 'verges', 'haguéssim', 'capaces', 'accedeix', 'associatiu', 'júpiter', 'fuig', 'sortim', 'papallona', 'vitalitat', 'eixir', 'aminoàcids', 'santuari', 'simultània', 'perjudicar', 'trobaria', 'ràdios', 'dialecte', 'cometa', 'lligades', 'lídia', 'falsos', 'connectivitat', 'datpelcul', 'botiflers', 'posicionar', 'ramat', 'estudiats', 'assegurada', 'consumidor', 'monumental', 'inspirar', 'cireres', 'afirmant', 'omplen', 'míssils', 'telefònica', 'transicions', 'gòmez', 'envolten', 'fumar', 'foll', 'berchtesgaden', 'teledetecció', 'renal', 'diferencia', 'estudien', 'confiat', 'cervells', 'anirien', 'autoestima', 'resistents', 'teràpies', 'como', 'comptable', 'impartir', 'duta', 'ramírez', 'localització', 'fceg', 'violent', 'fran', 'maca', 'stick', 'rock', 'grupo', 'baba', 'plantejaments', 'malbaratament', 'contraatacs', 'tanquen', 'promeses', 'caràcters', 'intensiu', 'líbia', 'guardonat', 'complint', 'commemoracions', 'tramitar', 'lavabo', 'seràs', 'recaptar', 'emissor', 'àlbum', 'alert', 'espiritual', 'basen', 'carallots', 'crèixer', 'venim', 'xicota', 'xip', 'sensacional', 'brutals', 'atòmica', 'logístic', 'subterrani', 'marxés', 'disputada', 'argumentatiu', 'tous', 'noranta', 'igualat', 'postguerra', 'heil', 'osonencs', 'agrupar', 'ordenava', 'validar', 'llenguatges', 'laborant', 'setè', 'prosa', 'renfe', 'foix', 'detallada', 'jurídiques', 'aconseguia', 'faciliten', 'limita', 'menjava', 'disposicions', 'fugint', 'limitades', 'atrocitats', 'terminal', 'productor', 'cerveses', 'diran', 'caja', 'acabaran', 'continentals', 'pintures', 'majúscula', 'representava', 'escultura', 'soca', 'demòcrata', 'ci', 'donarem', 'agressiu', 'agilitat', 'formatges', 'terratrèmol', 'setmanari', 'homosexuals', 'autopistes', 'compensació', 'valoren', 'complementària', 'productiva', 'lligues', 'leipzigerstrasse', 'precaució', 'pors', 'sueca', 'schuschnigg', 'parir', 'espia', 'excessiu', 'bodega', 'formigó', 'mein', 'tió', 'inclusiva', 'agricultors', 'reportatges', 'adopció', 'lamentar', 'solta', 'celebrant', 'tardà', 'sars', 'direm', 'mensuals', 'formular', 'nerviosos', 'exploració', 'acceleració', 'hostaleria', 'fugit', 'fòrums', 'decoració', 'generau', 'acomiadat', 'formaran', 'susanna', 'empatia', 'villar', 'parlin', 'iniciada', 'claustre', 'pertinença', 'antuvi', 'cues', 'garanteixen', 'avantguarda', 'raig', 'pebrots', 'trobés', 'rodones', 'gom', 'aquet', 'tocarà', 'aigüestortes', 'oportú', 'commemoratiu', 'negociant', 'tament', 'tesis', 'matant', 'cessar', 'bit', 'abús', 'taca', 'vessants', 'sorgeix', 'adam', 'predir', 'faríem', 'gall', 'capmany', 'festius', 'explicatiu', 'castelló', 'tumoral', 'decurs', 'àmpliament', 'accessos', 'vel', 'visuals', 'programada', 'absències', 'declara', 'preparen', 'assegurança', 'enrera', 'senzilles', 'gòtic', 'sindicals', 'pronunciat', 'oblidem', 'imprimir', 'administratives', 'varem', 'sió', 'pregunto', 'meravella', 'silva', 'meteorològiques', 'escacs', 'vincular', 'sigueu', 'esmentada', 'luxemburg', 'arru', 'trampa', 'cou', 'descarta', 'mostraven', 'vii', 'desxifrar', 'fugien', 'programar', 'maurici', 'lorena', 'passadissos', 'assentament', 'business', 'christian', 'desenvoluparan', 'bucodental', 'donacions', 'universitàries', 'schleicher', 'successor', 'spindir', 'dinàmic', 'cinematogràfica', 'variada', 'simultàniament', 'imaginava', 'minúscules', 'miraven', 'grams', 'harbor', 'hongarès', 'corren', 'podries', 'enlaire', 'repetició', 'querella', 'assistencials', 'liderada', 'encetar', 'gras', 'llament', 'optat', 'guarnició', 'transforma', 'ametlla', 'avenç', 'preveuen', 'reconeixements', 'mariona', 'injustícia', 'lots', 'climàtiques', 'cercles', 'concordança', 'proliferació', 'carns', 'estimació', 'invasors', 'imputats', 'trascendental', 'comèdia', 'passiva', 'clos', 'llamps', 'ortiz', 'esser', 'city', 'correspondència', 'kriegsmarine', 'gossa', 'botes', 'mobiliari', 'pells', 'locució', 'arbitraran', 'pala', 'formalitzar', 'taronges', 'flexible', 'repòs', 'anunciava', 'caic', 'retret', 'treballada', 'center', 'padrina', 'alex', 'moren', 'jazz', 'estén', 'enhorabona', 'tendeixen', 'necessitar', 'domènec', 'hidalgo', 'noble', 'descarrega', 'cosí', 'passà', 'bewater', 'sostenibles', 'mantinent', 'obsequi', 'penúltim', 'indignat', 'patrimonial', 'optimitzar', 'venuts', 'mercès', 'concessions', 'banyut', 'intercultural', 'ça', 'antecedents', 'verificació', 'preocupacions', 'guillen', 'municipalistes', 'diferencial', 'relatives', 'òrbites', 'insisteix', 'lorenzo', 'huguet', 'contaminants', 'legislativa', 'començaments', 'adscrit', 'costarà', 'alexis', 'andalús', 'cov', 'adones', 'perdudes', 'titella', 'desgast', 'finalitzada', 'celoni', 'comunicativa', 'contrarestar', 'intentarà', 'continents', 'pinyol', 'nebot', 'carolina', 'milloren', 'privilegiat', 'vici', 'segones', 'combinant', 'portera', 'ponents', 'expliqui', 'llençols', 'flexió', 'ela', 'esquelet', 'ponderació', 'holandesa', 'bolxevisme', 'preguntant', 'esferes', 'vallbona', 'destrossat', 'talls', 'analitzen', 'meridional', 'botifarra', 'assignació', 'capitalisme', 'escó', 'txec', 'implicacions', 'insuficient', 'viquipèdia', 'respecta', 'ràpides', 'ave', 'especulació', 'dissolució', 'asteroides', 'jofre', 'passin', 'marimón', 'dons', 'venint', 'satisfactòria', 'fluxos', 'bohèmia', 'ruhr', 'rostre', 'rendes', 'aro', 'africà', 'mesquita', 'exclusiu', 'generada', 'galeazzo', 'operativa', 'tripulació', 'alça', 'ee', 'caixabank', 'injusta', 'llongueras', 'configurar', 'cabal', 'gonzàlez', 'matança', 'llops', 'rull', 'tallada', 'xiii', 'lleterades', 'modelització', 'qüestionar', 'idíl', 'valenta', 'ruptura', 'lluir', 'milla', 'escrivia', 'kàiser', 'procedir', 'consistir', 'excepcionals', 'divuit', 'menjant', 'nasa', 'ficava', 'gestos', 'potencialitats', 'efectuat', 'bartomeu', 'dissenyada', 'analista', 'explicaven', 'ofrena', 'canell', 'centelles', 'ajornar', 'ancestre', 'apostant', 'educat', 'buchenwald', 'patologies', 'angle', 'cursar', 'contenidors', 'exhibir', 'cavistes', 'autocrítica', 'incòmode', 'acabes', 'crespo', 'aprenentes', 'millorament', 'arribarem', 'abat', 'projectils', 'rodatge', 'masculins', 'euràsia', 'preparades', 'fóssim', 'imaginat', 'imma', 'pendre', 'estables', 'manifesten', 'adquirint', 'representacions', 'dissoldre', 'rerefons', 'acompanyants', 'sociates', 'espoli', 'decideixen', 'acumular', 'impartit', 'psicològic', 'apostes', 'cedits', 'florida', 'mercantils', 'gallecs', 'agulla', 'execucions', 'bisbes', 'incorporacions', 'fundacions', 'tapa', 'escut', 'corporativa', 'comprometen', 'covards', 'irta', 'vice', 'festivitat', 'bagatge', 'nerviosa', 'corral', 'renom', 'adapta', 'pad', 'condicional', 'area', 'substantiu', 'donessin', 'horitzons', 'rincón', 'nal', 'colles', 'comité', 'sancionat', 'sabanés', 'tradueix', 'precedit', 'olivera', 'hàgiu', 'elementals', 'cremats', 'seda', 'inscrites', 'comentarem', 'hugo', 'marins', 'inclo', 'viatjat', 'apretar', 'vetlla', 'calenta', 'golejadors', 'incompliment', 'qüestionaris', 'goma', 'aital', 'mostrarà', 'formatius', 'reclamació', 'bancària', 'estiraments', 'diagnosi', 'boí', 'opositors', 'encesa', 'capsa', 'felicitació', 'bri', 'regularment', 'violències', 'colesterol', 'traça', 'hugenberg', 'fat', 'reconeixen', 'gegantí', 'esforçar', 'adormit', 'subterranis', 'adoptat', 'repercussió', 'projectarà', 'fúria', 'simpatia', 'desesperació', 'reialme', 'extraordinàries', 'complementaris', 'desfeta', 'compartides', 'proporcionen', 'propòsits', 'redactor', 'autopista', 'cels', 'ullals', 'situ', 'nans', 'mobilitzacions', 'national', 'avaluacions', 'retruc', 'penjo', 'titelles', 'terapèutics', 'atribueix', 'simbòlic', 'supercopa', 'constata', 'forca', 'complementa', 'breslau', 'ès', 'vigència', 'günther', 'àger', 'txeca', 'doctrina', 'galbas', 'ford', 'millo', 'reflex', 'bestiar', 'aixecava', 'consignes', 'matemàtic', 'ttort', 'suposaria', 'menjars', 'innocència', 'orientada', 'internacionalment', 'silèsia', 'barbarroja', 'uriel', 'bolet', 'lligams', 'generalitzada', 'homenatjar', 'excuses', 'ascendir', 'ver', 'abundància', 'continués', 'passatge', 'lisboa', 'cimera', 'lustració', 'nombrosa', 'bústia', 'glop', 'automòbils', 'patata', 'indu', 'trofeus', 'temari', 'organitzadora', 'estaré', 'pasqual', 'enfrontat', 'repetint', 'parents', 'hagué', 'bastó', 'afegia', 'renovables', 'establint', 'estretament', 'mantes', 'criatura', 'determinen', 'cuita', 'mediambiental', 'harvard', 'impossibilitat', 'cràter', 'caçar', 'accelerar', 'derivat', 'consideri', 'cavalleria', 'votarà', 'portals', 'disfressat', 'plomes', 'finestreta', 'llegeixen', 'comunica', 'pronunciació', 'sem', 'informats', 'microrelats', 'aguantat', 'obsessió', 'preferències', 'mediambientals', 'ciment', 'catifa', 'beck', 'gratis', 'abductors', 'normatiu', 'atletisme', 'establerta', 'ia', 'digueu', 'mitjan', 'dosis', 'european', 'seguiu', 'pregó', 'perillosa', 'intentaré', 'electricitat', 'aprés', 'galtes', 'travesser', 'nocions', 'alteració', 'eufòric', 'vitamina', 'preguntava', 'xil', 'acomiadament', 'coneixien', 'renània', 'esglaons', 'bot', 'musica', 'hà', 'motocròs', 'perdem', 'imputació', 'suposada', 'titulacions', 'gastronòmic', 'judith', 'insígnia', 'discrepàncies', 'tecla', 'ramaders', 'escriptori', 'invasions', 'ocupades', 'mars', 'lletja', 'caseta', 'contestat', 'presumpta', 'volguessin', 'sexes', 'nouvinguts', 'verdaguer', 'genets', 'education', 'moltíssima', 'dirigint', 'tfg', 'transformacions', 'windows', 'ubach', 'transcorre', 'busqueu', 'aprimar', 'contemplant', 'collita', 'desenllaç', 'visiteu', 'apuntant', 'nadó', 'valer', 'mosques', 'penitenciari', 'regulars', 'impulsant', 'premiats', 'armengol', 'correlació', 'cagant', 'altíssim', 'apassionant', 'comoditat', 'engany', 'liquidació', 'preciós', 'gamma', 'caçadors', 'recapte', 'vota', 'valisa', 'aprovades', 'aparença', 'cartografia', 'lels', 'arlequinades', 'solidaris', 'fàrmacs', 'mg', 'insecte', 'vilassar', 'sobtadament', 'nassos', 'especialitats', 'imagina', 'sabrà', 'retre', 'secundaris', 'diabetis', 'operadors', 'qüestiona', 'detriment', 'acceptava', 'plantejats', 'enregistrament', 'segueixo', 'pretenem', 'veritats', 'veuria', 'butlleta', 'fondo', 'religions', 'feixuc', 'oscar', 'colze', 'pensi', 'potencia', 'recollits', 'disminu', 'atmosfèric', 'pisarello', 'prenguin', 'cabra', 'egurrola', 'miro', 'amagada', 'observava', 'caparrella', 'bikers', 'aspiracions', 'provinent', 'llat', 'banys', 'patronal', 'difós', 'exigia', 'estímul', 'controladors', 'under', 'trucades', 'accionistes', 'cristià', 'còmoda', 'cañas', 'duel', 'horitzontal', 'viella', 'estimacions', 'suggerir', 'letals', 'consistit', 'inconvenient', 'arqueologia', 'raconet', 'sorprèn', 'imparteix', 'repasseu', 'inicien', 'blanco', 'itinerant', 'terceres', 'vinga', 'xerrar', 'fantasma', 'automàtic', 'civilitzacions', 'grega', 'manguis', 'centro', 'kampf', 'alfa', 'desperta', 'botiguera', 'desè', 'albi', 'emma', 'centren', 'lleugers', 'òbviament', 'marítims', 'fotocòpies', 'bondat', 'àrabs', 'màximes', 'reclamen', 'experimentals', 'invasores', 'castor', 'rendibilitat', 'urgents', 'marco', 'lenin', 'alguer', 'reconeixia', 'caminades', 'uneixen', 'actuant', 'reciclatge', 'felipe', 'aparcar', 'orgasme', 'amplis', 'xv', 'calvet', 'atemptats', 'podrits', 'altitud', 'exigents', 'èric', 'mann', 'granadella', 'ferroviària', 'vagues', 'caucas', 'cervelló', 'cuca', 'harry', 'temia', 'eficients', 'combatents', 'montmeló', 'datspelcul', 'boja', 'franqueses', 'mantingui', 'pomes', 'beneficiaris', 'doblat', 'afirmacions', 'ateses', 'lapse', 'obesitat', 'ops', 'espontània', 'dibuixant', 'patis', 'enriquidora', 'deduir', 'assoleix', 'calonge', 'mediàtic', 'vaca', 'engegat', 'icona', 'menció', 'pino', 'alternatiu', 'deixaran', 'posaria', 'migració', 'exactes', 'geni', 'encontra', 'atribuir', 'resiliència', 'dalmases', 'licitant', 'atraure', 'proclamació', 'body', 'perímetre', 'consolidada', 'rcd', 'buscava', 'times', 'botiguers', 'pesada', 'amenaçat', 'llegeixo', 'seqüenciació', 'vallter', 'aranès', 'taques', 'sebastian', 'definits', 'destitu', 'cine', 'higiene', 'afiliats', 'eivissa', 'confederació', 'paraven', 'gimnàstica', 'casino', 'porcs', 'consol', 'patrocinador', 'desitgin', 'assetjament', 'butlletes', 'palencia', 'huelva', 'ordeig', 'loteria', 'concretat', 'seriosos', 'substantius', 'tremolar', 'farners', 'fitxers', 'ocupants', 'apa', 'reduit', 'dependent', 'allau', 'triatló', 'costen', 'rialla', 'propietària', 'amaguen', 'sarzana', 'boada', 'piano', 'governamental', 'pactat', 'humitat', 'didàctiques', 'kluge', 'voldrà', 'designació', 'valen', 'barbal', 'gironí', 'presumptament', 'fitxat', 'mediàtica', 'juncosa', 'lluminositat', 'edhack', 'perdona', 'consisteixen', 'impotència', 'verificar', 'patim', 'recorre', 'mercantil', 'surtin', 'modernista', 'envoltar', 'esperada', 'provisió', 'inscriu', 'gironines', 'argumentació', 'abusos', 'mès', 'crist', 'cèsar', 'despatxos', 'schacht', 'exiliats', 'homosexualitat', 'tieta', 'brandt', 'narracions', 'nevada', 'tancava', 'guaitar', 'desapareix', 'cinqué', 'desfilar', 'vaques', 'marbre', 'orientals', 'majoritària', 'ramona', 'lusionat', 'elisenda', 'joanet', 'transcendència', 'ritmes', 'brou', 'retreure', 'autovia', 'empra', 'sig', 'piu', 'caterina', 'defectes', 'cendra', 'prenc', 'fatal', 'exerceix', 'mossèn', 'obligatòries', 'glòries', 'senti', 'pertànyer', 'navinés', 'gaudia', 'corrupte', 'litres', 'productores', 'equilibrat', 'sanchez', 'atacada', 'freqüent', 'hum', 'assegurances', 'bock', 'encantat', 'molècula', 'aplicats', 'benfica', 'ofensives', 'pius', 'telescopi', 'sindical', 'pia', 'inaugurarà', 'king', 'capacitació', 'direccions', 'belgues', 'precoç', 'maduresa', 'eventualment', 'fanàtics', 'master', 'reunits', 'assequible', 'abadal', 'life', 'henderson', 'igualar', 'protestant', 'exportacions', 'donaré', 'tresors', 'represàlies', 'llindar', 'omar', 'conceptual', 'edupost', 'nafres', 'iniesta', 'lustre', 'regust', 'culers', 'vèncer', 'conselleres', 'interdisciplinar', 'voluntàriament', 'microbiana', 'desil', 'prematur', 'extracció', 'monumentals', 'patrulla', 'globalització', 'elegits', 'propiciat', 'mengen', 'processament', 'hero', 'assignats', 'femenines', 'violeta', 'bíblia', 'visionat', 'ridao', 'orgànics', 'non', 'desitja', 'allunya', 'sofia', 'nua', 'democràticament', 'medicaments', 'representativa', 'eslògan', 'acostumen', 'extraescolars', 'poètica', 'villanueva', 'sengles', 'replicat', 'intranet', 'sobiranisme', 'cirurgia', 'típiques', 'bonics', 'contràriament', 'ària', 'recolzar', 'sera', 'afavoreixen', 'morint', 'enduu', 'contracció', 'fitur', 'emigrar', 'minyó', 'definida', 'wimmis', 'matricular', 'pugen', 'pesats', 'calefacció', 'freixenet', 'setantena', 'detencions', 'nin', 'escatir', 'serralada', 'importantíssim', 'líquida', 'garanteixi', 'designat', 'caigués', 'afectarà', 'demòcrates', 'acumula', 'aclarit', 'estirat', 'plom', 'piulades', 'borregan', 'provisions', 'objectiva', 'identificats', 'oferiran', 'enjòlit', 'kepler', 'avisat', 'revelació', 'capgirar', 'sorgit', 'oposat', 'alzheimer', 'politica', 'excessiva', 'làctia', 'ase', 'escamot', 'vehicular', 'antigament', 'experimentació', 'hivernal', 'acomplir', 'josefina', 'eminentment', 'combustibles', 'sabies', 'metàfora', 'potencialment', 'aitor', 'presencialment', 'accessibles', 'acudir', 'divers', 'instat', 'compromesos', 'diable', 'picada', 'motivacions', 'torneu', 'socialdemòcrates', 'quanta', 'dual', 'kiev', 'pintades', 'report', 'inquart', 'patrocini', 'prudència', 'entreu', 'hiit', 'alzina', 'cida', 'preferentment', 'enregistrar', 'utilitzaven', 'atansar', 'raúl', 'degudament', 'explosiu', 'enrenou', 'sme', 'amos', 'sospita', 'virtuals', 'molesta', 'mecànic', 'partícula', 'necessiteu', 'nacionalitats', 'novena', 'estatus', 'òvul', 'adaptacions', 'bòfies', 'narratiu', 'descobertes', 'berta', 'miranda', 'adjunto', 'viral', 'adon', 'ments', 'transferir', 'pleret', 'resultant', 'descobrint', 'aval', 'investiga', 'arribarien', 'vitivinícola', 'abaixat', 'privatització', 'motiva', 'encapçalats', 'haviem', 'veterinària', 'laval', 'eduardo', 'cuiner', 'louis', 'puyol', 'cirera', 'sirenes', 'restants', 'portin', 'preocupant', 'pauta', 'cracòvia', 'sagrat', 'dissenyador', 'seyss', 'associa', 'lara', 'filipines', 'pragmatisme', 'enfronten', 'fuente', 'asfalt', 'bolívia', 'preferida', 'futbolistes', 'ploma', 'unitària', 'practiquen', 'llats', 'significatius', 'interessava', 'significar', 'curar', 'especialitzades', 'comitiva', 'menuts', 'esclerosi', 'invitacions', 'romandrà', 'mendez', 'victorius', 'resulten', 'omplint', 'rodrigo', 'costats', 'terribles', 'arribà', 'eugènia', 'rellotges', 'distintiu', 'amagava', 'gregory', 'agraeix', 'oms', 'llepar', 'asturià', 'yolanda', 'paraigua', 'guaitant', 'adjunta', 'actives', 'podríen', 'álvaro', 'sáez', 'particularitats', 'pany', 'castellón', 'desenvolupades', 'aprofito', 'alins', 'morales', 'alexandre', 'estructurada', 'atrapar', 'emil', 'trencada', 'femta', 'legacions', 'peña', 'mister', 'tals', 'falla', 'bombolla', 'autonòmic', 'suaus', 'africans', 'funk', 'predicció', 'capitalista', 'seixantena', 'bruixa', 'avalua', 'veies', 'corporacions', 'llevant', 'artístiques', 'periòdicament', 'calçat', 'autonomies', 'pàl', 'colonització', 'constar', 'càntics', 'descartat', 'anomenades', 'martell', 'haguessim', 'punteria', 'fibres', 'cycling', 'pets', 'químics', 'elefant', 'guineu', 'vídua', 'orientats', 'carregada', 'veneçuela', 'nès', 'registrats', 'amnistia', 'aconseguirem', 'venjança', 'mosaic', 'assumpta', 'sallent', 'consecució', 'indicador', 'ensenyaments', 'estómac', 'comptabilitat', 'nombrós', 'covid', 'época', 'caiguts', 'autoritzat', 'botxí', 'dormint', 'ploure', 'innocents', 'julivert', 'larios', 'moc', 'aprofitem', 'tos', 'arrelament', 'personalització', 'je', 'aviv', 'vàlida', 'vilalta', 'bateria', 'quiròfan', 'envoltada', 'assassina', 'marcades', 'combinada', 'elèctrics', 'interdepartamentals', 'fems', 'sotmesa', 'balcons', 'congost', 'badajoz', 'violí', 'operatius', 'intenses', 'anterioritat', 'doblatge', 'covard', 'salgado', 'deguda', 'espectador', 'valorant', 'generós', 'esguard', 'teníeu', 'promocional', 'informarà', 'día', 'numèrica', 'tecnificació', 'fòrmula', 'linyola', 'regula', 'confluència', 'decidirà', 'nevera', 'explosius', 'míssil', 'préstecs', 'contemporani', 'orgullosa', 'abc', 'alvarez', 'tornes', 'conegui', 'vergonyós', 'anatomia', 'represa', 'preventiva', 'alè', 'arrossegar', 'iglesias', 'intercomarcal', 'atlètica', 'produit', 'resums', 'emigració', 'discoteca', 'responent', 'agressius', 'anònima', 'firatàrrega', 'impactar', 'atrevir', 'informem', 'garantida', 'trascendència', 'intriga', 'poblenou', 'canonada', 'vivendes', 'contemplacions', 'seguidor', 'ausades', 'daus', 'impulsor', 'precarietat', 'expulsats', 'afectació', 'netes', 'prada', 'exhibit', 'esquinç', 'monòleg', 'suspesa', 'apliquen', 'dunkerque', 'sabria', 'totdéu', 'liberals', 'gasolina', 'estrets', 'suaument', 'antropologia', 'ensumar', 'sensibles', 'vinya', 'passarem', 'beta', 'formularis', 'foradet', 'mecànics', 'guions', 'buch', 'haguem', 'morals', 'dimoni', 'pionera', 'flagell', 'lineal', 'comandar', 'refugis', 'voten', 'taradell', 'sonors', 'diftong', 'strauss', 'castanyes', 'mosca', 'gilabert', 'tendres', 'periòdiques', 'repartides', 'immòbil', 'sacs', 'impossibles', 'arribes', 'esva', 'rio', 'augmenten', 'capturats', 'memoràndum', 'acceptada', 'manipular', 'marietes', 'permanents', 'elaborada', 'locats', 'laborarà', 'rey', 'wifi', 'trempar', 'hauríeu', 'prediccions', 'espantar', 'serviria', 'sapiens', 'austríacs', 'modifica', 'trasllada', 'combois', 'marcos', 'cridaven', 'búnquers', 'barcelonina', 'menjat', 'eternament', 'llegums', 'xiquet', 'conde', 'prefereix', 'connectat', 'insultant', 'mínimes', 'subvencionat', 'esdevinc', 'rearmament', 'sobra', 'analitzats', 'imposa', 'coincidència', 'incondicional', 'embrions', 'indiferent', 'prioritari', 'rioja', 'media', 'ètics', 'cigala', 'lluert', 'valdagno', 'atacaven', 'emocionar', 'torredembarra', 'gimnasos', 'picant', 'ajuntar', 'altafulla', 'presentaven', 'miserable', 'consigna', 'indicava', 'citar', 'vagons', 'aplicades', 'afusellat', 'reposar', 'fomentant', 'bullir', 'mengem', 'tests', 'sensorial', 'elèctriques', 'relaciona', 'botifler', 'emprant', 'amistosos', 'volga', 'dutes', 'susceptibles', 'modificat', 'cremades', 'respectant', 'evolucionat', 'revés', 'disposi', 'disgust', 'subtil', 'obsequis', 'beutat', 'creades', 'esplai', 'asseguda', 'residències', 'imaginari', 'enciclopèdia', 'solars', 'estimats', 'embranzida', 'avantprojecte', 'litzar', 'baden', 'delicada', 'assaigs', 'motivat', 'carnisseria', 'afegida', 'gastrobar', 'fisio', 'persegueix', 'dissabtes', 'interactius', 'merdes', 'entremig', 'neixen', 'garantint', 'lluiten', 'muller', 'divorci', 'fòssil', 'democràtiques', 'eurocopa', 'gallines', 'dolços', 'rares', 'humilitat', 'ferrmed', 'almatret', 'neptú', 'bassa', 'grocs', 'atesa', 'descomunal', 'administrar', 'penjades', 'galta', 'debilitat', 'sida', 'tropicals', 'plagues', 'tropical', 'permetés', 'panel', 'tendeix', 'incrementa', 'provincials', 'abstenció', 'emprenedora', 'tro', 'caga', 'arsenal', 'repugnants', 'carall', 'vàreu', 'desnonaments', 'tambè', 'satisfeta', 'pensades', 'atents', 'mútuament', 'fon', 'mentres', 'acumulen', 'alsàcia', 'articulacions', 'funcioni', 'principiants', 'òptim', 'garrote', 'cigarreta', 'desprèn', 'superada', 'peatges', 'plors', 'gespa', 'endollats', 'mineral', 'pancartes', 'mastegots', 'textuals', 'dutxes', 'dec', 'obreres', 'guetos', 'tràgic', 'direu', 'humils', 'immigrant', 'regnes', 'berlinès', 'honors', 'felicita', 'químic', 'desconfiança', 'disminueix', 'prescindir', 'pakistan', 'leipzig', 'eixida', 'desacord', 'conciliació', 'divulgar', 'ecològiques', 'zonal', 'guardia', 'triangle', 'ceo', 'davallada', 'deixes', 'tancant', 'corpo', 'regularitat', 'sacrificis', 'alfabet', 'dèria', 'superficial', 'valorem', 'veritablement', 'melic', 'mides', 'instint', 'resident', 'creats', 'urdangarin', 'esperits', 'catàstrofe', 'ascensor', 'link', 'tècnicament', 'core', 'challenge', 'traspassar', 'europe', 'espantat', 'granet', 'luminat', 'concentra', 'mediació', 'militància', 'catalanistes', 'deixarem', 'empara', 'meravelles', 'agafeu', 'descriuen', 'afinar', 'eugeni', 'processó', 'provenia', 'estranyes', 'motociclisme', 'balcans', 'parleu', 'ravensbrück', 'bustos', 'ratlla', 'desafiament', 'palesa', 'aspirants', 'calgués', 'budapest', 'mixt', 'endesa', 'considerablement', 'campanar', 'unilateral', 'fel', 'diftongs', 'llegendari', 'aquàtics', 'filed', 'qualifica', 'castigar', 'subirats', 'resolucions', 'remenar', 'afronten', 'presidirà', 'mb', 'avituallaments', 'estimava', 'grupal', 'laietana', 'brückner', 'creença', 'dependre', 'pallaresa', 'mortal', 'afluència', 'pous', 'atenta', 'turons', 'conformar', 'climàtics', 'emotiu', 'altíssima', 'espionatge', 'drama', 'dirigís', 'lluitaven', 'xiuxiuejar', 'reduint', 'group', 'guants', 'piragüisme', 'boda', 'hàbitat', 'simis', 'tramvies', 'agroalimentaris', 'gaudiu', 'perdi', 'registrades', 'aficionat', 'íntima', 'cascun', 'divertir', 'ostres', 'sediments', 'duts', 'info', 'okw', 'fórem', 'tornessin', 'abdominal', 'feriche', 'reparteix', 'informava', 'facilitant', 'acabades', 'abelló', 'puntes', 'lela', 'desconnectar', 'consistència', 'variat', 'tempestes', 'envoltats', 'disposaran', 'graduat', 'robòtica', 'magistrals', 'íntims', 'avioneta', 'revelat', 'espiar', 'tip', 'viurà', 'sorda', 'guanyi', 'confessió', 'acumulada', 'assajar', 'singularitat', 'cuixa', 'sabater', 'mags', 'sinagoga', 'barat', 'acusava', 'urbanística', 'reguladora', 'rubio', 'arcadi', 'produiria', 'despí', 'confecció', 'ferdinand', 'tope', 'fracció', 'koch', 'arena', 'guiu', 'abacus', 'pertanyia', 'percebre', 'asteroide', 'antibiòtics', 'ramos', 'imprès', 'cria', 'constatat', 'calci', 'racials', 'permetent', 'perjudici', 'ampliant', 'peculiar', 'glaçat', 'aguilar', 'spanair', 'portaran', 'liar', 'perdien', 'indis', 'enginy', 'manchester', 'executats', 'nouvingudes', 'empassar', 'enyor', 'revolucionaris', 'franquícies', 'anticossos', 'magnífiques', 'mutu', 'min', 'toqui', 'tracció', 'seleccionades', 'elisabeth', 'màgics', 'universals', 'pico', 'famoses', 'portet', 'rigau', 'liques', 'venedors', 'portessin', 'pedagògic', 'matemàtics', 'poderosos', 'metall', 'moria', 'escletxa', 'vicecanceller', 'televisiva', 'distès', 'hemisferi', 'coromines', 'tristor', 'fisioterapeuta', 'abella', 'autonòmiques', 'maite', 'milch', 'genu', 'music', 'senceres', 'farmàcia', 'acn', 'perdeu', 'favors', 'publicitària', 'romanent', 'conservat', 'legítim', 'multiplicar', 'adaptades', 'matriu', 'gerardo', 'significatives', 'repetidament', 'tomàquets', 'banyar', 'gcd', 'emergents', 'trastorn', 'eterna', 'vistos', 'sectorial', 'presses', 'converteixen', 'dorsals', 'aplegat', 'terrasses', 'silent', 'rossa', 'acudit', 'agres', 'iarxiu', 'facilitarà', 'carrega', 'tombes', 'salts', 'mariners', 'proposada', 'miren', 'corbera', 'pulmó', 'intercanvis', 'existit', 'màrtir', 'enraonar', 'ajudés', 'apuntava', 'informen', 'arrencarà', 'gloriós', 'lliura', 'governat', 'lògicament', 'regulen', 'islam', 'planetari', 'alfredo', 'controla', 'stars', 'ies', 'conscienciació', 'fromm', 'poblat', 'cadaqués', 'criticava', 'sabata', 'donats', 'mitocondrial', 'realista', 'guinea', 'possessius', 'montsià', 'mati', 'jugui', 'compleixin', 'vigents', 'quaresma', 'tortures', 'finlandesos', 'estudianta', 'tostemps', 'predisposició', 'historiadors', 'estructurat', 'patètic', 'lustracions', 'tenies', 'handbol', 'exigit', 'eixalats', 'influ', 'ambtant', 'español', 'emmarcada', 'accentuar', 'aconseguits', 'torpedes', 'ganxo', 'rigorosa', 'reflecteixen', 'eslovàquia', 'jugadora', 'suggereix', 'cristianisme', 'mantindre', 'geogràfiques', 'bells', 'sia', 'disposin', 'dominis', 'prebenjamí', 'compartits', 'septentrional', 'apreciar', 'uss', 'participacions', 'diplomàtics', 'índexs', 'garantit', 'emanuel', 'bavarès', 'cervantes', 'cartagena', 'indirectes', 'personalitzat', 'venècia', 'dany', 'sortirem', 'occità', 'embrió', 'ponsatí', 'lucía', 'misteriós', 'tancaran', 'trons', 'atenes', 'comesos', 'federico', 'obeir', 'immobiliària', 'epidèmia', 'cx', 'entretinguda', 'gunayar', 'convergents', 'posessin', 'capacitar', 'bolxevic', 'centúries', 'assaltar', 'preferència', 'reviure', 'neboda', 'radi', 'frustració', 'bromes', 'orientades', 'pseudònim', 'perdria', 'algerri', 'civisme', 'conversacions', 'partidet', 'reig', 'arribats', 'distracció', 'editora', 'protegides', 'baròmetre', 'cadí', 'aixecament', 'arquitectònic', 'gencat', 'magnífics', 'pregon', 'comptaran', 'aranya', 'tinta', 'robots', 'fortificacions', 'totjorn', 'pertinents', 'begur', 'plenària', 'assistències', 'sanchis', 'mortes', 'grandària', 'sensors', 'autoritari', 'violació', 'roberto', 'fiable', 'und', 'immobles', 'annex', 'ilp', 'caravel', 'causant', 'divertits', 'amagatotis', 'promociona', 'volkssturm', 'enzims', 'lista', 'poses', 'brillants', 'parlàvem', 'iogurt', 'street', 'sardanes', 'persistència', 'corporatiu', 'average', 'centes', 'certificar', 'cccb', 'aprendrem', 'timbre', 'divertides', 'assessorar', 'visitarà', 'femer', 'gota', 'identifiquen', 'teatres', 'erra', 'signada', 'pintat', 'guanyaria', 'desar', 'mecanoscrit', 'líquens', 'formem', 'servien', 'desitgem', 'taverna', 'arrencada', 'idoni', 'assajos', 'espelmes', 'gràfiques', 'aplicable', 'avituallament', 'segrest', 'aposten', 'time', 'borja', 'variar', 'representada', 'barracó', 'irritat', 'començo', 'moodle', 'müller', 'enterrament', 'transversals', 'cobreixen', 'assumit', 'màfia', 'escst', 'reichenau', 'alertat', 'apart', 'obligava', 'lant', 'tremosa', 'mosso', 'neguitós', 'contundència', 'espetegar', 'mandíbula', 'incorrectes', 'prendran', 'emesos', 'supermercat', 'burgesos', 'recomanen', 'anunciant', 'ira', 'repertori', 'llibreta', 'suor', 'incapaços', 'quàntica', 'tardar', 'lloar', 'acreditar', 'franquícia', 'nadalenques', 'inquietud', 'conclouen', 'conservadora', 'pe', 'henri', 'completen', 'preferits', 'presenciar', 'toquen', 'celebrava', 'precisat', 'saturn', 'eliminatòries', 'posades', 'licita', 'marbella', 'apareixia', 'incapacitat', 'agradaven', 'consultoris', 'programats', 'inestabilitat', 'descomposició', 'prengui', 'millorin', 'frob', 'rereguarda', 'foguera', 'escapa', 'emprenedores', 'nacho', 'cèlebre', 'ós', 'trinxeres', 'sentin', 'professions', 'imagineu', 'llada', 'fantàstics', 'degustació', 'organitzem', 'concurrència', 'sibèria', 'fecundació', 'aborda', 'maniobres', 'regants', 'patologia', 'sònia', 'deportacions', 'corea', 'festivals', 'sàpiguer', 'facturació', 'açores', 'deutsche', 'embolicat', 'menús', 'trigat', 'espectral', 'raonable', 'inventari', 'ua', 'enrabiat', 'aps', 'proposant', 'reconegudes', 'sobreviscut', 'cardona', 'om', 'enfonsament', 'calla', 'violenta', 'associacionisme', 'pertorbacions', 'flanc', 'unida', 'pallerols', 'boniques', 'musulmana', 'ferms', 'presentés', 'popularitat', 'relata', 'equilibrar', 'existien', 'anà', 'capitulació', 'elefants', 'cordes', 'psicològica', 'neutral', 'fots', 'obtenint', 'mori', 'montes', 'intensificar', 'espectres', 'inundacions', 'césar', 'comentava', 'afegitó', 'fondre', 'jerc', 'serrat', 'aina', 'masies', 'cabdals', 'estudiava', 'influències', 'fines', 'dementre', 'regadiu', 'tumor', 'afortunadament', 'algu', 'algues', 'hanna', 'aguda', 'murri', 'romànic', 'adormir', 'líquids', 'perjudica', 'empeny', 'rel', 'vázquez', 'casado', 'preciosa', 'assabentar', 'golden', 'monte', 'simfònica', 'caigudes', 'ajudava', 'depredadors', 'desobediència', 'repetia', 'cl', 'còmplices', 'competint', 'alumni', 'minories', 'grosses', 'roures', 'cardíaca', 'generosa', 'ironia', 'conreus', 'iniciaran', 'multinacional', 'ui', 'privacitat', 'informals', 'xiulets', 'presentadora', 'aurèlia', 'secessió', 'personalitzar', 'mèndez', 'lliurarà', 'aproximada', 'fonament', 'lituània', 'diferenciades', 'atesos', 'paràsit', 'cavà', 'ingressat', 'gj', 'geogràfic', 'creba', 'texts', 'derivada', 'sequeres', 'constantin', 'krebs', 'imparteixen', 'traus', 'garzón', 'agrupa', 'glutis', 'brutalitat', 'transformant', 'equivalents', 'escarransit', 'figues', 'bayreuth', 'cognitives', 'exiliar', 'governa', 'trenc', 'repulsius', 'viatja', 'emmagatzematge', 'beach', 'raonament', 'turc', 'euskadi', 'liquiditat', 'encetat', 'gestació', 'omer', 'elaborades', 'acompanyava', 'màrquez', 'estelades', 'essen', 'sandoval', 'plou', 'encaixats', 'plantejades', 'vicens', 'fart', 'nèixer', 'fui', 'discussions', 'unificació', 'converteixi', 'folch', 'mereixia', 'manen', 'esteller', 'acusen', 'league', 'interessen', 'jubilats', 'indirecta', 'garatge', 'entretingut', 'relaxat', 'empren', 'apujar', 'apretat', 'rematada', 'herbert', 'destinaran', 'buff', 'bernades', 'desitjant', 'revolucionari', 'metalls', 'telemàtica', 'xiulet', 'implicada', 'carril', 'avinent', 'autoavaluació', 'aspira', 'barcelonista', 'destaquem', 'barres', 'ànec', 'realitzà', 'anomenava', 'crearà', 'premiat', 'radiografia', 'passejades', 'fastigosa', 'visitaran', 'aragonés', 'conversió', 'cansada', 'emmarcat', 'gay', 'apassionat', 'reputació', 'pega', 'rafel', 'progressista', 'enamorats', 'pinto', 'gestionen', 'pàrquing', 'etiòpia', 'sunyer', 'varia', 'instaurar', 'drap', 'sergent', 'power', 'colpejar', 'disset', 'subdirector', 'clínics', 'apòstrof', 'franges', 'palla', 'costava', 'avaluat', 'folls', 'àguila', 'sirena', 'compromeses', 'está', 'recessió', 'fiabilitat', 'distret', 'tarifes', 'admirar', 'einstein', 'bombardejada', 'evasió', 'vermut', 'tracti', 'cellers', 'jugàvem', 'obligatoris', 'aprovats', 'diguis', 'inter', 'consideracions', 'magnètic', 'catcert', 'llagosta', 'cràters', 'comencin', 'cinturó', 'nocturns', 'precària', 'empegue', 'insistència', 'mouen', 'intereconomía', 'à', 'copiar', 'sofert', 'matrimonis', 'llenya', 'evidents', 'utilitzo', 'dificulta', 'vessar', 'fregar', 'buenos', 'clíniques', 'factory', 'escarp', 'obri', 'compatibles', 'diputacio', 'migdiada', 'llibret', 'catalan', 'conserven', 'elba', 'vàries', 'lutze', 'tindríem', 'envant', 'pseudo', 'llest', 'transparents', 'emetrà', 'entrarà', 'cunyat', 'pila', 'cope', 'mariner', 'exalcalde', 'influeix', 'petjada', 'caracteritzat', 'bascos', 'casada', 'primo', 'nevades', 'optimistes', 'agafem', 'alegries', 'enderrocar', 'organitzaran', 'votada', 'interpretat', 'formadors', 'queviures', 'rotatiu', 'tanda', 'inclusiu', 'drassanes', 'peses', 'alterar', 'vinyetes', 'rodejar', 'veredicte', 'profundes', 'tonteries', 'tio', 'loquial', 'adquireix', 'espècimens', 'especificacions', 'temàtic', 'accepten', 'carrinclons', 'geminada', 'gòtica', 'vístula', 'pesar', 'perdoneu', 'impotent', 'radicalment', 'mareig', 'adjudicar', 'rovellat', 'esmentades', 'ensenyant', 'finalista', 'nueva', 'construeix', 'camina', 'descendència', 'respectat', 'embarassada', 'acadèmiques', 'magnètica', 'alfonso', 'comparacions', 'prioritàries', 'replica', 'estafa', 'matriculats', 'aiguamolls', 'racional', 'proclama', 'escalar', 'pesava', 'filòleg', 'alan', 'trobats', 'mag', 'quest', 'progressiu', 'arrest', 'coves', 'exercitar', 'agressiva', 'sms', 'sistemàticament', 'lles', 'governamentals', 'valentí', 'originari', 'elogiar', 'lola', 'calces', 'aparegui', 'destruint', 'montsant', 'mallorquí', 'corrien', 'arriscar', 'troballa', 'tremendament', 'enganxa', 'brots', 'municions', 'claror', 'pretext', 'ítems', 'limiten', 'presidencial', 'relaxació', 'alliberada', 'prenafeta', 'mànigues', 'sogra', 'anells', 'documentar', 'delit', 'leni', 'velocitats', 'passions', 'sorgeixen', 'moisès', 'incorporarà', 'epicentre', 'podrir', 'coberts', 'alps', 'aplicables', 'boigs', 'esplanada', 'dera', 'publicava', 'coneixerem', 'telemàtics', 'genòmiques', 'families', 'rebutjada', 'caracteritzen', 'assequibles', 'terradas', 'duració', 'signen', 'oswald', 'llorens', 'françois', 'repassa', 'dissenyats', 'ensenyen', 'fix', 'jaciments', 'artesana', 'recordatori', 'encants', 'participatius', 'cintura', 'inconscient', 'majoritari', 'cremant', 'enriquidor', 'elogis', 'sabíeu', 'transplantament', 'food', 'inflació', 'prendrà', 'fm', 'subcampió', 'decrets', 'valores', 'castellet', 'barana', 'imitar', 'reeixit', 'navals', 'acusant', 'compleixi', 'engrescar', 'traduccions', 'carrincló', 'abandonats', 'contenia', 'separades', 'juanjo', 'protestat', 'triomfs', 'pscp', 'consumisme', 'representatius', 'articulació', 'replà', 'tauró', 'presta', 'imagino', 'industria', 'afins', 'condecorat', 'acabeu', 'bruno', 'empresonats', 'grandíssim', 'exagerat', 'empedre', 'gironins', 'confrontació', 'moliner', 'exposades', 'lis', 'wrg', 'treien', 'dormia', 'desvern', 'interval', 'guerrillers', 'tresoreria', 'explícita', 'totals', 'somiat', 'wenck', 'aliè', 'sintonia', 'derivar', 'maduixes', 'vinaixa', 'provenien', 'nedar', 'envergadura', 'exigeixen', 'valorada', 'adreces', 'germanor', 'restaurar', 'nata', 'barracons', 'noció', 'aniquilar', 'argumentat', 'sentimental', 'qualificats', 'ocuparà', 'ridículs', 'juniors', 'diamant', 'debutat', 'tmb', 'volts', 'truites', 'esprint', 'contractant', 'hermida', 'logotip', 'lina', 'fixem', 'ressonància', 'interés', 'genèticament', 'banya', 'llencen', 'recoder', 'respira', 'sigués', 'maternitat', 'trio', 'avaluatius', 'tement', 'dvd', 'entrem', 'conviuen', 'cinematogràfic', 'eurodiputat', 'varis', 'pobrissons', 'lúdiques', 'aprenenta', 'marxaven', 'votant', 'estimem', 'indemnització', 'triats', 'rastre', 'argent', 'tirada', 'nif', 'pantà', 'assimilar', 'abundant', 'espatllat', 'temptació', 'escèniques', 'critiquen', 'dedicava', 'oimés', 'rebedor', 'sentís', 'recuperada', 'canela', 'mitjons', 'volkswagen', 'animats', 'desafavorits', 'sinergies', 'videoconferència', 'bbva', 'micromecenatge', 'diec', 'barbeta', 'botxins', 'resten', 'contractat', 'abundants', 'derivació', 'lectores', 'heroica', 'disfressats', 'mítica', 'destrosses', 'quebec', 'caigui', 'ed', 'simpatitzants', 'gegantins', 'enviés', 'maldecap', 'completes', 'privilegiada', 'celles', 'neymar', 'fabregat', 'conills', 'alertadors', 'lgtbi', 'cerh', 'dinamisme', 'secta', 'intentem', 'supersticions', 'fixes', 'prato', 'detecta', 'lades', 'terrat', 'patrimonials', 'llargada', 'vilaweb', 'condicionar', 'aliens', 'pagava', 'sir', 'canadenca', 'bas', 'axó', 'almenar', 'aixecada', 'dèbils', 'contràries', 'gentilesa', 'treballi', 'arnó', 'restant', 'assentaments', 'acomiadaments', 'plegamans', 'tshombe', 'soterrani', 'comparteixo', 'cantautor', 'diamants', 'custòdia', 'advocada', 'valdés', 'delicat', 'sabrem', 'competent', 'giralt', 'yelmo', 'velda', 'xarnecs', 'borda', 'curiosos', 'mant', 'best', 'miracles', 'valuós', 'adrecen', 'ferroviàries', 'domèstic', 'conveniència', 'laberint', 'encertats', 'pebrot', 'refredar', 'publicitari', 'llunyana', 'precipitacions', 'braseria', 'adverbis', 'àmplies', 'destacable', 'estiguem', 'lisió', 'informant', 'capitalins', 'treballin', 'bbc', 'poderosa', 'conflent', 'immoble', 'disparat', 'llunyans', 'empatant', 'consegüent', 'connectant', 'mastegot', 'viladrich', 'retransmissió', 'desplaça', 'creadors', 'facial', 'selectiva', 'buidar', 'pugués', 'creatives', 'tractés', 'freds', 'registrada', 'òder', 'militarment', 'demaneu', 'sacrificar', 'exercitat', 'prussiana', 'crucial', 'fallit', 'burgès', 'bosque', 'uefa', 'proposicions', 'arrossegant', 'perdonar', 'motlle', 'apol', 'neguits', 'relatar', 'naus', 'campana', 'wessel', 'càritas', 'nutricionals', 'evolutiu', 'instructiu', 'conta', 'escarafalls', 'impressionants', 'fabricants', 'casanova', 'guimerà', 'alberg', 'ficant', 'salzburg', 'sociòleg', 'ofec', 'titllar', 'legitimitat', 'massatge', 'encapçalar', 'cia', 'reproductiva', 'balcells', 'caritat', 'leo', 'bellvitge', 'commemorativa', 'microscopia', 'perjudicat', 'miralls', 'aixafar', 'pedagògics', 'soriano', 'multinacionals', 'mandra', 'vestida', 'pescadors', 'botons', 'berlinesa', 'relacionen', 'urbanístic', 'toros', 'destituir', 'subhasta', 'desapareguts', 'esborrat', 'petar', 'infinita', 'enamorar', 'sauckel', 'avorrit', 'adquireixen', 'dubta', 'digitalització', 'afectant', 'encertar', 'mx', 'cec', 'lucas', 'tempelhof', 'preocupats', 'cotó', 'préssec', 'elabora', 'abocat', 'autoaprenentatge', 'empènyer', 'molestar', 'terapèutica', 'ressaltar', 'portades', 'abonament', 'estudiades', 'controlant', 'bolxevics', 'pastissos', 'paloma', 'lús', 'monogràfic', 'espacials', 'extraordinàriament', 'pluralisme', 'ceei', 'trascantó', 'diputades', 'lamenten', 'declivi', 'homosexual', 'endollat', 'afusellats', 'resumeix', 'escassa', 'reafirmar', 'completarà', 'disfressa', 'mestressa', 'texas', 'menisc', 'ferotges', 'estàtues', 'masó', 'pujades', 'locucions', 'lleus', 'marítima', 'elimina', 'paratge', 'cantants', 'titula', 'conreu', 'precedent', 'cars', 'feixuga', 'matemàticament', 'mari', 'notari', 'avaluatiu', 'frescos', 'trencant', 'nocturnes', 'camino', 'abertis', 'emmagatzemar', 'lligueta', 'astronòmic', 'guaitava', 'paperet', 'magistrat', 'curiosa', 'sobrenom', 'localitzat', 'pagesia', 'mit', 'antecedent', 'ramats', 'postgraus', 'optimització', 'ensenyava', 'habitable', 'impulsen', 'quedarien', 'whatsapp', 'nominal', 'mode', 'traslladats', 'finlandès', 'racing', 'altaveus', 'inspira', 'carreras', 'coixí', 'africana', 'taxista', 'electors', 'granota', 'debatrà', 'puntualitzat', 'vençut', 'àgora', 'deteriorament', 'paratges', 'vicepresidència', 'sachsenhausen', 'llauna', 'parlars', 'artesanals', 'budó', 'disposada', 'estructurar', 'assembla', 'acurada', 'recolza', 'torreta', 'interpretacions', 'suplement', 'caves', 'heterogene', 'esdevinguts', 'facultats', 'massís', 'compassió', 'sarre', 'oblidats', 'instar', 'micròfon', 'matx', 'antiaèries', 'directriu', 'cantada', 'acompanyades', 'declarada', 'defensius', 'forns', 'chicago', 'babalà', 'cavallers', 'comparèixer', 'coordinadors', 'aeròdroms', 'medina', 'corpus', 'governant', 'dividida', 'punto', 'incorrecta', 'laterals', 'valgut', 'apareixien', 'ludendorff', 'comissaris', 'playa', 'tvc', 'cassà', 'simposi', 'medis', 'madrileny', 'distreure', 'comportat', 'panys', 'estereotips', 'agrupacions', 'declarava', 'piñol', 'creta', 'cuiners', 'previsible', 'secà', 'dinamitzadora', 'ajudaria', 'impel', 'vih', 'exportació', 'cuirassats', 'paterna', 'roents', 'desesperadament', 'cerveceria', 'smart', 'indicada', 'toqués', 'berliner', 'alzines', 'sacerdot', 'plecs', 'usuària', 'estrenarà', 'diligències', 'castigat', 'patrulles', 'marià', 'prohibida', 'dolçament', 'mixta', 'indici', 'emprenyar', 'diràs', 'adherides', 'regulador', 'guiats', 'montoro', 'comporten', 'densa', 'explicaré', 'cicloturisme', 'minsk', 'emd', 'riders', 'nomès', 'interrogants', 'espadaler', 'minúscula', 'màgiques', 'robats', 'espasa', 'llicenciats', 'xup', 'assumpció', 'retenir', 'salva', 'agnès', 'escalfor', 'keirin', 'limitats', 'apropant', 'college', 'canaria', 'perilloses', 'reuneixen', 'animant', 'tú', 'espies', 'canet', 'vindria', 'veiessin', 'cosir', 'lamas', 'cívics', 'tendresa', 'oblideu', 'huracà', 'intèrpret', 'comprensible', 'simpàtic', 'equitativa', 'divina', 'monitor', 'originària', 'gironès', 'fonda', 'morro', 'enormement', 'perifèria', 'patriotes', 'oblida', 'antelació', 'àrtic', 'ins', 'catalá', 'contrasta', 'xo', 'uu', 'malmès', 'íntegres', 'aparellaments', 'planxa', 'sofre', 'conjuntes', 'fundación', 'taüt', 'enterrar', 'paradoxa', 'érets', 'bata', 'horst', 'cambridge', 'compostes', 'engloba', 'escratx', 'danses', 'opina', 'clandestí', 'oferien', 'gotes', 'coet', 'amorosa', 'extraordinaris', 'sprint', 'tapat', 'replegar', 'restar', 'creatius', 'paluzie', 'android', 'infernal', 'aforament', 'historial', 'primerament', 'indiscutible', 'secretes', 'obligatòriament', 'asperger', 'desigual', 'convencionals', 'depenia', 'exportar', 'repeteixen', 'qu', 'jubilació', 'aplicarà', 'governants', 'victorià', 'voreres', 'disposeu', 'tn', 'migratori', 'protector', 'propiciar', 'resol', 'lliurada', 'eto', 'lif', 'cerques', 'mosa', 'rodejat', 'falange', 'sorprés', 'minyones', 'desesperats', 'asiàtic', 'pimes', 'torns', 'enfora', 'eis', 'ignorar', 'ajudants', 'ramader', 'angel', 'paracaigudes', 'irpf', 'is', 'defensaven', 'riuen', 'comunicats', 'tona', 'mires', 'vivenda', 'dinamitzador', 'rànking', 'enviades', 'renecs', 'sensat', 'teòricament', 'rotllo', 'coi', 'series', 'significava', 'açò', 'movia', 'hoste', 'jou', 'jonathan', 'entens', 'assassinades', 'micro', 'xiular', 'immillorable', 'aplega', 'cerebrals', 'guanyarem', 'man', 'esgotament', 'fades', 'brutícies', 'romànica', 'monedes', 'segueixin', 'interactuar', 'trec', 'àvol', 'triada', 'regina', 'trob', 'unic', 'exterminar', 'baleares', 'contesta', 'xuts', 'pagats', 'integrals', 'xino', 'severa', 'liderant', 'cafès', 'òptima', 'festiva', 'constarà', 'torró', 'motocicleta', 'casolà', 'enduia', 'fre', 'rebaixat', 'vela', 'residencial', 'púrria', 'bruscament', 'defensada', 'udg', 'perfeccionar', 'escàs', 'envieu', 'basté', 'pretòria', 'iñaki', 'preferia', 'irònic', 'incorporin', 'empremta', 'inefc', 'aproximar', 'calvo', 'graduar', 'notablement', 'proporcions', 'pressionant', 'islas', 'dama', 'grassos', 'mc', 'honest', 'kursk', 'argumenta', 'irblleida', 'floral', 'rumiar', 'fiar', 'atent', 'consultor', 'firmes', 'puntades', 'corriols', 'truman', 'activat', 'ritter', 'compostela', 'barroso', 'sociata', 'reia', 'organitzatiu', 'intolerància', 'vulneració', 'llavor', 'perseguit', 'plasma', 'expertesa', 'periodístic', 'pecats', 'avançament', 'llegiran', 'opera', 'filadora', 'insignificant', 'casta', 'an', 'perífrasi', 'milles', 'ariadna', 'nós', 'telefòniques', 'rotacions', 'coloms', 'defensem', 'queralt', 'sonava', 'bern', 'importantíssima', 'considerades', 'pallarès', 'contextualitzar', 'guardava', 'lammers', 'bestieses', 'emilio', 'expedicions', 'agradarà', 'culet', 'crides', 'envien', 'lia', 'noruec', 'tornarien', 'noemí', 'oliveira', 'track', 'contrada', 'estanys', 'viscuda', 'priori', 'quarters', 'nodrir', 'expertes', 'halifax', 'darwin', 'maternes', 'esdevenidor', 'tanques', 'comunitàries', 'passejava', 'centrats', 'marcava', 'encoratjar', 'condemnada', 'enverinat', 'canya', 'absurda', 'difunt', 'prosperitat', 'sorpresos', 'riells', 'cantava', 'tractaven', 'ametlles', 'parador', 'ice', 'audiències', 'ascendent', 'furiós', 'amazic', 'dubto', 'témer', 'escobar', 'deies', 'dogc', 'dannel', 'dominava', 'teti', 'vitoria', 'borbó', 'olors', 'legislatives', 'preferents', 'llades', 'zel', 'sortiria', 'comissionat', 'enganyat', 'variades', 'vincula', 'entrebanc', 'comparable', 'viscudes', 'recança', 'completant', 'die', 'comences', 'definint', 'noietes', 'sumem', 'cid', 'nues', 'especificats', 'promulgar', 'panadero', 'sintagma', 'comptarem', 'biochar', 'lluc', 'tuset', 'rovell', 'rescatar', 'confós', 'radial', 'meravelloses', 'celebrades', 'barceloneta', 'estocolm', 'calgut', 'smith', 'nissaga', 'gironina', 'condiciona', 'nutricionistes', 'dinan', 'carreró', 'múrcia', 'permanentment', 'qualsque', 'puente', 'julio', 'oca', 'desallotjament', 'paleolític', 'lava', 'trucat', 'lliuraran', 'catalanitat', 'bojos', 'pubill', 'formadora', 'plantejant', 'signant', 'ferir', 'entres', 'esguardant', 'indignar', 'simplificació', 'abstencions', 'ori', 'característics', 'anualitat', 'façanes', 'efemèride', 'bacteri', 'manar', 'drut', 'rocs', 'arrodonir', 'consensuar', 'ares', 'romàntic', 'davallar', 'ocupaven', 'nadons', 'sagrera', 'preocupada', 'marxava', 'verins', 'emocionals', 'falles', 'fullet', 'subordinades', 'llaços', 'estius', 'cinebaix', 'evolucionar', 'automatització', 'design', 'caçador', 'referint', 'estavellar', 'uniformats', 'pdecat', 'claveguera', 'amsterdam', 'foscos', 'bàndols', 'descosits', 'fageda', 'inclogui', 'marrec', 'feminisme', 'insostenible', 'show', 'debatut', 'cagats', 'explosions', 'robes', 'legant', 'referim', 'figuren', 'conquerit', 'diane', 'moncloa', 'roller', 'genèric', 'matisos', 'deler', 'cregui', 'elsa', 'retallat', 'notables', 'incessant', 'reports', 'muts', 'geo', 'internat', 'anschluss', 'desitjaven', 'aris', 'roigé', 'evolutives', 'masana', 'emeten', 'incert', 'sangs', 'sentmenat', 'patiments', 'decorat', 'metilació', 'violar', 'claríssim', 'exconsellera', 'honestedat', 'legislatures', 'reflectit', 'caminava', 'meló', 'esmolat', 'superstició', 'romanen', 'meravellosos', 'arqueològic', 'explotacions', 'wilhelmplatz', 'rata', 'noieta', 'comprant', 'muriel', 'metropolità', 'foti', 'enllestir', 'estigueu', 'planejat', 'allargat', 'denunciant', 'adverbi', 'gastronòmiques', 'importar', 'esperes', 'vulguem', 'felicitacions', 'fusionar', 'assenyalant', 'colonial', 'protegeix', 'funcionant', 'visqui', 'productius', 'tractaria', 'assentat', 'proa', 'contava', 'supermercats', 'hostil', 'urc', 'deixessin', 'cordial', 'explicaran', 'estàtic', 'leccions', 'kesselring', 'insistia', 'impactat', 'complicacions', 'amagatall', 'agregat', 'iniciem', 'ambulància', 'invariable', 'sintetitzar', 'veterinari', 'invasor', 'domèstics', 'preparava', 'corregut', 'murals', 'anatòmicament', 'cabrera', 'dictamen', 'aguirre', 'corresponia', 'supervisar', 'autocars', 'trobà', 'marciana', 'nals', 'investigat', 'intolerable', 'pintada', 'tolosa', 'elvira', 'actualitzat', 'luminar', 'parracs', 'anomenaven', 'projectat', 'mantindran', 'cridats', 'güell', 'estímuls', 'avals', 'aptes', 'clavada', 'diví', 'adonem', 'podrida', 'asil', 'parany', 'magnetisme', 'jamborinada', 'edita', 'berlin', 'plec', 'racionalització', 'dignes', 'anunciada', 'veritables', 'refrescar', 'retòrica', 'calais', 'parròquia', 'dramaturg', 'disputen', 'bellcaire', 'trieu', 'reflectir', 'haguessis', 'pove', 'aspirar', 'escollides', 'agràries', 'quadrat', 'sintàctica', 'discreció', 'influeixen', 'ballant', 'sagarra', 'avaluarà', 'catalunyacaixa', 'aprop', 'transmissions', 'teranyines', 'perjudicis', 'difon', 'operat', 'amagant', 'faciliti', 'pan', 'saxònia', 'posta', 'senzills', 'fragmentació', 'unity', 'fotografiar', 'ortogràfics', 'razón', 'equipat', 'gaudi', 'dahlerus', 'congress', 'besalú', 'guionista', 'enfonsa', 'diables', 'prepirineu', 'tombs', 'portàvem', 'indi', 'dificil', 'hannover', 'castellera', 'factible', 'hebron', 'pistoles', 'sintaxi', 'diplomat', 'gracia', 'selecciona', 'corunyesos', 'noces', 'pair', 'jerarquia', 'hàbils', 'contemplava', 'nusos', 'floristeria', 'apte', 'apareixent', 'siurana', 'procedències', 'garrido', 'morera', 'tub', 'johan', 'disgustat', 'escset', 'cobrat', 'guanyaven', 'demani', 'investigadores', 'provocada', 'traves', 'cuit', 'nét', 'islàndia', 'interlocutor', 'empentes', 'consultat', 'busques', 'deportivo', 'krupp', 'arxiver', 'horthy', 'lectivament', 'emergent', 'súper', 'néts', 'neologismes', 'supernova', 'fanatisme', 'comicis', 'besar', 'conviccions', 'sucres', 'entressin', 'concebut', 'escultor', 'rubinat', 'lustrat', 'promoguda', 'badar', 'sogre', 'monstruós', 'partenogènesi', 'hàbil', 'cervià', 'certesa', 'generats', 'inesperada', 'actu', 'calibre', 'beneficia', 'samuel', 'remunta', 'vertigen', 'descrita', 'recreació', 'atrevit', 'muda', 'vuitè', 'navegar', 'nerviosisme', 'itv', 'dibuixat', 'núñez', 'fonamenta', 'torturat', 'marítimes', 'perdrà', 'bull', 'abandonada', 'roben', 'senyoreta', 'gilart', 'angles', 'promet', 'primordial', 'seguís', 'casella', 'ingesta', 'jeroglífics', 'sonda', 'alicia', 'oxford', 'socors', 'profunds', 'fabricant', 'remot', 'agudes', 'gasteiz', 'quotidià', 'teranyina', 'seat', 'trinca', 'cable', 'ham', 'complica', 'lurdes', 'carbohidrats', 'deliciós', 'angola', 'tinguda', 'expliqués', 'maurice', 'terços', 'competents', 'respongui', 'cardava', 'corbins', 'lès', 'edward', 'lu', 'indígenes', 'rimera', 'empertostemps', 'desconegudes', 'alls', 'llefiscós', 'recitar', 'fanàtic', 'exprés', 'acceptés', 'culer', 'uruguai', 'camarasa', 'tap', 'escampar', 'auxiliars', 'pera', 'afavorit', 'indiferència', 'greim', 'protectorat', 'sospites', 'uts', 'procurar', 'concebre', 'inoblidable', 'nora', 'lounge', 'tendra', 'dictadors', 'posessió', 'fràgil', 'gastat', 'vinyoli', 'carmel', 'okh', 'descendent', 'treballades', 'finalitzacions', 'celeritat', 'enigmes', 'escrius', 'panikkar', 'inviable', 'olives', 'conducció', 'francament', 'poderoses', 'unificat', 'èpica', 'lluch', 'gestes', 'mania', 'figuera', 'autonòmica', 'polígon', 'minoritàries', 'anomenen', 'domina', 'estònia', 'bessó', 'periodística', 'losantos', 'cerimònies', 'estranyar', 'erosió', 'genèrica', 'jorns', 'rats', 'obergruppenführer', 'generades', 'corbata', 'responia', 'contratemps', 'finques', 'colomer', 'cuida', 'convidada', 'esdevindrà', 'pyrénées', 'síria', 'allunyats', 'anglosaxons', 'dimitit', 'masnou', 'forasters', 'enllaçar', 'confeccionar', 'primitiu', 'sàpigues', 'racions', 'mànec', 'còsmica', 'pap', 'cabina', 'treballes', 'controlats', 'gais', 'escamots', 'sostenir', 'freixa', 'directives', 'qualitatiu', 'camats', 'crac', 'farts', 'fedor', 'johann', 'tractarà', 'malversació', 'bilingüisme', 'incentius', 'cafetería', 'refugiades', 'relleus', 'emprats', 'solia', 'alcalá', 'exhaustiva', 'essencialment', 'prinz', 'schirach', 'kpd', 'notum', 'alcorcon', 'emèrit', 'obrim', 'reguitzell', 'casillas', 'parant', 'trempant', 'bleix', 'aquàtiques', 'rels', 'arqueològiques', 'entrepans', 'aiguats', 'khàrkiv', 'carranxa', 'llaunes', 'sospitós', 'energètics', 'abís', 'crono', 'below', 'polar', 'enfocat', 'dissort', 'administradors', 'it', 'rectificar', 'vulnerable', 'comissària', 'pirri', 'creacions', 'descoberts', 'ten', 'ego', 'doblada', 'jovenet', 'gomez', 'especificar', 'dracs', 'sabatilles', 'ordena', 'embolicar', 'convidava', 'mauthausen', 'pensis', 'ixen', 'ambre', 'vegin', 'animo', 'liquidar', 'utilitzarem', 'afortunat', 'contradicció', 'establia', 'floretes', 'rectificació', 'reclam', 'durarà', 'començaria', 'percebudes', 'culminat', 'valorarà', 'cantons', 'tanquem', 'explicaria', 'cfgs', 'ascendeix', 'rut', 'segells', 'atributs', 'desordre', 'bernardina', 'necessitarà', 'afegits', 'mossegar', 'replicació', 'troballes', 'pronuncia', 'pota', 'calaixos', 'analitzarà', 'generalitzat', 'aprenguin', 'giménez', 'parlaré', 'benvingut', 'trobàvem', 'llegeixes', 'natges', 'guanyada', 'segments', 'camises', 'proposarà', 'justificada', 'pifarré', 'digues', 'trencava', 'florentino', 'exposaran', 'apartaments', 'tri', 'cortines', 'scott', 'colons', 'blanquerna', 'paulo', 'arbitres', 'insultat', 'rigorós', 'detectats', 'transmeten', 'eslàlom', 'lliuraments', 'dubtosa', 'imagines', 'ral', 'màrtirs', 'entri', 'escull', 'mac', 'quedessin', 'jorba', 'pretendre', 'prohibeix', 'tacte', 'sentors', 'duri', 'pagues', 'bloquejar', 'volat', 'agafen', 'pipí', 'canten', 'fluixa', 'analític', 'explicada', 'pulmons', 'magníficament', 'spd', 'orgànic', 'kleist', 'fàbregas', 'nius', 'll', 'viables', 'zen', 'miri', 'canviarà', 'riga', 'prenien', 'degenerat', 'estands', 'pescar', 'evolucionant', 'pueyo', 'contemporanis', 'missatger', 'pertoca', 'lluitarem', 'descobrim', 'grande', 'agredir', 'consultoria', 'idèntic', 'mansió', 'terminals', 'antiaeri', 'macao', 'malalta', 'diguéssim', 'immaterial', 'movent', 'pagarà', 'nissan', 'acrònim', 'contrapartida', 'satisfactòriament', 'cuques', 'guardat', 'opuscle', 'estrada', 'presoneres', 'escorxador', 'jurament', 'sincer', 'tímid', 'creuant', 'cda', 'nucleics', 'palesament', 'pastes', 'etcètera', 'bellvís', 'miralles', 'embaràs', 'valuosa', 'demagògia', 'utilitzarà', 'retrocés', 'quiet', 'qüestionat', 'interculturalitat', 'introduint', 'gegantina', 'filològica', 'sensori', 'antifrau', 'complementen', 'configuren', 'recollia', 'infinites', 'aranyes', 'readaptació', 'malta', 'conyac', 'primari', 'solidàries', 'eco', 'microbianes', 'prebenjamins', 'pah', 'bastants', 'banyera', 'massatges', 'explico', 'reparar', 'antiaeris', 'ubicades', 'excrements', 'impol', 'rebels', 'vitro', 'legues', 'carrils', 'bla', 'alternatius', 'gloria', 'internament', 'admirava', 'lancaster', 'banquer', 'horrorós', 'olis', 'ppm', 'druts', 'canadencs', 'modernitat', 'reclamacions', 'ideològica', 'ocupés', 'fossa', 'signats', 'desequilibri', 'progressar', 'lleva', 'estranyament', 'escassetat', 'esguardava', 'sporting', 'contemplen', 'retolació', 'arribades', 'penjava', 'zeitung', 'schaub', 'salons', 'fredes', 'tempo', 'adhereix', 'lligament', 'aguanta', 'btv', 'citats', 'mecàniques', 'subtitulada', 'gamificació', 'zumba', 'morros', 'posseeix', 'imbècil', 'decidim', 'aliena', 'negociat', 'devoció', 'amagades', 'cinyell', 'autèntiques', 'reutilització', 'accedit', 'numerals', 'baixava', 'guanys', 'magnesi', 'plànyer', 'seana', 'mediocre', 'sospitosos', 'cristiano', 'alliberats', 'bernhard', 'lleigs', 'germànic', 'cessament', 'masclistes', 'suro', 'ml', 'agafi', 'substancial', 'socorristes', 'dídac', 'espinacs', 'deesses', 'bous', 'destral', 'pujaven', 'marx', 'convocades', 'kong', 'amfibis', 'richter', 'ulrich', 'assaborir', 'integrades', 'cf', 'tutoria', 'agbar', 'hongaresos', 'partner', 'decideixi', 'johnson', 'tocada', 'necessitin', 'estimula', 'pensats', 'esdevenint', 'sanger', 'seròs', 'mercader', 'longitudinal', 'encarregades', 'entrellat', 'mengele', 'complerta', 'atansava', 'gregor', 'tipologies', 'admeten', 'espiritualitat', 'romeu', 'mels', 'aprofiteu', 'fomenten', 'abandona', 'gendre', 'logístiques', 'collir', 'rtve', 'bankia', 'pics', 'presumir', 'gorg', 'unionistes', 'coneixer', 'paleontologia', 'menysprear', 'leri', 'jutgessa', 'aperitiu', 'meteorològic', 'atrapa', 'pedalar', 'antich', 'allunyada', 'ministerial', 'betzef', 'first', 'coneixença', 'nàpols', 'criden', 'enduro', 'espill', 'pixa', 'donà', 'postures', 'carregant', 'organitzatives', 'gastronòmics', 'argentins', 'escultures', 'saliva', 'vial', 'excessos', 'demanés', 'sinagogues', 'tertulians', 'dominada', 'osques', 'mer', 'amèriques', 'practicants', 'condicionants', 'sardà', 'estiguis', 'llinars', 'anvers', 'ombrel', 'somiant', 'dutxa', 'regala', 'montaña', 'revetlla', 'dediquem', 'ae', 'representatives', 'unnim', 'volants', 'constantí', 'cales', 'incomprensible', 'enviaven', 'adonen', 'pec', 'pallejà', 'planificat', 'moble', 'sortissin', 'comprès', 'destitució', 'eliminant', 'calendaris', 'instrumental', 'sublim', 'sobtats', 'afectava', 'refranys', 'amablement', 'sardana', 'gijon', 'substituint', 'procedeix', 'acceptable', 'caracteritzar', 'santamaría', 'grassa', 'cronenberg', 'aprofitarem', 'oblidant', 'cobrant', 'abonar', 'rendit', 'ade', 'garanteixin', 'ascensió', 'day', 'referia', 'pack', 'burón', 'star', 'sad', 'projecta', 'meridiana', 'fresno', 'oportunes', 'menfri', 'maldecaps', 'madur', 'feedback', 'analitzades', 'larà', 'íntimament', 'toll', 'clàusules', 'rucades', 'races', 'posseir', 'laborem', 'móra', 'foteu', 'produeixi', 'natusfera', 'pertanyents', 'oliveras', 'vivent', 'atén', 'feixas', 'horrible', 'controlava', 'milícia', 'plagi', 'membranes', 'atzucac', 'decretar', 'tarragonès', 'wiki', 'tonificar', 'serioses', 'maltractaments', 'portadors', 'orgàniques', 'distingit', 'costi', 'puntualment', 'funcionava', 'buròcrates', 'balança', 'prioritaris', 'intactes', 'idiota', 'presencia', 'esbarjo', 'aerolínia', 'ocórrer', 'diferencials', 'impecable', 'nòrdic', 'exacta', 'simulacions', 'prement', 'supervivent', 'micròfons', 'primats', 'patriotisme', 'rota', 'ataquessin', 'helga', 'especifica', 'naturalitat', 'complets', 'modesta', 'particularitat', 'sáenz', 'linitzadors', 'andalusos', 'concentren', 'ridícula', 'vigatà', 'renegar', 'invisibles', 'crematori', 'viareggio', 'turista', 'condicionen', 'veniu', 'fastigosos', 'observatoris', 'justos', 'bestial', 'sèrbia', 'lozano', 'omplia', 'degustar', 'viatjant', 'smolensk', 'fixació', 'regiments', 'associar', 'retornat', 'seleccionada', 'gaudiran', 'tingueren', 'sinistres', 'ximpleries', 'prestador', 'genís', 'barcelos', 'marxessin', 'efímer', 'visquin', 'subscripció', 'jacint', 'ballesteros', 'logroño', 'revolucions', 'reüll', 'llegida', 'proesa', 'penitenciaris', 'noblesa', 'distesa', 'hostes', 'grupals', 'tendons', 'drons', 'entraran', 'simpaties', 'màlaga', 'infart', 'entusiasmat', 'yoga', 'reprodu', 'prohibicions', 'comtal', 'lluitava', 'adequar', 'dissenys', 'graduació', 'wolf', 'konstantin', 'manolo', 'insuportable', 'radiofònica', 'castillejos', 'maribel', 'radar', 'braçalet', 'protagonitzada', 'guissona', 'voltors', 'repsol', 'lúdics', 'madridista', 'heidelberg', 'demogràfica', 'identificades', 'capdarrer', 'offs', 'validat', 'furgoneta', 'pesos', 'expositives', 'opcional', 'preferible', 'mongetes', 'bassas', 'pesa', 'preguntem', 'alarmes', 'conspiració', 'ultima', 'sociocultural', 'diplomes', 'aproximat', 'tombar', 'arrosseguen', 'capell', 'guitarra', 'rituals', 'amors', 'elogi', 'zeitzler', 'separada', 'pancho', 'fiquem', 'potenciant', 'entengui', 'filòsofs', 'aclariment', 'incògnita', 'convertirà', 'patògens', 'vayreda', 'valentes', 'ovidi', 'tuits', 'lineals', 'clausura', 'datació', 'viktor', 'agafés', 'cinesa', 'morien', 'menjaven', 'deixà', 'estirada', 'xai', 'marshall', 'titllat', 'evoluciona', 'blai', 'llençol', 'carrerons', 'regulat', 'picabaralla', 'aca', 'barallar', 'medievals', 'landsberg', 'sacre', 'publicaran', 'esperanza', 'vèiem', 'lustres', 'penjaven', 'bretxa', 'centrades', 'tòxics', 'tsunami', 'alertar', 'componen', 'diacrític', 'bens', 'picasso', 'llegits', 'confirmen', 'trametre', 'dolorosa', 'espinalt', 'orienta', 'estrasburg', 'merdegada', 'afusellament', 'parteixen', 'hong', 'traduit', 'fava', 'duplicació', 'bellmunt', 'electorat', 'public', 'privilegiats', 'malhauradament', 'preocupava', 'detalla', 'inclós', 'ccn', 'gelós', 'fabricat', 'excusar', 'maó', 'tractors', 'mulla', 'benzina', 'streicher', 'iraq', 'usaaf', 'mentir', 'arbitrals', 'convencions', 'corones', 'cros', 'espanyolisme', 'incessants', 'enzim', 'llorach', 'romàntica', 'interdisciplinari', 'allem', 'hagueu', 'discreta', 'submissió', 'pecs', 'jeure', 'epanole', 'dolorós', 'unànime', 'letònia', 'exministre', 'reien', 'successives', 'viver', 'discret', 'faltaria', 'resistent', 'absorbir', 'beneficiat', 'competit', 'tutela', 'canelons', 'remenant', 'legislatiu', 'magazín', 'marejat', 'munió', 'representaven', 'estomacals', 'distribueix', 'escaient', 'agradables', 'tiet', 'amenaçava', 'batejar', 'week', 'erem', 'eradicar', 'brüning', 'teatrals', 'ubicar', 'successivament', 'debutarà', 'rarament', 'travessant', 'salvament', 'caramels', 'acceptant', 'trampes', 'sonia', 'etimologia', 'orbitals', 'fantasmes', 'esglaó', 'bacteriana', 'lobbies', 'valoro', 'atribueixen', 'respectuós', 'massoni', 'dividits', 'tac', 'erròniament', 'autòctons', 'starlight', 'esbart', 'anorrear', 'rubió', 'freqüentment', 'vores', 'pregona', 'eficaços', 'finançats', 'desitjada', 'fums', 'pixats', 'registra', 'montoliu', 'sucat', 'elevar', 'vallnord', 'entonació', 'economies', 'desafiaments', 'respecti', 'processar', 'viatjava', 'lenni', 'atmosfèrics', 'ring', 'rivas', 'renunciat', 'suspeses', 'característic', 'agre', 'materialitzar', 'intensius', 'faves', 'dolentes', 'podies', 'prostitució', 'fosa', 'nina', 'pernoctacions', 'restabliment', 'seduir', 'guiat', 'engega', 'vulgar', 'assabentat', 'diries', 'patent', 'usen', 'sosté', 'vanessa', 'immersos', 'ingredient', 'caçat', 'tonyina', 'schellenberg', 'commemoratius', 'comtat', 'ludificació', 'santo', 'deficiències', 'atencions', 'rner', 'dotats', 'mateo', 'influent', 'contraatacar', 'assumeixen', 'llana', 'bevent', 'interrupció', 'emporta', 'caracterització', 'idear', 'trameses', 'reconstru', 'polls', 'ratlles', 'fertilitat', 'encarregarà', 'florals', 'comcal', 'abdomen', 'hjalmar', 'acompanyés', 'eixut', 'llençats', 'danyats', 'konev', 'diaz', 'anònims', 'apunteu', 'rcat', 'boques', 'rebem', 'repetides', 'quotidians', 'incerta', 'cascs', 'cargols', 'rècords', 'exdiputat', 'barroc', 'ultimàtum', 'rebombori', 'obvi', 'autoritària', 'interferències', 'educadora', 'adjuntar', 'primaris', 'corvi', 'inaugurada', 'retorna', 'decidits', 'nats', 'torts', 'corbes', 'dialectals', 'núvia', 'explicatives', 'dolces', 'pregonament', 'moràvia', 'biking', 'bevia', 'vueling', 'formalitat', 'greuge', 'buidor', 'perdis', 'amanides', 'miserables', 'alcoletge', 'hondures', 'causal', 'pintxo', 'adroher', 'oltra', 'espiral', 'participis', 'labor', 'cleiren', 'saludat', 'metal', 'hollywood', 'quirze', 'pesta', 'stuttgart', 'douglas', 'desplegat', 'meteorologia', 'funcionat', 'codina', 'obligant', 'abasta', 'degustacions', 'represàlia', 'destins', 'polèmiques', 'porcí', 'renals', 'metralladora', 'polígons', 'rita', 'rendible', 'bootcamp', 'imponent', 'federalisme', 'aguantava', 'prevaricació', 'reclamant', 'còrrer', 'poloneses', 'senglar', 'comparem', 'cims', 'rancúnia', 'ministeris', 'hereus', 'acollonit', 'lee', 'susana', 'tastets', 'bordell', 'tentacles', 'emprada', 'soraya', 'elegants', 'trenquen', 'venes', 'riques', 'oculta', 'humit', 'corresponsals', 'consultora', 'sonor', 'cervecería', 'dinàmics', 'pelut', 'anomenem', 'rúbrica', 'atorgament', 'esplèndid', 'francesca', 'graf', 'arranjament', 'atenen', 'distingeix', 'autonòmics', 'cunit', 'volcànica', 'avia', 'elaborant', 'brau', 'topada', 'buf', 'obligarà', 'trencaclosques', 'cei', 'analogia', 'recuperem', 'periòdica', 'confirmada', 'extres', 'estaràs', 'cardenal', 'procedeixen', 'contribueixin', 'ibi', 'gamada', 'representarà', 'dugui', 'expandir', 'protestants', 'negro', 'peke', 'trucant', 'golejadora', 'representades', 'descuit', 'poguéssim', 'aecc', 'tia', 'fotin', 'patriota', 'sinistre', 'xineses', 'dinosaures', 'idèntics', 'moix', 'sonen', 'boc', 'acostumar', 'truca', 'quedà', 'fiança', 'volies', 'atènyer', 'green', 'paraigües', 'alcaldesses', 'associen', 'resultava', 'pòstum', 'investit', 'bancari', 'autòctona', 'obliguen', 'vosté', 'etzibar', 'tesa', 'definides', 'ancestres', 'farcit', 'urna', 'lennis', 'segadors', 'infanta', 'observen', 'uri', 'comín', 'avancen', 'moderats', 'carregades', 'violacions', 'almenara', 'visatge', 'classificatòria', 'prioritària', 'autenticitat', 'hipoteca', 'gerència', 'posaré', 'candidates', 'vedella', 'remarques', 'socialització', 'demografia', 'aixeta', 'passis', 'mestratge', 'despullat', 'entrin', 'taperia', 'islàmic', 'formarà', 'singapur', 'incubadora', 'enfortiment', 'hipòcrita', 'voldran', 'viscuts', 'activisme', 'alimentàries', 'revocació', 'aturava', 'premiar', 'disturbis', 'postproducció', 'fiables', 'hera', 'merdetes', 'nkvd', 'bioquímica', 'definia', 'desagradable', 'duria', 'proveir', 'rat', 'estival', 'lligam', 'obama', 'pizzería', 'votaria', 'fcf', 'lab', 'allen', 'parèntesi', 'multiplicat', 'doll', 'bielorússia', 'reforçant', 'demanin', 'anfitrions', 'bill', 'ambulant', 'enviava', 'enriqueix', 'mr', 'horroritzat', 'estimes', 'supòsits', 'feministes', 'ideat', 'repetirà', 'delinqüència', 'observadors', 'pensés', 'freqüències', 'ot', 'catifes', 'prohibia', 'bastir', 'esmenar', 'tendrums', 'tallant', 'puntada', 'belgrad', 'clotet', 'rato', 'mancava', 'contrastar', 'berna', 'pertanyien', 'conesa', 'utilitzin', 'impedia', 'macedònia', 'originalitat', 'ami', 'fen', 'professores', 'servidors', 'esquírria', 'demostrava', 'usuàries', 'gerhard', 'retribució', 'organitzativa', 'miraments', 'pessic', 'ocuparia', 'dores', 'assentar', 'revisant', 'mitigar', 'arxipèlag', 'interventors', 'cercavila', 'fotosíntesi', 'troncs', 'rs', 'ningu', 'sereu', 'repulsiu', 'pronòstic', 'incivisme', 'saltant', 'molet', 'desigs', 'integrador', 'trepitjat', 'mambo', 'publicant', 'consolat', 'clava', 'segment', 'esses', 'arrenquen', 'hauríen', 'apropen', 'llavorsí', 'aconseguí', 'urà', 'suportava', 'conya', 'incansable', 'hp', 'rabiós', 'visibilitzar', 'veterania', 'gravitatòria', 'mancança', 'despulla', 'exvicepresident', 'emblema', 'xemeneia', 'sincera', 'poesies', 'volàtils', 'gustum', 'tron', 'enriquiment', 'remeis', 'estaquirot', 'facilitin', 'immigrades', 'puces', 'evacuats', 'plegades', 'càpsula', 'tonificació', 'apropament', 'expectació', 'empitjorar', 'petons', 'interfície', 'alcover', 'esclata', 'bernabéu', 'explorer', 'moribund', 'formador', 'amenaçades', 'burgesa', 'esquadró', 'cortesia', 'esquitllèbit', 'tiberi', 'precises', 'reflexiona', 'finançada', 'mescla', 'estaríem', 'nodrida', 'congo', 'bellver', 'urdú', 'montgrí', 'helicòpter', 'node', 'fugia', 'humiliació', 'senegal', 'prenem', 'rumor', 'llorer', 'extremes', 'julia', 'damià', 'feria', 'martiri', 'talleu', 'controlades', 'higgs', 'ecòlegs', 'digestió', 'esteses', 'enllestit', 'subratllar', 'llorda', 'tartera', 'danès', 'estira', 'vigila', 'agraris', 'convoquen', 'organitzacional', 'interpersonals', 'realitzem', 'transcendental', 'rematant', 'citació', 'tallades', 'cullerada', 'compren', 'silvia', 'cota', 'relativitat', 'inés', 'coats', 'romeva', 'vists', 'autoritza', 'hormones', 'contrades', 'reconegui', 'ratificar', 'golmés', 'messerschmitt', 'sirera', 'destinen', 'maneig', 'noruecs', 'toro', 'llepaculs', 'halterofília', 'tropa', 'olesa', 'fit', 'bastogne', 'society', 'alienes', 'barrio', 'involucrar', 'lublin', 'oidà', 'firmament', 'vèrtex', 'moriria', 'casablanca', 'escassos', 'abidal', 'paramilitars', 'dament', 'paramilitar', 'american', 'pomerània', 'tendes', 'superats', 'gradual', 'contradiccions', 'contribuint', 'elisabet', 'andaluses', 'corrector', 'prous', 'onzena', 'impresentable', 'psicòleg', 'brotons', 'infame', 'caca', 'watch', 'patriòtic', 'retirant', 'condicionada', 'mereixem', 'féssim', 'correspongui', 'alumini', 'market', 'aproximacions', 'mec', 'alvocat', 'embarcar', 'dei', 'accelerador', 'clavegueres', 'conseqüent', 'guitza', 'legiat', 'bastons', 'equipatge', 'acompanyaran', 'politic', 'sonat', 'hormona', 'necessitàvem', 'impartirà', 'ametllers', 'massius', 'butaques', 'folla', 'progressistes', 'individualitzada', 'alegrar', 'conxita', 'regidores', 'àudios', 'amatent', 'curtmetratge', 'gratificant', 'tirava', 'teniem', 'schools', 'pnb', 'introdueixen', 'juliana', 'conversació', 'amables', 'taylor', 'democracia', 'vals', 'emmarquen', 'romanc', 'documentat', 'espurnes', 'protegida', 'simón', 'aerotransportada', 'angeles', 'finança', 'tips', 'orangutans', 'torxes', 'dissimular', 'deixis', 'sondeig', 'fiu', 'incrementant', 'mountain', 'semàfor', 'duart', 'immune', 'servint', 'inflexió', 'urv', 'bojan', 'fortaleses', 'reeixir', 'pràcticum', 'planadors', 'luxós', 'guíxols', 'qualitativa', 'hoteleria', 'afavorint', 'guanyarà', 'desequilibris', 'torregrossa', 'encertada', 'enfilar', 'cosina', 'romanes', 'embotits', 'anne', 'tas', 'classificada', 'martinez', 'entranyable', 'tela', 'antisistema', 'cantat', 'honorable', 'andrew', 'serveixin', 'mòmia', 'esguardar', 'merdegades', 'nines', 'braus', 'estruç', 'ambicions', 'engrescadora', 'esplanade', 'cíviques', 'raure', 'vistiplau', 'teues', 'pelant', 'tova', 'culpabilitat', 'formiga', 'clàusula', 'baralles', 'detalladament', 'marquès', 'reguladores', 'colpista', 'buscaven', 'inesgotable', 'disputades', 'grades', 'homogene', 'antenes', 'enfonsant', 'trempat', 'rebreu', 'amplitud', 'ibèric', 'barbaritats', 'inflamació', 'reiterar', 'descriptiu', 'pressupostàries', 'intacte', 'siguessin', 'confesso', 'droga', 'artròpodes', 'coneixerà', 'divideixen', 'féssiu', 'apendre', 'terapèutiques', 'rialb', 'desús', 'identitats', 'traspassat', 'safrà', 'quaderns', 'castellbisbal', 'salomó', 'mamella', 'appec', 'entesos', 'podis', 'benvingudes', 'caverna', 'llençada', 'fustes', 'clientela', 'plantegem', 'esquenes', 'fantàstiques', 'tindré', 'constructiu', 'paperets', 'lustrar', 'mantenien', 'ensopegar', 'destrossar', 'costers', 'dolores', 'prototips', 'menjadors', 'panoràmica', 'adoctrinament', 'erectus', 'gps', 'angúnia', 'pirinenc', 'guant', 'cremaven', 'barrets', 'cosins', 'prevalença', 'bombolles', 'professionalment', 'afeccionats', 'espontani', 'equipats', 'vibrant', 'ratificat', 'provisionals', 'jurar', 'entenedora', 'responc', 'destacava', 'estricta', 'ixcor', 'resolta', 'bòlit', 'encomanar', 'dotacions', 'educador', 'manualitats', 'negativament', 'prudent', 'contraofensiva', 'borrell', 'cobrava', 'diplomàcia', 'mentider', 'frustrat', 'moody', 'erigir', 'consolidant', 'navegadors', 'quantitativa', 'locutor', 'vilosell', 'justifiquen', 'prisa', 'carib', 'boston', 'demogràfic', 'matas', 'puntuat', 'seques', 'florència', 'anticipació', 'esclatat', 'admirat', 'escolà', 'significativament', 'vladimir', 'hack', 'àliga', 'tzensee', 'albatàrrec', 'interactiva', 'sarroca', 'magdalena', 'suspèn', 'clase', 'prefereixen', 'hospitalari', 'gimeno', 'immobiliari', 'insistent', 'dipositar', 'estatura', 'prestigiosa', 'disbauxa', 'apartament', 'hitle', 'vinguts', 'fetus', 'serena', 'mariscals', 'humanitats', 'pagui', 'marxem', 'enuig', 'entrà', 'suggerit', 'escrúpols', 'avortament', 'whisky', 'instituto', 'paguin', 'tarragonina', 'palacio', 'nàixer', 'curtmetratges', 'pressupostari', 'ecografia', 'empès', 'proporcionat', 'tarifa', 'aitampoc', 'originalment', 'formentera', 'ostatges', 'autores', 'accelerat', 'brasilera', 'cabres', 'preposicional', 'esquerdes', 'caramel', 'danyar', 'llegirà', 'carronya', 'sabors', 'disputant', 'nòmines', 'foscs', 'astres', 'consensuada', 'solemne', 'corominas', 'congelació', 'granades', 'surts', 'alterat', 'rondes', 'sancionar', 'sindicalistes', 'grotesc', 'jr', 'fundadora', 'gelosia', 'exposada', 'cruspir', 'encaix', 'fiquen', 'immensament', 'violat', 'degà', 'negació', 'llençava', 'deca', 'castelladra', 'massives', 'gasol', 'adjudicat', 'croàcia', 'rsha', 'pensàvem', 'cronista', 'cañamares', 'revolucionària', 'montull', 'càmping', 'mary', 'gomà', 'explícitament', 'infernals', 'dormitori', 'mohamed', 'nàutic', 'segrestadors', 'escolti', 'blogspot', 'defensi', 'felicito', 'reforçada', 'acabarien', 'gruixut', 'acceptaven', 'castellserà', 'icf', 'embolcall', 'düsseldorf', 'absoluts', 'encaminades', 'notificar', 'complicadíssim', 'lusionant', 'engrescador', 'reynaud', 'articulista', 'abwehr', 'condor', 'millorarà', 'chiringuito', 'romanesa', 'cuan', 'voluda', 'nyap', 'ressenyes', 'signants', 'parèntesis', 'destacament', 'popularment', 'rigats', 'representatiu', 'ganyotes', 'plàtan', 'inspectors', 'bikes', 'boris', 'será', 'peatge', 'ofendre', 'indicats', 'succeeix', 'reunís', 'irresponsabilitat', 'atacava', 'despit', 'eixugar', 'neurona', 'excursionistes', 'conformitat', 'esterri', 'benedicció', 'puigneró', 'doblar', 'cambrers', 'reflexionat', 'plànol', 'meteorològica', 'batejat', 'deserts', 'inversa', 'derrotats', 'coneixedor', 'desconcert', 'patrick', 'lloguers', 'llacunes', 'accionista', 'interromput', 'adhesions', 'queixat', 'confidencial', 'basílica', 'tabú', 'deposició', 'torcar', 'project', 'tendre', 'cromanyons', 'cacau', 'escombra', 'nafra', 'ajudem', 'obtindrà', 'cineasta', 'simulacre', 'romàs', 'estupidesa', 'influents', 'pintats', 'bdir', 'equivoca', 'ítem', 'aspirant', 'horrors', 'mínimament', 'enfocar', 'règims', 'capitans', 'game', 'encabir', 'pobret', 'forquilla', 'subscriptor', 'realisme', 'debuta', 'naquis', 'saga', 'dilema', 'portats', 'empar', 'inspeccionar', 'proximitats', 'beret', 'tresserras', 'sexta', 'boges', 'adjuntem', 'aviam', 'gelat', 'transmès', 'consulat', 'miratge', 'xerrant', 'comparant', 'gitanes', 'romàniques', 'desenvolupi', 'esquivar', 'bilingüe', 'reparteixen', 'africanes', 'retribucions', 'salmó', 'tp', 'carrinclona', 'personalitzats', 'sorprenents', 'teulada', 'condueixen', 'tiger', 'infeccioses', 'uan', 'economistes', 'vietnam', 'maluc', 'controvèrsia', 'guillén', 'desafiar', 'gallega', 'universos', 'tocs', 'tauletes', 'momentàniament', 'decidís', 'cianur', 'realitzador', 'canviem', 'planetaris', 'recanvi', 'quiosc', 'dénia', 'hug', 'joiells', 'wall', 'neutrinos', 'esquiadors', 'comtes', 'sanejament', 'sena', 'interpretada', 'inspirada', 'centrarà', 'duraria', 'intestinal', 'umbert', 'bruna', 'podemos', 'fangs', 'enllaça', 'nicolaus', 'possessions', 'qualificada', 'titan', 'veerle', 'promotora', 'renuncia', 'vigatans', 'jeroni', 'majories', 'culminant', 'contagi', 'acosten', 'tingues', 'oskar', 'anthony', 'ragen', 'ritual', 'espinada', 'tsar', 'neguen', 'serè', 'atrau', 'neuronal', 'índies', 'geometria', 'pronominal', 'posessions', 'misteris', 'cebes', 'xiqueta', 'orfe', 'bacterians', 'globalment', 'sudanell', 'reglamentació', 'abastament', 'meteorit', 'lumbar', 'inèrcia', 'climatologia', 'bàrbars', 'publicitaris', 'suposats', 'màscara', 'començada', 'fanocs', 'surto', 'trobaren', 'contrarellotge', 'irb', 'respectuosa', 'vectors', 'dogma', 'resulti', 'dinamita', 'arellano', 'cremava', 'morena', 'indepes', 'locada', 'extremitats', 'nutricionista', 'aixequen', 'obligatorietat', 'descaradament', 'equilibris', 'sopars', 'coresponsabilitat', 'impressionar', 'torxa', 'remor', 'leix', 'gemecs', 'estesos', 'molest', 'riner', 'intensiva', 'paralitzar', 'enfocaments', 'didàctics', 'girant', 'bancells', 'compaginar', 'pinyons', 'onda', 'remarcable', 'cabanes', 'fraga', 'fotògrafs', 'satisfactori', 'reparacions', 'clàudia', 'atles', 'senadors', 'desencadenar', 'hèlix', 'secrecions', 'java', 'aitant', 'seguiré', 'zelanda', 'serva', 'queixen', 'british', 'caguen', 'cintes', 'entenien', 'apassionada', 'macarthur', 'reincorporació', 'omega', 'comentada', 'envio', 'irresponsable', 'avaluaran', 'sospitar', 'òptimes', 'obriran', 'tastet', 'mullat', 'addicció', 'abordatge', 'pd', 'polars', 'blindatge', 'sobtades', 'engranatge', 'assumirà', 'escarré', 'alzamora', 'race', 'cuir', 'resolent', 'mínguez', 'jurado', 'configurat', 'favorablement', 'concreció', 'podent', 'podriem', 'individualitats', 'perruqueria', 'vinculen', 'altaveu', 'fusells', 'bevien', 'exjugador', 'intentés', 'howard', 'aparellament', 'degenerats', 'colossal', 'strubell', 'maten', 'exposarà', 'monza', 'flaire', 'emblemàtiques', 'redactors', 'solet', 'barbens', 'alexandra', 'eth', 'meditació', 'roquetes', 'meteorits', 'compartia', 'venedor', 'quadriennal', 'participaren', 'cosmina', 'carden', 'adhesiu', 'dap', 'compak', 'stop', 'pervers', 'acumulats', 'retrats', 'casual', 'explícit', 'truyols', 'soses', 'fètid', 'brasa', 'manxa', 'generi', 'destil', 'exiliat', 'tresorer', 'moderació', 'mística', 'tallats', 'inquisició', 'israelians', 'subvencionar', 'cordó', 'demogràfics', 'madrit', 'cuines', 'skorseny', 'vailet', 'baixen', 'novell', 'reservada', 'microsoft', 'orador', 'canviava', 'marró', 'pesades', 'desagra', 'sociolingüística', 'variats', 'adversari', 'muralles', 'equitatiu', 'hauriem', 'terapèutic', 'mítings', 'saluda', 'focke', 'tregui', 'interesant', 'provocats', 'reorganització', 'empresonar', 'asfixiant', 'retrobat', 'house', 'eixia', 'delgado', 'bastida', 'nostàlgia', 'assolellat', 'cementiris', 'hoth', 'desplegable', 'apareguin', 'desconeix', 'proporcional', 'conforme', 'nesos', 'montellà', 'nuvis', 'rauen', 'botí', 'sardenya', 'fuga', 'barretina', 'afecció', 'presentarem', 'començen', 'altea', 'guardaespatlles', 'patiu', 'buscarà', 'superi', 'centrant', 'renovacions', 'bonn', 'subordinats', 'geològic', 'velars', 'vagabunds', 'jaquir', 'participaven', 'ilse', 'patrona', 'exigim', 'grisa', 'microbis', 'expliquin', 'desconcertat', 'perez', 'estrenen', 'aglutinar', 'amè', 'indirectament', 'basal', 'intracel', 'dominen', 'auca', 'epidemiologia', 'tweet', 'caragol', 'denisova', 'electrònicament', 'canadenc', 'campos', 'afanoc', 'abelleix', 'narrador', 'aumon', 'conspiradors', 'estàtica', 'celebrarem', 'heroics', 'resignació', 'ewald', 'descarregat', 'larves', 'cauria', 'fondària', 'entramat', 'energètiques', 'pirates', 'brutes', 'arcs', 'pintors', 'parque', 'ploufragan', 'degudes', 'geòrgia', 'oposicions', 'annexió', 'increible', 'pub', 'violentes', 'cristian', 'abadia', 'obligades', 'reorganitzar', 'connecten', 'domínguez', 'hortalisses', 'estrop', 'radiant', 'corporals', 'endinsa', 'estàn', 'somiava', 'gestora', 'carpa', 'xallenge', 'considerables', 'hidratació', 'infiltrat', 'catalonia', 'escapava', 'mitigació', 'misericòrdia', 'encerts', 'desviant', 'analítica', 'corcat', 'guardonada', 'projectil', 'iker', 'adonà', 'puosc', 'aconseguida', 'ràpita', 'passiu', 'brigades', 'forte', 'biografies', 'acumulant', 'senyalat', 'pastilla', 'vanitat', 'lid', 'afiliat', 'treient', 'trujillo', 'requeriment', 'consonant', 'student', 'contundents', 'marcial', 'feies', 'put', 'amenaçada', 'remarquen', 'jotfot', 'pressionat', 'plenitud', 'pitar', 'imam', 'xivarri', 'universidad', 'tenda', 'utilitzi', 'imbècils', 'incompatible', 'recompte', 'cirurgià', 'emotiva', 'liderats', 'desdoblament', 'cassoles', 'konrad', 'esquelets', 'redueixen', 'respiratòria', 'tina', 'hídrics', 'beneit', 'senders', 'gravacions', 'apoderament', 'mk', 'escriurem', 'imposada', 'planejar', 'galeries', 'afinitat', 'ollé', 'càncers', 'rentadora', 'proporcionarà', 'pregar', 'intervindran', 'carota', 'pnas', 'tràgica', 'causats', 'habitat', 'excap', 'nicolau', 'tòpics', 'ajustats', 'observador', 'gradualment', 'fusell', 'prínceps', 'postals', 'geogràfics', 'ocupacional', 'albesa', 'esterilització', 'biesca', 'detectiu', 'concentrada', 'cinematogràfics', 'tg', 'alimenta', 'apta', 'precisar', 'cam', 'dnièper', 'negava', 'continus', 'desgavell', 'triomfar', 'lines', 'luz', 'contraccions', 'sotmeses', 'geperut', 'advocacia', 'albergs', 'solstici', 'vallfogona', 'titulats', 'posts', 'munta', 'microscopi', 'ricardo', 'aristòcrata', 'claret', 'pansit', 'festejar', 'incidit', 'ideològic', 'dau', 'soto', 'confidencialitat', 'potenciació', 'llangardaix', 'lavabos', 'obtindre', 'boldró', 'enfonsats', 'enganxada', 'treva', 'desmuntar', 'alpí', 'reproductiu', 'agrupats', 'cubelles', 'comerciant', 'impedeixen', 'fixada', 'corba', 'intimidar', 'cabo', 'arrestar', 'augura', 'pescador', 'esdevenien', 'ics', 'cuer', 'constructiva', 'rem', 'bf', 'ferrando', 'fluidesa', 'perdin', 'veiga', 'aconsellable', 'ms', 'perífrasis', 'arrokoth', 'mirarem', 'oferts', 'mola', 'eduquen', 'juna', 'personalitzades', 'orfes', 'perds', 'midway', 'taló', 'contingent', 'lorca', 'càpita', 'nigsberg', 'collet', 'familiaritzar', 'microbiota', 'dinou', 'balla', 'cedeix', 'potable', 'pastors', 'bessones', 'correspondre', 'transformadora', 'facil', 'junge', 'vinyeta', 'rugbi', 'isòtops', 'llets', 'democràcies', 'raspall', 'pela', 'nuestra', 'substitueixen', 'glucosa', 'mocs', 'construeixen', 'interadministrativa', 'safareig', 'aquàtic', 'regressió', 'homenatjat', 'cangas', 'burca', 'girat', 'dalí', 'esportivament', 'tires', 'abreviatures', 'excloure', 'referma', 'refermat', 'comràdio', 'llançaments', 'mediterrànies', 'jerusalem', 'dessota', 'amadeu', 'unificar', 'demanaria', 'llenties', 'flandes', 'acabessin', 'llord', 'espinàs', 'recalcar', 'calculen', 'expedicionari', 'parabellum', 'tovalloles', 'maresmenc', 'efemèrides', 'passarel', 'xml', 'descansant', 'divinitat', 'athletic', 'pessetes', 'network', 'habitant', 'holandeses', 'morí', 'secretariat', 'novas', 'calcularà', 'articulat', 'agrupen', 'romanços', 'encaixa', 'sinopsi', 'vinagre', 'surrealista', 'parés', 'beneficiós', 'abrics', 'guillermo', 'governen', 'carcassa', 'contenien', 'mesquites', 'escolten', 'bruc', 'robant', 'zeta', 'quedes', 'ods', 'torroella', 'duguin', 'dominaven', 'vinculant', 'tribus', 'pardal', 'subscrit', 'exclòs', 'caliu', 'plantada', 'evidenciar', 'adreçant', 'advertència', 'deportat', 'espluga', 'analitzem', 'crosses', 'exclosos', 'matrícules', 'davallava', 'espermatozoide', 'ialta', 'avilés', 'deixalles', 'impliqui', 'hebreu', 'bota', 'sobren', 'bicis', 'aportaran', 'desavantatge', 'vilaller', 'rebria', 'esdevinguin', 'emblemàtica', 'arroyo', 'dissimuladament', 'floració', 'carter', 'decidia', 'darlan', 'autobiografia', 'abocar', 'merder', 'ceràmica', 'migjorn', 'marcatge', 'interceptar', 'dècimes', 'bayern', 'ministerio', 'brown', 'immortal', 'collonut', 'portàtil', 'desperfectes', 'apropava', 'desocupació', 'preventives', 'acuradament', 'caserna', 'alvaro', 'esmenta', 'idone', 'infiltrats', 'latent', 'pròleg', 'vàlides', 'encantava', 'pesants', 'ataca', 'espina', 'cargol', 'denominacions', 'tours', 'alves', 'dakar', 'fixant', 'sushi', 'produís', 'montnegre', 'capitular', 'atribut', 'massacre', 'robot', 'vellesa', 'fatxes', 'dibuixa', 'refugiat', 'you', 'arquebisbe', 'merescuda', 'margarit', 'saltat', 'pedalada', 'segures', 'adquirida', 'suárez', 'grill', 'amenaçats', 'calzada', 'cremen', 'burocràcia', 'comuniquen', 'explorador', 'detecten', 'escolaritat', 'dialectal', 'localret', 'convertiria', 'addicionalment', 'verinós', 'paritat', 'modelatge', 'basses', 'sisé', 'lusionats', 'misèries', 'triomfal', 'madrilenya', 'follia', 'acorda', 'discs', 'fluid', 'bombardejat', 'exclusives', 'embotit', 'desapareixen', 'tem', 'immers', 'arrelada', 'miami', 'espantats', 'marqués', 'silenciosa', 'astrònoms', 'rutines', 'definitius', 'disposades', 'davanters', 'llaç', 'nico', 'embut', 'renova', 'lin', 'exclou', 'exerceixen', 'segellar', 'gregori', 'junkers', 'sexualitat', 'avaluadora', 'unicef', 'caldéu', 'dificultar', 'titlla', 'salat', 'carbassa', 'asma', 'descrits', 'sordes', 'bellugar', 'reprodueix', 'dentista', 'nebrera', 'comentem', 'cagada', 'pretenien', 'efímera', 'lleial', 'nano', 'veracitat', 'oliana', 'bestiesa', 'miralcamp', 'enlluernat', 'folk', 'waterloo', 'comunicatiu', 'produirà', 'conceptuals', 'id', 'serenitat', 'cotxeres', 'comunicarà', 'vinguessin', 'acullen', 'infal', 'auge', 'autoritzada', 'secundàries', 'pencar', 'perdés', 'capvespre', 'sòlides', 'directori', 'go', 'esclats', 'barata', 'pujadas', 'bisbat', 'agafada', 'par', 'encesos', 'començi', 'enemiga', 'esperàvem', 'agafaven', 'llargament', 'aplaudiment', 'malucs', 'glacial', 'impulsora', 'plaç', 'tramès', 'berger', 'plafons', 'calldetenes', 'catàlegs', 'nativa', 'anb', 'formulació', 'apostrofa', 'dilm', 'reactivació', 'westfàlia', 'danubi', 'recuperi', 'lluminós', 'cristall', 'làmines', 'botella', 'accedint', 'nar', 'tisores', 'comprometo', 'selectiu', 'aclareix', 'logo', 'vetllada', 'rèptils', 'suggeriment', 'detallar', 'dissenyades', 'exòtics', 'ambientada', 'anit', 'avaluables', 'encàrrecs', 'pastilles', 'sortosament', 'adaptativa', 'sebastopol', 'madison', 'llistats', 'lódz', 'curioses', 'ozó', 'acredita', 'remots', 'formin', 'roche', 'start', 'retenció', 'impartició', 'infinits', 'carrasco', 'marcarà', 'boom', 'deboscat', 'andrei', 'intervé', 'poll', 'vaccí', 'eixams', 'participeu', 'sc', 'provincià', 'transportava', 'mereixíem', 'salada', 'responguin', 'municipàlia', 'emplaçament', 'allunyades', 'cónsola', 'contenidor', 'disculpar', 'entrecuix', 'adapten', 'criticant', 'escapçat', 'sorprenentment', 'ambaixadors', 'baixades', 'tailàndia', 'individualitat', 'banquers', 'oblidada', 'interactives', 'fotés', 'sacerdots', 'incerteses', 'fbofill', 'escarabat', 'nedant', 'instructius', 'salutacions', 'canyella', 'parra', 'distancia', 'gonzalez', 'regeixen', 'retrets', 'eslògans', 'march', 'incís', 'cuesta', 'enamorada', 'po', 'penetrant', 'graelles', 'cérvoles', 'nicolas', 'janet', 'inclinació', 'entusiasta', 'oslo', 'trompa', 'pedregades', 'historietes', 'nogué', 'perfet', 'latituds', 'aconseguien', 'recorrent', 'suplir', 'ximplet', 'cardat', 'recolzat', 'temples', 'dotada', 'barcanova', 'prohibides', 'mera', 'còmplice', 'hèrcules', 'bony', 'persistent', 'allargarà', 'assigna', 'oblidis', 'gaudeixin', 'acceptaria', 'gresca', 'normalitzar', 'señora', 'consideraran', 'comitès', 'hàgim', 'í', 'dramàtica', 'xiquets', 'gavatx', 'tòtem', 'astorat', 'telescopis', 'rodat', 'peti', 'escàndols', 'fmi', 'obe', 'rodant', 'horàries', 'orb', 'bosó', 'disputats', 'donarien', 'guim', 'perseverança', 'processats', 'masculines', 'sam', 'anuncien', 'investigant', 'redaccions', 'inundació', 'avancem', 'arnold', 'sastre', 'rr', 'gallardo', 'escaients', 'fascinant', 'precaucions', 'dotzenes', 'incursió', 'badoglio', 'tr', 'jambox', 'dedu', 'cridòria', 'brindis', 'interrogar', 'sanguínia', 'neutres', 'escarransits', 'tifus', 'cognitiva', 'randa', 'zuric', 'gosava', 'avarícia', 'potassi', 'hongaresa', 'permetien', 'ídol', 'faldilla', 'gep', 'extingit', 'búlgar', 'competeixen', 'defora', 'abstenir', 'produeixin', 'jugarem', 'arrossegat', 'somia', 'west', 'allibera', 'là', 'desconeixia', 'necessiti', 'esquerda', 'certàmens', 'ordenades', 'resisteix', 'interposar', 'flores', 'mexicà', 'rebin', 'force', 'solana', 'golejar', 'erugues', 'soledat', 'pertanyent', 'prenys', 'fruiters', 'vult', 'casats', 'distant', 'ceab', 'xantatge', 'erasmus', 'flix', 'dèficits', 'eslovènia', 'arrufat', 'ecology', 'recomanats', 'peguera', 'dollfuss', 'cartró', 'viuda', 'sord', 'profeta', 'gramàtic', 'divorciar', 'weidling', 'adversitats', 'fluvials', 'golfes', 'estirats', 'criat', 'bancàries', 'falset', 'gots', 'posicionat', 'brisa', 'fotrem', 'multilingüisme', 'masquefa', 'disparaven', 'reaccionat', 'banal', 'realitzi', 'òvuls', 'ressaltat', 'bono', 'remota', 'arrestats', 'roldán', 'agut', 'meravellosament', 'ut', 'identificada', 'banco', 'pandèmia', 'típicament', 'menges', 'subordinat', 'estretes', 'ocult', 'rètols', 'conquestes', 'talment', 'canviaria', 'unitari', 'ensumant', 'simplificar', 'pr', 'boe', 'intervals', 'sabran', 'treblinka', 'especialitzar', 'decorar', 'ar', 'provocava', 'ultradreta', 'corregits', 'pronuncien', 'ajornament', 'canfelips', 'lletges', 'dorm', 'eixarre', 'encantats', 'grand', 'gordó', 'exactitud', 'arturo', 'gerundis', 'feixucs', 'accelerada', 'esglèsia', 'desfilades', 'superficials', 'amateur', 'jordina', 'parlaran', 'oronells', 'agraeixo', 'gosat', 'gaudirem', 'pericos', 'orcs', 'crua', 'clapés', 'leclerc', 'mat', 'reactivar', 'desordres', 'combatent', 'circumstancial', 'junyent', 'iodur', 'federativa', 'contribuents', 'cano', 'antonescu', 'ions', 'plànols', 'baqueira', 'decisives', 'hilari', 'preocupen', 'campiones', 'disfruita', 'anyets', 'regent', 'marsol', 'intenteu', 'pluricel', 'caporal', 'cosetes', 'tats', 'idiotes', 'convidades', 'humida', 'boix', 'circumscripció', 'periodicitat', 'indispensables', 'espinosa', 'pallissa', 'desanimat', 'adopta', 'xenofòbia', 'vargas', 'exercint', 'anticipades', 'urani', 'bravo', 'jonquera', 'implicava', 'enllumenat', 'telefónica', 'oblidava', 'enfurismat', 'evolutius', 'falsedat', 'giovinazzo', 'elàstica', 'impulsades', 'ofensius', 'neutrals', 'guadalcanal', 'rincon', 'llançant', 'cera', 'celebrats', 'nanos', 'arqué', 'macròfags', 'zp', 'pobrets', 'senglars', 'penós', 'patinar', 'tubs', 'francis', 'deliri', 'rampes', 'bateig', 'recipient', 'sidamon', 'riota', 'plaers', 'adono', 'sagnant', 'immenses', 'nebots', 'recriminar', 'manent', 'pamplona', 'relliscar', 'especificitat', 'sabotatge', 'experience', 'cortina', 'refermar', 'daurat', 'còlera', 'ficà', 'vils', 'explosiva', 'preparatòries', 'atansen', 'aturés', 'reyes', 'separatistes', 'benavent', 'oratge', 'etimològic', 'vidu', 'secretament', 'metazous', 'estabilitzar', 'ds', 'dopatge', 'varies', 'comandes', 'paisatgístic', 'usabilitat', 'revolada', 'sospir', 'cònsol', 'parentiu', 'doctorar', 'demarcacions', 'paralitzat', 'tòpic', 'pozo', 'resideixen', 'aporti', 'santes', 'arnhem', 'refereixen', 'darrerement', 'ramadera', 'ajusta', 'llera', 'orcau', 'tamboret', 'telefonia', 'nesa', 'complirà', 'fluida', 'donants', 'aliar', 'inevitablement', 'one', 'lusos', 'arterial', 'iberia', 'sopes', 'dubteu', 'validador', 'jaquia', 'aspiració', 'plega', 'arboç', 'cursat', 'abstracció', 'legítima', 'assolits', 'detectades', 'beu', 'fogueres', 'culminar', 'cospedal', 'cuevas', 'adversaris', 'animen', 'germanastre', 'alleugerir', 'matrimonial', 'preventiu', 'ansiós', 'innovation', 'nobles', 'lewis', 'owens', 'pedagog', 'errònia', 'esgotar', 'acabament', 'pronòstics', 'foraster', 'fraternitat', 'homenet', 'térmens', 'denunciava', 'catalanoparlant', 'alfarràs', 'fabrica', 'comanda', 'irreversible', 'dedins', 'dnvp', 'perenne', 'antioxidants', 'torturar', 'fermes', 'perico', 'còmput', 'dirigirà', 'metgessa', 'concertats', 'artesanal', 'barraques', 'artesà', 'impartits', 'marroquins', 'aiguabarreig', 'dormit', 'redacteu', 'actuarà', 'manquen', 'peres', 'rotundament', 'grandíssima', 'grasses', 'espases', 'mainada', 'tripulants', 'careta', 'gallego', 'pm', 'interferència', 'alegro', 'destrueix', 'comprovació', 'competidors', 'reprodueixen', 'omnium', 'joe', 'anomalia', 'tranquilitat', 'essències', 'hockey', 'bucs', 'tuit', 'italia', 'controlaven', 'prescripció', 'omnipresent', 'ultim', 'yo', 'treus', 'genuí', 'recorrerà', 'metàstasi', 'lideratges', 'nt', 'refredat', 'rebi', 'remotes', 'prepareu', 'progressos', 'cromosòmica', 'empresonament', 'intereconomia', 'salau', 'homínids', 'ideològiques', 'ximple', 'mancar', 'word', 'xutar', 'canço', 'ronaldo', 'utc', 'arribeu', 'sóller', 'paisà', 'anarquista', 'primitius', 'ogc', 'inflat', 'gara', 'místic', 'ios', 'percaça', 'penetració', 'prefix', 'comentarà', 'koller', 'palanca', 'talaia', 'exitosa', 'medical', 'habilis', 'gai', 'somriures', 'lesionar', 'iván', 'complia', 'túnels', 'refrigeri', 'hermes', 'fogons', 'diferenciats', 'confio', 'loquen', 'kahoot', 'megafonia', 'anticorrupció', 'gènova', 'abandonés', 'assimilació', 'exsecretari', 'voldries', 'revisions', 'confiem', 'merdeta', 'llis', 'badoc', 'office', 'eroles', 'editats', 'godall', 'tutors', 'iran', 'guanyes', 'comencessin', 'convertís', 'distincions', 'metodològic', 'canis', 'anticipada', 'enfonsada', 'lícit', 'rigurós', 'tiren', 'fossar', 'usant', 'remunten', 'astronòmica', 'eixien', 'itmar', 'vigilaven', 'restringit', 'psíquica', 'transaccions', 'simpàtica', 'occitània', 'black', 'visitarem', 'anireu', 'agulles', 'bufa', 'llefiscosos', 'leibstandarte', 'duaigües', 'spa', 'revers', 'fonamentar', 'lligaments', 'lupus', 'talavera', 'simular', 'ambiciosa', 'espontànies', 'púguer', 'descriptius', 'fegelin', 'condemnes', 'favorita', 'morositat', 'provocació', 'opta', 'berenguer', 'francs', 'situant', 'videoteca', 'renta', 'pasa', 'àvols', 'danesos', 'subscriure', 'reiterades', 'empatats', 'leopold', 'convido', 'neurociència', 'verriny', 'fost', 'hostils', 'líptica', 'cabals', 'concertada', 'afganistan', 'humanitària', 'kaltenbrunner', 'bromera', 'avaluen', 'confirmats', 'compensat', 'plebiscit', 'curie', 'bitlles', 'socioeconòmiques', 'intense', 'inhibició', 'malastruc', 'prestatges', 'clapar', 'senyores', 'executius', 'opressió', 'contenciós', 'projector', 'elaboren', 'scratch', 'llàtzer', 'esguerrat', 'controlen', 'contingui', 'potencialitat', 'urban', 'blues', 'assidu', 'viles', 'interminable', 'esmeperdudament', 'labs', 'cohesionar', 'discrepància', 'austral', 'adscrits', 'notant', 'doblement', 'eleva', 'pac', 'totpoderós', 'iaia', 'respectin', 'marga', 'teologia', 'sumari', 'trobarien', 'noto', 'presento', 'fosses', 'realistes', 'delinqüent', 'ideologies', 'espessa', 'respecten', 'valoraran', 'calculat', 'montsuar', 'índole', 'raor', 'fixats', 'birmània', 'disparant', 'conservatori', 'perla', 'costelles', 'tradicionàrius', 'celebraven', 'entenedor', 'empleat', 'néta', 'primitiva', 'animada', 'prengués', 'porsche', 'frenada', 'efb', 'apreses', 'bacterianes', 'interpreta', 'comenceu', 'desitgi', 'sancionador', 'moi', 'còctel', 'wasp', 'acostava', 'johannes', 'tcm', 'my', 'venent', 'caigué', 'ataquen', 'músiques', 'equacions', 'profitosa', 'ferros', 'encetem', 'natalia', 'cero', 'geologia', 'hemicicle', 'tinguéssim', 'estatutàries', 'delfa', 'percep', 'motivats', 'transformen', 'posà', 'toponímia', 'dop', 'quadrimestre', 'esbojarrat', 'remolc', 'pinzellades', 'incorporaran', 'baqueró', 'tortuga', 'broggi', 'dirigiran', 'pujalte', 'mostreig', 'barrejat', 'ensenyança', 'hipotètica', 'reprimir', 'fregant', 'salta', 'decidiran', 'succés', 'elegància', 'arrossegava', 'apropiat', 'ofès', 'entreveure', 'nadia', 'explicatius', 'olvera', 'apologia', 'express', 'luminats', 'llimbs', 'exigint', 'magazine', 'rara', 'manlleus', 'separatista', 'classificades', 'anualitats', 'televisor', 'experiencia', 'obrien', 'hipotètic', 'euga', 'reformar', 'cidat', 'unica', 'calés', 'maps', 'abandonant', 'boví', 'technology', 'enterrats', 'gitano', 'surar', 'red', 'anticatalà', 'amagaven', 'insuficients', 'grogues', 'endevinalles', 'propagació', 'condicionals', 'premissa', 'provisionalment', 'descansat', 'comprava', 'atacaria', 'vertebral', 'metròpoli', 'vestimenta', 'comparativa', 'justes', 'parlada', 'substituirà', 'alla', 'creem', 'soques', 'ferrusola', 'comando', 'assignades', 'voreta', 'trissino', 'heure', 'barril', 'deficient', 'desfibril', 'pressuposen', 'prestigiós', 'negreta', 'aboca', 'ataqués', 'transitori', 'marits', 'senzillesa', 'dedicarà', 'confessa', 'reflexionant', 'lustra', 'ecologista', 'tocaven', 'preselecció', 'joaquín', 'errat', 'cocció', 'contemporànies', 'renovada', 'rectes', 'consten', 'collboni', 'brians', 'barranc', 'miraculosa', 'suggereixen', 'flexibles', 'aquestos', 'ponderada', 'junker', 'aprofitava', 'morís', 'codificació', 'usat', 'polimorfismes', 'anotació', 'viladot', 'segat', 'fai', 'aviador', 'scc', 'cretí', 'tolerar', 'tasts', 'ingent', 'anònimes', 'tdt', 'potestat', 'xef', 'comenten', 'unia', 'sinceritat', 'gàbies', 'artrosi', 'deutschland', 'interfícies', 'escollint', 'cantonades', 'passarien', 'genèriques', 'montllor', 'exàmen', 'rovells', 'grat', 'made', 'telers', 'centauri', 'bomber', 'estrident', 'concedida', 'assignada', 'ambiciosos', 'petitet', 'follets', 'veníem', 'frescor', 'desitjats', 'inestable', 'quera', 'astronòmiques', 'adeptes', 'afrikakorps', 'enyorat', 'atraccions', 'plantació', 'grenoble', 'lisions', 'comprenc', 'ovelles', 'penalització', 'asseguro', 'hopkins', 'descansa', 'recasens', 'trigar', 'anunciés', 'llacuna', 'dellà', 'originar', 'isona', 'corregirem', 'novè', 'panell', 'sincronitzada', 'elogiat', 'convingui', 'sudan', 'dubtis', 'vagis', 'paràlisi', 'còrdova', 'successions', 'pariser', 'ion', 'finament', 'addicte', 'vicis', 'cobrament', 'patum', 'lluitaran', 'cants', 'taquilla', 'clam', 'emprades', 'musulmà', 'escarabats', 'rebé', 'tiquets', 'xxiii', 'erhard', 'verdader', 'lució', 'semblaria', 'terraza', 'efímers', 'pacíficament', 'guaraní', 'tímida', 'extrets', 'circulen', 'incisos', 'compradors', 'denunciants', 'lloro', 'desmentir', 'hostilitat', 'seqüeles', 'generin', 'rètol', 'espermatozoides', 'cigrons', 'compacte', 'cambrera', 'vallés', 'cometien', 'rebutjava', 'silueta', 'esquadrilla', 'tòfona', 'amargor', 'classificatòries', 'ga', 'ocupessin', 'experimentats', 'imitació', 'restricció', 'puebla', 'comparegut', 'cueva', 'orbita', 'infectats', 'expressada', 'vesteix', 'afrontat', 'dissolt', 'odiar', 'helmuth', 'servava', 'bueno', 'entraria', 'estranyat', 'gandia', 'saba', 'esquer', 'acompanyi', 'maquillatge', 'castellví', 'boots', 'monja', 'competirà', 'replantejar', 'digitalment', 'metodològics', 'fats', 'interrogatori', 'confien', 'complien', 'subscripcions', 'pòdium', 'assenyalava', 'museum', 'pregunten', 'teleassistència', 'portuària', 'dogmes', 'corró', 'deuria', 'persegueixen', 'intra', 'sanguinari', 'raul', 'oracle', 'iris', 'alòs', 'imbatibilitat', 'apple', 'benítez', 'determinarà', 'russes', 'corder', 'creixents', 'atança', 'ofegar', 'paüls', 'fluvial', 'vilar', 'pola', 'marsella', 'preparem', 'rectangle', 'elegida', 'marxisme', 'decidint', 'clítoris', 'arnes', 'arbitre', 'encomana', 'andalucía', 'arques', 'apareixeran', 'originàriament', 'mia', 'deprimit', 'estimulant', 'gamarús', 'lingüísticament', 'foundation', 'aconsella', 'psítac', 'llançats', 'indicació', 'porres', 'llangardaixos', 'eclesiàstics', 'ubicats', 'agendes', 'socioeconòmics', 'estrictes', 'reguladors', 'margarita', 'adscrita', 'fascinat', 'malsons', 'enganya', 'monitoratge', 'traductors', 'retirés', 'advertia', 'xerpes', 'vinguis', 'andorrana', 'silencis', 'liverpool', 'espereu', 'vigilat', 'motivada', 'participem', 'leonardo', 'bernaus', 'fugen', 'arrelat', 'call', 'trimestres', 'cagava', 'calàbria', 'txema', 'diferenciat', 'pedret', 'electe', 'casolans', 'crinis', 'beatriz', 'súñer', 'catalònics', 'sonores', 'prefereixes', 'rostov', 'infames', 'are', 'aguilera', 'premia', 'encontre', 'ibrahimovic', 'debutant', 'orange', 'idònia', 'calm', 'colzes', 'viuran', 'incideix', 'cantaires', 'caminaven', 'cassigalls', 'schmundt', 'cu', 'ps', 'èlit', 'wolff', 'anticatalans', 'mors', 'casualment', 'bob', 'tròfiques', 'romaní', 'gandhi', 'webinar', 'ere', 'firals', 'volgué', 'podríeu', 'artefacte', 'cactus', 'desembocadura', 'angoixat', 'extretes', 'fixament', 'aroma', 'vilà', 'pinces', 'algo', 'balneari', 'cabellera', 'fao', 'matances', 'indicaven', 'sàhara', 'covardia', 'concedeix', 'estiracordetes', 'atacarien', 'respiratori', 'gauleiters', 'desconeixement', 'minsa', 'terminacions', 'repartint', 'flagrant', 'armaris', 'piràmide', 'torrat', 'matiner', 'esclar', 'aguait', 'esquirol', 'fresques', 'turíngia', 'tremolor', 'simbòlica', 'biology', 'modernitzar', 'comandat', 'alavedra', 'consensuat', 'sever', 'pastanaga', 'comptaven', 'judaisme', 'sembrar', 'restarà', 'volcans', 'heli', 'generador', 'textualment', 'hegemonia', 'nicaragua', 'sectorials', 'gasta', 'revisa', 'pru', 'dea', 'apropiar', 'hiroshi', 'reforçament', 'paperot', 'embuts', 'reforçats', 'pulmonar', 'avingudes', 'gosar', 'pallasso', 'confiscar', 'nóos', 'congelat', 'explicitat', 'coixins', 'podcast', 'indefinida', 'originat', 'rico', 'creients', 'galicia', 'travessia', 'amabilitat', 'llúcia', 'transformador', 'desitgen', 'passeja', 'stangl', 'valuosos', 'planer', 'delitós', 'sanes', 'salarials', 'confirmava', 'rés', 'nexe', 'indoor', 'lluitador', 'paren', 'prestat', 'míriam', 'retalla', 'necessitarem', 'precipitar', 'interlocutors', 'acollidor', 'badant', 'tremolós', 'astre', 'dispesa', 'convocarà', 'pardinyes', 'bach', 'fontana', 'jacob', 'gavatxs', 'farben', 'peülles', 'augmenti', 'multidisciplinari', 'etzibat', 'tractaran', 'modernisme', 'microones', 'sebastián', 'referendum', 'entrenava', 'mllevat', 'fregit', 'nadales', 'gallifa', 'sentiu', 'atreveix', 'lleugeres', 'precioses', 'taps', 'aquil', 'sor', 'llanos', 'èpic', 'decebuts', 'zentrum', 'identificant', 'sofregit', 'millori', 'denominat', 'simbologia', 'psicòloga', 'romanents', 'capficat', 'octavi', 'fluixet', 'pans', 'escolto', 'descapotable', 'aquisgrà', 'porra', 'farsa', 'presidencials', 'espontàniament', 'instantània', 'escates', 'reprès', 'contribuirà', 'ratllat', 'homenatges', 'industrialització', 'amical', 'dent', 'recau', 'llimiana', 'mundia', 'gambes', 'with', 'irregularitat', 'llano', 'viatger', 'falç', 'manat', 'estabilització', 'nomenaments', 'banquet', 'gregues', 'manuscrit', 'immunitat', 'salle', 'remeneu', 'destreses', 'grisos', 'artèries', 'mensualment', 'clandestina', 'exposava', 'àtom', 'annexionar', 'infermer', 'benaurança', 'rec', 'inspirats', 'punxada', 'cides', 'vits', 'auditories', 'trair', 'harold', 'jugats', 'gorgs', 'hossbach', 'manicomi', 'sophie', 'miramon', 'podrimener', 'pochettino', 'gerra', 'resultants', 'madura', 'jacques', 'coautor', 'anhalter', 'marxista', 'predomina', 'masip', 'llagostera', 'cherbourg', 'estaments', 'tremolant', 'edificació', 'moralment', 'transportaven', 'condecoracions', 'agonia', 'perjudicial', 'patís', 'vigilants', 'regalen', 'solvent', 'véns', 'viñas', 'davallant', 'graduades', 'càlida', 'rotllana', 'vestigis', 'espès', 'renegant', 'topat', 'estúpid', 'estadis', 'infinitament', 'ec', 'merdosa', 'atansà', 'patinadores', 'habilitar', 'utxesa', 'imbatut', 'advers', 'subterrànies', 'azemeis', 'merament', 'protons', 'esplendor', 'ictus', 'plàtans', 'aremi', 'pronunciada', 'land', 'esguarda', 'iniciats', 'cullerades', 'hesse', 'substitucions', 'vector', 'acaballes', 'rodanxes', 'clark', 'ullet', 'odiat', 'signifiquen', 'insistint', 'brètols', 'pedregada', 'fredor', 'entregués', 'granges', 'metàfores', 'penjaré', 'ajustament', 'sieg', 'negligible', 'integradora', 'trossets', 'coordinats', 'sostingut', 'ferralla', 'tornabous', 'grandesa', 'enceses', 'enfocada', 'regenerar', 'benes', 'handicap', 'bistro', 'taurons', 'participatives', 'congelar', 'portella', 'canalitzar', 'acomodar', 'llordes', 'viatjaven', 'escridassar', 'fada', 'mecr', 'enfila', 'carnicer', 'mitocondris', 'argumentatius', 'perdonat', 'cacera', 'garden', 'fantasies', 'esclatant', 'desori', 'avorrir', 'atorguen', 'sellarès', 'kremlin', 'identitari', 'desplega', 'alfés', 'amenaçant', 'vuitantena', 'cosmos', 'lògiques', 'dinastia', 'grua', 'deslleialtat', 'bartumeus', 'curriculars', 'posposar', 'elisa', 'borinots', 'cuatro', 'modelar', 'gratitud', 'satisfà', 'remer', 'recomanava', 'ofegat', 'codines', 'interminables', 'salvant', 'tertulià', 'ruben', 'vençuts', 'fufa', 'assoleixen', 'criança', 'sea', 'llatins', 'làser', 'alternant', 'morunys', 'ampliarà', 'guerrero', 'resolen', 'escasses', 'treballà', 'superàvit', 'corcats', 'cognitius', 'dc', 'anihilar', 'nada', 'nadalenc', 'psicològicament', 'exhibicions', 'paez', 'hipocresia', 'escurçar', 'feminismes', 'vellut', 'suburbis', 'còdols', 'setmanalment', 'reduccions', 'lionel', 'anorreament', 'distribueixen', 'dissortat', 'polo', 'erupció', 'babaus', 'provocarà', 'boadella', 'progres', 'caldre', 'conjuntura', 'formalització', 'ambròs', 'columnista', 'violentament', 'eufòrica', 'ferum', 'acompliment', 'aviadors', 'enverinats', 'acompanyarà', 'clourà', 'avala', 'aixopluc', 'torrevieja', 'despert', 'resistia', 'seleccionant', 'cristóbal', 'th', 'purs', 'ingenu', 'mitologia', 'concórrer', 'neutralitzar', 'vegem', 'quantitatives', 'agua', 'portmany', 'invents', 'esmolats', 'fracassos', 'helene', 'breganze', 'elasticitat', 'descrites', 'ardent', 'revocar', 'rfec', 'empobriment', 'escocès', 'ulterior', 'tirs', 'majúscul', 'espectrals', 'disfressar', 'monstruosos', 'duríssim', 'adquirides', 'arcaics', 'firefox', 'luís', 'cresta', 'imaginem', 'leon', 'hospitalària', 'ventilació', 'egoista', 'nancy', 'foscors', 'justificant', 'apretant', 'esdevinença', 'recomanada', 'beneficien', 'tb', 'están', 'paladar', 'incendiàries', 'dirien', 'vesícules', 'subtils', 'plantejava', 'desafecció', 'alerten', 'partidets', 'psicològiques', 'reclamava', 'marginal', 'escrutini', 'dedicaven', 'confinament', 'saquejar', 'belmonte', 'seguí', 'rellevat', 'practiques', 'espantall', 'matolls', 'recuperen', 'comprensiva', 'crosta', 'face', 'preferiu', 'constructor', 'rabeig', 'cobria', 'obrís', 'aprenc', 'seguiria', 'tenebres', 'cabana', 'llogat', 'servar', 'reconciliació', 'menes', 'bloquejat', 'orgànuls', 'butlletins', 'encoratjat', 'mostraran', 'combinats', 'vetlles', 'provant', 'oposava', 'enèrgicament', 'claris', 'començaren', 'flamenc', 'incideixen', 'plorava', 'avergonyit', 'boires', 'modes', 'schwerin', 'insulina', 'verbalment', 'suplicar', 'cicloturistes', 'anticipar', 'dirt', 'eden', 'creixia', 'deixarien', 'enxampar', 'especular', 'estructuren', 'ciurana', 'molèstia', 'rambles', 'runa', 'meyer', 'bonjoch', 'moltíssims', 'orinal', 'trepitjada', 'dj', 'hagues', 'aromes', 'bullit', 'rars', 'gonzalo', 'assolint', 'nefast', 'vola', 'contractats', 'cansalada', 'cantaven', 'topònim', 'aprofundeix', 'anhel', 'implementat', 'jones', 'pastures', 'cities', 'atmosfèriques', 'calle', 'homer', 'vingudes', 'lliurable', 'valdria', 'inesperat', 'bè', 'manga', 'tractes', 'ian', 'potencien', 'viaranys', 'canonja', 'prioritza', 'habitabilitat', 'filtrar', 'moixó', 'gestionats', 'filtres', 'territorialment', 'pelava', 'eclipsi', 'empenyent', 'niño', 'malàisia', 'contribueixi', 'impunement', 'rebaixes', 'adapti', 'reserveu', 'retirava', 'gitana', 'creuats', 'children', 'perfums', 'tó', 'muro', 'fractura', 'hipocamp', 'capitana', 'contrastada', 'caballé', 'menut', 'omplien', 'rebràs', 'icrea', 'buscaran', 'thinking', 'pepa', 'ió', 'palplantat', 'proteica', 'adif', 'vestia', 'medicació', 'injustament', 'tremolins', 'maledicció', 'emmarcar', 'run', 'defugir', 'mentors', 'generarà', 'canonades', 'jagut', 'rotonda', 'comercialitzar', 'contacta', 'cgt', 'braves', 'acostumo', 'exhaustiu', 'actrius', 'ajusten', 'linització', 'internats', 'heinkel', 'prohibits', 'innovative', 'desenvolupin', 'extreta', 'recuperarà', 'paradisos', 'enceta', 'sòmines', 'automàtics', 'reprenem', 'barregeu', 'método', 'juristes', 'matadepera', 'comenti', 'bergen', 'cooperar', 'encaixada', 'desfici', 'granotes', 'aprovava', 'acomiada', 'vivència', 'prosperar', 'rubén', 'eugen', 'kahr', 'prims', 'peralada', 'travessat', 'lelisme', 'respectes', 'invasora', 'monàrquic', 'cobrarà', 'madagascar', 'eventuals', 'llengues', 'canadell', 'recopilació', 'galàctic', 'repositori', 'subsistència', 'jovenesa', 'clafert', 'sobrecàrrega', 'alexandria', 'polleguera', 'talents', 'recomanaria', 'animava', 'fifa', 'fornells', 'surant', 'marketing', 'coneixeran', 'espectacularitat', 'reflexiu', 'esborra', 'limitava', 'hedin', 'ballet', 'cell', 'anonimat', 'convertia', 'tnc', 'lkisch', 'continueu', 'enregistrat', 'immediates', 'pujols', 'mentoria', 'vilaplana', 'conegués', 'ascendència', 'occitana', 'esdevingués', 'tobruk', 'seró', 'veurien', 'quisling', 'autoritzats', 'cautxú', 'arqueons', 'virot', 'recolzant', 'reneix', 'estructuració', 'competitives', 'german', 'afavoreixin', 'eixam', 'imposades', 'pardo', 'xocar', 'deixaré', 'declarats', 'trapero', 'agafin', 'llardecans', 'urgentment', 'enigmàtic', 'vulnera', 'verticals', 'inverteix', 'natge', 'saturats', 'apresa', 'doblas', 'angelets', 'contingents', 'anzio', 'news', 'aplaudit', 'devolució', 'vàlids', 'encreuats', 'germànica', 'pellicer', 'infectades', 'sardanista', 'planificada', 'acompanyem', 'píndoles', 'procedien', 'vingué', 'estronts', 'carmona', 'faixa', 'sanlúcar', 'hamilton', 'escalf', 'cairol', 'adonés', 'apostem', 'estellés', 'goya', 'revoltes', 'eo', 'clou', 'salpar', 'enamora', 'deguts', 'atret', 'implicaria', 'consti', 'amistosament', 'credencials', 'mascota', 'indemnitzacions', 'explicats', 'vigília', 'aa', 'criteria', 'nomenclatura', 'mixtes', 'reno', 'sabrià', 'defensarà', 'explicarem', 'systems', 'mani', 'qualcú', 'ab', 'abonats', 'remuntat', 'movien', 'pèsols', 'faroles', 'spree', 'mants', 'navy', 'tics', 'recòrrer', 'prefectura', 'detectius', 'constatació', 'absurdes', 'rossos', 'abductor', 'allargada', 'tardana', 'improbable', 'espurna', 'coordenades', 'avaria', 'meduses', 'melmelada', 'out', 'aconseguiria', 'helldorf', 'viatgen', 'formidable', 'escapen', 'tom', 'avorrida', 'annexos', 'pc', 'araque', 'auricular', 'informés', 'desapercebut', 'segrestar', 'aprens', 'freud', 'recollirà', 'vivíem', 'suar', 'aconseguís', 'comptables', 'incorporats', 'michel', 'guanyarien', 'migcampista', 'transcorregut', 'malèfics', 'complicitats', 'teclat', 'culla', 'considerarà', 'cables', 'influenciat', 'trans', 'prostitutes', 'aglutina', 'forçada', 'davalla', 'venjar', 'sòcies', 'montbike', 'conciliar', 'vergonyosa', 'involucrats', 'palter', 'narratius', 'somriu', 'autòctones', 'reobrir', 'delicades', 'espiant', 'esbojarrada', 'tombant', 'precampanya', 'prestatge', 'aconsellat', 'nadalenca', 'cabòries', 'referencia', 'rovellats', 'ine', 'merèixer', 'tractem', 'violant', 'pèrez', 'fisiològics', 'rebei', 'acostumada', 'planas', 'disputes', 'irònicament', 'vacant', 'convidant', 'afegirà', 'puigbí', 'sancho', 'quantitatiu', 'oncologia', 'biescas', 'ryanair', 'aguantant', 'betzols', 'vestuari', 'adscripció', 'rectangular', 'perseguia', 'explicativa', 'service', 'gentada', 'maquillar', 'barber', 'medacc', 'jeia', 'confessions', 'discrets', 'cuixart', 'llençant', 'fascinació', 'hubble', 'wulf', 'continuà', 'reials', 'elisis', 'interrupcions', 'embarassades', 'alinear', 'gestionada', 'trobaré', 'estort', 'zossen', 'colombiana', 'oliba', 'basques', 'sus', 'touroperadors', 'alternativament', 'desfà', 'stanford', 'originaris', 'menta', 'danyat', 'involucrat', 'sedó', 'moderador', 'proeses', 'incompetència', 'bank', 'orde', 'martorelles', 'matalàs', 'renaixement', 'equació', 'cànon', 'transportat', 'provença', 'lluitessin', 'insuperable', 'agustín', 'moririen', 'ristorante', 'expressant', 'orina', 'resistint', 'australians', 'megamo', 'ració', 'rocafort', 'premisses', 'pelota', 'amfitrió', 'ubica', 'baronia', 'patrícia', 'rentat', 'fisiològiques', 'enciam', 'diagnosticar', 'estas', 'titans', 'injustícies', 'cascada', 'demostri', 'sintètica', 'observem', 'wannsee', 'piernas', 'simultanis', 'asiàtica', 'tramitacions', 'corcs', 'acceptaran', 'bolonya', 'eixamplament', 'atrium', 'aquàtica', 'miras', 'geps', 'poètics', 'günsche', 'gutiérrez', 'reculls', 'pistrincs', 'difunts', 'depuració', 'abstingut', 'contracor', 'buc', 'malària', 'feres', 'deveu', 'organitzatius', 'licient', 'atribucions', 'feminització', 'quantificar', 'quo', 'sabessin', 'aqu', 'habilitada', 'aferrissadament', 'tastat', 'revòlver', 'monòlegs', 'gloriosa', 'facto', 'possibilitar', 'cardada', 'oposada', 'tridimensional', 'ac', 'desaprofitat', 'senderi', 'ayats', 'kaiserhof', 'politiques', 'raubal', 'xiquetes', 'escuma', 'recorren', 'crònic', 'narvik', 'llegeixi', 'madí', 'làmina', 'salsitxes', 'banderetes', 'dens', 'posible', 'plançó', 'factoria', 'uf', 'turcs', 'escórrer', 'tierra', 'encarregava', 'absolutes', 'utilitzeu', 'consonants', 'superades', 'faldilletes', 'implicant', 'adornat', 'morters', 'taüll', 'carnisser', 'retira', 'mussol', 'aplicaran', 'desitjable', 'incorpori', 'decent', 'eterns', 'instructor', 'ardit', 'saó', 'ambaixades', 'cecs', 'rera', 'esllavissada', 'nuls', 'mitjos', 'cúbics', 'consumeixen', 'lc', 'començem', 'tramuntana', 'conserves', 'entrenaran', 'noel', 'falca', 'despoblament', 'jack', 'quantia', 'peculiaritats', 'nòmina', 'carenes', 'cistella', 'engrunes', 'cuinera', 'ajudeu', 'avanci', 'hipertensió', 'torrades', 'agredit', 'paradeta', 'nm', 'retalls', 'desgraciadament', 'fastiguejat', 'viatxeslav', 'déby', 'abajo', 'avisa', 'aprengui', 'fullets', 'lèxics', 'otero', 'volk', 'otomà', 'bonificació', 'obscè', 'subvencionats', 'antàrtida', 'escudella', 'acolliran', 'cremes', 'aportin', 'mogoda', 'urss', 'zhang', 'estalviat', 'matern', 'tremolors', 'brauli', 'torturats', 'oblic', 'electrons', 'agradin', 'fotran', 'recopilar', 'colló', 'exposant', 'catedràtica', 'remuneració', 'revalidar', 'sexista', 'bestreta', 'annexa', 'assenyaladament', 'assemblen', 'abraonar', 'ph', 'godesberg', 'defensivament', 'parats', 'anaves', 'efectuada', 'continguda', 'xerrameca', 'imports', 'estela', 'entrarien', 'tastos', 'adoptada', 'esplais', 'aconseguirà', 'ocasionar', 'obertures', 'corbacho', 'semblança', 'mentiders', 'ferotgement', 'inexistents', 'jamboree', 'madrilenys', 'estantís', 'sina', 'mobutu', 'ermengol', 'accepti', 'definitives', 'garantirà', 'fluctuacions', 'poètiques', 'pavellons', 'oceànics', 'ricart', 'excursionisme', 'recer', 'forest', 'viviu', 'desprenen', 'avantsala', 'marrecs', 'anabel', 'portafoli', 'dignament', 'vigilava', 'segrestat', 'diguessin', 'rodri', 'bots', 'aprovés', 'multitudinària', 'gi', 'brest', 'igualitària', 'comprova', 'apagat', 'ressó', 'desplaçaran', 'filmax', 'compartirà', 'estimulació', 'propici', 'motoristes', 'virulent', 'suposem', 'majoritaris', 'humiliat', 'beijing', 'rebés', 'miraculosament', 'patxoca', 'mancat', 'gliese', 'lliurats', 'escopir', 'bonificacions', 'decididament', 'emergir', 'teles', 'recuperable', 'betelgeuse', 'gratar', 'mallot', 'catdem', 'vagina', 'marea', 'desplaçarà', 'pietro', 'saigs', 'adobe', 'suposi', 'avanços', 'ironitza', 'cv', 'formi', 'imposava', 'cercava', 'frega', 'wuhan', 'batedora', 'munts', 'molino', 'biker', 'refet', 'partidista', 'minúscul', 'llegut', 'ángeles', 'senyeres', 'tensa', 'sòcia', 'pedralbes', 'desconfiava', 'conrad', 'prestatgeria', 'cofundador', 'míster', 'acrediti', 'marxen', 'esupt', 'reproductius', 'xerraire', 'torrebesses', 'mauri', 'acomiadats', 'memoritzar', 'marisa', 'tallen', 'canigó', 'rosario', 'franziska', 'multilingüe', 'weiss', 'abrera', 'nomenada', 'esdevinguda', 'baldur', 'somàtiques', 'nyec', 'amenacen', 'morter', 'enduien', 'alimenten', 'apropaven', 'corredores', 'manifestant', 'ancians', 'bestiari', 'éreu', 'gegantera', 'oshima', 'puyal', 'ultres', 'manu', 'dialogar', 'daladier', 'sot', 'benalmádena', 'doctorà', 'frares', 'relliscada', 'destrossada', 'càmpings', 'inèdit', 'analítiques', 'retransmetre', 'culminació', 'emesa', 'influenciar', 'còrsega', 'tiquet', 'reinhardt', 'disparava', 'encén', 'enxampat', 'videos', 'construirà', 'reivindicatiu', 'draps', 'existís', 'inaturalist', 'jnc', 'sfèric', 'enquestats', 'enviaria', 'ladors', 'ferroviaris', 'dominació', 'rematades', 'generem', 'esquiar', 'barcelonines', 'poti', 'escoltem', 'condó', 'lins', 'duus', 'calderón', 'dominador', 'maginot', 'ordenances', 'descarregueu', 'milionaris', 'governada', 'barraca', 'llefiscosa', 'grumets', 'ganyota', 'íntegra', 'cristalls', 'aturen', 'dinamitzadors', 'valgui', 'plurals', 'improvisat', 'moguda', 'irrupció', 'subvencionada', 'altar', 'pneumònia', 'maestrat', 'alsina', 'esquitllentes', 'innata', 'esbufegant', 'consolar', 'anades', 'enfadada', 'ari', 'pobrissona', 'redactada', 'vacuna', 'gijón', 'atacants', 'anunciaven', 'lera', 'infermers', 'refrany', 'reitera', 'luxes', 'cella', 'lec', 'abocador', 'dominicana', 'depen', 'incrementen', 'valuoses', 'curull', 'providència', 'rebotat', 'gruixuda', 'france', 'guardians', 'arcaiques', 'lecte', 'golàs', 'tossal', 'assolida', 'bestials', 'agraint', 'destresa', 'motoritzada', 'jaime', 'pasar', 'tomás', 'llimac', 'robades', 'pallassos', 'ignora', 'trimestral', 'infectat', 'demostratius', 'carrinclones', 'acumulades', 'toxines', 'freikorps', 'endinsant', 'enviem', 'gimenells', 'parem', 'passaré', 'fortuny', 'pocavergonya', 'rònec', 'consolidats', 'cerquen', 'dunes', 'australià', 'arquitectònics', 'terrades', 'inhabilitació', 'devant', 'sil', 'televisius', 'siad', 'fmrp', 'trinitat', 'radars', 'endevinalla', 'puntuada', 'partícips', 'creua', 'bava', 'nadius', 'arrugues', 'origens', 'extractes', 'infectes', 'mudar', 'coronat', 'criada', 'troost', 'avaluable', 'probabilitats', 'recaigut', 'gambals', 'geoss', 'pelleringa', 'genèrics', 'conserge', 'delicadesa', 'cessat', 'projectaran', 'inacceptable', 'aptitud', 'engròs', 'hcov', 'tossals', 'enten', 'repassem', 'volaven', 'aeròbic', 'facetes', 'repercussions', 'llarguíssima', 'caragols', 'princeton', 'senys', 'mantenim', 'usats', 'interlocutòria', 'muntadas', 'diversificar', 'romaneses', 'maresmencs', 'sobrevolar', 'gruppenführer', 'argentona', 'aportats', 'artefactes', 'persecucions', 'cadascún', 'sorge', 'foscant', 'disney', 'wi', 'repulsiva', 'completaran', 'permesa', 'oceànica', 'peret', 'augments', 'infinitat', 'tímidament', 'vilallonga', 'passejat', 'lucena', 'denegar', 'piular', 'malmesa', 'triant', 'maximilian', 'weber', 'margulis', 'arcos', 'alat', 'obtindria', 'coneixíem', 'translació', 'remena', 'bada', 'reunia', 'pollastres', 'laberints', 'profitós', 'fluids', 'cetacis', 'viola', 'repenjat', 'òdena', 'adlon', 'coix', 'injúries', 'inconstitucionalitat', 'tinenta', 'aixecaven', 'aristocràcia', 'titol', 'toló', 'racionament', 'contractura', 'transferències', 'destriar', 'fisiològica', 'llena', 'epoca', 'casen', 'adoptant', 'concebuda', 'tònia', 'recurrents', 'inventor', 'dino', 'ambulàncies', 'continuo', 'sinàptica', 'lleixa', 'oferiment', 'socio', 'sufragar', 'borratxo', 'remuntant', 'discutit', 'condecoració', 'previsiblement', 'castelldans', 'todó', 'sarcòfag', 'avant', 'assenyalada', 'feblesa', 'reincorporar', 'perfum', 'intranquil', 'guanyà', 'compareixences', 'hassell', 'amades', 'gelades', 'estepona', 'trànsits', 'marital', 'bes', 'punxes', 'gretl', 'esquadrons', 'mostrem', 'dianes', 'hohenzollern', 'escoltaven', 'pigem', 'mantinguin', 'fugaç', 'bascs', 'ordenament', 'calvari', 'trucava', 'ert', 'masterclass', 'quilometres', 'forfets', 'envoltades', 'llambresc', 'impremta', 'avorriment', 'transferit', 'humilment', 'intermèdia', 'borinot', 'aleta', 'gandesa', 'cartellera', 'atractives', 'jehovà', 'participà', 'abusar', 'vandellòs', 'regnat', 'confús', 'cádiz', 'pernas', 'feliçment', 'misser', 'desfavorits', 'crus', 'conservats', 'terés', 'claferta', 'urbanístics', 'jec', 'fainé', 'hospitalaris', 'polit', 'mortalla', 'workshop', 'maltractar', 'moribunds', 'admirable', 'ro', 'discrepants', 'perdrien', 'desallotjar', 'comeses', 'terrabastall', 'oposats', 'croat', 'confiant', 'hackató', 'paraguai', 'simpson', 'cansa', 'signava', 'ciberseguretat', 'penyes', 'acreditatiu', 'automàtiques', 'combinades', 'retaule', 'temo', 'zoològic', 'burla', 'sobibor', 'atòmic', 'nefasta', 'afí', 'resurrecció', 'vs', 'esposes', 'noiet', 'dubtós', 'vòmit', 'causen', 'terminació', 'esi', 'simetria', 'dirigissin', 'pensin', 'escaigué', 'petrolífers', 'candela', 'legalitzar', 'calcetes', 'tornajornals', 'portador', 'wallace', 'etsea', 'fic', 'saludant', 'immortalitat', 'perseguint', 'clauer', 'resseguir', 'cohesionada', 'lago', 'valorades', 'jungla', 'grafies', 'procedit', 'boterut', 'caducitat', 'ressaca', 'terol', 'inútilment', 'transmetia', 'avariciosos', 'ensorrar', 'barbaritat', 'pitat', 'plantejada', 'aconsello', 'trien', 'ferramenta', 'eran', 'ramaderes', 'vergonyes', 'adverses', 'fibló', 'riqueses', 'jurisdicció', 'sortejar', 'fotria', 'confessat', 'escletxes', 'dispars', 'ordenats', 'lila', 'galland', 'llivell', 'camarades', 'geològica', 'estudiarà', 'traieu', 'obediència', 'neo', 'island', 'himnes', 'gratant', 'aversió', 'grotescs', 'hiperió', 'botiguer', 'diligència', 'incòmodes', 'locant', 'finlandesa', 'ferrol', 'sexualment', 'implacable', 'intrigues', 'ovella', 'participava', 'poznan', 'entrenadora', 'crematoris', 'arbúcies', 'presentadors', 'corporatius', 'aribau', 'lupa', 'estudiaran', 'entrenarà', 'cruelment', 'cunyada', 'acudits', 'lesbianes', 'indistintament', 'contacteu', 'desprendre', 'viejo', 'genitals', 'respirava', 'spandau', 'muntant', 'caram', 'sistemàtic', 'transmés', 'foté', 'adv', 'ensuma', 'encongit', 'rehabilitar', 'robada', 'cortijo', 'decideixin', 'arrimadas', 'caiac', 'gairell', 'vicissituds', 'comentaristes', 'fisc', 'esvaeix', 'camurrias', 'aeronàutica', 'ràfting', 'cohort', 'encarna', 'colon', 'mòmies', 'propia', 'obtindreu', 'phoenix', 'carbassó', 'maldà', 'gordillo', 'restablert', 'teixir', 'interrelació', 'gegantines', 'exponencial', 'causants', 'pagesa', 'queixava', 'diapositives', 'bruguera', 'superava', 'bescanvi', 'tarragoní', 'papereta', 'cripta', 'neandertal', 'reeixida', 'significació', 'casetes', 'enganyifa', 'honorífic', 'apps', 'xacra', 'puk', 'retingut', 'bajau', 'alcoians', 'heinrici', 'escanya', 'alcaraz', 'water', 'temp', 'composicions', 'regulada', 'inadmissible', 'civada', 'asociación', 'tristos', 'caçant', 'coto', 'serna', 'estrangeria', 'pacifista', 'lluçanès', 'pauses', 'retards', 'gosset', 'compartirem', 'tractades', 'derrotada', 'batet', 'lleons', 'islàmica', 'privació', 'llistó', 'comportarà', 'vespa', 'humides', 'macias', 'renaixença', 'harmònic', 'rapidíssim', 'benvolguts', 'mataven', 'supòsit', 'amargament', 'amateurs', 'tanatori', 'spain', 'expliques', 'tasses', 'escruix', 'shakespeare', 'algèria', 'llom', 'baltasar', 'puntuables', 'recollim', 'winifred', 'planck', 'inabastable', 'asens', 'deixebles', 'balb', 'salinas', 'próxima', 'caòtica', 'espirituals', 'palmarès', 'plantacions', 'vibracions', 'gernació', 'ip', 'organyà', 'gene', 'lliçà', 'cristòfol', 'occir', 'capgrossos', 'increments', 'aniràs', 'rauxa', 'emprenyada', 'xerrem', 'solano', 'giraud', 'palacios', 'màscares', 'rao', 'utah', 'aeronaus', 'socioeconòmica', 'london', 'rierol', 'aviram', 'narrar', 'especificatives', 'comandos', 'aclucallades', 'vigileu', 'caen', 'vacil', 'miraculoses', 'inferns', 'guanyin', 'bengalí', 'participo', 'bibliogràfica', 'barbarismes', 'comportava', 'pacheco', 'pales', 'vegas', 'blasco', 'desat', 'poguem', 'sherman', 'equipació', 'aclariments', 'descarten', 'comunió', 'sords', 'bufar', 'vintè', 'epidèmies', 'php', 'comprenia', 'atemptar', 'apagada', 'raya', 'eficaçment', 'migrants', 'perjudicials', 'matriculació', 'sanguini', 'neerlandès', 'creixien', 'marcià', 'richtofen', 'benaurat', 'turmells', 'fanal', 'exregidor', 'calda', 'dar', 'gaudim', 'canfelipútrids', 'presumpció', 'munté', 'excepcionalment', 'acreditat', 'legat', 'bifet', 'impulsats', 'agregada', 'repetits', 'remoure', 'puntuarà', 'parent', 'imposen', 'desafiant', 'subordinada', 'dames', 'lliuren', 'israelià', 'obiols', 'collonades', 'llanes', 'abolir', 'semana', 'estavem', 'roura', 'colt', 'cries', 'mónica', 'aparicions', 'consolidades', 'opino', 'absentisme', 'abarth', 'ànecs', 'encantar', 'despenjar', 'medallista', 'mañana', 'desgràcies', 'triga', 'proporcionant', 'pessigolles', 'tràngol', 'nuevo', 'adjunts', 'succeeixen', 'inventaris', 'reglamentari', 'hac', 'aprovi', 'capteniment', 'melodia', 'desinteressada', 'cantem', 'utilitzaran', 'desempallegar', 'acut', 'persiana', 'recordaven', 'ambigüitat', 'destacables', 'esclafar', 'girientorn', 'necessitaria', 'jxc', 'pretèrit', 'professionalització', 'humiliar', 'resolts', 'humits', 'climatològiques', 'agroalimentàries', 'arestes', 'narratives', 'melcior', 'bajanades', 'explora', 'iphone', 'ideològics', 'civilitzat', 'eficaces', 'homogènia', 'finalitzi', 'cuidava', 'escrigui', 'llivells', 'caòtic', 'acollidora', 'infecte', 'expectativa', 'porció', 'carburant', 'calderes', 'rené', 'estrebada', 'benestant', 'inn', 'robin', 'multidisciplinar', 'cookies', 'pleistocè', 'resoldran', 'gustau', 'stadelheim', 'experimenta', 'expresidenta', 'afortunats', 'tonalitats', 'meuques', 'iese', 'servís', 'muntada', 'pagaran', 'klemperer', 'obsequiar', 'votaré', 'roland', 'afegeixo', 'fusellers', 'icones', 'augmentarà', 'trac', 'lp', 'lúltim', 'barques', 'sedan', 'educadores', 'partidistes', 'fera', 'communications', 'cèlia', 'xiroi', 'aturem', 'prometia', 'andorrans', 'polèmic', 'presentessin', 'informaran', 'resistien', 'correllengua', 'crèiem', 'desafortunada', 'serenor', 'tiu', 'borbons', 'ungla', 'compartiran', 'vividors', 'foradada', 'càsting', 'catalònic', 'chor', 'ordit', 'estralls', 'minvant', 'diplomàtiques', 'asocials', 'pedagògiques', 'acceptem', 'pruu', 'descobrirem', 'diferencien', 'instints', 'vivents', 'bonys', 'rutlla', 'verinosa', 'banqué', 'terrasso', 'infografia', 'caldú', 'agafats', 'sibil', 'totalitari', 'ocorreguts', 'babau', 'desintegració', 'vacunes', 'riefensthal', 'intermedis', 'referides', 'immaculada', 'pertinent', 'menteix', 'representativitat', 'cansar', 'burxant', 'bonal', 'varien', 'baptista', 'incògnit', 'allavòrens', 'assenyat', 'coincidirà', 'espanta', 'toxicitat', 'confon', 'filferro', 'aletes', 'profe', 'lluitadors', 'sucursal', 'hachimoji', 'augurar', 'agroalimentària', 'cafeteries', 'observats', 'gaia', 'furgonetes', 'entrenen', 'lloses', 'tontos', 'portaré', 'cuidant', 'treguin', 'excedent', 'expressava', 'collites', 'llunyanes', 'similitud', 'demostrada', 'espatllar', 'wikis', 'ò', 'plausible', 'patida', 'llunyania', 'presumit', 'helicòpters', 'deliberació', 'vertebrador', 'substituit', 'arenas', 'envaeix', 'criar', 'guerrer', 'rebutjats', 'deth', 'acc', 'numèric', 'rajoles', 'aranesa', 'respirant', 'adjectives', 'esculls', 'masot', 'contínues', 'jaqueix', 'exquisit', 'colombià', 'bacó', 'galleda', 'aritmètica', 'assajat', 'nerja', 'qr', 'taral', 'graells', 'nascudes', 'irrisori', 'apareixer', 'ocults', 'sionista', 'dojo', 'sepulcres', 'solitària', 'berkeley', 'periodístics', 'normalitzat', 'pul', 'reivindicant', 'adriana', 'superin', 'extensions', 'eixuta', 'seguiex', 'llimacs', 'xen', 'diríem', 'conflictives', 'delícies', 'fiblons', 'glaçada', 'honesta', 'gasten', 'aeat', 'ad', 'funerals', 'fecunditat', 'ecosocialista', 'esplèndida', 'manager', 'haus', 'resumit', 'requerirà', 'jugo', 'petjades', 'feixugues', 'egoisme', 'quico', 'almeria', 'aturi', 'submergir', 'respiratòries', 'farcida', 'marqui', 'reconeixent', 'resar', 'angoixant', 'muricec', 'reelecció', 'desertors', 'oradors', 'protesten', 'alterada', 'reciclar', 'perdiu', 'inanició', 'paperots', 'zinc', 'appeared', 'acompanyaven', 'orleans', 'angoixes', 'abonat', 'realitzaven', 'emplenat', 'renegava', 'badada', 'foteren', 'passatges', 'basarda', 'separatisme', 'resideix', 'agregats', 'colls', 'còmica', 'culturalment', 'alertes', 'presentaria', 'matriculat', 'modificant', 'fàrmac', 'compartiu', 'dièresis', 'llords', 'tree', 'periple', 'presten', 'processat', 'imperials', 'dónes', 'esbarts', 'rumba', 'earth', 'optativa', 'potassa', 'catalogat', 'designats', 'rivalitat', 'pessimista', 'estudiem', 'ordinàries', 'becs', 'escoltada', 'agafo', 'incitar', 'lusionada', 'alçant', 'soja', 'cni', 'sciences', 'cridaner', 'licitacions', 'jugués', 'ampliada', 'tremolava', 'escs', 'llautó', 'eons', 'refós', 'ecologistes', 'cognitiu', 'caguerada', 'oblidades', 'daines', 'germània', 'obrí', 'helmut', 'mestalla', 'merdosos', 'passejaven', 'possar', 'continuaria', 'envi', 'constans', 'vírica', 'ofereixi', 'impartida', 'tinu', 'prado', 'passaren', 'adjacents', 'castanyer', 'traspassa', 'decantar', 'invariables', 'seguici', 'comandava', 'desviació', 'conjugar', 'evacuat', 'desconnexió', 'corretja', 'prepotència', 'aitambé', 'syriza', 'impa', 'sabreu', 'accidental', 'tutorial', 'debilitar', 'village', 'carxofes', 'detinguda', 'inserir', 'subratlla', 'griselda', 'pascal', 'oncles', 'precari', 'edictes', 'indignada', 'batuda', 'productives', 'enemigues', 'refresc', 'estanyol', 'dubtat', 'albà', 'executant', 'reixa', 'edcamps', 'articula', 'requerir', 'santamaria', 'pregunteu', 'xocolatera', 'fotogràfiques', 'sidreria', 'improvisada', 'literal', 'tutora', 'estudiantes', 'beneficiosos', 'produí', 'camprodon', 'sàvia', 'filtre', 'mo', 'albrechtstrasse', 'portafolis', 'metes', 'comentàvem', 'arreglat', 'anfitrió', 'simbolitza', 'globalitzat', 'fotrà', 'valorats', 'feixugament', 'ebert', 'martina', 'burger', 'ridículament', 'apropiació', 'corals', 'bendlerstrasse', 'massificació', 'doc', 'gènesi', 'apèndix', 'meià', 'krosigk', 'cabàs', 'distribuiran', 'vasos', 'frankfurter', 'spinning', 'dedueix', 'theresienstadt', 'multi', 'segats', 'citades', 'subministrar', 'neuronals', 'vespes', 'metodològiques', 'callada', 'getxo', 'rabent', 'ajudessin', 'bohigas', 'misses', 'barajas', 'tancaven', 'terapeuta', 'llesques', 'encadenat', 'reiteradament', 'melsa', 'coleòpters', 'netejant', 'gimcanes', 'actuava', 'clergues', 'assassinant', 'putrefacció', 'abordat', 'pinça', 'psiquiatre', 'seuba', 'daily', 'formula', 'lentes', 'wells', 'albergar', 'sacalm', 'rampa', 'kh', 'esdevens', 'densos', 'èmfasis', 'román', 'interferir', 'ximples', 'associativa', 'radiofònics', 'eviten', 'infecta', 'citacions', 'acceptades', 'contractual', 'lloctinent', 'columbia', 'desenvolupadors', 'llestos', 'grafè', 'carinhall', 'calc', 'existències', 'contradir', 'lolita', 'jubilat', 'composen', 'manifestaven', 'sarkozy', 'verona', 'riuades', 'esdrúixoles', 'laboraran', 'sonorització', 'giec', 'despullar', 'licitants', 'exterminats', 'erradicar', 'cultivar', 'agreujar', 'marxistes', 'conferenciant', 'molestat', 'domicilis', 'augurat', 'xat', 'entenguin', 'consorcis', 'poltrona', 'deixeble', 'fargas', 'ti', 'kiel', 'impersonal', 'tactic', 'fura', 'defunció', 'cyu', 'concept', 'claudia', 'illot', 'ensenyaven', 'omaha', 'falcó', 'intèrprets', 'explosives', 'augmentada', 'ngler', 'ebola', 'montecassino', 'percebut', 'garneu', 'perplex', 'abandonen', 'publicà', 'orientales', 'tributàries', 'fomentin', 'infracció', 'feix', 'polsim', 'pallàs', 'còsmics', 'stefan', 'veuré', 'freddy', 'beisbol', 'manifestava', 'reixes', 'tec', 'fluixos', 'rabejant', 'compartien', 'reinventar', 'rectora', 'tità', 'inicià', 'santacreu', 'sabríeu', 'detectada', 'jufré', 'figurar', 'rua', 'alineació', 'hispà', 'funcionaven', 'paquita', 'matisat', 'embolica', 'enteneu', 'dipositat', 'monopoli', 'resistències', 'masoliver', 'trek', 'cantautors', 'llatinoamericà', 'ciclocross', 'cogul', 'orris', 'consultiu', 'fuengirola', 'meissner', 'multituds', 'omplirà', 'documentades', 'ofereixin', 'jajaja', 'ficats', 'marcelo', 'metabòlica', 'hms', 'perucho', 'tiri', 'putxinel', 'perfeccionament', 'inapelable', 'marroquines', 'atòmiques', 'ordes', 'linné', 'traçabilitat', 'cognició', 'longevitat', 'injectar', 'lleixes', 'constructora', 'ocupacions', 'sedentarisme', 'convenia', 'emissors', 'sedu', 'assassinaven', 'eiffel', 'morirà', 'noè', 'prostituta', 'perifèrics', 'aragonesos', 'olfacte', 'parker', 'casolana', 'pirata', 'alcúdia', 'frenat', 'trenqui', 'marinera', 'providencial', 'mannerheim', 'iolanda', 'studio', 'ivori', 'indiferents', 'agrairia', 'eapc', 'schroeder', 'drenatge', 'anus', 'suposades', 'sociolaboral', 'young', 'pinten', 'agressor', 'culata', 'apresos', 'destapar', 'homenot', 'naufraig', 'reflexiva', 'fgc', 'gaya', 'hídric', 'rebots', 'recordi', 'sensibilitats', 'sobreposar', 'opten', 'baula', 'ponferrada', 'jesucrist', 'afectacions', 'firs', 'abolició', 'firmada', 'ace', 'sucar', 'senyoretes', 'salses', 'guanyats', 'induir', 'rar', 'aparences', 'fesomia', 'pretensió', 'desavinences', 'adjudicacions', 'bontròs', 'ràngers', 'parental', 'reflexa', 'pon', 'cdr', 'incompleta', 'aktion', 'evolution', 'bufet', 'alella', 'capoll', 'gestionades', 'traces', 'haber', 'denisovans', 'cantina', 'valdrà', 'làpida', 'orni', 'guanyés', 'panses', 'encomanat', 'halle', 'falangistes', 'medicine', 'prolongació', 'recordarà', 'piset', 'alexanderplatz', 'provaran', 'histèric', 'pampallugues', 'irlandès', 'rojas', 'equipar', 'idèntica', 'coreografia', 'absolt', 'conduirà', 'perdoni', 'thai', 'vara', 'multicines', 'virologia', 'identificatiu', 'fletxa', 'neves', 'ors', 'novells', 'alleujament', 'atenem', 'hub', 'nimega', 'lustgarten', 'encreuament', 'qatar', 'ètiques', 'orgasmes', 'complicació', 'tocaria', 'aprofitats', 'esclava', 'observaven', 'banquetes', 'havaneres', 'aparcat', 'gallet', 'carena', 'tau', 'ordenant', 'plàstics', 'tàpies', 'dispara', 'procedirà', 'diplomada', 'feudal', 'giovanni', 'torrons', 'passegen', 'transporta', 'cremallera', 'precisos', 'guerrers', 'hd', 'atu', 'pudors', 'teià', 'correspondria', 'argel', 'computació', 'consistents', 'competencials', 'figueroa', 'reflectida', 'desconfiar', 'protagonitzen', 'creditors', 'estaves', 'isquiotibials', 'valori', 'confort', 'siemens', 'assassines', 'redueixin', 'comentarista', 'octavià', 'pams', 'automoció', 'èlia', 'conegueu', 'patacada', 'gau', 'negant', 'prestats', 'repercuteix', 'inestimable', 'farmacèutic', 'subcampionat', 'retrobada', 'poblacionals', 'pedagogies', 'aixecà', 'suren', 'caballero', 'repetida', 'caravana', 'uned', 'estudià', 'colonitzar', 'despullats', 'publiques', 'malentès', 'aprofitaven', 'gerda', 'accelera', 'àmsterdam', 'filet', 'dràsticament', 'reflectits', 'extracte', 'esmuny', 'solcam', 'odessa', 'ultraviolada', 'consirar', 'predictiu', 'tartareu', 'úbeda', 'doblegar', 'distingeixen', 'cilindres', 'fabre', 'haplogrup', 'postdoctoral', 'designa', 'avaluatives', 'andròmines', 'nivel', 'cometent', 'acurat', 'pensadors', 'amarg', 'acreció', 'bracet', 'ambulants', 'compon', 'aconsegueixi', 'llogaters', 'bretó', 'encertades', 'slideshow', 'corina', 'disciplinari', 'garrotades', 'retardar', 'meteorològics', 'necessitaran', 'georgià', 'reporter', 'ridícules', 'xilè', 'perillosament', 'plensa', 'lida', 'experimentant', 'papereria', 'bárcenas', 'bombardejant', 'declarant', 'farta', 'panamà', 'desnazificació', 'extensiu', 'malla', 'enraonant', 'aragonesa', 'porqueria', 'figurava', 'bromeres', 'emociona', 'scholl', 'monitorització', 'estaba', 'vencedora', 'càstigs', 'desmanegat', 'selectes', 'rude', 'hodges', 'ballester', 'guaiteu', 'emportant', 'santanyes', 'mantecón', 'ciri', 'compatriotes', 'estacionals', 'enviessin', 'pelat', 'hipoteques', 'assassinada', 'llast', 'educada', 'pamflets', 'aqua', 'sacrificat', 'liberalisme', 'mobilitzat', 'sinén', 'dominants', 'tàcticament', 'rajar', 'qua', 'quinta', 'oficialitat', 'aprofitarà', 'motrius', 'fruitós', 'miques', 'fatídic', 'nestor', 'elizabeth', 'oberg', 'busco', 'cis', 'baixauli', 'picades', 'utopia', 'castigats', 'unionista', 'torà', 'scout', 'querido', 'abatuts', 'esbufec', 'mexicana', 'cursiva', 'armar', 'ximpanzés', 'primerenca', 'tiana', 'malaguanyat', 'quirúrgica', 'castellano', 'gestionant', 'vareta', 'connectada', 'admirador', 'currículums', 'molist', 'mantindria', 'pagans', 'llanxes', 'bmw', 'equivocada', 'valises', 'respongué', 'oposaven', 'marmi', 'grava', 'mono', 'coherents', 'fundacional', 'transitòria', 'sin', 'culinàries', 'lusiona', 'visiblement', 'hewel', 'visitava', 'centrem', 'peixets', 'bremen', 'capses', 'dra', 'sinapsis', 'basava', 'drecera', 'jackson', 'similituds', 'inversor', 'reeixides', 'contraposició', 'ag', 'metropolitans', 'equipada', 'paller', 'nítols', 'neurologia', 'closques', 'infante', 'bacterià', 'aptituds', 'barroer', 'marroquí', 'fillet', 'ideari', 'obsessionat', 'motocicletes', 'danesa', 'lluç', 'desconectar', 'delfí', 'amann', 'duad', 'localitzacions', 'menjadora', 'decorats', 'triangulació', 'autenticació', 'aprendran', 'arribaren', 'paviment', 'birkenau', 'herculins', 'chelsea', 'indepe', 'circulars', 'riva', 'càlid', 'impresos', 'romanien', 'interrogatives', 'astronòmics', 'rembre', 'gabarró', 'correlacions', 'ramoneda', 'coeducació', 'signarà', 'interessi', 'alleujar', 'botelles', 'scratx', 'analitzaran', 'preparés', 'entrenats', 'graó', 'especificat', 'eurovegas', 'riuada', 'mulà', 'preventius', 'inclinar', 'deliciosa', 'inspiradores', 'gelats', 'maquis', 'segellat', 'plor', 'capçaleres', 'nèctar', 'flairós', 'deshora', 'prengué', 'foradets', 'relliscós', 'finançarà', 'consortium', 'linux', 'precedida', 'salvem', 'rostit', 'perversió', 'charlottenburg', 'traiem', 'criticaven', 'penúries', 'guarir', 'pneumàtics', 'discos', 'dediqui', 'hel', 'pect', 'porteries', 'nínxol', 'hinojal', 'pavimentació', 'trauria', 'change', 'guaitajorns', 'fanals', 'puiggròs', 'dugués', 'cirurgians', 'corb', 'sanders', 'halloween', 'viceversa', 'depuradora', 'sarró', 'trieste', 'usades', 'miller', 'massana', 'balances', 'subsidi', 'verdi', 'detallats', 'comillas', 'recurrent', 'desastres', 'cantera', 'lider', 'ibáñez', 'cigarretes', 'estança', 'beethoven', 'perceben', 'odia', 'responsabilitzar', 'benigne', 'especímens', 'havíen', 'eduquem', 'merdís', 'duero', 'estàtics', 'xl', 'denunciats', 'ecòleg', 'calçotada', 'futbolnet', 'ignobel', 'wordpress', 'edmund', 'avaluador', 'fur', 'divulgativa', 'legítims', 'alternança', 'estudiada', 'rossell', 'retrata', 'demanà', 'esclavatge', 'critèrium', 'deslleial', 'afable', 'accessoris', 'hipòcrites', 'toves', 'lluitadora', 'quilo', 'irritació', 'indígena', 'passaports', 'binomi', 'beneficiosa', 'laboratory', 'roquetas', 'legítimes', 'hortet', 'agencia', 'desaprendre', 'xiula', 'girava', 'llançada', 'encapçalen', 'eucariotes', 'bòbila', 'llúpies', 'fores', 'preludi', 'wuppertal', 'benz', 'lledoners', 'avalat', 'canari', 'dormien', 'pinzellada', 'escènica', 'furtw', 'criats', 'bretons', 'mercenaris', 'conquerits', 'autoritaris', 'posterioritat', 'aena', 'verinosos', 'parlaria', 'magnituds', 'submarina', 'accidentat', 'cuquet', 'enduen', 'executa', 'operatives', 'acomplert', 'vareu', 'enlairament', 'rajolí', 'dissenya', 'expresidents', 'orgia', 'llambordes', 'rue', 'menystenir', 'cànons', 'pirinenques', 'estrènyer', 'avaluadores', 'bibliotecària', 'compondre', 'llegís', 'degeneració', 'passatemps', 'fuita', 'injeccions', 'feinada', 'escortats', 'sarra', 'soterranis', 'miklos', 'refereixo', 'exercia', 'pollós', 'desactivar', 'albergínia', 'generalitzar', 'denominar', 'tonteria', 'estrenes', 'majó', 'pardals', 'cinca', 'infidelitat', 'asturians', 'hu', 'pengeu', 'passessin', 'once', 'aromàtiques', 'extremistes', 'brunes', 'uib', 'pos', 'ajust', 'crues', 'minyonetes', 'sàpigui', 'haití', 'disciplinat', 'harris', 'silenciar', 'infectar', 'bordes', 'encantada', 'rigol', 'certificada', 'voti', 'afecti', 'valles', 'operen', 'comissaries', 'maillot', 'intencionalitat', 'reedició', 'conformat', 'niubó', 'anunciades', 'enunciats', 'exponent', 'cartogràfic', 'inmigrants', 'havel', 'rigidesa', 'conservades', 'salas', 'rams', 'slidely', 'marquina', 'simfonia', 'villatoro', 'crack', 'colomina', 'pateixi', 'osasuna', 'francolí', 'castelleres', 'insignificants', 'milan', 'maqueta', 'copia', 'radikalbikes', 'recances', 'trobessin', 'galàctics', 'amarga', 'litre', 'guindos', 'habiten', 'binàries', 'repartiran', 'creadora', 'jaca', 'historieta', 'nie', 'contant', 'demostraven', 'rectorat', 'experimenten', 'morfeu', 'arcaica', 'ultratge', 'tarde', 'barrejats', 'redactats', 'impediment', 'muntanyenc', 'einsatzgruppen', 'atuells', 'banlles', 'basols', 'pastanagues', 'comesa', 'accidentalment', 'fallada', 'varela', 'sobta', 'insulta', 'virulents', 'eruga', 'messies', 'ups', 'fregir', 'callats', 'solucionat', 'pàmfil', 'queen', 'tarragonines', 'ortogràfic', 'betzol', 'jové', 'moraira', 'detingudes', 'conyet', 'capitol', 'becari', 'escèptic', 'estratègicament', 'importantíssims', 'compressió', 'enfeinat', 'redissenyar', 'comentaven', 'tecles', 'baldufa', 'maduixa', 'cliquem', 'adherida', 'penetrat', 'devem', 'topants', 'racionals', 'balena', 'catàstrofes', 'radicalitat', 'plenàries', 'assagista', 'reconquerir', 'saül', 'circumstancials', 'noten', 'ineptes', 'bielorús', 'davis', 'gelabert', 'preocupis', 'scandiano', 'ocorregut', 'citada', 'excessius', 'association', 'exdirectora', 'dehesa', 'angriff', 'ocupabilitat', 'grafia', 'entendria', 'elàstic', 'algoritmes', 'list', 'mantell', 'preneu', 'termals', 'àgils', 'fatxa', 'regat', 'climes', 'renec', 'agrait', 'proclamava', 'porcellana', 'llavi', 'salvadó', 'ressentit', 'relaxament', 'xiulada', 'perifràstic', 'competiran', 'estètics', 'bàltics', 'tomas', 'descol', 'demanes', 'escrivien', 'immensos', 'triomfant', 'afrontem', 'homicidi', 'baldament', 'obtindran', 'zi', 'marianes', 'ultradretana', 'petitó', 'dubtava', 'estartit', 'avaluant', 'estètic', 'afavoreixi', 'cúmul', 'invers', 'voldríeu', 'dificulten', 'medul', 'irrespirable', 'belianes', 'dame', 'ateu', 'sagrats', 'citant', 'símptoma', 'punys', 'opositor', 'eeuu', 'frare', 'trobaves', 'formosa', 'linge', 'ppciu', 'apliqui', 'materialitzat', 'revelen', 'demogràfiques', 'tèrmica', 'mérida', 'microbioma', 'trepitjant', 'sufix', 'regadius', 'promoguin', 'amplificació', 'travessava', 'gerro', 'costeres', 'road', 'recomanables', 'monstruosa', 'deportes', 'pakistanesos', 'marxo', 'belsen', 'pruna', 'instru', 'concepción', 'cabanyes', 'rabaul', 'filaments', 'llauradó', 'indeterminat', 'debutaran', 'passatger', 'coincidències', 'oro', 'irracional', 'pastoral', 'conqueridor', 'caganer', 'computacional', 'alaska', 'plasticitat', 'barrancs', 'penjarem', 'absents', 'afiliació', 'transversalitat', 'exceptuant', 'fácil', 'california', 'pagaven', 'pagada', 'gruixudes', 'girauta', 'escampat', 'depurar', 'atfl', 'puresa', 'pallús', 'aràbia', 'domiciliària', 'adormits', 'meritòria', 'conductora', 'subirà', 'programadors', 'faq', 'estella', 'serina', 'mauricio', 'fusions', 'escaiença', 'financial', 'creuada', 'pugi', 'preparaven', 'parlis', 'fru', 'maniàtic', 'dramatitzada', 'cameron', 'infortuni', 'caracteritzada', 'aplicava', 'anotacions', 'lir', 'paperetes', 'protagonitza', 'penyora', 'signador', 'excloent', 'afortunada', 'afectin', 'decebre', 'cloud', 'willy', 'psuc', 'autòmats', 'vespres', 'existeixi', 'puerta', 'desànim', 'marisc', 'científicament', 'arkia', 'aristòcrates', 'operaris', 'raid', 'jung', 'alliberen', 'emocionada', 'parruf', 'tanquin', 'considereu', 'compacta', 'promogudes', 'latitud', 'sports', 'requerit', 'claude', 'boicotejar', 'cigarret', 'peli', 'israeliana', 'governava', 'retiraven', 'sindicalista', 'revelacions', 'mula', 'inversemblant', 'renovades', 'endevines', 'equivocació', 'comissariat', 'llesca', 'comunicava', 'conquerida', 'serrall', 'invitats', 'comuniquem', 'marathon', 'human', 'mesell', 'endegar', 'disbarat', 'vertiginós', 'indubtable', 'sanglots', 'eicke', 'curulls', 'retornen', 'poquet', 'reinserció', 'commemorat', 'aparcaments', 'límetre', 'mamelles', 'insígnies', 'naps', 'autofàgia', 'farcits', 'artadi', 'sintagmes', 'lamentablement', 'propicia', 'escapces', 'reservori', 'solien', 'còmodament', 'genocida', 'earthwatch', 'voltar', 'perpetu', 'pedretes', 'difondrà', 'cleries', 'responien', 'basilea', 'pòsters', 'desconfit', 'tapant', 'dirzen', 'grotesca', 'nerea', 'diocesà', 'misteriosa', 'percepcions', 'destruís', 'tèxtils', 'gata', 'filosòfic', 'oceàniques', 'retransmès', 'promocionals', 'aerotransportades', 'apreciat', 'estatutari', 'rss', 'sentiria', 'inactivitat', 'incomparable', 'georges', 'harald', 'grandes', 'falda', 'bárcena', 'viuria', 'aranda', 'caurà', 'bàrbara', 'intermitent', 'agell', 'autoria', 'exigien', 'pugna', 'preparessin', 'creà', 'causada', 'maratons', 'fortíssim', 'potestatiu', 'excavacions', 'neolític', 'simi', 'aportada', 'amenes', 'pugem', 'regar', 'coent', 'descrivint', 'huracans', 'sapastre', 'oir', 'modera', 'envaeixen', 'agro', 'sintetitza', 'saturació', 'treballessin', 'motivador', 'timó', 'viana', 'icg', 'escortes', 'sie', 'sonderkommandos', 'sogres', 'libre', 'navegant', 'robusta', 'medicinals', 'batec', 'preveient', 'insisteixo', 'asturies', 'estatística', 'creuament', 'predominen', 'cardús', 'fiscalització', 'coneixedors', 'sortejos', 'lladonosa', 'biaixos', 'respecto', 'berlineses', 'esmolades', 'keppler', 'remodelar', 'salines', 'indefectiblement', 'promoguts', 'rúbriques', 'opinava', 'folles', 'agressives', 'vivers', 'calents', 'ocisport', 'estalvia', 'laboratius', 'augmentava', 'tradueixen', 'claríssima', 'quinoa', 'castany', 'afrucat', 'distintius', 'caixaforum', 'desaprofitar', 'quadras', 'esperons', 'gravitatori', 'recombinació', 'agilitzar', 'karaoke', 'chuikov', 'mesquí', 'cove', 'desgrat', 'levy', 'octavetes', 'cavar', 'asexual', 'lubbe', 'classifiquen', 'atrets', 'monetari', 'descordat', 'insurrecció', 'esbala', 'calorós', 'irritar', 'lloca', 'anderson', 'finalitzava', 'molls', 'aborden', 'austria', 'bimotor', 'clienta', 'actuaran', 'bordeus', 'consumeix', 'pamflet', 'cucut', 'amplien', 'metz', 'indonèsia', 'ensurts', 'entretenir', 'fervent', 'desvia', 'espiava', 'comparen', 'aconsellava', 'pusil', 'prunes', 'llibrets', 'hoteler', 'bellaguarda', 'esmorzars', 'let', 'predictius', 'podreix', 'party', 'avià', 'maons', 'granvia', 'gavarres', 'verde', 'ubic', 'reformat', 'deixada', 'àvies', 'esquerrà', 'perfilar', 'mastegant', 'teló', 'teorema', 'meravellat', 'sumarà', 'brindar', 'pipa', 'jané', 'postulat', 'calòric', 'homòleg', 'verinoses', 'hagueren', 'xiulat', 'pelleringues', 'llegirem', 'reconeixem', 'enfurismar', 'moratòria', 'acollonits', 'palistes', 'profecia', 'súria', 'jem', 'fornir', 'plan', 'animadors', 'atorgada', 'contrincant', 'maduració', 'habilitació', 'brunswick', 'conduit', 'bop', 'rudel', 'axier', 'mioglobina', 'aprofitada', 'digestiu', 'steven', 'uganda', 'ajustades', 'fràgils', 'insomni', 'cardio', 'realitzin', 'retirats', 'tiraven', 'sentencia', 'afaitar', 'grallers', 'heretat', 'tries', 'barats', 'immediats', 'textura', 'figuraven', 'virgen', 'notre', 'space', 'endarrerir', 'minoritària', 'edulab', 'impagament', 'panjabi', 'claudi', 'arnm', 'residencials', 'partia', 'germànics', 'antequera', 'charité', 'act', 'marrons', 'esborrats', 'castellanoparlants', 'incomptables', 'arenal', 'eckart', 'plebiscitàries', 'fertilitzants', 'fàbrega', 'ludoteca', 'comprenen', 'codificants', 'renovable', 'gratulls', 'enforteix', 'traçar', 'vasili', 'chiang', 'eixit', 'jesu', 'mantingués', 'mítics', 'presagi', 'capdavanters', 'subscriu', 'desplaçats', 'corromput', 'jurídicament', 'matràs', 'croats', 'wod', 'estigmes', 'marcials', 'independitzar', 'vejer', 'autisme', 'proposi', 'broc', 'canoe', 'ampit', 'disfresses', 'fàl', 'esgarrifós', 'palestins', 'hissar', 'adrian', 'afrontaran', 'conjurat', 'memel', 'malefici', 'andalusa', 'massivament', 'infecciosa', 'lògics', 'gosen', 'ic', 'oró', 'exdiputada', 'rasa', 'deltebre', 'campsentelles', 'mellado', 'difonen', 'proto', 'alcanar', 'rosegadors', 'tramet', 'llebre', 'marti', 'urbs', 'álex', 'enèrgic', 'fonamentada', 'actualitza', 'rabeja', 'desnonament', 'arnat', 'solc', 'julián', 'estudiantil', 'dictadures', 'antídot', 'paisatgística', 'plantegi', 'evolucions', 'parit', 'sobrat', 'candeletes', 'estenia', 'odissea', 'empresariat', 'canalleta', 'clandestins', 'aep', 'cursant', 'felicitem', 'clots', 'relax', 'viking', 'obrador', 'ea', 'pk', 'ganyet', 'federación', 'bleda', 'preparacions', 'ouets', 'vessament', 'animacions', 'fredament', 'gourmet', 'bonmatí', 'coutras', 'mamífer', 'eslovac', 'comparteixin', 'press', 'ausàs', 'aprendrà', 'filosòfica', 'romangué', 'centrarem', 'dvo', 'barrameda', 'canviés', 'vegis', 'xipre', 'vailets', 'arronsa', 'lliurava', 'donatius', 'naips', 'atemorit', 'lamentem', 'verament', 'cañadell', 'seducció', 'perllongat', 'museo', 'firmés', 'votaran', 'edwards', 'tornis', 'abaix', 'íntegre', 'consejo', 'subdirecció', 'tortugues', 'buixeda', 'tin', 'robles', 'breker', 'paz', 'simultane', 'cicatrius', 'coneguem', 'maquinista', 'enganyats', 'indefinit', 'agafarem', 'reichsbank', 'dota', 'confraria', 'ferri', 'prt', 'reclamem', 'buidat', 'olimpíades', 'carxofa', 'retornarà', 'tòxic', 'ocasionat', 'ajudarien', 'egm', 'afegiria', 'correctors', 'conformació', 'dossiers', 'furtiu', 'modals', 'sorgides', 'grassonet', 'empescar', 'montpeller', 'lulitis', 'ocultar', 'logístics', 'associatius', 'muricecs', 'trobis', 'ocasionats', 'canovelles', 'subdirectora', 'serven', 'sortós', 'lador', 'asiàtics', 'farmacèutics', 'eviti', 'educats', 'monestirs', 'egipci', 'escolat', 'conjugacions', 'ko', 'arqueològica', 'godomassí', 'gottfried', 'altiplà', 'ploms', 'vallirana', 'rodi', 'index', 'bocinets', 'fonamenten', 'revolt', 'empúries', 'tirà', 'interpreten', 'palmarés', 'vinguda', 'trepat', 'cn', 'lumina', 'hivernals', 'respectable', 'poetessa', 'desestabilitzar', 'maker', 'cules', 'calúmnies', 'possessiu', 'incidint', 'faceta', 'infidel', 'projecten', 'rondant', 'salvaguardar', 'formiguer', 'sura', 'carai', 'amuntegats', 'esportivitat', 'claferts', 'contraure', 'adversos', 'actuaven', 'escaleta', 'llambrec', 'bancaris', 'episcopal', 'bellaterra', 'mereixien', 'enfadats', 'chelmo', 'comparables', 'eclesiàstica', 'ratpenats', 'populista', 'marginals', 'consola', 'promourà', 'pertinences', 'companyon', 'voluntats', 'combustió', 'sorgits', 'descàrregues', 'penedir', 'intergeneracional', 'gaudeixi', 'diplomàtica', 'sirga', 'hotelera', 'seia', 'solità', 'mocadors', 'insisteixen', 'preferides', 'publics', 'stürmer', 'raco', 'atrapaeltigre', 'aixella', 'gravats', 'àlgid', 'celestial', 'rialleta', 'posis', 'punyent', 'puça', 'más', 'impacient', 'impensable', 'ratio', 'desmantellar', 'provocades', 'alguerès', 'enviarien', 'epic', 'argila', 'acostat', 'ratat', 'llàgrima', 'jugaria', 'gents', 'incursions', 'enriqueixen', 'empassant', 'albirar', 'tenacitat', 'ceip', 'sen', 'valero', 'centralitzat', 'enfonsava', 'liderades', 'pom', 'vernís', 'matrius', 'sodi', 'celebri', 'autobiografies', 'pregoneses', 'sanatori', 'parrilla', 'andana', 'estances', 'rellisca', 'adrián', 'demanaré', 'culpes', 'sanxenxo', 'publicaven', 'regulacions', 'privatitzar', 'mòdol', 'freixas', 'rengs', 'sectari', 'cadis', 'estridents', 'caòtics', 'nunes', 'philip', 'ret', 'zweig', 'ininterrompuda', 'duren', 'mantinguda', 'incipient', 'sven', 'assentats', 'desembarcaments', 'argumentant', 'ria', 'sirvent', 'reclutament', 'fixen', 'desenvolupaments', 'patriòtica', 'granit', 'umbría', 'transformadores', 'reclutar', 'cagades', 'audio', 'neixer', 'cultes', 'supernoves', 'terratrèmols', 'drexler', 'bilateral', 'alcohòliques', 'aclimatació', 'abaixant', 'boixos', 'portolà', 'demanaran', 'cavalcada', 'ibarra', 'apropat', 'fragilitat', 'sabràs', 'temptativa', 'puntcat', 'inventada', 'importació', 'aixec', 'tribut', 'repetiran', 'apassiona', 'intoxicació', 'recuperats', 'conflueixen', 'antonia', 'connector', 'qüestionen', 'infraccions', 'ortogràfica', 'pagaria', 'continuessin', 'analfabets', 'bavós', 'carrillo', 'cagadora', 'sinonímia', 'cloc', 'circula', 'tita', 'possibilita', 'novara', 'llepant', 'capitalistes', 'caiguessin', 'valdre', 'tim', 'cranc', 'depredador', 'enganxats', 'humiliant', 'acatar', 'mí', 'celrà', 'patètics', 'angular', 'exclusius', 'aleatòria', 'hiat', 'objectivitat', 'castanya', 'cister', 'embarbussament', 'obtenia', 'tocades', 'descendir', 'formulat', 'networking', 'dyson', 'adopten', 'aproven', 'escalfat', 'amfiteatre', 'abraça', 'fiscalitat', 'taça', 'rampeu', 'atés', 'waterinneu', 'management', 'quotidianitat', 'visat', 'magistralment', 'gamelin', 'insigne', 'tapada', 'raonaments', 'estics', 'llançacoets', 'margallo', 'padrins', 'catsalut', 'imbecil', 'aprofundint', 'enganyant', 'transgènics', 'matís', 'observeu', 'allarga', 'reu', 'glun', 'lied', 'tecnològicament', 'flairosa', 'localitzada', 'debatran', 'noruegues', 'dirigeixen', 'pedalant', 'pèssima', 'erroni', 'cardós', 'agrupades', 'paracaigudista', 'qualitatives', 'bolquers', 'caselles', 'esfínter', 'lluminosa', 'ganduls', 'paia', 'vilagrassa', 'giren', 'subsector', 'nikolai', 'vindrien', 'nocius', 'virginia', 'predominant', 'capat', 'alarmant', 'discutint', 'sermó', 'prometent', 'carlemany', 'emocionalment', 'errònies', 'beix', 'impactant', 'extraterrestres', 'interrogat', 'albània', 'adquisitiu', 'llisa', 'metà', 'addictes', 'peripècies', 'visitats', 'fètides', 'carrinclonament', 'homologia', 'giesler', 'arracades', 'llargmetratge', 'caguerades', 'nuca', 'insistentment', 'guapa', 'aclamat', 'abusiu', 'sorgida', 'canyars', 'balanços', 'artífex', 'etiquetatge', 'inexistència', 'colat', 'ger', 'gripau', 'expropiació', 'inherent', 'garantim', 'sun', 'magre', 'salvà', 'magistrats', 'novella', 'benjamin', 'hec', 'editen', 'eufòrics', 'picó', 'tè', 'polseguera', 'capdavanter', 'innecessaris', 'intergovernamental', 'boscosa', 'llegien', 'assamblea', 'esclaten', 'jersei', 'retallen', 'pens', 'ligrafia', 'àlies', 'desplegant', 'sao', 'sufragi', 'abasten', 'tèrbol', 'fètida', 'cairo', 'pròximament', 'ibers', 'descobriments', 'paqui', 'paternitat', 'fondes', 'dl', 'llufa', 'xona', 'doña', 'juguin', 'figurat', 'prega', 'aplegarà', 'escortat', 'connectades', 'escapçats', 'reivindiquen', 'heer', 'palmés', 'neutrons', 'supervisor', 'inca', 'prens', 'redreçar', 'horrorosa', 'accediu', 'quàdriceps', 'homòlegs', 'inquietant', 'copenhaguen', 'embassament', 'sapigueu', 'cascades', 'catalano', 'modificada', 'climate', 'massachusetts', 'coproducció', 'aconseguiràs', 'innecessari', 'nectarina', 'educacio', 'comprés', 'coordinant', 'bondats', 'sintàctiques', 'eixamplar', 'firetes', 'fortu', 'persa', 'bang', 'genòmic', 'bords', 'matthew', 'unificada', 'rosen', 'vuité', 'llançaven', 'mandats', 'robust', 'mariotti', 'cregués', 'relaxada', 'dialèctica', 'domèstica', 'metabòlics', 'lloances', 'cuminal', 'bò', 'catastròfica', 'brca', 'perifèrica', 'tirania', 'iniciava', 'resistit', 'adobar', 'repeteixo', 'renoven', 'harmònica', 'discretament', 'meses', 'distanciar', 'fenologia', 'entrarem', 'empuriabrava', 'esclafat', 'cisterna', 'recordaré', 'esa', 'entengués', 'führerbúnquer', 'atrapades', 'tintes', 'parpelles', 'acusaven', 'bunyols', 'puntuacions', 'nuria', 'brooke', 'cie', 'wang', 'cosmopolita', 'bestioles', 'legislatius', 'spanish', 'disfuncions', 'coincidien', 'capgirat', 'klaus', 'adoptades', 'tutorials', 'copagament', 'palaus', 'volava', 'panzers', 'secreció', 'urals', 'dicta', 'ques', 'excavació', 'freixes', 'xaver', 'analitzarem', 'florits', 'quadis', 'silents', 'berà', 'sortiu', 'virtualment', 'cusc', 'llaminadures', 'rals', 'practiquin', 'vomitar', 'enumerar', 'matollars', 'severes', 'esborranys', 'joiós', 'rebrien', 'pastorets', 'indicades', 'trepitja', 'motriu', 'canadenques', 'repeteixi', 'digueren', 'esventat', 'especificació', 'incompetents', 'hereditària', 'referèndums', 'monosíl', 'oceànic', 'transformada', 'metabòliques', 'decebuda', 'xuclar', 'enverinada', 'desapareixent', 'resoldrà', 'busquin', 'xapa', 'volíeu', 'anihilament', 'resultarà', 'rda', 'dèries', 'torramadé', 'formés', 'arribo', 'stand', 'focalitzar', 'homologada', 'perdo', 'assenyalats', 'esclavitud', 'quedàven', 'reunien', 'recony', 'absurds', 'correbous', 'semblances', 'mañé', 'delegar', 'desproporcionada', 'ateus', 'enèrgica', 'janeiro', 'magdeburg', 'precedeix', 'incompetent', 'cubells', 'permetrien', 'temible', 'mila', 'cri', 'falti', 'mediador', 'madurs', 'puntualitat', 'bernadotte', 'inacabable', 'biomedicina', 'senyoret', 'burgdorf', 'passivitat', 'innegable', 'olympia', 'presenteu', 'panells', 'ilc', 'javascript', 'reivindicativa', 'amenaçador', 'dissortats', 'afegien', 'aida', 'modèstia', 'himàlaia', 'trempera', 'interrogant', 'treballeu', 'filera', 'barbacoa', 'pijuan', 'notaràs', 'llobet', 'tnl', 'cóm', 'ensumava', 'rpc', 'arrencava', 'consultiva', 'encarreguen', 'xuclant', 'quílez', 'retorns', 'laboracionista', 'congelats', 'kit', 'tangible', 'mancats', 'etb', 'nervioses', 'ases', 'anavem', 'succeint', 'estudio', 'irremissiblement', 'geoviqua', 'tagged', 'decretat', 'valencianes', 'escaig', 'manava', 'dramàtic', 'ajudaven', 'pondre', 'saldo', 'correguda', 'secular', 'quintanilla', 'màgicament', 'andré', 'llívia', 'creixi', 'sepulcre', 'llunes', 'volcat', 'addiccions', 'clua', 'resultà', 'jim', 'fornas', 'mocós', 'esperma', 'getafe', 'chrome', 'almogàvers', 'mediapro', 'ges', 'huav', 'revolts', 'portarem', 'transmeses', 'fw', 'condemnant', 'practicava', 'devots', 'escopeta', 'alhaurín', 'deman', 'punyetes', 'fue', 'administrativament', 'exquisida', 'navarrès', 'moderadament', 'tríptic', 'detenen', 'maligna', 'gross', 'fastigoses', 'tag', 'ceuta', 'esfínters', 'barnús', 'malaltes', 'critiques', 'sintètic', 'workshops', 'cazorla', 'grata', 'galledes', 'not', 'dugué', 'casualitats', 'ingerir', 'gorres', 'aix', 'suborn', 'encoratja', 'tetràpodes', 'genis', 'suplent', 'vens', 'cocreació', 'move', 'saquejos', 'ingla', 'endurir', 'expressiva', 'inepte', 'wars', 'mates', 'gag', 'expliquessin', 'exercida', 'fotons', 'telefònic', 'collar', 'autòpsia', 'extingir', 'esgoten', 'monstruoses', 'alice', 'comprometia', 'qualssevol', 'afanyar', 'xeic', 'merignac', 'volada', 'overlord', 'radiofòniques', 'fad', 'civit', 'charlie', 'escandalós', 'follet', 'eaia', 'xoriços', 'vegetariana', 'agrupat', 'pueblo', 'mega', 'urbanístiques', 'desfent', 'story', 'radiacions', 'ximpleria', 'tirés', 'severitat', 'afegides', 'ambientat', 'descentralitzades', 'ximplets', 'doblades', 'carismàtic', 'acabà', 'aeròbica', 'inspeccions', 'irlandesa', 'bioquímiques', 'atòmics', 'embalum', 'ateneus', 'ocasionalment', 'acollim', 'desamor', 'aprenentage', 'conforma', 'filmar', 'degana', 'exhibeix', 'dharma', 'moderar', 'calmants', 'aprovarà', 'refrescant', 'stevenson', 'trabat', 'encaixant', 'mortífera', 'sentenciava', 'dispersar', 'guanyaran', 'koi', 'melangia', 'síntesis', 'castanyera', 'abstractes', 'vodka', 'faro', 'titola', 'refiar', 'retina', 'detingudament', 'nòmades', 'aymerich', 'mosaics', 'tangibles', 'caldo', 'isis', 'restauradors', 'estableixi', 'pedagoga', 'determini', 'pitjar', 'folgueroles', 'trialsport', 'allotjava', 'ignorat', 'imputada', 'aprofundiment', 'deutscher', 'estenedor', 'disfressada', 'capsigrany', 'arbitràriament', 'catalitzador', 'comptències', 'pegar', 'diürnes', 'plàstica', 'dylan', 'assisteixin', 'sinistralitat', 'ovació', 'diabòlic', 'requeria', 'requerida', 'indiscriminadament', 'indefens', 'reconquesta', 'subministrades', 'certificacions', 'abandonava', 'biblio', 'xaloc', 'buròcrata', 'romàntics', 'tremolaven', 'forçós', 'comandància', 'tornats', 'escarransida', 'desempat', 'maridatge', 'insulten', 'espelma', 'búlgars', 'riudebitlles', 'preliminars', 'tortosí', 'alamein', 'encertes', 'odiós', 'riscs', 'despistar', 'arbitratges', 'bush', 'seràn', 'intermediaris', 'cancer', 'despendre', 'ct', 'premiades', 'corc', 'meca', 'causades', 'ico', 'acceptables', 'indiquin', 'desfavorable', 'inherents', 'aedes', 'elias', 'glops', 'miramar', 'generadors', 'otan', 'dedicant', 'saludava', 'antecessor', 'intimidació', 'jacquard', 'gallegues', 'pintava', 'marihuana', 'afrontarà', 'iugoslau', 'sses', 'etziba', 'benèfic', 'margarethe', 'staff', 'votin', 'pèptids', 'penjolls', 'cr', 'exigits', 'adornar', 'rueda', 'aberrant', 'garfis', 'bosquet', 'trencades', 'modifiquen', 'ajustos', 'nadalencs', 'puden', 'grumolls', 'súmmum', 'recaure', 'acceptin', 'triem', 'pasat', 'pastisser', 'vicerector', 'arrodonit', 'sic', 'jarc', 'paradetes', 'incompliments', 'balmes', 'aconseguides', 'barregen', 'esmicolat', 'permeteu', 'coreografies', 'laguna', 'pump', 'luminada', 'malmetre', 'acumulativa', 'coacció', 'suecs', 'abdicació', 'constructors', 'iot', 'significarà', 'naturalista', 'conjectura', 'catalán', 'cont', 'asfíxia', 'immigrat', 'lübeck', 'tramita', 'lorenz', 'indecent', 'supramunicipal', 'organitzava', 'jamai', 'heretar', 'fregides', 'llisos', 'èxtasi', 'cavil', 'fapac', 'patronats', 'acreditats', 'tireu', 'catalina', 'addenda', 'lloat', 'exhaurit', 'retut', 'kai', 'rt', 'convincent', 'convertits', 'matías', 'responeu', 'infiltració', 'protegien', 'til', 'càntic', 'rotterdam', 'asimetria', 'configura', 'atmosferes', 'hoover', 'ostentar', 'gargalls', 'salvatierra', 'habia', 'fossis', 'relíquies', 'preferiria', 'ompliu', 'llibretes', 'inducció', 'stukas', 'heck', 'torrassa', 'delitosa', 'siau', 'substrat', 'mazarrón', 'condecorar', 'manila', 'catolicisme', 'ino', 'sàtira', 'tripijoc', 'aspa', 'activada', 'ocre', 'tresckow', 'parda', 'llavòrens', 'apleguen', 'allotjat', 'resort', 'raonar', 'long', 'emmy', 'ferré', 'llitera', 'garbó', 'finalitzant', 'galeta', 'adoni', 'panteó', 'eurodiputats', 'desmesurada', 'rebutgen', 'difonent', 'vessa', 'austríaques', 'espines', 'bonaparte', 'bragues', 'comportaria', 'lamentables', 'dapena', 'trilla', 'emboscada', 'aspre', 'fregiu', 'entreguessin', 'masters', 'ellis', 'tràiler', 'gato', 'blue', 'gl', 'desencadena', 'guillotina', 'united', 'corrosius', 'entregada', 'excepcionalitat', 'incredulitat', 'fortor', 'usada', 'pretensions', 'revulsiu', 'deformació', 'cols', 'baldiri', 'salvaguarda', 'orel', 'mesurat', 'solbes', 'fondàries', 'licor', 'bah', 'relaxant', 'joyce', 'mesquins', 'oumuamua', 'rossi', 'sotamà', 'baixi', 'maristes', 'fiqués', 'selves', 'temut', 'preposicionals', 'esdevindria', 'blanqueig', 'compositors', 'bialystok', 'free', 'arriscada', 'indefinits', 'rosega', 'tornades', 'hèctor', 'masclisme', 'herschel', 'prefixos', 'nuñez', 'ban', 'circulava', 'guardian', 'lentitud', 'vocacions', 'farola', 'sta', 'implícita', 'aniríem', 'foses', 'maxwell', 'autoritarisme', 'comoditats', 'desconeixen', 'canoner', 'diürn', 'incomplir', 'intermediari', 'constava', 'claríssimes', 'inaguració', 'acontentar', 'ajusti', 'nucleòtid', 'passàvem', 'desvetllar', 'coalicions', 'glasgow', 'odien', 'merdanyols', 'immunodeficiència', 'tractada', 'retardat', 'esgarips', 'noses', 'bingo', 'torrelles', 'desprestigiar', 'recuperava', 'reservades', 'dinat', 'pronunciades', 'cruspeix', 'sitzer', 'autoritzades', 'escorcoll', 'filtració', 'abandonessin', 'ombrívol', 'hienes', 'valtres', 'corte', 'decidiu', 'reparat', 'investiguen', 'desembarcat', 'majestuós', 'excels', 'camell', 'enfrontant', 'irrepetible', 'clo', 'xerri', 'marcaran', 'barates', 'mirés', 'crossa', 'victoriós', 'tombat', 'espardenya', 'oferirem', 'cker', 'demolició', 'importacions', 'cofoi', 'víriques', 'traumàtica', 'lari', 'humanista', 'adoní', 'epigenètica', 'lustrador', 'allaus', 'distrets', 'botànic', 'jurista', 'denominada', 'maror', 'francònia', 'estripats', 'comparatiu', 'emporten', 'gargots', 'assumeixi', 'àreu', 'lideren', 'nic', 'penedés', 'fitzgerald', 'astorats', 'evoca', 'tuberculosis', 'vingueu', 'exòtic', 'tonto', 'inèdites', 'residual', 'transmissor', 'personas', 'incessantment', 'donaren', 'diagnòstics', 'abreviatura', 'incorporada', 'implementant', 'indiqueu', 'vvs', 'pessebres', 'visionats', 'confonen', 'lleixiu', 'coy', 'portuàries', 'policíaca', 'plebs', 'expositiu', 'contesteu', 'jardineria', 'decadent', 'casteller', 'dal', 'xarnegos', 'veterinaris', 'tornàvem', 'pues', 'continues', 'egb', 'marhuenda', 'obsedit', 'nepal', 'canviants', 'endarrerit', 'relatograma', 'cançoneta', 'compti', 'cohesionat', 'picor', 'becats', 'publiqueu', 'consumim', 'riudoms', 'improvisar', 'relaxats', 'extremeny', 'estovalles', 'remetre', 'numero', 'adreçava', 'bilaterals', 'crepuscle', 'sucós', 'entregues', 'uniformat', 'interins', 'aconsegueixes', 'atrapada', 'irrellevant', 'preguntin', 'cracks', 'clavé', 'disposes', 'reglat', 'compostel', 'spin', 'edimburg', 'recullin', 'prudents', 'abraham', 'banals', 'compromés', 'encarnació', 'colet', 'fúnebre', 'gaudeixo', 'indumentària', 'esterilitzar', 'fixos', 'clan', 'xq', 'paradoxalment', 'afirmatiu', 'luca', 'orangutan', 'sociòloga', 'volguda', 'adeus', 'estrenaran', 'liciten', 'omellons', 'honorari', 'aixafat', 'implantat', 'xafogor', 'sumaran', 'filials', 'filharmònica', 'elleix', 'codifica', 'jg', 'contribuent', 'rendibles', 'automatismes', 'fusellatge', 'lua', 'eusebi', 'estudiantat', 'mura', 'prostíbul', 'balasch', 'lamentava', 'revolucionar', 'furtius', 'devir', 'xerraires', 'fonètics', 'fonollosa', 'imperatius', 'glàndula', 'encantador', 'visqué', 'acceptats', 'xampinyons', 'emotius', 'gentota', 'ponz', 'prec', 'glaçats', 'recuperacions', 'rossinyol', 'aerosols', 'perdedors', 'veles', 'resignat', 'macos', 'sectaris', 'aulari', 'posicioni', 'paisatgístics', 'assistida', 'electromagnètica', 'nòrdica', 'assolia', 'perllongada', 'fugís', 'trios', 'infectada', 'infantes', 'mariana', 'apretada', 'correspondrà', 'rudes', 'afectaria', 'potentíssim', 'michelin', 'assumpcions', 'circulant', 'css', 'rebutjant', 'comproveu', 'opacitat', 'mozart', 'manualment', 'apropiats', 'persisteix', 'cabrit', 'xaró', 'centrava', 'isla', 'contactat', 'càmara', 'assoliments', 'retirades', 'corregim', 'manuelles', 'vençuda', 'racionalitzar', 'resolgui', 'apuntaven', 'substancialment', 'gavardina', 'navas', 'reforcen', 'melangiós', 'grandi', 'confiscació', 'indigna', 'anarquistes', 'predecessor', 'dibuixen', 'oriola', 'escullen', 'llevats', 'visualitzat', 'forçant', 'recuperables', 'ridicul', 'fanàtica', 'esguerrats', 'desmentit', 'reeixia', 'fricció', 'duro', 'muses', 'agressors', 'indefensos', 'sacrificats', 'rostres', 'gallart', 'magisteri', 'residir', 'ranci', 'limitant', 'subvenciona', 'ciudadanos', 'gálvez', 'marejos', 'trepidant', 'benauradament', 'interrompuda', 'nàutics', 'cranis', 'santacana', 'voldràs', 'innecessària', 'innecessàries', 'alcodiam', 'rearmar', 'progressant', 'disparats', 'lòbul', 'constitutiva', 'gregorio', 'goerdeler', 'levi', 'botànica', 'tremolosa', 'gaspart', 'senyalitzat', 'ancestral', 'complerts', 'aborígens', 'inteligència', 'sacra', 'colonitzadors', 'encarat', 'faristol', 'bartolomé', 'actitut', 'acampats', 'state', 'tornaràs', 'degradats', 'metodològica', 'successos', 'cocina', 'envejós', 'emetia', 'coautora', 'ralph', 'contracorrent', 'cassini', 'bordeta', 'paperera', 'esmorte', 'preocupants', 'beneficiàries', 'obviar', 'invenció', 'estudiós', 'clavegueram', 'esperançador', 'boníssima', 'afeccions', 'zafra', 'nacionalismes', 'tol', 'interactuen', 'edunauta', 'filmoteca', 'procurant', 'rumiava', 'perillar', 'maques', 'oreneta', 'coli', 'caoc', 'ulteriors', 'executada', 'disculpa', 'taquilles', 'capdavantera', 'paleta', 'audició', 'improvisació', 'assistint', 'apassionats', 'enllestida', 'amagatalls', 'dobla', 'rumiant', 'esmunyir', 'orats', 'apliquin', 'alló', 'atroç', 'eunucs', 'virtuós', 'barrejant', 'menestrals', 'admiro', 'allunyament', 'arte', 'clandestinament', 'bòsnia', 'galàctica', 'kosovo', 'primet', 'bufetada', 'subtilment', 'menar', 'filogenètica', 'pesquer', 'pedals', 'closa', 'obsolet', 'locades', 'alegres', 'ítaca', 'cadència', 'licitada', 'bruixots', 'diferentes', 'avesat', 'idèntiques', 'tibet', 'partidària', 'cronologia', 'suprema', 'tannenberg', 'pedaleja', 'usem', 'noti', 'mànecs', 'opac', 'nicoletti', 'vivo', 'ranc', 'fullejar', 'abandonades', 'xafades', 'cañada', 'uaaaaaaau', 'kea', 'assemblava', 'collaret', 'esp', 'conselleries', 'okinawa', 'gerents', 'hòsties', 'paer', 'panther', 'coaching', 'alcázares', 'oliu', 'situava', 'groller', 'courtney', 'caminem', 'cristianes', 'íntimes', 'escriurà', 'madridistes', 'ressentiment', 'corr', 'molletans', 'constitucions', 'bertrol', 'mediadora', 'integrin', 'identificador', 'redisseny', 'mausoleu', 'rellevar', 'penombra', 'bea', 'psiquiatria', 'héctor', 'javi', 'baixem', 'requerides', 'cinisme', 'faltarà', 'reelegit', 'destrossats', 'pediatria', 'subirana', 'preguntaven', 'viatjarà', 'restitució', 'complaure', 'delicats', 'funcionària', 'antònims', 'aturaven', 'floresta', 'descriptiva', 'irrenunciable', 'mostri', 'colgar', 'lluitarà', 'pensaria', 'retornats', 'merkel', 'moncada', 'renéixer', 'obtinguin', 'semifinalistes', 'fermi', 'espantada', 'dissenyadors', 'quilogram', 'andorrà', 'tosca', 'obeint', 'mirin', 'festeig', 'mones', 'carreguen', 'broekman', 'flassades', 'compartiments', 'posseeixen', 'estàven', 'morissin', 'eludir', 'sentenciada', 'textual', 'missatgers', 'exagerada', 'multicultural', 'exocat', 'espècimen', 'estacionat', 'desmarcar', 'recomanant', 'escarbat', 'idonis', 'badall', 'cèntric', 'cycle', 'nòrdics', 'emeses', 'aconsellem', 'eusebio', 'normatius', 'montagut', 'trump', 'atorgarà', 'parera', 'miret', 'intensificació', 'msc', 'asturianes', 'acompanyin', 'caben', 'antitanc', 'gratacels', 'mascotes', 'repassen', 'esvàstiques', 'sisvol', 'coexistència', 'kroll', 'bocabadat', 'vacants', 'truqués', 'multar', 'garbuix', 'botigueta', 'alliberant', 'cem', 'ç', 'metròpolis', 'reforcin', 'ipc', 'gassol', 'manejar', 'trivial', 'immunitària', 'sobrevivents', 'orrit', 'papasseit', 'restaurat', 'orbiten', 'tunel', 'badocs', 'preuat', 'losa', 'purga', 'galceran', 'començaré', 'rodejats', 'lumbars', 'romangui', 'vels', 'compri', 'mp', 'obús', 'assessoria', 'impresa', 'albardà', 'impedint', 'damb', 'ligerant', 'che', 'vallory', 'complís', 'conciutadans', 'patern', 'mh', 'avaluades', 'niell', 'fosos', 'etiquetar', 'limfàtics', 'gravades', 'gunayat', 'nyaps', 'devesa', 'reprogramació', 'armilla', 'legar', 'palace', 'almuñécar', 'agafarà', 'manant', 'racionalitat', 'divergències', 'educaciodema', 'insinuacions', 'mara', 'aparegueren', 'comissionada', 'partal', 'atxoli', 'iso', 'vesprada', 'afluixar', 'linia', 'tènues', 'aixequés', 'endollar', 'amoroses', 'tzació', 'confirmeu', 'antropogèniques', 'pianista', 'banyat', 'formulades', 'freisler', 'reguitzells', 'ny', 'rap', 'llueix', 'lastra', 'rust', 'barranco', 'minguell', 'hall', 'acceleradament', 'mu', 'tinguts', 'laran', 'olbricht', 'periòdic', 'anatòmica', 'dictatorial', 'modelat', 'discutible', 'olmo', 'keefe', 'gastro', 'bíceps', 'inèdits', 'boníssim', 'castiga', 'xxv', 'reverència', 'adhesius', 'prioritzant', 'ideació', 'enriquit', 'saltava', 'inquiet', 'avaluats', 'índic', 'imitant', 'emergeix', 'tirem', 'censurat', 'pèssim', 'cascuna', 'verdadera', 'agrònoms', 'comprem', 'penediment', 'obliden', 'requereixin', 'paisos', 'ventijol', 'brevetat', 'alternen', 'mili', 'commemoren', 'encapçalament', 'recrear', 'nedadora', 'lincoln', 'fibroblasts', 'làcia', 'inutilitat', 'schleswig', 'reconegués', 'subtitulació', 'lebensraum', 'lible', 'bocinet', 'mediàtics', 'telegrafiar', 'desdir', 'mostrés', 'quer', 'actualitzant', 'delicadament', 'imperialisme', 'tretzena', 'duanes', 'menava', 'costós', 'maletí', 'flow', 'caball', 'calar', 'àlbums', 'locava', 'conyets', 'russell', 'ipcc', 'batzac', 'llançava', 'coordinades', 'pelegrins', 'insuficiència', 'entrevistem', 'desviament', 'loppacher', 'motoritzades', 'detallades', 'espectatives', 'af', 'suant', 'posicionaments', 'enamorament', 'oportunament', 'brases', 'pedrerol', 'poblament', 'expedit', 'trilogia', 'cigaleta', 'refredament', 'mustieles', 'algorismes', 'sòc', 'orbs', 'revoltar', 'melissa', 'convertida', 'we', 'frenètic', 'haya', 'mediterranean', 'simpàtics', 'balanceig', 'pelícano', 'fruiturisme', 'services', 'katin', 'bis', 'esgarrifat', 'marcians', 'mijas', 'escorpins', 'enfeinats', 'inquisidors', 'delimitar', 'capsdecony', 'vasts', 'banyuts', 'modus', 'facècia', 'crancs', 'farmàcies', 'augusta', 'from', 'bce', 'lluitem', 'implicarà', 'corriol', 'modificats', 'mancaven', 'tripijocs', 'colpejat', 'molinero', 'línea', 'escalfa', 'ficaven', 'vilaró', 'ètniques', 'enzimàtica', 'sebollir', 'carretó', 'cartolines', 'safates', 'costant', 'parrillada', 'excessives', 'sostinguda', 'veto', 'analistes', 'alçat', 'polir', 'fonamentades', 'fluorescència', 'sotsdirector', 'canoa', 'dipp', 'licitats', 'virolla', 'gopro', 'simultànies', 'informades', 'semblés', 'abdicar', 'esgarrifosa', 'anomalies', 'barcelonistes', 'adquireixin', 'equatorial', 'creguin', 'fletxes', 'reeditar', 'perjudicats', 'ferramentes', 'organigrama', 'serious', 'incorporem', 'sofrir', 'morfològiques', 'explicades', 'altera', 'carbonat', 'regirar', 'divulgatiu', 'culta', 'canyes', 'neuràlgic', 'llefiscoses', 'nba', 'iwo', 'diessbach', 'pròtesis', 'canviats', 'manuela', 'sinèrgies', 'ulla', 'save', 'kim', 'agraeixen', 'magrana', 'gaza', 'poblets', 'pts', 'summer', 'extensiva', 'modernistes', 'disbarats', 'efusivament', 'espert', 'badalls', 'cartilles', 'masferrer', 'villafranca', 'impotents', 'achp', 'paradistes', 'serotonina', 'encantaria', 'faries', 'federat', 'concep', 'llonga', 'redistribució', 'erm', 'dràstica', 'bonnemaison', 'lomo', 'forjar', 'manipulat', 'biogeoquímics', 'aclaparadora', 'retiressin', 'cape', 'rider', 'obligaven', 'aspid', 'glucogen', 'servant', 'monforte', 'contrastat', 'vigoria', 'rea', 'bare', 'pinedes', 'clepsa', 'espinós', 'remata', 'plany', 'vegueria', 'agenollar', 'jubilar', 'orbea', 'linya', 'seriositat', 'efímeres', 'filogenètic', 'txad', 'polseres', 'cingle', 'desesperar', 'reps', 'simbolisme', 'eliminarà', 'trobaríem', 'miraculós', 'fènix', 'disminuint', 'botzina', 'òptic', 'prometedor', 'taxis', 'exponencialment', 'algaraví', 'erika', 'lobby', 'quarks', 'massacres', 'escoltades', 'mao', 'quartet', 'fèmina', 'macro', 'titols', 'reviseu', 'pètals', 'emancipació', 'marmotes', 'sensacionals', 'hemorràgia', 'oposa', 'quirúrgiques', 'voladors', 'sés', 'homogeni', 'nana', 'resseguint', 'madame', 'torta', 'estisores', 'carlota', 'geològiques', 'endreçar', 'graner', 'portfolio', 'declaraven', 'fara', 'manacor', 'empassat', 'homofòbia', 'escorrialles', 'prehistòria', 'coseta', 'tx', 'embrionari', 'ridaura', 'versemblant', 'nervi', 'igualitari', 'vilalba', 'petersburg', 'palanques', 'níger', 'victus', 'redactant', 'camuflats', 'treta', 'generacional', 'proven', 'jéssica', 'botiflera', 'convenientment', 'cavitat', 'vulgars', 'reducte', 'srs', 'lleixar', 'informada', 'tavera', 'cuinant', 'tractarem', 'aparegué', 'decreixement', 'carnús', 'patents', 'veins', 'ratificació', 'osteopatia', 'edo', 'consultant', 'transcorren', 'engranatges', 'ller', 'duem', 'erudits', 'gürtner', 'divergència', 'escriuria', 'paleoantropologia', 'promeco', 'ir', 'recalcat', 'caprici', 'gobierno', 'arrogant', 'escorcollar', 'slow', 'captiveri', 'pen', 'cupons', 'emplaçat', 'colomines', 'maratonià', 'cupó', 'suposant', 'proclames', 'ranxo', 'reclusos', 'calvís', 'sublims', 'inesborrable', 'aminoàcid', 'grassas', 'precursor', 'omís', 'ago', 'obsequiat', 'latrines', 'distraccions', 'xispa', 'soteras', 'sinònimes', 'sobrepès', 'cadastre', 'rocío', 'arrossegada', 'flonja', 'internar', 'xec', 'incomplet', 'malaltís', 'pàtries', 'plantats', 'fin', 'fixe', 'perseverància', 'ecampus', 'emmarcades', 'arcaic', 'lut', 'bi', 'competeix', 'cèlebres', 'barreges', 'culinària', 'successius', 'esca', 'incompleix', 'wehrwolf', 'liechtenstein', 'missouri', 'perdonareu', 'cobrien', 'tossir', 'vinents', 'adrenalina', 'carrec', 'motxilles', 'isidro', 'ajudats', 'principiant', 'flairosos', 'ciril', 'càlides', 'apropiades', 'frederick', 'arca', 'processador', 'madurar', 'drosophila', 'maxim', 'chris', 'egipcis', 'tecno', 'adolorit', 'prometo', 'aldea', 'sp', 'espantós', 'psiquiàtric', 'simbiosi', 'incompatibles', 'ínclit', 'retorni', 'llençaments', 'postobligatòria', 'callés', 'ofega', 'empitjorat', 'procedia', 'malèfic', 'censurar', 'silenciós', 'estudiarem', 'tristament', 'documentats', 'llort', 'filogenètiques', 'dilu', 'comptats', 'ribosomes', 'consensos', 'pressupostaris', 'doñana', 'demanada', 'ancià', 'colar', 'continuaré', 'llatines', 'fractals', 'uce', 'visualitza', 'cossi', 'aflorar', 'insular', 'ferrera', 'serietat', 'castors', 'residu', 'ordoñez', 'antany', 'busse', 'hawai', 'minoritaris', 'irritant', 'gravada', 'vídues', 'investigats', 'estenent', 'tai', 'sony', 'cep', 'transcorrerà', 'purificació', 'boqueria', 'burka', 'discutien', 'step', 'heterogeni', 'catllar', 'inqüestionable', 'mwc', 'emprava', 'aplicatiu', 'prengueren', 'vingueren', 'cag', 'enraonava', 'inert', 'inic', 'fluvià', 'daurats', 'soni', 'escrigué', 'trinxera', 'modular', 'desitges', 'maxime', 'entregats', 'nasqueren', 'forné', 'perdedor', 'fulletons', 'prussians', 'sorgint', 'imbatible', 'wikipedia', 'morent', 'boldrons', 'indoxina', 'activats', 'pedrosa', 'india', 'axmann', 'viladecavalls', 'subsecretari', 'absis', 'coloració', 'udetma', 'wellness', 'turbant', 'bernal', 'spirit', 'esperonar', 'naujocks', 'txecoslovac', 'tinença', 'félix', 'podiem', 'cusiné', 'equivalència', 'ombrívols', 'debuten', 'suplements', 'pdi', 'nietzsche', 'medecina', 'contagiar', 'avanço', 'ascles', 'alfabetitzades', 'estirant', 'manament', 'empadronament', 'steiner', 'ganglis', 'torretes', 'abordarà', 'bròquil', 'recàrrega', 'suggerim', 'cridaners', 'esclatés', 'rellegir', 'anàloga', 'mascarreras', 'sponsor', 'beneficiats', 'gargall', 'somniar', 'gomes', 'líric', 'aparellar', 'medicament', 'numèrics', 'comprovant', 'somreia', 'reutilitzar', 'basarà', 'agafes', 'tebi', 'torcaculs', 'allunyant', 'evangèlica', 'situarà', 'coach', 'ompl', 'teler', 'considerin', 'confirmant', 'tràgics', 'torpede', 'sotracs', 'merindades', 'cornudella', 'clavant', 'funda', 'aspiren', 'hepatitis', 'socorrisme', 'orts', 'precipici', 'treiem', 'pestanyes', 'inventats', 'prioritzat', 'contextualització', 'avalar', 'discriminar', 'md', 'magnètics', 'poliesportiva', 'alessandro', 'angela', 'lomce', 'analfabet', 'poblats', 'rojo', 'collonada', 'planejament', 'concòrdia', 'massagué', 'desafiat', 'promotores', 'tísner', 'suite', 'canes', 'place', 'pensionistes', 'correm', 'vènia', 'hostilitats', 'compreses', 'introgressió', 'venuda', 'germinal', 'balenes', 'traduint', 'milloret', 'melodies', 'muga', 'amiguets', 'carnívors', 'esclatava', 'estareu', 'philipp', 'naturalistes', 'little', 'llenç', 'benidorm', 'mariñas', 'corcada', 'contracta', 'roncero', 'men', 'persuadir', 'curiosity', 'lluint', 'busos', 'oratòria', 'finalitzen', 'recobrar', 'virolats', 'entzia', 'desobeir', 'barón', 'penjaments', 'alavesa', 'sostenen', 'ajustaments', 'amador', 'mentor', 'inscrita', 'proposaven', 'monsenyor', 'carronyes', 'oques', 'voteu', 'rebentar', 'pci', 'interí', 'adverteixen', 'endarrere', 'fútil', 'préssecs', 'escòria', 'travessen', 'tasta', 'tibidabo', 'vòmits', 'picava', 'oclusives', 'intensíssima', 'mancada', 'mamapop', 'pse', 'bristol', 'arrelar', 'visionar', 'atlantiques', 'artifici', 'albada', 'hispànica', 'preguntada', 'conduint', 'argèlia', 'pujals', 'excedència', 'pantaló', 'ràtio', 'estrats', 'im', 'holstein', 'euroordre', 'agafà', 'llarguíssim', 'ferrovial', 'exupéry', 'entés', 'intrínseca', 'telecomunicació', 'grever', 'cirereta', 'eliminés', 'euler', 'biòlegs', 'vigilada', 'patriarcal', 'ritus', 'vagament', 'indefinidament', 'tronada', 'tètric', 'reñe', 'despietat', 'aparcats', 'fitó', 'lírica', 'vague', 'mossada', 'decidí', 'impulsos', 'súbdits', 'bangla', 'envejar', 'fineta', 'haeften', 'seríem', 'freser', 'substanciar', 'votem', 'jardiner', 'registren', 'llepolies', 'abandó', 'semàfors', 'espirals', 'voliem', 'cantata', 'lenària', 'llegendària', 'enviarem', 'analytics', 'xusma', 'odiaven', 'motril', 'queixant', 'abrupte', 'ronaldinho', 'estigues', 'corredisses', 'batega', 'biasca', 'batejada', 'casà', 'descobrí', 'destacaria', 'guerrera', 'arqueològics', 'conservant', 'orgies', 'iuhu', 'calavera', 'piràmides', 'forjat', 'fulleda', 'rígid', 'aguts', 'camuflat', 'australianes', 'finalitzades', 'moralitat', 'realitzarem', 'cot', 'habita', 'ballen', 'paltruu', 'insinuar', 'hay', 'blume', 'eurodiputada', 'especulacions', 'trajectes', 'assessorat', 'aldh', 'bust', 'anatòmiques', 'cuidat', 'imperialistes', 'interuniversitari', 'reialmes', 'redissenyem', 'llegendaris', 'schulze', 'rusiñol', 'sospitava', 'tributari', 'immersa', 'soleràs', 'conversant', 'tímids', 'escepticisme', 'emplenada', 'floquet', 'produiran', 'indesitjables', 'irresponsables', 'gradients', 'entrevingut', 'haura', 'geogràficament', 'telemadrid', 'primigeni', 'embogit', 'votarem', 'practiqueu', 'opinat', 'gosa', 'caixeta', 'gruixuts', 'vulnerar', 'cautelar', 'eurecat', 'peluts', 'grapes', 'rònega', 'ineluctable', 'velasco', 'tarota', 'eradicació', 'insegur', 'jaquit', 'decència', 'aprofitaran', 'tallava', 'suplents', 'privar', 'aleatoris', 'rebregat', 'reservem', 'sobreviu', 'anticipat', 'costaria', 'cauran', 'público', 'aldarull', 'cínic', 'michigan', 'clarke', 'ecspanya', 'alentejo', 'ebro', 'ineludible', 'recollien', 'explosivitat', 'extracel', 'cometari', 'practiquem', 'immortals', 'arqueòleg', 'protectora', 'bombardejades', 'marquem', 'contador', 'acomiadaven', 'evangeli', 'inhàbils', 'hoess', 'enrico', 'sagnants', 'reflectors', 'monistrol', 'reprèn', 'pirinenca', 'enfocats', 'patge', 'carina', 'lituà', 'xc', 'cabrils', 'finalitzats', 'vale', 'sotmetrà', 'encarregaven', 'telemàtic', 'periquitos', 'vilamajor', 'standartenführer', 'faes', 'suboficials', 'milionari', 'matinals', 'palou', 'congregació', 'tàctil', 'mofa', 'constitucionals', 'cooperativisme', 'serbi', 'subjectiva', 'marburg', 'castejón', 'acoblament', 'weizs', 'vicealmirall', 'db', 'cholitz', 'ibn', 'marseille', 'unint', 'inflexible', 'wolbachia', 'videoclip', 'olles', 'projectada', 'detallem', 'ba', 'gàmetes', 'daten', 'conjurats', 'palautordera', 'trull', 'dulles', 'sentida', 'analògica', 'marroquina', 'patriarca', 'tabús', 'sabiem', 'biòleg', 'dictada', 'demanarem', 'desestimat', 'citoplasma', 'cordons', 'tapería', 'med', 'ranera', 'assentant', 'comptin', 'trasllats', 'np', 'intercel', 'pavlov', 'bt', 'escoltesiguies', 'metralla', 'prestadors', 'especímen', 'contractada', 'ginesta', 'bertolucci', 'formalitzat', 'intersetmanal', 'finezza', 'visitin', 'thompson', 'bombons', 'wavell', 'manaments', 'alçament', 'cobrint', 'vilars', 'dortmund', 'pequín', 'bombeta', 'especifiquen', 'sèquia', 'impliquin', 'cerezo', 'alliance', 'wòlof', 'embrutar', 'angels', 'embarbussaments', 'foxp', 'pavilh', 'caresmar', 'joveneta', 'bolaño', 'wosm', 'degradar', 'macarrons', 'mallorquina', 'desmenteix', 'marxant', 'acusada', 'aniversaris', 'ceballos', 'amerika', 'aterrat', 'piten', 'cotes', 'hesíode', 'atlas', 'dedéu', 'licitin', 'participés', 'plàstiques', 'mateos', 'weygand', 'adenauer', 'advertiment', 'astrofísica', 'rocky', 'palatinat', 'abstracte', 'onís', 'poblacional', 'planet', 'minera', 'yale', 'adolfo', 'sembra', 'converteixin', 'exclusivitat', 'caldera', 'braunau', 'pataplaf', 'forçosa', 'llibreters', 'depenien', 'truqueu', 'sel', 'geològics', 'finet', 'perdura', 'italiano', 'reusenc', 'processons', 'monogràfics', 'aec', 'hermanas', 'hidràulica', 'caba', 'derby', 'inclouran', 'ligo', 'gravíssim', 'montgat', 'refusar', 'jesus', 'melilla', 'high', 'suposaran', 'oasis', 'publicarem', 'culmina', 'codirector', 'asturiana', 'stavka', 'carin', 'holding', 'esforçat', 'baiasca', 'sedició', 'autoritzava', 'viurem', 'grafit', 'desmantellament', 'capatàs', 'fà', 'sobirana', 'multiplica', 'acostament', 'endreçúries', 'molestava', 'ordóñez', 'reflexos', 'esverat', 'trempats', 'brufau', 'carmanyola', 'corregides', 'enderrocat', 'auriculars', 'terrats', 'alegrement', 'exquisits', 'nuesa', 'dòmino', 'mers', 'selecte', 'pròstata', 'barroera', 'corcoll', 'endugué', 'llicenciatura', 'elevació', 'susceptible', 'development', 'flairoses', 'iniciant', 'bufó', 'mediocritat', 'buscarem', 'sobtar', 'rom', 'immobiliaris', 'reticències', 'reusencs', 'agalius', 'lluminàries', 'travessera', 'gestionarà', 'àlgebra', 'goteres', 'duplicar', 'existint', 'lumumba', 'favorites', 'airbnb', 'erudit', 'seguent', 'canària', 'endevinat', 'complementarà', 'hagen', 'molsa', 'urta', 'molses', 'sobrepassar', 'paó', 'vasta', 'irrompre', 'pamano', 'sobretaula', 'sopant', 'atlàntica', 'extranya', 'clandestines', 'impedirà', 'incomplert', 'quitxalla', 'tarabini', 'economic', 'esvair', 'sangtra', 'calat', 'connectem', 'divinal', 'virginal', 'dimiteix', 'moriren', 'godomassins', 'bastament', 'estoc', 'castel', 'sarraí', 'embornals', 'rebutjades', 'salomon', 'aprovisionament', 'connotacions', 'enumeracions', 'incendiat', 'aprofiti', 'olivella', 'espieta', 'escaigués', 'inintel', 'comenteu', 'descordada', 'fonen', 'roy', 'circulatori', 'respondran', 'valquíria', 'fenòmen', 'dubtosos', 'oposen', 'estavellat', 'afeccionat', 'vallvé', 'arquitecta', 'fong', 'brutalment', 'cub', 'diríeu', 'gorina', 'psíquiques', 'troca', 'seguirien', 'turismes', 'solitàries', 'perich', 'oncològics', 'envejosos', 'porcins', 'depén', 'llençaven', 'civilitzats', 'crowdfunding', 'arrendament', 'addició', 'icgc', 'amatents', 'erik', 'aleatòriament', 'esmolada', 'bandolers', 'agraiment', 'blockchain', 'desmesurat', 'vestien', 'gradient', 'inclouria', 'tòfones', 'heribert', 'assenyada', 'conxorxa', 'louvre', 'apostrofen', 'beltran', 'trx', 'dejús', 'indagació', 'ormeigs', 'antologia', 'opinen', 'garrotada', 'infusió', 'carlo', 'arnats', 'tirallonga', 'comés', 'traurà', 'gramòfon', 'recaptats', 'confusa', 'calculada', 'traslladà', 'lli', 'tractin', 'retòriques', 'psíquics', 'guardes', 'dida', 'completava', 'erupcions', 'cuquets', 'forneix', 'contaminant', 'caducat', 'assumia', 'rosegant', 'ordenador', 'castanys', 'escaigui', 'bambes', 'palimpsest', 'xoriço', 'interposat', 'circumscripcions', 'substancials', 'minoritari', 'àpex', 'dentetes', 'tallin', 'prospectiva', 'llampec', 'compro', 'catarres', 'thyssen', 'guany', 'escombriaire', 'adulteri', 'aques', 'mexicans', 'portarien', 'cambreta', 'idec', 'desfets', 'grafits', 'epstein', 'femtes', 'documentada', 'sarcasme', 'espardenyes', 'recolzada', 'problemas', 'tristes', 'marcaven', 'anímicament', 'avariciós', 'guionistes', 'fecal', 'canfelipútrid', 'tèrbols', 'cunningham', 'prèmit', 'bòlid', 'rigut', 'esmunyia', 'ocupà', 'començ', 'frustrats', 'faigs', 'runners', 'tallem', 'brillantment', 'esmicolar', 'embolics', 'batudes', 'analitzada', 'romàntiques', 'precàries', 'reduirà', 'llorente', 'mossegant', 'desastrosa', 'magres', 'precs', 'monegal', 'barnils', 'pijama', 'monarques', 'abisme', 'proactiva', 'stephen', 'transformats', 'exhibint', 'diferenciada', 'gray', 'profusament', 'plouen', 'documenta', 'sèrum', 'avinganya', 'prest', 'concentrades', 'quand', 'escapolir', 'assenyalades', 'retroalimentació', 'north', 'concretant', 'glicina', 'gaudien', 'mercaderia', 'vendrellencs', 'separant', 'garjola', 'veueta', 'resplendent', 'optatives', 'importava', 'adesiara', 'regirat', 'faltant', 'recitant', 'respiratoris', 'llumcat', 'mullar', 'imc', 'back', 'reposició', 'empendre', 'fluidament', 'sapiguem', 'orienten', 'cobejança', 'temors', 'congres', 'estirament', 'verola', 'anguita', 'bugada', 'maneta', 'serie', 'làctics', 'prepotent', 'cretàcic', 'metamorfosi', 'licitava', 'vedat', 'cigales', 'elitista', 'sumatra', 'xevi', 'indignant', 'culpava', 'calguin', 'periodístiques', 'melmelades', 'capitalitat', 'comunicàlia', 'perquès', 'country', 'patrocinat', 'nimitz', 'cistell', 'bdel', 'peratallada', 'realitzava', 'simpatitzar', 'cicatriu', 'líban', 'copiat', 'retallant', 'setmenat', 'bartrés', 'insòlit', 'lusionar', 'clases', 'dinamitzat', 'pretès', 'fèrtil', 'trompetes', 'hedwig', 'rotund', 'uk', 'cosmocaixa', 'pentinar', 'lliteres', 'escorpí', 'albir', 'aragón', 'hoepner', 'encuriosit', 'ef', 'perdius', 'posarien', 'pasteur', 'andes', 'inflats', 'relliscant', 'piaggio', 'tamudo', 'empesos', 'vallesana', 'superarà', 'smc', 'calcat', 'prepararem', 'hasso', 'baixaven', 'promocionen', 'cocodrils', 'macabre', 'comptabilitzar', 'ironman', 'regeixin', 'íñigo', 'llúdrigues', 'tenin', 'enlluernats', 'intensitats', 'ronyó', 'intergrup', 'marxaria', 'eurozona', 'endevant', 'identifiqui', 'dolçor', 'navàs', 'mapamundi', 'banyador', 'llenguadoc', 'tiroteig', 'moore', 'escalfant', 'forners', 'perpetua', 'immunoglobulina', 'prohibeixen', 'estadístic', 'habilita', 'provocaria', 'emigrants', 'dallonses', 'panoràmiques', 'responsabilitza', 'abatre', 'avorreix', 'óssos', 'coincidia', 'pagerol', 'banalització', 'embadalit', 'denominador', 'asseu', 'taüts', 'obscurs', 'isil', 'desolat', 'correr', 'novelles', 'assolellada', 'campdevànol', 'totalitarisme', 'desfan', 'arriscat', 'injustificable', 'dignificar', 'celestials', 'desapareguda', 'aprecia', 'albíxeres', 'entreguerres', 'confeccionat', 'angúnies', 'retiri', 'anaren', 'ronca', 'esclatants', 'pedòfil', 'oxidació', 'reines', 'fillets', 'guien', 'uix', 'culé', 'oleguer', 'ratjada', 'prodigi', 'aspirava', 'sole', 'bonança', 'periode', 'kapp', 'efectuades', 'estopa', 'inscriuen', 'molles', 'pinyols', 'bonament', 'afegiran', 'repetitiu', 'status', 'contingudes', 'xicago', 'flagells', 'probiòtics', 'palauet', 'entranyables', 'republicanes', 'premium', 'suavitat', 'esbiaixada', 'cardaire', 'begues', 'formà', 'placebo', 'loquillo', 'grove', 'garona', 'frances', 'gaceta', 'barco', 'abss', 'filets', 'sanguinaris', 'auxili', 'dinant', 'amanit', 'sortí', 'minúsculs', 'preàmbul', 'impressionats', 'letons', 'terriblement', 'profetes', 'holmes', 'ramirez', 'partim', 'esguards', 'tigres', 'contemplació', 'tabaquisme', 'pintallavis', 'identificà', 'tirpitz', 'horrorosament', 'jornet', 'suplici', 'allo', 'cuadrilla', 'inèdita', 'glacials', 'sostenia', 'operacional', 'palpentes', 'corredora', 'priorització', 'murphy', 'mugrons', 'enfrontava', 'moreres', 'senyalava', 'perdran', 'elser', 'jsc', 'excloses', 'catalonis', 'natalitat', 'observada', 'rosanas', 'llanada', 'hindú', 'mills', 'feridura', 'supervisat', 'descentralització', 'quartos', 'teixint', 'trigarà', 'corro', 'trep', 'cuirassa', 'obtingueren', 'alats', 'accentuen', 'graciós', 'verticalitat', 'verdun', 'aem', 'opus', 'quadernet', 'descontrol', 'povill', 'curosament', 'merdanyol', 'reaccionari', 'salves', 'agreujada', 'respectava', 'guipar', 'corrupta', 'ancesa', 'confortable', 'selectius', 'estront', 'creatic', 'desertar', 'protegint', 'carbon', 'endurà', 'borbònica', 'sospitoses', 'atiar', 'eixí', 'guitzes', 'sensorials', 'permafrost', 'sospitosa', 'persistents', 'conservava', 'pintant', 'envoltava', 'geperuts', 'intrús', 'escanyat', 'petrov', 'guillermina', 'biel', 'neoliberal', 'directores', 'nafrat', 'xiringuito', 'mossad', 'apendicitis', 'proppassat', 'eteri', 'coaccions', 'mitjó', 'copernicus', 'atorgats', 'remet', 'biota', 'sumin', 'mentit', 'protegia', 'camperols', 'galons', 'defensora', 'innocu', 'nava', 'vestides', 'consumit', 'main', 'mossegat', 'megsjc', 'adifolk', 'artist', 'picarots', 'piques', 'plàcid', 'arbustos', 'impressora', 'hostafrancs', 'pensatiu', 'delectar', 'rondinar', 'xco', 'enyora', 'henares', 'alpina', 'descontent', 'trebol', 'felicitant', 'començàvem', 'forcades', 'apujat', 'escolanova', 'biorxa', 'sarria', 'fumant', 'cañellas', 'estrenem', 'comparava', 'bigoti', 'ídola', 'exdirigent', 'oseph', 'collblanc', 'alquimista', 'impermeable', 'taxistes', 'field', 'interanual', 'lecta', 'perillositat', 'reflectia', 'orri', 'rodalia', 'asseia', 'exhaurir', 'publiquem', 'lacai', 'ló', 'pira', 'obtingui', 'dutxar', 'inef', 'notorietat', 'ètnic', 'bípedes', 'establishment', 'emocionants', 'cabassos', 'creuria', 'amenaçaven', 'costera', 'joieria', 'piula', 'inclinat', 'mallorquins', 'arrencant', 'complutense', 'geoparc', 'beutats', 'pana', 'oranienburg', 'estratosfèric', 'bouhler', 'ordi', 'biomarcadors', 'boscs', 'vallromanes', 'manganès', 'presentà', 'bescanviar', 'daurades', 'ribot', 'prematura', 'enumeració', 'triplet', 'sermons', 'abetz', 'palmeres', 'esclops', 'incentiva', 'ornitologia', 'artificialment', 'tripulat', 'aconseguirien', 'llegides', 'cosmètica', 'antropogènic', 'asseguri', 'endarreriment', 'fumós', 'canibalisme', 'arribaràs', 'enyorava', 'secans', 'janine', 'canosa', 'soluciona', 'alimentat', 'vigilats', 'oasi', 'deplorable', 'concedits', 'tunis', 'maquinari', 'oposades', 'pim', 'vetar', 'xano', 'infidels', 'esgotats', 'istanbul', 'aculli', 'tàctils', 'belluga', 'intensificat', 'mastegar', 'vaccins', 'gavet', 'patricia', 'cantades', 'batuts', 'liti', 'tanqués', 'compensa', 'nimfes', 'penedit', 'misteriosament', 'remences', 'forum', 'vincent', 'mongeta', 'originàries', 'indeguda', 'nieto', 'falques', 'regim', 'xxx', 'persianes', 'salud', 'ahmed', 'ordinals', 'milícies', 'gingebre', 'reunissin', 'adaptatiu', 'eudald', 'perifèries', 'anímic', 'comet', 'pallussos', 'faura', 'eixelebrat', 'anormalitat', 'cati', 'vascular', 'albiach', 'otter', 'feiem', 'educación', 'posiciona', 'reiterats', 'doloroses', 'taiwan', 'regir', 'testimonial', 'sóm', 'martinet', 'migratoris', 'belén', 'quinzenal', 'presidia', 'ortodoxa', 'cigarrets', 'canvas', 'ambientació', 'volàtil', 'recolliran', 'bovina', 'sabre', 'coc', 'retrobament', 'ascó', 'ferradura', 'escanyar', 'cxcl', 'treballés', 'coques', 'fètids', 'fastigosament', 'allotjats', 'acordada', 'weisse', 'duana', 'linguofília', 'feinades', 'town', 'roseta', 'light', 'mossegades', 'fcbarcelona', 'girs', 'inculcar', 'vinoteca', 'llúpia', 'envellit', 'quilomètric', 'emplenant', 'proseleccions', 'triomfat', 'cuinat', 'circumval', 'estrofa', 'antidepressius', 'camping', 'hill', 'empoderar', 'entrevistats', 'camuflatge', 'trípoli', 'catòliques', 'esperançat', 'sudanès', 'espontane', 'ceoe', 'scb', 'pressupostat', 'brètol', 'schmeling', 'enriquint', 'talles', 'bernabeu', 'narrada', 'durador', 'chaves', 'dinars', 'abp', 'tudela', 'nàquissa', 'encenalls', 'governabilitat', 'julian', 'calculava', 'cotxet', 'desplacen', 'pujarà', 'exempts', 'trauma', 'mitjamerda', 'adriano', 'mannheim', 'plaent', 'velocista', 'cronos', 'deficients', 'adoptin', 'cunillera', 'expressius', 'cedint', 'falaise', 'recitals', 'pagades', 'teòleg', 'afamegats', 'celebro', 'conseguir', 'aixequi', 'salto', 'llepa', 'rabejar', 'denses', 'vinícola', 'davantera', 'tatiana', 'exministra', 'viàries', 'aglomeracions', 'movistar', 'haro', 'tèbia', 'puré', 'simbòlics', 'ipbes', 'yamamoto', 'doneret', 'dividides', 'menyspreat', 'maxled', 'vast', 'suzuki', 'apotecari', 'electrodomèstics', 'luther', 'despulles', 'angleses', 'òperes', 'marejar', 'osonenca', 'doblet', 'engineering', 'allistament', 'immillorables', 'facilitades', 'aconseguiran', 'altures', 'vegetarià', 'pòster', 'coroneta', 'tòtems', 'adormida', 'selectives', 'versatilitat', 'preferiblement', 'manhattan', 'cch', 'reeixidament', 'reconeixien', 'kawasaki', 'baixet', 'rokossovski', 'trascendentals', 'felda', 'promig', 'estabellat', 'transitius', 'monjo', 'thiago', 'habitats', 'pelvis', 'procura', 'tríptics', 'reobertura', 'escolliu', 'pronominals', 'pensador', 'gy', 'confusions', 'heterosexuals', 'turquel', 'aclarint', 'mullers', 'albergínies', 'malastrucs', 'masoni', 'priebke', 'geospatial', 'romanticisme', 'singularitats', 'tacó', 'impacta', 'recorria', 'fotis', 'conxa', 'vox', 'misteriosos', 'eixorivir', 'pateixis', 'recompenses', 'canviaran', 'prince', 'còlon', 'atacades', 'afectiva', 'barga', 'corresponsabilitat', 'accedeixen', 'piquet', 'hospitalitat', 'discusió', 'cacauet', 'morfina', 'poderosament', 'rendiments', 'pogué', 'mossega', 'pragmàtic', 'micoia', 'centralitat', 'lama', 'afro', 'vui', 'aldomà', 'tràfec', 'cedirà', 'unicel', 'canviaven', 'inventa', 'sound', 'carícies', 'gaudireu', 'referits', 'pepita', 'opressor', 'estuari', 'discuteix', 'barakaldo', 'honorabilitat', 'histèrica', 'sanguinis', 'juno', 'autobus', 'prosseguir', 'sentíem', 'xucla', 'padrines', 'embargament', 'tanqui', 'veta', 'tòxiques', 'cortés', 'espontanis', 'eliminada', 'coeficient', 'dissolta', 'schulenburg', 'consistiria', 'travesses', 'barcelonaencomu', 'acabaren', 'geomètriques', 'soldevila', 'action', 'ocorre', 'proclamada', 'dedicà', 'proteoma', 'provocacions', 'estipulat', 'leucòcits', 'temien', 'renault', 'clàssicament', 'devastador', 'ascla', 'calç', 'barricades', 'sitc', 'conference', 'infiltrar', 'corbs', 'emprem', 'cosme', 'torí', 'llevo', 'abonaments', 'nefastes', 'kafka', 'fundà', 'clavats', 'malvat', 'mojácar', 'copet', 'dan', 'mediana', 'sanjuan', 'centímetre', 'exalumnes', 'memorable', 'lucinant', 'eurofruit', 'burxar', 'crestes', 'cerquem', 'incòlume', 'prensa', 'rebuigs', 'aplecs', 'quercus', 'microrelat', 'goles', 'cloendes', 'accès', 'aferrar', 'pareja', 'preixens', 'agafaran', 'rogenc', 'joseba', 'fàtima', 'vibrar', 'poblada', 'quel', 'paranimf', 'manteuffel', 'devastació', 'reporten', 'debaten', 'crispació', 'continguin', 'antioxidant', 'sortejaran', 'kampfgruppe', 'passius', 'impartidors', 'holística', 'bromista', 'brustenga', 'previsibles', 'nagumo', 'reordenació', 'impagable', 'acreditacions', 'estrat', 'ensenyi', 'subjectiu', 'compreu', 'forques', 'carnets', 'zeros', 'privatitzacions', 'luque', 'gustloff', 'defensà', 'sedecs', 'transmetent', 'advertències', 'trontollar', 'jima', 'immobilitzat', 'impertinent', 'palos', 'soferts', 'llampants', 'contaminats', 'escriptores', 'posteriori', 'incendiar', 'horrorosos', 'txarango', 'insercions', 'creixer', 'adversitat', 'canyet', 'palpable', 'hot', 'isern', 'poemari', 'microbiologia', 'tractessin', 'giner', 'vindré', 'entrenem', 'aniol', 'pesant', 'timochenko', 'rebutjaven', 'quítxua', 'zu', 'balàfia', 'diumnege', 'llàntia', 'jardinet', 'doctrines', 'càustica', 'jeep', 'phi', 'elr', 'obtindràs', 'mantinguessin', 'clientes', 'dinosaure', 'ballada', 'furts', 'fèrtils', 'maldestre', 'incontestable', 'mieres', 'humbert', 'epana', 'avila', 'mantinc', 'hindús', 'graderia', 'comprometem', 'escamilla', 'conquerides', 'ferrari', 'desfilaven', 'obscens', 'horda', 'negligibles', 'greenpeace', 'verdet', 'escolania', 'rfef', 'proteic', 'colta', 'assumís', 'incògnites', 'concertades', 'virolai', 'escuradents', 'alberga', 'desaparegudes', 'trencarà', 'review', 'gu', 'rovellada', 'minses', 'bucarest', 'pacífics', 'esbojarradament', 'avinenteses', 'impartiran', 'apocalipsi', 'astòria', 'captaire', 'controvertit', 'tertulia', 'creava', 'presumiblement', 'entà', 'guardamar', 'bildu', 'silvestres', 'consanguinitat', 'wse', 'transnacional', 'estripar', 'suporten', 'cole', 'desnivells', 'matava', 'karate', 'tenor', 'dorament', 'luigi', 'carpetes', 'furgant', 'saur', 'peixera', 'escombraria', 'representem', 'perspicaç', 'skills', 'bpi', 'equiparació', 'veloç', 'contractin', 'hanke', 'democratitzar', 'empanada', 'adjacent', 'guardaven', 'soltera', 'reeducació', 'reculli', 'confiaven', 'extreu', 'poguer', 'octàvia', 'acudam', 'csv', 'vlasov', 'profunditats', 'cèntim', 'perdessin', 'quí', 'intolerants', 'brolla', 'carinyo', 'filosòfics', 'retrospectiva', 'punxades', 'forçades', 'vilatorta', 'podrides', 'avets', 'leccionista', 'actualitzades', 'eurostudent', 'denis', 'arranjaments', 'paralització', 'peruanes', 'crònics', 'cesar', 'calb', 'separaven', 'perjudiquen', 'irun', 'subvencionades', 'tèrmiques', 'comensals', 'saavedra', 'avancessin', 'pantans', 'sentor', 'baeza', 'marxi', 'melamina', 'ponte', 'chicho', 'barà', 'corregeix', 'contraespionatge', 'ximpanzè', 'cardinals', 'fars', 'quantificació', 'xenòfob', 'malian', 'assolirà', 'propagandístics', 'cofinançament', 'bruixot', 'decepcions', 'tavascan', 'relaxa', 'penis', 'explorant', 'desplegades', 'energúmens', 'fischer', 'aprendràs', 'planejant', 'frenètica', 'allunyava', 'houdini', 'white', 'antropocè', 'australiana', 'betlem', 'skype', 'inusual', 'arsènic', 'internacionalitzar', 'épica', 'colgat', 'zika', 'separava', 'oòcit', 'sentissin', 'estimaven', 'analítics', 'sería', 'estructurats', 'uc', 'republica', 'cantàbria', 'enemistat', 'afirmativament', 'aberració', 'carnissera', 'néstor', 'nap', 'repetitius', 'promogui', 'teatret', 'simulant', 'tèrmic', 'superficie', 'terboven', 'intercontinental', 'rellu', 'escapament', 'passional', 'pingüins', 'valorització', 'reglaments', 'deputacion', 'marisol', 'expel', 'traslladant', 'obscur', 'considerés', 'aprenia', 'absorbeixen', 'oropesa', 'soldà', 'aridesa', 'cristo', 'controvèrsies', 'ichn', 'xoca', 'aixeques', 'ocupin', 'espantalls', 'dedicaran', 'redefinició', 'quiròfans', 'dedico', 'convindria', 'conspirar', 'horribles', 'pioneres', 'millorem', 'respir', 'rosat', 'betriu', 'pergamí', 'citoplasmàtica', 'clucs', 'krugman', 'aturarà', 'geriàtric', 'alter', 'irina', 'esquizofrènia', 'desapercebuda', 'preliminar', 'roque', 'salàs', 'beneficioses', 'climatització', 'inuit', 'recepcions', 'arno', 'agradés', 'densament', 'xal', 'telefònicament', 'enduc', 'tons', 'nngg', 'cerro', 'fontanals', 'plogut', 'julieta', 'llançà', 'somniat', 'forja', 'moixeró', 'expressades', 'wildlife', 'creueta', 'estudiosos', 'ukeller', 'relegat', 'genocidis', 'calamars', 'endegat', 'ancestrals', 'cions', 'menen', 'rapidíssima', 'logotips', 'captivar', 'system', 'tuberculosi', 'conjuga', 'antígens', 'importat', 'homòloga', 'exploradors', 'podría', 'incultura', 'exagerar', 'nodes', 'adscrites', 'paradoxal', 'calba', 'accentua', 'belluguen', 'reacciona', 'tàvecs', 'bragueta', 'focalitzat', 'coratjós', 'aturador', 'aprofitin', 'llong', 'prejudici', 'reichsführer', 'benaurada', 'fèrria', 'desavantatges', 'ompliran', 'recompensar', 'meitats', 'llevava', 'horcas', 'barrots', 'dormen', 'regulades', 'coneixences', 'miklas', 'llúria', 'lemes', 'foradat', 'cooperatius', 'guard', 'robustes', 'sintes', 'esplet', 'desenvolupava', 'ignoren', 'estalzins', 'xutat', 'xop', 'conflictius', 'inspectora', 'transformava', 'enfilava', 'bombin', 'atreviu', 'glutamat', 'concessionaris', 'gfp', 'bautista', 'blana', 'parcerisas', 'reobert', 'despès', 'destinatària', 'popularitzar', 'alberich', 'basic', 'kamikaze', 'pugés', 'acomodada', 'encare', 'palters', 'balba', 'inesperadament', 'aguanten', 'soll', 'escocesa', 'habsburg', 'enaixí', 'gitans', 'adonant', 'braçal', 'intimitats', 'esgota', 'místics', 'goigs', 'henlein', 'dejuni', 'elm', 'minim', 'agripa', 'tramitat', 'assignacions', 'agreujant', 'ultradretà', 'relacional', 'fútils', 'iogurts', 'cuits', 'sistèmica', 'inofensiu', 'embolicada', 'anicet', 'endugués', 'obeeix', 'posicional', 'faula', 'resisteixen', 'adequa', 'inequívoca', 'america', 'preparo', 'emigrat', 'punxegut', 'planning', 'contraalmirall', 'clandestinitat', 'ordalies', 'boteruts', 'coneixin', 'flagel', 'vallvidrera', 'repartirà', 'infraroig', 'indecents', 'rèpliques', 'avalen', 'raimat', 'cuiden', 'afusellaments', 'traslladada', 'poblades', 'interrogatius', 'cosmologia', 'katanga', 'mba', 'enteses', 'dui', 'reflexionen', 'fessis', 'talons', 'sortiré', 'hindemith', 'enfocades', 'plantejo', 'cingles', 'quitrà', 'ficada', 'vigilia', 'cocodril', 'deixadesa', 'borratxos', 'oreig', 'fiqueu', 'aprofités', 'ocasional', 'exemplificar', 'distants', 'sat', 'vitaldent', 'ziga', 'boixadera', 'comuniqués', 'herbei', 'fair', 'barallant', 'sorollós', 'actuaria', 'anticomunista', 'arrelats', 'difunta', 'intuir', 'admetia', 'eternes', 'enlairat', 'desarmat', 'pausadament', 'enyorança', 'grops', 'emportava', 'boletes', 'recanvis', 'fulard', 'menuda', 'malifetes', 'aaa', 'antiavalots', 'firmava', 'panís', 'furgar', 'veuríem', 'saqueig', 'odontòlegs', 'sql', 'obr', 'excrement', 'acollia', 'cromosòmiques', 'dígrafs', 'jeje', 'bullint', 'duaner', 'encenen', 'percussió', 'madures', 'lear', 'buidatge', 'sollat', 'utilitzés', 'tornaren', 'remeieres', 'menstrus', 'puntí', 'giné', 'reactor', 'sepulcral', 'spitfire', 'involuntari', 'breda', 'creuades', 'candelaria', 'loqueu', 'homenots', 'arbitrarietat', 'armillas', 'meuca', 'ribagorçana', 'innat', 'deal', 'filòloga', 'bilbeny', 'barqueta', 'facilitaran', 'conservatoris', 'sotmet', 'enduts', 'participada', 'inspirades', 'retocs', 'seguissin', 'cuyàs', 'gues', 'intensives', 'aspros', 'bmal', 'suprimit', 'obtindrem', 'disconformitat', 'atansaven', 'centralista', 'rígids', 'moran', 'supramunicipals', 'blackburn', 'daw', 'dirigim', 'arpa', 'nipons', 'ross', 'xàtiva', 'divises', 'ajupir', 'correspost', 'xxii', 'libertad', 'microbi', 'convalescència', 'adoneu', 'esquers', 'sotabosc', 'higiènic', 'místiques', 'ojc', 'vilna', 'aleixandre', 'coldre', 'sender', 'descobridor', 'angèlic', 'lòbuls', 'zarzuela', 'plasmar', 'raquetes', 'desperten', 'televisors', 'jules', 'unís', 'imperiosa', 'protectors', 'taulells', 'atots', 'acústica', 'catalogar', 'empírica', 'jxsí', 'ambres', 'obtús', 'conservaran', 'idescat', 'graduada', 'ecopotential', 'purins', 'situaria', 'insecticides', 'guarden', 'lps', 'nèstor', 'estrenu', 'permesos', 'reporta', 'devot', 'retrobaran', 'inglés', 'baranes', 'posaren', 'avortar', 'pollença', 'chester', 'reconduir', 'williams', 'misto', 'arcades', 'interconnexió', 'esquadres', 'treurà', 'dela', 'incoherent', 'wertheim', 'transcendent', 'health', 'calvià', 'stettin', 'arajs', 'combinaran', 'belle', 'sagdeg', 'tacat', 'oient', 'flascons', 'esperaria', 'sociolingüístic', 'vàter', 'baronessa', 'grotesques', 'morim', 'llenas', 'lustrats', 'mutants', 'repetien', 'conti', 'desprestigi', 'insight', 'austro', 'admiradors', 'marginat', 'estúpids', 'browning', 'admesos', 'josafat', 'ressonar', 'immigrada', 'alfabetització', 'primigènia', 'avesats', 'maxil', 'llicenciar', 'survey', 'enraonen', 'placeta', 'diverteix', 'rojals', 'sobrepassa', 'jordiada', 'arianització', 'recomanades', 'examinen', 'maltractats', 'preproducció', 'compassos', 'deshidratació', 'requejo', 'adoctrinar', 'senyorial', 'dragon', 'dorsch', 'resoltes', 'corregida', 'hípica', 'bavosos', 'abissals', 'blondi', 'adorm', 'bellsolà', 'johanna', 'guardo', 'neurorehabilitació', 'rhur', 'cegues', 'condicionant', 'emporto', 'reprendrà', 'telma', 'especuladors', 'contractacions', 'cervicals', 'comentades', 'tarafa', 'acero', 'indian', 'miocardi', 'cega', 'requereixi', 'recorreguda', 'prevosti', 'estadístics', 'noticiari', 'nh', 'ninetes', 'joaquin', 'xacres', 'pakistanès', 'continuats', 'flassada', 'rokossovsky', 'relatat', 'temeritat', 'reptar', 'executades', 'repugnància', 'ignars', 'disgustar', 'virós', 'ninyo', 'triangular', 'individualitzat', 'pagués', 'naumann', 'restringir', 'excedir', 'reunint', 'transmissors', 'puntetes', 'férem', 'vinci', 'injustes', 'indestructible', 'tempos', 'reichsleiter', 'arbitrària', 'atc', 'redactarem', 'biogràfic', 'qualques', 'òrfena', 'donc', 'assegurats', 'divins', 'pensà', 'dublín', 'sexistes', 'intentes', 'trena', 'ledesma', 'alpins', 'quadra', 'dengue', 'igualats', 'pirinencs', 'reconeguin', 'pandoravirus', 'jepi', 'olivares', 'buidant', 'semipresencial', 'catorzena', 'ridiculitzar', 'esquelètica', 'severament', 'titi', 'altruista', 'culinari', 'gosaria', 'objeccions', 'imputa', 'dominguez', 'marxin', 'erronis', 'scientific', 'laxe', 'prometen', 'gallardón', 'quartes', 'luc', 'academy', 'carres', 'traslladades', 'mitjanament', 'propagandística', 'ordinaris', 'embornal', 'reivindiquem', 'imperialista', 'xarona', 'afectaven', 'ramis', 'enganyen', 'oprimits', 'fermentació', 'piquer', 'absorbit', 'fotuts', 'abstinència', 'bioètica', 'marisqueria', 'percebuda', 'vori', 'canviarien', 'satisfactoris', 'llencem', 'fractures', 'repatriació', 'coordinen', 'toques', 'peó', 'guatemala', 'meditar', 'quedeu', 'forçosament', 'bits', 'interceptat', 'nuvi', 'tèrboles', 'vitet', 'seleccioneu', 'extenses', 'còsmic', 'apoderat', 'concedia', 'massot', 'empassa', 'conrear', 'reiterada', 'transitiu', 'albagés', 'ocasionals', 'aconsegueixin', 'àries', 'monòlit', 'academia', 'amargat', 'descobreixen', 'enderrock', 'encetada', 'estranyesa', 'afavorida', 'corregiu', 'selectivitat', 'vana', 'predicat', 'massalcoreig', 'bechstein', 'parlessin', 'avenida', 'solitaris', 'rosegar', 'sardines', 'alterats', 'mujeres', 'volcànic', 'convinació', 'esquadrilles', 'menyspreable', 'panda', 'contraportada', 'debilitats', 'mortífer', 'barna', 'expressem', 'primaveral', 'alon', 'durava', 'cartolina', 'endreçat', 'encaminat', 'desats', 'casp', 'predicar', 'cogombre', 'stülpnagel', 'afirmaven', 'revelava', 'quantitativament', 'falguera', 'bh', 'lean', 'denunciem', 'atançar', 'badava', 'allargant', 'quioscos', 'subtítols', 'numeració', 'naixença', 'llegeixin', 'suquets', 'rigoroses', 'equipades', 'gilbert', 'enfellonit', 'dediqués', 'atzavara', 'desava', 'significaria', 'somieig', 'gamper', 'indult', 'farrés', 'versàtil', 'iceberg', 'guasch', 'atans', 'corporation', 'vuelta', 'llavaneres', 'vestuaris', 'sionistes', 'respectaria', 'inquieta', 'exageració', 'dràstiques', 'clariana', 'xops', 'cataclisme', 'substantives', 'pujaria', 'materialment', 'conseqüentment', 'esglaiat', 'escurçó', 'adhereixen', 'frac', 'provava', 'incombustible', 'mataronins', 'pesquera', 'definiran', 'bin', 'rodejada', 'eteris', 'gèlid', 'onzè', 'estomac', 'rachel', 'powell', 'genesis', 'curvatura', 'schmitt', 'tragués', 'repassarem', 'correrà', 'estadista', 'eur', 'tàrraco', 'avuí', 'malaltissa', 'triades', 'multitudinari', 'ainhoa', 'entusiasmar', 'patch', 'defensarem', 'passives', 'descobrirà', 'mesalles', 'controvertida', 'lleixava', 'mtb', 'biomecànica', 'paradigmes', 'crisàlide', 'dissenyant', 'adorable', 'neurològica', 'cunç', 'arraconat', 'dindi', 'batibull', 'febleses', 'sotrac', 'neurològiques', 'adoració', 'fragmentat', 'deficiència', 'desapareixer', 'marian', 'descobria', 'tànger', 'lrsal', 'rendís', 'temperades', 'autòmat', 'fòbia', 'cobreixi', 'golejades', 'tarruella', 'vigorós', 'rajava', 'començarien', 'carola', 'usuals', 'apropiada', 'reproductives', 'grasas', 'encomienda', 'cisco', 'semàntica', 'pagerols', 'impassible', 'ufa', 'flueix', 'repetim', 'llargària', 'tony', 'obriu', 'desistir', 'desafortunat', 'trompada', 'delecions', 'prenyada', 'ofèn', 'barroers', 'allunyen', 'ultratomba', 'capdavanteres', 'forster', 'écija', 'quans', 'paredes', 'mataria', 'carballo', 'avergonyir', 'mudat', 'cedida', 'espejo', 'motogp', 'aprofundit', 'assolí', 'relluent', 'premiava', 'bandarra', 'relliscava', 'pertorbació', 'dinamitzada', 'petards', 'imminents', 'descartats', 'wiessee', 'sorres', 'optatiu', 'inaccessible', 'remarcant', 'ronyons', 'disciplinats', 'enfonsades', 'autoodi', 'excentricitat', 'cassino', 'llobeta', 'xafatolls', 'replantejament', 'fictes', 'extradició', 'rozas', 'diarrea', 'sociològica', 'qualitatius', 'goteo', 'continuades', 'fantasmal', 'matisar', 'poe', 'divergents', 'coincideixo', 'tints', 'persuasiva', 'tor', 'pazos', 'topic', 'llonganissa', 'coavaluació', 'renaixentista', 'jajajaja', 'democratització', 'minnesota', 'vélez', 'federalistes', 'poguessis', 'xibiu', 'lúnic', 'emmagatzema', 'estètiques', 'lletrat', 'canto', 'sardina', 'snp', 'planetàries', 'comentes', 'colpit', 'detallen', 'enginyeries', 'rodion', 'panzergrenadier', 'ibm', 'capficar', 'proxima', 'enderroc', 'tirarem', 'lícita', 'ressuscitat', 'comporti', 'desastrós', 'oportunistes', 'horitzontals', 'residuals', 'queixal', 'surf', 'matias', 'tròfica', 'tietes', 'rad', 'laven', 'clúster', 'fumava', 'bb', 'ahtisaari', 'nanopartícules', 'craviotto', 'dis', 'sorollada', 'guru', 'cistells', 'momento', 'llenceu', 'may', 'legalització', 'disfrutat', 'borbòniques', 'contraproduents', 'botet', 'eslaus', 'fumet', 'spring', 'trattoria', 'assenyats', 'depenem', 'subordinació', 'pactada', 'exuberant', 'bàrbar', 'anhels', 'abaratir', 'castellbò', 'hereditàries', 'irrisoris', 'albrecht', 'bonaigua', 'boina', 'nuet', 'repercutir', 'ariza', 'nando', 'relíquia', 'pulsacions', 'valoreu', 'modestia', 'revisada', 'naixia', 'superioritats', 'òssies', 'locomotores', 'pòquer', 'notem', 'ibarretxe', 'vino', 'negror', 'magnetosfera', 'aclucalls', 'vanes', 'poch', 'tiva', 'castilla', 'perpetuar', 'pregons', 'expósito', 'secessionista', 'tiurana', 'destret', 'adotzenat', 'rectitud', 'glaçades', 'barbie', 'ambisist', 'mancha', 'estacional', 'lizarte', 'colombianes', 'aconsellen', 'esdevingueren', 'cirerer', 'defenso', 'bossòst', 'cambiar', 'paròdia', 'osta', 'rabiüts', 'cancell', 'serpeta', 'redacta', 'farga', 'sals', 'ressolució', 'combatut', 'grotescament', 'filosòfiques', 'esdevindran', 'inverteixen', 'ensinistrats', 'delirant', 'esclarir', 'trucaires', 'estigma', 'benicarló', 'renyar', 'recreatives', 'neologisme', 'frb', 'melons', 'desperts', 'dallas', 'inventant', 'frivolitat', 'cic', 'enees', 'casaments', 'torralba', 'manaven', 'suspesos', 'incívics', 'asunción', 'preixana', 'xifrat', 'palabassano', 'atansat', 'lienas', 'marmota', 'pedal', 'jb', 'pollosos', 'hipopressius', 'gèlida', 'proletariat', 'endorfines', 'suporta', 'puguessin', 'jeu', 'catalogades', 'montaner', 'adeleradament', 'trames', 'estorts', 'fèretre', 'bunsen', 'forrellat', 'desacreditar', 'moderarà', 'gelada', 'gegantesc', 'convenients', 'acidesa', 'rabiosa', 'xarons', 'culets', 'esperés', 'despullada', 'runner', 'plasmodium', 'ondara', 'concessionari', 'subespècies', 'fregava', 'circadià', 'rigorosos', 'abocats', 'repenjada', 'begoña', 'comptades', 'matricula', 'eslovacs', 'after', 'benifets', 'intolerant', 'eclesiàstic', 'lira', 'slalom', 'abjectes', 'successors', 'contemplaven', 'substituís', 'gbif', 'nicole', 'fabulós', 'refinat', 'rajaven', 'voltat', 'investigui', 'encaixava', 'frederica', 'insultava', 'llorca', 'aigüera', 'justificava', 'auster', 'figuretes', 'degué', 'ingressà', 'mormols', 'discorre', 'illots', 'negaven', 'busch', 'cardaven', 'juas', 'special', 'chip', 'epidemiològica', 'enfrontem', 'antigua', 'arquitectònica', 'garmendia', 'cooper', 'aureli', 'asclat', 'carregador', 'briefing', 'contribuiran', 'emprèn', 'flocs', 'gela', 'centenària', 'marcus', 'descarat', 'command', 'apaivagar', 'abatuda', 'xanascat', 'alterna', 'composar', 'plenipotenciari', 'fisicoesportiva', 'indiqui', 'moriré', 'acostumem', 'band', 'circunstància', 'supersticiós', 'geomètrica', 'escoltats', 'reuniran', 'retrunys', 'celeste', 'esmenten', 'romandran', 'subcampiona', 'receptari', 'punyents', 'rufián', 'noelia', 'explota', 'pigmentació', 'ocine', 'esgarriat', 'extingits', 'farreras', 'rabit', 'irrevocable', 'ryan', 'centralitzada', 'llatinoamericans', 'mengual', 'mostrà', 'annelies', 'micky', 'evolucionen', 'pagés', 'clemente', 'elogia', 'interrogatiu', 'davantal', 'vittorio', 'gabri', 'pugó', 'pujarem', 'flotant', 'llançades', 'contrasten', 'maltractada', 'comprendrà', 'lladra', 'acomiadava', 'obsolets', 'acpv', 'proteics', 'rubricatus', 'casolanes', 'nao', 'psicòlegs', 'tarja', 'seelow', 'fulletó', 'sudamericans', 'desconec', 'miles', 'devorar', 'uhmans', 'safari', 'empraren', 'fortificada', 'jimmy', 'sociovergència', 'rajos', 'adoradors', 'òptims', 'matusser', 'fitch', 'parapent', 'moniatos', 'desvincular', 'retinguts', 'quatres', 'degoteig', 'redactora', 'ypf', 'warthegau', 'xafarderies', 'incompatibilitats', 'còrtex', 'presenciat', 'rd', 'udet', 'vesper', 'intacta', 'nouvinguda', 'ensinistrament', 'eó', 'protagonitzats', 'acolorits', 'tiets', 'entrevistada', 'prismàtics', 'assenyalaven', 'mauser', 'barbes', 'declarés', 'forense', 'fregits', 'simpatitzant', 'pólvora', 'leucèmia', 'deteriorat', 'consums', 'cronològic', 'honorar', 'caminants', 'pipinet', 'dividia', 'lloros', 'premiada', 'estimeu', 'gavaldà', 'miner', 'elàstiques', 'reporters', 'stewart', 'encreuaments', 'environment', 'peiper', 'actualitzats', 'guardades', 'sociosanitari', 'aixarop', 'steve', 'puyi', 'lluu', 'dependenta', 'agreuja', 'trenqués', 'performance', 'asiàtiques', 'acrediten', 'carèlia', 'dibuixava', 'instantàniament', 'multidisciplinaris', 'fireta', 'denota', 'derrotant', 'foragitar', 'commoure', 'ninotet', 'confluir', 'serví', 'eròtica', 'patiria', 'zoologia', 'tondo', 'txus', 'testosterona', 'dedicarem', 'vejam', 'punxa', 'jovencell', 'geganters', 'denegació', 'vijares', 'triomfadors', 'àgata', 'coincidiran', 'esventats', 'cruanyes', 'peris', 'propagar', 'enteníem', 'eminent', 'valiente', 'impedien', 'mestissatge', 'naomi', 'xiulen', 'embenat', 'biosca', 'tritó', 'apuntin', 'monotonia', 'chter', 'visitada', 'revolucionàries', 'calero', 'firmant', 'traductora', 'aclamar', 'moixons', 'dias', 'enregistrades', 'orificis', 'temptacions', 'explicareu', 'temporers', 'lluités', 'horroritzats', 'ensinistrar', 'puix', 'vegueries', 'coneguessin', 'duplicat', 'bateu', 'llastima', 'fotré', 'agitació', 'thriller', 'crucials', 'majestic', 'teixidor', 'wolfgang', 'imputar', 'evans', 'toronto', 'abraçades', 'eberhard', 'conceptualització', 'colp', 'calçar', 'menéndez', 'progre', 'proliferen', 'tertsch', 'sortirien', 'arizona', 'superilles', 'virulència', 'quinzenals', 'integrarà', 'invertirà', 'cardaires', 'irritada', 'recordarem', 'confegir', 'apoptosi', 'verals', 'antanyasses', 'esparracat', 'einsatzgruppe', 'beixamel', 'ocupi', 'noisy', 'wedding', 'imparcialitat', 'subterrània', 'enfilat', 'visualment', 'titllant', 'thule', 'armeni', 'solcs', 'mandatari', 'fermat', 'erts', 'contradictoris', 'vanta', 'telegram', 'periodico', 'advertint', 'mudes', 'conservada', 'irreversibles', 'euskera', 'obrin', 'declari', 'shaef', 'kamikazes', 'compatibilitzar', 'vicesecretari', 'pinus', 'visionari', 'convertim', 'despertant', 'interruptor', 'aixa', 'festives', 'boníssimes', 'terratinents', 'hipotètics', 'inapel', 'concursants', 'informaven', 'senyalant', 'subies', 'rosegava', 'urquinaona', 'vivencial', 'suplementari', 'mòrbid', 'brownsea', 'nodriment', 'sistach', 'polan', 'quadrimotors', 'sustenten', 'ventrell', 'comprador', 'horizons', 'ronyós', 'afoll', 'escot', 'tendinitis', 'subsòl', 'xiulant', 'esmunyit', 'disponibilitats', 'completeu', 'cambrià', 'comunico', 'distorsió', 'votades', 'jaquetes', 'reprenen', 'bordar', 'carandell', 'chikungunya', 'agradant', 'zeus', 'bocs', 'funcionarà', 'enquadrat', 'enganxi', 'desmarcat', 'realitzaren', 'malacidines', 'bureba', 'apellat', 'mitgesmerdes', 'topall', 'aprovin', 'arrupit', 'pinso', 'sindicalisme', 'lego', 'portbou', 'psicòtic', 'insolent', 'burleta', 'bruce', 'fotuda', 'enderrocament', 'òptics', 'escaiences', 'entreno', 'belzec', 'ccc', 'oldans', 'priego', 'analitzaren', 'spee', 'proposin', 'introduirà', 'retana', 'administrat', 'adveniment', 'objecció', 'inoblidables', 'fornada', 'basnou', 'perdrem', 'marginació', 'helen', 'rondava', 'consternat', 'sauló', 'governats', 'jajjs', 'anticatalana', 'arrupidet', 'clatellot', 'amèlia', 'cornet', 'viviparisme', 'punyetera', 'dependran', 'homologació', 'desagradables', 'connivència', 'epidèmic', 'endinsat', 'malícia', 'involuntàriament', 'perisé', 'missiva', 'legiata', 'coorganitzat', 'beneficiari', 'agaró', 'coralls', 'malavella', 'prieto', 'lhèida', 'burlar', 'feec', 'tremenda', 'intentaria', 'lluentor', 'barroca', 'identitaris', 'sobreesforç', 'sauna', 'limfàtic', 'disputava', 'laic', 'bolígraf', 'transfronterera', 'equitació', 'validades', 'falsificacions', 'atreu', 'guingueta', 'valorarem', 'garneus', 'obtenim', 'apnea', 'heretges', 'ullal', 'estructurades', 'gènic', 'cerverí', 'downhill', 'beria', 'irla', 'immoral', 'fortí', 'genocides', 'convenir', 'mota', 'hebrea', 'anomenaria', 'consultades', 'malmeses', 'troia', 'creguis', 'encertir', 'plora', 'hereta', 'apollo', 'nargó', 'vistós', 'gaudiràs', 'cadells', 'lf', 'miners', 'esquís', 'ponç', 'rifa', 'avinents', 'guardada', 'lliurant', 'vèrtebres', 'expressiu', 'direbel', 'najat', 'elàstics', 'saborós', 'caires', 'amanir', 'folklore', 'sevas', 'claupassat', 'bellugava', 'rodet', 'oster', 'crearan', 'condemnem', 'comiats', 'reverté', 'lafuente', 'construís', 'edificacions', 'espitxar', 'pornografia', 'opcionals', 'escherichia', 'discriminatori', 'avellaneda', 'nadiu', 'olímpiques', 'sosa', 'sisa', 'recuperades', 'sentí', 'polinyà', 'irlandesos', 'alcoholèmia', 'articlet', 'transferits', 'funcionin', 'mascla', 'maquineta', 'avial', 'sigmund', 'florit', 'plantejaran', 'contaminat', 'judicialment', 'stephan', 'confirmades', 'ganxos', 'contindrà', 'corrompuda', 'expectant', 'estanc', 'regeix', 'engrandir', 'fiodor', 'pressentiment', 'xarnego', 'suscitar', 'precipitat', 'afectaran', 'ccr', 'truquen', 'trotski', 'fonia', 'escse', 'dionís', 'abreviacions', 'desarmats', 'hòstia', 'licors', 'defensaran', 'tàpia', 'macroeconòmic', 'suez', 'atemorits', 'folke', 'autòcton', 'ficaren', 'curva', 'debatrem', 'subproductes', 'desviats', 'visor', 'forallac', 'elaborarà', 'xemeneies', 'devastadors', 'seleccio', 'estimbar', 'abissal', 'primerenc', 'australopithecus', 'gàrgola', 'alternar', 'lituans', 'rhc', 'veres', 'moles', 'ventís', 'llatinoamèrica', 'connecti', 'antigor', 'corresponguin', 'presumeix', 'empipat', 'incomplint', 'sudàfrica', 'vetllen', 'mesells', 'anglosaxó', 'apuja', 'oportuna', 'concorda', 'alegra', 'gèniques', 'neixement', 'mecenatge', 'residien', 'nigèria', 'pacífiques', 'pauls', 'tossuda', 'halldor', 'modestes', 'farnat', 'inhibidors', 'wales', 'lucinacions', 'litorals', 'trona', 'txell', 'clement', 'buenafuente', 'esbufegat', 'antropòleg', 'patufet', 'malastrugança', 'aeet', 'ceti', 'litigi', 'expo', 'austera', 'governi', 'corregudes', 'faríeu', 'excusat', 'distensió', 'metropolitan', 'afanya', 'recarregar', 'debatem', 'guaiten', 'provocaven', 'peculiars', 'recordés', 'multipliquen', 'diminut', 'cinematogràfiques', 'obvietat', 'embús', 'premier', 'colorado', 'mutua', 'envà', 'humiliacions', 'atreveixen', 'ànsia', 'riures', 'rotondes', 'buffet', 'pausat', 'proliferacions', 'localitzats', 'centenaris', 'escissió', 'graz', 'filtrat', 'eulalia', 'rectors', 'aprima', 'arqueòlegs', 'rendibilitzar', 'corresponien', 'òssia', 'dispersos', 'defineixi', 'peta', 'adoberia', 'fós', 'rodolí', 'escoltés', 'retireu', 'homologats', 'plovia', 'disminueixen', 'naixements', 'sortejat', 'templers', 'sabons', 'vesc', 'neudeck', 'baby', 'program', 'escatxics', 'cordialitat', 'inestables', 'suspensius', 'adverbial', 'especies', 'prospecció', 'insubmissió', 'durien', 'rebeu', 'salvadors', 'fonètic', 'virgínia', 'seta', 'nipona', 'odis', 'pallaresos', 'sonaven', 'pastis', 'acabàvem', 'istme', 'enfaldillats', 'ometre', 'pregones', 'renoi', 'celebrés', 'abruptes', 'calamarsa', 'esponges', 'intrínsec', 'trimestrals', 'stefanescu', 'assolides', 'compilació', 'deserta', 'animaven', 'polsos', 'empedrats', 'infantó', 'inevitables', 'bibliogràfic', 'magnètiques', 'safont', 'preten', 'penedia', 'peculiaritat', 'plantejarà', 'llovet', 'ambigüitats', 'finalitzaran', 'requalificació', 'visqués', 'cedides', 'redéu', 'greta', 'loquials', 'objectivament', 'eritja', 'facturar', 'descrèdit', 'assíduament', 'edificar', 'dolf', 'mostraren', 'struthof', 'ventres', 'passejos', 'questions', 'notaris', 'enllestides', 'acceptessin', 'guam', 'aparegués', 'petroquímica', 'lactància', 'nantes', 'penjarà', 'eixordador', 'lvov', 'sinapsi', 'aportem', 'brúixola', 'bari', 'pífies', 'validacions', 'pagina', 'entro', 'inacció', 'sobreviuen', 'alacantins', 'bigas', 'arrivar', 'ensopegades', 'damnificats', 'penetra', 'visquessin', 'anaya', 'examinat', 'suat', 'anorèxia', 'beguts', 'alacantí', 'frustrada', 'garrofes', 'impedeixi', 'dem', 'pyrenees', 'rivero', 'asseguraven', 'preservat', 'dormitoris', 'rc', 'fulards', 'roquer', 'encaixen', 'bakker', 'condal', 'publiqui', 'aplaudia', 'alternarà', 'provocador', 'ajuntem', 'trending', 'imposicions', 'duch', 'tòxica', 'obsoleta', 'mudats', 'ipa', 'voto', 'entretingudes', 'cassigall', 'invertebrats', 'estaca', 'encantadora', 'hereva', 'tòniques', 'turca', 'tingudes', 'fugitius', 'obtingué', 'nadala', 'condemnades', 'cela', 'extremitat', 'abellots', 'fiques', 'diferencies', 'instantani', 'musiques', 'colón', 'montero', 'guareix', 'destacaven', 'commemoratives', 'civilitzada', 'sensiblement', 'necessitaríem', 'patronals', 'tripartits', 'baioneta', 'barrufets', 'calmant', 'bonus', 'tovalló', 'isnell', 'apunti', 'nàutica', 'consumidores', 'prohibint', 'reivindicada', 'embotir', 'penitència', 'federatiu', 'diagrama', 'minvar', 'serés', 'uni', 'uttigen', 'emprenyats', 'lloba', 'mauritània', 'atribució', 'vaguistes', 'pinós', 'bay', 'anéssim', 'atònit', 'rialler', 'castes', 'expedeix', 'patètica', 'descomunals', 'mossegada', 'fabricava', 'dot', 'cecília', 'torremolinos', 'transcórrer', 'importats', 'majestat', 'animalot', 'esguarden', 'hipotètiques', 'garra', 'perversa', 'gentrificació', 'respectada', 'accua', 'escapant', 'doblem', 'fixava', 'difosa', 'desentendre', 'aportades', 'martos', 'bioindicadors', 'genialitat', 'messina', 'progenitors', 'orquídies', 'diabètics', 'leixen', 'ebn', 'memorables', 'rne', 'militarisme', 'alzira', 'compliments', 'egea', 'vallesà', 'trekking', 'xais', 'lleials', 'jump', 'desengany', 'arrere', 'forneixen', 'laborativament', 'reforçarà', 'equivoco', 'enverinament', 'batzacs', 'negocia', 'sortits', 'sígfrid', 'ficte', 'sedueix', 'interventor', 'orgue', 'interpretant', 'laboracionistes', 'bifurcació', 'perplexitat', 'uniformitat', 'ambigu', 'afegí', 'òxids', 'encanten', 'albinisme', 'aitanta', 'llarguerut', 'aparegudes', 'òxid', 'pie', 'exòtica', 'basquet', 'liquidat', 'embalat', 'care', 'turing', 'etiquetats', 'formigueig', 'comunicatius', 'yamato', 'murtra', 'docs', 'desmantellat', 'empipar', 'abjecte', 'cardades', 'xarrupar', 'engelbert', 'organitzarem', 'laborista', 'turísticament', 'luminades', 'serbis', 'formulada', 'agreujat', 'sabers', 'memoria', 'mariàngela', 'descrivia', 'bledes', 'alzinars', 'salten', 'charlotte', 'visats', 'atzagaiades', 'bernd', 'atempta', 'montgarri', 'consultats', 'àcida', 'reafirmació', 'duet', 'excitació', 'punxó', 'intenti', 'custodis', 'fascinants', 'sagrades', 'sinca', 'enjogassats', 'contraban', 'despatxar', 'estupefaents', 'veraç', 'aventurer', 'consistiran', 'borrall', 'batecs', 'finançades', 'interpretats', 'ongs', 'brenner', 'geolocalització', 'massallera', 'torné', 'reflectides', 'difereix', 'arbitrat', 'fotéssim', 'cajal', 'talibans', 'repapieig', 'recintes', 'finalitzin', 'trascendent', 'manzanares', 'voss', 'codificar', 'migratòries', 'abusives', 'anticòs', 'binari', 'segú', 'keita', 'oportunista', 'biomecànics', 'ganyes', 'messenger', 'marginats', 'pazo', 'morfològica', 'adrecin', 'fabricats', 'sentides', 'missatgeria', 'ekke', 'nouvingut', 'xy', 'mantingué', 'establí', 'similarment', 'argentines', 'metropolitanes', 'sectarisme', 'hla', 'pòstuma', 'folklòrics', 'desinformació', 'simpatitzava', 'timor', 'xicotella', 'practicarem', 'aquitània', 'sopat', 'comento', 'termal', 'contrastades', 'golejats', 'defensés', 'ingressats', 'anomenant', 'pepet', 'cals', 'anticatalanisme', 'fronterera', 'ètnica', 'reciprocitat', 'retornant', 'vàlues', 'marsé', 'alhama', 'ubicarà', 'siegfried', 'apostin', 'telòmers', 'arranjar', 'descontrolada', 'declinar', 'ficta', 'tornejos', 'compensada', 'cornella', 'innova', 'superflu', 'asfixiants', 'pubilla', 'sulfat', 'subsidis', 'nick', 'enriquidores', 'musa', 'bellíssima', 'vicky', 'consonància', 'enganyem', 'atrevida', 'arrossegats', 'detractors', 'maquillat', 'cocoon', 'wc', 'eip', 'provincians', 'medicines', 'basals', 'cnt', 'dinamitar', 'executives', 'punset', 'imperis', 'diades', 'hectàrea', 'adormia', 'ensopit', 'vigilés', 'enverinar', 'assajant', 'sòlits', 'inflables', 'tolls', 'loeb', 'ressonen', 'argumental', 'sesrovires', 'quimioteràpia', 'motion', 'xirinacs', 'prediu', 'rescindir', 'nelson', 'recambró', 'cus', 'obscena', 'contestava', 'esvelt', 'rolls', 'prodigiosa', 'esquerp', 'rally', 'christopher', 'abellia', 'coixinets', 'ejectat', 'tremola', 'comprats', 'mafiós', 'rebutgem', 'campanades', 'generosos', 'agredits', 'okupa', 'inefable', 'escorreguda', 'purgatori', 'vestimentes', 'díes', 'reportat', 'invitar', 'equanimitat', 'entraren', 'ensumat', 'servirien', 'liciti', 'veié', 'aconseguissin', 'indueix', 'caricatura', 'catastròfic', 'impulsarà', 'obsessiva', 'defensaria', 'alineats', 'moulin', 'porus', 'xalet', 'prestigiosos', 'disfrutant', 'marro', 'peixet', 'tere', 'biogràfiques', 'bengala', 'cartilla', 'acciona', 'sorollet', 'muntanyans', 'compto', 'masos', 'severs', 'sustenta', 'marinada', 'ressuscitar', 'graderies', 'premiarà', 'egoistes', 'metabòlic', 'nicolàs', 'invàlids', 'desglaç', 'anarquia', 'cobla', 'comentaran', 'autocorrecció', 'riem', 'dansaires', 'constança', 'armènia', 'jugueu', 'sturmbannführer', 'kebab', 'exregidora', 'honorables', 'fellgiebel', 'mortrir', 'garriguenc', 'wine', 'jet', 'eixoriveix', 'inexplicable', 'toy', 'supèrbia', 'desgracia', 'jerarquies', 'domino', 'dog', 'loma', 'mafia', 'pogrom', 'hispano', 'estancament', 'bufeta', 'topa', 'villalonga', 'senior', 'cortes', 'resultes', 'royes', 'montroig', 'fallen', 'instauració', 'fruiteria', 'pili', 'gc', 'peludes', 'rostar', 'llençà', 'ànsies', 'funerària', 'proporcionades', 'craig', 'harmònics', 'expositor', 'kassel', 'planys', 'nebulosa', 'sotssecretari', 'comproven', 'eunuc', 'espenta', 'hiniestrosa', 'escandinàvia', 'desmilitaritzada', 'somàlia', 'intermèdies', 'riurem', 'litovsk', 'alma', 'yes', 'molestos', 'indemnitzar', 'justo', 'apreciava', 'sigla', 'jatetxea', 'sorprenen', 'íncoles', 'nociu', 'putin', 'centralització', 'tendó', 'soprano', 'desobe', 'arousa', 'mètriques', 'triplicat', 'lagares', 'porpra', 'pausada', 'escènics', 'andres', 'vosstrasse', 'expulsions', 'cuervo', 'encantades', 'barderi', 'víric', 'joao', 'pereira', 'montalegre', 'insalvable', 'postula', 'defensin', 'patrocina', 'priva', 'nidéu', 'cronòmetre', 'comprensiu', 'lamento', 'nanjing', 'reincorporat', 'implícit', 'iborra', 'comptador', 'tomares', 'desarmament', 'consciències', 'respectem', 'exempta', 'estepa', 'interdisciplinària', 'atia', 'anàlegs', 'homologades', 'napoleòniques', 'organitzaven', 'intermediació', 'rialletes', 'esperades', 'pangermanisme', 'fenosa', 'varias', 'anni', 'aristòtil', 'moltke', 'juanma', 'benitez', 'contentes', 'blas', 'silenciament', 'estación', 'miscel', 'gokhman', 'esgarip', 'múrria', 'hauría', 'eec', 'dúgol', 'provinciana', 'sabina', 'pèndol', 'rosari', 'marqueu', 'age', 'requadre', 'peñafiel', 'alineat', 'distreta', 'espectació', 'dilemes', 'buffalo', 'elda', 'montalbán', 'informadors', 'televisives', 'lés', 'contraproduent', 'estrenava', 'soterrat', 'cambados', 'blement', 'allerat', 'preceptes', 'setzens', 'trpm', 'pujats', 'subversiu', 'exempt', 'hiedler', 'regalet', 'excitat', 'lesa', 'gènit', 'tolbujin', 'artritis', 'furor', 'adornada', 'hospitalització', 'gamarussos', 'plegui', 'rath', 'pensiu', 'pectoral', 'llucmajor', 'aposti', 'boti', 'emplaçaments', 'massó', 'bikepark', 'acostant', 'oblidi', 'onomatopeies', 'solem', 'vasculars', 'putada', 'confidencials', 'este', 'publicitàries', 'alanina', 'oferís', 'tsarista', 'condemnen', 'rotífers', 'pacios', 'madre', 'ordino', 'artigas', 'epíleg', 'squash', 'aura', 'concorreguda', 'preuats', 'predomini', 'pessimisme', 'bucle', 'assessment', 'polivalents', 'guineus', 'atorgava', 'exigirà', 'escolen', 'dirigiria', 'implorar', 'barrufet', 'scharnhorst', 'durem', 'stanley', 'sàvies', 'slàlom', 'escampats', 'led', 'escàpol', 'detector', 'finestral', 'mengi', 'delictius', 'fuet', 'minor', 'kubizek', 'sip', 'orografia', 'davallen', 'radicalisme', 'mijaran', 'mendraig', 'bodenan', 'betalú', 'respectables', 'robaven', 'oblics', 'ibars', 'insegura', 'exsudats', 'avisava', 'temporalització', 'causals', 'naufragi', 'enlluernament', 'war', 'beget', 'dòmina', 'escèptics', 'flamarades', 'passallibres', 'votava', 'burguer', 'abassegadora', 'fetal', 'dots', 'medes', 'autovies', 'españols', 'equiparar', 'malentesos', 'sumaven', 'rígida', 'creixerà', 'olimpíada', 'reduiria', 'genital', 'cidis', 'qualifiquen', 'reavaluar', 'aflat', 'zacaries', 'enfortit', 'laborava', 'immarcescible', 'quaix', 'estefanía', 'robava', 'acceptarà', 'sectes', 'pastissers', 'vaivens', 'oculars', 'diesa', 'dominats', 'tolt', 'putrefacta', 'pagarien', 'ctra', 'tronat', 'extremenys', 'burros', 'leakey', 'pròspera', 'tirol', 'protegeixen', 'stevia', 'deliberadament', 'ribagorza', 'union', 'estèril', 'esperarà', 'commemorem', 'proverbial', 'sortiren', 'mediocres', 'monsà', 'balsareny', 'santpedor', 'efímerament', 'kurfürstendamm', 'finestrals', 'malbaratar', 'indiquem', 'fleca', 'importnat', 'existencial', 'bimotors', 'aloma', 'porucs', 'osor', 'mauro', 'sardanistes', 'suggeria', 'maldonado', 'criades', 'computacionals', 'vanitós', 'dràcula', 'erta', 'plomall', 'acadèmies', 'oss', 'escaure', 'vimeo', 'divisa', 'enginyós', 'madona', 'caviar', 'manresà', 'circunstàncies', 'apadrinament', 'purrialla', 'inexorable', 'enlluernadora', 'cranial', 'colossals', 'incisiu', 'abastar', 'omissió', 'intocables', 'imaginant', 'falsificació', 'llobera', 'petersen', 'faraó', 'farcides', 'quinto', 'destrossa', 'reafirmat', 'rigurosa', 'merdanya', 'lografia', 'acollits', 'talma', 'intervindrà', 'weil', 'fecyt', 'simultani', 'genealògic', 'escarransides', 'agredeix', 'hs', 'digerir', 'planell', 'luke', 'programàtiques', 'cruspit', 'retransmissions', 'comprometien', 'cavista', 'pistolers', 'esola', 'oferí', 'peticionari', 'acomiadem', 'cardiorespiratòria', 'esperó', 'arrenqui', 'entrevinenteses', 'restringida', 'bilió', 'carrizosa', 'piaac', 'accepto', 'feeling', 'pateixin', 'celorrio', 'transformadors', 'pretensiós', 'atendrà', 'polidor', 'absolució', 'complexe', 'cridanera', 'inviolable', 'liga', 'acaronava', 'fanalets', 'altafaj', 'respectuosos', 'maximitzar', 'ginestà', 'lumínica', 'tripulacions', 'enterrada', 'regnar', 'bengales', 'duanera', 'grandet', 'dogmàtics', 'batent', 'guardià', 'luisa', 'gentussa', 'lucinat', 'rellotgeria', 'carranxes', 'geographic', 'contrincants', 'fallaires', 'ideològicament', 'bose', 'automatitzada', 'danek', 'emergeixen', 'balbs', 'glàndules', 'bioquímics', 'resilients', 'rovellades', 'horizon', 'morin', 'gelosies', 'malmesos', 'contitufion', 'fisiològic', 'prorrogar', 'creuava', 'febres', 'eròtiques', 'rescatats', 'agradan', 'complau', 'insatisfacció', 'palestí', 'híbrids', 'operant', 'sòn', 'preciosos', 'agermanament', 'fda', 'sebollit', 'demostrà', 'impugnar', 'ecsa', 'islamisme', 'adoptats', 'toxina', 'esbossos', 'porcions', 'comparats', 'danyada', 'cassó', 'sicaris', 'jon', 'dissol', 'mandrós', 'daf', 'incorporades', 'bisexuals', 'acostumava', 'rebessin', 'obriria', 'ficades', 'animi', 'unio', 'pregàries', 'ideòleg', 'economics', 'contradictòries', 'edubaròmetre', 'histèrics', 'tallaven', 'exhaust', 'conjuguen', 'parkinson', 'hermètica', 'obscenitats', 'discretes', 'interrogació', 'rodava', 'partners', 'gestar', 'ide', 'ariel', 'disparen', 'clarors', 'leds', 'velocistes', 'majestuosa', 'reservant', 'shalom', 'facturae', 'martino', 'gastats', 'paradigmàtic', 'sabotatges', 'jua', 'integradors', 'manfred', 'untat', 'accedeixi', 'débora', 'recompensat', 'tanoca', 'escorxat', 'esbarriats', 'rocallós', 'unipersonals', 'asclar', 'triomfa', 'espònsor', 'obtenien', 'crespín', 'resumeixen', 'impartint', 'tanqueu', 'edouard', 'aplico', 'depredació', 'modestament', 'dipositades', 'salvi', 'permeté', 'apareguda', 'assimilat', 'actués', 'mútues', 'trenes', 'fondistes', 'pedregós', 'fecals', 'acròpolis', 'tractor', 'partícip', 'extrasolars', 'sisplau', 'moritz', 'ensenyem', 'baixarà', 'enzes', 'engreixar', 'originen', 'fidelment', 'podíeu', 'cuidadors', 'hidroavió', 'rascar', 'pentinat', 'perjudicada', 'voste', 'contestant', 'transportats', 'ompli', 'fideus', 'magnat', 'inaferrable', 'puríssima', 'neue', 'gàngsters', 'capturades', 'foca', 'bústies', 'alimentant', 'contemplat', 'ski', 'exageradament', 'haixix', 'coltell', 'idil', 'expressin', 'cosit', 'endevinen', 'tirats', 'reimagine', 'ki', 'vastes', 'envistes', 'emocionats', 'intendent', 'opel', 'depleció', 'susceptibilitat', 'sotmeten', 'asics', 'esbós', 'punyal', 'manipulacions', 'ploraven', 'potenci', 'escriuré', 'senyoria', 'prem', 'codifiquen', 'escoltarem', 'introduit', 'antitancs', 'bolla', 'ansiosa', 'arraconar', 'comtats', 'immensitat', 'espores', 'vassalls', 'disculpeu', 'esmerçar', 'constitucionalistes', 'encinas', 'tello', 'bertomeu', 'labors', 'intestí', 'sallant', 'amenitzar', 'diocesana', 'cóppulo', 'arbitrari', 'pectorals', 'seguiren', 'villalba', 'envejable', 'monòxid', 'senyalitzats', 'classifica', 'resumint', 'pronunciem', 'department', 'oprobi', 'ampliacions', 'obrissin', 'lèxiques', 'homenatjats', 'constituents', 'odontocets', 'patits', 'trencaria', 'tossut', 'albí', 'yang', 'bug', 'surava', 'ecofisiologia', 'gramàtiques', 'embassaments', 'recitava', 'parellada', 'negats', 'miniatura', 'entrenes', 'comercialitza', 'playmobil', 'testa', 'difoses', 'presagis', 'volguts', 'denominades', 'pensaves', 'universitaries', 'companyerisme', 'bocabadats', 'user', 'polímers', 'llençades', 'entrebancar', 'niem', 'modificades', 'idriss', 'interlocució', 'beneficiarà', 'vans', 'voraviu', 'encerta', 'eriçat', 'autosuficiència', 'venter', 'evidenciat', 'confiscats', 'mourà', 'interessaven', 'predica', 'ornamentals', 'anterio', 'mitte', 'afavorirà', 'xangai', 'germinals', 'carotes', 'desertor', 'rodejava', 'entredit', 'leyte', 'caguerot', 'ensenyarà', 'granets', 'telegrames', 'tenía', 'francesco', 'prehistòrics', 'estrebar', 'biscaia', 'santedat', 'molesten', 'editades', 'dentals', 'dotzè', 'descontentament', 'ansiosos', 'powerful', 'compàs', 'gfmh', 'annexes', 'somàtica', 'silvestre', 'textile', 'bebè', 'ponderat', 'escarbats', 'provoqui', 'tornaríem', 'realitzes', 'remscheid', 'relacionava', 'cartogràfica', 'resguard', 'subsistir', 'reims', 'yeremenko', 'dígraf', 'fox', 'arrogància', 'dualitat', 'mímica', 'respirem', 'ecología', 'perllongar', 'entendrà', 'reitsch', 'vocabularis', 'polifenols', 'refondre', 'esbroncada', 'vidkun', 'fressa', 'apujada', 'espectacularment', 'korps', 'juste', 'irònica', 'definirà', 'crc', 'homenic', 'ajuntat', 'siscu', 'tarragonins', 'redundant', 'flaix', 'escultural', 'patirà', 'visualitzador', 'balaña', 'trident', 'profusió', 'invertint', 'ivette', 'invertits', 'mencionava', 'inteligent', 'cons', 'kropotkin', 'portis', 'neró', 'tretzè', 'ainé', 'mistral', 'chus', 'manifestin', 'essomba', 'assignarà', 'tendir', 'ronald', 'ultimant', 'descentralitzada', 'rossellonès', 'mítiques', 'cañete', 'píndola', 'astrònom', 'exit', 'tapava', 'tageblatt', 'moltissim', 'esbarzers', 'cruspeixen', 'catalanofòbia', 'pasos', 'seba', 'perfilant', 'prioritzi', 'textures', 'marinus', 'ferret', 'ernesto', 'permetessin', 'lluirà', 'higuera', 'patio', 'funes', 'feixes', 'centol', 'cald', 'ràtios', 'polsegós', 'ufec', 'uh', 'debatent', 'anglosaxona', 'espada', 'presas', 'lúcida', 'observades', 'aferrissada', 'autoocupació', 'rajola', 'fanoc', 'retocar', 'paraulotes', 'comtessa', 'ineluctablement', 'ullets', 'fí', 'duque', 'immediatesa', 'andromeda', 'perseguien', 'ayamonte', 'quedaren', 'generaran', 'guai', 'duríssima', 'consultis', 'mayer', 'clausurar', 'intervindria', 'llogarret', 'rabí', 'entregarà', 'filagarses', 'bonesa', 'catedrals', 'enfortint', 'engonals', 'panteres', 'balenfiano', 'repartida', 'treballaré', 'mesquina', 'recolliren', 'quintí', 'pertocava', 'demes', 'ojd', 'convocants', 'pupil', 'imaginaris', 'coneguí', 'hominins', 'assec', 'òptiques', 'airet', 'nedadors', 'espavilat', 'sueques', 'rosada', 'requisar', 'antifeixistes', 'ayuntamiento', 'entaular', 'pienc', 'antiterrorista', 'indignes', 'comptà', 'orió', 'isar', 'volt', 'plàcidament', 'copets', 'interactua', 'torrox', 'transitar', 'guifré', 'generosament', 'rmyn', 'adoptarà', 'metagenòmica', 'driblat', 'doctorals', 'alli', 'pilotatge', 'clavell', 'exaltació', 'nani', 'identificativa', 'proposeu', 'graduà', 'ètnia', 'okupes', 'ani', 'brian', 'vagabund', 'schwarz', 'honoraris', 'invicte', 'mantinguts', 'gürtel', 'nry', 'opa', 'ipad', 'efeminat', 'bufons', 'despertava', 'retiren', 'redefinir', 'apliquem', 'peninsular', 'hiverns', 'vehemència', 'repeteixin', 'nitrats', 'aprovant', 'gotthard', 'schwanenwerder', 'paios', 'immunologia', 'fulgurant', 'buirac', 'anecdòtic', 'simplicitat', 'proporcionava', 'eixampla', 'eixuts', 'establirà', 'abusius', 'diagnosticat', 'consolidi', 'knochen', 'estabornit', 'copas', 'àrid', 'obviament', 'hondurenya', 'focalitza', 'quotidianament', 'gegantesca', 'mantindrem', 'jacuzzi', 'provocadors', 'aeronaval', 'scouts', 'arribaré', 'fbi', 'ganivetada', 'cofundadora', 'unión', 'treps', 'migrades', 'tirin', 'respondrà', 'avidal', 'sopo', 'xocolatada', 'envola', 'burell', 'costanera', 'quieta', 'kike', 'estelles', 'heras', 'domiciliari', 'serral', 'malinovski', 'campillo', 'freestyle', 'extraescolar', 'promiscu', 'ofensa', 'quiets', 'desitjades', 'ruina', 'bombardejats', 'troguet', 'parentesi', 'questió', 'mostrin', 'incomprensibles', 'tiso', 'cox', 'orxata', 'square', 'pretengui', 'antifeixista', 'llicencia', 'conduiran', 'elegíac', 'fitar', 'ironitzat', 'decidien', 'estiguéssim', 'còctels', 'sagunto', 'manillar', 'parlarien', 'creuaven', 'empíriques', 'situem', 'quimet', 'duarte', 'monoplaça', 'llegidor', 'rèdits', 'críticament', 'giro', 'engloben', 'subscriptors', 'dornier', 'comunicant', 'simulacres', 'allargava', 'actuem', 'empenyen', 'àvids', 'bagul', 'setó', 'entendrem', 'initiative', 'maya', 'incorporà', 'impaciència', 'indigne', 'asaja', 'declaren', 'intervinguda', 'transitòriament', 'lions', 'esgotada', 'màfies', 'reeixits', 'ascensors', 'terrissa', 'correpallars', 'centaure', 'catxo', 'quimera', 'destrueixen', 'democristià', 'conciutadania', 'camarada', 'dispersa', 'penalitzacions', 'esborronadors', 'vinaròs', 'capturada', 'anselm', 'descobriu', 'burg', 'esquelètiques', 'eliminades', 'desorientat', 'luzon', 'oficialitzar', 'eleanor', 'confirmés', 'pulsar', 'pitxixi', 'pedró', 'dofí', 'ligerància', 'giuseppe', 'termòmetre', 'esforçant', 'esquirols', 'jeroniet', 'binària', 'gurri', 'retrà', 'mèdols', 'vilanovins', 'tramitant', 'predit', 'becerra', 'treuran', 'virals', 'subtitulat', 'baixaria', 'concís', 'capricis', 'barrejada', 'pregària', 'multidisciplinària', 'hiperbòlica', 'restaurada', 'alcorcón', 'mencionat', 'estrafent', 'començats', 'actualitzen', 'collado', 'importen', 'combinarà', 'edda', 'tancaments', 'recepcionista', 'estimades', 'antiretrovirals', 'iniciades', 'check', 'egeu', 'bac', 'acolorides', 'sepultura', 'pijos', 'totipotencials', 'davallat', 'arcas', 'archibald', 'cavitats', 'cercapous', 'escapades', 'hipòxia', 'modèlic', 'inescandallable', 'patrocle', 'sibís', 'penjoll', 'regentats', 'minutets', 'kelly', 'petacci', 'perseverant', 'negociants', 'derrotistes', 'humanitari', 'argot', 'somescola', 'assalts', 'embalums', 'chaplin', 'burxa', 'aconseguiren', 'montalvo', 'cunetes', 'davallaven', 'corrosiu', 'clapant', 'pulmonars', 'cosas', 'encapçalant', 'praxi', 'gastant', 'seqüencial', 'escopetes', 'decreixent', 'inesperats', 'lenari', 'acompanyaria', 'esdevingudes', 'mendoza', 'pogueren', 'gimenez', 'sifré', 'minis', 'molestia', 'calerons', 'fiqui', 'decidides', 'torrada', 'encoberta', 'txecoslovaca', 'disrupció', 'fluir', 'arregla', 'laboratives', 'entranyes', 'malawi', 'agafaria', 'cloisters', 'ames', 'raymond', 'movem', 'amparo', 'trinxat', 'mux', 'inadequades', 'periòdics', 'marquesa', 'parentals', 'sedec', 'jersey', 'habitada', 'diabòlica', 'amanits', 'iqoxe', 'neguitosa', 'explotat', 'excèntrica', 'liam', 'inservible', 'preacord', 'igualadahc', 'cfl', 'suquet', 'aprox', 'talúries', 'audi', 'paola', 'mamut', 'papalló', 'rodons', 'koniev', 'amorosos', 'montenegro', 'aixelles', 'barregem', 'naqvi', 'naixem', 'somrients', 'lapsat', 'boulogne', 'trencacolls', 'coneixíeu', 'abastir', 'pegat', 'witzleben', 'suances', 'troncals', 'conqueridors', 'atzucacs', 'calmat', 'tercermundista', 'felices', 'samaranch', 'segureta', 'mind', 'desproporcionat', 'transcriptòmica', 'convertí', 'nàquissos', 'confidències', 'assemblar', 'entusiasmats', 'locutors', 'fòrmules', 'ent', 'inconscientment', 'onyar', 'macau', 'catacrec', 'procuro', 'comportin', 'policy', 'sortejarà', 'voltor', 'insten', 'licula', 'hahaha', 'eufemisme', 'tapeu', 'cabaret', 'mango', 'veura', 'imprevist', 'traurem', 'atm', 'collbató', 'standard', 'alfàs', 'emparar', 'price', 'santana', 'minyoneta', 'processionària', 'pensessin', 'muniquès', 'recife', 'unilateralment', 'assumida', 'despertador', 'dignataris', 'aixafats', 'lter', 'juventut', 'relacionant', 'amistòs', 'importancia', 'anunciarà', 'warlimont', 'muntanyosa', 'ú', 'fruir', 'resultin', 'avalada', 'llongament', 'instruir', 'lra', 'oberführer', 'histèria', 'microorganisme', 'musulmanes', 'carregava', 'paranoia', 'nabius', 'fasci', 'villajoyosa', 'nasal', 'rajant', 'sonderkommando', 'repicar', 'mestresses', 'nicolás', 'gabaldon', 'ligerants', 'escalivada', 'pèricles', 'alteren', 'juro', 'cruiser', 'khan', 'palomar', 'estufa', 'traeix', 'goethe', 'rondalles', 'envasos', 'transformarà', 'adrecem', 'bunyol', 'distretament', 'morfològic', 'tanatoris', 'malnom', 'gallo', 'respectuoses', 'atrevits', 'traslladarà', 'vern', 'fomenti', 'metafísica', 'expulsant', 'esgotades', 'primitives', 'emprenyador', 'piquets', 'óscar', 'reconeixer', 'arrendaments', 'burro', 'artís', 'frikis', 'guionets', 'avel', 'comportamentuals', 'deslliurar', 'embriac', 'tipa', 'vampir', 'xanguet', 'acostaven', 'barons', 'peixauet', 'ribalta', 'visitades', 'damisel', 'hernàndez', 'herrero', 'glaciació', 'interdepartamental', 'totalitaris', 'comunicador', 'universalitat', 'accedim', 'descobriran', 'noria', 'grills', 'collonuda', 'maestro', 'lípids', 'corall', 'guadalupe', 'ulldecona', 'deforestació', 'dron', 'intocable', 'estalzí', 'girarà', 'doraemon', 'faccions', 'mantindrien', 'tennista', 'totalitària', 'arrapa', 'enze', 'campen', 'maldat', 'unim', 'maia', 'quedarem', 'münster', 'calmés', 'ausiàs', 'escoltessin', 'dramàtiques', 'vadillo', 'inversemblants', 'brilla', 'deseixir', 'doblats', 'nieves', 'diels', 'alertant', 'recolzats', 'fidelització', 'esborrarà', 'redueixi', 'sosteniment', 'ioruba', 'raus', 'inventades', 'guardarà', 'umflat', 'colonials', 'repartien', 'paràmetre', 'descansi', 'pedrós', 'asensio', 'estri', 'cardener', 'augmentin', 'rèiem', 'exentrenador', 'smartphones', 'trenquin', 'oac', 'metastàtica', 'reposa', 'trondheim', 'ressona', 'vilarasau', 'brichs', 'refundació', 'ruquet', 'calleja', 'malferit', 'alleugerit', 'avials', 'duplicacions', 'afavorits', 'cònsola', 'pilotar', 'frigorífic', 'insultaven', 'fertilització', 'photo', 'garantits', 'cuinats', 'maltractat', 'xerra', 'pesticides', 'shek', 'spf', 'entomòleg', 'companyonia', 'recreatiu', 'abraçats', 'multitudinàries', 'toquem', 'retir', 'esplèndids', 'zubizarreta', 'serres', 'tardat', 'christa', 'donzella', 'animalons', 'codonys', 'desconfits', 'boya', 'dover', 'jpg', 'greiser', 'softcatalà', 'falenes', 'trimestralment', 'concertació', 'bodenschatz', 'nacionalitzar', 'morris', 'equí', 'equivalen', 'armamentista', 'espavilar', 'idomeneu', 'falcons', 'laborin', 'infecciós', 'paneroles', 'emblemes', 'enrabiada', 'donota', 'ibex', 'deixats', 'gravitatòries', 'pijo', 'cridòries', 'carisma', 'desbordat', 'dubtant', 'desdentegat', 'objectives', 'puntualitza', 'habilitant', 'doria', 'trepigs', 'aixequem', 'elector', 'fotessin', 'mònita', 'prolífic', 'bibiana', 'apadrinar', 'jam', 'renèixer', 'nòria', 'observà', 'burocràtic', 'vaginal', 'gurdon', 'pedreta', 'subconscient', 'filleta', 'preferim', 'pseudònims', 'dissenyen', 'gotetes', 'indescriptible', 'inconstitucional', 'foster', 'polimerasa', 'cut', 'ensenyin', 'advanced', 'imprevisible', 'bibliogràfiques', 'houston', 'sacres', 'solvents', 'aberracions', 'cohorts', 'epanó', 'berchesi', 'guardeu', 'mereixes', 'diminutiu', 'riallera', 'historiadora', 'acordionistes', 'gargot', 'persisteixen', 'apareguts', 'terras', 'arxivar', 'agenollat', 'estudiés', 'brasileres', 'selvatans', 'paus', 'preferien', 'espetecs', 'ponderacions', 'termodinàmica', 'pari', 'escaigut', 'minimitza', 'círculo', 'estretet', 'escalfeu', 'àvila', 'comunicada', 'examens', 'champminyons', 'semblà', 'entusiasmada', 'votés', 'bonfill', 'jejeje', 'psa', 'condensada', 'indestriables', 'ràfega', 'lcsp', 'carrión', 'airways', 'acurades', 'defraudar', 'incineració', 'embruten', 'designada', 'quiroga', 'love', 'cubà', 'intercalar', 'imperiosament', 'imprudència', 'seti', 'afegirem', 'dickinsonia', 'carmena', 'controlés', 'accedeixin', 'candanedo', 'empastifat', 'darwinisme', 'natalie', 'croscat', 'mundialment', 'fenollosa', 'llegats', 'mostressin', 'finiment', 'empitjora', 'fotràs', 'ubics', 'traca', 'indiscriminada', 'esbojarrats', 'sorprendrà', 'subdelegat', 'numèriques', 'súpercopa', 'pesen', 'ciudadano', 'calòrica', 'penetrants', 'dorencament', 'gui', 'ratifica', 'pelvià', 'desbocat', 'desconsoladament', 'gascon', 'barcelonisme', 'horroritzada', 'xarnega', 'gardeny', 'assoleixin', 'bridget', 'biomolècules', 'senda', 'abassegador', 'barallat', 'ballarina', 'urpa', 'huerta', 'escuat', 'sri', 'reaparèixer', 'celta', 'albúmina', 'rangs', 'llindars', 'excloents', 'lelismes', 'propina', 'ifn', 'posseeixin', 'arranz', 'erres', 'mediada', 'bittrich', 'torreforta', 'beneficiaran', 'nàutiques', 'guapo', 'provincia', 'muniquesa', 'ruga', 'braga', 'expedits', 'suavitzar', 'pastar', 'avisant', 'recíprocament', 'milita', 'sedes', 'utrera', 'pixant', 'ultracuidança', 'victimisme', 'cridada', 'rucada', 'soul', 'meridionals', 'premeu', 'versemblança', 'governadors', 'convivencia', 'composat', 'aguadulce', 'lleugeresa', 'madorell', 'infecciosos', 'liquencity', 'reconversió', 'homologat', 'sixto', 'lucia', 'notés', 'abandonaria', 'monago', 'preserven', 'fortificació', 'castellfollit', 'penjaran', 'noticiaris', 'xenòfobs', 'telemàticament', 'ofegats', 'exposaven', 'acompleix', 'navalla', 'nocera', 'acolorit', 'enganxant', 'sapastres', 'brams', 'autodidacta', 'punxar', 'onejar', 'empíric', 'torniol', 'plançons', 'arquitectòniques', 'remunerat', 'pilotat', 'cast', 'millorable', 'anders', 'nanoconjugat', 'anglés', 'infidelitats', 'perseguida', 'miseria', 'bestiota', 'bausili', 'gests', 'escandinaus', 'palmer', 'subhastes', 'signades', 'rònegues', 'enfurismada', 'urdiales', 'imitacions', 'gaspatxo', 'exultant', 'pàncrees', 'bosons', 'vílchez', 'semble', 'emmanillat', 'intrigat', 'assumeixin', 'colin', 'pútrids', 'llegua', 'paré', 'triatleta', 'complementarietat', 'desviacions', 'protagonitzant', 'kilòmetre', 'anàleg', 'assabenta', 'desencant', 'espàrrecs', 'heidelbergensis', 'stresemann', 'escridassat', 'powerpoint', 'senties', 'reportera', 'fumadors', 'cantos', 'kreisau', 'canviada', 'guten', 'pintora', 'nf', 'coníferes', 'vilagarcía', 'restrictives', 'dolls', 'sua', 'guariment', 'glucocorticoides', 'perennes', 'frustracions', 'fraseologia', 'celebraria', 'creixell', 'decideixes', 'borra', 'nagasaki', 'remençada', 'convoqui', 'amfitrions', 'mequinensa', 'lorna', 'enfonsaven', 'ocorren', 'kurita', 'heliocèntrica', 'trepitjava', 'autoritzacions', 'envoltant', 'agònic', 'suportable', 'changing', 'diatomees', 'vilatans', 'brollen', 'cami', 'deliciosos', 'aranesos', 'argumentari', 'jane', 'semipresencials', 'virons', 'estúpida', 'duce', 'acollint', 'absorbeix', 'lliurades', 'antiinflamatoris', 'tiges', 'caminet', 'indicarà', 'bote', 'ignara', 'úter', 'transformades', 'foro', 'evaporació', 'pròrrogues', 'recolzen', 'glaçons', 'notarà', 'raiers', 'becaris', 'avancés', 'tutorització', 'merit', 'oradures', 'zurich', 'ascendeixen', 'adéus', 'grumoll', 'albedo', 'contret', 'intersecció', 'ajorna', 'atot', 'representi', 'arsèguel', 'prosperat', 'transilvània', 'estanislau', 'mecenes', 'benaurats', 'sentirem', 'grolleres', 'sar', 'sorollets', 'rojos', 'punxeguts', 'caminadors', 'opacs', 'industries', 'paes', 'ficcions', 'garantiment', 'xitxarel', 'motllo', 'transplantaments', 'enèssima', 'bullent', 'mengin', 'catalònica', 'estoig', 'formadores', 'silici', 'atri', 'estronca', 'californià', 'còmiques', 'teníen', 'gram', 'flossenbürg', 'sau', 'tans', 'dominadors', 'escuredo', 'querelles', 'sorneguer', 'putrefactes', 'guanyades', 'llegiria', 'carmelo', 'hohenlychen', 'tastava', 'pelats', 'sky', 'expoli', 'esclet', 'arxivers', 'remordiment', 'remull', 'ressons', 'caòtiques', 'farratge', 'sentimentals', 'multiplicació', 'arnada', 'flak', 'llarena', 'morat', 'pitjant', 'cortès', 'esquelètic', 'edy', 'saurí', 'aspb', 'enduent', 'afectes', 'formaria', 'pastissets', 'profesional', 'tecnic', 'sorrut', 'montpalau', 'vilamòs', 'carcasses', 'clausurat', 'traumes', 'visa', 'desgranat', 'rabents', 'ajustant', 'triava', 'gravitacional', 'penosa', 'renovats', 'institu', 'hasta', 'gavines', 'himmle', 'salinitat', 'empata', 'segrestats', 'pures', 'assitència', 'collonets', 'aücs', 'pífia', 'esdrúixola', 'escapçar', 'porcina', 'glaceres', 'condemnava', 'johns', 'kid', 'newton', 'ibiza', 'eixelebrats', 'cobrirà', 'what', 'environmental', 'boirós', 'payero', 'bàrbares', 'rauff', 'suraven', 'haguéssiu', 'bajanada', 'potenciat', 'mafiosa', 'indiana', 'xd', 'copilot', 'dubten', 'ressegueix', 'blitz', 'leeds', 'dediquin', 'guerxina', 'brama', 'cebrián', 'convuls', 'olimp', 'event', 'retall', 'icm', 'compagina', 'harnack', 'apreta', 'repúbliques', 'pervivència', 'rentable', 'mazon', 'supersticiosa', 'entenedors', 'legítimament', 'caminen', 'jota', 'ttip', 'demència', 'llima', 'prohom', 'advoca', 'convertiran', 'escombrar', 'cartutxos', 'lívia', 'multisectorial', 'casaria', 'planador', 'greal', 'fev', 'mils', 'esvelta', 'pateixo', 'endevinava', 'pareu', 'emperadors', 'krüger', 'batista', 'contrastos', 'malnutrició', 'cedís', 'microscòpic', 'cruixent', 'gavin', 'forbes', 'somme', 'gratuita', 'mn', 'xato', 'chang', 'amenaçadors', 'sastres', 'bufanda', 'esclafats', 'organitzés', 'capil', 'guy', 'caiman', 'acordats', 'conflictiva', 'bogotà', 'dn', 'teula', 'fugissin', 'polpa', 'luminava', 'rondaven', 'fracassats', 'genetics', 'loquialment', 'sopaven', 'subjecta', 'tus', 'meteors', 'sudacas', 'tranquila', 'modèlica', 'merdacaners', 'popes', 'antiretroviral', 'endomembranes', 'predicador', 'coneixereu', 'condicionats', 'plantant', 'oafi', 'saudita', 'ressentits', 'estripat', 'mobilitzant', 'hotelers', 'suissa', 'paradisíaca', 'crustacis', 'rave', 'mafiosos', 'desdeny', 'insinuat', 'capita', 'rànquings', 'habilitarà', 'compel', 'prematurament', 'inèrcies', 'phe', 'metzler', 'guanyàvem', 'autocorrectius', 'resolguin', 'evadir', 'predicatiu', 'baum', 'mongòlia', 'ostensiblement', 'agulletes', 'sotmés', 'engruna', 'vesicular', 'islandès', 'inics', 'bocaterrosa', 'rabegen', 'eritrea', 'emmagatzemat', 'nàquisses', 'neurotransmissors', 'empesa', 'artèria', 'distingits', 'vo', 'tornareu', 'salazar', 'suplementació', 'aureus', 'imaginària', 'paletes', 'vacarisses', 'substitueixi', 'enduriment', 'increpar', 'extremis', 'medusa', 'patològic', 'ensorrat', 'topografia', 'alcorà', 'darré', 'oldà', 'atreta', 'familiaritat', 'emprenya', 'continui', 'estreps', 'timidesa', 'miraré', 'mercadal', 'guspires', 'impartides', 'fúnebres', 'menàrguens', 'renegat', 'examina', 'fosfolípids', 'orba', 'exhibeixen', 'flauta', 'después', 'contagis', 'ignomínia', 'investigués', 'paies', 'foscúria', 'denegat', 'bosseta', 'partidisme', 'kripo', 'bletchley', 'resina', 'farines', 'esgarrifa', 'costosa', 'compensacions', 'baroja', 'rostir', 'bombo', 'roden', 'traspassos', 'polarització', 'acarona', 'flash', 'nineta', 'pinar', 'ovari', 'talòs', 'domèstiques', 'reforçades', 'ominós', 'reclusió', 'ingressa', 'psíquic', 'alameda', 'aniquilada', 'protagonitzades', 'abs', 'women', 'obedient', 'kohima', 'cronològicament', 'fotografiat', 'mostassa', 'carpes', 'rosich', 'empalat', 'picabaralles', 'rfa', 'suposicions', 'desencantat', 'teheran', 'coneguis', 'fenomenal', 'constaten', 'colombia', 'slcmir', 'vich', 'cedeixen', 'brusc', 'ipsofacte', 'efectuats', 'aup', 'prenguessin', 'espona', 'avantpassat', 'wmap', 'invita', 'rònecs', 'assetjada', 'culleradeta', 'laris', 'buscàvem', 'repressiva', 'ennuvolat', 'trade', 'germain', 'watts', 'fusteria', 'kènia', 'papil', 'parot', 'nyicris', 'sutura', 'rebregats', 'xassís', 'accentuat', 'assistirem', 'recorreran', 'llaurar', 'neurociències', 'masdeu', 'reproduint', 'neuengamme', 'llor', 'identificaren', 'mandarí', 'abant', 'autogestió', 'quirúrgic', 'cremin', 'golafre', 'vinyals', 'incomprensió', 'serio', 'perjudicant', 'tènue', 'submergit', 'sometent', 'circells', 'moralistes', 'jenn', 'trempa', 'rodolins', 'retruny', 'defuig', 'símil', 'contrapès', 'orlandai', 'telescope', 'anestèsia', 'pelayo', 'nínxols', 'ardits', 'vith', 'origina', 'commonwealth', 'dietètica', 'irrisòries', 'delícia', 'apícola', 'oort', 'degrelle', 'denunciaven', 'carabassa', 'confosa', 'abandoni', 'colós', 'joshua', 'mooc', 'batllori', 'assegurem', 'cagaven', 'compraré', 'reunida', 'comportant', 'espaiosa', 'repensem', 'animeta', 'omnipotent', 'aclimatar', 'convenen', 'agradaría', 'testar', 'loli', 'pum', 'kerch', 'night', 'afegeixes', 'mols', 'luscs', 'ratpenat', 'tamayo', 'regalant', 'incisius', 'cinematografia', 'pistraus', 'peroxisomes', 'princeses', 'insubstitu', 'rodejaven', 'afectuós', 'card', 'dominical', 'frens', 'congelador', 'cregueu', 'ivaçosament', 'devorat', 'martha', 'estocs', 'normalitzada', 'extrany', 'suposaven', 'electró', 'aplicabilitat', 'ka', 'remenem', 'integri', 'selecta', 'virrei', 'flameta', 'rui', 'gabancho', 'retornada', 'sedós', 'qualcuns', 'destruirien', 'encariment', 'antàrtic', 'obrirem', 'destructiu', 'balquena', 'sénia', 'nounats', 'jotflic', 'coneixeria', 'zarautz', 'llesta', 'escuderia', 'carmenes', 'capitania', 'creuclavat', 'convulsa', 'aleatori', 'startup', 'trompeta', 'bàltica', 'recrea', 'bdm', 'iguala', 'geu', 'visitem', 'toscana', 'hpv', 'eriçats', 'gerres', 'socioculturals', 'pagà', 'refereixes', 'teguments', 'conjugats', 'peruà', 'mnac', 'picaven', 'impresentables', 'justificades', 'tarròs', 'mesozoic', 'restava', 'toldre', 'swing', 'naixien', 'irremeiablement', 'collada', 'decorada', 'deslocalització', 'rennes', 'jm', 'guadix', 'bio', 'sidrería', 'abunden', 'hamburgueses', 'cull', 'grandiós', 'faitís', 'sadernes', 'casellas', 'replegament', 'bruns', 'esforça', 'clip', 'avorrits', 'nomena', 'antiprotons', 'dinamitza', 'passegem', 'rebosteria', 'saboroses', 'remugant', 'sobresurt', 'espinguet', 'augsburg', 'colpejats', 'reforestació', 'litvinenko', 'sufixos', 'desacords', 'flamant', 'refús', 'calien', 'minidh', 'subaltern', 'deducció', 'pacificació', 'oulego', 'musculat', 'imbu', 'explorat', 'mullats', 'cardíac', 'esbufecs', 'corsair', 'morata', 'desocupats', 'epp', 'atengui', 'disease', 'expansiva', 'traude', 'apm', 'kiko', 'critiqués', 'hofacker', 'barbuts', 'desfavorables', 'escanyolit', 'llancés', 'siro', 'anella', 'immunològic', 'visceral', 'polida', 'verticalment', 'eher', 'gabi', 'presumida', 'prepararan', 'nolla', 'precursors', 'bonaventura', 'cook', 'conduí', 'hull', 'atretes', 'liu', 'neutralitzat', 'esperitat', 'volgueu', 'chavarria', 'almansa', 'bellament', 'savoia', 'divinitats', 'fermí', 'disruptives', 'impressionada', 'low', 'puntua', 'herències', 'heredia', 'llegiré', 'proverbi', 'rendissin', 'corpulent', 'horticultura', 'jerez', 'inferir', 'jesse', 'gremis', 'pigments', 'xacal', 'líptiques', 'moabit', 'fisioterapeutes', 'cronometrada', 'socórrer', 'degeneratives', 'kevin', 'ocaña', 'repenjar', 'denunciada', 'antibiòtic', 'ocuparan', 'hitleriana', 'bovera', 'jardin', 'tolerant', 'dietl', 'cerda', 'escombriaires', 'entonar', 'firmaria', 'refrigeració', 'alcañiz', 'legitimació', 'pessimistes', 'allioli', 'borbònic', 'monetària', 'flamenca', 'relator', 'destacaments', 'inacceptables', 'reflecteixi', 'matarien', 'assassinava', 'fecec', 'bilions', 'custo', 'ciudadela', 'mohnke', 'urbano', 'zapater', 'dahlem', 'populisme', 'requena', 'eliminaven', 'bajo', 'aniquilat', 'albufera', 'estandardització', 'grossdeutschland', 'serrar', 'lipski', 'iter', 'schlabrendorff', 'imaginable', 'encadenar', 'monde', 'enviaran', 'azul', 'eurogrup', 'artsport', 'illinois', 'nebe', 'sets', 'recapta', 'solventar', 'antón', 'costaneres', 'consumint', 'agaur', 'vivaç', 'acs', 'baja', 'kdf', 'nigsplatz', 'transcendentals', 'epidemiològics', 'ultims', 'pelegrinatge', 'manipulada', 'extraterrestre', 'tània', 'extremista', 'feldherrnhalle', 'baños', 'etziben', 'pertinaç', 'harmonitzar', 'graff', 'lladurs', 'viciós', 'empíricament', 'muscle', 'flotació', 'arroceria', 'reanimar', 'luxosa', 'ambigus', 'bürgerbr', 'negociador', 'farrero', 'èxode', 'briansk', 'acabaré', 'estavellava', 'deliberada', 'concedides', 'diagrames', 'equivocant', 'dragó', 'quietud', 'negligència', 'discuteixen', 'pugessin', 'magistrada', 'afectives', 'àligues', 'remolcat', 'ètnics', 'marcet', 'prendrem', 'mygov', 'ciutada', 'community', 'capir', 'galítzia', 'hipopòtam', 'dubtoses', 'confereixen', 'bilingües', 'imphal', 'ocultes', 'definien', 'arbitrar', 'vetllant', 'delort', 'plugim', 'amon', 'olmos', 'sanglas', 'cirerers', 'honradesa', 'lopes', 'ochoa', 'paso', 'annexar', 'plasencia', 'perales', 'hermanos', 'kempka', 'exoplanetes', 'bulímia', 'afellay', 'catradio', 'orígen', 'quilomètrics', 'congelada', 'emilia', 'escarola', 'bl', 'humorístic', 'escauen', 'revisaran', 'mitchell', 'transacció', 'jürgen', 'rèptil', 'donald', 'himenòpters', 'requadres', 'comprada', 'renovant', 'varoufakis', 'espiritualment', 'tradema', 'repassada', 'patriòtiques', 'grosse', 'tanquessin', 'kuiper', 'oceania', 'irreal', 'musclos', 'mesuren', 'callis', 'dubtem', 'patrilinial', 'fóssiu', 'consultors', 'vòrtex', 'anatòmic', 'lleonart', 'casalí', 'especimen', 'gao', 'estipula', 'escac', 'urdangarín', 'càustics', 'aeronàutic', 'historiografia', 'freelance', 'gripal', 'ctla', 'locarno', 'educa', 'vencent', 'micres', 'expliquis', 'inconfusible', 'entretinguts', 'arias', 'ambigua', 'sincers', 'lícits', 'participessin', 'animalots', 'praxis', 'finestrons', 'bloquejada', 'afrodita', 'orinar', 'sentiràs', 'hai', 'registrava', 'enviaments', 'autónoma', 'mensualitats', 'atrauen', 'desenvolupà', 'ujat', 'continuarien', 'vendeene', 'grollers', 'cronicitat', 'bicing', 'escorregut', 'esborronadorament', 'inma', 'glòbuls', 'díptics', 'precaris', 'alfabètic', 'endinsen', 'estiarte', 'cafetera', 'generalista', 'colgats', 'perilla', 'dació', 'merdoset', 'conéixer', 'esgraó', 'ji', 'desbloquejar', 'sumava', 'bestialitat', 'cruesa', 'imperdonable', 'marketplace', 'tatuatges', 'histories', 'activen', 'ariño', 'apostrofar', 'flaires', 'invitat', 'unionisme', 'rehabilitat', 'colofó', 'busqués', 'adquisicions', 'canoners', 'fearless', 'serralades', 'efak', 'consirava', 'hurricane', 'buix', 'agregació', 'barral', 'rateta', 'ant', 'verne', 'transporten', 'fonamentats', 'violades', 'promocionarà', 'loxera', 'referida', 'volten', 'ofegava', 'desviada', 'agafessin', 'gama', 'inflamatòries', 'trencà', 'estòrcer', 'darfur', 'reinaldo', 'escurçons', 'elna', 'aclaparador', 'penalitzat', 'fotíem', 'vambes', 'weobserve', 'ballava', 'letó', 'dialogant', 'demanessin', 'pediàtrica', 'bolero', 'punyalada', 'mànegues', 'gestioni', 'ray', 'descobrireu', 'cosmètic', 'desfilant', 'incentiu', 'mexicanes', 'aleksandr', 'odèn', 'sagalés', 'tràquea', 'confereix', 'gèns', 'escurçat', 'pintaven', 'hidrocarburs', 'csqp', 'gn', 'copròfag', 'amanós', 'nepomuk', 'rima', 'glioblastoma', 'corinna', 'manyac', 'cantors', 'prometeu', 'embats', 'amuntegament', 'girella', 'convenç', 'aproxima', 'alentir', 'llonganisses', 'lúcid', 'perforació', 'experimentada', 'botànics', 'gerds', 'astruc', 'atapuerca', 'saludaven', 'mobilitza', 'hereditari', 'vocàlics', 'adoptiu', 'hoy', 'emotives', 'biogeografia', 'treballàvem', 'gatzoneta', 'esdevinences', 'enjogassadament', 'instantànies', 'rebla', 'desaparegui', 'speed', 'boss', 'andròmina', 'descensos', 'gratament', 'deficit', 'mossades', 'oregon', 'hemoglobina', 'estrac', 'wake', 'nítida', 'moià', 'bellugueig', 'keller', 'votats', 'urbanitzacions', 'engrescadores', 'tàrtar', 'joiosa', 'plorosos', 'insolació', 'comí', 'hèlsinki', 'esvarat', 'budista', 'estatge', 'furtivament', 'castrense', 'inflamatoris', 'ensum', 'fascicle', 'pèptid', 'ficaré', 'receptiu', 'recombinant', 'derrotista', 'euskal', 'reduís', 'enllaço', 'restringeix', 'triturat', 'formo', 'ronden', 'prohibís', 'cortisol', 'quedaré', 'shakira', 'poruc', 'conexió', 'meravellar', 'xicotelles', 'banús', 'française', 'cappont', 'donàvem', 'presi', 'recordin', 'controlador', 'genòmics', 'comparades', 'justificacions', 'agosarat', 'cule', 'espolsar', 'reixach', 'disposaria', 'eximi', 'síndria', 'porró', 'templet', 'votarien', 'impulsin', 'uff', 'precepte', 'garbes', 'rosses', 'relaxants', 'cartipàs', 'catalogats', 'estepes', 'talis', 'metabòlits', 'nedador', 'sindrome', 'colpidor', 'explicitar', 'preguntés', 'extractives', 'miradors', 'rodero', 'derogar', 'previament', 'caparró', 'xamfrà', 'enfosquiment', 'actualitzacions', 'educational', 'neocòrtex', 'cobraran', 'marlen', 'estalviant', 'arrossegaven', 'procureu', 'empobrits', 'hobby', 'porca', 'canvio', 'extorsió', 'cadafalch', 'ullar', 'rouredes', 'fretura', 'boreals', 'marees', 'genives', 'monocle', 'sofregir', 'concabella', 'fluorescents', 'vermina', 'xorrades', 'reguli', 'hordes', 'polze', 'madalena', 'escollim', 'estudiaven', 'coronar', 'científico', 'rendeix', 'borni', 'femeducacio', 'tut', 'guerrilla', 'conjugat', 'nebodes', 'cantàbric', 'batiscaf', 'acostumant', 'study', 'vapors', 'ecos', 'fictícia', 'arrissats', 'dissenyaren', 'vilarrubí', 'tuf', 'enllaçant', 'serrells', 'planejada', 'absoldre', 'protozous', 'ducs', 'minso', 'acb', 'orientant', 'sci', 'lusionistes', 'recuperin', 'retoc', 'cacao', 'recaiguda', 'desinfectar', 'fiblades', 'provés', 'pacten', 'gestoria', 'sharp', 'escocesos', 'gale', 'sabotejar', 'sínia', 'neurològics', 'karen', 'dreceres', 'naixent', 'peuat', 'multiplicitat', 'impacients', 'exitoses', 'expressaven', 'absa', 'supersticiosos', 'poliinsaturats', 'peleu', 'matessin', 'abelliria', 'bayer', 'neoliberals', 'acrobàtics', 'samfaina', 'bilis', 'netament', 'sortíem', 'destralers', 'suprimeix', 'acomiadant', 'salla', 'deurien', 'ofrenes', 'eixalat', 'oblidarem', 'cruspien', 'francó', 'xò', 'pairal', 'decidirem', 'pescat', 'ficàvem', 'consirer', 'caracteritzats', 'silenciat', 'vainilla', 'expressives', 'prolongat', 'kyoto', 'menjarem', 'dimorfisme', 'ballarines', 'llampant', 'click', 'animes', 'catalanets', 'designer', 'cometària', 'valorin', 'llepafils', 'bodegues', 'eliminava', 'citocines', 'tònic', 'filogènia', 'habitables', 'aldo', 'estàveu', 'transvasament', 'sífilis', 'transportant', 'suburbi', 'netedat', 'immunes', 'mesurada', 'ventissa', 'veterana', 'estimulen', 'moratinos', 'pintoret', 'assum', 'projectant', 'trallero', 'colúmbia', 'abissos', 'duna', 'mediambient', 'desapercebuts', 'terrorífic', 'biòpsies', 'mundó', 'remissió', 'cagalans', 'cxcr', 'truqui', 'recuperés', 'clergat', 'marne', 'assistia', 'falsament', 'africa', 'anivellament', 'galapagar', 'alejandra', 'poli', 'tafalla', 'cercopitecoideus', 'terminològics', 'patriòtics', 'sabré', 'injustificada', 'laboro', 'assaja', 'peer', 'yon', 'prefecte', 'torero', 'acomplit', 'llegües', 'vírics', 'enjòlita', 'haikus', 'jaqueline', 'fotògrafa', 'morella', 'legislar', 'almadrava', 'lapsus', 'reintroducció', 'tindriem', 'neguiteja', 'referien', 'recular', 'atorgaran', 'aeroplans', 'estrepitosament', 'transbordador', 'arbós', 'dictatorials', 'càrniques', 'comprimit', 'paelles', 'laborables', 'xarranca', 'cometem', 'trepitjats', 'davos', 'tití', 'fosfatases', 'relacionem', 'brutus', 'ignot', 'viari', 'schmid', 'marino', 'precipitada', 'carlac', 'denuncies', 'neurodegeneratives', 'platea', 'difereixen', 'inquisitorial', 'contextes', 'càlids', 'terminològic', 'esponsorització', 'necessitarien', 'callao', 'heretabilitat', 'rostolls', 'fesalut', 'apliqueu', 'vitralls', 'reportar', 'hood', 'lax', 'condis', 'afolls', 'arnal', 'pertoquen', 'hispània', 'reafirma', 'rajoler', 'somort', 'benestants', 'gaudirà', 'trinidad', 'ballart', 'cascalls', 'organitzin', 'sorgeixin', 'proposaran', 'tuluyan', 'filipino', 'retrobem', 'dificilíssim', 'deportades', 'tartana', 'caiguin', 'galindo', 'avançarà', 'irritants', 'indubtablement', 'placoderms', 'bajona', 'olivan', 'darmstadt', 'bir', 'ziggurat', 'transformi', 'avantguardes', 'inhabilitat', 'lapsar', 'combinem', 'sofàs', 'prescripcions', 'trayter', 'pugin', 'boreal', 'beneficiant', 'cobraven', 'patrimonis', 'sobrar', 'concedís', 'estèrils', 'gilipolles', 'desconeixem', 'netejat', 'fanny', 'sintetitzen', 'hindi', 'massimo', 'triés', 'subjectius', 'citen', 'escapçada', 'magic', 'introduccions', 'atorgades', 'heterogènia', 'mico', 'bolcat', 'formarien', 'revisarà', 'marcelino', 'regalem', 'relacionals', 'malet', 'errar', 'patissin', 'barcino', 'pomar', 'aixecats', 'proba', 'coincident', 'capitalització', 'partenariat', 'respectiu', 'marquilles', 'louise', 'sanguinària', 'ducat', 'reticents', 'ajunten', 'repartia', 'gàmbia', 'foli', 'escaientment', 'jubilada', 'prenguem', 'paranys', 'beckmann', 'exitós', 'castellufa', 'expresar', 'conillet', 'involucrades', 'birmingham', 'fans', 'veciana', 'thorne', 'plant', 'verema', 'hughes', 'cigalot', 'pitching', 'fdu', 'intercanviat', 'hierro', 'geògraf', 'expliciten', 'batzegades', 'simplificat', 'especilitzat', 'debó', 'llegireu', 'espantosa', 'sine', 'raonables', 'opcionalment', 'elfs', 'céspedes', 'distanciament', 'esgarriats', 'mam', 'incòmoda', 'antàrtica', 'bonisme', 'pacta', 'desllorigador', 'ocasiona', 'convinat', 'minguez', 'feraç', 'dispar', 'representaran', 'boutique', 'cluc', 'horriblement', 'anims', 'multiculturalitat', 'autoconsum', 'xorc', 'sedàs', 'pensarem', 'saul', 'circulaven', 'knm', 'constructores', 'interidisciplinar', 'acaronar', 'predi', 'llancen', 'decents', 'hip', 'utilitats', 'leber', 'baluard', 'garant', 'colomé', 'insidiós', 'indecència', 'abaixa', 'enlluernador', 'minva', 'desencís', 'concha', 'fraudulenta', 'amargs', 'necessitis', 'apliqués', 'servent', 'doneta', 'arcada', 'fraudulent', 'laves', 'atrevia', 'viarany', 'guaitaven', 'imparcial', 'eureka', 'encetarà', 'cosmètics', 'bast', 'muntava', 'motivant', 'revocat', 'enterrades', 'eixerit', 'ema', 'canviessin', 'enxampen', 'celebrà', 'proses', 'empremtes', 'somorta', 'tifes', 'insinua', 'hídrica', 'absorbida', 'tapís', 'abadesses', 'tacades', 'hase', 'clafertes', 'consideraria', 'monsó', 'decreto', 'traslladaran', 'caldran', 'musell', 'bemparits', 'enganys', 'peluda', 'malvestats', 'adaptin', 'espatllats', 'demolidor', 'arbó', 'coents', 'preexistents', 'sanmartí', 'store', 'giraut', 'obusos', 'teules', 'silicats', 'salardú', 'penca', 'polièdric', 'rutllar', 'empresonada', 'rentamans', 'caula', 'usap', 'minerval', 'seguiràs', 'vertebració', 'perruqueries', 'avantbraç', 'pollosa', 'amortització', 'oosterbeek', 'gatzara', 'impersonals', 'dinamitzadores', 'proveu', 'gravitacionals', 'rens', 'capgròs', 'discriminacions', 'retratar', 'rastres', 'agrairem', 'golafres', 'capsigranys', 'assaltat', 'vidriols', 'franctiradors', 'emperadriu', 'innumerables', 'desarticular', 'cosmològic', 'rot', 'escombrat', 'calli', 'feltre', 'heydte', 'ploesti', 'combatien', 'insultants', 'egípcies', 'toti', 'daniela', 'adhereixin', 'diodor', 'indestriable', 'isolda', 'propulsió', 'llancessin', 'llanterna', 'anglicismes', 'pronunci', 'decor', 'ritz', 'guaitàvem', 'exploracions', 'còdol', 'raconets', 'falorniaires', 'acrobat', 'orques', 'history', 'cuites', 'amistosa', 'efectua', 'puntuaran', 'mozilla', 'lanke', 'magrebí', 'transmetien', 'franctirador', 'mohammed', 'emprès', 'traç', 'snow', 'animaló', 'castellàdria', 'emigrant', 'vantant', 'vertiginosa', 'guilleries', 'serviu', 'nyeu', 'leipziger', 'asfàltica', 'amaguem', 'latre', 'porxos', 'anotat', 'posareu', 'cukurs', 'guardats', 'gracienc', 'despenjat', 'fields', 'limfes', 'imputen', 'escarn', 'lamentant', 'guardonades', 'esperessin', 'hòmens', 'comandada', 'harpia', 'fenomens', 'sorrera', 'lleona', 'cercaven', 'díptic', 'instrumentació', 'sòlit', 'lactis', 'capaciten', 'descontents', 'enllaçat', 'obeeixen', 'françoise', 'guinovart', 'croada', 'petja', 'homònima', 'monge', 'ivet', 'esma', 'samsung', 'especulativa', 'passet', 'golut', 'gastrònom', 'pradas', 'coloraines', 'enyorant', 'poncet', 'midi', 'engegava', 'sydney', 'epa', 'flexions', 'camines', 'encíclica', 'rompre', 'operadores', 'reagrupar', 'panxells', 'esborronadora', 'forests', 'delimitació', 'bové', 'exaltat', 'beth', 'estampar', 'microbians', 'pelets', 'epiteli', 'ecologisme', 'pinterest', 'dixit', 'estofat', 'kv', 'gasull', 'escarràs', 'predecessors', 'haguts', 'sondejos', 'aplaudien', 'frustrar', 'moon', 'determinaran', 'minicopa', 'reforci', 'dinamo', 'matinar', 'mandinga', 'intercanviant', 'gottlob', 'namíbia', 'jover', 'oda', 'lleganyes', 'tarifari', 'garranyics', 'intervencionisme', 'irreals', 'emperaire', 'pillar', 'vaivé', 'mudèjar', 'celestino', 'clor', 'arturu', 'tordelta', 'cardats', 'puri', 'rusc', 'reciclats', 'millorava', 'cúmuls', 'bordells', 'decidiria', 'oftalmòleg', 'ricky', 'enlairava', 'embotia', 'retratat', 'cèntrica', 'flonges', 'nevat', 'conversat', 'banyant', 'tastant', 'materialitza', 'emmalaltir', 'alcoholisme', 'interpersonal', 'robinson', 'vilanoví', 'sociedad', 'fragmentada', 'anorreats', 'escenificació', 'biga', 'equipàs', 'coreà', 'boníssims', 'reflexionin', 'mastegat', 'intersindical', 'enforteixen', 'detroit', 'killer', 'fantasiós', 'corrompre', 'apagant', 'consciencia', 'oblidaré', 'herman', 'campi', 'mundet', 'mali', 'interdit', 'concursar', 'elies', 'algorítmica', 'seguiments', 'minvat', 'verneda', 'demjanjuk', 'escrupolosament', 'engels', 'alcohòlica', 'supòs', 'menjats', 'hispanitat', 'epígraf', 'lichtenberg', 'griñán', 'socioeducatiu', 'ínfima', 'norte', 'postproduir', 'joiell', 'enrònia', 'dificultava', 'sgr', 'tendrament', 'brinda', 'tanzània', 'elaboraran', 'intentin', 'kalinin', 'universalitzar', 'profà', 'viatgeres', 'romangués', 'czerniaków', 'corol', 'farmacèutica', 'animador', 'tèrbola', 'mortífers', 'ivonne', 'salsitxa', 'meur', 'rems', 'villarejo', 'eròtics', 'cnlt', 'ceguesa', 'activeu', 'impulsi', 'escrigués', 'maleducat', 'hipotecaris', 'comodí', 'avalot', 'armaments', 'màrfega', 'cabien', 'norbert', 'complementada', 'xulo', 'revenjar', 'xurros', 'decantat', 'llongs', 'aguado', 'salvavides', 'processadors', 'bancaja', 'sull', 'nyèbits', 'ebri', 'averanys', 'impulsores', 'tribunes', 'sonoritat', 'estratosfèrica', 'sarcàstic', 'organitzadores', 'suscitat', 'oahu', 'desvagat', 'risto', 'baixés', 'freebike', 'exclouen', 'nucleic', 'fatima', 'nacionalment', 'grem', 'recuperarem', 'psicopedagoga', 'antiguitats', 'vaselina', 'esbiaix', 'làcies', 'kenneth', 'conten', 'contorn', 'llevantins', 'bavaresos', 'cordialment', 'lloga', 'senescència', 'possibiliten', 'jarque', 'maimí', 'legalitzat', 'matarranya', 'vinnitsia', 'moltó', 'sofriment', 'vigatana', 'estrenus', 'globocznik', 'licitades', 'bestiola', 'flancs', 'dissenyadora', 'scl', 'psicopedagogia', 'promocionant', 'anats', 'abominable', 'halsey', 'paguessin', 'monné', 'malignitat', 'lehendakari', 'bandarres', 'xarau', 'brasilers', 'transmèdia', 'empaitat', 'würzburg', 'apassionants', 'estudiantils', 'programables', 'arrancar', 'nòduls', 'dom', 'dragamines', 'emplaça', 'bandoler', 'sarah', 'bastoners', 'carranquejant', 'tarquim', 'miriam', 'ofeguen', 'anís', 'ceptre', 'irví', 'motorista', 'acostumades', 'hemisferis', 'barack', 'aplegades', 'serret', 'supercopes', 'impune', 'sorollosa', 'gimnàstic', 'niça', 'izquierdo', 'plutó', 'traslladessin', 'negociada', 'receptora', 'agulló', 'deteniment', 'gina', 'mereixeu', 'pallisses', 'fidelitzar', 'leader', 'sistèmic', 'blocaire', 'precipitats', 'reclamaven', 'bucal', 'avaluem', 'tinents', 'plurilingüe', 'neutralització', 'extincions', 'filtra', 'nogués', 'bepeta', 'exposi', 'repressors', 'zibila', 'etzibava', 'katalonski', 'discòrdia', 'reproductor', 'aviar', 'lenàries', 'plegués', 'rockefeller', 'württemberg', 'xics', 'inflamatòria', 'catecisme', 'recaptat', 'rectifica', 'semites', 'maçons', 'refrescants', 'respectiva', 'difosos', 'botat', 'entusiastes', 'entiz', 'plantades', 'todo', 'moturisme', 'pensarà', 'riudarenes', 'eloqüents', 'efervescent', 'aterotrombòtiques', 'patuès', 'pujà', 'fissura', 'espeteguen', 'depriment', 'babia', 'indefensió', 'bipolar', 'macarena', 'ajax', 'estreba', 'monitoritzar', 'snps', 'desproporció', 'pros', 'virgo', 'anunciats', 'massatgista', 'vares', 'làctic', 'enteniments', 'afiliada', 'bassella', 'agosarats', 'instava', 'maspons', 'malhumorat', 'establiran', 'pedraforca', 'suggerència', 'esvaeixen', 'guimara', 'combinava', 'travesseres', 'tenaç', 'boumort', 'arra', 'avergonyida', 'rose', 'milloraria', 'condado', 'impròpia', 'nicola', 'winther', 'guixers', 'links', 'cossis', 'cardés', 'hostalets', 'rechlin', 'preguntarà', 'complissin', 'finits', 'intelligence', 'voleiar', 'ensordiment', 'ast', 'ossètia', 'hoc', 'polimorfisme', 'messions', 'ronc', 'clemència', 'obsessions', 'transcendir', 'sunga', 'gomis', 'reequilibri', 'constructius', 'recíproc', 'sampere', 'fonoll', 'sensor', 'detectin', 'bandejar', 'rierols', 'ordesa', 'contingència', 'generalistes', 'eventualitat', 'venudes', 'descarada', 'cuinem', 'armenis', 'moçambic', 'outdoor', 'ribadeo', 'cegament', 'ídoles', 'interglacial', 'fileres', 'jude', 'urrea', 'estoic', 'rostock', 'patria', 'saleta', 'peles', 'traslladen', 'patiran', 'decaigut', 'còrnia', 'erythrurus', 'parasitària', 'preocupi', 'gary', 'adonaren', 'geomètrics', 'alcántara', 'esl', 'munten', 'paniagua', 'rescatat', 'radicalització', 'paleontològiques', 'cursets', 'friburg', 'photoshop', 'pesi', 'embolicats', 'victimes', 'delicioses', 'comparses', 'enginyosos', 'datat', 'barreig', 'bodegas', 'munné', 'aparellat', 'tètrica', 'babel', 'trencaven', 'rojales', 'lets', 'pertanys', 'coincidents', 'atreia', 'confederal', 'murillo', 'desencadenat', 'visatges', 'càtering', 'vilatorrada', 'castigada', 'quiró', 'poal', 'ultrasons', 'pedalejar', 'trp', 'fembra', 'obedients', 'remake', 'anihilació', 'oligarquia', 'santillana', 'santoña', 'aaron', 'exclama', 'exparella', 'patològica', 'burt', 'emportaven', 'torrente', 'degenerada', 'adaptable', 'lattre', 'divulgador', 'xèrcit', 'reunides', 'concentraven', 'rajoletes', 'margarina', 'tiro', 'share', 'valien', 'haushofer', 'inhumanes', 'studies', 'semblarà', 'rentant', 'sòlites', 'tata', 'paro', 'dissidents', 'resultaven', 'dilatada', 'satisfaccions', 'puro', 'way', 'guadaíra', 'cotització', 'vinos', 'ilardo', 'patxi', 'revilla', 'bastantes', 'consistorial', 'borisov', 'mesurament', 'machado', 'io', 'hernando', 'hoya', 'necessitareu', 'medio', 'bonhomia', 'ali', 'beneits', 'dicotomia', 'matos', 'sixena', 'wok', 'hongareses', 'privadament', 'sisco', 'pontons', 'vitrines', 'namur', 'dotant', 'recompondre', 'advertiments', 'equivocava', 'albarracín', 'bassols', 'melbourne', 'distribucions', 'herta', 'imperant', 'det', 'lizarran', 'federals', 'gavín', 'monzón', 'camuflar', 'espetega', 'like', 'manipuladors', 'vocàlic', 'minho', 'alienació', 'jaquits', 'adolorits', 'agilitar', 'planificant', 'teo', 'conquerint', 'acordades', 'neonazis', 'desordenada', 'hirohito', 'fritzsche', 'jardín', 'teatro', 'jana', 'tributaris', 'pronunciarà', 'morrazo', 'immobiliàries', 'opaques', 'deontològic', 'clergue', 'alabama', 'eurockey', 'entec', 'temen', 'cuidem', 'pollo', 'involucrada', 'espiga', 'portfoli', 'peñaranda', 'canvies', 'pomme', 'dicten', 'reaccionen', 'autista', 'tenis', 'ermità', 'idòlatres', 'enfrontaven', 'antiinflamatori', 'lutz', 'cookie', 'esporàdicament', 'fantasmals', 'intangibles', 'milloraran', 'empàtica', 'hardware', 'injusticia', 'almagro', 'metralletes', 'thierack', 'cilindre', 'missaires', 'fractal', 'eugenio', 'dolmen', 'smartdry', 'pinatar', 'zoom', 'fixarem', 'gavina', 'peral', 'sox', 'soliu', 'encertadament', 'tacada', 'desembocar', 'merla', 'irat', 'alp', 'cima', 'transit', 'catarroja', 'vellutat', 'cabrenys', 'atzagaiada', 'traver', 'vilaju', 'prodigiós', 'depassa', 'passeges', 'aitantes', 'convento', 'gfaj', 'despreniment', 'posicionen', 'matisa', 'estratega', 'cabeza', 'eminència', 'neda', 'escunç', 'imprevisibles', 'escullera', 'brigadeführer', 'genealogia', 'ensorra', 'escuts', 'insignes', 'verms', 'kaiser', 'feréstec', 'encallat', 'loids', 'endugui', 'miravet', 'lusitans', 'dedicatòria', 'petrificat', 'legions', 'page', 'certifica', 'nyac', 'recíproca', 'estratagema', 'recreativa', 'atemorir', 'fixades', 'intervencionista', 'peripècia', 'joiosos', 'rebec', 'benahavís', 'catherine', 'catedràtics', 'transcripcions', 'ínfules', 'palpar', 'montañés', 'extravagant', 'imponents', 'lopd', 'cagarrines', 'encerclar', 'galdós', 'baixaran', 'opaca', 'efervescència', 'tripulada', 'hudal', 'ratificada', 'contrarians', 'moixa', 'imprevistos', 'acampades', 'suñer', 'klessheim', 'optimitzant', 'apreciació', 'etanol', 'monitores', 'proveeixen', 'almívar', 'concelho', 'joint', 'tanbé', 'xabi', 'polsera', 'carnissers', 'bucòlic', 'crae', 'ón', 'simbòliques', 'ditets', 'sexisme', 'plorós', 'assecar', 'rm', 'primets', 'tendrum', 'dominicos', 'vernissos', 'carrecs', 'incubació', 'agonitzant', 'eloqüent', 'carronyaires', 'hermèticament', 'mallerenga', 'ostenta', 'eurovisió', 'opressors', 'quàntic', 'reservoris', 'braçada', 'voldreu', 'unirà', 'intempèrie', 'polla', 'turkana', 'fluorescent', 'apaga', 'amalgama', 'exclosa', 'remenen', 'valida', 'pavelic', 'canemàs', 'esplèndides', 'enigmàtica', 'xuclà', 'mbcs', 'sw', 'contagiat', 'samuntada', 'mitford', 'armilles', 'landsat', 'espoliació', 'merdegadetes', 'jambarretina', 'falangista', 'reorientar', 'monòtona', 'indigents', 'budell', 'serán', 'bellugant', 'escoltin', 'creixin', 'cagadet', 'encaputxats', 'lydia', 'zombis', 'titot', 'confitura', 'gloriosos', 'investigación', 'inclusives', 'sostinguts', 'komintern', 'allgemeine', 'millorada', 'fraccions', 'seguiexen', 'nevar', 'sobrequés', 'aplanar', 'encop', 'fmrpc', 'curosos', 'empenyia', 'popa', 'badocament', 'transitoris', 'boy', 'examinant', 'vendran', 'reflexionarem', 'estado', 'reduida', 'caduca', 'midons', 'netejava', 'pandora', 'penetrava', 'escuder', 'senyalitzades', 'devora', 'apropem', 'balder', 'toi', 'trescents', 'gandul', 'bup', 'zyklon', 'resumida', 'cangrí', 'xurriaques', 'increpat', 'neurològic', 'qe', 'gerri', 'compresa', 'pcr', 'helsinki', 'regirant', 'vegetarians', 'lz', 'haguda', 'flexibilitzar', 'recordaran', 'eixa', 'desconeixien', 'deletèria', 'enganyosa', 'magnifica', 'cumplir', 'estableixin', 'estol', 'abordant', 'captat', 'cianobacteris', 'expressi', 'apèndixs', 'tamborinada', 'mcsc', 'reservistes', 'trepitjades', 'torturen', 'compartiment', 'escaneig', 'pansits', 'hurís', 'desprove', 'àvid', 'ofesos', 'hr', 'pateixes', 'avranches', 'péixer', 'llambrescament', 'inequívoc', 'naz', 'estiuenca', 'plàsmids', 'missaire', 'espanyes', 'monturiol', 'technologies', 'violencia', 'palmell', 'hcv', 'instrueix', 'nash', 'mucosa', 'diagnosticats', 'tombava', 'protegís', 'évole', 'duplicitats', 'paderborn', 'engaltat', 'armariet', 'iugoslaus', 'incorporeu', 'homònim', 'retrovirus', 'cartoixa', 'madriz', 'susan', 'arrenquem', 'martincorena', 'trust', 'rupit', 'nati', 'emperò', 'codony', 'collins', 'insinuació', 'aniquilació', 'felí', 'mentidera', 'truja', 'webgrafia', 'autonomista', 'volcànics', 'peons', 'descartada', 'paralitzada', 'baionetes', 'diagnòstiques', 'radis', 'puntals', 'despistat', 'exploten', 'demostrin', 'nesyamun', 'dat', 'festivitats', 'isòtop', 'sasso', 'càtars', 'ecosocialistes', 'busseig', 'gertrud', 'ponce', 'granat', 'impediments', 'clorofil', 'teulades', 'grappa', 'peritatges', 'rieres', 'opinio', 'acabaràs', 'lockheed', 'predictiva', 'ligand', 'especulat', 'bastonet', 'irracionals', 'motoritzat', 'adí', 'caldrien', 'transitòries', 'foliar', 'submergits', 'fomento', 'cribatge', 'marcadament', 'defallir', 'bogeries', 'encadenats', 'poda', 'sembles', 'descuidat', 'adverbials', 'clavava', 'botxinejat', 'enveges', 'amazones', 'eixint', 'salmond', 'xxiv', 'fabien', 'suplicatori', 'indefensa', 'milena', 'jeeps', 'mormol', 'soviet', 'devònic', 'insistents', 'plagut', 'germanet', 'bidimensionals', 'factibles', 'serrallonga', 'uhlenbeck', 'emetent', 'leeb', 'afinat', 'letters', 'emfatitzar', 'envàs', 'cotitzacions', 'afanyat', 'materns', 'fonamentalisme', 'desada', 'formessin', 'mitsubishi', 'promovem', 'anular', 'transmesos', 'consultable', 'alcaldies', 'rescissió', 'caixafòrum', 'comportà', 'moderades', 'contractuals', 'confrontar', 'fibla', 'sitmun', 'impunes', 'ajustin', 'supervisada', 'reunificació', 'invàlid', 'aboquen', 'nairobi', 'gales', 'andersen', 'allarguin', 'diario', 'tm', 'fax', 'dimensionar', 'acreditin', 'dimas', 'liciteu', 'desapareixeran', 'albanès', 'facilitaria', 'mimbrero', 'impacten', 'époques', 'dante', 'council', 'vilardell', 'interculturals', 'fenoll', 'opti', 'plurilingüisme', 'maquetes', 'urtasun', 'ossets', 'asp', 'gósol', 'estenen', 'statu', 'valentín', 'graven', 'discriminatòries', 'vulneren', 'declinat', 'custodiar', 'cobriran', 'applet', 'imposarà', 'oportuns', 'ignorats', 'arco', 'dictades', 'leal', 'aspirem', 'cif', 'tresorers', 'manifestos', 'criminalització', 'hisendes', 'delimitat', 'acorden', 'captures', 'traslladem', 'consternació', 'gràficament', 'baules', 'propietàries', 'pageses', 'monogràfica', 'adreço', 'exclamació', 'marbres', 'permetrem', 'traureu', 'fefaent', 'contextual', 'seculars', 'galileo', 'inspirador', 'bloquejats', 'restaran', 'admesa', 'assegurin', 'emmarcats', 'estrela', 'plurianual', 'esfondrament', 'natives', 'amigable', 'cds', 'planifica', 'apartant', 'coincideixi', 'dgt', 'prestant', 'sahrauís', 'reader', 'layret', 'contracten', 'completada', 'licitadors', 'valera', 'inadequat', 'sàpiens', 'arbitràries', 'llotges', 'corroborar', 'maies', 'ensinistrat', 'dirección', 'mejías', 'exclusions', 'concertat', 'preparin', 'kb', 'eliminen', 'renunciant', 'tradueixi', 'despleguen', 'realitzés', 'impedís', 'patac', 'personar', 'antoine', 'literals', 'destinant', 'encomanades', 'practicada', 'calze', 'tràgiques', 'tràgicament', 'calfred', 'rosegat', 'soltes', 'grimm', 'coincidim', 'inconformista', 'espesses', 'riallades', 'mortaldat', 'solets', 'convertien', 'planyia', 'nostrada', 'carabasses', 'encastada', 'sidi', 'ensopega', 'datada', 'velada', 'imaginada', 'desforestació', 'harem', 'destino', 'complicadíssima', 'tòtil', 'formaren', 'equivocats', 'delerós', 'maleses', 'vena', 'tragué', 'operada', 'adquiria', 'presonera', 'vianant', 'funeraris', 'aiguat', 'anomeno', 'esclatà', 'cèntrics', 'avenir', 'recordaria', 'plomatge', 'litzat', 'desmenjadament', 'amy', 'legoria', 'sediment', 'costés', 'bonior', 'carències', 'manuscrits', 'malviure', 'ivaçós', 'aportava', 'barrejava', 'regnava', 'deleix', 'nego', 'bessona', 'poèticament', 'trempada', 'forrolla', 'arrugada', 'carruatges', 'psicòpata', 'impregnat', 'desvetlla', 'aparentar', 'intransitiu', 'estimés', 'venjatiu', 'associem', 'esporàdiques', 'intueix', 'subjacent', 'transmetrà', 'troç', 'compraria', 'ferry', 'permeto', 'castellanes', 'treurem', 'baten', 'esmorzat', 'jugan', 'trovar', 'individualisme', 'fortunes', 'ganga', 'escaldat', 'eixerits', 'llepava', 'cristòfor', 'mirarà', 'violes', 'prestigioses', 'aprofitaré', 'corbella', 'dics', 'seguidora', 'navarcles', 'heretada', 'havie', 'tirarà', 'lladrucs', 'higièniques', 'papagai', 'floreta', 'tasteu', 'gluten', 'greixós', 'gelatinós', 'ventríloc', 'desnodrits', 'fangar', 'tocador', 'enyoro', 'dirigeixo', 'parléssim', 'parlà', 'avisen', 'primeta', 'ídols', 'dietista', 'bramar', 'apagats', 'plegable', 'cortinatges', 'multiplataforma', 'súpliques', 'ultrança', 'utrecht', 'seqüenciat', 'itinerància', 'farmacològiques', 'fotreu', 'encenia', 'ormeig', 'curulles', 'gratava', 'cridés', 'tonalitat', 'desprenia', 'oxigenar', 'tentines', 'luminaven', 'recorrien', 'llumí', 'martells', 'ratafia', 'flequer', 'recordats', 'meandres', 'exagerant', 'esparracada', 'lluminosos', 'arbusts', 'eclosió', 'irresistibles', 'jaja', 'puput', 'interpretava', 'gastem', 'alcoià', 'desapareguin', 'trencadissa', 'enllestirem', 'menteixen', 'colonitzat', 'fullaraca', 'cassolada', 'bastanta', 'fiat', 'semblin', 'trampolí', 'zaga', 'vienesos', 'temptat', 'didal', 'borratxera', 'escaquer', 'desordenat', 'practicament', 'costaven', 'comentats', 'arquimbau', 'tancarem', 'esfèrica', 'convulsions', 'banyistes', 'subratllen', 'herbívors', 'reticent', 'pixen', 'prosseguit', 'pronunciaria', 'dario', 'contraarguments', 'encarregués', 'arrosseguem', 'neguitosos', 'detingués', 'instigador', 'inadequada', 'invocar', 'demostratiu', 'ingrid', 'roi', 'subtítol', 'reclutes', 'desposse', 'banyen', 'èpics', 'autos', 'trepig', 'phillips', 'provada', 'monolingües', 'vec', 'comprensibles', 'publiqués', 'dispers', 'camaleó', 'atol', 'degradat', 'empraven', 'mhc', 'immergit', 'lucidesa', 'informessin', 'frena', 'fèieu', 'evitem', 'classificava', 'prolongada', 'estirades', 'enraona', 'triatlons', 'laden', 'enciams', 'palol', 'gavanenc', 'arrabassada', 'pentina', 'avantguardista', 'reconciliar', 'xarop', 'vampirs', 'sard', 'vetes', 'apreneu', 'dx', 'espígol', 'improvisats', 'cursen', 'germandat', 'plantejaven', 'percentuals', 'desh', 'avellana', 'encertants', 'enceten', 'espirall', 'zumzeig', 'saborosos', 'sellés', 'mereixedor', 'incentivant', 'caqui', 'senegalès', 'combatiu', 'afortunades', 'apòstols', 'arrasar', 'moscatell', 'envelat', 'xandall', 'estilística', 'tapats', 'encís', 'càustic', 'pintes', 'notòria', 'germàniques', 'escènic', 'porcel', 'migratòria', 'entremesos', 'postural', 'contrastats', 'capta', 'esforcen', 'lloretencs', 'bernadó', 'camerun', 'lliguen', 'recopilat', 'garrich', 'complementat', 'apren', 'salats', 'folis', 'sabríem', 'prospeccions', 'quedis', 'agricultor', 'anxoves', 'impactants', 'violins', 'letona', 'pizarro', 'sima', 'delicious', 'peixateria', 'gironella', 'torrelavega', 'degrada', 'rabassa', 'vallverd', 'guspira', 'grop', 'artà', 'benedetto', 'barbastro', 'palafolls', 'canyelles', 'nyam', 'comellas', 'trini', 'besora', 'lady', 'donatiu', 'desmarca', 'fatídica', 'dansaire', 'calçots', 'orenetes', 'vàndals', 'conreria', 'organitzi', 'concisa', 'revisem', 'camperola', 'spot', 'talonari', 'interrogatoris', 'genials', 'acampar', 'acomiaden', 'sentis', 'disposant', 'recordareu', 'exuberants', 'estacionament', 'sacsejar', 'engegada', 'arribàvem', 'pelada', 'imparables', 'aventurar', 'rigal', 'prorroga', 'enterprise', 'woody', 'copeta', 'narren', 'detonant', 'lligant', 'pòstumes', 'segimon', 'parlan', 'cuinava', 'inundat', 'cabanya', 'bv', 'emmurallat', 'accelerats', 'odio', 'pintoresc', 'enyorar', 'pag', 'atracament', 'glacera', 'salades', 'papereres', 'agafaré', 'voltava', 'endoll', 'luminen', 'vesteixen', 'empetitit', 'precuinats', 'viatjo', 'tafanejar', 'indisposició', 'curat', 'titànic', 'bombetes', 'confonem', 'venciment', 'dibuixats', 'estancat', 'passareu', 'erecció', 'menyspreables', 'tragèdies', 'regalava', 'problemàtic', 'cistelles', 'atropellar', 'gustavo', 'additius', 'alçava', 'tricolor', 'trencaments', 'biquini', 'sabuda', 'ràfegues', 'contat', 'juguessin', 'encaminada', 'punxant', 'texans', 'cohen', 'modulació', 'mònaco', 'caixetes', 'pallarés', 'partien', 'cometen', 'cabia', 'patides', 'licients', 'urània', 'tortell', 'flavia', 'involuntària', 'imperceptible', 'bombardeigs', 'planera', 'cadell', 'coriandre', 'bistec', 'confessava', 'convidaven', 'prestatgeries', 'eloqüència', 'lisa', 'consoliden', 'fructífera', 'fallera', 'innecessàriament', 'transatlàntic', 'couen', 'infantessa', 'fregeix', 'iuca', 'brusa', 'tapen', 'une', 'interes', 'pediatre', 'usual', 'recorrem', 'repetitiva', 'malifeta', 'salvada', 'castellá', 'desemparats', 'pinzell', 'pecar', 'enfermetat', 'fantàsticament', 'situacionals', 'motlles', 'batem', 'decebedor', 'humboldt', 'prepari', 'evarist', 'aquarel', 'destrals', 'llarguíssims', 'assenyalà', 'longituds', 'stat', 'meiosi', 'cometaris', 'amoni', 'genealògica', 'primerenques', 'conduiria', 'clonació', 'neutrino', 'biological', 'acetat', 'intestinals', 'motricitat', 'cardiologia', 'danyades', 'fertilitzant', 'examinats', 'gorilla', 'afectà', 'transcriptoma', 'infrastructures', 'implementen', 'tomografia', 'mononucleotídics', 'ratg', 'refredats', 'zhou', 'txadià', 'monotremes', 'patrocinada', 'small', 'tojo', 'conspirat', 'bancarrota', 'travel', 'pcawg', 'lagen', 'vienès', 'precarització', 'reconstitució', 'brand', 'encode', 'brothers', 'aeronau', 'linial', 'vials', 'petrolier', 'natasha', 'alarmisme', 'ltp', 'eindhoven', 'planetologia', 'propagandístic', 'nacionalització', 'reflectància', 'nanofibres', 'petroliera', 'radials', 'grafs', 'maleir', 'estatístiques', 'aport', 'insulti', 'perifèric', 'destruiria', 'centralisme', 'inversament', 'uterí', 'mutus', 'reté', 'almiralls', 'ecspanyol', 'sucursalistes', 'brecht', 'reactors', 'çafont', 'triomfalment', 'temibles', 'abandonaven', 'elixir', 'farratges', 'dares', 'caníbals', 'fufes', 'amorf', 'espatotxí', 'periples', 'ladi', 'còpula', 'previndre', 'pacifisme', 'tòrax', 'chen', 'pitu', 'rocafonda', 'cornell', 'arenes', 'eliseu', 'embrionàries', 'sapadors', 'metrallar', 'conclo', 'trameteren', 'baixin', 'sociabilitat', 'aprofitessin', 'maridatges', 'bescanvis', 'lluitarien', 'nedadores', 'inhibeixen', 'operava', 'alliberés', 'diürna', 'infecten', 'mesopotàmia', 'expandeix', 'autènticament', 'gasoil', 'rfep', 'birger', 'hme', 'matxicots', 'fondevilla', 'larrosa', 'baiget', 'subdelegació', 'avali', 'olympics', 'arantxa', 'ciclopirineus', 'tania', 'autocaravanes', 'bpb', 'salicru', 'vélo', 'rrhh', 'sisebio', 'mobility', 'softwares', 'ecological', 'taxacions', 'llenyoses', 'covs', 'paulaner', 'cruixint', 'pound', 'lindbergh', 'flensburg', 'lladós', 'sstt', 'diplocat', 'multiprofessional', 'osàcar', 'tristpartit', 'opinadors', 'millions', 'múgica', 'fecac', 'ximenis', 'reagrupats', 'jugabilitat', 'banesto', 'lavinia', 'uacu', 'readaptador', 'gisa', 'troika', 'compromissaris', 'hackathon', 'desafavorit', 'yamaha', 'interposada', 'janer', 'xàrter', 'fecom', 'zapata', 'morenés', 'reempresa', 'sobiranies', 'lufthansa', 'tonifica', 'gott', 'alsacians', 'repulse', 'preveien', 'fab', 'kuznetsov', 'kovno', 'finlandeses', 'màleme', 'obersturmbannführer', 'apropés', 'skoda', 'boxejador', 'tristan', 'borsig', 'daluege', 'wiesse', 'bohlen', 'liebknecht', 'ocuparien', 'wiesbaden', 'broz', 'kessel', 'biplaça', 'assegurés', 'rascher', 'guingand', 'farinacci', 'lieja', 'zone', 'fallant', 'crossfit', 'compañia', 'adjudicades', 'correggio', 'retirarà', 'nzeres', 'sisens', 'tios', 'intensíssim', 'intervingudes', 'ranking', 'solohockey', 'mostrada', 'küstrin', 'vertígen', 'marxarà', 'camurria', 'eliminatoria', 'seleccionadors', 'rebotada', 'mundialista', 'antidemocràtic', 'transportistes', 'reflexes', 'verlag', 'warm', 'preseleccionats', 'patològics', 'eternal', 'flascó', 'encobeir', 'escopòfil', 'procuració', 'metafísics', 'aitantost', 'simptomàtic', 'gosà', 'caixot', 'alzinat', 'torturadors', 'acolloniment', 'adotzenats', 'vaccinació', 'escarit', 'presències', 'soga', 'salvatgement', 'evitava', 'pencant', 'acreditada', 'clarificar', 'fl', 'lladregots', 'xaruc', 'trists', 'enigmàtiques', 'idònies', 'indelebles', 'moribunda', 'apoteosi', 'rellisquen', 'envitricolls', 'aberrants', 'esborronadores', 'casuals', 'capats', 'pruent', 'dispesera', 'propvinent', 'llunàtics', 'tornc', 'inhumà', 'immòbils', 'estrebant', 'xarones', 'ardida', 'estossegós', 'corcades', 'faisons', 'histèriques', 'mèdol', 'penyores', 'barement', 'benèvol', 'contusió', 'braó', 'tarats', 'centraran', 'bàscula', 'multimodal', 'diluvi', 'estavella', 'brega', 'descloure', 'packs', 'embolcalls', 'empenyien', 'reverteix', 'discrimina', 'esquitllar', 'intervingués', 'pòrtic', 'llanxa', 'aprimament', 'ofenen', 'afegitons', 'contribuí', 'islàmics', 'consentir', 'pòtol', 'perseguidors', 'ludit', 'hachmi', 'farsants', 'esclavitzar', 'concentrant', 'intolerables', 'espònsors', 'ccl', 'frenèticament', 'esto', 'uzbekistan', 'myriam', 'wellington', 'navarreses', 'ng', 'locaven', 'desídia', 'cançonetes', 'imposi', 'enterramorts', 'triomfador', 'rèdit', 'jordan', 'discontinu', 'perir', 'queixaven', 'federalista', 'rna', 'discutida', 'ramoneta', 'fortificades', 'rubèn', 'mamuts', 'assajada', 'toqueu', 'horabaixa', 'somàtic', 'assidus', 'tortes', 'arrufant', 'demanaves', 'emprenyament', 'empeltat', 'farsant', 'travessaven', 'sanglotant', 'perí', 'carraca', 'esborrades', 'dòlar', 'escanyant', 'atordit', 'escadusseres', 'etèries', 'quòndam', 'tifa', 'gloriosament', 'matrimonials', 'ostes', 'diguí', 'taboll', 'atzeb', 'pispar', 'cacofònic', 'tremolencs', 'marcolfa', 'miquetes', 'jatsia', 'pitets', 'heretats', 'confiats', 'traficants', 'carteres', 'sobrepuig', 'epidèmics', 'conjurar', 'estudiaren', 'fecundat', 'dotades', 'abominació', 'fastig', 'escanyava', 'anos', 'caduc', 'conducte', 'extremunciat', 'damnats', 'triatletes', 'claueta', 'geomètric', 'feixismes', 'crèduls', 'aitals', 'escandalosa', 'gires', 'diabòlics', 'fiquí', 'mènades', 'escarransiment', 'còsmiques', 'empaitant', 'llambrescs', 'estocàstics', 'ventós', 'mossegava', 'tentinejant', 'gàrgoles', 'pops', 'xàldigues', 'malignament', 'braçalets', 'sebollits', 'esgraons', 'ultranacionalista', 'psicòtics', 'sinistra', 'òstia', 'gàl', 'recentralització', 'cruanys', 'mentint', 'repulsives', 'amorfa', 'rostat', 'mangala', 'fissures', 'maixelles', 'llufes', 'deliciosament', 'deleteri', 'perforar', 'tacar', 'desferra', 'amagadet', 'desix', 'esclafava', 'inconsútil', 'xones', 'cridaneres', 'absoltes', 'esmunyint', 'dretà', 'falena', 'avolesa', 'esborronador', 'benésser', 'çassús', 'nodreixen', 'nebodeta', 'juí', 'maltempsades', 'defecar', 'aviava', 'podrint', 'ullant', 'esperançats', 'manoi', 'metros', 'provocadora', 'cata', 'aragoneses', 'muñiz', 'psicosocials', 'monica', 'busto', 'sidra', 'liébana', 'creps', 'meseguer', 'andalucia', 'justifiqui', 'rinconada', 'externalització', 'reiteració', 'ida', 'castellanos', 'madrigal', 'diagnòstica', 'molar', 'granyena', 'pinsos', 'alcossebre', 'margalida', 'palmar', 'eucaliptus', 'allargaran', 'lanzarote', 'sangonera', 'osteria', 'xenòfobes', 'bares', 'ires', 'old', 'martiño', 'transnacionals', 'ke', 'araceli', 'desplegats', 'rosal', 'serós', 'atalaya', 'gar', 'dulce', 'mate', 'júcar', 'hipercor', 'concebuts', 'samba', 'colonialisme', 'caní', 'callejón', 'checa', 'adell', 'contractades', 'amigos', 'hiroshima', 'monreal', 'investiguin', 'tavernes', 'boga', 'capricho', 'carrascal', 'beiras', 'alcázar', 'celtic', 'collell', 'tormes', 'room', 'alda', 'licitarà', 'expulsa', 'inhibir', 'tàndems', 'clauers', 'finestrella', 'garganta', 'pastisseries', 'tapissos', 'inspiren', 'superposició', 'psiquiàtrics', 'irritats', 'soy', 'golejant', 'esglesia', 'recio', 'prolífics', 'ultracuidat', 'uttingen', 'convivien', 'durés', 'consideràvem', 'tupper', 'repta', 'osti', 'socialitzar', 'think', 'spc', 'carburar', 'ascendia', 'acción', 'recomaneu', 'gené', 'aterra', 'osonecs', 'formulin', 'vanitats', 'traduirà', 'guevara', 'castellanoparlant', 'iridescents', 'sufocar', 'llueixen', 'sostremort', 'persistir', 'desembarcarien', 'rentaplats', 'baixeta', 'empatava', 'llard', 'bocabadada', 'embòlia', 'piuet', 'bulli', 'deconstrucció', 'bangkok', 'incalculable', 'liberalització', 'intersetmanals', 'graves', 'tarjeta', 'comprades', 'exigeixi', 'facilitem', 'incontrovertible', 'singla', 'eixutes', 'bellugaven', 'masculinitat', 'ondulats', 'enjogassat', 'timpans', 'morral', 'botets', 'avaries', 'discutia', 'plogui', 'desitjables', 'ambulatori', 'mevas', 'ofensivament', 'fissió', 'disfruta', 'pobrissones', 'sapiguer', 'tataranni', 'moreta', 'compteu', 'asseverat', 'représ', 'descobrís', 'tolts', 'copoví', 'cabezas', 'estigmatització', 'dretans', 'pengem', 'xilena', 'ixent', 'pelen', 'fecundats', 'casinos', 'adonaven', 'nítid', 'titanic', 'curós', 'foods', 'lable', 'ratxes', 'sabotejadors', 'benentès', 'majoría', 'setmaneta', 'lap', 'bodeguita', 'resistís', 'creés', 'madrilenyes', 'eròtic', 'astronautes', 'ciencia', 'debutants', 'estroncada', 'xou', 'target', 'participes', 'unidireccional', 'frescs', 'rendirien', 'task', 'casuística', 'briu', 'desenvolupaven', 'politges', 'agitada', 'funcionariat', 'brocs', 'curlàndia', 'despropòsit', 'expedicionària', 'divulgatives', 'inseparable', 'desnonats', 'fus', 'negués', 'desolada', 'vilobí', 'preinscripcions', 'socialdemocràcia', 'vagada', 'costures', 'plint', 'desen', 'paint', 'haurieu', 'comunicaran', 'estapé', 'dorpmüller', 'anglosaxones', 'exigiria', 'odilo', 'compraven', 'bagration', 'speidel', 'adobs', 'vocalisme', 'divorciada', 'escolaritzats', 'menat', 'vinet', 'diferit', 'gàngster', 'pistó', 'cessions', 'pengi', 'ajudaré', 'heisenberg', 'traint', 'exposo', 'molinos', 'lamevaweb', 'intractable', 'amorrat', 'celestí', 'furient', 'gihadistes', 'perseguides', 'governarà', 'questa', 'quixot', 'musicat', 'malaguanyada', 'remar', 'camàndules', 'inorgànics', 'coordinadament', 'muse', 'descampat', 'miop', 'rafting', 'paleontòlegs', 'pirateria', 'victoriosa', 'barrals', 'procès', 'bcin', 'postulats', 'luger', 'vem', 'portasignatures', 'vallejo', 'dedueixen', 'capdella', 'perses', 'crackòvia', 'romeria', 'nomenats', 'gold', 'orelletes', 'anglo', 'leticia', 'accidentals', 'infinitius', 'opernplatz', 'maionesa', 'laboralment', 'deportada', 'radioactivitat', 'disbauxes', 'cremarà', 'emissari', 'esberlat', 'sangoneres', 'portà', 'violoncel', 'subsidiària', 'hidrogràfiques', 'occc', 'commemorant', 'jaquint', 'apocalíptic', 'trends', 'familiaritzat', 'consolidin', 'alga', 'dibuixada', 'sherlock', 'paperina', 'proclamen', 'encarrilat', 'reberen', 'pipeta', 'icta', 'canut', 'cinturons', 'salvava', 'vasco', 'oxfam', 'isacc', 'plaguicides', 'intensifica', 'sibecol', 'escleta', 'amenitzat', 'gralla', 'grima', 'bartrolí', 'arribareu', 'bombardejaven', 'amazon', 'laborable', 'ballús', 'dajou', 'humorista', 'burriana', 'olotí', 'mayans', 'rapsodes', 'ficaria', 'treuria', 'iniciés', 'parlades', 'nostrats', 'pagarem', 'patrocinats', 'trepitgen', 'centrés', 'experteses', 'sm', 'arbrat', 'cercaterm', 'formulen', 'recitat', 'comunicacio', 'enfellonits', 'solells', 'aviant', 'mountainbike', 'descobriren', 'truges', 'lapònia', 'relber', 'guaret', 'upa', 'frozen', 'ultramarató', 'clons', 'posteritat', 'enjús', 'savieses', 'aixarops', 'river', 'enfoc', 'prestés', 'endú', 'garmin', 'reformulació', 'petitons', 'tornavís', 'sarcòfags', 'inimaginable', 'desolador', 'nimfa', 'amazònia', 'cagues', 'vilment', 'perversions', 'donotes', 'irreparable', 'vertebrar', 'eqüestre', 'eriçó', 'indexades', 'dècima', 'parlaves', 'solter', 'cambó', 'fusters', 'penques', 'vernet', 'empescada', 'gt', 'estendrà', 'llustrins', 'revisen', 'intrigant', 'espots', 'acinas', 'enllestits', 'montfort', 'trompes', 'lluiran', 'inescandallables', 'signaran', 'noriega', 'vehicula', 'artells', 'estantissa', 'águilas', 'eliminator', 'sefarad', 'heroiques', 'regularitzar', 'carré', 'torrejón', 'rosers', 'concursant', 'embogir', 'intelectual', 'assalariats', 'sorprenia', 'seriòs', 'empaten', 'cnjc', 'culés', 'hoqueística', 'deliberacions', 'televisat', 'oníric', 'alarcón', 'subcampions', 'manipula', 'eumo', 'apareixeria', 'llambresca', 'bestiades', 'barrejades', 'arana', 'futurista', 'maryland', 'remeten', 'cpt', 'edicte', 'masturbació', 'entrenarem', 'lmann', 'programen', 'bissaco', 'monty', 'reb', 'interpretarà', 'majordom', 'atreviment', 'programacions', 'endurit', 'precàriament', 'lustrada', 'enfonsen', 'toulouse', 'misterioses', 'catalitzadors', 'incompletes', 'porro', 'aimada', 'tajo', 'comercialitzen', 'escalinates', 'giudicci', 'recuperaran', 'amolla', 'papissot', 'miris', 'monejant', 'platero', 'reconstrueix', 'cromos', 'dicció', 'botifarres', 'interclubs', 'vanesa', 'administra', 'vieja', 'ceu', 'piedra', 'fia', 'acròbata', 'lletjor', 'cosiment', 'investigades', 'gates', 'ballaven', 'esclafa', 'trobàrem', 'impressiona', 'campaneta', 'lueger', 'kirdorf', 'viltingut', 'flabiol', 'shi', 'perosa', 'gallery', 'autodidacte', 'ancorada', 'pujolisme', 'hemeroteca', 'oradura', 'digitalitzar', 'beat', 'trametia', 'baves', 'venç', 'tions', 'repassava', 'regates', 'catalogada', 'polits', 'geriatria', 'caseller', 'baena', 'exponents', 'penalitza', 'ajusticiat', 'barberia', 'sociòlegs', 'encanteris', 'sandy', 'somiós', 'delitosament', 'sensual', 'viladomat', 'donador', 'fosforescents', 'cavallet', 'cao', 'anatòmics', 'carbasses', 'puges', 'arrufar', 'trameten', 'gujan', 'aboqueu', 'puixant', 'jeràrquic', 'funerari', 'emmirallar', 'minimitzant', 'pantera', 'diga', 'hz', 'anormal', 'exclamava', 'maestre', 'bressola', 'morfològics', 'tacons', 'andreas', 'apuntats', 'contradiu', 'incerts', 'manso', 'trihalometans', 'kiwis', 'ecosistèmic', 'arrencà', 'acollonir', 'concrecions', 'inventen', 'banalitzar', 'làpides', 'subjectivitat', 'sociable', 'efe', 'deficitària', 'wolfram', 'citizen', 'repercutirà', 'turquesa', 'costerut', 'gramaticalment', 'seven', 'subcontinent', 'xanques', 'romanç', 'voyager', 'montbrió', 'endrapar', 'praderies', 'garlar', 'ezquerra', 'oleiros', 'aturà', 'albira', 'fotogràfics', 'retòric', 'superà', 'extrasolar', 'souto', 'duplica', 'agitat', 'uníson', 'preguem', 'quid', 'desiguals', 'conservation', 'picnogònids', 'regna', 'tremoloses', 'desèrtic', 'subunitat', 'fossim', 'mineres', 'segui', 'assegureu', 'cometia', 'paralímpics', 'relatava', 'validada', 'seguríssim', 'gelosa', 'enganxen', 'guerrilles', 'caçadores', 'grana', 'legionaris', 'ignorava', 'homenets', 'intrínseques', 'gin', 'electromicrografia', 'analògics', 'consumar', 'cèstodes', 'estampat', 'levins', 'eclesiàstiques', 'portugueses', 'ceràmiques', 'qualificades', 'sonet', 'amenaçadora', 'enlairats', 'achebak', 'descansen', 'fiasco', 'alcohòlic', 'emboliquen', 'matés', 'catarins', 'desallotjat', 'identificava', 'sumaris', 'antropoideus', 'jurisprudència', 'brusca', 'lucinats', 'langerhans', 'consonantisme', 'comprimits', 'roigs', 'lamec', 'pool', 'eba', 'predominantment', 'engresca', 'gosadia', 'histones', 'pueril', 'supressors', 'neural', 'pansida', 'env', 'desesperades', 'sup', 'estèticament', 'evitin', 'esquerrans', 'comptaria', 'moderadora', 'orion', 'dentat', 'gastrointestinals', 'forastera', 'salí', 'alphonse', 'invertida', 'biennal', 'bronzejat', 'flam', 'rosó', 'depengui', 'especificativa', 'xats', 'grinyols', 'lur', 'modestos', 'desèrtica', 'pg', 'llampecs', 'jeràrquica', 'projectors', 'cleopatra', 'espinal', 'panspèrmia', 'prediuen', 'geganta', 'atacama', 'sumi', 'sostenidors', 'ressorts', 'autoimmune', 'segrega', 'ladoga', 'contradictòria', 'migrar', 'hipermetilació', 'angelet', 'vitalici', 'amfibi', 'ribeira', 'candelera', 'incommensurable', 'irrisòria', 'kate', 'cridessin', 'desaprenent', 'petant', 'mri', 'redactades', 'rebatre', 'intermitents', 'espanyolitzar', 'khartum', 'schneider', 'afeblir', 'honrat', 'genotips', 'castració', 'alertats', 'empaitar', 'dolenteria', 'notarial', 'lentment', 'adientment', 'inscriguin', 'desbordament', 'desequilibrada', 'tels', 'eslau', 'generalitzats', 'tàcit', 'eloy', 'based', 'empleneu', 'retràs', 'parits', 'merino', 'culleres', 'covant', 'rosas', 'sword', 'adipima', 'conseqüents', 'interdependència', 'incrementin', 'arrelades', 'evidencien', 'ultimes', 'introductòria', 'estimi', 'dignar', 'intencionadament', 'adhesiva', 'acudeix', 'propies', 'vellet', 'barems', 'acompanyessin', 'kiwi', 'castelo', 'gangrena', 'horòscop', 'alpinista', 'novo', 'forçut', 'titllen', 'rosetta', 'carícia', 'esgotador', 'recàrrec', 'estimulat', 'explicarien', 'wood', 'adquirien', 'mesuraments', 'planificades', 'dicotomies', 'economist', 'computador', 'sarcopterigis', 'wyoming', 'engrescats', 'ribosoma', 'evitaria', 'apg', 'ybx', 'adons', 'simbòlicament', 'dreesen', 'oberwiesenfeld', 'ballarí', 'cànnabis', 'maquetació', 'superaria', 'desprevinguts', 'realizar', 'ensenyaré', 'incorreccions', 'muntats', 'observable', 'preval', 'remodelat', 'sintètics', 'farigola', 'partenó', 'acaronant', 'avaluaré', 'desafien', 'enyorats', 'mackensen', 'espatllen', 'apuntem', 'pressuposa', 'pegues', 'focalitzats', 'gotha', 'descobreixes', 'solcat', 'exam', 'dimissions', 'adust', 'confusos', 'redactem', 'pers', 'stutthof', 'escampada', 'begués', 'darder', 'flick', 'rendien', 'utilitzà', 'sistemàtiques', 'victoriosos', 'fitant', 'despietada', 'norman', 'sepp', 'pòstumament', 'xipreret', 'arús', 'maternal', 'subvencionarà', 'emotivitat', 'leable', 'franch', 'perdé', 'lancet', 'conductual', 'barrila', 'garmisch', 'baarova', 'embruta', 'infractors', 'camells', 'rgpd', 'declarà', 'submisa', 'epònim', 'malgastar', 'acabareu', 'rochefort', 'servi', 'oblidés', 'fugitiu', 'rosegats', 'ascensos', 'barry', 'siusplau', 'orà', 'feixos', 'menysprea', 'entrevistador', 'challenger', 'arrencades', 'èczema', 'puto', 'circu', 'clon', 'ventalls', 'esprémer', 'convencés', 'tenalla', 'progressa', 'moriran', 'dofins', 'distreu', 'tardaria', 'coblença', 'estaquirots', 'apallissar', 'multat', 'moma', 'xap', 'possés', 'tonada', 'thierry', 'anal', 'irma', 'esclafada', 'destrossades', 'nutrient', 'empassava', 'donzelles', 'arendt', 'xeringa', 'subespècie', 'aixafada', 'gelmà', 'vigorosa', 'gneisenau', 'restrictiva', 'disputaven', 'esbrinant', 'diarrees', 'granaders', 'tibat', 'infectiva', 'facials', 'planejava', 'dessau', 'sentinelles', 'astorada', 'esparracats', 'parròquies', 'monàrquics', 'rodrigues', 'sicilià', 'esbroncat', 'artit', 'hidrosfera', 'cenozoic', 'desconcertada', 'luta', 'meritori', 'isotòpica', 'dendrítiques', 'cori', 'campdepadrós', 'dipositada', 'antigen', 'alqueria', 'attolico', 'penalitzar', 'txeques', 'cridà', 'ressec', 'esqueixada', 'comprens', 'picapedrer', 'equinocci', 'paleontològic', 'roset', 'carters', 'embolicava', 'armstrong', 'transcendit', 'apolític', 'raed', 'batuta', 'bund', 'bategar', 'azua', 'genet', 'carrosses', 'reescriure', 'judicialització', 'uvic', 'kcal', 'ultraviolat', 'psicomotricitat', 'alhambra', 'ppb', 'mendes', 'consagrat', 'sondes', 'ressentida', 'ful', 'harmòniques', 'lamentacions', 'cantarella', 'úrsula', 'desconcertant', 'patinadora', 'militat', 'nebelwerfer', 'metamorfosis', 'bonhoeffer', 'reutilitzable', 'estacionar', 'deutschen', 'gmbh', 'incurable', 'indecisió', 'hofbr', 'grupet', 'expedicionaris', 'reestructurar', 'chino', 'funesta', 'categòricament', 'daixonses', 'venc', 'despreocupat', 'esgarrapada', 'braunsteiner', 'estabilitzat', 'aperitius', 'èpiques', 'pantanosa', 'obsessionar', 'dòcil', 'obsessiu', 'sintètiques', 'fabriquen', 'perea', 'cendrós', 'ibrahim', 'electro', 'utilitzaria', 'migranya', 'vísceres', 'hadeà', 'rombe', 'boiro', 'aurores', 'rost', 'incrèduls', 'enregistraments', 'rotunditat', 'subfusell', 'suportat', 'llises', 'atxes', 'defugint', 'gatow', 'cerimoniós', 'delegades', 'esgarrapar', 'gordon', 'inferència', 'dividint', 'osiris', 'jutjava', 'palesos', 'caretes', 'caravanes', 'arrisca', 'cranials', 'falsedats', 'xibius', 'family', 'montferrer', 'enclavaments', 'know', 'provenir', 'escapés', 'plafó', 'xandri', 'llauners', 'navarrete', 'vòrtexs', 'cepeda', 'fonamentat', 'utilitzaren', 'emprenyadors', 'collage', 'genteta', 'vestint', 'vilamitjana', 'ossó', 'vandàlics', 'santó', 'sarlé', 'dugueren', 'albaigés', 'espunyola', 'quimeres', 'alterant', 'montanyà', 'circumferència', 'destruccions', 'religiosament', 'neumann', 'inexpugnable', 'vansa', 'palós', 'coscubiela', 'profitoses', 'regí', 'demagogia', 'shop', 'assegurament', 'durao', 'teixida', 'roti', 'corpuscles', 'salesians', 'aclareixi', 'destructiva', 'dals', 'mortalment', 'tridir', 'enregistrats', 'olivé', 'zurita', 'sangrà', 'espino', 'disgustada', 'derivant', 'xesco', 'equiparable', 'bandits', 'sahrauí', 'alades', 'petra', 'berlusconi', 'revoltat', 'antares', 'himen', 'jup', 'trilions', 'zebra', 'encertava', 'wagggs', 'badat', 'isnellament', 'view', 'mosquiteres', 'incasòl', 'llefiscositats', 'ujats', 'sangassa', 'farreny', 'south', 'definim', 'rebo', 'fast', 'salvatjada', 'foteses', 'curulla', 'multiespai', 'submarinisme', 'ramiro', 'gèrmens', 'prioritàriament', 'especificada', 'provem', 'entomar', 'delia', 'cargolat', 'ferint', 'gelida', 'mediona', 'coneixies', 'lustrades', 'atansí', 'endèmiques', 'tremolen', 'reviu', 'hipocondríac', 'imams', 'traginers', 'buls', 'tites', 'brufal', 'aplaudeix', 'superilla', 'habitacional', 'pedagogs', 'duros', 'unreal', 'cenotafi', 'claudàtors', 'corralejo', 'ineficient', 'esborrada', 'moneo', 'salpassers', 'eixauc', 'fecoll', 'leguen', 'maresmes', 'esgarrapades', 'embargada', 'lledoner', 'galacticat', 'solidaria', 'bategós', 'llefec', 'exclogui', 'guç', 'traumàtiques', 'contraposa', 'internacionalitzadora', 'gams', 'butsènit', 'covardament', 'lectualitat', 'atzep', 'inhibidor', 'cerc', 'sanguínies', 'procurat', 'interromp', 'sinò', 'moguts', 'patològiques', 'practicaven', 'distintes', 'botswana', 'estevet', 'retenen', 'relliscat', 'csis', 'postobligatoris', 'honoris', 'onejant', 'saltó', 'ràfols', 'executarà', 'rancs', 'recomanaries', 'ensucrades', 'immersions', 'terradets', 'integraran', 'contracop', 'clarós', 'rememorar', 'cecot', 'corprès', 'lànime', 'rañé', 'transisquella', 'gam', 'enregistrada', 'regularització', 'pàmias', 'flo', 'pulsions', 'sainte', 'embogits', 'cortesans', 'refusat', 'inconspicu', 'demostrarà', 'aims', 'escateix', 'monitora', 'amatori', 'tesaurus', 'ebullició', 'ajupit', 'monts', 'visités', 'visiti', 'grises', 'postil', 'pastura', 'waterpolo', 'patges', 'eurocambra', 'fotrien', 'devastar', 'ateny', 'embo', 'ramoncín', 'gualba', 'lengua', 'terrassing', 'rodada', 'angèlica', 'rectoria', 'intervingui', 'bugaderia', 'estranyaria', 'àrides', 'correpoma', 'manifestada', 'almoina', 'aplaudint', 'tocaran', 'fetor', 'gimnastes', 'cercadors', 'tits', 'marilyn', 'composa', 'embranzides', 'balletbó', 'pugnaç', 'encenedor', 'dolcet', 'emportes', 'existeixin', 'exconsellers', 'reusenca', 'retrovisor', 'animades', 'eladi', 'soferta', 'quillos', 'correfoc', 'finta', 'involució', 'tributar', 'balart', 'minusvàlids', 'vengués', 'pixava', 'llagostins', 'claca', 'brometa', 'vats', 'trucaven', 'alterbeques', 'compliria', 'porxo', 'deix', 'fake', 'cotxets', 'ayala', 'rum', 'dissuadir', 'ftp', 'esglaonada', 'plausibles', 'cedia', 'cern', 'tururut', 'ardus', 'segut', 'estimant', 'athenia', 'maldant', 'siluetes', 'arbequina', 'aproximades', 'lloms', 'socioemocionals', 'arrambar', 'glorieta', 'quàntics', 'sícoris', 'abocament', 'bauhaus', 'traçats', 'cataractes', 'depressions', 'acordió', 'sanguinàries', 'congregar', 'contextualitzats', 'haia', 'curriculum', 'espècia', 'elidit', 'eiximenis', 'mul', 'prisma', 'substituiran', 'rectifiqui', 'icd', 'camprubí', 'masovers', 'ferraz', 'endinsem', 'tj', 'cruspia', 'intrèpid', 'caso', 'cocrear', 'seguents', 'manises', 'punxat', 'lloyd', 'wright', 'domenys', 'esfondrar', 'extingida', 'etílic', 'istance', 'germanitzar', 'cònsul', 'arcans', 'ryti', 'maleter', 'equivoquem', 'òmnibus', 'saipan', 'allerats', 'senderista', 'aplom', 'ajornaments', 'sancionats', 'rubert', 'dirigí', 'vacu', 'donde', 'pirotècnics', 'pasturar', 'estrés', 'croquetes', 'animalades', 'bullides', 'banderoles', 'operadora', 'complimentar', 'revitalitzar', 'seldte', 'trilingüe', 'residia', 'cronològica', 'patin', 'honestos', 'detritus', 'horetes', 'royce', 'despectiu', 'manetes', 'restat', 'miràvem', 'bibliotecari', 'camionetes', 'desclot', 'moises', 'tractà', 'gandula', 'teix', 'guía', 'dictaminar', 'arrabassar', 'engalipar', 'escriny', 'enderiat', 'aquós', 'vessen', 'nasqué', 'end', 'silvicultura', 'endreça', 'lucie', 'sargantana', 'absorbent', 'carregadors', 'ghulam', 'vivir', 'flotes', 'matin', 'cultismes', 'estrofes', 'assisteixi', 'augmentaven', 'altarriba', 'judicatura', 'benvolgut', 'distingim', 'malles', 'ucd', 'suporto', 'curset', 'pirotècnia', 'exquisides', 'magma', 'atien', 'prescindeix', 'paregut', 'trastocat', 'cistercenc', 'loquem', 'espigues', 'parroquia', 'atropellat', 'dolce', 'pregava', 'eleven', 'lustradors', 'mirà', 'estofa', 'barlach', 'pauleta', 'suspendrà', 'inflada', 'desequilibrar', 'emprempta', 'peregrinació', 'arranca', 'grollera', 'incurables', 'medica', 'precedits', 'atendran', 'begonya', 'vigueras', 'novela', 'anotant', 'rigué', 'autobombo', 'colgada', 'pontífex', 'fr', 'degradades', 'carreño', 'configurant', 'enviaré', 'anillo', 'neva', 'assassinen', 'tombà', 'vivament', 'beltrán', 'virolades', 'guerriller', 'esvorancs', 'edullesa', 'simbolitzar', 'ambaixadora', 'declarades', 'pigmeu', 'apunto', 'french', 'funicular', 'raonada', 'frontalment', 'passola', 'gravitació', 'seguer', 'voreja', 'boteruda', 'testos', 'mass', 'complaent', 'prevaldre', 'gines', 'divinals', 'dramatisme', 'desgastat', 'lliria', 'almogàver', 'estoicament', 'ostatge', 'marrameu', 'classificant', 'omplerts', 'ineficaç', 'contraria', 'contraindicacions', 'ol', 'interfereix', 'coprodu', 'situacio', 'gassó', 'comentaré', 'trienni', 'despullades', 'killers', 'wiedemann', 'taifa', 'gua', 'erràtica', 'forans', 'auxilis', 'infrastructura', 'apagades', 'desinterès', 'menjarà', 'rijkaard', 'malvats', 'moli', 'encarregaran', 'guyon', 'escuela', 'insurreccional', 'guarderia', 'bonifaci', 'ricomà', 'mantingudes', 'mesclar', 'heim', 'fukushima', 'andalus', 'anira', 'dg', 'psítacs', 'verdesca', 'informo', 'atena', 'pangermanista', 'conflictivitat', 'homogenis', 'neuroeducació', 'eixits', 'br', 'sarga', 'nikita', 'argumentats', 'liderava', 'batlliu', 'aralleida', 'sonats', 'gèlides', 'nuño', 'baixeu', 'manipulades', 'recipients', 'flexibilització', 'vàren', 'utopies', 'havía', 'animadversió', 'dinamitzen', 'desanimar', 'roncar', 'radioactius', 'bernardo', 'perdurar', 'sartre', 'descansarà', 'cicló', 'imp', 'voregen', 'babuí', 'recentralitzadora', 'carbassons', 'mitjes', 'eurovoc', 'elaborem', 'leccionar', 'asseuen', 'valldonzella', 'crispetes', 'ondulat', 'ermini', 'enfada', 'rosseta', 'blindar', 'weichs', 'burletes', 'ruca', 'how', 'brunet', 'encallats', 'substanciarà', 'aguanti', 'veny', 'cooperants', 'alejo', 'tonta', 'rento', 'pelatge', 'gitanetes', 'bayona', 'traure', 'beirut', 'perdràs', 'corporatives', 'unescocat', 'estrafolles', 'vercelli', 'cobdícia', 'bidons', 'cercaviles', 'cementeri', 'incinerar', 'tems', 'llarguíssimes', 'argumentacions', 'encantadors', 'gralles', 'avaluada', 'imputacions', 'paradoxes', 'fornet', 'estimbat', 'grassoneta', 'destituit', 'vigón', 'esfumat', 'cançoner', 'abominables', 'extravagants', 'conspiracions', 'fels', 'pravda', 'irracionalitat', 'convencia', 'recopilant', 'evocacions', 'jacqueline', 'corrales', 'supermotard', 'xuta', 'corregidor', 'nevava', 'rectangulars', 'animadores', 'extreuen', 'amputar', 'callen', 'batucada', 'eixerida', 'xocat', 'formalitza', 'encobert', 'presidint', 'esperonat', 'panerola', 'escardalenc', 'trapezi', 'greer', 'involucra', 'herradura', 'decapitar', 'abjecta', 'reunim', 'agrairíem', 'gosés', 'identificatives', 'lídice', 'fatxenda', 'demagogs', 'importadors', 'xim', 'pohl', 'reservava', 'creguessin', 'nupcial', 'rsc', 'purificar', 'atracar', 'espòs', 'desplegables', 'descordadament', 'pelet', 'treies', 'deutsch', 'sensa', 'irresistible', 'anticapitalista', 'cancellera', 'mosley', 'rapid', 'infusions', 'arnr', 'comu', 'autoritàries', 'morfosintaxi', 'clínicament', 'colonia', 'immunitàries', 'bielsa', 'girada', 'secretaries', 'femoral', 'safesign', 'altas', 'sobrevivent', 'internada', 'indesxifrables', 'cabezón', 'apertura', 'enters', 'plos', 'ref', 'parides', 'perfumat', 'idò', 'executaven', 'delinquents', 'esquitxat', 'convalescent', 'huber', 'comprobat', 'regulats', 'devessall', 'mentalitzar', 'pleguem', 'metàstasis', 'afamegat', 'adiu', 'bialy', 'dep', 'ventosa', 'congestió', 'transcriptòmiques', 'explícits', 'automobilística', 'gentilicis', 'criptogràfic', 'hacha', 'rondinant', 'sofreix', 'indefugible', 'cubans', 'convingut', 'encaminar', 'eficientment', 'mitològic', 'lloa', 'ile', 'escorcollant', 'kirchner', 'ocellet', 'cervical', 'floreix', 'compulsiva', 'innegociable', 'etileno', 'edulcorants', 'fashion', 'agregades', 'tango', 'ergo', 'ibérica', 'garrot', 'rosso', 'insistien', 'cromatografia', 'patrilineal', 'parisenca', 'aguantaven', 'winter', 'enduus', 'isidor', 'titani', 'anfitriona', 'ineficàcia', 'aparca', 'auditors', 'efluvis', 'croissant', 'jaquien', 'larva', 'instaurada', 'entretant', 'capbussar', 'andre', 'vivendi', 'rastrejar', 'queixeu', 'milnor', 'agier', 'ankh', 'refinada', 'alertava', 'ob', 'indecís', 'personificada', 'agredida', 'epitelials', 'recapitalització', 'escurar', 'plà', 'simuladors', 'condicionades', 'experimentalment', 'cooperen', 'lemos', 'moreneta', 'geiec', 'astorament', 'hebreus', 'disposessin', 'sisquella', 'libles', 'donis', 'grünberg', 'contextualitzeu', 'reconvertit', 'banyeres', 'copiada', 'parte', 'assetja', 'adelson', 'millorarem', 'oak', 'vg', 'leopoldo', 'burgo', 'amollar', 'juana', 'hart', 'ante', 'transfereix', 'oportunisme', 'trás', 'inspirant', 'humanització', 'granell', 'della', 'bagà', 'brèndoles', 'cadastral', 'aixì', 'jara', 'químicas', 'komodo', 'licitador', 'desinfecció', 'convidarà', 'cpg', 'transcendents', 'xarrup', 'kent', 'provençals', 'estrèpit', 'navega', 'àrtica', 'demandar', 'neuroimatge', 'morgan', 'surroca', 'comparatives', 'blood', 'ssor', 'incomoditat', 'nevats', 'cots', 'economía', 'infeliç', 'seleccionaran', 'reconstrueixen', 'escriptures', 'cohet', 'claire', 'capturant', 'telemàtiques', 'rama', 'coronada', 'persegueixi', 'triarà', 'industrias', 'bestretes', 'exposarem', 'langlands', 'conductuals', 'milicians', 'gernacions', 'externalitats', 'ornitorrinc', 'oliveró', 'aixetes', 'primat', 'eviteu', 'bioenginyeria', 'entrevé', 'fonemes', 'sn', 'mem', 'montevideo', 'hamburgueseria', 'flexiona', 'desplaçant', 'respondria', 'ajudarem', 'cuidaven', 'léon', 'malmet', 'instamaps', 'regenta', 'proporcionin', 'delictives', 'mamàries', 'antitumoral', 'carnatge', 'utilitzessin', 'seleccionarà', 'bronca', 'fundacionals', 'poquíssim', 'perdíem', 'castellanisme', 'comercialitzat', 'exigeixo', 'subdialectes', 'pellucalles', 'rocós', 'bloqueja', 'especiació', 'planetèssims', 'curtet', 'coneixe', 'sobradament', 'nodrit', 'marianao', 'vigilen', 'penedeix', 'parlaríem', 'torradetes', 'servissin', 'profecies', 'porqueres', 'neolítica', 'encoratgem', 'localitza', 'filmació', 'vedruna', 'esradio', 'desolació', 'elongació', 'atempten', 'óxido', 'conscientment', 'bolina', 'materialització', 'analitzava', 'abordaran', 'videolit', 'relliscades', 'vallespir', 'fusiona', 'amagués', 'entregades', 'lèrgies', 'mostrejos', 'autoexigència', 'mayte', 'butllofa', 'semivida', 'hermano', 'publicaré', 'hiper', 'escampa', 'enginyera', 'pàmpols', 'anihilats', 'civilitat', 'pensarien', 'amiguetes', 'tgv', 'reticle', 'xnergic', 'digue', 'desapareixia', 'foradar', 'levante', 'perpendicular', 'oldats', 'asspain', 'sobrant', 'practiqui', 'traudl', 'bendlerblock', 'compulsiu', 'deformacions', 'materia', 'apilats', 'proteiques', 'desaprovació', 'servida', 'obtingués', 'bozeman', 'fastiguejats', 'afegiré', 'concordat', 'assumim', 'espectrometria', 'miniatures', 'comparsa', 'desocupades', 'gastada', 'traidor', 'lluit', 'agile', 'premsada', 'estretor', 'espectròmetre', 'qualificava', 'mende', 'esbiaixat', 'odiosos', 'transparencia', 'lluminoses', 'calidesa', 'mató', 'jugaré', 'josa', 'grunewald', 'campaners', 'permissivitat', 'numeret', 'atreveixo', 'esgarrifaó', 'arnès', 'obstinat', 'lausana', 'insuportables', 'estament', 'vellutats', 'access', 'darreries', 'disfruteu', 'estalviarà', 'sistematitzar', 'endolcir', 'absurditat', 'agrupava', 'desbordar', 'maior', 'actuessin', 'yuste', 'regidories', 'ankara', 'gravarà', 'xocant', 'cangur', 'pacifistes', 'excitant', 'opinaven', 'antifranquista', 'moisés', 'proporcionada', 'ku', 'redempció', 'entente', 'alte', 'tedros', 'friday', 'segreguen', 'destrossen', 'ncov', 'analysis', 'argemí', 'bashir', 'femp', 'provats', 'disfunció', 'rasos', 'rex', 'avergonyits', 'ano', 'betis', 'talús', 'graça', 'respongués', 'carcanada', 'prepararà', 'esmolar', 'remotament', 'engrapar', 'innocentment', 'alimentaria', 'afegís', 'sobreexplotació', 'tenyit', 'assumides', 'encaminats', 'rendint', 'municilab', 'vimbodí', 'equivocades', 'acostumi', 'mirament', 'revisarem', 'predicant', 'panxut', 'ticket', 'anacrònic', 'òbit', 'fumen', 'terraxa', 'graons', 'inconsciència', 'trichet', 'ceps', 'pòstums', 'dards', 'captaires', 'maldestres', 'padrón', 'psiquiatra', 'brillar', 'quadrada', 'cridi', 'civís', 'filtracions', 'faraons', 'insostenibles', 'mineria', 'large', 'laria', 'bidimensional', 'enumera', 'tamany', 'melangiosos', 'crispr', 'burjassot', 'formaldehid', 'desemboca', 'cards', 'identificaven', 'progenitor', 'atípic', 'guanyo', 'neurotransmissor', 'fugim', 'sabres', 'impresionant', 'pesqueres', 'intersexuals', 'vulgarment', 'autoretrat', 'ibis', 'aclarida', 'latin', 'cpps', 'villaviciosa', 'inviolabilitat', 'sivelles', 'blum', 'comportamentals', 'absorbint', 'cárdenas', 'escampades', 'subnormals', 'miniestadi', 'robustesa', 'safareigs', 'ramal', 'detinguessin', 'marginalitat', 'soterrament', 'calcària', 'tenebrós', 'enfilant', 'emmirallat', 'malacidina', 'regressiu', 'selectivament', 'acabis', 'nyogui', 'familiaritzats', 'brollaven', 'urmetazou', 'montiel', 'enjorn', 'consagrats', 'innovant', 'bioinformàtiques', 'solo', 'monòton', 'subsectors', 'itinerants', 'signi', 'nyigui', 'berto', 'goluts', 'proletari', 'durango', 'functional', 'fisioterapèutiques', 'forceu', 'pongo', 'duflo', 'lers', 'peebles', 'complementeu', 'prospera', 'paleogenòmica', 'wallis', 'voldrem', 'vomitiu', 'llenyataire', 'rainer', 'popularitzat', 'cansades', 'cigar', 'informarem', 'construiria', 'rodés', 'ling', 'estre', 'class', 'enterovirus', 'escaló', 'revisats', 'esgarrifança', 'mestissos', 'biogeoquímica', 'designis', 'contradictori', 'royo', 'magrebins', 'manzano', 'despistats', 'creguts', 'observo', 'datiu', 'lynn', 'capcinades', 'tèrmics', 'abraçava', 'axís', 'cautelars', 'requeriran', 'luxosos', 'jos', 'abraçat', 'escrig', 'paranoic', 'ecòloga', 'hospici', 'distribuirà', 'eslava', 'predicava', 'buda', 'bioeconomia', 'correctiu', 'moralista', 'supermet', 'arribis', 'tanit', 'zarza', 'clímax', 'traumàtic', 'sagnier', 'youtu', 'filòsofa', 'fosquet', 'intrínsecament', 'fesols', 'lie', 'tribals', 'recorrerem', 'analfabetisme', 'omnisports', 'afroamericà', 'establim', 'trapella', 'fixi', 'bufandes', 'superaven', 'correa', 'gravíssimes', 'inaugurava', 'ballarín', 'cidoncha', 'destrossant', 'llambrecs', 'expressionista', 'rancor', 'tendenciós', 'verónica', 'planxes', 'indagar', 'ésadir', 'ruixar', 'opuscles', 'manutenció', 'verm', 'atançat', 'tarat', 'merescudament', 'prometien', 'retribu', 'sudamèrica', 'taba', 'farnats', 'remès', 'perfumeria', 'coutràs', 'oluges', 'afegeixin', 'predicadors', 'simbolitzava', 'vilapicina', 'exportaveu', 'literats', 'simc', 'sticks', 'emigrats', 'silvano', 'our', 'pruents', 'interesa', 'pessigolleig', 'catastròfiques', 'pèro', 'exposito', 'crearem', 'parxís', 'exigides', 'engrescat', 'naut', 'panera', 'oficinistes', 'zum', 'afrontant', 'paremiologia', 'pútrid', 'comencis', 'ropec', 'españoles', 'balada', 'smartphone', 'tarannàs', 'impactada', 'purito', 'doblers', 'estratosfèrics', 'nemor', 'ortoll', 'capolls', 'auditor', 'aqüífers', 'corromp', 'benèfica', 'hemorràgies', 'labrador', 'fronterer', 'camperol', 'llostre', 'sedis', 'dinarem', 'facilitació', 'tsch', 'case', 'cabalment', 'urbanites', 'coincideixin', 'relay', 'drechou', 'empaita', 'comcals', 'uixer', 'paddock', 'luter', 'prioritzen', 'xest', 'humiliats', 'sorigué', 'cretina', 'ebrenc', 'ordenés', 'feredat', 'neixia', 'enlluny', 'caminat', 'arxivada', 'sucursals', 'crèdul', 'servil', 'duo', 'tirades', 'esgarrapat', 'amens', 'esmorteir', 'obaga', 'saxofon', 'existissin', 'descartades', 'panxuts', 'revera', 'janés', 'transmesa', 'intensity', 'fresneda', 'saboners', 'bagdad', 'indemne', 'apfelkuchen', 'recíprocs', 'aprenguessin', 'avar', 'novoa', 'equilibrats', 'polsegoses', 'fahoncat', 'building', 'closos', 'elaboradors', 'calçats', 'participarem', 'etnològic', 'xecs', 'escadussers', 'compactes', 'navedo', 'detectem', 'empastifats', 'beatriu', 'xerrera', 'furtiva', 'desvagats', 'subscrits', 'acompleixi', 'parí', 'inquisidor', 'rush', 'deteriorar', 'besavi', 'fàmul', 'reeixiren', 'servim', 'crearia', 'imbatuts', 'coop', 'robinat', 'glossari', 'guapos', 'subnormal', 'musclejant', 'casagran', 'escarcellers', 'josefa', 'dominadora', 'perversos', 'agroindustrial', 'analitzes', 'excavat', 'evalisa', 'usach', 'mediadors', 'cordats', 'invencible', 'inclusius', 'inculcat', 'apariar', 'desades', 'massaguer', 'esmalt', 'tines', 'radionovel', 'eternitats', 'ritmenatura', 'desertificació', 'aventatges', 'plutòcrates', 'taulers', 'sacsejat', 'hidràulic', 'federation', 'pagines', 'buidava', 'virginitat', 'somniada', 'distingida', 'microcontes', 'picas', 'zombi', 'inutils', 'ubiqua', 'idealment', 'comestibles', 'neurals', 'barrut', 'somieigs', 'rosés', 'wilde', 'paretas', 'escollirà', 'teixeix', 'necessitaràs', 'folklorista', 'furt', 'agressivament', 'cagallonet', 'esdevenim', 'alienígena', 'perllonga', 'arrencaran', 'jardinets', 'bielinsky', 'totxos', 'consogre', 'margaret', 'honora', 'espinyar', 'xiu', 'planten', 'subjecció', 'wagensberg', 'aprenentatgeservei', 'lapiedra', 'salicrú', 'plantegin', 'corretges', 'pinçament', 'lúgubre', 'plasmat', 'acrobàtic', 'presumia', 'tuc', 'sumada', 'posposat', 'triplicar', 'kilian', 'aixecarà', 'vacunació', 'epígons', 'sanguinolents', 'contaven', 'altíssimes', 'turments', 'cidés', 'ale', 'billar', 'petitona', 'hormonals', 'decaure', 'cuguços', 'estrènua', 'contundentment', 'olivet', 'rebeca', 'saons', 'valentina', 'satisfacin', 'emmagatzemats', 'camàlic', 'somiem', 'ohio', 'cardo', 'resultaria', 'ciments', 'conservadorisme', 'radiodifusió', 'descansés', 'exigu', 'bena', 'sabes', 'publicista', 'romano', 'recel', 'vividor', 'bochaca', 'prejubilacions', 'desafia', 'rejovenir', 'aquiescència', 'manxant', 'fleumes', 'ressonant', 'southampton', 'morató', 'mentia', 'articularà', 'prístina', 'seleccionadora', 'cuirassades', 'abonarà', 'powerbar', 'vèrtexs', 'eight', 'landrin', 'selección', 'genoveva', 'matiners', 'encenent', 'nounat', 'encomanada', 'rendia', 'delusió', 'plusvàlues', 'abocant', 'absurdament', 'progressisme', 'ws', 'lúbric', 'entronca', 'galdón', 'cubana', 'juventude', 'jnlp', 'chavarría', 'contrapunt', 'hams', 'futbolístic', 'consir', 'interprofessional', 'escandalitzat', 'jiloca', 'endògens', 'fructícola', 'copieu', 'restituir', 'quinzè', 'bafarades', 'birds', 'sigue', 'votaven', 'assumits', 'depilació', 'paolo', 'barallen', 'sollada', 'abracen', 'orihuela', 'amada', 'atreveixes', 'actualitzarà', 'plujós', 'estrenada', 'indigent', 'amer', 'crostetes', 'fúlvia', 'rebaixant', 'llegeixis', 'traballar', 'solidaritza', 'proust', 'engegades', 'puntuen', 'adoctrinats', 'paps', 'tadesan', 'adjuntant', 'colen', 'xafardera', 'ninotaire', 'viña', 'presseguers', 'construit', 'homenatjarà', 'adela', 'osten', 'calladet', 'murmuri', 'quijote', 'impecables', 'allargaria', 'paquetet', 'constituint', 'venecia', 'agrupant', 'enfosquit', 'ocàs', 'caprabo', 'foresmap', 'orwell', 'crm', 'vanguàrdia', 'llavina', 'dialectologia', 'hermètic', 'sofres', 'sponsors', 'pedrals', 'lària', 'biomèdic', 'concreten', 'platerets', 'interpretaran', 'hawaii', 'bategava', 'admirables', 'donguin', 'fràncfort', 'colomencs', 'afalacs', 'euroregió', 'autodefensa', 'obac', 'votessin', 'esperona', 'escombrant', 'fascinada', 'motiven', 'bastos', 'vassall', 'culminarà', 'sòcio', 'solemnes', 'commocionat', 'solf', 'inòpia', 'figurants', 'cebrià', 'guisat', 'pararem', 'desprotegits', 'arquetips', 'tassigny', 'eupmt', 'wms', 'estireganyat', 'peronella', 'entrats', 'pòsit', 'ocellets', 'kant', 'butxacó', 'adaptatius', 'circulat', 'ínfim', 'galls', 'empedrat', 'compenetració', 'caceres', 'lavit', 'honduras', 'invasiva', 'ininterrompudament', 'xperience', 'pediàtric', 'intercanvien', 'sòcrates', 'minorització', 'bonhomiós', 'xa', 'examinava', 'descartes', 'competencies', 'polzades', 'sahara', 'chill', 'kalimantan', 'emprenyen', 'aparcada', 'summit', 'interessaria', 'merdosets', 'electricista', 'computadores', 'francofonia', 'damm', 'arregli', 'instintivament', 'ridiculitzat', 'schulz', 'compiègne', 'gnatòstoms', 'tanoques', 'medicalitzat', 'vetlli', 'easy', 'cassoleta', 'convulsos', 'pinassa', 'imbatuda', 'mike', 'assentada', 'comparteixes', 'simulada', 'enfosquir', 'honrar', 'litografia', 'ampolleta', 'paciencia', 'antiquat', 'exaltar', 'resignada', 'fonteta', 'jade', 'aplaudeixen', 'retiraria', 'septiembre', 'czech', 'rhin', 'amil', 'ténen', 'sofisticats', 'incoherents', 'anhelat', 'mané', 'neisse', 'inflar', 'pobretat', 'maulets', 'finit', 'receptacle', 'alliberades', 'friki', 'hanns', 'locutoris', 'calatrava', 'lluitin', 'espoderaments', 'privilegiades', 'traslladés', 'circs', 'ballarins', 'pedreres', 'finès', 'trumfes', 'botifarrada', 'benedito', 'simulades', 'contestada', 'coven', 'escrivís', 'hidroavions', 'caminets', 'riuprimer', 'resistissin', 'profesor', 'rapinyaires', 'alcalà', 'baleàric', 'wsecup', 'cosint', 'brienner', 'politització', 'rondalla', 'plàncton', 'cobrem', 'activi', 'clf', 'recules', 'entomòlegs', 'xarxanet', 'desconcertats', 'malfactors', 'gàlvez', 'prescindint', 'ressorgiment', 'aterrava', 'creuarà', 'versus', 'descordats', 'concisió', 'putrefacte', 'corrupteles', 'bernie', 'retreia', 'vendetta', 'autopropulsats', 'defensessin', 'combatia', 'imaginen', 'atrocitat', 'complementaria', 'estora', 'eminents', 'xiscles', 'afegeixi', 'gb', 'amnèsia', 'pfeffer', 'linde', 'cedeira', 'arasa', 'marmanyera', 'pantomima', 'dirigeixi', 'brodat', 'tamarit', 'ploren', 'assessorarà', 'níjar', 'mortem', 'esquifit', 'portàtils', 'ponia', 'litza', 'rabiüt', 'walker', 'doppler', 'estenien', 'assegudes', 'confosos', 'manqui', 'acudeixen', 'incompleixen', 'clibb', 'endurar', 'denunciés', 'disciplinàries', 'palmira', 'contemplats', 'atabalat', 'constituiria', 'mandonguilles', 'gurtel', 'ahora', 'sorollosos', 'oval', 'interceptats', 'ficticis', 'aficionada', 'stumpfegger', 'fictici', 'hiperbòlic', 'ornitòleg', 'transcriu', 'constret', 'honrats', 'exhibida', 'acnur', 'governades', 'ludir', 'graset', 'cavorques', 'convivint', 'sadako', 'bullida', 'immunològica', 'malenconia', 'fortificar', 'ocres', 'montreal', 'ixió', 'campuzano', 'sondejar', 'cet', 'efectuant', 'geoscience', 'escenografia', 'insultats', 'inda', 'var', 'guarnicions', 'súbdit', 'solàrium', 'opi', 'enxampats', 'insòlita', 'clonal', 'esternut', 'pamela', 'minguella', 'apartava', 'schr', 'marquin', 'encausats', 'iglú', 'enfilen', 'remolatxa', 'alfaproteobacteris', 'afectuosament', 'durán', 'llonch', 'indesxifrable', 'precedir', 'prototipatge', 'huétor', 'pressiona', 'stern', 'morgenpost', 'guardonar', 'zoppot', 'llepolia', 'metabòlicament', 'fulminant', 'ecuestre', 'ciceró', 'wear', 'confluents', 'escarafall', 'despreniments', 'boletaires', 'potingues', 'sèsam', 'prehistòriques', 'hubei', 'trobí', 'caques', 'forner', 'vendrellenc', 'hegemònics', 'adquirí', 'connectin', 'polint', 'umflats', 'fraudulents', 'commoció', 'sheila', 'deteriorats', 'camarga', 'desmuntat', 'cesare', 'vertebradors', 'kommando', 'excelsa', 'intransigència', 'recurrència', 'subratllant', 'enjòlits', 'baiba', 'proporcionats', 'comptatge', 'matilde', 'filferros', 'establiria', 'innsbruck', 'fumejant', 'haplogrups', 'descarto', 'biblioteconomia', 'procesos', 'redactarà', 'esparver', 'suors', 'animin', 'planeja', 'amuntegaven', 'cago', 'ardor', 'donostia', 'kaunas', 'geim', 'ebrenques', 'angelo', 'tui', 'cortada', 'processal', 'mckinley', 'agafades', 'eros', 'carranza', 'afligit', 'iugoslava', 'immutable', 'oa', 'pedaç', 'ventilador', 'mengés', 'feng', 'mànager', 'monografies', 'ultramar', 'badalonina', 'llencés', 'cordills', 'usb', 'watson', 'preocupeu', 'ataconat', 'rudolfensis', 'fallits', 'esbrina', 'convoqués', 'esadir', 'entaulats', 'ligible', 'retolador', 'pioc', 'reverte', 'exigible', 'occitan', 'hg', 'riudecanyes', 'marcaria', 'trineu', 'increibles', 'patinadors', 'bonavista', 'filadèlfia', 'encarregui', 'hiperbòliques', 'mutagènesi', 'lorente', 'conectar', 'metil', 'desnonat', 'designen', 'afectius', 'baiona', 'pegasi', 'esbojarrades', 'biofísica', 'dimetilfumarat', 'transgèneres', 'esdevinguí', 'lgbti', 'descendia', 'nmda', 'neden', 'forçes', 'myovb', 'paradisíac', 'cans', 'intente', 'carrefour', 'gambades', 'jun', 'faç', 'smithii', 'afavorides', 'bezsonoff', 'ferreries', 'montpestller', 'protó', 'islamistes', 'rústic', 'accedia', 'transcriure', 'mic', 'telomerasa', 'senyorials', 'todos', 'llenguado', 'braçals', 'encuriosits', 'heron', 'bmc', 'llansana', 'satisfetes', 'acolloneix', 'baixo', 'farbalans', 'burgess', 'caducifolis', 'pèrsia', 'conclourà', 'interactivitat', 'substrats', 'pennsilvània', 'pragmàtica', 'pretèrits', 'moldàvia', 'anàlogues', 'senegalesos', 'riallada', 'dissortadament', 'andaluz', 'filigranes', 'borses', 'incrementi', 'panxot', 'esquitllava', 'tòkio', 'pletòric', 'restaven', 'inesperades', 'vehement', 'mandrosos', 'youth', 'convalidar', 'roth', 'lhc', 'lakers', 'calçasses', 'txigrinski', 'engabiat', 'rainbow', 'rosegador', 'amflora', 'destini', 'albopictus', 'startups', 'ebln', 'implantant', 'servicio', 'biomèdiques', 'estalviarem', 'inexorablement', 'radiografies', 'necessitades', 'gruat', 'bidell', 'sas', 'bidireccional', 'buscada', 'nk', 'hipopressiva', 'fumaroles', 'sagaç', 'entraré', 'cambriana', 'insecticida', 'suggereixi', 'publicaren', 'western', 'tocoferol', 'filiació', 'actuarien', 'condicionarà', 'segriny', 'head', 'carallet', 'subirós', 'pulsió', 'fisas', 'prés', 'passatgera', 'desplegada', 'manès', 'capo', 'porno', 'convertides', 'manipulats', 'encisador', 'craniana', 'roll', 'sabatilla', 'negligit', 'dakota', 'ègida', 'destarotat', 'dessecació', 'retencions', 'casassas', 'tagliatella', 'aves', 'castellufes', 'ndzuwani', 'laietans', 'quedareu', 'decoratiu', 'deplorables', 'decrèpit', 'malcarat', 'pòtols', 'francisca', 'substituts', 'barrull', 'somrís', 'entrenada', 'karolinska', 'lance', 'sitja', 'hoyos', 'esguardem', 'possat', 'metafísiques', 'gàlib', 'torniols', 'cudillero', 'prometedores', 'dibuixades', 'reeixí', 'incorporava', 'evitarà', 'gdd', 'participats', 'villares', 'bum', 'gestat', 'zündapp', 'envelleix', 'manilva', 'paparra', 'retalli', 'aitana', 'ambientòlegs', 'job', 'estiuejants', 'mafumet', 'llogater', 'biomes', 'provo', 'pn', 'ferreres', 'masoquista', 'soley', 'lligava', 'biotecnologia', 'concomitants', 'guardés', 'militarització', 'assaltants', 'engrescadors', 'encetant', 'tutusaus', 'coixesa', 'cte', 'amelló', 'reavaluació', 'copròfags', 'centraven', 'munich', 'fumat', 'voltaire', 'autoinforme', 'trompades', 'snacks', 'elite', 'glorioses', 'meteor', 'aixalà', 'dubai', 'contemplarà', 'hispans', 'cínics', 'presumint', 'regiran', 'simulat', 'microeconòmic', 'tartamudejant', 'disposés', 'adornats', 'fornit', 'allarguen', 'carxot', 'saluan', 'emilie', 'tinet', 'confiscat', 'búlgara', 'hidrològic', 'manipulador', 'manrique', 'electric', 'phobos', 'gità', 'explícites', 'hif', 'matlab', 'minsos', 'energumen', 'coell', 'nocturnitat', 'guardant', 'minuciosament', 'dediqueu', 'utd', 'iquiosc', 'potter', 'esterlines', 'padellàs', 'sincronitzar', 'visitaven', 'rif', 'lluitaria', 'reconeixes', 'rotunda', 'colorectal', 'heyden', 'empiri', 'esfinx', 'utòpic', 'continuament', 'clovis', 'seleccionava', 'zeferí', 'projectaven', 'assange', 'mencions', 'patam', 'discrepar', 'rebotiga', 'dogmàtiques', 'xopa', 'constituí', 'homeostasi', 'hela', 'satisfactòries', 'willi', 'satcat', 'arna', 'habitar', 'crick', 'pinilla', 'hipòdrom', 'embalatge', 'aliberch', 'entregaven', 'verdós', 'newsweek', 'parole', 'icat', 'masson', 'empipa', 'eldebat', 'esverats', 'erin', 'semàntiques', 'conan', 'lleument', 'competidor', 'preso', 'perplexa', 'acolorida', 'realitzadors', 'ramonet', 'opens', 'enfonsés', 'venedora', 'grado', 'extramatrimonial', 'suggerent', 'bioinformàtica', 'decoren', 'fula', 'twiter', 'blancor', 'carruatge', 'ute', 'porte', 'rebíem', 'matutes', 'desorientats', 'cibernètica', 'cromosòmic', 'suñol', 'odiosa', 'polifacètic', 'niculescu', 'interiorment', 'insensible', 'captivitat', 'capseta', 'tapaven', 'galilei', 'etiologia', 'moblat', 'indeleble', 'hover', 'huai', 'intrusos', 'karplus', 'pretèrites', 'plaure', 'warshel', 'mamaris', 'trabajo', 'banyava', 'solans', 'südhof', 'fonedís', 'alarmar', 'cultivades', 'generalització', 'fmr', 'iniciaren', 'lgbt', 'cuento', 'tzar', 'raoul', 'jeffrey', 'fecundis', 'coffee', 'simfònic', 'portadores', 'vivian', 'cnmv', 'subproducte', 'estalviem', 'marxants', 'celebrin', 'patracols', 'rethinking', 'motivadores', 'torrencials', 'cultiva', 'desclou', 'perdré', 'piris', 'cartutx', 'incitació', 'claustres', 'tisora', 'palles', 'incoatius', 'fumaven', 'axel', 'tricicle', 'recopilades', 'anorreat', 'rob', 'imaginativa', 'cinquantè', 'estiba', 'garrotxí', 'acrobàtiques', 'rolf', 'inservibles', 'derelicte', 'aterraven', 'incrementarà', 'olivier', 'acusés', 'popitz', 'administrats', 'consonàntics', 'ramadà', 'annabel', 'insà', 'robertson', 'multimedia', 'esteva', 'take', 'milionàries', 'desgel', 'carnívor', 'consideres', 'escapi', 'allargament', 'guido', 'màsquera', 'bardisses', 'subjacents', 'suggereixo', 'wingate', 'pubertat', 'arrestada', 'obligaria', 'isme', 'lleix', 'parlón', 'reutilitzables', 'inadaptats', 'ampliava', 'ideada', 'confident', 'reintegrar', 'explicable', 'tecnología', 'equatorià', 'guiarà', 'valorava', 'weekend', 'allotjades', 'vaginals', 'litúrgia', 'ventafocs', 'enlluernada', 'gombau', 'menjada', 'japet', 'coartada', 'conservaven', 'asseien', 'portillo', 'consulti', 'repetidors', 'desestimar', 'nereu', 'fugits', 'crusafont', 'reflectien', 'lucy', 'enfonsà', 'competien', 'pneumàtic', 'constructives', 'vd', 'económica', 'provarà', 'hürtgen', 'debutava', 'delitoses', 'linxament', 'natzweiler', 'cabanera', 'entenguessin', 'individualitzades', 'adquireixi', 'adaptables', 'hurtado', 'premisa', 'fantastic', 'gore', 'copsava', 'escalant', 'polonia', 'enlluerna', 'mortalles', 'tnf', 'setcases', 'endotoxina', 'divulgatius', 'perseu', 'cossetània', 'equilibrades', 'sumes', 'bulevard', 'interpretatiu', 'rots', 'serradures', 'retroba', 'assoleixi', 'cosmòdrom', 'bronquitis', 'besàvia', 'infografies', 'remordiments', 'rocamora', 'reactius', 'reclòs', 'torçat', 'destinaven', 'endèmic', 'triguen', 'fereix', 'merlí', 'gripaus', 'moscada', 'mentores', 'lustrin', 'transpiració', 'entremaliat', 'pròtesi', 'ardents', 'zigot', 'caiem', 'angina', 'cordar', 'violada', 'reinado', 'horroroses', 'eberbach', 'ye', 'migrats', 'nominat', 'incansables', 'elogiada', 'hiena', 'proposes', 'transfòbia', 'px', 'rutènia', 'individualistes', 'cascos', 'apartada', 'correspondrien', 'infinitud', 'ignoraven', 'xiclet', 'zenit', 'matarà', 'cardeal', 'letizia', 'amets', 'melangiosa', 'concentrava', 'adaptarà', 'marxeu', 'pingüí', 'demanis', 'afanys', 'batlló', 'detectaren', 'venguin', 'nb', 'entenguem', 'designava', 'receptaris', 'noiets', 'hiats', 'fedac', 'fatalment', 'crueltats', 'doris', 'bien', 'rellegit', 'destaco', 'renau', 'explotats', 'folre', 'orientatiu', 'unànimes', 'separem', 'burilles', 'mittelbau', 'edwin', 'irrecuperable', 'escriuran', 'suspectes', 'residencia', 'enfuig', 'melanoma', 'balenfianos', 'bennasar', 'empesca', 'badallar', 'bategant', 'microscopis', 'remunicipalització', 'galet', 'pensionista', 'tank', 'domoic', 'oldana', 'sloan', 'welcome', 'ressalta', 'emular', 'ultimament', 'burguillos', 'ever', 'llançador', 'cariàtides', 'fotocopiat', 'lències', 'quimèrics', 'sucursalista', 'apedaçat', 'encapçalarà', 'tambors', 'sòlita', 'pitgeu', 'gss', 'posibles', 'madaula', 'lfp', 'mostremp', 'ect', 'lletraferit', 'delitosos', 'ars', 'graupera', 'enfangat', 'urkullu', 'parió', 'casona', 'jerseis', 'alleugeriment', 'informin', 'etzigori', 'helvètiques', 'inclemències', 'psicòpates', 'etzibant', 'fèmur', 'lille', 'minivacances', 'feblement', 'rapte', 'despoblació', 'espanol', 'gravíssima', 'antidopatge', 'leonard', 'conservadores', 'cremi', 'barroeres', 'desfavorides', 'cornèlia', 'estretors', 'activarà', 'ateromatosa', 'tinguessim', 'globallleida', 'cobriu', 'adobat', 'anàven', 'discutim', 'salpebreu', 'farciment', 'death', 'cabañas', 'asterisc', 'diversitats', 'respectats', 'ardèvol', 'voltada', 'burxen', 'quiti', 'estàndar', 'faràn', 'inundar', 'rumasa', 'imaginables', 'entotsolat', 'empelt', 'alcantarilla', 'adormides', 'nuus', 'adopti', 'fresqueta', 'deliberar', 'diminuts', 'afavoria', 'deleteris', 'entost', 'xorca', 'manxúria', 'fàctics', 'porteta', 'mayr', 'instaurat', 'puguessim', 'lleixat', 'germa', 'estilet', 'escarni', 'eclipsat', 'sorpren', 'xàfec', 'denominats', 'comidas', 'orlando', 'entendreu', 'arxivats', 'zip', 'quiromassatge', 'minyonet', 'lloques', 'controlpack', 'innocamping', 'onejaven', 'canaries', 'investigada', 'inc', 'bolivia', 'expressats', 'bolivià', 'schreck', 'feristeles', 'bruckmann', 'àrtiques', 'evolutivament', 'brosses', 'cobo', 'totxo', 'anticicló', 'clapes', 'averany', 'goludam', 'boscoses', 'debate', 'pertoqui', 'senadora', 'femers', 'cats', 'cooficials', 'wirth', 'afusella', 'mautic', 'ensa', 'frontereres', 'engeguem', 'aixeco', 'maastricht', 'exempcions', 'arreglant', 'constitucionalitat', 'interessin', 'perdonin', 'extensament', 'abstemi', 'caquetes', 'convocant', 'lippe', 'ubicacions', 'exposaré', 'farfanya', 'murrieria', 'desencadenen', 'lusament', 'tarroja', 'dire', 'substantiva', 'adjectiva', 'confirmo', 'peqruè', 'chandra', 'viandes', 'ur', 'prevalents', 'robins', 'fóreu', 'acem', 'calorosa', 'teòrico', 'polsegueres', 'cagà', 'arxivat', 'gaietans', 'establís', 'obstrucció', 'trèvol', 'obsedida', 'huertas', 'fusionen', 'admirats', 'presió', 'xicotes', 'canviarem', 'reproduit', 'lusori', 'veteraníssim', 'lem', 'pensaré', 'lustren', 'jessica', 'lawrence', 'onírics', 'ecológica', 'gasós', 'eminències', 'laç', 'incipients', 'prien', 'difondran', 'modificarà', 'discórrer', 'afilar', 'artús', 'murga', 'identifico', 'localment', 'rangel', 'follies', 'sprints', 'procel', 'ardanuy', 'afirmativa', 'motivadora', 'explicita', 'althaia', 'rasquera', 'beuen', 'alfàbrega', 'establiren', 'trainer', 'barraqueta', 'revelador', 'inadequats', 'involucració', 'testimoniatge', 'perennement', 'charlottenburger', 'guaità', 'cobrin', 'disseminació', 'banllés', 'faupel', 'plegant', 'ubiquen', 'veteranes', 'envejosa', 'traumatologia', 'solistes', 'relacionin', 'caro', 'vellarres', 'xarrupant', 'escanyen', 'galzeran', 'reductor', 'mortridor', 'reactiva', 'mandataris', 'latents', 'rudimentari', 'volés', 'cobri', 'ultratjosament', 'testicles', 'distribuint', 'parmesà', 'posàvem', 'neteges', 'medellin', 'partenkirchen', 'chaussee', 'animalet', 'fraternal', 'perot', 'patinador', 'espelta', 'recollís', 'perdua', 'bigots', 'fall', 'forjadors', 'ergàstuls', 'quique', 'proposà', 'cash', 'ora', 'downing', 'simeó', 'masalles', 'relacionés', 'dinamitzats', 'fourier', 'aída', 'volves', 'puntuant', 'automatitzar', 'ratats', 'cruiximents', 'radioones', 'hortets', 'desfetes', 'túria', 'capri', 'somies', 'sabatés', 'estacionats', 'escudero', 'fementit', 'adonin', 'eidas', 'geoinformació', 'primaria', 'baldris', 'partido', 'wilhelmshaven', 'rítmics', 'faduc', 'marita', 'quedàvem', 'mats', 'concloent', 'bajà', 'acusades', 'enamorava', 'broadway', 'search', 'promocionat', 'impugnació', 'violats', 'pàmfils', 'rígides', 'polidament', 'gambuix', 'muntem', 'greixar', 'ciaj', 'vendéene', 'ninotets', 'papes', 'descartant', 'imet', 'partició', 'paparres', 'bachs', 'cms', 'situaven', 'signataris', 'sepúlveda', 'ubicaran', 'pastisset', 'gracietes', 'regionalista', 'balnearis', 'burdoy', 'callem', 'parroquier', 'hawker', 'àrids', 'cireretes', 'cabre', 'empatollen', 'maleducats', 'orriols', 'critiqueu', 'monoparental', 'roselles', 'congolès', 'fabricada', 'groenlàndia', 'satíric', 'sf', 'emmarcava', 'bavareses', 'habituat', 'assetjar', 'aliatges', 'anònimament', 'bufen', 'embolcalla', 'máster', 'uneixi', 'ferreira', 'artiga', 'frankenstein', 'puzle', 'propagandístiques', 'demanats', 'guadarrama', 'xarrada', 'esborrant', 'augurava', 'thaelmann', 'utilitzes', 'egon', 'quec', 'avorreixen', 'fu', 'novia', 'calvis', 'bodegon', 'trenquem', 'duquessa', 'estivals', 'daurar', 'claven', 'desfeia', 'acomiadarà', 'cacauets', 'desafortunades', 'barricada', 'zeppelin', 'replegaments', 'afluixat', 'subornar', 'etèria', 'campor', 'hble', 'sortireu', 'carbonero', 'eliminem', 'reuneixi', 'ehem', 'generava', 'olímpia', 'botar', 'mansions', 'mogués', 'moveu', 'bates', 'adjudicats', 'palomas', 'morfològicament', 'ciuraneta', 'assimilant', 'discoteques', 'afectés', 'udina', 'wochenschau', 'aguantaria', 'escanyats', 'sentenciant', 'ebas', 'multiples', 'ubisoft', 'indiscutiblement', 'estúpides', 'scapa', 'compendi', 'móns', 'ted', 'valeri', 'enamorades', 'retòrics', 'alsius', 'triptòfan', 'lora', 'xènia', 'nia', 'api', 'gínjol', 'esperaran', 'endreços', 'degradant', 'toquis', 'sospirs', 'adherència', 'davallades', 'instituir', 'rocallosos', 'espant', 'prohibien', 'navegava', 'garrepes', 'come', 'acab', 'butllofes', 'estimulants', 'reflexius', 'dematí', 'montpedró', 'havre', 'tendim', 'cosmobiologia', 'corruix', 'ocular', 'montoire', 'banyats', 'amebes', 'indonesi', 'clinton', 'dubti', 'busquet', 'meticulós', 'gotet', 'reichsvereinigung', 'nino', 'cercacurts', 'boot', 'reaccionaris', 'olorar', 'fotimer', 'aixecarem', 'stuart', 'frenètics', 'aquestas', 'mamen', 'esporgar', 'espellifat', 'àtica', 'nyapa', 'observatory', 'avariciosa', 'ginys', 'quesada', 'freedom', 'boreas', 'llofriu', 'contrarestat', 'oecd', 'jacobins', 'orxegant', 'drake', 'bianual', 'deserció', 'bergínia', 'osonenques', 'touroperador', 'incertes', 'freyberg', 'signés', 'lledó', 'cacofònics', 'nesta', 'compravenda', 'chávez', 'estabilitzadora', 'fun', 'tech', 'postulen', 'ruth', 'demagog', 'metafísic', 'ralet', 'mòlt', 'viatjaran', 'falkenhorst', 'anímica', 'caguera', 'cefalocordats', 'transportada', 'introductori', 'ancorat', 'tijeras', 'badades', 'caralls', 'izone', 'contesa', 'conviu', 'enneàquer', 'sigüenza', 'laica', 'raw', 'panzerdivisionen', 'simone', 'fracassa', 'propiciant', 'savall', 'colador', 'modalització', 'assignen', 'afectiu', 'subversió', 'toga', 'àrtics', 'impensables', 'desgovern', 'ofesa', 'duplicitat', 'cessa', 'demanades', 'dansàneu', 'georgiana', 'roseguen', 'tamar', 'reglamentària', 'campoo', 'perímetres', 'cridem', 'postre', 'inexhaurible', 'chhanga', 'cripps', 'inerme', 'demanàvem', 'endeutat', 'perdició', 'equivalències', 'pobrissonet', 'margot', 'grangers', 'reprimit', 'banquets', 'amiens', 'luxació', 'renunciem', 'eclipsis', 'collat', 'tutelats', 'dilmé', 'velar', 'tadeusz', 'lectualment', 'sintonitzar', 'optant', 'corri', 'pareix', 'plantem', 'captivadora', 'frigiliana', 'esfereir', 'lusio', 'mansilla', 'recés', 'sembrant', 'empentat', 'mostrats', 'bíblic', 'malmonge', 'catacumbes', 'romanalles', 'espectroscopia', 'hospitalàries', 'pipes', 'arreglen', 'gm', 'adipós', 'versets', 'divulga', 'llevantí', 'sisme', 'bloguer', 'necessitada', 'nutritiu', 'floridures', 'maeso', 'anyell', 'afroamericans', 'ferrat', 'gitar', 'stem', 'anorreador', 'farcell', 'amorrar', 'arrasat', 'costella', 'consoles', 'malèfica', 'rtvv', 'volcàniques', 'vergonyosos', 'enfonyat', 'bauer', 'monòcits', 'rotés', 'xiroies', 'ataconar', 'tirallongues', 'regateres', 'catàrtic', 'requerits', 'bela', 'nobita', 'demostrarem', 'future', 'editant', 'disco', 'ambientalment', 'traumatisme', 'reculant', 'sotana', 'encarem', 'besats', 'facècies', 'constin', 'dolcesa', 'edvard', 'envernissat', 'calúmnia', 'flascament', 'suats', 'rampell', 'giró', 'projectades', 'microscòpia', 'conservacionistes', 'pretenc', 'eugenia', 'monasterio', 'esbatanats', 'contrasemble', 'malda', 'dibuixets', 'soms', 'matoll', 'acotar', 'comprengui', 'transfereixen', 'observations', 'retornades', 'texte', 'pulsars', 'esquivava', 'alliberava', 'limfòcit', 'barallaven', 'perseguidor', 'mandanga', 'enyorós', 'sotmeteren', 'gap', 'llençaren', 'quantificadors', 'barrejaven', 'rostits', 'dictava', 'romaníem', 'honjo', 'funeràries', 'cimbells', 'lucions', 'prepuci', 'miki', 'narius', 'excompanys', 'pardalets', 'forcen', 'òpal', 'kioto', 'allargui', 'napoleònic', 'magrib', 'marxaré', 'beneficiaria', 'anorreen', 'calatayud', 'critiqui', 'insípid', 'espermes', 'terrer', 'calmada', 'angiospermes', 'meningitis', 'múrriament', 'sargantanes', 'jena', 'pintem', 'podrieu', 'bureau', 'safarós', 'cagadets', 'habitaven', 'quark', 'garsa', 'abelii', 'servits', 'infructuosament', 'caltech', 'avisarà', 'teledirigits', 'vellarra', 'publiquin', 'postdoctorat', 'difracció', 'hematopoiètiques', 'èter', 'comprovats', 'simulador', 'xerrac', 'bloquejades', 'eugues', 'petroliers', 'incomunicat', 'escanyadora', 'fenc', 'aprendreu', 'nadals', 'alacantina', 'improcedent', 'solidaritzar', 'rodaments', 'recuperaria', 'iniciarem', 'ensangonats', 'condemnaven', 'cardi', 'acceptes', 'exhaustivament', 'galàctiques', 'ministerials', 'desqualificacions', 'insolència', 'pandereta', 'warren', 'càtode', 'etarres', 'amuntegar', 'irregularment', 'burgeses', 'experimentador', 'desplaçada', 'fletcher', 'sutge', 'albardans', 'cataloni', 'físico', 'patuleia', 'alegret', 'castelladrisme', 'encobrir', 'llargueruts', 'dgaia', 'heroicament', 'javalambre', 'estimà', 'trameté', 'criticada', 'xafallós', 'hell', 'treballaràs', 'subapartats', 'libi', 'dring', 'leigh', 'ragut', 'capcinada', 'turbulències', 'vantar', 'kundalini', 'east', 'leres', 'amen', 'naciodigital', 'covarda', 'nafrats', 'escandalosament', 'sovintejat', 'ltc', 'encontorns', 'agrippa', 'reietó', 'desenterrar', 'envejava', 'difamació', 'lactosa', 'traucat', 'còlic', 'owen', 'causalitat', 'conquerien', 'blasmes', 'primordials', 'computarà', 'dó', 'condensació', 'escotiflat', 'derivacions', 'cagaire', 'primigenis', 'sien', 'sideral', 'bagasses', 'parl', 'terroritzat', 'vagines', 'sobreexpressió', 'polsegosa', 'separadament', 'traslladava', 'eximeix', 'aclamacions', 'juràssic', 'sísmics', 'taxonomia', 'edito', 'xiripa', 'limètrica', 'autosuficient', 'lodz', 'vilella', 'relliscoses', 'catric', 'gaudís', 'riotes', 'congressistes', 'indeturable', 'ellen', 'lm', 'provoqués', 'refineries', 'salvés', 'federatives', 'pepi', 'pipiolis', 'enraonàvem', 'nics', 'llumeneres', 'belvedere', 'concomitant', 'pintorets', 'bleixant', 'zoològica', 'emparats', 'pestilents', 'caragirat', 'ascajó', 'superflus', 'anita', 'emergit', 'marquessin', 'insolents', 'fixés', 'embolicades', 'escanyada', 'prevencions', 'ingerència', 'ardidesa', 'cercat', 'aristocràtica', 'caròtides', 'patoll', 'temerària', 'manllevar', 'nyic', 'acreditativa', 'xirois', 'llisquent', 'camioner', 'impregnar', 'preferencial', 'descrivien', 'rerialles', 'focalitzada', 'burocràtiques', 'adoptà', 'pencaire', 'trucalembut', 'florista', 'poor', 'carreguem', 'gabilondo', 'programaran', 'presumits', 'retornin', 'malestrugança', 'immund', 'anorc', 'passerells', 'designi', 'cuquetes', 'conservés', 'suspecte', 'manicomis', 'neó', 'jaguda', 'fuck', 'disculpat', 'contrasenyes', 'capilla', 'jugarien', 'episòdic', 'liri', 'ruà', 'idiosincràsia', 'prolegòmens', 'lúltima', 'enrònies', 'llucià', 'sagnar', 'cobertures', 'consumits', 'estaries', 'reviscut', 'artillers', 'catralls', 'permeteren', 'cuneta', 'rucadetes', 'proferir', 'equànime', 'fluixets', 'empatolla', 'oblidaria', 'virginals', 'torsimany', 'adelerats', 'cobejós', 'galant', 'quàntiques', 'iraquià', 'emportés', 'palps', 'falorniaire', 'hímens', 'mitjançat', 'brins', 'atlètics', 'humilia', 'crostes', 'esbotza', 'internacionalista', 'restret', 'temença', 'propagandista', 'festejant', 'lena', 'adotzenades', 'empastifada', 'nero', 'esbiaixades', 'nefastos', 'presentaren', 'exportat', 'aturin', 'difongui', 'kitchen', 'cosmològica', 'palmells', 'sectària', 'artemis', 'indicaria', 'wayne', 'metacognitives', 'environments', 'enllaçats', 'contingències', 'flickr', 'cassandra', 'demacrada', 'gradua', 'gimnasta', 'protein', 'lització', 'maru', 'teletreball', 'florensa', 'complementin', 'prof', 'frantz', 'sami', 'multiplicada', 'pita', 'exerceixi', 'violaven', 'torturaven', 'schengen', 'mengessin', 'prometedora', 'your', 'bacil', 'obtens', 'lúrgic', 'beneficiària', 'linear', 'ullava', 'racialment', 'malden', 'irl', 'ominosos', 'erle', 'serv', 'battle', 'caqueta', 'repetís', 'acceleri', 'brain', 'concentrarà', 'evités', 'externalitzar', 'ek', 'avien', 'congènita', 'lleixen', 'desactivat', 'tolerants', 'propel', 'seattle', 'paràsites', 'escenificat', 'miocè', 'catalitza', 'luxúria', 'chacon', 'buidors', 'sedentària', 'expedir', 'portadora', 'exabrupte', 'parteixin', 'tendit', 'estadistes', 'maragde', 'fiblada', 'camamilla', 'incinerat', 'vedells', 'muntades', 'ensucrats', 'barram', 'comptaren', 'allunyem', 'velilla', 'piconadora', 'cinasa', 'afebliment', 'escorç', 'ruti', 'progressions', 'parroquians', 'presentaré', 'ced', 'sucoses', 'casava', 'èlitres', 'convergeixen', 'piazza', 'jovenets', 'vanten', 'atifells', 'assolellats', 'teutons', 'mefítics', 'inconcebible', 'natius', 'arqueà', 'enlluernadors', 'pigmeus', 'retreuen', 'tavern', 'eurostat', 'remitent', 'nogut', 'anorreadors', 'palais', 'udon', 'espolsant', 'arronsar', 'centúria', 'rèquiem', 'estranyet', 'barruts', 'cornut', 'proactius', 'empitjorava', 'consignat', 'connectava', 'vitalícia', 'proactiu', 'valerie', 'prototipus', 'maragdes', 'leta', 'pouar', 'expropiar', 'acidificació', 'desaparicions', 'excedit', 'reactiu', 'properci', 'espermatozous', 'tija', 'rebrem', 'retop', 'ploramiques', 'prescriure', 'ginecòleg', 'fossilitzats', 'abdicat', 'femelleta', 'llegeixc', 'subreptici', 'anticrist', 'esgarrifosament', 'creuclavats', 'coronats', 'haja', 'assigni', 'hagudes', 'farmacologia', 'dipositats', 'regenerativa', 'infermereta', 'solipsista', 'deliris', 'proclamant', 'procedeixi', 'diminuta', 'fcvs', 'amadou', 'sísmica', 'jurada', 'villena', 'tennessee', 'contemplades', 'despertà', 'damnat', 'servaven', 'bacons', 'magra', 'nasset', 'iònics', 'pujaran', 'hermètiques', 'chico', 'trastocar', 'espellat', 'aixopluga', 'electra', 'morirem', 'borbònics', 'corpora', 'identifiqueu', 'volguessis', 'engegant', 'empassen', 'bubònic', 'geòlegs', 'mononuclears', 'endollada', 'alpines', 'ping', 'sussex', 'bochum', 'acariciar', 'concatenació', 'grues', 'asclada', 'pútrida', 'envoltaven', 'sagan', 'desesperant', 'llogats', 'esguardaven', 'utilitzis', 'tètrics', 'inspiradora', 'morigut', 'vibració', 'conceptualitzar', 'espirometria', 'longitudinals', 'fervents', 'rest', 'particulada', 'bestiotes', 'ulteriorment', 'alimentades', 'aromàtics', 'envellir', 'propagandistes', 'lularitat', 'voltas', 'flum', 'torturador', 'pregant', 'vibrants', 'miraculosos', 'interaccionar', 'atupat', 'virèmia', 'gora', 'concepcions', 'evacuades', 'temperament', 'registraren', 'allotjaven', 'irreversiblement', 'forçuts', 'sortosos', 'credit', 'gestio', 'sírius', 'yunnan', 'ensarronar', 'buena', 'decidissin', 'balafi', 'activant', 'boiant', 'theory', 'vençó', 'romput', 'epifenòmens', 'grandiosa', 'esclavitzats', 'pudia', 'fams', 'dosrius', 'jerome', 'seropositiu', 'esperançadores', 'extreia', 'parrac', 'transducció', 'ita', 'engreixa', 'université', 'cadafal', 'influencia', 'alfarrassar', 'pèrfid', 'materialitzant', 'alleujats', 'copròlit', 'morenes', 'llances', 'brunzit', 'pixot', 'exhaustius', 'impediria', 'generalitats', 'pearson', 'aiguamort', 'loteries', 'bordils', 'regalimant', 'furstenberg', 'rbd', 'dalla', 'esgarrifosos', 'saez', 'agregar', 'corcó', 'zhu', 'aràcnids', 'executi', 'heretgets', 'reino', 'limit', 'creuaments', 'lliço', 'freguen', 'modifiqui', 'estengués', 'palimpsests', 'justinià', 'anunciem', 'fanoca', 'tripulades', 'dejú', 'lipdub', 'recrutament', 'capar', 'biosferes', 'fmc', 'moret', 'detectà', 'corralina', 'pujolista', 'lapses', 'ofenós', 'boicots', 'soterrar', 'gastaven', 'immerses', 'variarà', 'seleccionem', 'esbiaixats', 'fotríem', 'passaràs', 'allotja', 'atrapen', 'irrellevants', 'imposats', 'asi', 'glaciacions', 'integrament', 'indulgent', 'nítidament', 'cianòtic', 'partnership', 'tramiten', 'señor', 'vulnerabilitats', 'baucom', 'defectuós', 'adjudicatari', 'caragirats', 'xammar', 'mester', 'autonomistes', 'autonomisme', 'dissecció', 'institucionalment', 'escrigueren', 'finita', 'rodolant', 'fanoques', 'silla', 'grasset', 'rostats', 'intromissió', 'pantanoses', 'transportades', 'merdileny', 'exigida', 'farol', 'bavejant', 'hernandez', 'pansa', 'neil', 'consegüents', 'ultranacionalistes', 'revelés', 'transita', 'temperats', 'nomenclàtor', 'puertas', 'exmembre', 'triadú', 'assistien', 'extensos', 'espatllada', 'hemeroteques', 'ullastrell', 'estendard', 'imparcials', 'iber', 'kart', 'interconnectats', 'dinen', 'centèssimes', 'conreen', 'ètnies', 'dietètics', 'desobeint', 'kettlebells', 'tonificat', 'enciclopèdies', 'sankararaman', 'durvasula', 'compliran', 'fitball', 'moser', 'dropbox', 'reverteixin', 'aplaçar', 'recrimina', 'vinyasa', 'assolim', 'niubò', 'ward', 'hooper', 'sex', 'subdelegada', 'uno', 'baf', 'sospirar', 'minoritzada', 'limitaven', 'cardioprotegit', 'enduran', 'messerschmidtt', 'lliri', 'tedi', 'redistribuir', 'emplacem', 'firalbi', 'tmrca', 'repic', 'homenatja', 'aque', 'pirenaica', 'lomas', 'encomanen', 'esperis', 'operación', 'ortogonal', 'llamàntol', 'prestige', 'hakeim', 'école', 'corunyesa', 'encarrilar', 'cueta', 'eurolliga', 'arquebisbat', 'orquesta', 'unien', 'berg', 'lavrenti', 'diàfan', 'habitava', 'destitucions', 'penicil', 'fullejant', 'creixeran', 'tulleuda', 'trencacames', 'discogràfica', 'pactant', 'trava', 'delictiu', 'guiness', 'escriguin', 'bullits', 'finisher', 'roqué', 'militava', 'contraposades', 'tanco', 'vintage', 'lustradora', 'triples', 'jené', 'gleiwitz', 'figurin', 'caricatures', 'anfitriones', 'desembarquessin', 'montserrate', 'rayo', 'gare', 'antimatèria', 'enquadrats', 'interoperables', 'imputades', 'filtrant', 'atrotinat', 'dissolgués', 'apassionadament', 'penjadors', 'treballaria', 'kits', 'remunerada', 'pregunti', 'ideas', 'hidràulics', 'prolongar', 'atureu', 'consumida', 'amorosament', 'graellada', 'arrese', 'restablerta', 'accepcions', 'rescats', 'detectors', 'diferenciador', 'kometa', 'afectivitat', 'aliatge', 'riis', 'cristofer', 'desxifrats', 'vicedegà', 'xalar', 'boysen', 'temuts', 'cocktail', 'apropessin', 'serrell', 'concorregut', 'qf', 'donan', 'tetuan', 'arruix', 'tropicat', 'coorganització', 'segrestos', 'wilfrid', 'catà', 'puntal', 'dàtils', 'grutes', 'sorsby', 'nàstic', 'insofrible', 'rodautors', 'desafiadora', 'narrant', 'desapareixerà', 'llogava', 'valdran', 'dubitatiu', 'famolencs', 'sigma', 'fés', 'buuuf', 'mandela', 'vespertí', 'competim', 'emmagatzemen', 'apassionades', 'pròsper', 'página', 'encapçalava', 'bonítol', 'sostret', 'programme', 'contacontes', 'complertes', 'seuen', 'encadenades', 'sentireu', 'cleda', 'biogràfica', 'adams', 'sociosanitaris', 'avatars', 'enraonem', 'patinets', 'narradora', 'liatius', 'concentraran', 'eps', 'complicava', 'hauràn', 'peenemünde', 'espasmes', 'distanciat', 'tongada', 'ofegant', 'ri', 'hiperactivitat', 'idealista', 'sanglotar', 'aclaria', 'depressiu', 'dialèctic', 'estroncat', 'desapareixien', 'wenger', 'desestacionalització', 'escolliran', 'reproduccions', 'influenciada', 'albareda', 'aglomeració', 'esperaves', 'hoteleres', 'sobresurten', 'fabian', 'contro', 'jurats', 'cantimplora', 'rotlles', 'alliberador', 'encomanats', 'humiltat', 'embadalits', 'crisàlides', 'dios', 'prendrien', 'petanca', 'connectarà', 'volei', 'balsàmica', 'calaixera', 'surrealistes', 'showcooking', 'humanament', 'primerencs', 'rengle', 'graduate', 'ingènua', 'austin', 'cantàvem', 'decorades', 'beatles', 'antropòloga', 'comedia', 'orfenat', 'mancomunar', 'protex', 'eduvigis', 'sanglot', 'canalització', 'equivocadament', 'rbbp', 'oberkommando', 'cosines', 'ajudà', 'gudrun', 'premio', 'nanotecnologia', 'costellam', 'esquerdada', 'quito', 'creies', 'inaccessibles', 'seqüencials', 'desplaçades', 'convertirien', 'descansaran', 'safir', 'aleutianes', 'vetllades', 'xalets', 'eòlica', 'identitària', 'equatorianes', 'potenciarà', 'montalbà', 'anzick', 'immemorials', 'insòlits', 'pernils', 'fitoplàncton', 'anunciaran', 'miquelon', 'westminster', 'adriàtic', 'ekman', 'farcells', 'tamara', 'deixaren', 'live', 'corella', 'complementàriament', 'liderarà', 'tresca', 'obsequiats', 'franzi', 'doblegat', 'celebrarien', 'kass', 'cerveseries', 'baulenas', 'intangible', 'mereixedora', 'llaminer', 'nanses', 'riucorb', 'judes', 'crp', 'escadusser', 'meridià', 'escampen', 'piniella', 'assistim', 'menjàvem', 'cukie', 'hop', 'maquinistes', 'baltimore', 'perruques', 'bau', 'audicions', 'acusi', 'tambor', 'passejàvem', 'federica', 'rigorositat', 'lassa', 'bangladesh', 'jugavem', 'seller', 'henning', 'intrèpids', 'amazig', 'inclogués', 'quedaríem', 'becat', 'loquis', 'majoritariament', 'denoten', 'manipuladora', 'planelles', 'manilles', 'rutinària', 'esmorzo', 'objetiu', 'book', 'brack', 'eliminaria', 'apàtic', 'desenvoluparem', 'implantarà', 'soft', 'decreixents', 'refermen', 'blitzkrieg', 'corrua', 'imaginarium', 'iefc', 'josip', 'elisió', 'majestuositat', 'orgullos', 'leyton', 'cannes', 'interinament', 'auditives', 'pokémon', 'policíac', 'catastròfics', 'giraven', 'pronto', 'cyclone', 'heimwehr', 'sonés', 'terratinent', 'plantejarem', 'velázquez', 'endeutar', 'càndid', 'tergiversar', 'dd', 'cancellers', 'drag', 'segòvia', 'bolcar', 'itziar', 'cafetó', 'benèfiques', 'juncker', 'coneixeràs', 'vier', 'cotna', 'retirem', 'sirià', 'triturats', 'sofisticació', 'antonomàsia', 'clearing', 'intimidat', 'provence', 'barquetes', 'executive', 'augé', 'kerrl', 'camilo', 'padellassos', 'obro', 'farcir', 'àlvar', 'clàxon', 'potencies', 'mojedano', 'telegraph', 'sobrino', 'polivalente', 'inacabada', 'parelleta', 'um', 'viktoria', 'sincronització', 'hispana', 'montiu', 'jeroglífic', 'pronunciats', 'angelina', 'marxandatge', 'dramàtics', 'filipí', 'asturhockey', 'perruca', 'intervinguessin', 'paradisíaques', 'desestima', 'eoi', 'contextualitzada', 'florencio', 'carthy', 'conversen', 'petri', 'bloggers', 'pinzells', 'championship', 'apuntes', 'tintín', 'badaloní', 'cbms', 'monstruositat', 'basura', 'solemnement', 'enamorant', 'envasat', 'editarà', 'imant', 'harrer', 'conglomerat', 'afinitats', 'murgades', 'descansava', 'capgira', 'concursal', 'henrique', 'enyorada', 'krukenberg', 'peyra', 'ajagut', 'lides', 'complementaran', 'kaufering', 'mecànicament', 'menester', 'vímet', 'representaria', 'partisà', 'descobridors', 'ugarte', 'ratllada', 'caldós', 'htm', 'wolfran', 'separi', 'medicinal', 'calahorra', 'él', 'reestrena', 'mernissi', 'literat', 'dinàmig', 'legiada', 'grupistes', 'casalot', 'nàusea', 'irontech', 'corsari', 'monroe', 'maluquer', 'totenkopf', 'atrinxerar', 'guitarrista', 'ressalten', 'guarnit', 'bromberg', 'enlluernar', 'eli', 'proposaria', 'vinil', 'multiplicador', 'subirachs', 'veler', 'rios', 'besaràbia', 'prohoms', 'tendien', 'bucovina', 'assabenti', 'distingides', 'friedrichstrasse', 'estàtiques', 'maleint', 'bicisprint', 'sonthofen', 'gdm', 'cineclub', 'pigment', 'bobby', 'dictaminat', 'guarnir', 'expressivitat', 'ebrencs', 'drames', 'desorientada', 'fiume', 'germanització', 'caracas', 'bolavà', 'empaitava', 'proverbis', 'taj', 'biògraf', 'desviava', 'sebastien', 'nationale', 'movimiento', 'heines', 'laouaji', 'cagoule', 'conferenciants', 'socorrista', 'saloua', 'sonnemann', 'mncn', 'eriçons', 'pediatra', 'biocarbó', 'classisme', 'eyre', 'gründgens', 'matalasser', 'mussert', 'erotisme', 'pomada', 'lang', 'renten', 'euromediterrània', 'llatinoamericana', 'sardans', 'pistons', 'ajeure', 'cérvol', 'entendràs', 'acceptarem', 'sobirans', 'ultradretans', 'ildefons', 'teia', 'herrando', 'people', 'botellón', 'igop', 'lingüistes', 'fol', 'ermites', 'hilde', 'repetiria', 'paulina', 'rústica', 'uam', 'ocean', 'jajajaj', 'bambú', 'almirallat', 'consulting', 'lebensborn', 'projectats', 'braunschweig', 'lània', 'arribaríem', 'eòlics', 'engolits', 'tríssino', 'sunyol', 'arties', 'puertollano', 'esquivant', 'populistes', 'surtir', 'cool', 'cursaran', 'dramatització', 'continuista', 'ctis', 'móvil', 'jefe', 'afrontava', 'paulatinament', 'proteòmica', 'casserres', 'eum', 'ensopegat', 'sipo', 'that', 'carmeta', 'pòlissa', 'enrevessat', 'netegeu', 'condicionaments', 'collsacabra', 'sofregiu', 'valdepeñas', 'barcasses', 'avalu', 'dong', 'nasals', 'cuch', 'gaià', 'ribadesella', 'lítica', 'pressionats', 'garonne', 'carrilet', 'lalín', 'enxampa', 'bruni', 'sonarà', 'somiada', 'revisades', 'frías', 'copiant', 'calculadora', 'importantíssimes', 'encerclat', 'haute', 'calbó', 'wisconsin', 'pijoprogres', 'poltava', 'larry', 'noja', 'faunes', 'toba', 'ciberfísics', 'vinculants', 'curtis', 'tapia', 'federatius', 'paradifma', 'portell', 'passegeu', 'oo', 'nemàtodes', 'pulperia', 'mundialistes', 'sintàctic', 'esposos', 'clorurs', 'equo', 'darwiniana', 'arteixo', 'desitgeu', 'antidemocràtica', 'aquari', 'sintetitzat', 'datacions', 'adorava', 'masa', 'zonhoven', 'permetem', 'enganyós', 'incomprensiblement', 'pde', 'ge', 'entregant', 'angoixada', 'mejide', 'corregeixen', 'pobladors', 'davids', 'vexacions', 'galera', 'zenia', 'ordenadament', 'aprengués', 'subministrada', 'caracteritzava', 'electromagnètic', 'probables', 'superba', 'houffalize', 'alderhorst', 'confonc', 'cad', 'despr', 'abruptament', 'dept', 'margarete', 'transmissibles', 'monocatenari', 'oblides', 'intermitjos', 'happy', 'sistematització', 'pato', 'trentè', 'amés', 'gabon', 'mix', 'laborés', 'wittgenstein', 'lul', 'dempsey', 'homrani', 'trobador', 'unteu', 'olzinelles', 'rating', 'transalpins', 'matalassos', 'videolits', 'diaria', 'inhumans', 'mejor', 'destapat', 'atlantis', 'rodolfo', 'subvencio', 'cosses', 'leucèmies', 'faltàven', 'joven', 'pitch', 'nadar', 'euríbor', 'baixarem', 'hastag', 'ensenyo', 'timba', 'suca', 'esculli', 'cronica', 'rigo', 'aram', 'rebutgés', 'creditícia', 'wittelsbach', 'concretada', 'referencial', 'polanski', 'honrada', 'pronunciament', 'eugenèsia', 'volíen', 'avet', 'septentrionals', 'gastava', 'tipic', 'kaká', 'plusvàlua', 'immersiva', 'intervenint', 'leb', 'impertinents', 'comprometin', 'timbaler', 'heretge', 'equivoques', 'flaixos', 'nig', 'setrill', 'propícies', 'xunta', 'universalment', 'iowa', 'ofereixo', 'volador', 'banyeta', 'antiinflamatòria', 'helmbrechts', 'lapao', 'bescanó', 'ppcc', 'quillo', 'beatificació', 'quima', 'fla', 'juanito', 'simarro', 'contactless', 'direccio', 'consular', 'reunirem', 'adonarà', 'farinetes', 'xarampió', 'compareu', 'competia', 'gendrau', 'bracons', 'shopping', 'impagaments', 'tupinada', 'permeses', 'suavitzant', 'plegables', 'makuch', 'psiquiatres', 'nagy', 'andanes', 'valduerna', 'abellán', 'tindra', 'stages', 'toquin', 'bauzá', 'solucio', 'vostés', 'interesants', 'block', 'poséssim', 'làbica', 'efa', 'restrictiu', 'shepherd', 'sybille', 'areny', 'ocupes', 'estampats', 'joglars', 'resquitx', 'tertulieta', 'medial', 'guinó', 'leonhard', 'descansarem', 'apres', 'perifèriques', 'txiki', 'bergadà', 'reprovació', 'mulleras', 'simplificant', 'internautes', 'dorment', 'atendrem', 'bet', 'arànega', 'verònica', 'aínsa', 'gorga', 'llardons', 'remolins', 'pajín', 'interceptor', 'perderen', 'ostentava', 'xollo', 'good', 'botín', 'cardíaques', 'visibilització', 'pirmi', 'alemania', 'bobines', 'voleibol', 'savina', 'aparta', 'escrigueu', 'djamena', 'cuni', 'fornós', 'jerarca', 'steam', 'sucarrat', 'horcher', 'lightning', 'entrenamnet', 'passivament', 'resolutiva', 'burocràtics', 'intoxicacions', 'misticisme', 'poltrones', 'corot', 'arnim', 'basaven', 'projectava', 'ceilan', 'prendria', 'depuradores', 'piretroids', 'lemov', 'ventades', 'tomé', 'mustang', 'demostraria', 'dongui', 'llambregada', 'swift', 'diluir', 'consultores', 'desbordant', 'zoos', 'declaressin', 'benedictí', 'empataven', 'engrós', 'hartmann', 'senderistes', 'pitin', 'board', 'suggerències', 'queraltó', 'homet', 'colpeja', 'adelerat', 'serarols', 'barrada', 'xoan', 'success', 'hidrogràfica', 'cataluña', 'desitjós', 'sermestreavui', 'erola', 'restem', 'valley', 'observation', 'giravolts', 'burdeus', 'gentil', 'marañón', 'dincat', 'viuràs', 'dix', 'rheinmetall', 'cerqueu', 'bifòbia', 'basket', 'espargits', 'inaugurem', 'adaptem', 'ardiaca', 'gatamoix', 'pearls', 'ampliarem', 'parisenc', 'insegures', 'memorització', 'gòtiques', 'apreciats', 'estòmac', 'coixa', 'cepa', 'tramesos', 'alimentats', 'calles', 'vestidet', 'barretes', 'ruscalleda', 'argentino', 'assimilats', 'frèvol', 'derogació', 'bacteroides', 'valldoreix', 'creixem', 'uniran', 'prohibeixi', 'percebem', 'truth', 'assetjat', 'influit', 'hof', 'rendiria', 'sayn', 'ròvers', 'conviscut', 'viatgem', 'fascinar', 'schweinfurt', 'adonàvem', 'burocràtica', 'israelianes', 'ulisses', 'centralitzar', 'tràngols', 'corneta', 'faus', 'cigonya', 'stülpnangel', 'privacions', 'culpat', 'calcuta', 'arcàdia', 'verdor', 'apicultura', 'reminiscències', 'apuntés', 'rescatades', 'bartrina', 'karlsruhe', 'triennal', 'mosela', 'accentuada', 'ccrtv', 'prullans', 'persuasió', 'pago', 'artroscopia', 'gargallo', 'errant', 'conegué', 'coronació', 'avans', 'contraposat', 'alcolea', 'costellada', 'abundor', 'admirant', 'aerostàtics', 'nigrán', 'migrat', 'aten', 'encunyar', 'imposible', 'connected', 'derivin', 'conformaven', 'omissions', 'sobrevolant', 'xerpa', 'fortificat', 'decadents', 'cadascu', 'entrevistava', 'alliberi', 'ignorem', 'perrone', 'turment', 'proporcionaran', 'cogeneració', 'conillets', 'canviàvem', 'gaubança', 'deslligar', 'insereix', 'iban', 'escruixit', 'recomençar', 'gadolla', 'studios', 'mòn', 'pierenc', 'immigrats', 'relaciones', 'imprecís', 'salvaires', 'fallides', 'pictures', 'sabaneta', 'inventors', 'jennifer', 'exhalació', 'protestada', 'seo', 'xirinachs', 'adversa', 'reequilibrar', 'borgonya', 'odalisques', 'philadelphia', 'loyola', 'cabreta', 'heidegger', 'hipnotitzat', 'ensopegava', 'refà', 'informeu', 'sogues', 'bandejats', 'kurda', 'clean', 'extremenya', 'retallats', 'destaqui', 'pinyó', 'estariem', 'empastifar', 'hussein', 'teledeporte', 'bierce', 'cagalà', 'crom', 'plego', 'lausanne', 'impopular', 'inabastables', 'maqueda', 'canells', 'png', 'encèlad', 'demandants', 'regionalistes', 'renteu', 'fallem', 'ignominiós', 'entremaliada', 'calibrar', 'fiquin', 'juguettos', 'creixements', 'defensores', 'velaritzades', 'embruixat', 'homipresa', 'executen', 'sils', 'restin', 'helvètic', 'retornava', 'precipitadament', 'pulir', 'sionisme', 'ordenes', 'aeroportuària', 'desolats', 'samper', 'qualificant', 'mundialitos', 'georgina', 'ortodoxos', 'festeja', 'endèmica', 'rella', 'seoane', 'lletovaris', 'jaudenes', 'cremosa', 'antelm', 'puteta', 'xaronament', 'esdeveníem', 'cagui', 'mis', 'invariablement', 'andaluza', 'mereixements', 'programador', 'bullia', 'carpó', 'rabiüda', 'liders', 'mahoma', 'emília', 'riel', 'acomplerta', 'alzinats', 'sollats', 'tremolenca', 'blanquet', 'springsteen', 'enlluernadores', 'harmonies', 'badallant', 'astorador', 'barrat', 'escadusserament', 'liles', 'sabateria', 'gihadista', 'elaboracions', 'sorges', 'enfonsaria', 'fanàticament', 'modista', 'afectuosa', 'cabe', 'divulgat', 'deusto', 'embat', 'eixides', 'banyada', 'lletrejar', 'arranar', 'setens', 'tricks', 'dallò', 'arrossars', 'àcars', 'sumades', 'funcionaria', 'vindrem', 'escenificar', 'gla', 'influirà', 'xanxa', 'làmpades', 'columbus', 'alleujat', 'volguer', 'malèfiques', 'monàrquica', 'itaca', 'repren', 'practico', 'arbitrarà', 'mudament', 'nicolia', 'fruiter', 'falsificats', 'nor', 'venezuela', 'endurits', 'sigo', 'palacastelloti', 'serreta', 'mercato', 'tasmània', 'blanencs', 'cabines', 'bleixos', 'patafi', 'capdeconys', 'aconsegueixis', 'nl', 'retolar', 'àgores', 'próxims', 'titulades', 'endrapalletres', 'ensús', 'ux', 'abaten', 'falsificat', 'encorbat', 'electrificació', 'poum', 'xarrupacagallons', 'ber', 'virior', 'tomeu', 'inspiradíssim', 'mundialet', 'cunegatti', 'domesticació', 'espills', 'noc', 'relaxaments', 'siguts', 'peroné', 'simitarra', 'ferrater', 'budisme', 'rodament', 'permisivitat', 'endevinem', 'argumenten', 'lesseps', 'denunciades', 'deterioració', 'llegissin', 'palmera', 'viladrau', 'paleses', 'desorientació', 'oferiments', 'consignar', 'sumats', 'ética', 'ancara', 'pictòrica', 'lasciu', 'sotja', 'abraçant', 'sensitiva', 'fish', 'nuvol', 'estroncava', 'comadira', 'digestions', 'organitzacio', 'tipificat', 'kalafat', 'percebuts', 'estampades', 'trempava', 'descentralitzar', 'tribal', 'kenya', 'pistoleta', 'anques', 'vogt', 'indiferentment', 'extraccions', 'musicats', 'botxinejada', 'colrades', 'impreses', 'ríos', 'abigail', 'papiol', 'sandvitx', 'pèmpins', 'llongues', 'sanejar', 'daltabaixos', 'cerquin', 'matxacar', 'éxit', 'xerreta', 'sostreure', 'començes', 'compatriota', 'preceptiu', 'dick', 'pretesa', 'petxines', 'flàccid', 'competirem', 'dolorosament', 'adar', 'identificacions', 'estacada', 'cerimonia', 'inauguren', 'peruana', 'rothschild', 'ibèrics', 'cartago', 'acceptaré', 'arrancada', 'açorencs', 'endeví', 'definiria', 'faules', 'preseleccionades', 'puigvert', 'sella', 'estranyats', 'maquinetes', 'intrascendent', 'paritària', 'rabejava', 'titoleta', 'hamburguesa', 'mvp', 'ovaris', 'quat', 'carallotet', 'refrescs', 'volpells', 'fisura', 'bidó', 'escolapis', 'cruce', 'destrempat', 'sferic', 'marsans', 'somàtics', 'bram', 'cruspits', 'abillats', 'procliu', 'facilitarem', 'mestria', 'oblidin', 'mui', 'barcleona', 'picaó', 'lliscar', 'òlim', 'estatutària', 'cobalt', 'identificarà', 'creuem', 'lonka', 'vaitot', 'saia', 'escolaritzar', 'orientadora', 'pacientment', 'puerils', 'leadbeater', 'barrastral', 'millorés', 'llenca', 'simptomes', 'traspassen', 'doing', 'crai', 'blasmar', 'história', 'pipioli', 'socioeducatius', 'andoni', 'deletèries', 'reassignació', 'suposin', 'excèntric', 'xst', 'precisen', 'freixures', 'teaching', 'comprin', 'podcasts', 'next', 'telefònics', 'arrodonits', 'talp', 'impostor', 'seminals', 'montsonís', 'mentories', 'virolat', 'gasti', 'guardans', 'caminarem', 'vr', 'desacceleració', 'exmilitant', 'vetos', 'amores', 'ergàstul', 'raspeig', 'jurcar', 'baronívol', 'eles', 'congelades', 'unidos', 'sidonia', 'imbecils', 'capet', 'juarros', 'fesomies', 'honda', 'cobejosos', 'vía', 'impermeables', 'instalació', 'calentes', 'feminitzar', 'llo', 'ferotgia', 'barroerament', 'bartra', 'inquiry', 'mencionades', 'odiats', 'calçobre', 'comptadors', 'rememora', 'revisi', 'extracurriculars', 'somien', 'computar', 'fenella', 'ranca', 'cohesionador', 'omplim', 'perduren', 'efectuarà', 'ixc', 'reconfortant', 'esllavissades', 'convalidació', 'luminant', 'abusiva', 'amputacions', 'reglada', 'temporalitat', 'cagarel', 'considerà', 'càtar', 'hidra', 'municipalia', 'cremessin', 'reialesa', 'subversius', 'produqte', 'ennuec', 'fagedes', 'brooklyn', 'participades', 'enverina', 'tea', 'detecti', 'adjunten', 'infanto', 'fideuà', 'campmany', 'rascades', 'hebdo', 'pakistanesa', 'corromputs', 'microscòpiques', 'intermodal', 'llefià', 'afanyeu', 'rosts', 'immortalitzar', 'incansablement', 'comptabilitza', 'petiteta', 'montsantcim', 'talegón', 'adotzenada', 'llenceria', 'descompondre', 'bajans', 'deleixen', 'solaç', 'firaires', 'amplària', 'petrolíferes', 'comptabilitzarà', 'encolomar', 'emmiralla', 'llancem', 'menysté', 'esglais', 'icec', 'sonsa', 'educant', 'lepidòpters', 'tastavins', 'lluiti', 'microscòpics', 'exhortar', 'pneumàtica', 'ath', 'prenyat', 'za', 'astoradora', 'entrevistarà', 'cullerés', 'cosinetes', 'decau', 'vomitant', 'carey', 'xe', 'boqueta', 'rosalia', 'cartaya', 'carrapiço', 'jj', 'csn', 'famèlics', 'duríssims', 'traffic', 'pirineos', 'condons', 'sálvame', 'barruera', 'filtratge', 'ciber', 'emisora', 'espitau', 'zelosos', 'carboneras', 'begiristain', 'vergonyos', 'deny', 'tendal', 'comprovacions', 'sama', 'ditades', 'exdirectius', 'olivia', 'braguetes', 'equipara', 'pleixell', 'angoixadament', 'teogonia', 'bejota', 'oscat', 'escalforeta', 'drapets', 'santanyí', 'cient', 'menysteniment', 'ximecs', 'muni', 'perica', 'morist', 'alcoverro', 'esclati', 'baterola', 'ruíz', 'lligamosques', 'borussia', 'andújar', 'tectòniques', 'gratcient', 'gamba', 'renascut', 'olímpicament', 'iridescent', 'metrovacesa', 'jordana', 'xúrria', 'llafranc', 'entortolligat', 'atlètiques', 'extresorer', 'fortet', 'suposà', 'cañizares', 'endimoniat', 'centri', 'pujaré', 'escridassen', 'expulsen', 'puigbó', 'bohemi', 'bianya', 'renega', 'agudo', 'unicitat', 'princep', 'garses', 'baqueta', 'dimiteixi', 'amistoses', 'extingeix', 'ay', 'ràting', 'manifiesto', 'despreocupats', 'enverinadors', 'arrapen', 'bardissa', 'bonastre', 'palterades', 'autocura', 'aquiescent', 'garbí', 'xips', 'legislacions', 'controbueixin', 'gori', 'gric', 'cancerós', 'relacioni', 'curueño', 'xin', 'marielle', 'angoixats', 'espiells', 'somiatruites', 'kursaal', 'manresana', 'postulant', 'aldees', 'meteoròleg', 'remunerades', 'tano', 'almendralejo', 'volenters', 'jimenez', 'assegurades', 'yu', 'acollonida', 'afrodisíac', 'aduanera', 'dolçors', 'boirosa', 'denominen', 'nominalment', 'clotas', 'atraçar', 'navès', 'zlatan', 'odontologia', 'great', 'trueta', 'riuet', 'alfes', 'espanyolitat', 'morolandina', 'deloitte', 'babu', 'parisencs', 'cris', 'assortits', 'picants', 'veuríeu', 'fleuma', 'bustamante', 'teorico', 'tresc', 'arcalís', 'casau', 'fortitud', 'obstinació', 'peperos', 'alpha', 'prístines', 'encaren', 'serni', 'cercs', 'receptivitat', 'unions', 'sifó', 'potabilització', 'esquerdat', 'orinals', 'esguardàvem', 'agaf', 'inacabades', 'suda', 'penetren', 'sabaters', 'andorran', 'comuniqui', 'nth', 'especialitzant', 'lèrgia', 'hídriques', 'setzena', 'museístic', 'fenològiques', 'socotra', 'vegana', 'esclarit', 'villarroel', 'working', 'sobrassada', 'impugnacions', 'clavells', 'wikimedia', 'sayol', 'òsties', 'opteu', 'perjudicades', 'pegats', 'inforest', 'autobiogràfics', 'newforests', 'manuscrita', 'bioblitz', 'avidesa', 'pirulí', 'dramàticament', 'sk', 'jaqueixen', 'cítrics', 'luxúries', 'cacofònica', 'ocupacionals', 'lúcids', 'verger', 'esclatessin', 'specialized', 'restrenyiment', 'escombrava', 'escosint', 'articulada', 'renegociar', 'séquia', 'zeteri', 'perpetrar', 'xipòtols', 'telecadira', 'burgaya', 'rebutgi', 'esquelètics', 'resplendents', 'aeròbics', 'aturessin', 'panteixant', 'citation', 'izki', 'cargolats', 'lovaina', 'psicosocial', 'laguardia', 'despectius', 'havana', 'contemplin', 'dhaka', 'cronometrats', 'psique', 'cci', 'aprofundirà', 'desencastar', 'verificaran', 'tigatrapp', 'emanacions', 'pallach', 'spotify', 'chi', 'coneixedora', 'polititzar', 'complementi', 'inseparables', 'milloreu', 'sufragis', 'betúlia', 'maltractava', 'promulgació', 'bolzano', 'lossow', 'escalabornats', 'edge', 'embolicant', 'daneses', 'boys', 'huxley', 'silvana', 'programarà', 'bistrot', 'tàcitament', 'penedits', 'formeu', 'tietz', 'parament', 'estantisses', 'caballeros', 'cisternes', 'luts', 'manyacs', 'alterava', 'clico', 'robòtic', 'pdd', 'raguts', 'creeu', 'eisner', 'vu', 'interrompudes', 'shit', 'duck', 'eees', 'estampada', 'verificadors', 'exempció', 'pesquis', 'ein', 'darp', 'ground', 'ferreteria', 'terrón', 'nyèbit', 'rossella', 'neuròleg', 'aiguafreda', 'lliuri', 'consolats', 'llepat', 'remçó', 'llagrimejar', 'triaren', 'calòriques', 'enverinades', 'colonitzats', 'bowl', 'tatuatge', 'adob', 'fraile', 'karabinner', 'aesmar', 'feijóo', 'commemorava', 'entendran', 'pané', 'diàspora', 'encasta', 'researchers', 'prestidigitador', 'dissimulava', 'argumentava', 'sargeix', 'torca', 'indemnes', 'avençat', 'manró', 'confegia', 'domines', 'aragon', 'escapadarural', 'cínicament', 'intrusió', 'degenerades', 'klose', 'fité', 'transcendeix', 'aixoplugar', 'compartíem', 'encens', 'pícnic', 'diguérem', 'verkami', 'campclar', 'incongruent', 'nike', 'llogada', 'electròlits', 'vescs', 'mundi', 'mutilats', 'oprimit', 'guanyaren', 'sancionada', 'assessoraments', 'congregat', 'emmerdat', 'gerb', 'vestals', 'abastiment', 'federades', 'havanera', 'maragdí', 'lluentors', 'melòdic', 'retirà', 'pagan', 'generacionals', 'preventivament', 'enregistra', 'xemicat', 'marcela', 'bigotet', 'vialitat', 'terrall', 'garrofé', 'enganxades', 'sahuquillo', 'developers', 'recontro', 'confirmi', 'ingresos', 'bonrepòs', 'atraça', 'fugisser', 'clamorosa', 'desqualificar', 'look', 'suspenen', 'carència', 'amplament', 'decimals', 'valenzuela', 'esteta', 'everest', 'campins', 'encetats', 'ruyra', 'ortopèdic', 'fructuós', 'socioeducativa', 'filigrana', 'vendrà', 'postpart', 'assitir', 'sothys', 'defuncions', 'viciosos', 'inflamat', 'malmeten', 'inverse', 'invertim', 'obscenes', 'magnànim', 'desenvolupem', 'muscleig', 'calfreds', 'brandant', 'indefenses', 'enllaçarà', 'menjaria', 'succeirà', 'verband', 'fontllonga', 'schindler', 'privadesa', 'navegants', 'panseix', 'llobrega', 'velluts', 'aparents', 'trialeres', 'mallots', 'adornades', 'tacats', 'jaguts', 'disposo', 'jubany', 'olaf', 'radioteràpia', 'sòrdids', 'fages', 'efact', 'almunia', 'antropòlegs', 'empeltats', 'caravaca', 'nèctars', 'consagració', 'esquat', 'barbara', 'dotarà', 'reprendran', 'potetes', 'exemplifiquen', 'prestigiar', 'santboià', 'duels', 'marxaran', 'bodyweight', 'mercadona', 'fcm', 'òpals', 'pigall', 'crepuscular', 'hatha', 'esgarrapats', 'villuendas', 'tinter', 'mondepra', 'linda', 'plantegés', 'remullar', 'entris', 'ramificacions', 'ensenyaran', 'pengin', 'madurant', 'ressentir', 'saibó', 'mengeu', 'carbur', 'dígits', 'emprenent', 'cremés', 'reng', 'estafador', 'celebressin', 'seth', 'recolliré', 'garatges', 'xiuxiuejant', 'allison', 'reincidents', 'betty', 'complaença', 'implementarà', 'gironell', 'renunciés', 'alfafar', 'magnats', 'magnetoresistència', 'adolorida', 'rosades', 'pesaven', 'requisats', 'hostalric', 'recobert', 'arrugat', 'gustós', 'exposem', 'pradera', 'instructors', 'entonava', 'nàufrags', 'alimentada', 'arxiduc', 'autòpsies', 'tarongers', 'terreta', 'enterraments', 'remagen', 'panzerfaust', 'subunitats', 'incandescents', 'bloquejos', 'wide', 'rítmica', 'obligui', 'neonazi', 'teteria', 'resoldrem', 'exportador', 'simpatitzaven', 'pronominalització', 'publico', 'elegia', 'puntet', 'sumessin', 'fumador', 'doriot', 'desvetllava', 'coronavírica', 'falgueres', 'joiosament', 'passaparaula', 'antitumorals', 'meres', 'bloguera', 'transformaven', 'tiraria', 'becaina', 'echevarría', 'negacionisme', 'sobri', 'malatia', 'notificava', 'facultatiu', 'disposàvem', 'observaren', 'mousse', 'escassament', 'antisocial', 'eixugant', 'proteobacteris', 'clips', 'embalatges', 'impecablement', 'desgranar', 'remenat', 'luzonensis', 'agror', 'toquessin', 'nordland', 'ardu', 'preocupin', 'atrotinada', 'sacrificada', 'cartó', 'pà', 'arévalo', 'mogui', 'bastint', 'intercalars', 'dividirà', 'division', 'alfals', 'rondar', 'borden', 'adquirim', 'contenciosa', 'inerts', 'tàxons', 'iemen', 'quitridiomicosi', 'alegrava', 'quisca', 'servitud', 'sobrevolaven', 'incondicionalment', 'waldviertel', 'atenia', 'determinava', 'distingia', 'imposable', 'kommandos', 'grant', 'psicoanalista', 'queixalada', 'rutllava', 'inesborrables', 'capçal', 'regalims', 'punxegudes', 'curto', 'atorgaven', 'katukov', 'còndor', 'stalag', 'especificitats', 'preocupem', 'fanta', 'thoemmes', 'vestigi', 'extrec', 'demostrés', 'ediacarana', 'compassiu', 'kavli', 'lids', 'baguls', 'fonien', 'germen', 'inoportú', 'fonent', 'desplomar', 'admeto', 'resigna', 'wiesenthal', 'retrògrad', 'canuda', 'nolde', 'interaccionen', 'desajustos', 'monti', 'china', 'casés', 'apòstol', 'mutilació', 'kraft', 'olalla', 'ramsay', 'aviso', 'acaso', 'murakami', 'distreuen', 'barza', 'tònics', 'adaptabilitat', 'atracadors', 'tejero', 'successora', 'coeficients', 'desapareixeria', 'lloable', 'originats', 'mèrida', 'concens', 'anunciants', 'descalç', 'moneder', 'traumatòleg', 'apunyalar', 'adenovirus', 'klink', 'descansats', 'insulars', 'tardarien', 'entengueu', 'partirà', 'nn', 'pogui', 'emetran', 'dory', 'micos', 'carceller', 'anastasi', 'reprenent', 'inactivació', 'futil', 'emetien', 'parlon', 'paràlisis', 'cridin', 'für', 'xicots', 'mereixeria', 'fotosintètica', 'matthias', 'rodamots', 'gmund', 'mediàtiques', 'xirgu', 'paypal', 'tegernsee', 'qüestionant', 'hauptsturmführer', 'sagunt', 'investiment', 'anotava', 'hehe', 'expositiva', 'airós', 'ampul', 'ludint', 'jàpet', 'tinció', 'freixe', 'salvaria', 'hartheim', 'especificava', 'sòrdid', 'artillera', 'seguin', 'anelles', 'antonieta', 'escombres', 'pàmpol', 'carnisseries', 'aquosa', 'adrenal', 'cursoslabisbal', 'suposició', 'trigo', 'tària', 'genèricament', 'improvís', 'qeu', 'registrà', 'tolstoi', 'trucks', 'donç', 'hamlet', 'hotelet', 'enèsima', 'komorowski', 'topologia', 'qualificatiu', 'fomentat', 'retoladors', 'ontinyent', 'mobilitzen', 'chan', 'computadors', 'abandonà', 'refugio', 'pasada', 'llustre', 'nombrava', 'infractor', 'colpejant', 'siga', 'schach', 'londinenc', 'axí', 'litúrgic', 'wallwisher', 'comparativament', 'bloch', 'exeter', 'neozelandeses', 'esbroncar', 'preeminent', 'baptiste', 'clancy', 'gastroenteritis', 'nominals', 'aprofites', 'oceanografia', 'licisme', 'assumeixo', 'ess', 'flac', 'hubert', 'rivalitzava', 'grimau', 'aigualit', 'retratava', 'amplificador', 'gretel', 'angines', 'destinin', 'regalimava', 'early', 'entristeix', 'presumeixen', 'dene', 'triaria', 'assumiria', 'kahn', 'llordella', 'amargues', 'abolida', 'tcat', 'especulatiu', 'marràqueix', 'tetrahymena', 'vímets', 'waal', 'aplicaren', 'decapitat', 'apropi', 'borrissol', 'tian', 'altars', 'abrupta', 'cnn', 'resti', 'deté', 'palmeros', 'flamencs', 'colpeix', 'metabolòmica', 'ensamblatge', 'eclèctica', 'alarmat', 'complementant', 'dibuixaven', 'levitt', 'constantinoble', 'sordesa', 'osborne', 'dolorosos', 'abreujada', 'predicatius', 'eridà', 'reconstruccions', 'omplin', 'encastat', 'cidalitat', 'profunditzar', 'sistemàtics', 'enyoren', 'incognita', 'caixer', 'tafaner', 'partí', 'desfogar', 'exclamacions', 'rastreig', 'diploide', 'brillantor', 'resolgués', 'hyde', 'cabeus', 'procedimentals', 'albirava', 'mores', 'prometedors', 'sfc', 'canelobres', 'incontrolable', 'vhl', 'bíblies', 'betularia', 'conscienciats', 'finançant', 'pedrís', 'puf', 'empitjorament', 'arquetip', 'radiador', 'neurogènesi', 'ceguera', 'claretat', 'fosfats', 'farmacològics', 'terraqüi', 'supervisades', 'uman', 'lusc', 'torb', 'reanimació', 'àton', 'inigualable', 'incrèdul', 'tara', 'transmembrana', 'siena', 'salceda', 'temerari', 'bp', 'pastora', 'massissos', 'jay', 'llant', 'simpatitza', 'recomanaven', 'fogon', 'furgons', 'celíacs', 'augmentaria', 'iònic', 'motora', 'mimar', 'calcs', 'reptant', 'iots', 'carismàtics', 'contreras', 'stroop', 'miserablement', 'iman', 'repressora', 'argumentals', 'kitty', 'barranquisme', 'doi', 'celebritat', 'ciencies', 'constituirà', 'mcdonald', 'solca', 'enclavament', 'foques', 'benevolència', 'estendria', 'salivera', 'hansen', 'multimilionari', 'maltracta', 'balbes', 'valenciano', 'mascaró', 'fervor', 'descobreixi', 'simberloff', 'madrona', 'comptatges', 'montalcini', 'coronarà', 'aiguardent', 'completà', 'motilitat', 'portuaris', 'spencer', 'calumnies', 'theodore', 'amén', 'raresa', 'melide', 'aconsellaria', 'repassaran', 'fenomenals', 'tocà', 'daimler', 'atansant', 'gràcil', 'comunicaven', 'woese', 'híbrid', 'ips', 'trobéssim', 'orientà', 'technical', 'silenciades', 'mitocondrials', 'cosidores', 'ttingen', 'bc', 'podras', 'implícitament', 'cassació', 'fatigat', 'assoliren', 'faster', 'butterfly', 'cer', 'abocada', 'xocs', 'inscriviu', 'emmagatzemades', 'envejo', 'estacionades', 'metòdica', 'reajustament', 'superb', 'inputs', 'admetent', 'intransigent', 'rondinaire', 'vitrina', 'exagerava', 'serveixes', 'zoològics', 'frustrant', 'ofenses', 'madeleine', 'culinaris', 'menyspreen', 'sensuals', 'lidir', 'suportats', 'donaràs', 'somio', 'plantava', 'topà', 'desafavorides', 'trenar', 'ingents', 'telediario', 'acostumes', 'reformular', 'aforisme', 'rosique', 'christmas', 'divertiment', 'enrevessada', 'alegrat', 'esplendorós', 'escriguis', 'gan', 'dandi', 'vicepresidències', 'penosament', 'comprovaren', 'traginar', 'porpres', 'alcoy', 'capecchi', 'applied', 'esmerç', 'digestiva', 'caníbal', 'puntaires', 'radica', 'coit', 'melià', 'monstruosament', 'information', 'upper', 'amplificar', 'contemplem', 'segellada', 'etologia', 'desorbitats', 'avena', 'santíssima', 'provades', 'caguem', 'raro', 'passeigs', 'revolucionat', 'barradas', 'abandonarien', 'lascius', 'desinteressat', 'banerjee', 'captades', 'beceroles', 'shell', 'multicel', 'escorxadors', 'discutibles', 'esquelles', 'armando', 'holland', 'yungay', 'product', 'ensopits', 'imiten', 'energy', 'òbvia', 'clade', 'minas', 'sobrietat', 'dúiem', 'cocentaina', 'subpoblació', 'tenebrosa', 'entenedores', 'sidney', 'xuclat', 'mato', 'conjectures', 'held', 'coneixo', 'deep', 'seductora', 'reflexioni', 'caldas', 'amargar', 'altru', 'fotomètriques', 'menorquí', 'contagiosa', 'bloquejant', 'completaven', 'existencials', 'victimista', 'empírics', 'qüestionament', 'sanabria', 'programaris', 'telemark', 'fontanelles', 'encebador', 'comencar', 'ambrosio', 'articulen', 'tofu', 'emeti', 'saxona', 'pronunciés', 'passionals', 'tírvia', 'remugar', 'pertanyem', 'roges', 'infertilitat', 'lusionants', 'griu', 'septimi', 'negrot', 'reserven', 'personat', 'onejava', 'erigeix', 'amoníac', 'gaig', 'arrebossar', 'nixon', 'mallory', 'kao', 'polinèsia', 'jueria', 'mikel', 'insegurs', 'castaño', 'suggerint', 'resclosit', 'intensificarà', 'cucurull', 'parking', 'compris', 'gardner', 'guanyessin', 'bellvei', 'pernoctar', 'superarien', 'unissin', 'acostin', 'solid', 'contorns', 'semler', 'heracles', 'gragera', 'ascendint', 'xerradesinstituts', 'equivoquen', 'burles', 'informador', 'satírica', 'galiano', 'recordada', 'kalach', 'volksgrenadier', 'toma', 'hipertròfia', 'enredar', 'midó', 'cigne', 'allan', 'colmado', 'somniant', 'minimalista', 'gasejats', 'pantaleó', 'nicotina', 'lletós', 'sudanesa', 'lders', 'acetofenona', 'parasitisme', 'seydlitz', 'barbastre', 'escorregudes', 'empelts', 'lucinació', 'casades', 'murmansk', 'besa', 'bullen', 'troià', 'epigenètic', 'hereditaris', 'oxigenació', 'voljov', 'controlem', 'horas', 'subsidiari', 'apocalíptica', 'venem', 'wembley', 'emirats', 'dm', 'hube', 'admira', 'gumrak', 'neozelandesos', 'sentiré', 'anopheles', 'fingir', 'difamar', 'hamaca', 'gaddafi', 'hidratar', 'bizerta', 'lesos', 'refent', 'igor', 'torch', 'augustín', 'avisats', 'azov', 'gianni', 'intransitius', 'bellavista', 'gogh', 'remugava', 'montar', 'sòria', 'cediran', 'cordell', 'falciparum', 'map', 'estroncar', 'shturmovik', 'consumer', 'emparen', 'hoyo', 'telomèrica', 'veneçolà', 'annie', 'transcrit', 'canaletes', 'maça', 'spruance', 'woodrow', 'democratic', 'ajornada', 'agruparà', 'sotillo', 'contestés', 'canyons', 'prematures', 'autocorregir', 'siscat', 'puntualitzar', 'untar', 'posseu', 'copsat', 'esmentant', 'cristobal', 'dificils', 'bauman', 'dividiran', 'instrumentals', 'storytelling', 'carburants', 'contaminar', 'mayol', 'derelictes', 'severo', 'financen', 'chemnitz', 'arrate', 'espatllava', 'reagan', 'làmpada', 'penjador', 'pampalluguejants', 'lleves', 'apàtrides', 'silenciada', 'arriscant', 'xumet', 'autopropulsat', 'engreixen', 'caritatius', 'yamashita', 'pudint', 'providencials', 'aventurers', 'gruixos', 'raors', 'trauré', 'albertí', 'gegantisme', 'estandarditzats', 'corregué', 'envans', 'avior', 'apreci', 'inflamable', 'shanghai', 'soluble', 'lacèrtids', 'quarentena', 'hoekzema', 'grífols', 'pressionen', 'ensopida', 'krone', 'subministres', 'rivalitzar', 'leu', 'estructuralment', 'provaven', 'xantatges', 'campoy', 'reglats', 'donadors', 'gredos', 'very', 'doma', 'vertebrat', 'neoclàssic', 'aixequin', 'pàdua', 'constatem', 'contrastant', 'fallschirmj', 'espuri', 'majestuosos', 'pasant', 'krauss', 'boscà', 'reflexionaran', 'terminar', 'ramió', 'seriem', 'gebhardt', 'fadrins', 'null', 'fútbol', 'pretesament', 'laboraven', 'transportador', 'barcons', 'lidia', 'ajudada', 'inglada', 'vagades', 'delhi', 'edith', 'spital', 'perllongarà', 'paperassa', 'quintacolumnistes', 'liquidacions', 'oncolliga', 'vienesa', 'vaticinar', 'frondosos', 'borneo', 'preingrés', 'postes', 'orne', 'fotocopiats', 'vinnitsa', 'cluet', 'falsificar', 'promouran', 'expresió', 'topava', 'laredo', 'xancletes', 'vickers', 'valira', 'meeting', 'linials', 'negociem', 'bormujos', 'resplendor', 'emplenades', 'camas', 'calabossos', 'amigó', 'cidaria', 'ejaculació', 'foreign', 'trajectoria', 'demostrable', 'necesita', 'gea', 'pentàgon', 'mall', 'horstenau', 'caleta', 'boia', 'abiogènesi', 'secessionistes', 'wp', 'esmunyedís', 'sors', 'reciclat', 'qalbet', 'murray', 'dale', 'esvaint', 'desclosa', 'osteoporosi', 'mucho', 'tapanuli', 'casinet', 'premien', 'solemnitat', 'carbonífer', 'subministradores', 'sobredimensionat', 'vipsània', 'deixondir', 'participarien', 'albergava', 'hegemònic', 'vosges', 'sospito', 'wainwright', 'conquerís', 'milagros', 'enfoca', 'cinquantenari', 'cesicat', 'llebeig', 'bruly', 'isòpodes', 'gili', 'augmentats', 'banyaven', 'establien', 'hler', 'this', 'most', 'blaskowitz', 'petges', 'erari', 'menyspreant', 'burlava', 'limfomes', 'jeschonnek', 'connect', 'gambrinus', 'millán', 'reflectint', 'noguer', 'tancaria', 'volguéssiu', 'dissetena', 'ketteler', 'admeses', 'inmigrant', 'hadrons', 'esgarrifats', 'massapà', 'stupp', 'diagnostica', 'terrenal', 'optimitza', 'tortajada', 'antibolxevic', 'disfressades', 'esperi', 'velleta', 'noemi', 'jaç', 'rapidament', 'mev', 'felsennest', 'odisseu', 'ascatú', 'sacsons', 'gúdar', 'qubits', 'desmesurats', 'postular', 'prinzregentenplatz', 'oachim', 'nocives', 'càntir', 'gort', 'rancúnies', 'sospitosament', 'glans', 'maltempsada', 'altmark', 'attlee', 'fragata', 'muscles', 'espaguetis', 'llémena', 'sorolloses', 'exhaurits', 'colpejaven', 'sperrle', 'identitàries', 'fairey', 'irritable', 'aerotransportat', 'encuentro', 'oldenburg', 'irish', 'abcd', 'artífexs', 'curro', 'encobriment', 'valguin', 'cla', 'quandt', 'mislata', 'gossets', 'mill', 'allistats', 'harro', 'ferguson', 'mairena', 'xofers', 'propicis', 'kube', 'duisburg', 'haakon', 'pak', 'llopis', 'caducats', 'estalvien', 'malabarismes', 'untersturmführer', 'consideressin', 'subministra', 'vita', 'enrabiar', 'hospitalitzat', 'bahía', 'glaçar', 'salònica', 'alegrament', 'convocava', 'xerric', 'mecanització', 'transferint', 'neozelandesa', 'esbufegar', 'dema', 'insistim', 'vessada', 'pizzas', 'barros', 'rabat', 'endevinés', 'canada', 'arquer', 'walking', 'traguessin', 'nataliya', 'avatar', 'süss', 'delicias', 'justificats', 'schwarze', 'benavarri', 'avorrides', 'comprovà', 'pseudoderivats', 'sospirant', 'defraudat', 'osnabrück', 'calamar', 'insospitats', 'vip', 'dictàmens', 'llicorella', 'voltats', 'sb', 'aspres', 'grandàries', 'palomares', 'xufanc', 'cnrs', 'coronant', 'greider', 'genotipat', 'transferides', 'coronals', 'biodiversity', 'vantava', 'indra', 'balmón', 'multicàmera', 'jd', 'bartolí', 'malthus', 'rebotre', 'madrileña', 'bicatenari', 'modelitzacions', 'expiatori', 'rebatejar', 'mòrbida', 'porositat', 'pelotazo', 'hidrologia', 'agrolimen', 'coag', 'equimollerussa', 'arginina', 'lavínia', 'thaler', 'reforçaria', 'lineomaculatus', 'animetes', 'enduta', 'retributiu', 'marche', 'tl', 'constitucionalment', 'xiroia', 'pid', 'egfr', 'rebatejat', 'hotusa', 'hepàtic', 'jesuset', 'contribuient', 'torrencial', 'padrons', 'compareix', 'zw', 'endocannabinoids', 'reivindicava', 'lacais', 'trasplantament', 'extraure', 'dioxines', 'afeli', 'assemblaven', 'intencionat', 'operandi', 'proclamaven', 'flotabilitat', 'monocultiu', 'thc', 'desencadenada', 'milons', 'automòrfiques', 'ilersis', 'desferres', 'oleaterra', 'certifiquen', 'llibrs', 'fastic', 'consolació', 'vtr', 'polimerases', 'endeutada', 'alfaro', 'pipolb', 'unics', 'cromosòmics', 'entorrinal', 'benigna', 'ajunta', 'contesti', 'bacar', 'supercúmul', 'inclina', 'plomalls', 'aigüeta', 'esborren', 'supercúmuls', 'flatt', 'sobresous', 'ambicioses', 'cambreres', 'abordem', 'disgustats', 'mastodonts', 'direccionalitat', 'ligands', 'mapt', 'radiocarboni', 'citotòxics', 'filesa', 'proliferar', 'anasagasti', 'fontanilles', 'kajander', 'janjawid', 'ak', 'exdirectiu', 'arxiva', 'salavert', 'comportaven', 'simplificada', 'chaib', 'beograd', 'lefkowitz', 'dopamina', 'implementa', 'exportadora', 'acetilcolina', 'celacant', 'fugats', 'ergaster', 'holocè', 'absolutista', 'ganemos', 'destinés', 'yanis', 'ctc', 'sorrat', 'eurasiàtica', 'lloava', 'apostarà', 'decentment', 'effects', 'acomplexats', 'submarines', 'democracy', 'ginecologia', 'esclataria', 'guillaume', 'empadronats', 'xurriburri', 'inhibeix', 'fpa', 'gaiatells', 'dimetilamina', 'corrides', 'eixelebrada', 'applus', 'descendeixen', 'oleic', 'familiesambveu', 'restringits', 'lactobacillus', 'emprà', 'haar', 'exfiscal', 'datar', 'confés', 'sentinel', 'gisbert', 'aqueus', 'cpa', 'icaria', 'matrilineal', 'valdano', 'tramiti', 'transplantat', 'chemical', 'islamista', 'parsecs', 'allotgen', 'defensades', 'tafoi', 'doina', 'rcde', 'engarjolar', 'páramo', 'corrosiva', 'beneir', 'cadenat', 'manters', 'prebendes', 'esderneguen', 'thornton', 'atutxa', 'sachs', 'freixura', 'versàtils', 'cajasur', 'vinculi', 'bubònica', 'oligopolis', 'bleixa', 'antioquia', 'eldiario', 'mutàgens', 'mecanitzades', 'hipocalòrica', 'capçana', 'edinburgh', 'homogènies', 'catràdio', 'explotava', 'ceri', 'catalitzar', 'plurinacional', 'verdancs', 'kic', 'directorat', 'terricabras', 'keirrison', 'neerlandesos', 'pià', 'córner', 'èxtasis', 'emmalalteix', 'caesar', 'knock', 'constriccions', 'pliocè', 'unicaja', 'cpc', 'titonos', 'cremem', 'ibra', 'bonobos', 'usurpar', 'dependria', 'leptons', 'sacietat', 'gev', 'amiloides', 'bartels', 'tbikes', 'expulsada', 'paltruus', 'psicopatia', 'virar', 'deig', 'damnificat', 'espellar', 'xifrar', 'augmentaran', 'tourism', 'negociadors', 'hajo', 'furgó', 'inutilitzar', 'obligaran', 'revalidat', 'stafford', 'latència', 'burgoa', 'evacuant', 'dirigirien', 'adoptava', 'consultables', 'frenant', 'pubilles', 'tora', 'rodejades', 'conservarà', 'inteligents', 'patums', 'copèrnic', 'wladislaw', 'reuniria', 'intentarien', 'causaria', 'atlético', 'desembarcant', 'pedrito', 'bundesliga', 'gluons', 'independències', 'plet', 'lohse', 'revenjat', 'igualant', 'jura', 'luga', 'bellera', 'porteres', 'intervenia', 'mereixerien', 'injectant', 'astròleg', 'neozelandès', 'reclutats', 'kaufmann', 'matsuoka', 'monowitz', 'recriminava', 'durch', 'cirenàica', 'fecapa', 'enumeren', 'escandol', 'anticarro', 'mataran', 'reclamada', 'fcp', 'ossi', 'hosenfeld', 'award', 'assistís', 'küchler', 'sauerbruch', 'schachleiter', 'corrobora', 'rakhmà', 'schloss', 'substituta', 'hácha', 'muniquesos', 'aixecades', 'interrogats', 'rotativa', 'incest', 'exploren', 'senyalats', 'insurrectes', 'desencaixada', 'estomacar', 'dimitrov', 'expansionista', 'atordida', 'wels', 'empaités', 'currywurst', 'fulda', 'karabiner', 'mous', 'escomesa', 'escunça', 'renana', 'sobreviuria', 'alabart', 'bertram', 'toller', 'sacarina', 'observacional', 'avro', 'bellido', 'colrat', 'wagen', 'deduccions', 'sack', 'amigo', 'erna', 'camiseta', 'gruhn', 'massacrar', 'enemistar', 'sirah', 'estadísticament', 'concessionària', 'involucren', 'vk', 'viticultors', 'intentessin', 'wartenburg', 'cineastes', 'autarquia', 'mühlmann', 'qrat', 'stieff', 'incisions', 'forjador', 'marzella', 'evacuada', 'goldman', 'secament', 'iberoamericà', 'recolzem', 'sensata', 'mereixiem', 'australs', 'pòker', 'gunayant', 'indueixen', 'kramer', 'nuu', 'mercaders', 'expansionistes', 'poderosíssim', 'pedalat', 'kansas', 'interplanetari', 'squat', 'alien', 'filharmònic', 'reconeixerà', 'funcionés', 'moner', 'aillada', 'fortins', 'immobilització', 'novaiorquès', 'algerians', 'guanyàven', 'píxels', 'elogiosos', 'batasuna', 'guille', 'claríssims', 'condemnatòria', 'coronels', 'annexionats', 'suàbia', 'motí', 'apetit', 'interplanetàries', 'kn', 'quadrimotor', 'nacionalitzat', 'emmanillats', 'esvarada', 'estupor', 'afanyés', 'generalitzades', 'indigència', 'urçol', 'lletrada', 'càntabre', 'auditoris', 'abanderat', 'revaloritzar', 'conduia', 'buscaves', 'rescatada', 'althaus', 'stahlhelm', 'complots', 'aprovaven', 'aillades', 'vallcarca', 'guilherme', 'penedesencs', 'tegument', 'habilitades', 'queixin', 'carmazzi', 'donovan', 'bonnier', 'lg', 'atancen', 'argudo', 'espoliada', 'dragan', 'escapaven', 'desautoritzar', 'moixoni', 'conformada', 'múñoz', 'faust', 'semifinalista', 'retransmesa', 'donets', 'empadronar', 'seehaus', 'sobrepassava', 'elseta', 'rockwell', 'existíssim', 'injecta', 'isoroku', 'odiem', 'vescomte', 'trípode', 'endolladíssim', 'westerbork', 'garrots', 'culete', 'fortuita', 'categorització', 'sirians', 'veghel', 'llulda', 'nederrijn', 'elogiava', 'stanislaw', 'suspengués', 'capelladí', 'fibril', 'necessitavem', 'pilotava', 'cancela', 'especifiques', 'salvades', 'empala', 'corunyés', 'sit', 'juin', 'antropològica', 'ajornats', 'colonitzador', 'enfrontarien', 'segregada', 'vitebsk', 'bougainville', 'definí', 'yorktown', 'conjuntar', 'edil', 'malesa', 'requisat', 'vaguejant', 'alcanó', 'elets', 'formamida', 'mobilitzats', 'disposareu', 'hct', 'congratulat', 'gimena', 'mendeliana', 'variança', 'adi', 'sedentàries', 'eslora', 'aguest', 'schopf', 'standards', 'mikrotik', 'mostillo', 'coautors', 'moga', 'sheffield', 'robson', 'gessers', 'bhv', 'minusvàlid', 'planetary', 'ordenaven', 'orlandi', 'endosimbiòtica', 'common', 'eucariòtica', 'empobrit', 'articulars', 'tormo', 'pengés', 'apostava', 'yan', 'saibò', 'orbiter', 'wiles', 'insidiosa', 'ànode', 'cesària', 'ashtanga', 'abandonaran', 'retroenllaç', 'descrigué', 'tríceps', 'farmacèutiques', 'radiofreqüència', 'sassos', 'souza', 'spp', 'mischling', 'wav', 'burpees', 'eucariòtics', 'cladística', 'pèlvic', 'hackejar', 'superfamília', 'tomassetti', 'enzimàtiques', 'gymnastics', 'maradona', 'inequívocament', 'contempli', 'resonància', 'pittsburgh', 'dvins', 'talismà', 'antisida', 'cuidés', 'vigorosos', 'distal', 'benelux', 'programin', 'augmentés', 'informacion', 'empescat', 'reed', 'doug', 'honestament', 'macroeconòmica', 'plauria', 'seleni', 'prolina', 'cies', 'parasitat', 'absté', 'congènites', 'acropora', 'motores', 'ponderant', 'condonació', 'ecoturisme', 'hegel', 'tresorera', 'lehman', 'promocionaran', 'proclamés', 'osh', 'làgena', 'yuri', 'peloponès', 'confinat', 'lazaridis', 'scholtz', 'brady', 'alturo', 'edils', 'dividends', 'verdets', 'voludes', 'lleixà', 'huesos', 'botris', 'fxs', 'transsegre', 'iñigo', 'schekman', 'mastegava', 'sanahuja', 'germanetes', 'concedeixen', 'massoteres', 'cfgm', 'constatava', 'mazarico', 'palista', 'comportamentual', 'epidemiològic', 'mutacionals', 'cullons', 'duatló', 'horace', 'falkenhausen', 'espectrògraf', 'desintegrar', 'consultada', 'entrenades', 'elèctricament', 'knowledge', 'schw', 'linitzador', 'bredow', 'osmia', 'kübelwagen', 'retallin', 'gisevius', 'pinker', 'prevé', 'matutina', 'rosenheim', 'accedeixes', 'betacoronavirus', 'metagenòmiques', 'saquejat', 'fellow', 'quirúrgics', 'forcat', 'marxarien', 'lombardia', 'fieseler', 'vergonyant', 'computeritzada', 'baur', 'guerxat', 'mouria', 'incorregut', 'aegypti', 'liebermann', 'lechfeld', 'lèmbols', 'cartogràfiques', 'minoves', 'asclats', 'culture', 'mingo', 'morán', 'cassadó', 'mataroní', 'turner', 'guerrieri', 'acth', 'lèlica', 'geoespacials', 'brigader', 'imbalance', 'galopant', 'ipe', 'nimfòmana', 'atenyia', 'keite', 'visualitzacions', 'foch', 'fenològics', 'gs', 'darunavir', 'encarcarat', 'regs', 'davidson', 'escapessin', 'mamar', 'desitgés', 'cinètica', 'rostoll', 'vallée', 'eocè', 'càlcic', 'fotosintètics', 'vizcaíno', 'enfellonida', 'nifeu', 'mortíferes', 'puixança', 'óder', 'controlaria', 'epitafi', 'corporate', 'illustrierte', 'econòmico', 'ravanel', 'salvaments', 'caurien', 'copenhague', 'aplaçament', 'negocien', 'paleogenètica', 'mulet', 'exerceixin', 'retail', 'pixums', 'aerosol', 'enjòlites', 'incentivació', 'rosinach', 'bevedors', 'reaccionària', 'loringhoven', 'saracen', 'stihl', 'cooperant', 'síndromes', 'antonov', 'backe', 'parramon', 'despesos', 'vtt', 'bedell', 'planti', 'saiz', 'notificat', 'calcinats', 'comandades', 'injustificades', 'escunçava', 'parreño', 'dolz', 'cult', 'ciclomarató', 'bertold', 'infantilisme', 'vivián', 'patrocinar', 'nelet', 'estacionalitat', 'ofecs', 'presti', 'amps', 'perol', 'parlats', 'iode', 'confuses', 'epidermis', 'fastiguejar', 'hoces', 'xocolate', 'analògiques', 'ligències', 'apedregar', 'bundó', 'esquinça', 'spezia', 'moniato', 'expandit', 'juguesques', 'dimitri', 'aprenguem', 'coorganitza', 'imminència', 'indians', 'georgi', 'nipó', 'aguiló', 'llosses', 'formación', 'recordades', 'taulet', 'prolongarà', 'escurçament', 'cereal', 'espí', 'cercas', 'perfumats', 'higher', 'diòcesi', 'antecessors', 'grisor', 'interromputs', 'renunciava', 'atípica', 'lucratiu', 'catorzè', 'triomfen', 'perry', 'jaguar', 'ferrand', 'miraria', 'pompós', 'nd', 'rden', 'botargues', 'plàcida', 'polèmics', 'capcot', 'lah', 'enoteca', 'desitjarien', 'temuda', 'tint', 'delir', 'insospitada', 'polsegosos', 'exdiputats', 'consistien', 'cit', 'lusionades', 'pispa', 'riudellots', 'redactareu', 'lacra', 'triplica', 'grapadet', 'eada', 'figureta', 'batzegada', 'dormíem', 'delicatessen', 'agora', 'fabricades', 'puntera', 'enllagrimats', 'perillava', 'mamés', 'llargarut', 'talibà', 'enduguessin', 'lyndon', 'naixeria', 'viatjaria', 'captivat', 'enoturisme', 'bárbara', 'alliçonar', 'malsonant', 'corrin', 'animation', 'murris', 'enxampava', 'sucosa', 'sinuós', 'deshonor', 'salvarà', 'sabrien', 'astúcia', 'afrontarem', 'narradors', 'endarrerides', 'volatilitat', 'aranyó', 'soliloqui', 'cidob', 'gentils', 'quien', 'renúncies', 'alternat', 'hoffman', 'alger', 'avantguardistes', 'matem', 'ensenyés', 'ajec', 'ascensions', 'escandall', 'talk', 'quès', 'calcada', 'dueñas', 'calamitat', 'disminuirà', 'trucaré', 'reincidència', 'transgènere', 'cavant', 'endormiscat', 'despertés', 'alyonushka', 'intercalant', 'bocata', 'tapades', 'fuertes', 'profesora', 'udols', 'insti', 'gebre', 'totas', 'colrada', 'diba', 'desconsolat', 'dèieu', 'sensitiu', 'arab', 'trasbals', 'abrigat', 'llànties', 'aportaven', 'regle', 'recomani', 'pecadors', 'oralitat', 'recita', 'esculpir', 'investigava', 'empal', 'guipúscoa', 'mims', 'conformista', 'vindreu', 'alí', 'muntatges', 'experimentades', 'generoses', 'insolidaris', 'funcionalment', 'deixaràs', 'consagra', 'contestador', 'preparareu', 'coeu', 'cortesà', 'utilizar', 'pastera', 'aritmètiques', 'asimetries', 'inacabables', 'provençal', 'críptic', 'empastifa', 'entesta', 'tongades', 'revitalització', 'iat', 'jacme', 'solucionaria', 'soportar', 'excedia', 'vengui', 'perpetuació', 'quilets', 'untada', 'espàtula', 'geis', 'tula', 'mantinguem', 'pinteu', 'frescura', 'valèria', 'portan', 'bastides', 'aconsegueixo', 'unas', 'somriuen', 'congrès', 'sofertes', 'influx', 'resolem', 'ferriol', 'aplegats', 'germanets', 'perdonen', 'curios', 'cànem', 'positivitat', 'garlandes', 'quica', 'casquet', 'maldades', 'desprenien', 'embull', 'course', 'llots', 'despenja', 'cònsols', 'bodegón', 'pujalt', 'pizzes', 'saltaven', 'rotger', 'triaven', 'indomable', 'gym', 'milton', 'virreina', 'apf', 'ingenus', 'entregaran', 'cum', 'burra', 'topen', 'taxonòmica', 'criminalitzar', 'absorbides', 'meliana', 'who', 'clouen', 'avaluadors', 'tsarina', 'nominada', 'conspicu', 'desnonades', 'tex', 'orientarà', 'perera', 'teachers', 'said', 'enquadrament', 'tornaveu', 'troians', 'bordegàs', 'uv', 'vetat', 'reglamentacions', 'arial', 'manresans', 'cercós', 'fontserè', 'devastat', 'vetllarà', 'prescindible', 'grazalema', 'conformaran', 'hemingway', 'anguera', 'neguin', 'preveiem', 'jpc', 'rosabel', 'anguila', 'finíssim', 'gargamella', 'muret', 'captius', 'frontals', 'half', 'carolines', 'indecisos', 'lliris', 'indultar', 'retratats', 'derivi', 'senyalitzacions', 'corneli', 'controvertits', 'fixin', 'rse', 'inexactes', 'descansos', 'setciències', 'colomenc', 'lona', 'dietètic', 'sitgetans', 'concorren', 'afligits', 'semidéu', 'celestine', 'comprometi', 'akira', 'ubrique', 'gnoms', 'palets', 'saluden', 'marius', 'fàstics', 'enciclopèdic', 'emprendrà', 'caçadora', 'scala', 'gurb', 'expansions', 'reconsiderar', 'investir', 'allunyaven', 'sha', 'elenc', 'empresàries', 'demostrativa', 'vertebra', 'millorables', 'pressupostats', 'viquimarató', 'geòleg', 'folrat', 'kun', 'jordània', 'malabars', 'erosionar', 'losada', 'acudirà', 'cfa', 'heterogenis', 'segueixis', 'noah', 'fabián', 'xocolates', 'cantàbriques', 'flori', 'amazigues', 'timbal', 'sentiran', 'esdevindrien', 'observis', 'spiegel', 'mogent', 'barriles', 'axa', 'fallava', 'castañar', 'empadronades', 'fábrica', 'trumfo', 'destorb', 'gòtics', 'segmentat', 'anomenà', 'boulevard', 'brogit', 'garratibat', 'encongir', 'evocar', 'alcadessa', 'apropin', 'revertit', 'agrònom', 'exalumne', 'combini', 'ecosystem', 'nutritiva', 'albercoc', 'optà', 'txernòbil', 'rachid', 'trià', 'morè', 'gresol', 'ultzama', 'motivadors', 'causava', 'inteligencia', 'brandes', 'forçosos', 'represaliats', 'administrava', 'perceps', 'ancorats', 'dietistes', 'despreocupadament', 'coquetes', 'enllacen', 'adjudicatària', 'egípcia', 'tienda', 'adorar', 'arce', 'guiant', 'haveu', 'adoren', 'galifardeu', 'evocació', 'monogràfiques', 'sabéssiu', 'tablets', 'motis', 'foragitat', 'mohammad', 'energèticament', 'barrades', 'montessori', 'clotilde', 'trabucaires', 'fanfarró', 'arronsant', 'tors', 'braire', 'noucentista', 'zo', 'encastats', 'didalet', 'registraven', 'photocall', 'duríssimes', 'displicent', 'remença', 'batusses', 'gsma', 'recapten', 'lampista', 'exemplifica', 'cutre', 'thió', 'sarau', 'brac', 'impulsaran', 'millorades', 'èticament', 'merceria', 'anime', 'llaràs', 'cerrato', 'moresc', 'probe', 'aní', 'xicotet', 'shock', 'morenos', 'entrellats', 'aficionades', 'sabadellenc', 'taekwondo', 'genève', 'bardina', 'interpretades', 'inclinada', 'sabries', 'constat', 'calculant', 'enfrontades', 'ortodox', 'adreçador', 'devotament', 'politòleg', 'fub', 'costura', 'folklòrica', 'mimetisme', 'estirabot', 'louisiana', 'cérvols', 'compatir', 'bolvir', 'cruells', 'emmanuel', 'refot', 'aguas', 'incloc', 'malats', 'ocurrència', 'incultes', 'arzúa', 'fatalitat', 'robledo', 'aferra', 'desgraciada', 'despatxa', 'rosegons', 'fugí', 'destination', 'afegiren', 'tapadora', 'saturades', 'utòpica', 'formiguers', 'mules', 'assoliran', 'mahal', 'filòlegs', 'munyir', 'reforçava', 'bojament', 'rial', 'tronar', 'ting', 'enredat', 'callant', 'balconades', 'gaudíem', 'vilas', 'escabrós', 'intercomprensió', 'selvàtic', 'brancam', 'aboquem', 'homilies', 'guerau', 'traspua', 'casares', 'bordant', 'rilke', 'decoracions', 'cenyir', 'admiraven', 'bernardino', 'calça', 'descalça', 'remarcables', 'impera', 'llançaria', 'pobreta', 'haguera', 'rondinava', 'paressin', 'sinuoses', 'illencs', 'fits', 'escares', 'àguiles', 'reprimits', 'atansés', 'finestretes', 'carreta', 'quedaràs', 'pistoler', 'embarcament', 'ambientades', 'arbust', 'vehements', 'villaverde', 'stella', 'canon', 'anhelada', 'cancerígenes', 'subjectives', 'supervisa', 'permets', 'agredolç', 'cbs', 'inundats', 'arronsat', 'imaginatiu', 'araneses', 'accepció', 'catipèn', 'aconseguiu', 'atònita', 'provocaran', 'multiplicant', 'encisadora', 'piolet', 'tris', 'personificació', 'copsa', 'submís', 'abusant', 'padel', 'recomanaré', 'consagrar', 'subratllats', 'marlene', 'picats', 'reposen', 'efusió', 'cautela', 'pitof', 'floreixen', 'positivisme', 'pocavergonyes', 'impureses', 'clarivident', 'vandalisme', 'macabres', 'confiada', 'adjuntat', 'repressor', 'promesos', 'carretons', 'pedregosa', 'comarquinal', 'interesos', 'avorria', 'trèiem', 'innòcua', 'processades', 'cremós', 'soterrada', 'guarderies', 'centenes', 'lliscant', 'esgrogue', 'emboteix', 'giratòries', 'destapa', 'xampanys', 'restaren', 'máxima', 'escuadra', 'enfadava', 'unt', 'familias', 'empordanesa', 'proxim', 'abstracta', 'hen', 'cassos', 'saturat', 'treieu', 'interina', 'fabricaven', 'romangueren', 'modistes', 'feudals', 'sípies', 'diürns', 'bagatel', 'diminutius', 'ablació', 'seductor', 'aspiraven', 'perl', 'semen', 'divorciat', 'trosset', 'indolència', 'inimaginables', 'acollidors', 'sapigut', 'diversificada', 'budistes', 'hampshire', 'inorgànica', 'deshonest', 'llegum', 'arraconats', 'frondós', 'escaladors', 'viurien', 'baron', 'compulsivament', 'buenavista', 'codificades', 'integrem', 'carbonera', 'rentes', 'bond', 'signà', 'enllestint', 'suscita', 'harmoniós', 'enfollit', 'restà', 'hunter', 'improvisades', 'milloraràs', 'entorpir', 'mirora', 'terrorífiques', 'apostrofem', 'mostar', 'colpir', 'cosidora', 'monolític', 'repesca', 'erros', 'rasclet', 'malaia', 'catalanitzar', 'llir', 'endinsarem', 'comba', 'feineta', 'fisic', 'poguéssiu', 'organitzà', 'cobles', 'guanyaríem', 'mercado', 'ritu', 'entregava', 'disfressen', 'envaint', 'bueu', 'exterminació', 'preveus', 'desgastar', 'descuidar', 'estimaria', 'posaríem', 'nils', 'uruguaià', 'campalans', 'paterns', 'rà', 'its', 'legalitats', 'assabentats', 'rodonet', 'causà', 'impostors', 'ocupem', 'rocoses', 'torracollons', 'palmes', 'emportarà', 'batalletes', 'limiti', 'insospitades', 'dupliquen', 'grangé', 'fruint', 'libèl', 'airejar', 'anéssiu', 'crucificat', 'espavilats', 'prefereixi', 'code', 'urbanista', 'discutirem', 'interdisciplinaris', 'estruços', 'maniquins', 'pactades', 'zadornil', 'presidente', 'linea', 'chakir', 'gracias', 'sentimentalismes', 'patriarcals', 'sumaria', 'inclinacions', 'cremació', 'salubritat', 'xiringuitos', 'jòquer', 'recoberta', 'auf', 'acurats', 'reprendrem', 'portaren', 'financerament', 'schank', 'compliquen', 'representés', 'supremacia', 'estim', 'papeete', 'receptores', 'confessen', 'vuits', 'radicalitzar', 'snack', 'executaran', 'rocosa', 'bastió', 'prehistòric', 'estreny', 'commemorarà', 'conferencia', 'locarà', 'fullatge', 'uva', 'perllongades', 'ncia', 'concili', 'llegible', 'dècim', 'adeqüi', 'implícits', 'evaluació', 'diversions', 'rebequeria', 'grimalt', 'aclareixen', 'correctora', 'enginyosa', 'romer', 'israelita', 'nostàlgica', 'passejarem', 'comida', 'xtec', 'huma', 'bicampió', 'molinet', 'inexpert', 'passera', 'cosmopolites', 'afinant', 'orquestres', 'pèssimes', 'vudú', 'eixuga', 'plujosa', 'merci', 'coe', 'ianquis', 'estafat', 'exprimer', 'llunya', 'felins', 'aveure', 'vertadera', 'nespres', 'franciscà', 'estalactites', 'gosseta', 'rentem', 'genotip', 'mestral', 'abecedari', 'obscenitat', 'books', 'uneixin', 'superés', 'nutritives', 'gireu', 'solucionarà', 'liquida', 'surtit', 'costoses', 'explotant', 'podra', 'espantant', 'compendre', 'torrar', 'nv', 'incorrectament', 'cribratge', 'dissertació', 'solapa', 'prezi', 'autoavaluar', 'callava', 'intricades', 'escurça', 'regit', 'xutant', 'estirava', 'servici', 'win', 'reprimida', 'desvetllat', 'suportant', 'endreçada', 'gmt', 'sumativa', 'log', 'cassany', 'victima', 'apreníem', 'actio', 'posan', 'desmotivació', 'falteu', 'guanyareu', 'decanta', 'correo', 'liberty', 'faltés', 'prelitoral', 'loira', 'avalats', 'naviliera', 'carregament', 'proporcionalment', 'murcià', 'oficiada', 'grandets', 'windsurf', 'motxil', 'accidentalitat', 'rovellons', 'veiéssim', 'haguérem', 'estressant', 'tecs', 'acumulava', 'decaiguda', 'á', 'contestà', 'expenses', 'viso', 'coria', 'tosa', 'abunda', 'rumbo', 'cuatre', 'evoquen', 'feus', 'prime', 'esquemàtica', 'beneficència', 'endarrerida', 'salvo', 'retirin', 'baldera', 'alcaldables', 'tatuat', 'impliqués', 'ensenyessin', 'trasbalsat', 'inamovible', 'responem', 'autoregulació', 'botifarró', 'plantofada', 'barbany', 'podía', 'apujant', 'esperançada', 'philips', 'rotllos', 'preromà', 'trenques', 'temptejar', 'tàvec', 'liz', 'marejats', 'reclamo', 'sindicació', 'matinera', 'protegeixin', 'sospiten', 'codificada', 'imaginatives', 'ampes', 'metòdic', 'progressius', 'xiulin', 'ratllats', 'óssa', 'combinatòria', 'confits', 'coliflor', 'dormim', 'identifiquem', 'arrebossats', 'rebenta', 'joveníssim', 'fatals', 'incoherència', 'rellegint', 'mercé', 'opinant', 'menciona', 'entusiasma', 'mayoral', 'gisela', 'barrina', 'comparatius', 'vigilem', 'gegantesques', 'espúria', 'confessional', 'targarí', 'digestius', 'esparvers', 'carrossa', 'abocades', 'omet', 'mandrosament', 'confonia', 'repenjats', 'quioscs', 'engeguen', 'radioactiu', 'carbons', 'esbufegada', 'enyors', 'quèiem', 'cloroplasts', 'febrós', 'autodiagnosi', 'sobreviurà', 'amuntegades', 'construiran', 'cantaran', 'caspa', 'área', 'zelador', 'croc', 'badiella', 'classificatori', 'excrescències', 'herculi', 'sonades', 'àncores', 'pornogràfiques', 'saviet', 'raimundo', 'aeg', 'semis', 'pique', 'condes', 'movement', 'estrangular', 'ogre', 'benignes', 'exhausts', 'alpinistes', 'esponerós', 'davallà', 'digitalitzat', 'sedega', 'superem', 'recobrant', 'invasives', 'assabentava', 'xxxiii', 'detectables', 'distorsions', 'mocosos', 'vertígens', 'bruixeria', 'saig', 'ordinàriament', 'periren', 'artificis', 'lirot', 'llenegós', 'fidalgo', 'espinades', 'lana', 'arrossos', 'ignota', 'ruscs', 'gaudeixes', 'convençudes', 'riallers', 'mezquita', 'iconoclasta', 'escapoló', 'comunicades', 'consensuats', 'notori', 'paracuellos', 'atròfia', 'penetracions', 'ccaa', 'hortsavinyà', 'peramola', 'guardona', 'nonat', 'guatlles', 'tweets', 'monografia', 'damián', 'excaps', 'carnussos', 'cridades', 'capriciós', 'denegada', 'xamberga', 'dipositen', 'devastada', 'fosforescent', 'acostem', 'chica', 'lateralment', 'cardenals', 'sismes', 'cargolada', 'jeràrquicament', 'teòlegs', 'ballades', 'trametent', 'mòrbids', 'entecat', 'bombai', 'garantiria', 'claver', 'ocasionen', 'escolaven', 'brasas', 'campar', 'amplíssim', 'descordar', 'habituats', 'auditar', 'reinversió', 'complagut', 'reversió', 'benvolgudes', 'estavellats', 'adreçà', 'consultem', 'orientador', 'clamor', 'inquisicions', 'desertat', 'remesa', 'covava', 'ultratjós', 'somiats', 'gobern', 'facilitadors', 'replans', 'sèdul', 'xes', 'confi', 'bernats', 'cofinançat', 'olite', 'adquirirà', 'aprovà', 'lucratives', 'scoutball', 'aquetes', 'estratagemes', 'nepalès', 'impudent', 'información', 'bròfec', 'chef', 'decanten', 'prenguis', 'pispat', 'hellín', 'flamejant', 'bei', 'incorrecció', 'arcà', 'empenteta', 'acròbates', 'vetlladors', 'dalai', 'dinamitzant', 'pertanyi', 'papallons', 'apartheid', 'acosti', 'sineu', 'seleccionen', 'abasseguen', 'amp', 'aromàtica', 'peans', 'antípodes', 'bíblica', 'configuracions', 'partença', 'cartrons', 'espetegava', 'empescats', 'apotecaris', 'dinaran', 'subsecció', 'macip', 'agredint', 'cuidada', 'xiulaven', 'psan', 'narrat', 'evacuacions', 'butler', 'confinats', 'jòdar', 'escampant', 'aprofundeixen', 'trementina', 'tuixent', 'abstrús', 'roí', 'parasiten', 'interterritorial', 'supèrflua', 'sotelo', 'tremolí', 'torsimanys', 'presentes', 'peudebancada', 'clatellots', 'muy', 'excita', 'pretengués', 'deco', 'fruitera', 'miceli', 'adorador', 'valldemossa', 'antilla', 'refrigerats', 'slim', 'enfit', 'fangars', 'reculada', 'trigaran', 'harmonització', 'jardi', 'barriada', 'insignificança', 'tarifació', 'firmaments', 'caigueren', 'boscana', 'borrasca', 'gabriela', 'atzebs', 'estrenyent', 'moragues', 'nájera', 'dua', 'somoza', 'genograma', 'abaixava', 'divi', 'marfanta', 'pitxolineta', 'corns', 'beas', 'unívoca', 'composada', 'ràbies', 'xerec', 'fuerteventura', 'urdaneta', 'çoviètic', 'fontajau', 'nafrada', 'auditiva', 'pour', 'boronat', 'guarets', 'funest', 'julie', 'francina', 'rugues', 'demostres', 'ferrers', 'pixera', 'gelees', 'pòlisses', 'autentica', 'corca', 'empordanet', 'corçà', 'morents', 'amicalment', 'caminos', 'etzib', 'ganuts', 'laurent', 'masella', 'puy', 'inhibit', 'topant', 'torla', 'tella', 'pajares', 'baza', 'ectoplasmes', 'zubia', 'nasi', 'ferrada', 'solius', 'processa', 'simbol', 'rocacorba', 'channel', 'excusant', 'eixorivit', 'pope', 'especificant', 'atansem', 'emprenyant', 'atansi', 'ost', 'incapacitats', 'repapiejant', 'intercrural', 'almoradí', 'quq', 'rotes', 'torcava', 'palterada', 'trinxeraires', 'ròssecs', 'nòmada', 'anàrem', 'porqueries', 'consentit', 'temis', 'loza', 'now', 'stevens', 'ebasp', 'gut', 'dejorn', 'baló', 'malencònic', 'assassin', 'botxinejats', 'aventurera', 'negret', 'dell', 'transfronterer', 'captiu', 'disposarem', 'eucaristia', 'hostals', 'muntanyós', 'defendre', 'portaràs', 'alcen', 'torreblanca', 'exhibicionisme', 'floria', 'virolles', 'aqüeducte', 'prior', 'inactiu', 'sagnós', 'fabulosa', 'afermar', 'cabró', 'enrabiats', 'ejido', 'nitament', 'reverter', 'medellín', 'canarias', 'oló', 'fangós', 'guernica', 'esper', 'luanco', 'ajusticiar', 'papal', 'laxes', 'carallotades', 'felicitava', 'ínfims', 'encastades', 'decreta', 'entoma', 'carreu', 'brusel', 'traspassada', 'interlocutòries', 'fabrils', 'comiols', 'estampa', 'moror', 'litats', 'repós', 'gentilment', 'fra', 'triarem', 'ordal', 'comptabilitzat', 'relliscaven', 'panteix', 'tagamanent', 'pinxo', 'geperudet', 'barrot', 'impropi', 'legitimar', 'infantons', 'desglossat', 'sobrer', 'delits', 'estomacal', 'datpelculades', 'fictament', 'insensat', 'remant', 'esvalotat', 'enganxifós', 'cinglera', 'esset', 'reveig', 'entràvem', 'pregoner', 'destacà', 'utensilis', 'boterudes', 'preteníem', 'trauran', 'febrit', 'horadada', 'brodats', 'friends', 'esvellegat', 'stephanie', 'ocasionades', 'motivi', 'qualcun', 'banalitats', 'llenques', 'inassolible', 'farmaciola', 'muntarà', 'adonaves', 'ficaves', 'tòtils', 'sedegues', 'humet', 'tramitarà', 'ebrenca', 'ardides', 'intencionada', 'obsequiós', 'erets', 'estercoraris', 'joguets', 'clapava', 'periurbans', 'trenet', 'diplomatura', 'bestialment', 'destructius', 'desplaçava', 'mocosa', 'perpetrat', 'malastruga', 'patriarcat', 'capgiren', 'disparada', 'acunçar', 'estocàstiques', 'transmetem', 'ventada', 'punxents', 'tusell', 'mugró', 'trenquessin', 'cruspint', 'congreso', 'pretendents', 'patinant', 'foscúries', 'esgarrifoses', 'florir', 'potestats', 'benavente', 'aymamí', 'farràs', 'estiribel', 'inalienable', 'protagonitzaran', 'espadat', 'cinecooperativa', 'vessades', 'ressonàncies', 'flagrants', 'loreto', 'terreros', 'llegendàries', 'gordo', 'lapsats', 'sabé', 'assetgen', 'conxorxats', 'desmanegadament', 'espiat', 'safd', 'entera', 'comerçlocal', 'familiarment', 'filis', 'fatu', 'splat', 'recobrat', 'colltort', 'viratons', 'legisladors', 'menaven', 'escridassada', 'estrebava', 'illescas', 'alfabets', 'sociolingüístiques', 'carbonitzats', 'duradora', 'aboleix', 'nunart', 'abillat', 'desèrtiques', 'estentori', 'editem', 'apocalíptics', 'escorria', 'reptilians', 'engabiats', 'eixorivia', 'inaturable', 'esborronat', 'desfigurat', 'arxivística', 'emmca', 'solquen', 'enganyava', 'ameríndies', 'faruk', 'campredó', 'gels', 'capdeconyades', 'anecdòtica', 'round', 'estantissos', 'treballareu', 'seqüela', 'inauguraran', 'trueba', 'reuneixin', 'oxímoron', 'gruada', 'alleva', 'optaran', 'participareu', 'pixapins', 'afa', 'ofegada', 'ronyosa', 'centener', 'assitit', 'canvieu', 'casacuberta', 'àngelus', 'femina', 'florenci', 'faltaran', 'jerónimo', 'daura', 'garantitzant', 'estiuejar', 'rosanes', 'jovial', 'topem', 'treballarien', 'rostisseria', 'consagrada', 'fradera', 'mayalen', 'exitosos', 'giulia', 'fotoperiodista', 'densitats', 'presidentes', 'vallgorguina', 'fabà', 'giant', 'poveda', 'xindits', 'caño', 'bocana', 'rfen', 'pime', 'multen', 'rapat', 'repressiu', 'escampeu', 'ovalada', 'deixan', 'marzà', 'pissarres', 'install', 'fullana', 'odiant', 'rebatejada', 'innoemprèn', 'orenga', 'trabuc', 'operacionals', 'disparessin', 'hòlding', 'coliseum', 'capritx', 'assitencials', 'confiteria', 'sofindus', 'aracil', 'entrevistadors', 'mea', 'logix', 'insuls', 'sicue', 'romànics', 'interinstitucional', 'vidreres', 'calamitats', 'revenges', 'satisfaci', 'valldaura', 'jubilades', 'avesada', 'fonsagrada', 'manela', 'burela', 'demandant', 'altet', 'alàs', 'flotants', 'trepitjaven', 'inlosos', 'expansión', 'gustave', 'anagrames', 'pozuelo', 'reforestar', 'cinemàtica', 'neguem', 'ullastret', 'nansa', 'escabetx', 'loire', 'comments', 'dimitirà', 'dictarà', 'pravia', 'aleu', 'dcvb', 'muros', 'fémines', 'alleugerida', 'desbloqueig', 'avantpenúltima', 'lamela', 'novgorod', 'ilmen', 'editava', 'caspi', 'ft', 'enfeinada', 'segrestada', 'aprenien', 'soe', 'ris', 'flamarada', 'locomotora', 'aprofitaments', 'treballaren', 'escata', 'thorak', 'wilhemstrasse', 'antull', 'deluxe', 'allianz', 'ringelblum', 'rouge', 'pil', 'venciments', 'electoralistes', 'camarilla', 'suada', 'koenig', 'harlan', 'xxvi', 'nii', 'isak', 'denia', 'cuidadores', 'jovenetes', 'desmanegats', 'dimitís', 'galaxia', 'promoevents', 'sumner', 'sabadellenca', 'multiconsulta', 'ibuprofèn', 'probike', 'benn', 'omniscient', 'signem', 'unidad', 'renovarà', 'vatutin', 'repeteixes', 'valldeperas', 'hipper', 'iiia', 'turmeda', 'capacita', 'ermessenda', 'enriquidors', 'jamon', 'clauberg', 'aquelarre', 'empresària', 'esperarem', 'lehmann', 'basalt', 'behr', 'fierro', 'garrucha', 'tre', 'reprenc', 'dzerzhinski', 'traeixen', 'àtic', 'adinerada', 'demoday', 'polizei', 'xerrarem', 'reptat', 'enganyada', 'bufador', 'parrot', 'viejas', 'genil', 'sintèticament', 'queixans', 'rick', 'lotte', 'monrós', 'electoralista', 'work', 'tosses', 'olivenza', 'manifestem', 'gambetes', 'documentalista', 'fusté', 'homen', 'atlàntida', 'invalidesa', 'pallol', 'menoyo', 'captivador', 'cotentin', 'maquillada', 'saquejaven', 'visqueren', 'guitart', 'xerrava', 'queer', 'truco', 'villegas', 'colomenques', 'claudio', 'hangar', 'solutions', 'tiradors', 'ontario', 'imatgeria', 'donetsk', 'feixuguesa', 'califa', 'aloy', 'tirador', 'indisciplina', 'ditzen', 'estiuenques', 'sorgí', 'inalterable', 'rumkowski', 'conformava', 'nem', 'nudista', 'ètico', 'sagebiel', 'concorrerà', 'inolvidable', 'gusto', 'bello', 'minorista', 'mejía', 'rojigualda', 'anaconda', 'preece', 'doblen', 'consolider', 'raonat', 'dusseldorf', 'amara', 'arbovirosis', 'proclamats', 'bloguers', 'fracas', 'riudor', 'seien', 'soli', 'corrandes', 'bizantí', 'guillamet', 'sotsinspector', 'transportista', 'preferint', 'csd', 'sobrava', 'afusellessin', 'estimàvem', 'vigalondo', 'hangelar', 'vendria', 'nomenà', 'precissament', 'italo', 'anacoretes', 'wild', 'estirem', 'saborosa', 'mau', 'calafat', 'mussols', 'esqueixat', 'resilient', 'cubes', 'homoludicus', 'decora', 'faridi', 'espaiós', 'trossejar', 'esquitxar', 'tschammer', 'barnasants', 'verificades', 'marratxí', 'laborà', 'sembrat', 'habicht', 'estés', 'nacio', 'jahreszeiten', 'redós', 'comunament', 'felanitx', 'ordenen', 'faltin', 'zur', 'extremar', 'interludi', 'boquera', 'erill', 'antidemocràtiques', 'ornaments', 'piquen', 'equitativament', 'transaccionals', 'idealisme', 'rectificat', 'nol', 'luciana', 'scranowitz', 'rübenach', 'abba', 'denunciarà', 'días', 'cenma', 'patetic', 'salobreña', 'txaikovski', 'karanka', 'bul', 'afterwork', 'commogut', 'lux', 'anarquisme', 'encadena', 'forquilles', 'bragado', 'escaldes', 'justificants', 'latour', 'pirenaico', 'transsilvània', 'freude', 'mé', 'gebensleben', 'coordinaran', 'moldre', 'galen', 'agudesa', 'terròs', 'respectessin', 'merli', 'dcat', 'esperavem', 'expressionisme', 'artés', 'obririen', 'teletip', 'rancho', 'marqueta', 'afincada', 'menà', 'oto', 'oberfohren', 'reduiran', 'salven', 'lulen', 'confraries', 'kick', 'godo', 'dordal', 'piquem', 'vaticinat', 'fotocopia', 'endubítem', 'xatcat', 'malvada', 'lichtenburg', 'desconsol', 'oferiu', 'torregrosa', 'vermeulen', 'ib', 'legial', 'microespais', 'villaseca', 'eusquera', 'comsoc', 'confirmarà', 'graciosa', 'vergara', 'regia', 'bipartit', 'entabanar', 'wallenberg', 'strategy', 'sevir', 'violinista', 'ferreras', 'mixts', 'pío', 'preparatoris', 'intueixo', 'dating', 'llegar', 'montat', 'esquimals', 'blasi', 'tigers', 'bouzas', 'anuaris', 'selvatana', 'forhot', 'compensen', 'agosarada', 'quevedo', 'debilita', 'barem', 'torms', 'dubtaven', 'engolir', 'sikorski', 'concordances', 'avc', 'yiddish', 'exlíder', 'estiuenc', 'importi', 'toto', 'fotra', 'sociales', 'oprimida', 'casant', 'preestrena', 'perth', 'gerros', 'resentiment', 'jacinto', 'more', 'confortables', 'contreure', 'dgpc', 'griot', 'consegüentment', 'mondraker', 'antikomintern', 'cae', 'lev', 'administration', 'condueixi', 'llenci', 'molló', 'voluminosos', 'juden', 'esmorzarem', 'palatal', 'consumidora', 'eri', 'bermejo', 'stuckart', 'zeppelinfeld', 'benzinera', 'merengues', 'floristes', 'escalfem', 'guinness', 'geolocalitzats', 'ziegler', 'marichalar', 'inconegut', 'legends', 'quinquis', 'omaña', 'entortolligats', 'segregats', 'creuaria', 'declararà', 'bürckel', 'olympique', 'inselstrasse', 'perdies', 'glaise', 'rompuy', 'etnogràfic', 'tornéssim', 'iglésias', 'importaria', 'caudal', 'dter', 'terri', 'caletes', 'democrata', 'tovalloleta', 'descarreguen', 'showman', 'bestmap', 'redemptor', 'tributació', 'àssua', 'fetges', 'confitada', 'selfie', 'noucentisme', 'hombre', 'terrorífica', 'tomaquets', 'paté', 'superbé', 'apadrinat', 'brexit', 'remou', 'èl', 'fundesplai', 'criadors', 'professó', 'dunant', 'tenyits', 'ploris', 'eurosomni', 'nuri', 'conjura', 'prefabricats', 'barraquer', 'despertes', 'despertaferro', 'barbacoes', 'reconsideració', 'ressort', 'dribla', 'extenuació', 'inutil', 'bicircuit', 'urbanistes', 'estrellat', 'cordials', 'estandarditzada', 'naturae', 'salbutamol', 'hematoma', 'esplèndit', 'skyrunning', 'afavorien', 'missioner', 'animadora', 'leccionistes', 'sobies', 'perpo', 'codirectora', 'oblidaran', 'gerencial', 'tramun', 'romea', 'patrocinis', 'sageta', 'esperàveu', 'megabici', 'colmena', 'inquestionable', 'gaston', 'obstru', 'destacadíssim', 'completíssim', 'multiplicarà', 'palomino', 'matamala', 'cronometrades', 'fascicles', 'capi', 'sorgeixi', 'totana', 'gentilici', 'facilment', 'batxiller', 'cànovas', 'mòdic', 'invertiran', 'adf', 'respectades', 'relaten', 'resoleu', 'entabana', 'avançaments', 'zoe', 'gustaf', 'esquiable', 'colonies', 'moltas', 'vermellós', 'gabarra', 'peluix', 'mateus', 'remors', 'acusin', 'cómpeta', 'impregna', 'plovent', 'inundades', 'depassar', 'storify', 'cucalòcum', 'simptoma', 'resende', 'turoperadors', 'inagural', 'expedirà', 'confessant', 'kabul', 'tenieu', 'descubrir', 'tacos', 'pujen', 'renovador', 'àrbitratge', 'conroy', 'atrapant', 'senyalitzar', 'cibeles', 'talussos', 'canvii', 'krkic', 'memory', 'tinguéssiu', 'montperler', 'presupost', 'datava', 'trascendents', 'jugàven', 'td', 'gestores', 'alamús', 'sarri', 'regalats', 'guixà', 'jp', 'twain', 'asoprovac', 'podíen', 'cuidadora', 'gànguil', 'inexplicables', 'admirada', 'escoda', 'calidoscopi', 'reingrés', 'alcarria', 'oblits', 'crioteràpia', 'diatèrmia', 'saperas', 'masià', 'llaminera', 'lpg', 'irreparables', 'igualadi', 'dràstic', 'anticipadament', 'exercien', 'expropiacions', 'proletària', 'bufalà', 'hospitalenc', 'paneres', 'algúns', 'esteribar', 'imaginatius', 'rebelar', 'dissolts', 'biogràfics', 'afamats', 'experiencial', 'atacarem', 'avesades', 'dagoll', 'excelsos', 'debuts', 'agrairan', 'padrós', 'dexeus', 'repoblar', 'enquestadors', 'policíaques', 'escriba', 'concretarà', 'capelles', 'incórrer', 'shikoku', 'tardava', 'valona', 'championchip', 'milian', 'assembles', 'casaramona', 'isards', 'reclams', 'terrassings', 'entrenis', 'coimbra', 'tiago', 'esquats', 'richards', 'aproparà', 'miralpeix', 'gluti', 'desarrollo', 'cads', 'equidistància', 'estengui', 'punk', 'desertes', 'zara', 'flaquer', 'acullin', 'pitàgores', 'takahashi', 'descobriràs', 'laments', 'simulen', 'carmanyoles', 'albarca', 'haguèssim', 'yvonne', 'assistissin', 'castañé', 'dislipèmia', 'murad', 'choi', 'debati', 'iluro', 'alcade', 'acompleixen', 'sorbonne', 'actui', 'canalitzacions', 'celobert', 'mixtos', 'rollhockeyhalle', 'cashdro', 'esmerça', 'ilusió', 'lgtbiq', 'piscolabis', 'síndics', 'regatejat', 'optaven', 'patrocinadora', 'quadríceps', 'justet', 'víking', 'herringen', 'honorat', 'engendrar', 'enriqueta', 'oiartzun', 'cinefòrum', 'inundada', 'afiliades', 'raphael', 'ressaltant', 'elegeix', 'repressives', 'hard', 'franciscans', 'perdonarà', 'guardaran', 'rabiosos', 'sociosanitària', 'estudieu', 'enginyoses', 'ajustadíssim', 'frigola', 'dibuixants', 'dausà', 'perpetuen', 'bavosa', 'llevem', 'nové', 'emplaçar', 'dptop', 'csc', 'organitzacionals', 'agrairé', 'florentina', 'mcauliffe', 'xvu', 'debilitada', 'meravellats', 'urquhart', 'fisonomia', 'engegarà', 'teoría', 'schickelgruber', 'lenard', 'maza', 'hodas', 'estalviador', 'mobilitzem', 'brunete', 'socioeducatives', 'bauma', 'iscle', 'rega', 'horrocks', 'politòloga', 'kommandantur', 'erigit', 'ancora', 'citlali', 'oposés', 'bikesports', 'parentalitat', 'bgteam', 'rae', 'gairabé', 'fibromiàlgia', 'uhlfelder', 'afluent', 'mschools', 'alsaciana', 'edgard', 'alle', 'obsequia', 'führerbau', 'prosperen', 'woche', 'consiliari', 'monàstica', 'congosts', 'administradora', 'tamb', 'mobil', 'szalasi', 'tarragó', 'judenhaus', 'hist', 'deprés', 'llullu', 'rodaven', 'einrich', 'contestaven', 'contagiós', 'julien', 'noèlia', 'eifel', 'mimat', 'indagacions', 'abanderats', 'retroben', 'tbellès', 'carolíngia', 'policía', 'especie', 'ecovipeu', 'leópolis', 'fricandó', 'axia', 'vilafranquins', 'obscura', 'pressionava', 'aigen', 'cossa', 'ingerències', 'unipersonal', 'paralitzades', 'abassegar', 'empitjorant', 'occidente', 'adir', 'sarda', 'ermann', 'islàmiques', 'rieradevall', 'coorganitzada', 'maltracten', 'atipar', 'pense', 'haeckel', 'teacher', 'subtitulades', 'motoclub', 'brasería', 'spiral', 'esmenat', 'adaptador', 'dilacions', 'schmorell', 'microcrèdits', 'satorres', 'ballat', 'corap', 'pedigrí', 'chartres', 'minh', 'maillots', 'menjades', 'abjoves', 'suggerents', 'atenguin', 'serenament', 'joandomènec', 'imeb', 'roselló', 'banyades', 'idhc', 'decideixo', 'lindemann', 'fonamentació', 'tèbies', 'navegaven', 'puigmal', 'sèquies', 'reaccionaria', 'llopart', 'jackie', 'avancin', 'afluents', 'jafri', 'hermance', 'edhackers', 'ferre', 'proposarem', 'inundables', 'càrtels', 'portareu', 'ensenyarem', 'xerinola', 'bocamoll', 'guarnits', 'dub', 'endarrerits', 'conformant', 'practicats', 'alternaran', 'mascançà', 'venerava', 'vater', 'octaveta', 'continuador', 'bretona', 'cotitza', 'canina', 'haiku', 'totalitarismes', 'coac', 'despentinats', 'sotscampió', 'terranova', 'duraven', 'assumiran', 'sert', 'neruda', 'algesires', 'pictòric', 'alverna', 'bondia', 'lleia', 'tamborets', 'edison', 'toyota', 'cronometratge', 'pigues', 'basili', 'longest', 'delcamp', 'prodeca', 'arrissat', 'velodrom', 'cuidats', 'tradegrup', 'empordanès', 'tastaolletes', 'desinteressadament', 'viladoms', 'sempere', 'sinde', 'borghese', 'gessamí', 'vilajosana', 'près', 'judeo', 'beneito', 'maika', 'compositora', 'bll', 'indurain', 'pirena', 'mitt', 'lingüistica', 'cinquens', 'desocupat', 'dutxo', 'jair', 'cunyats', 'inques', 'assertivitat', 'corregeixi', 'domòtica', 'ist', 'barth', 'alfabetitzats', 'fomentem', 'dam', 'ceballot', 'detallet', 'quilometratge', 'forenses', 'desbordats', 'lanz', 'convivim', 'liebenfels', 'dublin', 'unta', 'tireta', 'catema', 'monomotor', 'firacamp', 'celebreu', 'cellera', 'ambaixadores', 'panadés', 'nsfb', 'posicionant', 'serfs', 'sismic', 'gestant', 'ruby', 'detestava', 'aclapara', 'proporcionem', 'netegen', 'xxviii', 'dièsel', 'acompanyo', 'borsi', 'hawking', 'tracks', 'dardenne', 'dina', 'astorga', 'aregio', 'bonell', 'buscetta', 'extradit', 'sites', 'corres', 'nakajima', 'menjo', 'rentava', 'verificat', 'iberoamericana', 'medallistes', 'corregia', 'habilitaran', 'ambientats', 'hit', 'asseguradora', 'grèvol', 'petonets', 'engresqueu', 'vis', 'àgilment', 'graham', 'gehlen', 'éric', 'esmolet', 'pampallugueig', 'dissenyà', 'profús', 'notaven', 'lei', 'olmedo', 'malsdecap', 'sorruts', 'desdentegats', 'cobres', 'carbonitzat', 'embalse', 'pujaren', 'pànics', 'orbes', 'bufetejar', 'abrasador', 'indiscriminat', 'cridanerament', 'gregaris', 'llepaven', 'nder', 'indignava', 'embruixats', 'adventici', 'rebentada', 'envitricoll', 'tòrrid', 'buiden', 'sest', 'poixèvols', 'immunda', 'desembolicar', 'metec', 'componia', 'madero', 'semicircular', 'tríbades', 'fitava', 'bípeds', 'matrassos', 'relliscà', 'estrip', 'pastorals', 'tipes', 'dificultós', 'capaltard', 'her', 'banner', 'canviot', 'emmerdats', 'anàrquic', 'coruscant', 'klan', 'fúries', 'bertrand', 'site', 'desarmada', 'mancomunitats', 'vinaters', 'lleixaven', 'pv', 'ulm', 'oferiria', 'adonaran', 'triana', 'atenyen', 'reca', 'jull', 'limitarà', 'eol', 'espars', 'xoriçu', 'psicòtiques', 'triomfals', 'brücke', 'impedeixin', 'resignar', 'catalunyencs', 'fulgurants', 'engaltar', 'coltellada', 'menats', 'jeràrquics', 'kher', 'pescant', 'fitxant', 'eixarrancada', 'jacobí', 'vomita', 'dignitaris', 'quocient', 'ambdòs', 'enlluernaments', 'desixen', 'furioses', 'luminacions', 'despitat', 'subcategories', 'menstru', 'pulpería', 'desconfeix', 'esmunyien', 'exhala', 'manegar', 'tragina', 'bategosa', 'espinguets', 'justs', 'tramposos', 'diplomats', 'bleixar', 'harpies', 'bitx', 'xauxina', 'epíploon', 'engegats', 'digitalitzada', 'buidaven', 'poguts', 'pòdex', 'zels', 'tebis', 'ensenyà', 'deuetó', 'monteagudo', 'pecador', 'validats', 'triangulars', 'espitxa', 'pessigolletes', 'abaixats', 'mefític', 'buscador', 'sorollades', 'balafiar', 'generà', 'gemec', 'pallussa', 'epilèptic', 'profètica', 'pobletans', 'amin', 'extranet', 'espinosos', 'parroquials', 'escorr', 'porprat', 'uhmà', 'putejats', 'vulcà', 'allera', 'exúvia', 'apaguen', 'botits', 'mutilat', 'futilitat', 'befa', 'gif', 'servem', 'desbancar', 'guaitem', 'ostar', 'ferroviarisme', 'cartuja', 'busqueta', 'assenyali', 'alçura', 'obsessivament', 'colombo', 'tritons', 'depenguin', 'estavellen', 'bellugós', 'esdevinguessin', 'cinco', 'recollí', 'esporàdics', 'nauseabund', 'alberta', 'bananes', 'bassiot', 'escumes', 'invàlida', 'jpeg', 'perirà', 'gracieta', 'catrac', 'escunçar', 'ventas', 'tròpics', 'bocateria', 'arnades', 'copies', 'orrupte', 'autobuset', 'xurma', 'batejats', 'alliberadors', 'calladets', 'lobo', 'ecspanyols', 'candent', 'paracolpi', 'restringides', 'purroy', 'papistes', 'elimini', 'desenganxar', 'beneita', 'fofialittah', 'abandonarà', 'chez', 'existiria', 'joanot', 'emportaran', 'triaran', 'hendaia', 'montoya', 'generarem', 'penetral', 'facultatius', 'minat', 'capriciosament', 'exagerades', 'esgotant', 'sereny', 'llorers', 'pretèn', 'propulsat', 'pagueu', 'caquis', 'canaleta', 'pinyer', 'partenogenètic', 'burot', 'hormonal', 'pencat', 'lituana', 'incendiaris', 'belli', 'estatges', 'bradford', 'escridassats', 'propugnava', 'traslladaven', 'escandaloses', 'perdonats', 'clorur', 'defraudadors', 'gestionem', 'frustrades', 'utiel', 'ulises', 'infàmia', 'gitat', 'aprofitable', 'defectius', 'troposfera', 'bronquis', 'figuri', 'pepito', 'impersonalització', 'panyella', 'semblem', 'coixinet', 'traveta', 'deficitari', 'malgirbat', 'rutllen', 'mimètic', 'arros', 'iconografia', 'ofegades', 'peribles', 'reductes', 'engreixat', 'portabilitat', 'emmerdar', 'centaures', 'escapça', 'coevolució', 'absolts', 'reculat', 'especulatives', 'manos', 'preteneu', 'enfadós', 'obstetrícia', 'electrodinàmica', 'preuada', 'endocrinologia', 'abstreure', 'llançaflames', 'blogger', 'retocat', 'operaran', 'inicieu', 'visquent', 'ravals', 'nautico', 'maixella', 'audàcia', 'enutjat', 'estratificació', 'rancis', 'càrcer', 'voz', 'ungulats', 'fermions', 'reblar', 'sidral', 'cantautora', 'lucca', 'poblar', 'derrotades', 'davies', 'burgués', 'presidiran', 'teològica', 'terré', 'mercenari', 'acumulacions', 'desencert', 'graphics', 'reconvertir', 'fogón', 'esquinçar', 'taipei', 'juguis', 'rollo', 'animés', 'reconeguessin', 'deixàvem', 'reclosos', 'cardíacs', 'encallada', 'pansides', 'vectorials', 'responsabilitzat', 'garants', 'esmola', 'tanet', 'endinya', 'prudentment', 'sobrevingudes', 'valença', 'mecanitzat', 'practicades', 'perineu', 'arm', 'semença', 'piedralaves', 'perfila', 'filipins', 'armero', 'llombardia', 'noure', 'romanguin', 'irradiació', 'caminal', 'constitueixi', 'acreditatius', 'espagne', 'descansaven', 'zedong', 'empres', 'vestíbuls', 'reincident', 'escudé', 'vulnerant', 'reiniciar', 'language', 'desinfectant', 'capten', 'convertissin', 'matossers', 'provoquin', 'charco', 'sintetitzats', 'capçada', 'leire', 'renunci', 'construeixi', 'mattia', 'sitjà', 'evitables', 'hooligans', 'vulnerat', 'ciris', 'recurrentment', 'venecians', 'mascara', 'amar', 'triadó', 'filo', 'concretaran', 'martinell', 'over', 'pondera', 'prestava', 'pathfinder', 'kilgore', 'desnutrició', 'ninotaires', 'rellançar', 'learn', 'geoffrey', 'remarcava', 'reaparició', 'depassen', 'arquitectures', 'wordle', 'minar', 'coordino', 'schiller', 'càpiga', 'capturen', 'ruquets', 'mantra', 'vallencs', 'rabejaven', 'quimèric', 'inestroncable', 'galifardeus', 'jonc', 'artísticament', 'xipollejant', 'castelladristes', 'cagaires', 'cridaren', 'simiescs', 'individualitzats', 'pilotet', 'etzibaven', 'impàvid', 'tolta', 'camuflada', 'voltatges', 'parrufs', 'mudada', 'gasteròpodes', 'tartranys', 'autoformació', 'mitgesmerda', 'indeleblement', 'dogmàtica', 'medecines', 'gossot', 'anèmic', 'empeltar', 'voltaven', 'degraden', 'cruspida', 'cofois', 'bubó', 'hàl', 'relluents', 'foscament', 'eixidiu', 'èxitus', 'insípida', 'lacònic', 'formidables', 'fofialitah', 'emmagatzemada', 'demo', 'hitlerians', 'çajús', 'meucarra', 'georgians', 'gallimarsot', 'consumia', 'robaren', 'gimnàstics', 'cariàtide', 'síndica', 'anguniat', 'plores', 'saltà', 'decrèpits', 'abassegadors', 'esmeperduts', 'obsedits', 'procaç', 'buna', 'parpella', 'nara', 'fuites', 'èters', 'ròssec', 'phone', 'dogmàtic', 'num', 'tremolenc', 'redunda', 'recorr', 'carregui', 'nimbe', 'respectaven', 'impensat', 'esgarrapa', 'escorces', 'cagot', 'clavaven', 'delictiva', 'insabuda', 'felló', 'persistia', 'voraç', 'corpenta', 'sacrosanta', 'obvietats', 'acceptà', 'aitants', 'asmàtic', 'penquen', 'afetgegats', 'estrateg', 'xixines', 'profètic', 'vergonyosament', 'ratades', 'duguessin', 'traslladi', 'carrinclonet', 'abjectament', 'trontolls', 'canins', 'mancant', 'xipolleig', 'postulava', 'desencallar', 'accediran', 'pistrinc', 'entretindre', 'ais', 'mostraria', 'electromagnètics', 'uniformada', 'reversible', 'eixamplen', 'profits', 'immutar', 'legible', 'arlot', 'apujades', 'xerecs', 'mesurava', 'escorxar', 'pallassades', 'aplicaria', 'xurriacades', 'imaginats', 'caçava', 'negrets', 'fenelles', 'mutant', 'vúlguer', 'mefítica', 'llumins', 'sègol', 'balmat', 'merdacaner', 'enfonsi', 'faceciosament', 'xent', 'llences', 'gimnàstiques', 'escopinar', 'elevant', 'musculats', 'furients', 'màsqueres', 'tòfol', 'colts', 'manin', 'eidòlons', 'fragants', 'relloga', 'cimbell', 'assenyadament', 'minyonets', 'eixugava', 'ama', 'marcolfes', 'escanyador', 'ditet', 'emasculat', 'caràtula', 'escassedat', 'bucòlics', 'plateret', 'torçons', 'bardaix', 'sanguinolent', 'providencialment', 'escoseix', 'estalinistes', 'afalagar', 'ludibri', 'penjarelles', 'espetegà', 'maridada', 'dinerets', 'humitats', 'jovenot', 'tallà', 'entretocs', 'interrelacions', 'interruptors', 'agronomia', 'filosofies', 'monçònegues', 'xuclen', 'matussera', 'cubs', 'benèfics', 'abassegat', 'umfla', 'batllius', 'escalaborns', 'guinyols', 'simplifica', 'capells', 'pencaires', 'pòmul', 'heretget', 'tradicionalista', 'batiste', 'eufòries', 'pornogràfica', 'pretenent', 'toms', 'hipogees', 'torcebraç', 'rcf', 'anodins', 'integuments', 'lint', 'catalonian', 'fragmentats', 'incòlumes', 'estintolar', 'coiot', 'guarit', 'monarquies', 'metastàtic', 'abordats', 'catúfols', 'veuries', 'pina', 'ouet', 'somnolent', 'ressuscita', 'ocellot', 'extremisme', 'leables', 'desmuntant', 'flèbil', 'penell', 'fementida', 'capbreu', 'fastigoset', 'paràsita', 'cascàrries', 'florent', 'greixosa', 'jubilant', 'entecs', 'melics', 'alagón', 'fàmuls', 'intervinguin', 'esgaripant', 'trinco', 'campant', 'pessigolleja', 'matollar', 'espiadimonis', 'execrable', 'destrempats', 'ignorades', 'desvinculació', 'nirvis', 'recordis', 'hermafrodita', 'extremada', 'contindre', 'consirant', 'defecació', 'poixèvola', 'papagall', 'conquereix', 'ocsp', 'femar', 'menos', 'sofrages', 'sèptic', 'pollos', 'caspós', 'gestionin', 'pujolistes', 'fusionat', 'reformista', 'protegeixi', 'insurgents', 'cabrons', 'relluir', 'testaments', 'arpes', 'detritívors', 'esturments', 'claudicant', 'intal', 'espletats', 'bramant', 'rotant', 'transiten', 'revingut', 'martiritzats', 'pixes', 'flatulent', 'voluminosa', 'ressonants', 'consira', 'papagais', 'opalescent', 'apòstrofs', 'administracio', 'aiguamorts', 'avençats', 'esgaripar', 'rosec', 'asfixiat', 'lúgubres', 'cinètic', 'dissorts', 'execrables', 'eidòlon', 'esquàlid', 'narcisista', 'nihilisme', 'astruga', 'brollaren', 'iconoclastes', 'enriolades', 'outlook', 'plepes', 'escarranseix', 'indistint', 'torní', 'arcàngel', 'lliuraria', 'verns', 'enjogassades', 'estremera', 'esqueien', 'serpent', 'entrí', 'kings', 'escalfés', 'petonejar', 'leonor', 'esotèrics', 'universalització', 'innòcues', 'caramull', 'registrarà', 'ignominiosa', 'editable', 'sequaços', 'tascó', 'possibilitant', 'sinàptics', 'filibert', 'estilets', 'esventada', 'sarcàsticament', 'unidas', 'llau', 'encallaven', 'manifestament', 'oldanes', 'monitori', 'ratar', 'tinguessis', 'conyarrí', 'orc', 'veieren', 'intersticis', 'esporàdica', 'llunàtic', 'torcat', 'fotó', 'suades', 'teclejar', 'esparsos', 'carreguin', 'trucà', 'esbufegats', 'antre', 'cigars', 'atzarós', 'manxar', 'crearen', 'degenerescència', 'purgar', 'guerreres', 'ernestina', 'botzines', 'amunteguen', 'validadors', 'oliós', 'flasc', 'accedirem', 'cònjuge', 'pouant', 'villarroya', 'aviciat', 'teoremes', 'furiosament', 'xicarrona', 'rosegadora', 'recollons', 'prismàtic', 'respòs', 'somorts', 'testicular', 'emblar', 'balasc', 'aprecien', 'pudien', 'delectança', 'bonda', 'assajava', 'envesteix', 'niells', 'redubtable', 'gruta', 'cartografies', 'subjuntius', 'prodigis', 'perdonaria', 'reflexionem', 'sacyr', 'escornalbou', 'alh', 'telegràfic', 'detectava', 'silicon', 'analògic', 'noteu', 'neixes', 'amollant', 'estupefacte', 'enfrontats', 'coles', 'nuit', 'accentuades', 'sinera', 'transgènic', 'destarotats', 'haguéssin', 'bailén', 'pronostica', 'imposaven', 'descobriré', 'embolcallar', 'din', 'aplicarem', 'nanobacteris', 'entristir', 'pekín', 'marcarien', 'reentrada', 'quinn', 'osma', 'impositiu', 'guida', 'contesten', 'hütter', 'disseccions', 'jakob', 'queixi', 'normativament', 'fregat', 'capelletes', 'menyspreava', 'lisi', 'gravity', 'petrolieres', 'hudson', 'servents', 'àjax', 'perplexos', 'escopit', 'hamburger', 'montejo', 'othman', 'giny', 'auguri', 'esmunyen', 'tobogan', 'arcade', 'rependre', 'oblidarà', 'ord', 'python', 'aprofitaria', 'plesiosaures', 'digitifera', 'galileu', 'substituiria', 'cluster', 'finalitzem', 'guinguetes', 'steptoe', 'diamond', 'qüestionava', 'volguéssim', 'sphinx', 'semiconductors', 'animalets', 'baia', 'wesley', 'sintàctics', 'desmesuradament', 'adaptatives', 'astènia', 'acomodat', 'piccard', 'tate', 'zn', 'australopitecins', 'ariana', 'cerevisiae', 'vaporós', 'regulant', 'subsegüent', 'atreviria', 'horno', 'frívola', 'sinèrgia', 'dominique', 'abaixem', 'lio', 'feed', 'qualitativament', 'licós', 'cabdell', 'demolir', 'conclós', 'computing', 'wave', 'congosto', 'saquet', 'ngc', 'llibertaris', 'matilla', 'traumàtics', 'clavdivs', 'activ', 'filivs', 'seg', 'nomenarà', 'bermúdez', 'pioneer', 'amino', 'busquéssiu', 'endreçats', 'fracassaria', 'familiarització', 'madigan', 'numerat', 'quen', 'estatunidenc', 'crees', 'eudòxia', 'mexicano', 'assegués', 'maquinàries', 'haurá', 'estrepitós', 'melza', 'assistencia', 'disputi', 'barnilles', 'maniobrabilitat', 'interjecció', 'habré', 'encapçalades', 'alineament', 'ufff', 'contaminada', 'weismann', 'nàusees', 'mesurables', 'igualen', 'alliçonat', 'saüc', 'radiactivitat', 'peròxid', 'autocontrol', 'adequant', 'necròpsies', 'source', 'retenia', 'atorgant', 'mimivirus', 'kgb', 'complit', 'tarima', 'patina', 'plagui', 'expectants', 'ponderar', 'etíops', 'iranians', 'palleta', 'incloem', 'descarregant', 'elogiant', 'reprogramar', 'prioritzarà', 'inseguretats', 'analogies', 'propens', 'milionària', 'indo', 'quadrant', 'pertorbar', 'zein', 'concertar', 'suboficial', 'substitutiu', 'punter', 'provarem', 'estrenant', 'borredà', 'caracteritzades', 'trinkaus', 'aconsellaven', 'gènics', 'irrellevància', 'atenuar', 'desconfiant', 'ganivetades', 'admirem', 'aaronson', 'irromp', 'barro', 'zarmina', 'uè', 'impopulars', 'ces', 'viatje', 'garrepa', 'ambivalent', 'injectava', 'tretes', 'proposis', 'negociadora', 'preparadors', 'bvp', 'pedre', 'molesti', 'pinyes', 'oponent', 'triangles', 'zonificació', 'melós', 'encarregaria', 'ponen', 'siguent', 'pija', 'obersturmführer', 'bodes', 'espe', 'espartaquista', 'sobrera', 'csfs', 'yri', 'saludés', 'inconscients', 'accedireu', 'salvia', 'sentirà', 'farinacis', 'enfilall', 'modernament', 'oferissin', 'steglitz', 'acollidores', 'posters', 'alliberessin', 'musics', 'kreis', 'lerma', 'sebas', 'hervás', 'refrescos', 'see', 'adecuada', 'invencibles', 'molestats', 'abordarem', 'sumarien', 'germann', 'connotació', 'hedda', 'verdaders', 'fotografiats', 'muntanyoses', 'amfitriona', 'ironies', 'exposeu', 'humanisme', 'reichstrasse', 'gesticulació', 'cabirols', 'vinyet', 'bolònia', 'balzac', 'udol', 'innoble', 'uerra', 'augmentatius', 'nsb', 'bofarull', 'moixaines', 'sèpia', 'simpatic', 'somnàmbul', 'smersh', 'freytag', 'consumien', 'escalfava', 'immobilitzar', 'sufocant', 'poms', 'desitjosos', 'bora', 'marsellesa', 'integraven', 'perdonés', 'luján', 'morgenthau', 'tenyir', 'exhauriment', 'equitatives', 'detallista', 'beritz', 'ridiculitza', 'etiquetat', 'àrdua', 'acompanyeu', 'pat', 'bombardegen', 'acceleradora', 'schechtman', 'lúrgica', 'embadalir', 'intogen', 'integrativa', 'envegen', 'auguste', 'folgada', 'portonovo', 'sòbria', 'apreciable', 'izumo', 'eufemismes', 'wise', 'móres', 'fusionades', 'saratoga', 'murcians', 'insospitat', 'hernam', 'classista', 'cobriment', 'níquel', 'transformà', 'optin', 'yutyrannus', 'eutrofització', 'capcit', 'amaguin', 'creurà', 'enguixada', 'hideki', 'terry', 'schuler', 'coexisteixen', 'spooner', 'flerovi', 'despietadament', 'fillastre', 'yamanaka', 'capgros', 'segmentació', 'assaborint', 'confessaré', 'equatoriana', 'pertanyo', 'aral', 'exagerats', 'fosfatidilserina', 'sacrilegi', 'desdoblar', 'estova', 'stark', 'nsf', 'saludem', 'cyber', 'marzo', 'loci', 'mirko', 'contribuit', 'queixem', 'almeida', 'homòlogues', 'encèlade', 'reivindicatius', 'tcga', 'nsg', 'catanyol', 'aarhus', 'ratcliffe', 'spots', 'inhumanitat', 'electròlit', 'avergonyeix', 'fillat', 'condrites', 'esfereeix', 'saboia', 'flot', 'ínfimes', 'desapercebudes', 'mullada', 'ranavirus', 'goodall', 'vernacles', 'virscan', 'confirmaven', 'bàlsam', 'bridge', 'simfonies', 'moaña', 'autosi', 'biòtics', 'sauvage', 'ohsumi', 'ondetes', 'tuning', 'arquetípic', 'christoph', 'arnlnc', 'merescuts', 'tetis', 'barrar', 'lliurarem', 'nitrat', 'momentani', 'jajaj', 'galois', 'cansava', 'jugaves', 'supèrflues', 'ventiladors', 'lutes', 'japones', 'indefinició', 'carret', 'arrugats', 'multicolors', 'allá', 'erigida', 'lià', 'melanogaster', 'sempele', 'svetlana', 'epigenètics', 'àmfores', 'cbarroso', 'marisquería', 'irrefutable', 'fatxendes', 'litosfera', 'denigrant', 'interglacials', 'criosfera', 'escalfabraguetes', 'petm', 'crónica', 'suspicàcies', 'cadireta', 'ecosistèmiques', 'engrescant', 'decisivament', 'hugh', 'preguntaria', 'loubna', 'saler', 'denisovà', 'manipulant', 'esbombar', 'parle', 'cultivats', 'endosimbionts', 'receptius', 'accedirà', 'harmoniosa', 'exercitant', 'borrosa', 'incita', 'leslie', 'acorralat', 'decidiren', 'siempre', 'abraci', 'vectorial', 'zbe', 'prodigioses', 'regalimen', 'harbour', 'hidroelèctriques', 'àncora', 'espana', 'detectable', 'nazaire', 'obsessionada', 'urbanitzades', 'rupestres', 'aterratges', 'avenc', 'casalots', 'qm', 'creativament', 'shawn', 'haploide', 'empitjoren', 'sintàcticament', 'sumptuós', 'heretades', 'dinovena', 'esparverat', 'montesinos', 'admissible', 'ejecció', 'diàmetres', 'intermig', 'fosforilació', 'gly', 'correctores', 'gihad', 'infusa', 'aprendré', 'conciliador', 'flexionar', 'ennuega', 'tòpica', 'estossecs', 'metabolits', 'citometria', 'endoplasmàtic', 'descobreixo', 'prossegueix', 'segorbe', 'calls', 'càstic', 'confederacions', 'cregudes', 'intercedir', 'creuessin', 'olleres', 'alia', 'smartcatalonia', 'externalitzacions', 'generaren', 'contre', 'masover', 'endocrí', 'agosarades', 'marine', 'xu', 'espiell', 'escortar', 'contextuals', 'toleren', 'discorria', 'assagen', 'separacions', 'saludats', 'extirpar', 'compreneu', 'blancafort', 'pivot', 'oloreta', 'afavoriria', 'ligentment', 'custodia', 'transcrits', 'comprensius', 'desplacin', 'false', 'atlàntiques', 'internauta', 'fumerada', 'huerto', 'afectarien', 'nàufrag', 'embrionària', 'cortical', 'santíssim', 'tulipes', 'blondel', 'bursada', 'lloveras', 'clotets', 'inspirava', 'experimentadora', 'grafitis', 'sàdic', 'esverada', 'ritonavir', 'plaents', 'isa', 'invident', 'panoràmic', 'localitzades', 'estressants', 'redactaren', 'empesquen', 'frontó', 'retiment', 'sospitem', 'tèrmits', 'hostaler', 'groguenca', 'respondrien', 'cendrer', 'aplegava', 'requeriria', 'aminoacídica', 'accelerava', 'diagnosis', 'sobreeixia', 'reemplaçar', 'coeur', 'sequaç', 'furibund', 'jenny', 'hè', 'quadrar', 'igc', 'electronics', 'agreujament', 'codificant', 'despertem', 'dements', 'nucleotídica', 'crescudes', 'sàviament', 'hosts', 'enllaçades', 'duradors', 'embalsamat', 'netejaven', 'rodatges', 'creperia', 'nmdar', 'encantarà', 'buidats', 'blats', 'impact', 'requerien', 'ribonucleic', 'desoxirribonucleic', 'dna', 'shape', 'agressora', 'basin', 'resolia', 'inflable', 'modulen', 'oligocè', 'prescindibles', 'institutet', 'reflexionarà', 'ldl', 'piazzi', 'confessats', 'aigues', 'descoordinació', 'ermua', 'totpoderosa', 'norfolk', 'cedeixi', 'químicament', 'descompressió', 'alde', 'leibniz', 'tabletes', 'prostituir', 'desitjem', 'endinseu', 'spengler', 'nicholas', 'montréal', 'ramakrishnan', 'pedants', 'parasitologia', 'remenats', 'cabaña', 'mucoses', 'simbolitzen', 'valparaíso', 'morbo', 'interessà', 'copio', 'eibar', 'castiguen', 'hilobàtids', 'nielsen', 'algebraics', 'trineus', 'kettering', 'pluripotència', 'pensaran', 'comediants', 'ppolb', 'abusat', 'vicentí', 'visionaris', 'pollets', 'melanina', 'storyboard', 'charter', 'bioquímic', 'robés', 'feminicidi', 'encarreguessin', 'psicosi', 'canvià', 'detallava', 'escribà', 'contraposats', 'interferometria', 'propiciada', 'nuvolades', 'apatia', 'agency', 'current', 'ideòlegs', 'sociològics', 'grandíssimes', 'taulí', 'drogat', 'apliquessin', 'etarra', 'patirien', 'ferreter', 'mancaria', 'equivocacions', 'convincents', 'descartem', 'delinquir', 'microscòpica', 'iib', 'astrofísics', 'licitadores', 'obscurantisme', 'exoplanetària', 'direccional', 'estimulada', 'cataluya', 'diafragma', 'negada', 'respiren', 'leiden', 'miratges', 'doctorant', 'peri', 'batabat', 'imposà', 'envestida', 'miss', 'pengessin', 'exoplanetologia', 'astronomy', 'gonella', 'eugene', 'podrá', 'reajustaments', 'iau', 'tordesillas', 'interferòmetre', 'litúrgies', 'completi', 'secundaria', 'halley', 'peixoto', 'materialisme', 'pong', 'aclaparat', 'idibaps', 'disperses', 'uixó', 'panxota', 'olivo', 'conductància', 'quòrum', 'móstoles', 'optarà', 'espanten', 'foz', 'observacionals', 'esteles', 'empetitir', 'moblar', 'servicial', 'carvajal', 'audaç', 'esquitxa', 'lipídic', 'inquiets', 'especula', 'merders', 'cutànies', 'ocasionant', 'selvàtics', 'llitet', 'goges', 'mareja', 'automatitzat', 'rendista', 'xaveta', 'llumínica', 'periheli', 'metxa', 'crostó', 'nucleotídics', 'monitoring', 'siciliana', 'desarrelament', 'augustin', 'micra', 'rigorosament', 'muhammad', 'ghz', 'entreguen', 'matanza', 'intraspecífica', 'sostenint', 'tonatge', 'trenada', 'walsh', 'muònics', 'sovintegen', 'abaixen', 'esfèric', 'penyal', 'caducs', 'ann', 'hepàtica', 'precursores', 'tràfics', 'fragàncies', 'plomar', 'registrant', 'pron', 'rover', 'estudiaria', 'endreçant', 'torba', 'tori', 'ensangonades', 'fossilització', 'lapwing']\n"
     ]
    }
   ],
   "source": [
    "Word2Vec_model.print_vocab()"
   ]
  },
  {
   "cell_type": "code",
   "execution_count": 7,
   "metadata": {},
   "outputs": [
    {
     "data": {
      "text/plain": [
       "array([-6.78541362e-01,  5.39869368e-01,  4.03966844e-01, -2.98002988e-01,\n",
       "        3.77685241e-02, -6.49072886e-01,  1.13005388e+00,  2.64642787e+00,\n",
       "        3.80026370e-01, -1.04509163e+00,  1.03648722e+00, -7.91770697e-01,\n",
       "       -5.02870560e-01,  1.77563763e+00, -3.65493208e-01, -9.19002369e-02,\n",
       "        8.21657002e-01,  6.21918738e-01, -2.37203926e-01, -1.98278868e+00,\n",
       "        1.44154593e-01,  1.57724953e+00,  6.22737229e-01,  3.83101165e-01,\n",
       "        4.17130500e-01,  7.41416931e-01,  6.66761875e-01,  4.43641275e-01,\n",
       "       -2.34811790e-02, -1.18666637e+00,  4.22608882e-01, -3.85012984e-01,\n",
       "        6.69768685e-03,  1.61847115e+00,  1.04314852e+00,  1.14948690e+00,\n",
       "        1.10098040e+00, -3.70280504e-01,  1.27088404e+00,  1.04942369e+00,\n",
       "       -2.46912226e-01, -3.05297613e-01,  7.34553635e-02, -1.76460469e+00,\n",
       "        2.44311619e+00,  9.74084020e-01, -4.06426102e-01,  5.44636071e-01,\n",
       "       -3.31721753e-01,  1.94776249e+00, -9.34404135e-01,  3.40923250e-01,\n",
       "       -1.15695894e+00,  3.62751901e-01, -3.25008720e-01, -3.65598053e-01,\n",
       "        5.95971644e-01, -8.09326842e-02,  1.42659712e+00, -9.85868573e-01,\n",
       "        1.02957809e+00,  6.09306753e-01, -7.62125552e-01,  1.27456939e+00,\n",
       "       -2.95116544e-01,  9.11621451e-01,  1.37893766e-01,  8.19156706e-01,\n",
       "       -9.46359754e-01, -1.20078027e+00,  4.61414844e-01,  2.03813887e+00,\n",
       "        1.57112312e+00, -5.80567360e-01,  4.25919890e-01,  9.77027476e-01,\n",
       "       -7.15294927e-02,  6.65226996e-01, -1.60120022e+00, -5.77945352e-01,\n",
       "       -9.74388301e-01, -4.03068364e-01,  2.03113690e-01,  1.51249850e+00,\n",
       "        2.75680751e-01,  4.95953888e-01,  1.87184401e-02, -1.28826737e+00,\n",
       "        1.37856317e+00,  2.52567744e+00,  2.13682100e-01, -1.38904059e+00,\n",
       "        1.37138653e+00, -8.51334482e-02,  2.48655915e+00,  8.84462237e-01,\n",
       "        1.46148109e+00, -2.12261128e+00, -1.11320639e+00,  9.64062572e-01,\n",
       "        6.39669895e-01,  9.07668650e-01,  1.13298327e-01,  1.60976362e+00,\n",
       "        8.68203044e-01, -1.81023526e+00,  4.91268843e-01,  1.65054882e+00,\n",
       "       -5.15381753e-01, -1.11245358e+00, -1.04562151e+00, -2.95746416e-01,\n",
       "        5.69330633e-01,  3.85532588e-01,  7.22993672e-01,  6.27112448e-01,\n",
       "        9.70511317e-01,  1.00876224e+00,  4.27096814e-01, -1.43692851e+00,\n",
       "        2.55952537e-01,  1.42381227e+00,  6.83678031e-01,  1.96774200e-01,\n",
       "        1.15040457e+00, -1.61585584e-01,  2.30871692e-01, -1.63844502e+00,\n",
       "       -3.10376287e-01,  9.93854463e-01,  1.00977826e+00,  1.41929233e+00,\n",
       "        7.48399913e-01, -2.38670301e+00,  1.22522843e+00,  1.73451686e+00,\n",
       "        1.29670537e+00, -1.25403214e+00, -1.45572829e+00, -2.17519507e-01,\n",
       "        2.83385324e+00, -1.74639428e+00, -4.77113724e-01,  6.85629547e-01,\n",
       "        1.02732442e-02, -1.35450697e+00, -5.15152156e-01, -1.33661354e+00,\n",
       "        3.34797591e-01, -2.05343771e+00, -1.12671010e-01, -2.22650647e+00,\n",
       "        2.44444758e-01, -1.51793569e-01, -1.17058790e+00, -4.61971969e-04,\n",
       "       -1.24102652e+00, -9.94778037e-01, -1.04592347e+00,  1.28069103e+00,\n",
       "        3.42410058e-01,  1.32532644e+00, -9.40648794e-01,  1.55723369e+00,\n",
       "       -1.11133611e+00,  2.29836965e+00, -2.99028549e-02, -3.58101219e-01,\n",
       "       -1.89328715e-01,  5.26651919e-01,  3.13887745e-01, -1.36919051e-01,\n",
       "       -7.34897330e-02,  6.72326207e-01,  1.51436329e+00,  4.33585376e-01,\n",
       "        8.54264736e-01, -2.08750308e-01, -1.03092873e+00, -6.77174807e-01,\n",
       "       -3.87231737e-01,  1.27515411e+00, -5.33505499e-01, -1.09914899e+00,\n",
       "       -4.87000346e-01,  8.39828908e-01,  3.36927056e+00,  1.49670947e+00,\n",
       "        1.48028994e+00, -1.35839367e+00,  5.11539936e-01, -4.00641471e-01,\n",
       "       -8.41188669e-01,  1.62032977e-01, -6.61375821e-01, -1.86772954e+00,\n",
       "       -1.22398889e+00, -1.01015151e+00, -9.65647459e-01, -4.94973511e-01,\n",
       "       -4.56355453e-01,  6.25463605e-01, -5.97855866e-01, -2.33078972e-01,\n",
       "        3.89656067e-01,  1.94514230e-01,  1.95730716e-01,  9.64294553e-01,\n",
       "        7.86265790e-01,  2.43070111e-01, -7.50017464e-01, -6.21536911e-01,\n",
       "       -7.15710640e-01, -1.55927229e+00,  1.01740575e+00, -4.55565155e-01,\n",
       "        1.74976707e-01, -2.60171747e+00, -1.88539684e+00, -1.86847484e+00,\n",
       "        1.31404281e+00,  7.99079776e-01,  8.59621048e-01, -1.12933981e+00,\n",
       "       -3.08428824e-01, -8.28279555e-01,  9.67739463e-01,  1.42643511e-01,\n",
       "       -4.68384326e-01,  1.50272250e-01,  1.36793292e+00,  3.32293719e-01,\n",
       "       -4.11884576e-01, -1.03699112e+00, -2.64854014e-01, -9.15672541e-01,\n",
       "        8.48680675e-01,  2.44534850e+00,  6.66753232e-01, -2.21513367e+00,\n",
       "        1.33162808e+00, -9.85244453e-01,  7.73103356e-01, -6.51900709e-01,\n",
       "        6.40643954e-01, -1.75052154e+00, -8.51029009e-02,  7.27879763e-01,\n",
       "        3.63741159e-01,  6.80528581e-01,  3.26652825e-02,  8.89546156e-01,\n",
       "        7.80332685e-01,  2.69077241e-01, -2.04395461e+00, -5.24258316e-01,\n",
       "        1.90948403e+00,  2.03755945e-01, -1.28157413e+00, -2.43245363e+00,\n",
       "        8.51729572e-01, -9.07211602e-01,  1.01066518e+00, -2.89580315e-01,\n",
       "       -2.50822830e+00,  1.61066949e+00, -3.24346088e-02,  8.34594429e-01,\n",
       "       -1.83865380e+00, -7.88192570e-01, -1.18218996e-01,  5.10740101e-01,\n",
       "        5.40024877e-01,  3.07916284e-01,  5.00146389e-01,  8.78266513e-01,\n",
       "        1.09200978e+00,  1.45687068e+00, -2.90147573e-01, -5.84111810e-01,\n",
       "        9.55486834e-01, -8.32441330e-01, -5.13516247e-01, -2.91063964e-01,\n",
       "       -4.35171902e-01,  6.44194305e-01, -1.19414997e+00,  2.48531580e+00,\n",
       "        3.91737893e-02,  2.74666309e-01,  3.11548978e-01,  4.87373114e-01,\n",
       "        4.03326988e-01,  3.82238418e-01,  9.62301373e-01,  1.67979586e+00,\n",
       "        3.58850569e-01, -2.48102948e-01,  3.45714837e-01,  7.67797589e-01],\n",
       "      dtype=float32)"
      ]
     },
     "execution_count": 7,
     "metadata": {},
     "output_type": "execute_result"
    }
   ],
   "source": [
    "Word2Vec_model.get_embedding(\"de\")"
   ]
  },
  {
   "cell_type": "code",
   "execution_count": 8,
   "metadata": {},
   "outputs": [
    {
     "data": {
      "text/plain": [
       "[('sabons', 0.22556228935718536),\n",
       " ('madero', 0.22364427149295807),\n",
       " ('defectius', 0.21694914996623993),\n",
       " ('desviar', 0.21588577330112457),\n",
       " ('creixi', 0.21561698615550995),\n",
       " ('abatuda', 0.20904815196990967),\n",
       " ('exempt', 0.20841456949710846),\n",
       " ('estalviar', 0.2059682458639145),\n",
       " ('esotèrics', 0.19971071183681488),\n",
       " ('israelianes', 0.19927068054676056)]"
      ]
     },
     "execution_count": 8,
     "metadata": {},
     "output_type": "execute_result"
    }
   ],
   "source": [
    "Word2Vec_model.model.wv.most_similar(\"negre\")"
   ]
  },
  {
   "cell_type": "markdown",
   "metadata": {},
   "source": [
    "### 2. Model amb 500MB de dades"
   ]
  },
  {
   "cell_type": "code",
   "execution_count": 9,
   "metadata": {},
   "outputs": [
    {
     "name": "stdout",
     "output_type": "stream",
     "text": [
      "Reading corpus...\n",
      "Preprocessing corpus...\n",
      "Lowercasing...\n",
      "Removing special characters...\n",
      "Tokenizing...\n",
      "Initializing Word2Vec model...\n",
      "Model training completed.\n"
     ]
    }
   ],
   "source": [
    "Word2Vec_model_500 = Word2VecEmbedder('corpus\\catalan_general_crawling.txt', 0.5)"
   ]
  },
  {
   "cell_type": "code",
   "execution_count": 10,
   "metadata": {},
   "outputs": [
    {
     "data": {
      "text/plain": [
       "array([ 2.0775015e-03,  1.0567880e-03, -1.6255629e-03,  3.1482291e-03,\n",
       "       -1.0828007e-03,  8.4958872e-04,  3.2786091e-03, -2.7655109e-03,\n",
       "        3.2775463e-03,  6.6130323e-04,  1.2716241e-03,  1.1530495e-03,\n",
       "       -4.9383880e-04,  1.9930000e-03, -1.8229814e-03,  4.5082212e-04,\n",
       "        2.7142679e-03, -2.6555145e-03, -7.3076884e-04,  3.1427550e-03,\n",
       "       -2.6453920e-03, -3.0769189e-03,  3.1929337e-03,  3.1773886e-03,\n",
       "        2.0901405e-03, -3.0516200e-03,  2.4018362e-03,  1.8233713e-03,\n",
       "       -2.6497131e-03, -2.0127888e-03, -8.6779514e-04,  2.7872846e-03,\n",
       "        3.2888358e-03, -1.3961394e-04,  5.7863514e-04,  2.0927347e-03,\n",
       "       -3.2404303e-03, -2.4493536e-04,  1.2174038e-03,  3.0606557e-03,\n",
       "        1.9006491e-04,  2.1212928e-03, -8.0346031e-04, -1.3436433e-03,\n",
       "        8.4563333e-04, -2.5548593e-03, -2.0761208e-03,  2.9200499e-03,\n",
       "       -2.6264484e-03, -1.8010263e-03,  1.2320471e-03,  2.3446269e-03,\n",
       "        1.1889736e-04,  2.8769842e-03, -2.2959744e-03,  2.7552882e-04,\n",
       "        3.3194749e-03,  1.6318004e-04,  3.6159556e-04, -1.6313271e-03,\n",
       "       -1.2946721e-03, -1.7594107e-03,  6.5658765e-04, -2.5016649e-03,\n",
       "       -2.4878348e-03, -2.1004255e-03, -3.1657545e-03,  9.4860949e-04,\n",
       "        2.3760076e-03,  1.0309799e-03,  7.3634146e-04, -1.0656675e-03,\n",
       "       -2.0798524e-04, -1.5522011e-03, -1.1338743e-03,  2.5454123e-04,\n",
       "       -1.7293874e-03,  8.9426001e-04,  2.1771006e-03,  2.1308153e-03,\n",
       "        3.8846492e-04, -8.0451131e-04,  1.6461257e-03, -2.0385622e-03,\n",
       "       -2.6222658e-03,  1.2884407e-03, -2.0086034e-03,  1.9471232e-03,\n",
       "       -2.8119648e-03, -1.2860688e-03,  3.1810368e-03, -3.0867886e-03,\n",
       "       -2.2920584e-03, -1.7889313e-03, -1.6259337e-03, -2.3502780e-03,\n",
       "        7.2704238e-04, -1.0452498e-03, -3.0996562e-03,  1.8136327e-03,\n",
       "        3.1413902e-03,  1.8033667e-03,  1.1338004e-03,  3.0898149e-03,\n",
       "       -1.0789860e-03,  9.9730096e-05, -1.3990664e-03,  3.1304678e-03,\n",
       "        2.6667409e-03,  7.7694975e-04, -2.7533011e-03, -3.9561270e-04,\n",
       "       -3.0802668e-03, -9.2021265e-04, -6.9892925e-04, -2.1029515e-03,\n",
       "        3.0969835e-03, -1.3517519e-03, -3.2398296e-03,  1.1329055e-03,\n",
       "        1.5027050e-03,  1.7957524e-03, -1.7926625e-03, -2.6501091e-03,\n",
       "       -8.7900361e-04, -1.3749035e-03,  2.9454320e-03,  1.9780512e-03,\n",
       "       -2.8454410e-03,  6.6841720e-04,  2.2704320e-03,  5.5898266e-04,\n",
       "        1.7682418e-03, -1.0342825e-03,  3.0289798e-03, -7.7044370e-04,\n",
       "       -1.2676395e-03, -2.6058427e-03,  1.2132056e-03, -5.0349237e-04,\n",
       "       -7.4239017e-04,  3.1024318e-03,  7.5017690e-04, -5.9808412e-04,\n",
       "        4.3702286e-04, -5.3038041e-04,  4.6833555e-04,  2.2603078e-03,\n",
       "       -1.0779039e-03, -1.9848696e-03, -3.2357478e-03, -1.9800810e-03,\n",
       "       -3.7052829e-04,  3.6319575e-04,  6.0413557e-04,  1.0847230e-03,\n",
       "        2.0702234e-03, -9.1776448e-05,  1.4595373e-03, -2.4901589e-04,\n",
       "        3.1055787e-03, -2.5201642e-03, -1.4820838e-03, -2.1405756e-03,\n",
       "        2.6887036e-03, -2.6578847e-03,  2.0586820e-03,  6.1935384e-04,\n",
       "       -3.2087667e-03,  1.6535321e-03,  6.9106423e-04, -2.6545424e-03,\n",
       "        1.4820028e-03, -1.2747690e-03, -1.1042834e-03, -1.2401458e-03,\n",
       "        2.2737337e-03,  2.5494189e-03, -2.3108323e-05, -2.7684455e-03,\n",
       "        2.7477869e-03, -1.8610982e-03,  2.5849117e-03, -2.6263571e-03,\n",
       "       -1.0444351e-03, -1.4464855e-03,  4.6162208e-05, -1.7024677e-05,\n",
       "       -5.3443910e-05,  1.3842336e-03,  2.0375275e-03,  6.2002975e-04,\n",
       "       -4.7072608e-04,  2.1512541e-03, -2.7486503e-03, -1.9155709e-03,\n",
       "        2.7480614e-03, -9.9277135e-04, -9.5790345e-04, -9.6076727e-04,\n",
       "        3.2555759e-03,  8.0339628e-04,  1.3746064e-04,  4.8874936e-04,\n",
       "        9.6075772e-04, -2.6773787e-03, -1.2870145e-03,  6.0410897e-05,\n",
       "       -2.6089358e-03, -2.4924477e-04, -1.7281051e-03, -2.1118962e-03,\n",
       "        1.4249762e-04,  7.9379720e-04, -2.2358147e-03, -3.4013033e-04,\n",
       "        1.6669659e-03, -2.2803971e-03,  3.1812212e-03,  9.2797715e-04,\n",
       "       -1.0692565e-03, -3.0602280e-03,  1.0145832e-03, -6.9397368e-04,\n",
       "       -3.3276639e-04,  3.1438998e-03,  1.2907565e-03,  1.1745357e-03,\n",
       "       -2.1938933e-03, -2.3942650e-03,  8.7437948e-04, -1.8986082e-03,\n",
       "       -2.6727542e-03, -2.1107984e-03,  9.4719569e-04,  1.5242513e-03,\n",
       "       -8.9513260e-04, -3.3204155e-03,  1.0153289e-03,  1.7575832e-03,\n",
       "        7.0107024e-04, -7.4782013e-04,  3.0829755e-03,  2.0553418e-03,\n",
       "        6.3870352e-04, -2.7020276e-03, -1.8849600e-03, -1.6664485e-03,\n",
       "        3.0758302e-03, -1.6451827e-03,  4.6219627e-04,  6.6187778e-05,\n",
       "       -1.6517122e-03,  3.2671818e-03, -8.7649503e-04, -1.6339513e-03,\n",
       "       -5.8436394e-04, -2.9967704e-03, -8.6881878e-04, -1.6752473e-03,\n",
       "        1.3975593e-03,  4.2198578e-04,  1.2737322e-03,  1.3493721e-03,\n",
       "        4.1639130e-04,  4.3079376e-04, -3.3281979e-03,  2.2662962e-03,\n",
       "       -3.0618254e-03, -2.3058851e-04,  1.5593278e-03,  2.1552022e-03,\n",
       "       -3.2289425e-04, -2.4843728e-03, -2.7819590e-03, -1.1307959e-03,\n",
       "       -1.2364411e-03, -6.9395703e-04,  2.1469828e-03,  8.3328487e-05,\n",
       "       -6.1614912e-05,  2.3892522e-03,  9.0192560e-05, -4.0069103e-04,\n",
       "       -2.3056602e-03, -2.5274944e-03,  7.0078851e-04, -1.5376719e-03,\n",
       "       -1.2100983e-03, -1.8665683e-03, -8.3243453e-05, -2.8172373e-03,\n",
       "        7.0909657e-05,  2.7206726e-03,  2.0856606e-03, -9.6795120e-04,\n",
       "       -1.4519334e-03,  1.2323181e-03,  6.7403354e-04,  3.2854187e-03],\n",
       "      dtype=float32)"
      ]
     },
     "execution_count": 10,
     "metadata": {},
     "output_type": "execute_result"
    }
   ],
   "source": [
    "Word2Vec_model.get_embedding(\"hola\")"
   ]
  },
  {
   "cell_type": "markdown",
   "metadata": {},
   "source": [
    "### 3. Model amb 1GB de dades"
   ]
  },
  {
   "cell_type": "code",
   "execution_count": null,
   "metadata": {},
   "outputs": [],
   "source": [
    "Word2Vec_model_1024 = Word2VecEmbedder('corpus\\catalan_general_crawling.txt', 1)"
   ]
  },
  {
   "cell_type": "code",
   "execution_count": null,
   "metadata": {},
   "outputs": [],
   "source": [
    "Word2Vec_model.get_embedding(\"hola\")"
   ]
  },
  {
   "cell_type": "markdown",
   "metadata": {},
   "source": [
    "### 4. Model amb totes les dades"
   ]
  },
  {
   "cell_type": "code",
   "execution_count": null,
   "metadata": {},
   "outputs": [],
   "source": [
    "Word2Vec_model_full_data = Word2VecEmbedder('corpus\\catalan_general_crawling.txt', None)"
   ]
  },
  {
   "cell_type": "markdown",
   "metadata": {},
   "source": [
    "## Entrenament model de Similitud de Text Semàntic"
   ]
  },
  {
   "cell_type": "markdown",
   "metadata": {},
   "source": [
    "### Imports"
   ]
  },
  {
   "cell_type": "code",
   "execution_count": 12,
   "metadata": {},
   "outputs": [],
   "source": [
    "from importació_data import read_all_ts_data, reformat_data, create_corpus, preprocess, flattened_corpus_count, stopwords_cat\n",
    "from importació_data import pair_list_to_x_y\n",
    "from model_bàsic import build_and_compile_model_better\n",
    "import tensorflow as tf\n",
    "from model_bàsic import compute_pearson"
   ]
  },
  {
   "cell_type": "markdown",
   "metadata": {},
   "source": [
    "Definim les stopwords del català i la funció del preprocessament del text, que les tindrà en compte a la hora de tokenitzar i natejar el text."
   ]
  },
  {
   "cell_type": "code",
   "execution_count": 13,
   "metadata": {},
   "outputs": [],
   "source": [
    "stpw_cat = stopwords_cat()\n",
    "prepro = lambda x: preprocess(x, stpw_cat)"
   ]
  },
  {
   "cell_type": "markdown",
   "metadata": {},
   "source": [
    "Per altra banda, llegim les dades i definim les variables més importants per a la creació dels models de similitud de text semàntic.\n",
    "- Llegim totes les dades de text similarity dividint-les en train, test i val. \n",
    "- Reformatejem les dades per a que siguin l'estructura List[Tuple[str, str, float]]. \n",
    "- Definim el corpus i el diccionari amb totes les paraules.\n",
    "- Creem un diccionari de python amb tots els indexs com a claus i amb la repetició de les paraules com a valor."
   ]
  },
  {
   "cell_type": "code",
   "execution_count": 14,
   "metadata": {},
   "outputs": [],
   "source": [
    "train, test, val = read_all_ts_data()\n",
    "train, test, val = reformat_data(train, test, val)\n",
    "corpus, dictionary = create_corpus(train, test, val, preprocess=prepro)\n",
    "flat_corpus = flattened_corpus_count(corpus)"
   ]
  },
  {
   "cell_type": "markdown",
   "metadata": {},
   "source": [
    "### Compartació amb diferents models de Word Embeddings"
   ]
  },
  {
   "cell_type": "markdown",
   "metadata": {},
   "source": [
    "#### 1. One Hot"
   ]
  },
  {
   "cell_type": "code",
   "execution_count": 15,
   "metadata": {},
   "outputs": [],
   "source": [
    "from onehot import map_one_hot"
   ]
  },
  {
   "cell_type": "markdown",
   "metadata": {},
   "source": [
    "Un embedding OneHot té tamany igual a la llargada del diccionari. En la importació de dades ja hem eliminat les stopwords per reduïr la dimensió, però ara també eliminarem del embedding aquelles paraules que es repeteixen masses poques vegades o massa sovint. \n",
    "\n",
    "Per aconseguir això creem una llista que conté els indexs de les paraules que sí que utilitzarem i la passem com a argument a la funció *map_one_hot()*, per reduïr la dimensió del embedding."
   ]
  },
  {
   "cell_type": "code",
   "execution_count": 16,
   "metadata": {},
   "outputs": [],
   "source": [
    "# Eliminate from the dictionary the words that are repeated very few times or too many times\n",
    "keys_preprocess = [index  for index in dictionary if flat_corpus[index] > 10 and flat_corpus[index] < 50]"
   ]
  },
  {
   "cell_type": "markdown",
   "metadata": {},
   "source": [
    "Convertim les paraules a vectors OneHot amb la funció *map_one_hot()*. Aquesta funció crea un vector de zeros de la mida del diccionari i posa un 1 a la posició de la paraula en el diccionari."
   ]
  },
  {
   "cell_type": "code",
   "execution_count": 17,
   "metadata": {},
   "outputs": [],
   "source": [
    "mapped_one_hot_train = map_one_hot(train, dictionary, keys_preprocess)\n",
    "mapped_one_hot_test = map_one_hot(test, dictionary, keys_preprocess)\n",
    "mapped_one_hot_val = map_one_hot(val, dictionary, keys_preprocess)"
   ]
  },
  {
   "cell_type": "markdown",
   "metadata": {},
   "source": [
    "Separem el X i Y"
   ]
  },
  {
   "cell_type": "code",
   "execution_count": 18,
   "metadata": {},
   "outputs": [],
   "source": [
    "x_train_oh, y_train_oh = pair_list_to_x_y(mapped_one_hot_train)\n",
    "x_val_oh, y_val_oh = pair_list_to_x_y(mapped_one_hot_val)\n",
    "x_test_oh, y_test_oh = pair_list_to_x_y(mapped_one_hot_test)"
   ]
  },
  {
   "cell_type": "markdown",
   "metadata": {},
   "source": [
    "Entrenem el model"
   ]
  },
  {
   "cell_type": "code",
   "execution_count": 19,
   "metadata": {},
   "outputs": [],
   "source": [
    "batch_size_oh: int = 64\n",
    "num_epochs_oh: int = 64\n",
    "\n",
    "train_dataset_oh = tf.data.Dataset.from_tensor_slices((x_train_oh, y_train_oh))\n",
    "train_dataset_oh = train_dataset_oh.shuffle(buffer_size=len(x_train_oh)).batch(batch_size_oh)\n",
    "\n",
    "val_dataset_oh = tf.data.Dataset.from_tensor_slices((x_val_oh, y_val_oh))\n",
    "val_dataset_oh = val_dataset_oh.batch(batch_size_oh)"
   ]
  },
  {
   "cell_type": "code",
   "execution_count": 20,
   "metadata": {},
   "outputs": [
    {
     "name": "stdout",
     "output_type": "stream",
     "text": [
      "WARNING:tensorflow:From c:\\Users\\ralva\\Desktop\\University\\4t-Cuatrimestre-GIA\\PLH\\PLH-WordEmbeddings\\WordEmbeddings\\Lib\\site-packages\\keras\\src\\backend\\tensorflow\\core.py:184: The name tf.placeholder is deprecated. Please use tf.compat.v1.placeholder instead.\n",
      "\n",
      "You must install pydot (`pip install pydot`) for `plot_model` to work.\n"
     ]
    },
    {
     "data": {
      "text/html": [
       "<pre style=\"white-space:pre;overflow-x:auto;line-height:normal;font-family:Menlo,'DejaVu Sans Mono',consolas,'Courier New',monospace\"><span style=\"font-weight: bold\">Model: \"functional_1\"</span>\n",
       "</pre>\n"
      ],
      "text/plain": [
       "\u001b[1mModel: \"functional_1\"\u001b[0m\n"
      ]
     },
     "metadata": {},
     "output_type": "display_data"
    },
    {
     "data": {
      "text/html": [
       "<pre style=\"white-space:pre;overflow-x:auto;line-height:normal;font-family:Menlo,'DejaVu Sans Mono',consolas,'Courier New',monospace\">┏━━━━━━━━━━━━━━━━━━━━━┳━━━━━━━━━━━━━━━━━━━┳━━━━━━━━━━━━┳━━━━━━━━━━━━━━━━━━━┓\n",
       "┃<span style=\"font-weight: bold\"> Layer (type)        </span>┃<span style=\"font-weight: bold\"> Output Shape      </span>┃<span style=\"font-weight: bold\">    Param # </span>┃<span style=\"font-weight: bold\"> Connected to      </span>┃\n",
       "┡━━━━━━━━━━━━━━━━━━━━━╇━━━━━━━━━━━━━━━━━━━╇━━━━━━━━━━━━╇━━━━━━━━━━━━━━━━━━━┩\n",
       "│ input_layer         │ (<span style=\"color: #00d7ff; text-decoration-color: #00d7ff\">None</span>, <span style=\"color: #00af00; text-decoration-color: #00af00\">801</span>)       │          <span style=\"color: #00af00; text-decoration-color: #00af00\">0</span> │ -                 │\n",
       "│ (<span style=\"color: #0087ff; text-decoration-color: #0087ff\">InputLayer</span>)        │                   │            │                   │\n",
       "├─────────────────────┼───────────────────┼────────────┼───────────────────┤\n",
       "│ input_layer_1       │ (<span style=\"color: #00d7ff; text-decoration-color: #00d7ff\">None</span>, <span style=\"color: #00af00; text-decoration-color: #00af00\">801</span>)       │          <span style=\"color: #00af00; text-decoration-color: #00af00\">0</span> │ -                 │\n",
       "│ (<span style=\"color: #0087ff; text-decoration-color: #0087ff\">InputLayer</span>)        │                   │            │                   │\n",
       "├─────────────────────┼───────────────────┼────────────┼───────────────────┤\n",
       "│ dense (<span style=\"color: #0087ff; text-decoration-color: #0087ff\">Dense</span>)       │ (<span style=\"color: #00d7ff; text-decoration-color: #00d7ff\">None</span>, <span style=\"color: #00af00; text-decoration-color: #00af00\">801</span>)       │    <span style=\"color: #00af00; text-decoration-color: #00af00\">642,402</span> │ input_layer[<span style=\"color: #00af00; text-decoration-color: #00af00\">0</span>][<span style=\"color: #00af00; text-decoration-color: #00af00\">0</span>… │\n",
       "│                     │                   │            │ input_layer_1[<span style=\"color: #00af00; text-decoration-color: #00af00\">0</span>]… │\n",
       "├─────────────────────┼───────────────────┼────────────┼───────────────────┤\n",
       "│ lambda (<span style=\"color: #0087ff; text-decoration-color: #0087ff\">Lambda</span>)     │ (<span style=\"color: #00d7ff; text-decoration-color: #00d7ff\">None</span>, <span style=\"color: #00af00; text-decoration-color: #00af00\">801</span>)       │          <span style=\"color: #00af00; text-decoration-color: #00af00\">0</span> │ dense[<span style=\"color: #00af00; text-decoration-color: #00af00\">0</span>][<span style=\"color: #00af00; text-decoration-color: #00af00\">0</span>],      │\n",
       "│                     │                   │            │ dense[<span style=\"color: #00af00; text-decoration-color: #00af00\">1</span>][<span style=\"color: #00af00; text-decoration-color: #00af00\">0</span>]       │\n",
       "├─────────────────────┼───────────────────┼────────────┼───────────────────┤\n",
       "│ dropout (<span style=\"color: #0087ff; text-decoration-color: #0087ff\">Dropout</span>)   │ (<span style=\"color: #00d7ff; text-decoration-color: #00d7ff\">None</span>, <span style=\"color: #00af00; text-decoration-color: #00af00\">801</span>)       │          <span style=\"color: #00af00; text-decoration-color: #00af00\">0</span> │ lambda[<span style=\"color: #00af00; text-decoration-color: #00af00\">0</span>][<span style=\"color: #00af00; text-decoration-color: #00af00\">0</span>]      │\n",
       "├─────────────────────┼───────────────────┼────────────┼───────────────────┤\n",
       "│ dense_1 (<span style=\"color: #0087ff; text-decoration-color: #0087ff\">Dense</span>)     │ (<span style=\"color: #00d7ff; text-decoration-color: #00d7ff\">None</span>, <span style=\"color: #00af00; text-decoration-color: #00af00\">16</span>)        │     <span style=\"color: #00af00; text-decoration-color: #00af00\">12,832</span> │ dropout[<span style=\"color: #00af00; text-decoration-color: #00af00\">0</span>][<span style=\"color: #00af00; text-decoration-color: #00af00\">0</span>]     │\n",
       "├─────────────────────┼───────────────────┼────────────┼───────────────────┤\n",
       "│ dropout_1 (<span style=\"color: #0087ff; text-decoration-color: #0087ff\">Dropout</span>) │ (<span style=\"color: #00d7ff; text-decoration-color: #00d7ff\">None</span>, <span style=\"color: #00af00; text-decoration-color: #00af00\">16</span>)        │          <span style=\"color: #00af00; text-decoration-color: #00af00\">0</span> │ dense_1[<span style=\"color: #00af00; text-decoration-color: #00af00\">0</span>][<span style=\"color: #00af00; text-decoration-color: #00af00\">0</span>]     │\n",
       "├─────────────────────┼───────────────────┼────────────┼───────────────────┤\n",
       "│ dense_2 (<span style=\"color: #0087ff; text-decoration-color: #0087ff\">Dense</span>)     │ (<span style=\"color: #00d7ff; text-decoration-color: #00d7ff\">None</span>, <span style=\"color: #00af00; text-decoration-color: #00af00\">1</span>)         │         <span style=\"color: #00af00; text-decoration-color: #00af00\">17</span> │ dropout_1[<span style=\"color: #00af00; text-decoration-color: #00af00\">0</span>][<span style=\"color: #00af00; text-decoration-color: #00af00\">0</span>]   │\n",
       "├─────────────────────┼───────────────────┼────────────┼───────────────────┤\n",
       "│ lambda_1 (<span style=\"color: #0087ff; text-decoration-color: #0087ff\">Lambda</span>)   │ (<span style=\"color: #00d7ff; text-decoration-color: #00d7ff\">None</span>, <span style=\"color: #00af00; text-decoration-color: #00af00\">1</span>)         │          <span style=\"color: #00af00; text-decoration-color: #00af00\">0</span> │ dense_2[<span style=\"color: #00af00; text-decoration-color: #00af00\">0</span>][<span style=\"color: #00af00; text-decoration-color: #00af00\">0</span>]     │\n",
       "└─────────────────────┴───────────────────┴────────────┴───────────────────┘\n",
       "</pre>\n"
      ],
      "text/plain": [
       "┏━━━━━━━━━━━━━━━━━━━━━┳━━━━━━━━━━━━━━━━━━━┳━━━━━━━━━━━━┳━━━━━━━━━━━━━━━━━━━┓\n",
       "┃\u001b[1m \u001b[0m\u001b[1mLayer (type)       \u001b[0m\u001b[1m \u001b[0m┃\u001b[1m \u001b[0m\u001b[1mOutput Shape     \u001b[0m\u001b[1m \u001b[0m┃\u001b[1m \u001b[0m\u001b[1m   Param #\u001b[0m\u001b[1m \u001b[0m┃\u001b[1m \u001b[0m\u001b[1mConnected to     \u001b[0m\u001b[1m \u001b[0m┃\n",
       "┡━━━━━━━━━━━━━━━━━━━━━╇━━━━━━━━━━━━━━━━━━━╇━━━━━━━━━━━━╇━━━━━━━━━━━━━━━━━━━┩\n",
       "│ input_layer         │ (\u001b[38;5;45mNone\u001b[0m, \u001b[38;5;34m801\u001b[0m)       │          \u001b[38;5;34m0\u001b[0m │ -                 │\n",
       "│ (\u001b[38;5;33mInputLayer\u001b[0m)        │                   │            │                   │\n",
       "├─────────────────────┼───────────────────┼────────────┼───────────────────┤\n",
       "│ input_layer_1       │ (\u001b[38;5;45mNone\u001b[0m, \u001b[38;5;34m801\u001b[0m)       │          \u001b[38;5;34m0\u001b[0m │ -                 │\n",
       "│ (\u001b[38;5;33mInputLayer\u001b[0m)        │                   │            │                   │\n",
       "├─────────────────────┼───────────────────┼────────────┼───────────────────┤\n",
       "│ dense (\u001b[38;5;33mDense\u001b[0m)       │ (\u001b[38;5;45mNone\u001b[0m, \u001b[38;5;34m801\u001b[0m)       │    \u001b[38;5;34m642,402\u001b[0m │ input_layer[\u001b[38;5;34m0\u001b[0m][\u001b[38;5;34m0\u001b[0m… │\n",
       "│                     │                   │            │ input_layer_1[\u001b[38;5;34m0\u001b[0m]… │\n",
       "├─────────────────────┼───────────────────┼────────────┼───────────────────┤\n",
       "│ lambda (\u001b[38;5;33mLambda\u001b[0m)     │ (\u001b[38;5;45mNone\u001b[0m, \u001b[38;5;34m801\u001b[0m)       │          \u001b[38;5;34m0\u001b[0m │ dense[\u001b[38;5;34m0\u001b[0m][\u001b[38;5;34m0\u001b[0m],      │\n",
       "│                     │                   │            │ dense[\u001b[38;5;34m1\u001b[0m][\u001b[38;5;34m0\u001b[0m]       │\n",
       "├─────────────────────┼───────────────────┼────────────┼───────────────────┤\n",
       "│ dropout (\u001b[38;5;33mDropout\u001b[0m)   │ (\u001b[38;5;45mNone\u001b[0m, \u001b[38;5;34m801\u001b[0m)       │          \u001b[38;5;34m0\u001b[0m │ lambda[\u001b[38;5;34m0\u001b[0m][\u001b[38;5;34m0\u001b[0m]      │\n",
       "├─────────────────────┼───────────────────┼────────────┼───────────────────┤\n",
       "│ dense_1 (\u001b[38;5;33mDense\u001b[0m)     │ (\u001b[38;5;45mNone\u001b[0m, \u001b[38;5;34m16\u001b[0m)        │     \u001b[38;5;34m12,832\u001b[0m │ dropout[\u001b[38;5;34m0\u001b[0m][\u001b[38;5;34m0\u001b[0m]     │\n",
       "├─────────────────────┼───────────────────┼────────────┼───────────────────┤\n",
       "│ dropout_1 (\u001b[38;5;33mDropout\u001b[0m) │ (\u001b[38;5;45mNone\u001b[0m, \u001b[38;5;34m16\u001b[0m)        │          \u001b[38;5;34m0\u001b[0m │ dense_1[\u001b[38;5;34m0\u001b[0m][\u001b[38;5;34m0\u001b[0m]     │\n",
       "├─────────────────────┼───────────────────┼────────────┼───────────────────┤\n",
       "│ dense_2 (\u001b[38;5;33mDense\u001b[0m)     │ (\u001b[38;5;45mNone\u001b[0m, \u001b[38;5;34m1\u001b[0m)         │         \u001b[38;5;34m17\u001b[0m │ dropout_1[\u001b[38;5;34m0\u001b[0m][\u001b[38;5;34m0\u001b[0m]   │\n",
       "├─────────────────────┼───────────────────┼────────────┼───────────────────┤\n",
       "│ lambda_1 (\u001b[38;5;33mLambda\u001b[0m)   │ (\u001b[38;5;45mNone\u001b[0m, \u001b[38;5;34m1\u001b[0m)         │          \u001b[38;5;34m0\u001b[0m │ dense_2[\u001b[38;5;34m0\u001b[0m][\u001b[38;5;34m0\u001b[0m]     │\n",
       "└─────────────────────┴───────────────────┴────────────┴───────────────────┘\n"
      ]
     },
     "metadata": {},
     "output_type": "display_data"
    },
    {
     "data": {
      "text/html": [
       "<pre style=\"white-space:pre;overflow-x:auto;line-height:normal;font-family:Menlo,'DejaVu Sans Mono',consolas,'Courier New',monospace\"><span style=\"font-weight: bold\"> Total params: </span><span style=\"color: #00af00; text-decoration-color: #00af00\">655,251</span> (2.50 MB)\n",
       "</pre>\n"
      ],
      "text/plain": [
       "\u001b[1m Total params: \u001b[0m\u001b[38;5;34m655,251\u001b[0m (2.50 MB)\n"
      ]
     },
     "metadata": {},
     "output_type": "display_data"
    },
    {
     "data": {
      "text/html": [
       "<pre style=\"white-space:pre;overflow-x:auto;line-height:normal;font-family:Menlo,'DejaVu Sans Mono',consolas,'Courier New',monospace\"><span style=\"font-weight: bold\"> Trainable params: </span><span style=\"color: #00af00; text-decoration-color: #00af00\">655,251</span> (2.50 MB)\n",
       "</pre>\n"
      ],
      "text/plain": [
       "\u001b[1m Trainable params: \u001b[0m\u001b[38;5;34m655,251\u001b[0m (2.50 MB)\n"
      ]
     },
     "metadata": {},
     "output_type": "display_data"
    },
    {
     "data": {
      "text/html": [
       "<pre style=\"white-space:pre;overflow-x:auto;line-height:normal;font-family:Menlo,'DejaVu Sans Mono',consolas,'Courier New',monospace\"><span style=\"font-weight: bold\"> Non-trainable params: </span><span style=\"color: #00af00; text-decoration-color: #00af00\">0</span> (0.00 B)\n",
       "</pre>\n"
      ],
      "text/plain": [
       "\u001b[1m Non-trainable params: \u001b[0m\u001b[38;5;34m0\u001b[0m (0.00 B)\n"
      ]
     },
     "metadata": {},
     "output_type": "display_data"
    },
    {
     "name": "stdout",
     "output_type": "stream",
     "text": [
      "None\n"
     ]
    }
   ],
   "source": [
    "embedding_size_oh = len(keys_preprocess)\n",
    "model_oh = build_and_compile_model_better(embedding_size = embedding_size_oh)\n",
    "tf.keras.utils.plot_model(model_oh, show_shapes=True, show_layer_activations=True, )\n",
    "print(model_oh.summary())"
   ]
  },
  {
   "cell_type": "code",
   "execution_count": 21,
   "metadata": {},
   "outputs": [
    {
     "name": "stdout",
     "output_type": "stream",
     "text": [
      "Epoch 1/64\n",
      "\u001b[1m32/32\u001b[0m \u001b[32m━━━━━━━━━━━━━━━━━━━━\u001b[0m\u001b[37m\u001b[0m \u001b[1m2s\u001b[0m 8ms/step - loss: 0.7322 - val_loss: 0.7500\n",
      "Epoch 2/64\n",
      "\u001b[1m32/32\u001b[0m \u001b[32m━━━━━━━━━━━━━━━━━━━━\u001b[0m\u001b[37m\u001b[0m \u001b[1m0s\u001b[0m 5ms/step - loss: 0.7212 - val_loss: 0.7449\n",
      "Epoch 3/64\n",
      "\u001b[1m32/32\u001b[0m \u001b[32m━━━━━━━━━━━━━━━━━━━━\u001b[0m\u001b[37m\u001b[0m \u001b[1m0s\u001b[0m 5ms/step - loss: 0.7142 - val_loss: 0.7424\n",
      "Epoch 4/64\n",
      "\u001b[1m32/32\u001b[0m \u001b[32m━━━━━━━━━━━━━━━━━━━━\u001b[0m\u001b[37m\u001b[0m \u001b[1m0s\u001b[0m 5ms/step - loss: 0.7054 - val_loss: 0.7387\n",
      "Epoch 5/64\n",
      "\u001b[1m32/32\u001b[0m \u001b[32m━━━━━━━━━━━━━━━━━━━━\u001b[0m\u001b[37m\u001b[0m \u001b[1m0s\u001b[0m 5ms/step - loss: 0.6815 - val_loss: 0.7280\n",
      "Epoch 6/64\n",
      "\u001b[1m32/32\u001b[0m \u001b[32m━━━━━━━━━━━━━━━━━━━━\u001b[0m\u001b[37m\u001b[0m \u001b[1m0s\u001b[0m 5ms/step - loss: 0.6250 - val_loss: 0.7228\n",
      "Epoch 7/64\n",
      "\u001b[1m32/32\u001b[0m \u001b[32m━━━━━━━━━━━━━━━━━━━━\u001b[0m\u001b[37m\u001b[0m \u001b[1m0s\u001b[0m 5ms/step - loss: 0.5158 - val_loss: 0.7340\n",
      "Epoch 8/64\n",
      "\u001b[1m32/32\u001b[0m \u001b[32m━━━━━━━━━━━━━━━━━━━━\u001b[0m\u001b[37m\u001b[0m \u001b[1m0s\u001b[0m 5ms/step - loss: 0.4111 - val_loss: 0.7561\n",
      "Epoch 9/64\n",
      "\u001b[1m32/32\u001b[0m \u001b[32m━━━━━━━━━━━━━━━━━━━━\u001b[0m\u001b[37m\u001b[0m \u001b[1m0s\u001b[0m 5ms/step - loss: 0.3244 - val_loss: 0.7734\n",
      "Epoch 10/64\n",
      "\u001b[1m32/32\u001b[0m \u001b[32m━━━━━━━━━━━━━━━━━━━━\u001b[0m\u001b[37m\u001b[0m \u001b[1m0s\u001b[0m 5ms/step - loss: 0.2701 - val_loss: 0.7871\n",
      "Epoch 11/64\n",
      "\u001b[1m32/32\u001b[0m \u001b[32m━━━━━━━━━━━━━━━━━━━━\u001b[0m\u001b[37m\u001b[0m \u001b[1m0s\u001b[0m 5ms/step - loss: 0.2326 - val_loss: 0.8030\n",
      "Epoch 12/64\n",
      "\u001b[1m32/32\u001b[0m \u001b[32m━━━━━━━━━━━━━━━━━━━━\u001b[0m\u001b[37m\u001b[0m \u001b[1m0s\u001b[0m 5ms/step - loss: 0.1949 - val_loss: 0.8194\n",
      "Epoch 13/64\n",
      "\u001b[1m32/32\u001b[0m \u001b[32m━━━━━━━━━━━━━━━━━━━━\u001b[0m\u001b[37m\u001b[0m \u001b[1m0s\u001b[0m 5ms/step - loss: 0.1834 - val_loss: 0.8238\n",
      "Epoch 14/64\n",
      "\u001b[1m32/32\u001b[0m \u001b[32m━━━━━━━━━━━━━━━━━━━━\u001b[0m\u001b[37m\u001b[0m \u001b[1m0s\u001b[0m 5ms/step - loss: 0.1709 - val_loss: 0.8285\n",
      "Epoch 15/64\n",
      "\u001b[1m32/32\u001b[0m \u001b[32m━━━━━━━━━━━━━━━━━━━━\u001b[0m\u001b[37m\u001b[0m \u001b[1m0s\u001b[0m 5ms/step - loss: 0.1599 - val_loss: 0.8354\n",
      "Epoch 16/64\n",
      "\u001b[1m32/32\u001b[0m \u001b[32m━━━━━━━━━━━━━━━━━━━━\u001b[0m\u001b[37m\u001b[0m \u001b[1m0s\u001b[0m 5ms/step - loss: 0.1526 - val_loss: 0.8368\n",
      "Epoch 17/64\n",
      "\u001b[1m32/32\u001b[0m \u001b[32m━━━━━━━━━━━━━━━━━━━━\u001b[0m\u001b[37m\u001b[0m \u001b[1m0s\u001b[0m 5ms/step - loss: 0.1469 - val_loss: 0.8391\n",
      "Epoch 18/64\n",
      "\u001b[1m32/32\u001b[0m \u001b[32m━━━━━━━━━━━━━━━━━━━━\u001b[0m\u001b[37m\u001b[0m \u001b[1m0s\u001b[0m 5ms/step - loss: 0.1424 - val_loss: 0.8318\n",
      "Epoch 19/64\n",
      "\u001b[1m32/32\u001b[0m \u001b[32m━━━━━━━━━━━━━━━━━━━━\u001b[0m\u001b[37m\u001b[0m \u001b[1m0s\u001b[0m 5ms/step - loss: 0.1283 - val_loss: 0.8324\n",
      "Epoch 20/64\n",
      "\u001b[1m32/32\u001b[0m \u001b[32m━━━━━━━━━━━━━━━━━━━━\u001b[0m\u001b[37m\u001b[0m \u001b[1m0s\u001b[0m 6ms/step - loss: 0.1325 - val_loss: 0.8354\n",
      "Epoch 21/64\n",
      "\u001b[1m32/32\u001b[0m \u001b[32m━━━━━━━━━━━━━━━━━━━━\u001b[0m\u001b[37m\u001b[0m \u001b[1m0s\u001b[0m 5ms/step - loss: 0.1265 - val_loss: 0.8490\n",
      "Epoch 22/64\n",
      "\u001b[1m32/32\u001b[0m \u001b[32m━━━━━━━━━━━━━━━━━━━━\u001b[0m\u001b[37m\u001b[0m \u001b[1m0s\u001b[0m 5ms/step - loss: 0.1243 - val_loss: 0.8529\n",
      "Epoch 23/64\n",
      "\u001b[1m32/32\u001b[0m \u001b[32m━━━━━━━━━━━━━━━━━━━━\u001b[0m\u001b[37m\u001b[0m \u001b[1m0s\u001b[0m 5ms/step - loss: 0.1201 - val_loss: 0.8557\n",
      "Epoch 24/64\n",
      "\u001b[1m32/32\u001b[0m \u001b[32m━━━━━━━━━━━━━━━━━━━━\u001b[0m\u001b[37m\u001b[0m \u001b[1m0s\u001b[0m 5ms/step - loss: 0.1162 - val_loss: 0.8528\n",
      "Epoch 25/64\n",
      "\u001b[1m32/32\u001b[0m \u001b[32m━━━━━━━━━━━━━━━━━━━━\u001b[0m\u001b[37m\u001b[0m \u001b[1m0s\u001b[0m 6ms/step - loss: 0.1143 - val_loss: 0.8579\n",
      "Epoch 26/64\n",
      "\u001b[1m32/32\u001b[0m \u001b[32m━━━━━━━━━━━━━━━━━━━━\u001b[0m\u001b[37m\u001b[0m \u001b[1m0s\u001b[0m 5ms/step - loss: 0.1110 - val_loss: 0.8636\n",
      "Epoch 27/64\n",
      "\u001b[1m32/32\u001b[0m \u001b[32m━━━━━━━━━━━━━━━━━━━━\u001b[0m\u001b[37m\u001b[0m \u001b[1m0s\u001b[0m 5ms/step - loss: 0.1026 - val_loss: 0.8553\n",
      "Epoch 28/64\n",
      "\u001b[1m32/32\u001b[0m \u001b[32m━━━━━━━━━━━━━━━━━━━━\u001b[0m\u001b[37m\u001b[0m \u001b[1m0s\u001b[0m 5ms/step - loss: 0.1029 - val_loss: 0.8547\n",
      "Epoch 29/64\n",
      "\u001b[1m32/32\u001b[0m \u001b[32m━━━━━━━━━━━━━━━━━━━━\u001b[0m\u001b[37m\u001b[0m \u001b[1m0s\u001b[0m 5ms/step - loss: 0.1027 - val_loss: 0.8625\n",
      "Epoch 30/64\n",
      "\u001b[1m32/32\u001b[0m \u001b[32m━━━━━━━━━━━━━━━━━━━━\u001b[0m\u001b[37m\u001b[0m \u001b[1m0s\u001b[0m 6ms/step - loss: 0.0942 - val_loss: 0.8657\n",
      "Epoch 31/64\n",
      "\u001b[1m32/32\u001b[0m \u001b[32m━━━━━━━━━━━━━━━━━━━━\u001b[0m\u001b[37m\u001b[0m \u001b[1m0s\u001b[0m 5ms/step - loss: 0.1019 - val_loss: 0.8578\n",
      "Epoch 32/64\n",
      "\u001b[1m32/32\u001b[0m \u001b[32m━━━━━━━━━━━━━━━━━━━━\u001b[0m\u001b[37m\u001b[0m \u001b[1m0s\u001b[0m 5ms/step - loss: 0.0974 - val_loss: 0.8618\n",
      "Epoch 33/64\n",
      "\u001b[1m32/32\u001b[0m \u001b[32m━━━━━━━━━━━━━━━━━━━━\u001b[0m\u001b[37m\u001b[0m \u001b[1m0s\u001b[0m 5ms/step - loss: 0.0991 - val_loss: 0.8594\n",
      "Epoch 34/64\n",
      "\u001b[1m32/32\u001b[0m \u001b[32m━━━━━━━━━━━━━━━━━━━━\u001b[0m\u001b[37m\u001b[0m \u001b[1m0s\u001b[0m 5ms/step - loss: 0.0942 - val_loss: 0.8592\n",
      "Epoch 35/64\n",
      "\u001b[1m32/32\u001b[0m \u001b[32m━━━━━━━━━━━━━━━━━━━━\u001b[0m\u001b[37m\u001b[0m \u001b[1m0s\u001b[0m 5ms/step - loss: 0.0872 - val_loss: 0.8630\n",
      "Epoch 36/64\n",
      "\u001b[1m32/32\u001b[0m \u001b[32m━━━━━━━━━━━━━━━━━━━━\u001b[0m\u001b[37m\u001b[0m \u001b[1m0s\u001b[0m 5ms/step - loss: 0.0844 - val_loss: 0.8655\n",
      "Epoch 37/64\n",
      "\u001b[1m32/32\u001b[0m \u001b[32m━━━━━━━━━━━━━━━━━━━━\u001b[0m\u001b[37m\u001b[0m \u001b[1m0s\u001b[0m 6ms/step - loss: 0.0836 - val_loss: 0.8617\n",
      "Epoch 38/64\n",
      "\u001b[1m32/32\u001b[0m \u001b[32m━━━━━━━━━━━━━━━━━━━━\u001b[0m\u001b[37m\u001b[0m \u001b[1m0s\u001b[0m 5ms/step - loss: 0.0889 - val_loss: 0.8609\n",
      "Epoch 39/64\n",
      "\u001b[1m32/32\u001b[0m \u001b[32m━━━━━━━━━━━━━━━━━━━━\u001b[0m\u001b[37m\u001b[0m \u001b[1m0s\u001b[0m 5ms/step - loss: 0.0856 - val_loss: 0.8713\n",
      "Epoch 40/64\n",
      "\u001b[1m32/32\u001b[0m \u001b[32m━━━━━━━━━━━━━━━━━━━━\u001b[0m\u001b[37m\u001b[0m \u001b[1m0s\u001b[0m 5ms/step - loss: 0.0840 - val_loss: 0.8703\n",
      "Epoch 41/64\n",
      "\u001b[1m32/32\u001b[0m \u001b[32m━━━━━━━━━━━━━━━━━━━━\u001b[0m\u001b[37m\u001b[0m \u001b[1m0s\u001b[0m 5ms/step - loss: 0.0836 - val_loss: 0.8720\n",
      "Epoch 42/64\n",
      "\u001b[1m32/32\u001b[0m \u001b[32m━━━━━━━━━━━━━━━━━━━━\u001b[0m\u001b[37m\u001b[0m \u001b[1m0s\u001b[0m 5ms/step - loss: 0.0775 - val_loss: 0.8620\n",
      "Epoch 43/64\n",
      "\u001b[1m32/32\u001b[0m \u001b[32m━━━━━━━━━━━━━━━━━━━━\u001b[0m\u001b[37m\u001b[0m \u001b[1m0s\u001b[0m 5ms/step - loss: 0.0775 - val_loss: 0.8639\n",
      "Epoch 44/64\n",
      "\u001b[1m32/32\u001b[0m \u001b[32m━━━━━━━━━━━━━━━━━━━━\u001b[0m\u001b[37m\u001b[0m \u001b[1m0s\u001b[0m 5ms/step - loss: 0.0812 - val_loss: 0.8682\n",
      "Epoch 45/64\n",
      "\u001b[1m32/32\u001b[0m \u001b[32m━━━━━━━━━━━━━━━━━━━━\u001b[0m\u001b[37m\u001b[0m \u001b[1m0s\u001b[0m 5ms/step - loss: 0.0770 - val_loss: 0.8687\n",
      "Epoch 46/64\n",
      "\u001b[1m32/32\u001b[0m \u001b[32m━━━━━━━━━━━━━━━━━━━━\u001b[0m\u001b[37m\u001b[0m \u001b[1m0s\u001b[0m 5ms/step - loss: 0.0774 - val_loss: 0.8771\n",
      "Epoch 47/64\n",
      "\u001b[1m32/32\u001b[0m \u001b[32m━━━━━━━━━━━━━━━━━━━━\u001b[0m\u001b[37m\u001b[0m \u001b[1m0s\u001b[0m 5ms/step - loss: 0.0794 - val_loss: 0.8715\n",
      "Epoch 48/64\n",
      "\u001b[1m32/32\u001b[0m \u001b[32m━━━━━━━━━━━━━━━━━━━━\u001b[0m\u001b[37m\u001b[0m \u001b[1m0s\u001b[0m 5ms/step - loss: 0.0811 - val_loss: 0.8718\n",
      "Epoch 49/64\n",
      "\u001b[1m32/32\u001b[0m \u001b[32m━━━━━━━━━━━━━━━━━━━━\u001b[0m\u001b[37m\u001b[0m \u001b[1m0s\u001b[0m 5ms/step - loss: 0.0770 - val_loss: 0.8735\n",
      "Epoch 50/64\n",
      "\u001b[1m32/32\u001b[0m \u001b[32m━━━━━━━━━━━━━━━━━━━━\u001b[0m\u001b[37m\u001b[0m \u001b[1m0s\u001b[0m 5ms/step - loss: 0.0751 - val_loss: 0.8639\n",
      "Epoch 51/64\n",
      "\u001b[1m32/32\u001b[0m \u001b[32m━━━━━━━━━━━━━━━━━━━━\u001b[0m\u001b[37m\u001b[0m \u001b[1m0s\u001b[0m 5ms/step - loss: 0.0768 - val_loss: 0.8727\n",
      "Epoch 52/64\n",
      "\u001b[1m32/32\u001b[0m \u001b[32m━━━━━━━━━━━━━━━━━━━━\u001b[0m\u001b[37m\u001b[0m \u001b[1m0s\u001b[0m 5ms/step - loss: 0.0750 - val_loss: 0.8694\n",
      "Epoch 53/64\n",
      "\u001b[1m32/32\u001b[0m \u001b[32m━━━━━━━━━━━━━━━━━━━━\u001b[0m\u001b[37m\u001b[0m \u001b[1m0s\u001b[0m 5ms/step - loss: 0.0736 - val_loss: 0.8779\n",
      "Epoch 54/64\n",
      "\u001b[1m32/32\u001b[0m \u001b[32m━━━━━━━━━━━━━━━━━━━━\u001b[0m\u001b[37m\u001b[0m \u001b[1m0s\u001b[0m 5ms/step - loss: 0.0783 - val_loss: 0.8780\n",
      "Epoch 55/64\n",
      "\u001b[1m32/32\u001b[0m \u001b[32m━━━━━━━━━━━━━━━━━━━━\u001b[0m\u001b[37m\u001b[0m \u001b[1m0s\u001b[0m 5ms/step - loss: 0.0722 - val_loss: 0.8760\n",
      "Epoch 56/64\n",
      "\u001b[1m32/32\u001b[0m \u001b[32m━━━━━━━━━━━━━━━━━━━━\u001b[0m\u001b[37m\u001b[0m \u001b[1m0s\u001b[0m 5ms/step - loss: 0.0737 - val_loss: 0.8716\n",
      "Epoch 57/64\n",
      "\u001b[1m32/32\u001b[0m \u001b[32m━━━━━━━━━━━━━━━━━━━━\u001b[0m\u001b[37m\u001b[0m \u001b[1m0s\u001b[0m 5ms/step - loss: 0.0754 - val_loss: 0.8731\n",
      "Epoch 58/64\n",
      "\u001b[1m32/32\u001b[0m \u001b[32m━━━━━━━━━━━━━━━━━━━━\u001b[0m\u001b[37m\u001b[0m \u001b[1m0s\u001b[0m 5ms/step - loss: 0.0727 - val_loss: 0.8747\n",
      "Epoch 59/64\n",
      "\u001b[1m32/32\u001b[0m \u001b[32m━━━━━━━━━━━━━━━━━━━━\u001b[0m\u001b[37m\u001b[0m \u001b[1m0s\u001b[0m 5ms/step - loss: 0.0746 - val_loss: 0.8738\n",
      "Epoch 60/64\n",
      "\u001b[1m32/32\u001b[0m \u001b[32m━━━━━━━━━━━━━━━━━━━━\u001b[0m\u001b[37m\u001b[0m \u001b[1m0s\u001b[0m 5ms/step - loss: 0.0749 - val_loss: 0.8806\n",
      "Epoch 61/64\n",
      "\u001b[1m32/32\u001b[0m \u001b[32m━━━━━━━━━━━━━━━━━━━━\u001b[0m\u001b[37m\u001b[0m \u001b[1m0s\u001b[0m 5ms/step - loss: 0.0727 - val_loss: 0.8793\n",
      "Epoch 62/64\n",
      "\u001b[1m32/32\u001b[0m \u001b[32m━━━━━━━━━━━━━━━━━━━━\u001b[0m\u001b[37m\u001b[0m \u001b[1m0s\u001b[0m 5ms/step - loss: 0.0752 - val_loss: 0.8767\n",
      "Epoch 63/64\n",
      "\u001b[1m32/32\u001b[0m \u001b[32m━━━━━━━━━━━━━━━━━━━━\u001b[0m\u001b[37m\u001b[0m \u001b[1m0s\u001b[0m 5ms/step - loss: 0.0703 - val_loss: 0.8755\n",
      "Epoch 64/64\n",
      "\u001b[1m32/32\u001b[0m \u001b[32m━━━━━━━━━━━━━━━━━━━━\u001b[0m\u001b[37m\u001b[0m \u001b[1m0s\u001b[0m 5ms/step - loss: 0.0729 - val_loss: 0.8792\n"
     ]
    },
    {
     "data": {
      "text/plain": [
       "<keras.src.callbacks.history.History at 0x2220bd6cfd0>"
      ]
     },
     "execution_count": 21,
     "metadata": {},
     "output_type": "execute_result"
    }
   ],
   "source": [
    "model_oh.fit(train_dataset_oh, epochs=num_epochs_oh, validation_data=val_dataset_oh)"
   ]
  },
  {
   "cell_type": "markdown",
   "metadata": {},
   "source": [
    "Evaluem el model amb la partició de validació"
   ]
  },
  {
   "cell_type": "code",
   "execution_count": 22,
   "metadata": {},
   "outputs": [
    {
     "name": "stdout",
     "output_type": "stream",
     "text": [
      "\u001b[1m64/64\u001b[0m \u001b[32m━━━━━━━━━━━━━━━━━━━━\u001b[0m\u001b[37m\u001b[0m \u001b[1m0s\u001b[0m 2ms/step\n",
      "Correlación de Pearson (train): 0.9560067996522469\n",
      "\u001b[1m16/16\u001b[0m \u001b[32m━━━━━━━━━━━━━━━━━━━━\u001b[0m\u001b[37m\u001b[0m \u001b[1m0s\u001b[0m 1ms/step \n",
      "Correlación de Pearson (validation): 0.17765272288170036\n"
     ]
    }
   ],
   "source": [
    "print(f\"Correlación de Pearson (train): {compute_pearson(model_oh, x_train_oh, y_train_oh)}\")\n",
    "print(f\"Correlación de Pearson (validation): {compute_pearson(model_oh, x_val_oh, y_val_oh)}\")"
   ]
  },
  {
   "cell_type": "markdown",
   "metadata": {},
   "source": [
    "Provem el model amb la partició de test"
   ]
  },
  {
   "cell_type": "code",
   "execution_count": 23,
   "metadata": {},
   "outputs": [
    {
     "name": "stdout",
     "output_type": "stream",
     "text": [
      "\u001b[1m16/16\u001b[0m \u001b[32m━━━━━━━━━━━━━━━━━━━━\u001b[0m\u001b[37m\u001b[0m \u001b[1m0s\u001b[0m 1ms/step \n",
      "Correlación de Pearson (test): 0.21250305681247392\n"
     ]
    }
   ],
   "source": [
    "print(f\"Correlación de Pearson (test): {compute_pearson(model_oh, x_test_oh, y_test_oh)}\")"
   ]
  },
  {
   "cell_type": "markdown",
   "metadata": {},
   "source": [
    "##### Conclusions de One-hot"
   ]
  },
  {
   "cell_type": "markdown",
   "metadata": {},
   "source": [
    "Com podem observar a la hora de fer l'entrenament, el model fa molt *overfit*, així que no és capaç de generalitzar bé. Això és degut a que el model OneHot no té en compte la semàntica de les paraules, ja que cada paraula és tractada com a un element únic i no es té en compte el context en el que apareixen les paraules. Una altra raó per la que el model OneHot no és bó és perquè la mida dels vectors és molt gran, ja que la mida dels vectors és igual a la mida del diccionari, i això fa que el model sigui molt ineficient."
   ]
  },
  {
   "cell_type": "markdown",
   "metadata": {},
   "source": [
    "#### 2. Word2Vec preentrenats "
   ]
  },
  {
   "cell_type": "code",
   "execution_count": 24,
   "metadata": {},
   "outputs": [],
   "source": [
    "from word2vec_tf_idf import map_pairs_w2v"
   ]
  },
  {
   "cell_type": "markdown",
   "metadata": {},
   "source": [
    "Llegim el model de Word2Vec preentrenat en català."
   ]
  },
  {
   "cell_type": "code",
   "execution_count": 25,
   "metadata": {},
   "outputs": [],
   "source": [
    "WORD_EMBEDDING_FILE = \"C:/Users/ralva/Downloads/cc.ca.300.bin.gz\"\n",
    "\n",
    "\n",
    "USE_MMAP = False\n",
    "if USE_MMAP:\n",
    "    from gensim.models.fasttext import FastTextKeyedVectors\n",
    "    MMAP_PATH = 'cc.ca.300.bin'\n",
    "    # wv_model.save(MMAP_PATH)\n",
    "    wv_model = FastTextKeyedVectors.load(MMAP_PATH, mmap='r')\n",
    "else:\n",
    "    from gensim.models import fasttext\n",
    "    wv_model = fasttext.load_facebook_vectors(WORD_EMBEDDING_FILE)"
   ]
  },
  {
   "cell_type": "markdown",
   "metadata": {},
   "source": [
    "##### 2.1 Mitjana"
   ]
  },
  {
   "cell_type": "markdown",
   "metadata": {},
   "source": [
    "Convertim a vectors les frases amb la funció *map_w2v()*. Aquesta funció obté l'embedding de Word2Vec de cada paraula de la frase i en fa la mitjana."
   ]
  },
  {
   "cell_type": "code",
   "execution_count": 26,
   "metadata": {},
   "outputs": [],
   "source": [
    "mapped_w2v_mean_train = map_pairs_w2v(train, wv_model, dictionary=dictionary, preprocess=prepro)\n",
    "mapped_w2v_mean_test = map_pairs_w2v(test, wv_model, dictionary=dictionary, preprocess=prepro)\n",
    "mapped_w2v_mean_val = map_pairs_w2v(val, wv_model, dictionary=dictionary, preprocess=prepro)"
   ]
  },
  {
   "cell_type": "markdown",
   "metadata": {},
   "source": [
    "Separem les dades en X i Y."
   ]
  },
  {
   "cell_type": "code",
   "execution_count": 27,
   "metadata": {},
   "outputs": [],
   "source": [
    "x_train_w2v_mean, y_train_w2v_mean = pair_list_to_x_y(mapped_w2v_mean_train)\n",
    "x_val_w2v_mean, y_val_w2v_mean = pair_list_to_x_y(mapped_w2v_mean_val)\n",
    "x_test_w2v_mean, y_test_w2v_mean = pair_list_to_x_y(mapped_w2v_mean_test)"
   ]
  },
  {
   "cell_type": "markdown",
   "metadata": {},
   "source": [
    "Entrenem el model"
   ]
  },
  {
   "cell_type": "code",
   "execution_count": 28,
   "metadata": {},
   "outputs": [],
   "source": [
    "batch_size_w2v_mean: int = 64\n",
    "num_epochs_w2v_mean: int = 64\n",
    "\n",
    "train_dataset_w2v_mean = tf.data.Dataset.from_tensor_slices((x_train_w2v_mean, y_train_w2v_mean))\n",
    "train_dataset_w2v_mean = train_dataset_w2v_mean.shuffle(buffer_size=len(x_train_w2v_mean)).batch(batch_size_w2v_mean)\n",
    "\n",
    "val_dataset_w2v_mean = tf.data.Dataset.from_tensor_slices((x_val_w2v_mean, y_val_w2v_mean))\n",
    "val_dataset_w2v_mean = val_dataset_w2v_mean.batch(batch_size_w2v_mean)"
   ]
  },
  {
   "cell_type": "code",
   "execution_count": 29,
   "metadata": {},
   "outputs": [
    {
     "name": "stdout",
     "output_type": "stream",
     "text": [
      "You must install pydot (`pip install pydot`) for `plot_model` to work.\n"
     ]
    },
    {
     "data": {
      "text/html": [
       "<pre style=\"white-space:pre;overflow-x:auto;line-height:normal;font-family:Menlo,'DejaVu Sans Mono',consolas,'Courier New',monospace\"><span style=\"font-weight: bold\">Model: \"functional_3\"</span>\n",
       "</pre>\n"
      ],
      "text/plain": [
       "\u001b[1mModel: \"functional_3\"\u001b[0m\n"
      ]
     },
     "metadata": {},
     "output_type": "display_data"
    },
    {
     "data": {
      "text/html": [
       "<pre style=\"white-space:pre;overflow-x:auto;line-height:normal;font-family:Menlo,'DejaVu Sans Mono',consolas,'Courier New',monospace\">┏━━━━━━━━━━━━━━━━━━━━━┳━━━━━━━━━━━━━━━━━━━┳━━━━━━━━━━━━┳━━━━━━━━━━━━━━━━━━━┓\n",
       "┃<span style=\"font-weight: bold\"> Layer (type)        </span>┃<span style=\"font-weight: bold\"> Output Shape      </span>┃<span style=\"font-weight: bold\">    Param # </span>┃<span style=\"font-weight: bold\"> Connected to      </span>┃\n",
       "┡━━━━━━━━━━━━━━━━━━━━━╇━━━━━━━━━━━━━━━━━━━╇━━━━━━━━━━━━╇━━━━━━━━━━━━━━━━━━━┩\n",
       "│ input_layer_2       │ (<span style=\"color: #00d7ff; text-decoration-color: #00d7ff\">None</span>, <span style=\"color: #00af00; text-decoration-color: #00af00\">300</span>)       │          <span style=\"color: #00af00; text-decoration-color: #00af00\">0</span> │ -                 │\n",
       "│ (<span style=\"color: #0087ff; text-decoration-color: #0087ff\">InputLayer</span>)        │                   │            │                   │\n",
       "├─────────────────────┼───────────────────┼────────────┼───────────────────┤\n",
       "│ input_layer_3       │ (<span style=\"color: #00d7ff; text-decoration-color: #00d7ff\">None</span>, <span style=\"color: #00af00; text-decoration-color: #00af00\">300</span>)       │          <span style=\"color: #00af00; text-decoration-color: #00af00\">0</span> │ -                 │\n",
       "│ (<span style=\"color: #0087ff; text-decoration-color: #0087ff\">InputLayer</span>)        │                   │            │                   │\n",
       "├─────────────────────┼───────────────────┼────────────┼───────────────────┤\n",
       "│ dense_3 (<span style=\"color: #0087ff; text-decoration-color: #0087ff\">Dense</span>)     │ (<span style=\"color: #00d7ff; text-decoration-color: #00d7ff\">None</span>, <span style=\"color: #00af00; text-decoration-color: #00af00\">300</span>)       │     <span style=\"color: #00af00; text-decoration-color: #00af00\">90,300</span> │ input_layer_2[<span style=\"color: #00af00; text-decoration-color: #00af00\">0</span>]… │\n",
       "│                     │                   │            │ input_layer_3[<span style=\"color: #00af00; text-decoration-color: #00af00\">0</span>]… │\n",
       "├─────────────────────┼───────────────────┼────────────┼───────────────────┤\n",
       "│ lambda_2 (<span style=\"color: #0087ff; text-decoration-color: #0087ff\">Lambda</span>)   │ (<span style=\"color: #00d7ff; text-decoration-color: #00d7ff\">None</span>, <span style=\"color: #00af00; text-decoration-color: #00af00\">300</span>)       │          <span style=\"color: #00af00; text-decoration-color: #00af00\">0</span> │ dense_3[<span style=\"color: #00af00; text-decoration-color: #00af00\">0</span>][<span style=\"color: #00af00; text-decoration-color: #00af00\">0</span>],    │\n",
       "│                     │                   │            │ dense_3[<span style=\"color: #00af00; text-decoration-color: #00af00\">1</span>][<span style=\"color: #00af00; text-decoration-color: #00af00\">0</span>]     │\n",
       "├─────────────────────┼───────────────────┼────────────┼───────────────────┤\n",
       "│ dropout_2 (<span style=\"color: #0087ff; text-decoration-color: #0087ff\">Dropout</span>) │ (<span style=\"color: #00d7ff; text-decoration-color: #00d7ff\">None</span>, <span style=\"color: #00af00; text-decoration-color: #00af00\">300</span>)       │          <span style=\"color: #00af00; text-decoration-color: #00af00\">0</span> │ lambda_2[<span style=\"color: #00af00; text-decoration-color: #00af00\">0</span>][<span style=\"color: #00af00; text-decoration-color: #00af00\">0</span>]    │\n",
       "├─────────────────────┼───────────────────┼────────────┼───────────────────┤\n",
       "│ dense_4 (<span style=\"color: #0087ff; text-decoration-color: #0087ff\">Dense</span>)     │ (<span style=\"color: #00d7ff; text-decoration-color: #00d7ff\">None</span>, <span style=\"color: #00af00; text-decoration-color: #00af00\">16</span>)        │      <span style=\"color: #00af00; text-decoration-color: #00af00\">4,816</span> │ dropout_2[<span style=\"color: #00af00; text-decoration-color: #00af00\">0</span>][<span style=\"color: #00af00; text-decoration-color: #00af00\">0</span>]   │\n",
       "├─────────────────────┼───────────────────┼────────────┼───────────────────┤\n",
       "│ dropout_3 (<span style=\"color: #0087ff; text-decoration-color: #0087ff\">Dropout</span>) │ (<span style=\"color: #00d7ff; text-decoration-color: #00d7ff\">None</span>, <span style=\"color: #00af00; text-decoration-color: #00af00\">16</span>)        │          <span style=\"color: #00af00; text-decoration-color: #00af00\">0</span> │ dense_4[<span style=\"color: #00af00; text-decoration-color: #00af00\">0</span>][<span style=\"color: #00af00; text-decoration-color: #00af00\">0</span>]     │\n",
       "├─────────────────────┼───────────────────┼────────────┼───────────────────┤\n",
       "│ dense_5 (<span style=\"color: #0087ff; text-decoration-color: #0087ff\">Dense</span>)     │ (<span style=\"color: #00d7ff; text-decoration-color: #00d7ff\">None</span>, <span style=\"color: #00af00; text-decoration-color: #00af00\">1</span>)         │         <span style=\"color: #00af00; text-decoration-color: #00af00\">17</span> │ dropout_3[<span style=\"color: #00af00; text-decoration-color: #00af00\">0</span>][<span style=\"color: #00af00; text-decoration-color: #00af00\">0</span>]   │\n",
       "├─────────────────────┼───────────────────┼────────────┼───────────────────┤\n",
       "│ lambda_3 (<span style=\"color: #0087ff; text-decoration-color: #0087ff\">Lambda</span>)   │ (<span style=\"color: #00d7ff; text-decoration-color: #00d7ff\">None</span>, <span style=\"color: #00af00; text-decoration-color: #00af00\">1</span>)         │          <span style=\"color: #00af00; text-decoration-color: #00af00\">0</span> │ dense_5[<span style=\"color: #00af00; text-decoration-color: #00af00\">0</span>][<span style=\"color: #00af00; text-decoration-color: #00af00\">0</span>]     │\n",
       "└─────────────────────┴───────────────────┴────────────┴───────────────────┘\n",
       "</pre>\n"
      ],
      "text/plain": [
       "┏━━━━━━━━━━━━━━━━━━━━━┳━━━━━━━━━━━━━━━━━━━┳━━━━━━━━━━━━┳━━━━━━━━━━━━━━━━━━━┓\n",
       "┃\u001b[1m \u001b[0m\u001b[1mLayer (type)       \u001b[0m\u001b[1m \u001b[0m┃\u001b[1m \u001b[0m\u001b[1mOutput Shape     \u001b[0m\u001b[1m \u001b[0m┃\u001b[1m \u001b[0m\u001b[1m   Param #\u001b[0m\u001b[1m \u001b[0m┃\u001b[1m \u001b[0m\u001b[1mConnected to     \u001b[0m\u001b[1m \u001b[0m┃\n",
       "┡━━━━━━━━━━━━━━━━━━━━━╇━━━━━━━━━━━━━━━━━━━╇━━━━━━━━━━━━╇━━━━━━━━━━━━━━━━━━━┩\n",
       "│ input_layer_2       │ (\u001b[38;5;45mNone\u001b[0m, \u001b[38;5;34m300\u001b[0m)       │          \u001b[38;5;34m0\u001b[0m │ -                 │\n",
       "│ (\u001b[38;5;33mInputLayer\u001b[0m)        │                   │            │                   │\n",
       "├─────────────────────┼───────────────────┼────────────┼───────────────────┤\n",
       "│ input_layer_3       │ (\u001b[38;5;45mNone\u001b[0m, \u001b[38;5;34m300\u001b[0m)       │          \u001b[38;5;34m0\u001b[0m │ -                 │\n",
       "│ (\u001b[38;5;33mInputLayer\u001b[0m)        │                   │            │                   │\n",
       "├─────────────────────┼───────────────────┼────────────┼───────────────────┤\n",
       "│ dense_3 (\u001b[38;5;33mDense\u001b[0m)     │ (\u001b[38;5;45mNone\u001b[0m, \u001b[38;5;34m300\u001b[0m)       │     \u001b[38;5;34m90,300\u001b[0m │ input_layer_2[\u001b[38;5;34m0\u001b[0m]… │\n",
       "│                     │                   │            │ input_layer_3[\u001b[38;5;34m0\u001b[0m]… │\n",
       "├─────────────────────┼───────────────────┼────────────┼───────────────────┤\n",
       "│ lambda_2 (\u001b[38;5;33mLambda\u001b[0m)   │ (\u001b[38;5;45mNone\u001b[0m, \u001b[38;5;34m300\u001b[0m)       │          \u001b[38;5;34m0\u001b[0m │ dense_3[\u001b[38;5;34m0\u001b[0m][\u001b[38;5;34m0\u001b[0m],    │\n",
       "│                     │                   │            │ dense_3[\u001b[38;5;34m1\u001b[0m][\u001b[38;5;34m0\u001b[0m]     │\n",
       "├─────────────────────┼───────────────────┼────────────┼───────────────────┤\n",
       "│ dropout_2 (\u001b[38;5;33mDropout\u001b[0m) │ (\u001b[38;5;45mNone\u001b[0m, \u001b[38;5;34m300\u001b[0m)       │          \u001b[38;5;34m0\u001b[0m │ lambda_2[\u001b[38;5;34m0\u001b[0m][\u001b[38;5;34m0\u001b[0m]    │\n",
       "├─────────────────────┼───────────────────┼────────────┼───────────────────┤\n",
       "│ dense_4 (\u001b[38;5;33mDense\u001b[0m)     │ (\u001b[38;5;45mNone\u001b[0m, \u001b[38;5;34m16\u001b[0m)        │      \u001b[38;5;34m4,816\u001b[0m │ dropout_2[\u001b[38;5;34m0\u001b[0m][\u001b[38;5;34m0\u001b[0m]   │\n",
       "├─────────────────────┼───────────────────┼────────────┼───────────────────┤\n",
       "│ dropout_3 (\u001b[38;5;33mDropout\u001b[0m) │ (\u001b[38;5;45mNone\u001b[0m, \u001b[38;5;34m16\u001b[0m)        │          \u001b[38;5;34m0\u001b[0m │ dense_4[\u001b[38;5;34m0\u001b[0m][\u001b[38;5;34m0\u001b[0m]     │\n",
       "├─────────────────────┼───────────────────┼────────────┼───────────────────┤\n",
       "│ dense_5 (\u001b[38;5;33mDense\u001b[0m)     │ (\u001b[38;5;45mNone\u001b[0m, \u001b[38;5;34m1\u001b[0m)         │         \u001b[38;5;34m17\u001b[0m │ dropout_3[\u001b[38;5;34m0\u001b[0m][\u001b[38;5;34m0\u001b[0m]   │\n",
       "├─────────────────────┼───────────────────┼────────────┼───────────────────┤\n",
       "│ lambda_3 (\u001b[38;5;33mLambda\u001b[0m)   │ (\u001b[38;5;45mNone\u001b[0m, \u001b[38;5;34m1\u001b[0m)         │          \u001b[38;5;34m0\u001b[0m │ dense_5[\u001b[38;5;34m0\u001b[0m][\u001b[38;5;34m0\u001b[0m]     │\n",
       "└─────────────────────┴───────────────────┴────────────┴───────────────────┘\n"
      ]
     },
     "metadata": {},
     "output_type": "display_data"
    },
    {
     "data": {
      "text/html": [
       "<pre style=\"white-space:pre;overflow-x:auto;line-height:normal;font-family:Menlo,'DejaVu Sans Mono',consolas,'Courier New',monospace\"><span style=\"font-weight: bold\"> Total params: </span><span style=\"color: #00af00; text-decoration-color: #00af00\">95,133</span> (371.61 KB)\n",
       "</pre>\n"
      ],
      "text/plain": [
       "\u001b[1m Total params: \u001b[0m\u001b[38;5;34m95,133\u001b[0m (371.61 KB)\n"
      ]
     },
     "metadata": {},
     "output_type": "display_data"
    },
    {
     "data": {
      "text/html": [
       "<pre style=\"white-space:pre;overflow-x:auto;line-height:normal;font-family:Menlo,'DejaVu Sans Mono',consolas,'Courier New',monospace\"><span style=\"font-weight: bold\"> Trainable params: </span><span style=\"color: #00af00; text-decoration-color: #00af00\">95,133</span> (371.61 KB)\n",
       "</pre>\n"
      ],
      "text/plain": [
       "\u001b[1m Trainable params: \u001b[0m\u001b[38;5;34m95,133\u001b[0m (371.61 KB)\n"
      ]
     },
     "metadata": {},
     "output_type": "display_data"
    },
    {
     "data": {
      "text/html": [
       "<pre style=\"white-space:pre;overflow-x:auto;line-height:normal;font-family:Menlo,'DejaVu Sans Mono',consolas,'Courier New',monospace\"><span style=\"font-weight: bold\"> Non-trainable params: </span><span style=\"color: #00af00; text-decoration-color: #00af00\">0</span> (0.00 B)\n",
       "</pre>\n"
      ],
      "text/plain": [
       "\u001b[1m Non-trainable params: \u001b[0m\u001b[38;5;34m0\u001b[0m (0.00 B)\n"
      ]
     },
     "metadata": {},
     "output_type": "display_data"
    },
    {
     "name": "stdout",
     "output_type": "stream",
     "text": [
      "None\n"
     ]
    }
   ],
   "source": [
    "embedding_size_w2v_mean = 300\n",
    "model_w2v_mean = build_and_compile_model_better(embedding_size = embedding_size_w2v_mean)\n",
    "tf.keras.utils.plot_model(model_w2v_mean, show_shapes=True, show_layer_activations=True)\n",
    "print(model_w2v_mean.summary())"
   ]
  },
  {
   "cell_type": "code",
   "execution_count": 30,
   "metadata": {},
   "outputs": [
    {
     "name": "stdout",
     "output_type": "stream",
     "text": [
      "Epoch 1/64\n",
      "\u001b[1m32/32\u001b[0m \u001b[32m━━━━━━━━━━━━━━━━━━━━\u001b[0m\u001b[37m\u001b[0m \u001b[1m2s\u001b[0m 7ms/step - loss: 0.7254 - val_loss: 0.7327\n",
      "Epoch 2/64\n",
      "\u001b[1m32/32\u001b[0m \u001b[32m━━━━━━━━━━━━━━━━━━━━\u001b[0m\u001b[37m\u001b[0m \u001b[1m0s\u001b[0m 2ms/step - loss: 0.7092 - val_loss: 0.7098\n",
      "Epoch 3/64\n",
      "\u001b[1m32/32\u001b[0m \u001b[32m━━━━━━━━━━━━━━━━━━━━\u001b[0m\u001b[37m\u001b[0m \u001b[1m0s\u001b[0m 2ms/step - loss: 0.6831 - val_loss: 0.6914\n",
      "Epoch 4/64\n",
      "\u001b[1m32/32\u001b[0m \u001b[32m━━━━━━━━━━━━━━━━━━━━\u001b[0m\u001b[37m\u001b[0m \u001b[1m0s\u001b[0m 2ms/step - loss: 0.6477 - val_loss: 0.6713\n",
      "Epoch 5/64\n",
      "\u001b[1m32/32\u001b[0m \u001b[32m━━━━━━━━━━━━━━━━━━━━\u001b[0m\u001b[37m\u001b[0m \u001b[1m0s\u001b[0m 2ms/step - loss: 0.5944 - val_loss: 0.6529\n",
      "Epoch 6/64\n",
      "\u001b[1m32/32\u001b[0m \u001b[32m━━━━━━━━━━━━━━━━━━━━\u001b[0m\u001b[37m\u001b[0m \u001b[1m0s\u001b[0m 2ms/step - loss: 0.5315 - val_loss: 0.6417\n",
      "Epoch 7/64\n",
      "\u001b[1m32/32\u001b[0m \u001b[32m━━━━━━━━━━━━━━━━━━━━\u001b[0m\u001b[37m\u001b[0m \u001b[1m0s\u001b[0m 2ms/step - loss: 0.4575 - val_loss: 0.6291\n",
      "Epoch 8/64\n",
      "\u001b[1m32/32\u001b[0m \u001b[32m━━━━━━━━━━━━━━━━━━━━\u001b[0m\u001b[37m\u001b[0m \u001b[1m0s\u001b[0m 2ms/step - loss: 0.3769 - val_loss: 0.6161\n",
      "Epoch 9/64\n",
      "\u001b[1m32/32\u001b[0m \u001b[32m━━━━━━━━━━━━━━━━━━━━\u001b[0m\u001b[37m\u001b[0m \u001b[1m0s\u001b[0m 2ms/step - loss: 0.3151 - val_loss: 0.6273\n",
      "Epoch 10/64\n",
      "\u001b[1m32/32\u001b[0m \u001b[32m━━━━━━━━━━━━━━━━━━━━\u001b[0m\u001b[37m\u001b[0m \u001b[1m0s\u001b[0m 3ms/step - loss: 0.2688 - val_loss: 0.6225\n",
      "Epoch 11/64\n",
      "\u001b[1m32/32\u001b[0m \u001b[32m━━━━━━━━━━━━━━━━━━━━\u001b[0m\u001b[37m\u001b[0m \u001b[1m0s\u001b[0m 2ms/step - loss: 0.2249 - val_loss: 0.6285\n",
      "Epoch 12/64\n",
      "\u001b[1m32/32\u001b[0m \u001b[32m━━━━━━━━━━━━━━━━━━━━\u001b[0m\u001b[37m\u001b[0m \u001b[1m0s\u001b[0m 2ms/step - loss: 0.1831 - val_loss: 0.6467\n",
      "Epoch 13/64\n",
      "\u001b[1m32/32\u001b[0m \u001b[32m━━━━━━━━━━━━━━━━━━━━\u001b[0m\u001b[37m\u001b[0m \u001b[1m0s\u001b[0m 2ms/step - loss: 0.1765 - val_loss: 0.6442\n",
      "Epoch 14/64\n",
      "\u001b[1m32/32\u001b[0m \u001b[32m━━━━━━━━━━━━━━━━━━━━\u001b[0m\u001b[37m\u001b[0m \u001b[1m0s\u001b[0m 2ms/step - loss: 0.1576 - val_loss: 0.6612\n",
      "Epoch 15/64\n",
      "\u001b[1m32/32\u001b[0m \u001b[32m━━━━━━━━━━━━━━━━━━━━\u001b[0m\u001b[37m\u001b[0m \u001b[1m0s\u001b[0m 2ms/step - loss: 0.1499 - val_loss: 0.6732\n",
      "Epoch 16/64\n",
      "\u001b[1m32/32\u001b[0m \u001b[32m━━━━━━━━━━━━━━━━━━━━\u001b[0m\u001b[37m\u001b[0m \u001b[1m0s\u001b[0m 3ms/step - loss: 0.1361 - val_loss: 0.6763\n",
      "Epoch 17/64\n",
      "\u001b[1m32/32\u001b[0m \u001b[32m━━━━━━━━━━━━━━━━━━━━\u001b[0m\u001b[37m\u001b[0m \u001b[1m0s\u001b[0m 3ms/step - loss: 0.1320 - val_loss: 0.6865\n",
      "Epoch 18/64\n",
      "\u001b[1m32/32\u001b[0m \u001b[32m━━━━━━━━━━━━━━━━━━━━\u001b[0m\u001b[37m\u001b[0m \u001b[1m0s\u001b[0m 4ms/step - loss: 0.1425 - val_loss: 0.7467\n",
      "Epoch 19/64\n",
      "\u001b[1m32/32\u001b[0m \u001b[32m━━━━━━━━━━━━━━━━━━━━\u001b[0m\u001b[37m\u001b[0m \u001b[1m0s\u001b[0m 3ms/step - loss: 0.1573 - val_loss: 0.6923\n",
      "Epoch 20/64\n",
      "\u001b[1m32/32\u001b[0m \u001b[32m━━━━━━━━━━━━━━━━━━━━\u001b[0m\u001b[37m\u001b[0m \u001b[1m0s\u001b[0m 3ms/step - loss: 0.1264 - val_loss: 0.6771\n",
      "Epoch 21/64\n",
      "\u001b[1m32/32\u001b[0m \u001b[32m━━━━━━━━━━━━━━━━━━━━\u001b[0m\u001b[37m\u001b[0m \u001b[1m0s\u001b[0m 2ms/step - loss: 0.1073 - val_loss: 0.6769\n",
      "Epoch 22/64\n",
      "\u001b[1m32/32\u001b[0m \u001b[32m━━━━━━━━━━━━━━━━━━━━\u001b[0m\u001b[37m\u001b[0m \u001b[1m0s\u001b[0m 2ms/step - loss: 0.0929 - val_loss: 0.6775\n",
      "Epoch 23/64\n",
      "\u001b[1m32/32\u001b[0m \u001b[32m━━━━━━━━━━━━━━━━━━━━\u001b[0m\u001b[37m\u001b[0m \u001b[1m0s\u001b[0m 2ms/step - loss: 0.0911 - val_loss: 0.6737\n",
      "Epoch 24/64\n",
      "\u001b[1m32/32\u001b[0m \u001b[32m━━━━━━━━━━━━━━━━━━━━\u001b[0m\u001b[37m\u001b[0m \u001b[1m0s\u001b[0m 2ms/step - loss: 0.0848 - val_loss: 0.6634\n",
      "Epoch 25/64\n",
      "\u001b[1m32/32\u001b[0m \u001b[32m━━━━━━━━━━━━━━━━━━━━\u001b[0m\u001b[37m\u001b[0m \u001b[1m0s\u001b[0m 2ms/step - loss: 0.0848 - val_loss: 0.6647\n",
      "Epoch 26/64\n",
      "\u001b[1m32/32\u001b[0m \u001b[32m━━━━━━━━━━━━━━━━━━━━\u001b[0m\u001b[37m\u001b[0m \u001b[1m0s\u001b[0m 2ms/step - loss: 0.0847 - val_loss: 0.6466\n",
      "Epoch 27/64\n",
      "\u001b[1m32/32\u001b[0m \u001b[32m━━━━━━━━━━━━━━━━━━━━\u001b[0m\u001b[37m\u001b[0m \u001b[1m0s\u001b[0m 2ms/step - loss: 0.0804 - val_loss: 0.6470\n",
      "Epoch 28/64\n",
      "\u001b[1m32/32\u001b[0m \u001b[32m━━━━━━━━━━━━━━━━━━━━\u001b[0m\u001b[37m\u001b[0m \u001b[1m0s\u001b[0m 3ms/step - loss: 0.0770 - val_loss: 0.6555\n",
      "Epoch 29/64\n",
      "\u001b[1m32/32\u001b[0m \u001b[32m━━━━━━━━━━━━━━━━━━━━\u001b[0m\u001b[37m\u001b[0m \u001b[1m0s\u001b[0m 2ms/step - loss: 0.0827 - val_loss: 0.6645\n",
      "Epoch 30/64\n",
      "\u001b[1m32/32\u001b[0m \u001b[32m━━━━━━━━━━━━━━━━━━━━\u001b[0m\u001b[37m\u001b[0m \u001b[1m0s\u001b[0m 3ms/step - loss: 0.0717 - val_loss: 0.6528\n",
      "Epoch 31/64\n",
      "\u001b[1m32/32\u001b[0m \u001b[32m━━━━━━━━━━━━━━━━━━━━\u001b[0m\u001b[37m\u001b[0m \u001b[1m0s\u001b[0m 2ms/step - loss: 0.0772 - val_loss: 0.6481\n",
      "Epoch 32/64\n",
      "\u001b[1m32/32\u001b[0m \u001b[32m━━━━━━━━━━━━━━━━━━━━\u001b[0m\u001b[37m\u001b[0m \u001b[1m0s\u001b[0m 2ms/step - loss: 0.0765 - val_loss: 0.6587\n",
      "Epoch 33/64\n",
      "\u001b[1m32/32\u001b[0m \u001b[32m━━━━━━━━━━━━━━━━━━━━\u001b[0m\u001b[37m\u001b[0m \u001b[1m0s\u001b[0m 3ms/step - loss: 0.0817 - val_loss: 0.6585\n",
      "Epoch 34/64\n",
      "\u001b[1m32/32\u001b[0m \u001b[32m━━━━━━━━━━━━━━━━━━━━\u001b[0m\u001b[37m\u001b[0m \u001b[1m0s\u001b[0m 2ms/step - loss: 0.0786 - val_loss: 0.6521\n",
      "Epoch 35/64\n",
      "\u001b[1m32/32\u001b[0m \u001b[32m━━━━━━━━━━━━━━━━━━━━\u001b[0m\u001b[37m\u001b[0m \u001b[1m0s\u001b[0m 3ms/step - loss: 0.0835 - val_loss: 0.6867\n",
      "Epoch 36/64\n",
      "\u001b[1m32/32\u001b[0m \u001b[32m━━━━━━━━━━━━━━━━━━━━\u001b[0m\u001b[37m\u001b[0m \u001b[1m0s\u001b[0m 2ms/step - loss: 0.0831 - val_loss: 0.6659\n",
      "Epoch 37/64\n",
      "\u001b[1m32/32\u001b[0m \u001b[32m━━━━━━━━━━━━━━━━━━━━\u001b[0m\u001b[37m\u001b[0m \u001b[1m0s\u001b[0m 2ms/step - loss: 0.0730 - val_loss: 0.6663\n",
      "Epoch 38/64\n",
      "\u001b[1m32/32\u001b[0m \u001b[32m━━━━━━━━━━━━━━━━━━━━\u001b[0m\u001b[37m\u001b[0m \u001b[1m0s\u001b[0m 3ms/step - loss: 0.0747 - val_loss: 0.6864\n",
      "Epoch 39/64\n",
      "\u001b[1m32/32\u001b[0m \u001b[32m━━━━━━━━━━━━━━━━━━━━\u001b[0m\u001b[37m\u001b[0m \u001b[1m0s\u001b[0m 3ms/step - loss: 0.0673 - val_loss: 0.6938\n",
      "Epoch 40/64\n",
      "\u001b[1m32/32\u001b[0m \u001b[32m━━━━━━━━━━━━━━━━━━━━\u001b[0m\u001b[37m\u001b[0m \u001b[1m0s\u001b[0m 2ms/step - loss: 0.0698 - val_loss: 0.6912\n",
      "Epoch 41/64\n",
      "\u001b[1m32/32\u001b[0m \u001b[32m━━━━━━━━━━━━━━━━━━━━\u001b[0m\u001b[37m\u001b[0m \u001b[1m0s\u001b[0m 2ms/step - loss: 0.0667 - val_loss: 0.6968\n",
      "Epoch 42/64\n",
      "\u001b[1m32/32\u001b[0m \u001b[32m━━━━━━━━━━━━━━━━━━━━\u001b[0m\u001b[37m\u001b[0m \u001b[1m0s\u001b[0m 2ms/step - loss: 0.0631 - val_loss: 0.6849\n",
      "Epoch 43/64\n",
      "\u001b[1m32/32\u001b[0m \u001b[32m━━━━━━━━━━━━━━━━━━━━\u001b[0m\u001b[37m\u001b[0m \u001b[1m0s\u001b[0m 2ms/step - loss: 0.0591 - val_loss: 0.6716\n",
      "Epoch 44/64\n",
      "\u001b[1m32/32\u001b[0m \u001b[32m━━━━━━━━━━━━━━━━━━━━\u001b[0m\u001b[37m\u001b[0m \u001b[1m0s\u001b[0m 2ms/step - loss: 0.0581 - val_loss: 0.6680\n",
      "Epoch 45/64\n",
      "\u001b[1m32/32\u001b[0m \u001b[32m━━━━━━━━━━━━━━━━━━━━\u001b[0m\u001b[37m\u001b[0m \u001b[1m0s\u001b[0m 2ms/step - loss: 0.0562 - val_loss: 0.6498\n",
      "Epoch 46/64\n",
      "\u001b[1m32/32\u001b[0m \u001b[32m━━━━━━━━━━━━━━━━━━━━\u001b[0m\u001b[37m\u001b[0m \u001b[1m0s\u001b[0m 2ms/step - loss: 0.0582 - val_loss: 0.6593\n",
      "Epoch 47/64\n",
      "\u001b[1m32/32\u001b[0m \u001b[32m━━━━━━━━━━━━━━━━━━━━\u001b[0m\u001b[37m\u001b[0m \u001b[1m0s\u001b[0m 2ms/step - loss: 0.0576 - val_loss: 0.6585\n",
      "Epoch 48/64\n",
      "\u001b[1m32/32\u001b[0m \u001b[32m━━━━━━━━━━━━━━━━━━━━\u001b[0m\u001b[37m\u001b[0m \u001b[1m0s\u001b[0m 2ms/step - loss: 0.0549 - val_loss: 0.6793\n",
      "Epoch 49/64\n",
      "\u001b[1m32/32\u001b[0m \u001b[32m━━━━━━━━━━━━━━━━━━━━\u001b[0m\u001b[37m\u001b[0m \u001b[1m0s\u001b[0m 2ms/step - loss: 0.0529 - val_loss: 0.6883\n",
      "Epoch 50/64\n",
      "\u001b[1m32/32\u001b[0m \u001b[32m━━━━━━━━━━━━━━━━━━━━\u001b[0m\u001b[37m\u001b[0m \u001b[1m0s\u001b[0m 2ms/step - loss: 0.0568 - val_loss: 0.6883\n",
      "Epoch 51/64\n",
      "\u001b[1m32/32\u001b[0m \u001b[32m━━━━━━━━━━━━━━━━━━━━\u001b[0m\u001b[37m\u001b[0m \u001b[1m0s\u001b[0m 2ms/step - loss: 0.0536 - val_loss: 0.6583\n",
      "Epoch 52/64\n",
      "\u001b[1m32/32\u001b[0m \u001b[32m━━━━━━━━━━━━━━━━━━━━\u001b[0m\u001b[37m\u001b[0m \u001b[1m0s\u001b[0m 2ms/step - loss: 0.0557 - val_loss: 0.6797\n",
      "Epoch 53/64\n",
      "\u001b[1m32/32\u001b[0m \u001b[32m━━━━━━━━━━━━━━━━━━━━\u001b[0m\u001b[37m\u001b[0m \u001b[1m0s\u001b[0m 2ms/step - loss: 0.0564 - val_loss: 0.6861\n",
      "Epoch 54/64\n",
      "\u001b[1m32/32\u001b[0m \u001b[32m━━━━━━━━━━━━━━━━━━━━\u001b[0m\u001b[37m\u001b[0m \u001b[1m0s\u001b[0m 3ms/step - loss: 0.0571 - val_loss: 0.6680\n",
      "Epoch 55/64\n",
      "\u001b[1m32/32\u001b[0m \u001b[32m━━━━━━━━━━━━━━━━━━━━\u001b[0m\u001b[37m\u001b[0m \u001b[1m0s\u001b[0m 2ms/step - loss: 0.0564 - val_loss: 0.6647\n",
      "Epoch 56/64\n",
      "\u001b[1m32/32\u001b[0m \u001b[32m━━━━━━━━━━━━━━━━━━━━\u001b[0m\u001b[37m\u001b[0m \u001b[1m0s\u001b[0m 2ms/step - loss: 0.0611 - val_loss: 0.6596\n",
      "Epoch 57/64\n",
      "\u001b[1m32/32\u001b[0m \u001b[32m━━━━━━━━━━━━━━━━━━━━\u001b[0m\u001b[37m\u001b[0m \u001b[1m0s\u001b[0m 2ms/step - loss: 0.0617 - val_loss: 0.6679\n",
      "Epoch 58/64\n",
      "\u001b[1m32/32\u001b[0m \u001b[32m━━━━━━━━━━━━━━━━━━━━\u001b[0m\u001b[37m\u001b[0m \u001b[1m0s\u001b[0m 2ms/step - loss: 0.0572 - val_loss: 0.6802\n",
      "Epoch 59/64\n",
      "\u001b[1m32/32\u001b[0m \u001b[32m━━━━━━━━━━━━━━━━━━━━\u001b[0m\u001b[37m\u001b[0m \u001b[1m0s\u001b[0m 2ms/step - loss: 0.0527 - val_loss: 0.6805\n",
      "Epoch 60/64\n",
      "\u001b[1m32/32\u001b[0m \u001b[32m━━━━━━━━━━━━━━━━━━━━\u001b[0m\u001b[37m\u001b[0m \u001b[1m0s\u001b[0m 2ms/step - loss: 0.0576 - val_loss: 0.6860\n",
      "Epoch 61/64\n",
      "\u001b[1m32/32\u001b[0m \u001b[32m━━━━━━━━━━━━━━━━━━━━\u001b[0m\u001b[37m\u001b[0m \u001b[1m0s\u001b[0m 2ms/step - loss: 0.0615 - val_loss: 0.6895\n",
      "Epoch 62/64\n",
      "\u001b[1m32/32\u001b[0m \u001b[32m━━━━━━━━━━━━━━━━━━━━\u001b[0m\u001b[37m\u001b[0m \u001b[1m0s\u001b[0m 2ms/step - loss: 0.0549 - val_loss: 0.6841\n",
      "Epoch 63/64\n",
      "\u001b[1m32/32\u001b[0m \u001b[32m━━━━━━━━━━━━━━━━━━━━\u001b[0m\u001b[37m\u001b[0m \u001b[1m0s\u001b[0m 2ms/step - loss: 0.0536 - val_loss: 0.6751\n",
      "Epoch 64/64\n",
      "\u001b[1m32/32\u001b[0m \u001b[32m━━━━━━━━━━━━━━━━━━━━\u001b[0m\u001b[37m\u001b[0m \u001b[1m0s\u001b[0m 2ms/step - loss: 0.0483 - val_loss: 0.6600\n"
     ]
    },
    {
     "data": {
      "text/plain": [
       "<keras.src.callbacks.history.History at 0x2220bdc3ed0>"
      ]
     },
     "execution_count": 30,
     "metadata": {},
     "output_type": "execute_result"
    }
   ],
   "source": [
    "model_w2v_mean.fit(train_dataset_w2v_mean, epochs=num_epochs_w2v_mean, validation_data=val_dataset_w2v_mean)"
   ]
  },
  {
   "cell_type": "markdown",
   "metadata": {},
   "source": [
    "Evaluem el model amb la partició de validació"
   ]
  },
  {
   "cell_type": "code",
   "execution_count": 31,
   "metadata": {},
   "outputs": [
    {
     "name": "stdout",
     "output_type": "stream",
     "text": [
      "\u001b[1m64/64\u001b[0m \u001b[32m━━━━━━━━━━━━━━━━━━━━\u001b[0m\u001b[37m\u001b[0m \u001b[1m0s\u001b[0m 2ms/step\n",
      "Correlación de Pearson (train): 0.9828573064926769\n",
      "\u001b[1m16/16\u001b[0m \u001b[32m━━━━━━━━━━━━━━━━━━━━\u001b[0m\u001b[37m\u001b[0m \u001b[1m0s\u001b[0m 1ms/step \n",
      "Correlación de Pearson (validation): 0.38684400047991324\n"
     ]
    }
   ],
   "source": [
    "print(f\"Correlación de Pearson (train): {compute_pearson(model_w2v_mean, x_train_w2v_mean, y_train_w2v_mean)}\")\n",
    "print(f\"Correlación de Pearson (validation): {compute_pearson(model_w2v_mean, x_val_w2v_mean, y_val_w2v_mean)}\")"
   ]
  },
  {
   "cell_type": "markdown",
   "metadata": {},
   "source": [
    "Provem el model amb la partició de test"
   ]
  },
  {
   "cell_type": "code",
   "execution_count": 32,
   "metadata": {},
   "outputs": [
    {
     "name": "stdout",
     "output_type": "stream",
     "text": [
      "\u001b[1m16/16\u001b[0m \u001b[32m━━━━━━━━━━━━━━━━━━━━\u001b[0m\u001b[37m\u001b[0m \u001b[1m0s\u001b[0m 1ms/step \n",
      "Correlación de Pearson (test): 0.3331129515366897\n"
     ]
    }
   ],
   "source": [
    "print(f\"Correlación de Pearson (test): {compute_pearson(model_w2v_mean, x_test_w2v_mean, y_test_w2v_mean)}\")"
   ]
  },
  {
   "cell_type": "markdown",
   "metadata": {},
   "source": [
    "##### Conclusions de vectors preentrenats amb mitjana"
   ]
  },
  {
   "cell_type": "markdown",
   "metadata": {},
   "source": [
    "Podem observar com amb el model Word2vec i la mitjana el model segueix fent sobreajust però funciona molt millor que el OneHot. Això és degut a que el model Word2Vec té en compte la semàntica de les paraules, ja que les paraules que tenen un significat similar tenen un embedding similar. Això fa que el model sigui capaç de generalitzar millor."
   ]
  },
  {
   "cell_type": "markdown",
   "metadata": {},
   "source": [
    "##### 2.2 Tf-idf"
   ]
  },
  {
   "cell_type": "markdown",
   "metadata": {},
   "source": [
    "Definim el model de Tf-idf amb el corpus definit al inici."
   ]
  },
  {
   "cell_type": "code",
   "execution_count": 33,
   "metadata": {},
   "outputs": [],
   "source": [
    "from gensim.models import TfidfModel\n",
    "modelo_tfidf = TfidfModel(corpus)"
   ]
  },
  {
   "cell_type": "markdown",
   "metadata": {},
   "source": [
    "Fent servir la funció *map_w2v_tfidf()* s'obté l'embedding de Word2Vec de cada paraula de la frase i s'aplica Tf-idf per obtenir un vector de la frase."
   ]
  },
  {
   "cell_type": "code",
   "execution_count": 34,
   "metadata": {},
   "outputs": [],
   "source": [
    "mapped_w2v_tfidf_train = map_pairs_w2v(train, wv_model, dictionary=dictionary,tf_idf_model=modelo_tfidf, preprocess=prepro)\n",
    "mapped_w2v_tfidf_test = map_pairs_w2v(test, wv_model, dictionary=dictionary,tf_idf_model=modelo_tfidf, preprocess=prepro)\n",
    "mapped_w2v_tfidf_val = map_pairs_w2v(val, wv_model, dictionary=dictionary,tf_idf_model=modelo_tfidf, preprocess=prepro)"
   ]
  },
  {
   "cell_type": "markdown",
   "metadata": {},
   "source": [
    "Separem les dades en X i Y."
   ]
  },
  {
   "cell_type": "code",
   "execution_count": 35,
   "metadata": {},
   "outputs": [],
   "source": [
    "x_train_w2v_tfidf, y_train_w2v_tfidf = pair_list_to_x_y(mapped_w2v_tfidf_train)\n",
    "x_val_w2v_tfidf, y_val_w2v_tfidf = pair_list_to_x_y(mapped_w2v_tfidf_val)\n",
    "x_test_w2v_tfidf, y_test_w2v_tfidf = pair_list_to_x_y(mapped_w2v_tfidf_test)"
   ]
  },
  {
   "cell_type": "markdown",
   "metadata": {},
   "source": [
    "Entrenem el model"
   ]
  },
  {
   "cell_type": "code",
   "execution_count": 36,
   "metadata": {},
   "outputs": [],
   "source": [
    "batch_size_w2v_tfidf: int = 64\n",
    "num_epochs_w2v_tfidf: int = 64\n",
    "\n",
    "train_dataset_w2v_tfidf = tf.data.Dataset.from_tensor_slices((x_train_w2v_tfidf, y_train_w2v_tfidf))\n",
    "train_dataset_w2v_tfidf = train_dataset_w2v_tfidf.shuffle(buffer_size=len(x_train_w2v_tfidf)).batch(batch_size_w2v_tfidf)\n",
    "\n",
    "val_dataset_w2v_tfidf = tf.data.Dataset.from_tensor_slices((x_val_w2v_tfidf, y_val_w2v_tfidf))\n",
    "val_dataset_w2v_tfidf = val_dataset_w2v_tfidf.batch(batch_size_w2v_tfidf)"
   ]
  },
  {
   "cell_type": "code",
   "execution_count": 37,
   "metadata": {},
   "outputs": [
    {
     "name": "stdout",
     "output_type": "stream",
     "text": [
      "You must install pydot (`pip install pydot`) for `plot_model` to work.\n"
     ]
    },
    {
     "data": {
      "text/html": [
       "<pre style=\"white-space:pre;overflow-x:auto;line-height:normal;font-family:Menlo,'DejaVu Sans Mono',consolas,'Courier New',monospace\"><span style=\"font-weight: bold\">Model: \"functional_5\"</span>\n",
       "</pre>\n"
      ],
      "text/plain": [
       "\u001b[1mModel: \"functional_5\"\u001b[0m\n"
      ]
     },
     "metadata": {},
     "output_type": "display_data"
    },
    {
     "data": {
      "text/html": [
       "<pre style=\"white-space:pre;overflow-x:auto;line-height:normal;font-family:Menlo,'DejaVu Sans Mono',consolas,'Courier New',monospace\">┏━━━━━━━━━━━━━━━━━━━━━┳━━━━━━━━━━━━━━━━━━━┳━━━━━━━━━━━━┳━━━━━━━━━━━━━━━━━━━┓\n",
       "┃<span style=\"font-weight: bold\"> Layer (type)        </span>┃<span style=\"font-weight: bold\"> Output Shape      </span>┃<span style=\"font-weight: bold\">    Param # </span>┃<span style=\"font-weight: bold\"> Connected to      </span>┃\n",
       "┡━━━━━━━━━━━━━━━━━━━━━╇━━━━━━━━━━━━━━━━━━━╇━━━━━━━━━━━━╇━━━━━━━━━━━━━━━━━━━┩\n",
       "│ input_layer_4       │ (<span style=\"color: #00d7ff; text-decoration-color: #00d7ff\">None</span>, <span style=\"color: #00af00; text-decoration-color: #00af00\">300</span>)       │          <span style=\"color: #00af00; text-decoration-color: #00af00\">0</span> │ -                 │\n",
       "│ (<span style=\"color: #0087ff; text-decoration-color: #0087ff\">InputLayer</span>)        │                   │            │                   │\n",
       "├─────────────────────┼───────────────────┼────────────┼───────────────────┤\n",
       "│ input_layer_5       │ (<span style=\"color: #00d7ff; text-decoration-color: #00d7ff\">None</span>, <span style=\"color: #00af00; text-decoration-color: #00af00\">300</span>)       │          <span style=\"color: #00af00; text-decoration-color: #00af00\">0</span> │ -                 │\n",
       "│ (<span style=\"color: #0087ff; text-decoration-color: #0087ff\">InputLayer</span>)        │                   │            │                   │\n",
       "├─────────────────────┼───────────────────┼────────────┼───────────────────┤\n",
       "│ dense_6 (<span style=\"color: #0087ff; text-decoration-color: #0087ff\">Dense</span>)     │ (<span style=\"color: #00d7ff; text-decoration-color: #00d7ff\">None</span>, <span style=\"color: #00af00; text-decoration-color: #00af00\">300</span>)       │     <span style=\"color: #00af00; text-decoration-color: #00af00\">90,300</span> │ input_layer_4[<span style=\"color: #00af00; text-decoration-color: #00af00\">0</span>]… │\n",
       "│                     │                   │            │ input_layer_5[<span style=\"color: #00af00; text-decoration-color: #00af00\">0</span>]… │\n",
       "├─────────────────────┼───────────────────┼────────────┼───────────────────┤\n",
       "│ lambda_4 (<span style=\"color: #0087ff; text-decoration-color: #0087ff\">Lambda</span>)   │ (<span style=\"color: #00d7ff; text-decoration-color: #00d7ff\">None</span>, <span style=\"color: #00af00; text-decoration-color: #00af00\">300</span>)       │          <span style=\"color: #00af00; text-decoration-color: #00af00\">0</span> │ dense_6[<span style=\"color: #00af00; text-decoration-color: #00af00\">0</span>][<span style=\"color: #00af00; text-decoration-color: #00af00\">0</span>],    │\n",
       "│                     │                   │            │ dense_6[<span style=\"color: #00af00; text-decoration-color: #00af00\">1</span>][<span style=\"color: #00af00; text-decoration-color: #00af00\">0</span>]     │\n",
       "├─────────────────────┼───────────────────┼────────────┼───────────────────┤\n",
       "│ dropout_4 (<span style=\"color: #0087ff; text-decoration-color: #0087ff\">Dropout</span>) │ (<span style=\"color: #00d7ff; text-decoration-color: #00d7ff\">None</span>, <span style=\"color: #00af00; text-decoration-color: #00af00\">300</span>)       │          <span style=\"color: #00af00; text-decoration-color: #00af00\">0</span> │ lambda_4[<span style=\"color: #00af00; text-decoration-color: #00af00\">0</span>][<span style=\"color: #00af00; text-decoration-color: #00af00\">0</span>]    │\n",
       "├─────────────────────┼───────────────────┼────────────┼───────────────────┤\n",
       "│ dense_7 (<span style=\"color: #0087ff; text-decoration-color: #0087ff\">Dense</span>)     │ (<span style=\"color: #00d7ff; text-decoration-color: #00d7ff\">None</span>, <span style=\"color: #00af00; text-decoration-color: #00af00\">16</span>)        │      <span style=\"color: #00af00; text-decoration-color: #00af00\">4,816</span> │ dropout_4[<span style=\"color: #00af00; text-decoration-color: #00af00\">0</span>][<span style=\"color: #00af00; text-decoration-color: #00af00\">0</span>]   │\n",
       "├─────────────────────┼───────────────────┼────────────┼───────────────────┤\n",
       "│ dropout_5 (<span style=\"color: #0087ff; text-decoration-color: #0087ff\">Dropout</span>) │ (<span style=\"color: #00d7ff; text-decoration-color: #00d7ff\">None</span>, <span style=\"color: #00af00; text-decoration-color: #00af00\">16</span>)        │          <span style=\"color: #00af00; text-decoration-color: #00af00\">0</span> │ dense_7[<span style=\"color: #00af00; text-decoration-color: #00af00\">0</span>][<span style=\"color: #00af00; text-decoration-color: #00af00\">0</span>]     │\n",
       "├─────────────────────┼───────────────────┼────────────┼───────────────────┤\n",
       "│ dense_8 (<span style=\"color: #0087ff; text-decoration-color: #0087ff\">Dense</span>)     │ (<span style=\"color: #00d7ff; text-decoration-color: #00d7ff\">None</span>, <span style=\"color: #00af00; text-decoration-color: #00af00\">1</span>)         │         <span style=\"color: #00af00; text-decoration-color: #00af00\">17</span> │ dropout_5[<span style=\"color: #00af00; text-decoration-color: #00af00\">0</span>][<span style=\"color: #00af00; text-decoration-color: #00af00\">0</span>]   │\n",
       "├─────────────────────┼───────────────────┼────────────┼───────────────────┤\n",
       "│ lambda_5 (<span style=\"color: #0087ff; text-decoration-color: #0087ff\">Lambda</span>)   │ (<span style=\"color: #00d7ff; text-decoration-color: #00d7ff\">None</span>, <span style=\"color: #00af00; text-decoration-color: #00af00\">1</span>)         │          <span style=\"color: #00af00; text-decoration-color: #00af00\">0</span> │ dense_8[<span style=\"color: #00af00; text-decoration-color: #00af00\">0</span>][<span style=\"color: #00af00; text-decoration-color: #00af00\">0</span>]     │\n",
       "└─────────────────────┴───────────────────┴────────────┴───────────────────┘\n",
       "</pre>\n"
      ],
      "text/plain": [
       "┏━━━━━━━━━━━━━━━━━━━━━┳━━━━━━━━━━━━━━━━━━━┳━━━━━━━━━━━━┳━━━━━━━━━━━━━━━━━━━┓\n",
       "┃\u001b[1m \u001b[0m\u001b[1mLayer (type)       \u001b[0m\u001b[1m \u001b[0m┃\u001b[1m \u001b[0m\u001b[1mOutput Shape     \u001b[0m\u001b[1m \u001b[0m┃\u001b[1m \u001b[0m\u001b[1m   Param #\u001b[0m\u001b[1m \u001b[0m┃\u001b[1m \u001b[0m\u001b[1mConnected to     \u001b[0m\u001b[1m \u001b[0m┃\n",
       "┡━━━━━━━━━━━━━━━━━━━━━╇━━━━━━━━━━━━━━━━━━━╇━━━━━━━━━━━━╇━━━━━━━━━━━━━━━━━━━┩\n",
       "│ input_layer_4       │ (\u001b[38;5;45mNone\u001b[0m, \u001b[38;5;34m300\u001b[0m)       │          \u001b[38;5;34m0\u001b[0m │ -                 │\n",
       "│ (\u001b[38;5;33mInputLayer\u001b[0m)        │                   │            │                   │\n",
       "├─────────────────────┼───────────────────┼────────────┼───────────────────┤\n",
       "│ input_layer_5       │ (\u001b[38;5;45mNone\u001b[0m, \u001b[38;5;34m300\u001b[0m)       │          \u001b[38;5;34m0\u001b[0m │ -                 │\n",
       "│ (\u001b[38;5;33mInputLayer\u001b[0m)        │                   │            │                   │\n",
       "├─────────────────────┼───────────────────┼────────────┼───────────────────┤\n",
       "│ dense_6 (\u001b[38;5;33mDense\u001b[0m)     │ (\u001b[38;5;45mNone\u001b[0m, \u001b[38;5;34m300\u001b[0m)       │     \u001b[38;5;34m90,300\u001b[0m │ input_layer_4[\u001b[38;5;34m0\u001b[0m]… │\n",
       "│                     │                   │            │ input_layer_5[\u001b[38;5;34m0\u001b[0m]… │\n",
       "├─────────────────────┼───────────────────┼────────────┼───────────────────┤\n",
       "│ lambda_4 (\u001b[38;5;33mLambda\u001b[0m)   │ (\u001b[38;5;45mNone\u001b[0m, \u001b[38;5;34m300\u001b[0m)       │          \u001b[38;5;34m0\u001b[0m │ dense_6[\u001b[38;5;34m0\u001b[0m][\u001b[38;5;34m0\u001b[0m],    │\n",
       "│                     │                   │            │ dense_6[\u001b[38;5;34m1\u001b[0m][\u001b[38;5;34m0\u001b[0m]     │\n",
       "├─────────────────────┼───────────────────┼────────────┼───────────────────┤\n",
       "│ dropout_4 (\u001b[38;5;33mDropout\u001b[0m) │ (\u001b[38;5;45mNone\u001b[0m, \u001b[38;5;34m300\u001b[0m)       │          \u001b[38;5;34m0\u001b[0m │ lambda_4[\u001b[38;5;34m0\u001b[0m][\u001b[38;5;34m0\u001b[0m]    │\n",
       "├─────────────────────┼───────────────────┼────────────┼───────────────────┤\n",
       "│ dense_7 (\u001b[38;5;33mDense\u001b[0m)     │ (\u001b[38;5;45mNone\u001b[0m, \u001b[38;5;34m16\u001b[0m)        │      \u001b[38;5;34m4,816\u001b[0m │ dropout_4[\u001b[38;5;34m0\u001b[0m][\u001b[38;5;34m0\u001b[0m]   │\n",
       "├─────────────────────┼───────────────────┼────────────┼───────────────────┤\n",
       "│ dropout_5 (\u001b[38;5;33mDropout\u001b[0m) │ (\u001b[38;5;45mNone\u001b[0m, \u001b[38;5;34m16\u001b[0m)        │          \u001b[38;5;34m0\u001b[0m │ dense_7[\u001b[38;5;34m0\u001b[0m][\u001b[38;5;34m0\u001b[0m]     │\n",
       "├─────────────────────┼───────────────────┼────────────┼───────────────────┤\n",
       "│ dense_8 (\u001b[38;5;33mDense\u001b[0m)     │ (\u001b[38;5;45mNone\u001b[0m, \u001b[38;5;34m1\u001b[0m)         │         \u001b[38;5;34m17\u001b[0m │ dropout_5[\u001b[38;5;34m0\u001b[0m][\u001b[38;5;34m0\u001b[0m]   │\n",
       "├─────────────────────┼───────────────────┼────────────┼───────────────────┤\n",
       "│ lambda_5 (\u001b[38;5;33mLambda\u001b[0m)   │ (\u001b[38;5;45mNone\u001b[0m, \u001b[38;5;34m1\u001b[0m)         │          \u001b[38;5;34m0\u001b[0m │ dense_8[\u001b[38;5;34m0\u001b[0m][\u001b[38;5;34m0\u001b[0m]     │\n",
       "└─────────────────────┴───────────────────┴────────────┴───────────────────┘\n"
      ]
     },
     "metadata": {},
     "output_type": "display_data"
    },
    {
     "data": {
      "text/html": [
       "<pre style=\"white-space:pre;overflow-x:auto;line-height:normal;font-family:Menlo,'DejaVu Sans Mono',consolas,'Courier New',monospace\"><span style=\"font-weight: bold\"> Total params: </span><span style=\"color: #00af00; text-decoration-color: #00af00\">95,133</span> (371.61 KB)\n",
       "</pre>\n"
      ],
      "text/plain": [
       "\u001b[1m Total params: \u001b[0m\u001b[38;5;34m95,133\u001b[0m (371.61 KB)\n"
      ]
     },
     "metadata": {},
     "output_type": "display_data"
    },
    {
     "data": {
      "text/html": [
       "<pre style=\"white-space:pre;overflow-x:auto;line-height:normal;font-family:Menlo,'DejaVu Sans Mono',consolas,'Courier New',monospace\"><span style=\"font-weight: bold\"> Trainable params: </span><span style=\"color: #00af00; text-decoration-color: #00af00\">95,133</span> (371.61 KB)\n",
       "</pre>\n"
      ],
      "text/plain": [
       "\u001b[1m Trainable params: \u001b[0m\u001b[38;5;34m95,133\u001b[0m (371.61 KB)\n"
      ]
     },
     "metadata": {},
     "output_type": "display_data"
    },
    {
     "data": {
      "text/html": [
       "<pre style=\"white-space:pre;overflow-x:auto;line-height:normal;font-family:Menlo,'DejaVu Sans Mono',consolas,'Courier New',monospace\"><span style=\"font-weight: bold\"> Non-trainable params: </span><span style=\"color: #00af00; text-decoration-color: #00af00\">0</span> (0.00 B)\n",
       "</pre>\n"
      ],
      "text/plain": [
       "\u001b[1m Non-trainable params: \u001b[0m\u001b[38;5;34m0\u001b[0m (0.00 B)\n"
      ]
     },
     "metadata": {},
     "output_type": "display_data"
    },
    {
     "name": "stdout",
     "output_type": "stream",
     "text": [
      "None\n"
     ]
    }
   ],
   "source": [
    "embedding_size_w2v_tfidf = 300\n",
    "model_w2v_tfidf = build_and_compile_model_better(embedding_size = embedding_size_w2v_tfidf)\n",
    "tf.keras.utils.plot_model(model_w2v_tfidf, show_shapes=True, show_layer_activations=True)\n",
    "print(model_w2v_tfidf.summary())"
   ]
  },
  {
   "cell_type": "code",
   "execution_count": 38,
   "metadata": {},
   "outputs": [
    {
     "name": "stdout",
     "output_type": "stream",
     "text": [
      "Epoch 1/64\n",
      "\u001b[1m32/32\u001b[0m \u001b[32m━━━━━━━━━━━━━━━━━━━━\u001b[0m\u001b[37m\u001b[0m \u001b[1m1s\u001b[0m 6ms/step - loss: 0.7237 - val_loss: 0.7331\n",
      "Epoch 2/64\n",
      "\u001b[1m32/32\u001b[0m \u001b[32m━━━━━━━━━━━━━━━━━━━━\u001b[0m\u001b[37m\u001b[0m \u001b[1m0s\u001b[0m 2ms/step - loss: 0.7044 - val_loss: 0.7138\n",
      "Epoch 3/64\n",
      "\u001b[1m32/32\u001b[0m \u001b[32m━━━━━━━━━━━━━━━━━━━━\u001b[0m\u001b[37m\u001b[0m \u001b[1m0s\u001b[0m 2ms/step - loss: 0.6845 - val_loss: 0.6952\n",
      "Epoch 4/64\n",
      "\u001b[1m32/32\u001b[0m \u001b[32m━━━━━━━━━━━━━━━━━━━━\u001b[0m\u001b[37m\u001b[0m \u001b[1m0s\u001b[0m 2ms/step - loss: 0.6526 - val_loss: 0.6786\n",
      "Epoch 5/64\n",
      "\u001b[1m32/32\u001b[0m \u001b[32m━━━━━━━━━━━━━━━━━━━━\u001b[0m\u001b[37m\u001b[0m \u001b[1m0s\u001b[0m 2ms/step - loss: 0.5968 - val_loss: 0.6575\n",
      "Epoch 6/64\n",
      "\u001b[1m32/32\u001b[0m \u001b[32m━━━━━━━━━━━━━━━━━━━━\u001b[0m\u001b[37m\u001b[0m \u001b[1m0s\u001b[0m 2ms/step - loss: 0.5353 - val_loss: 0.6407\n",
      "Epoch 7/64\n",
      "\u001b[1m32/32\u001b[0m \u001b[32m━━━━━━━━━━━━━━━━━━━━\u001b[0m\u001b[37m\u001b[0m \u001b[1m73s\u001b[0m 2s/step - loss: 0.4614 - val_loss: 0.6273\n",
      "Epoch 8/64\n",
      "\u001b[1m32/32\u001b[0m \u001b[32m━━━━━━━━━━━━━━━━━━━━\u001b[0m\u001b[37m\u001b[0m \u001b[1m0s\u001b[0m 2ms/step - loss: 0.3655 - val_loss: 0.6120\n",
      "Epoch 9/64\n",
      "\u001b[1m32/32\u001b[0m \u001b[32m━━━━━━━━━━━━━━━━━━━━\u001b[0m\u001b[37m\u001b[0m \u001b[1m0s\u001b[0m 2ms/step - loss: 0.3054 - val_loss: 0.6038\n",
      "Epoch 10/64\n",
      "\u001b[1m32/32\u001b[0m \u001b[32m━━━━━━━━━━━━━━━━━━━━\u001b[0m\u001b[37m\u001b[0m \u001b[1m0s\u001b[0m 2ms/step - loss: 0.2406 - val_loss: 0.6109\n",
      "Epoch 11/64\n",
      "\u001b[1m32/32\u001b[0m \u001b[32m━━━━━━━━━━━━━━━━━━━━\u001b[0m\u001b[37m\u001b[0m \u001b[1m0s\u001b[0m 7ms/step - loss: 0.2064 - val_loss: 0.6009\n",
      "Epoch 12/64\n",
      "\u001b[1m32/32\u001b[0m \u001b[32m━━━━━━━━━━━━━━━━━━━━\u001b[0m\u001b[37m\u001b[0m \u001b[1m0s\u001b[0m 3ms/step - loss: 0.1758 - val_loss: 0.6032\n",
      "Epoch 13/64\n",
      "\u001b[1m32/32\u001b[0m \u001b[32m━━━━━━━━━━━━━━━━━━━━\u001b[0m\u001b[37m\u001b[0m \u001b[1m0s\u001b[0m 4ms/step - loss: 0.1530 - val_loss: 0.6158\n",
      "Epoch 14/64\n",
      "\u001b[1m32/32\u001b[0m \u001b[32m━━━━━━━━━━━━━━━━━━━━\u001b[0m\u001b[37m\u001b[0m \u001b[1m0s\u001b[0m 2ms/step - loss: 0.1425 - val_loss: 0.6100\n",
      "Epoch 15/64\n",
      "\u001b[1m32/32\u001b[0m \u001b[32m━━━━━━━━━━━━━━━━━━━━\u001b[0m\u001b[37m\u001b[0m \u001b[1m0s\u001b[0m 2ms/step - loss: 0.1275 - val_loss: 0.6183\n",
      "Epoch 16/64\n",
      "\u001b[1m32/32\u001b[0m \u001b[32m━━━━━━━━━━━━━━━━━━━━\u001b[0m\u001b[37m\u001b[0m \u001b[1m0s\u001b[0m 2ms/step - loss: 0.1216 - val_loss: 0.6330\n",
      "Epoch 17/64\n",
      "\u001b[1m32/32\u001b[0m \u001b[32m━━━━━━━━━━━━━━━━━━━━\u001b[0m\u001b[37m\u001b[0m \u001b[1m0s\u001b[0m 2ms/step - loss: 0.1165 - val_loss: 0.6325\n",
      "Epoch 18/64\n",
      "\u001b[1m32/32\u001b[0m \u001b[32m━━━━━━━━━━━━━━━━━━━━\u001b[0m\u001b[37m\u001b[0m \u001b[1m0s\u001b[0m 2ms/step - loss: 0.1111 - val_loss: 0.6497\n",
      "Epoch 19/64\n",
      "\u001b[1m32/32\u001b[0m \u001b[32m━━━━━━━━━━━━━━━━━━━━\u001b[0m\u001b[37m\u001b[0m \u001b[1m0s\u001b[0m 2ms/step - loss: 0.1182 - val_loss: 0.6540\n",
      "Epoch 20/64\n",
      "\u001b[1m32/32\u001b[0m \u001b[32m━━━━━━━━━━━━━━━━━━━━\u001b[0m\u001b[37m\u001b[0m \u001b[1m0s\u001b[0m 2ms/step - loss: 0.1175 - val_loss: 0.6430\n",
      "Epoch 21/64\n",
      "\u001b[1m32/32\u001b[0m \u001b[32m━━━━━━━━━━━━━━━━━━━━\u001b[0m\u001b[37m\u001b[0m \u001b[1m0s\u001b[0m 2ms/step - loss: 0.1164 - val_loss: 0.6416\n",
      "Epoch 22/64\n",
      "\u001b[1m32/32\u001b[0m \u001b[32m━━━━━━━━━━━━━━━━━━━━\u001b[0m\u001b[37m\u001b[0m \u001b[1m0s\u001b[0m 2ms/step - loss: 0.1229 - val_loss: 0.6274\n",
      "Epoch 23/64\n",
      "\u001b[1m32/32\u001b[0m \u001b[32m━━━━━━━━━━━━━━━━━━━━\u001b[0m\u001b[37m\u001b[0m \u001b[1m0s\u001b[0m 4ms/step - loss: 0.1076 - val_loss: 0.6299\n",
      "Epoch 24/64\n",
      "\u001b[1m32/32\u001b[0m \u001b[32m━━━━━━━━━━━━━━━━━━━━\u001b[0m\u001b[37m\u001b[0m \u001b[1m0s\u001b[0m 11ms/step - loss: 0.0856 - val_loss: 0.6430\n",
      "Epoch 25/64\n",
      "\u001b[1m32/32\u001b[0m \u001b[32m━━━━━━━━━━━━━━━━━━━━\u001b[0m\u001b[37m\u001b[0m \u001b[1m0s\u001b[0m 3ms/step - loss: 0.0884 - val_loss: 0.6254\n",
      "Epoch 26/64\n",
      "\u001b[1m32/32\u001b[0m \u001b[32m━━━━━━━━━━━━━━━━━━━━\u001b[0m\u001b[37m\u001b[0m \u001b[1m0s\u001b[0m 2ms/step - loss: 0.0825 - val_loss: 0.6131\n",
      "Epoch 27/64\n",
      "\u001b[1m32/32\u001b[0m \u001b[32m━━━━━━━━━━━━━━━━━━━━\u001b[0m\u001b[37m\u001b[0m \u001b[1m0s\u001b[0m 2ms/step - loss: 0.0804 - val_loss: 0.6248\n",
      "Epoch 28/64\n",
      "\u001b[1m32/32\u001b[0m \u001b[32m━━━━━━━━━━━━━━━━━━━━\u001b[0m\u001b[37m\u001b[0m \u001b[1m0s\u001b[0m 2ms/step - loss: 0.0789 - val_loss: 0.6216\n",
      "Epoch 29/64\n",
      "\u001b[1m32/32\u001b[0m \u001b[32m━━━━━━━━━━━━━━━━━━━━\u001b[0m\u001b[37m\u001b[0m \u001b[1m0s\u001b[0m 2ms/step - loss: 0.0811 - val_loss: 0.6210\n",
      "Epoch 30/64\n",
      "\u001b[1m32/32\u001b[0m \u001b[32m━━━━━━━━━━━━━━━━━━━━\u001b[0m\u001b[37m\u001b[0m \u001b[1m0s\u001b[0m 2ms/step - loss: 0.0745 - val_loss: 0.6180\n",
      "Epoch 31/64\n",
      "\u001b[1m32/32\u001b[0m \u001b[32m━━━━━━━━━━━━━━━━━━━━\u001b[0m\u001b[37m\u001b[0m \u001b[1m0s\u001b[0m 9ms/step - loss: 0.0779 - val_loss: 0.6266\n",
      "Epoch 32/64\n",
      "\u001b[1m32/32\u001b[0m \u001b[32m━━━━━━━━━━━━━━━━━━━━\u001b[0m\u001b[37m\u001b[0m \u001b[1m0s\u001b[0m 2ms/step - loss: 0.0684 - val_loss: 0.6183\n",
      "Epoch 33/64\n",
      "\u001b[1m32/32\u001b[0m \u001b[32m━━━━━━━━━━━━━━━━━━━━\u001b[0m\u001b[37m\u001b[0m \u001b[1m0s\u001b[0m 2ms/step - loss: 0.0674 - val_loss: 0.6179\n",
      "Epoch 34/64\n",
      "\u001b[1m32/32\u001b[0m \u001b[32m━━━━━━━━━━━━━━━━━━━━\u001b[0m\u001b[37m\u001b[0m \u001b[1m0s\u001b[0m 2ms/step - loss: 0.0688 - val_loss: 0.6174\n",
      "Epoch 35/64\n",
      "\u001b[1m32/32\u001b[0m \u001b[32m━━━━━━━━━━━━━━━━━━━━\u001b[0m\u001b[37m\u001b[0m \u001b[1m0s\u001b[0m 2ms/step - loss: 0.0641 - val_loss: 0.6266\n",
      "Epoch 36/64\n",
      "\u001b[1m32/32\u001b[0m \u001b[32m━━━━━━━━━━━━━━━━━━━━\u001b[0m\u001b[37m\u001b[0m \u001b[1m0s\u001b[0m 3ms/step - loss: 0.0643 - val_loss: 0.6282\n",
      "Epoch 37/64\n",
      "\u001b[1m32/32\u001b[0m \u001b[32m━━━━━━━━━━━━━━━━━━━━\u001b[0m\u001b[37m\u001b[0m \u001b[1m0s\u001b[0m 2ms/step - loss: 0.0666 - val_loss: 0.6259\n",
      "Epoch 38/64\n",
      "\u001b[1m32/32\u001b[0m \u001b[32m━━━━━━━━━━━━━━━━━━━━\u001b[0m\u001b[37m\u001b[0m \u001b[1m0s\u001b[0m 2ms/step - loss: 0.0600 - val_loss: 0.6227\n",
      "Epoch 39/64\n",
      "\u001b[1m32/32\u001b[0m \u001b[32m━━━━━━━━━━━━━━━━━━━━\u001b[0m\u001b[37m\u001b[0m \u001b[1m0s\u001b[0m 2ms/step - loss: 0.0569 - val_loss: 0.6373\n",
      "Epoch 40/64\n",
      "\u001b[1m32/32\u001b[0m \u001b[32m━━━━━━━━━━━━━━━━━━━━\u001b[0m\u001b[37m\u001b[0m \u001b[1m0s\u001b[0m 2ms/step - loss: 0.0607 - val_loss: 0.6433\n",
      "Epoch 41/64\n",
      "\u001b[1m32/32\u001b[0m \u001b[32m━━━━━━━━━━━━━━━━━━━━\u001b[0m\u001b[37m\u001b[0m \u001b[1m0s\u001b[0m 2ms/step - loss: 0.0647 - val_loss: 0.6270\n",
      "Epoch 42/64\n",
      "\u001b[1m32/32\u001b[0m \u001b[32m━━━━━━━━━━━━━━━━━━━━\u001b[0m\u001b[37m\u001b[0m \u001b[1m0s\u001b[0m 2ms/step - loss: 0.0615 - val_loss: 0.6282\n",
      "Epoch 43/64\n",
      "\u001b[1m32/32\u001b[0m \u001b[32m━━━━━━━━━━━━━━━━━━━━\u001b[0m\u001b[37m\u001b[0m \u001b[1m0s\u001b[0m 2ms/step - loss: 0.0636 - val_loss: 0.6320\n",
      "Epoch 44/64\n",
      "\u001b[1m32/32\u001b[0m \u001b[32m━━━━━━━━━━━━━━━━━━━━\u001b[0m\u001b[37m\u001b[0m \u001b[1m0s\u001b[0m 2ms/step - loss: 0.0504 - val_loss: 0.6212\n",
      "Epoch 45/64\n",
      "\u001b[1m32/32\u001b[0m \u001b[32m━━━━━━━━━━━━━━━━━━━━\u001b[0m\u001b[37m\u001b[0m \u001b[1m0s\u001b[0m 2ms/step - loss: 0.0585 - val_loss: 0.6239\n",
      "Epoch 46/64\n",
      "\u001b[1m32/32\u001b[0m \u001b[32m━━━━━━━━━━━━━━━━━━━━\u001b[0m\u001b[37m\u001b[0m \u001b[1m0s\u001b[0m 2ms/step - loss: 0.0646 - val_loss: 0.6323\n",
      "Epoch 47/64\n",
      "\u001b[1m32/32\u001b[0m \u001b[32m━━━━━━━━━━━━━━━━━━━━\u001b[0m\u001b[37m\u001b[0m \u001b[1m0s\u001b[0m 2ms/step - loss: 0.0620 - val_loss: 0.6326\n",
      "Epoch 48/64\n",
      "\u001b[1m32/32\u001b[0m \u001b[32m━━━━━━━━━━━━━━━━━━━━\u001b[0m\u001b[37m\u001b[0m \u001b[1m0s\u001b[0m 3ms/step - loss: 0.0671 - val_loss: 0.6530\n",
      "Epoch 49/64\n",
      "\u001b[1m32/32\u001b[0m \u001b[32m━━━━━━━━━━━━━━━━━━━━\u001b[0m\u001b[37m\u001b[0m \u001b[1m0s\u001b[0m 3ms/step - loss: 0.0593 - val_loss: 0.6617\n",
      "Epoch 50/64\n",
      "\u001b[1m32/32\u001b[0m \u001b[32m━━━━━━━━━━━━━━━━━━━━\u001b[0m\u001b[37m\u001b[0m \u001b[1m0s\u001b[0m 2ms/step - loss: 0.0650 - val_loss: 0.6489\n",
      "Epoch 51/64\n",
      "\u001b[1m32/32\u001b[0m \u001b[32m━━━━━━━━━━━━━━━━━━━━\u001b[0m\u001b[37m\u001b[0m \u001b[1m0s\u001b[0m 2ms/step - loss: 0.0571 - val_loss: 0.6598\n",
      "Epoch 52/64\n",
      "\u001b[1m32/32\u001b[0m \u001b[32m━━━━━━━━━━━━━━━━━━━━\u001b[0m\u001b[37m\u001b[0m \u001b[1m0s\u001b[0m 2ms/step - loss: 0.0612 - val_loss: 0.6816\n",
      "Epoch 53/64\n",
      "\u001b[1m32/32\u001b[0m \u001b[32m━━━━━━━━━━━━━━━━━━━━\u001b[0m\u001b[37m\u001b[0m \u001b[1m0s\u001b[0m 2ms/step - loss: 0.0679 - val_loss: 0.6436\n",
      "Epoch 54/64\n",
      "\u001b[1m32/32\u001b[0m \u001b[32m━━━━━━━━━━━━━━━━━━━━\u001b[0m\u001b[37m\u001b[0m \u001b[1m0s\u001b[0m 2ms/step - loss: 0.0634 - val_loss: 0.6392\n",
      "Epoch 55/64\n",
      "\u001b[1m32/32\u001b[0m \u001b[32m━━━━━━━━━━━━━━━━━━━━\u001b[0m\u001b[37m\u001b[0m \u001b[1m0s\u001b[0m 2ms/step - loss: 0.0612 - val_loss: 0.6551\n",
      "Epoch 56/64\n",
      "\u001b[1m32/32\u001b[0m \u001b[32m━━━━━━━━━━━━━━━━━━━━\u001b[0m\u001b[37m\u001b[0m \u001b[1m0s\u001b[0m 2ms/step - loss: 0.0596 - val_loss: 0.6473\n",
      "Epoch 57/64\n",
      "\u001b[1m32/32\u001b[0m \u001b[32m━━━━━━━━━━━━━━━━━━━━\u001b[0m\u001b[37m\u001b[0m \u001b[1m0s\u001b[0m 2ms/step - loss: 0.0602 - val_loss: 0.6630\n",
      "Epoch 58/64\n",
      "\u001b[1m32/32\u001b[0m \u001b[32m━━━━━━━━━━━━━━━━━━━━\u001b[0m\u001b[37m\u001b[0m \u001b[1m0s\u001b[0m 2ms/step - loss: 0.0669 - val_loss: 0.6819\n",
      "Epoch 59/64\n",
      "\u001b[1m32/32\u001b[0m \u001b[32m━━━━━━━━━━━━━━━━━━━━\u001b[0m\u001b[37m\u001b[0m \u001b[1m0s\u001b[0m 2ms/step - loss: 0.0671 - val_loss: 0.6873\n",
      "Epoch 60/64\n",
      "\u001b[1m32/32\u001b[0m \u001b[32m━━━━━━━━━━━━━━━━━━━━\u001b[0m\u001b[37m\u001b[0m \u001b[1m0s\u001b[0m 2ms/step - loss: 0.0670 - val_loss: 0.6570\n",
      "Epoch 61/64\n",
      "\u001b[1m32/32\u001b[0m \u001b[32m━━━━━━━━━━━━━━━━━━━━\u001b[0m\u001b[37m\u001b[0m \u001b[1m0s\u001b[0m 2ms/step - loss: 0.0656 - val_loss: 0.6619\n",
      "Epoch 62/64\n",
      "\u001b[1m32/32\u001b[0m \u001b[32m━━━━━━━━━━━━━━━━━━━━\u001b[0m\u001b[37m\u001b[0m \u001b[1m0s\u001b[0m 2ms/step - loss: 0.0633 - val_loss: 0.6515\n",
      "Epoch 63/64\n",
      "\u001b[1m32/32\u001b[0m \u001b[32m━━━━━━━━━━━━━━━━━━━━\u001b[0m\u001b[37m\u001b[0m \u001b[1m0s\u001b[0m 2ms/step - loss: 0.0592 - val_loss: 0.6357\n",
      "Epoch 64/64\n",
      "\u001b[1m32/32\u001b[0m \u001b[32m━━━━━━━━━━━━━━━━━━━━\u001b[0m\u001b[37m\u001b[0m \u001b[1m0s\u001b[0m 2ms/step - loss: 0.0517 - val_loss: 0.6202\n"
     ]
    },
    {
     "data": {
      "text/plain": [
       "<keras.src.callbacks.history.History at 0x2220baad450>"
      ]
     },
     "execution_count": 38,
     "metadata": {},
     "output_type": "execute_result"
    }
   ],
   "source": [
    "model_w2v_tfidf.fit(train_dataset_w2v_tfidf, epochs=num_epochs_w2v_tfidf, validation_data=val_dataset_w2v_tfidf)"
   ]
  },
  {
   "cell_type": "markdown",
   "metadata": {},
   "source": [
    "Evaluem el model amb la partició de validació"
   ]
  },
  {
   "cell_type": "code",
   "execution_count": 39,
   "metadata": {},
   "outputs": [
    {
     "name": "stdout",
     "output_type": "stream",
     "text": [
      "\u001b[1m64/64\u001b[0m \u001b[32m━━━━━━━━━━━━━━━━━━━━\u001b[0m\u001b[37m\u001b[0m \u001b[1m0s\u001b[0m 4ms/step\n",
      "Correlación de Pearson (train): 0.9820791386506129\n",
      "\u001b[1m16/16\u001b[0m \u001b[32m━━━━━━━━━━━━━━━━━━━━\u001b[0m\u001b[37m\u001b[0m \u001b[1m0s\u001b[0m 1ms/step \n",
      "Correlación de Pearson (validation): 0.4493208160812024\n"
     ]
    }
   ],
   "source": [
    "print(f\"Correlación de Pearson (train): {compute_pearson(model_w2v_tfidf, x_train_w2v_tfidf, y_train_w2v_tfidf)}\")\n",
    "print(f\"Correlación de Pearson (validation): {compute_pearson(model_w2v_tfidf, x_val_w2v_tfidf, y_val_w2v_tfidf)}\")"
   ]
  },
  {
   "cell_type": "markdown",
   "metadata": {},
   "source": [
    "Provem el model amb la partició de test"
   ]
  },
  {
   "cell_type": "code",
   "execution_count": 40,
   "metadata": {},
   "outputs": [
    {
     "name": "stdout",
     "output_type": "stream",
     "text": [
      "\u001b[1m16/16\u001b[0m \u001b[32m━━━━━━━━━━━━━━━━━━━━\u001b[0m\u001b[37m\u001b[0m \u001b[1m0s\u001b[0m 1ms/step \n",
      "Correlación de Pearson (test): 0.3920015809377678\n"
     ]
    }
   ],
   "source": [
    "print(f\"Correlación de Pearson (test): {compute_pearson(model_w2v_tfidf, x_test_w2v_tfidf, y_test_w2v_tfidf)}\")"
   ]
  },
  {
   "cell_type": "markdown",
   "metadata": {},
   "source": [
    "##### Conclusions vectors preentrenats amb Tf-idf"
   ]
  },
  {
   "cell_type": "markdown",
   "metadata": {},
   "source": [
    "Podem observar com, fent us de Tf-idf, el model millora una mica més. Això és degut a que Tf-idf té en compte la freqüència de les paraules en el corpus, i això fa que les paraules que apareixen molt sovint tinguin un pes més baix. Això fa que el model sigui capaç de generalitzar millor. Tot i així el model segueix sobreajustant"
   ]
  },
  {
   "cell_type": "markdown",
   "metadata": {},
   "source": [
    "#### 3. SpaCy"
   ]
  },
  {
   "cell_type": "markdown",
   "metadata": {},
   "source": [
    "Importem tot allò necessari per a fer servir el model de SpaCy en català, inclòs el model preentrenat."
   ]
  },
  {
   "cell_type": "code",
   "execution_count": 41,
   "metadata": {},
   "outputs": [],
   "source": [
    "import spacy\n",
    "from spacy_embed import map_spacy_embed"
   ]
  },
  {
   "cell_type": "code",
   "execution_count": 42,
   "metadata": {},
   "outputs": [
    {
     "name": "stdout",
     "output_type": "stream",
     "text": [
      "Collecting ca-core-news-md==3.7.0\n",
      "  Downloading https://github.com/explosion/spacy-models/releases/download/ca_core_news_md-3.7.0/ca_core_news_md-3.7.0-py3-none-any.whl (49.2 MB)\n",
      "     ---------------------------------------- 0.0/49.2 MB ? eta -:--:--\n",
      "     ---------------------------------------- 0.6/49.2 MB 13.1 MB/s eta 0:00:04\n",
      "      --------------------------------------- 1.1/49.2 MB 12.0 MB/s eta 0:00:05\n",
      "     - -------------------------------------- 1.8/49.2 MB 12.4 MB/s eta 0:00:04\n",
      "     -- ------------------------------------- 2.5/49.2 MB 13.3 MB/s eta 0:00:04\n",
      "     -- ------------------------------------- 3.4/49.2 MB 14.7 MB/s eta 0:00:04\n",
      "     --- ------------------------------------ 4.5/49.2 MB 16.8 MB/s eta 0:00:03\n",
      "     ---- ----------------------------------- 5.7/49.2 MB 18.4 MB/s eta 0:00:03\n",
      "     ------ --------------------------------- 7.4/49.2 MB 19.7 MB/s eta 0:00:03\n",
      "     ------- -------------------------------- 9.2/49.2 MB 22.7 MB/s eta 0:00:02\n",
      "     --------- ----------------------------- 11.7/49.2 MB 28.5 MB/s eta 0:00:02\n",
      "     ----------- --------------------------- 14.2/49.2 MB 38.6 MB/s eta 0:00:01\n",
      "     -------------- ------------------------ 17.8/49.2 MB 54.7 MB/s eta 0:00:01\n",
      "     ----------------- --------------------- 22.1/49.2 MB 72.6 MB/s eta 0:00:01\n",
      "     -------------------- ------------------ 25.4/49.2 MB 65.6 MB/s eta 0:00:01\n",
      "     ------------------------ -------------- 30.6/49.2 MB 81.8 MB/s eta 0:00:01\n",
      "     --------------------------- ---------- 35.6/49.2 MB 129.5 MB/s eta 0:00:01\n",
      "     -------------------------------- ------ 40.5/49.2 MB 93.9 MB/s eta 0:00:01\n",
      "     ----------------------------------- -- 46.1/49.2 MB 131.2 MB/s eta 0:00:01\n",
      "     -------------------------------------  49.2/49.2 MB 129.5 MB/s eta 0:00:01\n",
      "     -------------------------------------  49.2/49.2 MB 129.5 MB/s eta 0:00:01\n",
      "     -------------------------------------  49.2/49.2 MB 129.5 MB/s eta 0:00:01\n",
      "     -------------------------------------  49.2/49.2 MB 129.5 MB/s eta 0:00:01\n",
      "     -------------------------------------  49.2/49.2 MB 129.5 MB/s eta 0:00:01\n",
      "     -------------------------------------  49.2/49.2 MB 129.5 MB/s eta 0:00:01\n",
      "     -------------------------------------  49.2/49.2 MB 129.5 MB/s eta 0:00:01\n",
      "     -------------------------------------  49.2/49.2 MB 129.5 MB/s eta 0:00:01\n",
      "     -------------------------------------  49.2/49.2 MB 129.5 MB/s eta 0:00:01\n",
      "     -------------------------------------  49.2/49.2 MB 129.5 MB/s eta 0:00:01\n",
      "     -------------------------------------  49.2/49.2 MB 129.5 MB/s eta 0:00:01\n",
      "     -------------------------------------  49.2/49.2 MB 129.5 MB/s eta 0:00:01\n",
      "     -------------------------------------  49.2/49.2 MB 129.5 MB/s eta 0:00:01\n",
      "     -------------------------------------  49.2/49.2 MB 129.5 MB/s eta 0:00:01\n",
      "     -------------------------------------  49.2/49.2 MB 129.5 MB/s eta 0:00:01\n",
      "     -------------------------------------  49.2/49.2 MB 129.5 MB/s eta 0:00:01\n",
      "     -------------------------------------  49.2/49.2 MB 129.5 MB/s eta 0:00:01\n",
      "     -------------------------------------  49.2/49.2 MB 129.5 MB/s eta 0:00:01\n",
      "     -------------------------------------  49.2/49.2 MB 129.5 MB/s eta 0:00:01\n",
      "     -------------------------------------  49.2/49.2 MB 129.5 MB/s eta 0:00:01\n",
      "     -------------------------------------  49.2/49.2 MB 129.5 MB/s eta 0:00:01\n",
      "     -------------------------------------  49.2/49.2 MB 129.5 MB/s eta 0:00:01\n",
      "     ---------------------------------------- 49.2/49.2 MB 9.2 MB/s eta 0:00:00\n",
      "Requirement already satisfied: spacy<3.8.0,>=3.7.0 in c:\\users\\ralva\\desktop\\university\\4t-cuatrimestre-gia\\plh\\plh-wordembeddings\\wordembeddings\\lib\\site-packages (from ca-core-news-md==3.7.0) (3.7.4)\n",
      "Requirement already satisfied: spacy-legacy<3.1.0,>=3.0.11 in c:\\users\\ralva\\desktop\\university\\4t-cuatrimestre-gia\\plh\\plh-wordembeddings\\wordembeddings\\lib\\site-packages (from spacy<3.8.0,>=3.7.0->ca-core-news-md==3.7.0) (3.0.12)\n",
      "Requirement already satisfied: spacy-loggers<2.0.0,>=1.0.0 in c:\\users\\ralva\\desktop\\university\\4t-cuatrimestre-gia\\plh\\plh-wordembeddings\\wordembeddings\\lib\\site-packages (from spacy<3.8.0,>=3.7.0->ca-core-news-md==3.7.0) (1.0.5)\n",
      "Requirement already satisfied: murmurhash<1.1.0,>=0.28.0 in c:\\users\\ralva\\desktop\\university\\4t-cuatrimestre-gia\\plh\\plh-wordembeddings\\wordembeddings\\lib\\site-packages (from spacy<3.8.0,>=3.7.0->ca-core-news-md==3.7.0) (1.0.10)\n",
      "Requirement already satisfied: cymem<2.1.0,>=2.0.2 in c:\\users\\ralva\\desktop\\university\\4t-cuatrimestre-gia\\plh\\plh-wordembeddings\\wordembeddings\\lib\\site-packages (from spacy<3.8.0,>=3.7.0->ca-core-news-md==3.7.0) (2.0.8)\n",
      "Requirement already satisfied: preshed<3.1.0,>=3.0.2 in c:\\users\\ralva\\desktop\\university\\4t-cuatrimestre-gia\\plh\\plh-wordembeddings\\wordembeddings\\lib\\site-packages (from spacy<3.8.0,>=3.7.0->ca-core-news-md==3.7.0) (3.0.9)\n",
      "Requirement already satisfied: thinc<8.3.0,>=8.2.2 in c:\\users\\ralva\\desktop\\university\\4t-cuatrimestre-gia\\plh\\plh-wordembeddings\\wordembeddings\\lib\\site-packages (from spacy<3.8.0,>=3.7.0->ca-core-news-md==3.7.0) (8.2.3)\n",
      "Requirement already satisfied: wasabi<1.2.0,>=0.9.1 in c:\\users\\ralva\\desktop\\university\\4t-cuatrimestre-gia\\plh\\plh-wordembeddings\\wordembeddings\\lib\\site-packages (from spacy<3.8.0,>=3.7.0->ca-core-news-md==3.7.0) (1.1.2)\n",
      "Requirement already satisfied: srsly<3.0.0,>=2.4.3 in c:\\users\\ralva\\desktop\\university\\4t-cuatrimestre-gia\\plh\\plh-wordembeddings\\wordembeddings\\lib\\site-packages (from spacy<3.8.0,>=3.7.0->ca-core-news-md==3.7.0) (2.4.8)\n",
      "Requirement already satisfied: catalogue<2.1.0,>=2.0.6 in c:\\users\\ralva\\desktop\\university\\4t-cuatrimestre-gia\\plh\\plh-wordembeddings\\wordembeddings\\lib\\site-packages (from spacy<3.8.0,>=3.7.0->ca-core-news-md==3.7.0) (2.0.10)\n",
      "Requirement already satisfied: weasel<0.4.0,>=0.1.0 in c:\\users\\ralva\\desktop\\university\\4t-cuatrimestre-gia\\plh\\plh-wordembeddings\\wordembeddings\\lib\\site-packages (from spacy<3.8.0,>=3.7.0->ca-core-news-md==3.7.0) (0.3.4)\n",
      "Requirement already satisfied: typer<0.10.0,>=0.3.0 in c:\\users\\ralva\\desktop\\university\\4t-cuatrimestre-gia\\plh\\plh-wordembeddings\\wordembeddings\\lib\\site-packages (from spacy<3.8.0,>=3.7.0->ca-core-news-md==3.7.0) (0.9.4)\n",
      "Requirement already satisfied: smart-open<7.0.0,>=5.2.1 in c:\\users\\ralva\\desktop\\university\\4t-cuatrimestre-gia\\plh\\plh-wordembeddings\\wordembeddings\\lib\\site-packages (from spacy<3.8.0,>=3.7.0->ca-core-news-md==3.7.0) (6.4.0)\n",
      "Requirement already satisfied: tqdm<5.0.0,>=4.38.0 in c:\\users\\ralva\\desktop\\university\\4t-cuatrimestre-gia\\plh\\plh-wordembeddings\\wordembeddings\\lib\\site-packages (from spacy<3.8.0,>=3.7.0->ca-core-news-md==3.7.0) (4.66.4)\n",
      "Requirement already satisfied: requests<3.0.0,>=2.13.0 in c:\\users\\ralva\\desktop\\university\\4t-cuatrimestre-gia\\plh\\plh-wordembeddings\\wordembeddings\\lib\\site-packages (from spacy<3.8.0,>=3.7.0->ca-core-news-md==3.7.0) (2.31.0)\n",
      "Requirement already satisfied: pydantic!=1.8,!=1.8.1,<3.0.0,>=1.7.4 in c:\\users\\ralva\\desktop\\university\\4t-cuatrimestre-gia\\plh\\plh-wordembeddings\\wordembeddings\\lib\\site-packages (from spacy<3.8.0,>=3.7.0->ca-core-news-md==3.7.0) (2.7.1)\n",
      "Requirement already satisfied: jinja2 in c:\\users\\ralva\\desktop\\university\\4t-cuatrimestre-gia\\plh\\plh-wordembeddings\\wordembeddings\\lib\\site-packages (from spacy<3.8.0,>=3.7.0->ca-core-news-md==3.7.0) (3.1.4)\n",
      "Requirement already satisfied: setuptools in c:\\users\\ralva\\desktop\\university\\4t-cuatrimestre-gia\\plh\\plh-wordembeddings\\wordembeddings\\lib\\site-packages (from spacy<3.8.0,>=3.7.0->ca-core-news-md==3.7.0) (65.5.0)\n",
      "Requirement already satisfied: packaging>=20.0 in c:\\users\\ralva\\desktop\\university\\4t-cuatrimestre-gia\\plh\\plh-wordembeddings\\wordembeddings\\lib\\site-packages (from spacy<3.8.0,>=3.7.0->ca-core-news-md==3.7.0) (24.0)\n",
      "Requirement already satisfied: langcodes<4.0.0,>=3.2.0 in c:\\users\\ralva\\desktop\\university\\4t-cuatrimestre-gia\\plh\\plh-wordembeddings\\wordembeddings\\lib\\site-packages (from spacy<3.8.0,>=3.7.0->ca-core-news-md==3.7.0) (3.4.0)\n",
      "Requirement already satisfied: numpy>=1.19.0 in c:\\users\\ralva\\desktop\\university\\4t-cuatrimestre-gia\\plh\\plh-wordembeddings\\wordembeddings\\lib\\site-packages (from spacy<3.8.0,>=3.7.0->ca-core-news-md==3.7.0) (1.26.4)\n",
      "Requirement already satisfied: language-data>=1.2 in c:\\users\\ralva\\desktop\\university\\4t-cuatrimestre-gia\\plh\\plh-wordembeddings\\wordembeddings\\lib\\site-packages (from langcodes<4.0.0,>=3.2.0->spacy<3.8.0,>=3.7.0->ca-core-news-md==3.7.0) (1.2.0)\n",
      "Requirement already satisfied: annotated-types>=0.4.0 in c:\\users\\ralva\\desktop\\university\\4t-cuatrimestre-gia\\plh\\plh-wordembeddings\\wordembeddings\\lib\\site-packages (from pydantic!=1.8,!=1.8.1,<3.0.0,>=1.7.4->spacy<3.8.0,>=3.7.0->ca-core-news-md==3.7.0) (0.6.0)\n",
      "Requirement already satisfied: pydantic-core==2.18.2 in c:\\users\\ralva\\desktop\\university\\4t-cuatrimestre-gia\\plh\\plh-wordembeddings\\wordembeddings\\lib\\site-packages (from pydantic!=1.8,!=1.8.1,<3.0.0,>=1.7.4->spacy<3.8.0,>=3.7.0->ca-core-news-md==3.7.0) (2.18.2)\n",
      "Requirement already satisfied: typing-extensions>=4.6.1 in c:\\users\\ralva\\desktop\\university\\4t-cuatrimestre-gia\\plh\\plh-wordembeddings\\wordembeddings\\lib\\site-packages (from pydantic!=1.8,!=1.8.1,<3.0.0,>=1.7.4->spacy<3.8.0,>=3.7.0->ca-core-news-md==3.7.0) (4.11.0)\n",
      "Requirement already satisfied: charset-normalizer<4,>=2 in c:\\users\\ralva\\desktop\\university\\4t-cuatrimestre-gia\\plh\\plh-wordembeddings\\wordembeddings\\lib\\site-packages (from requests<3.0.0,>=2.13.0->spacy<3.8.0,>=3.7.0->ca-core-news-md==3.7.0) (3.3.2)\n",
      "Requirement already satisfied: idna<4,>=2.5 in c:\\users\\ralva\\desktop\\university\\4t-cuatrimestre-gia\\plh\\plh-wordembeddings\\wordembeddings\\lib\\site-packages (from requests<3.0.0,>=2.13.0->spacy<3.8.0,>=3.7.0->ca-core-news-md==3.7.0) (3.7)\n",
      "Requirement already satisfied: urllib3<3,>=1.21.1 in c:\\users\\ralva\\desktop\\university\\4t-cuatrimestre-gia\\plh\\plh-wordembeddings\\wordembeddings\\lib\\site-packages (from requests<3.0.0,>=2.13.0->spacy<3.8.0,>=3.7.0->ca-core-news-md==3.7.0) (2.2.1)\n",
      "Requirement already satisfied: certifi>=2017.4.17 in c:\\users\\ralva\\desktop\\university\\4t-cuatrimestre-gia\\plh\\plh-wordembeddings\\wordembeddings\\lib\\site-packages (from requests<3.0.0,>=2.13.0->spacy<3.8.0,>=3.7.0->ca-core-news-md==3.7.0) (2024.2.2)\n",
      "Requirement already satisfied: blis<0.8.0,>=0.7.8 in c:\\users\\ralva\\desktop\\university\\4t-cuatrimestre-gia\\plh\\plh-wordembeddings\\wordembeddings\\lib\\site-packages (from thinc<8.3.0,>=8.2.2->spacy<3.8.0,>=3.7.0->ca-core-news-md==3.7.0) (0.7.11)\n",
      "Requirement already satisfied: confection<1.0.0,>=0.0.1 in c:\\users\\ralva\\desktop\\university\\4t-cuatrimestre-gia\\plh\\plh-wordembeddings\\wordembeddings\\lib\\site-packages (from thinc<8.3.0,>=8.2.2->spacy<3.8.0,>=3.7.0->ca-core-news-md==3.7.0) (0.1.4)\n",
      "Requirement already satisfied: colorama in c:\\users\\ralva\\desktop\\university\\4t-cuatrimestre-gia\\plh\\plh-wordembeddings\\wordembeddings\\lib\\site-packages (from tqdm<5.0.0,>=4.38.0->spacy<3.8.0,>=3.7.0->ca-core-news-md==3.7.0) (0.4.6)\n",
      "Requirement already satisfied: click<9.0.0,>=7.1.1 in c:\\users\\ralva\\desktop\\university\\4t-cuatrimestre-gia\\plh\\plh-wordembeddings\\wordembeddings\\lib\\site-packages (from typer<0.10.0,>=0.3.0->spacy<3.8.0,>=3.7.0->ca-core-news-md==3.7.0) (8.1.7)\n",
      "Requirement already satisfied: cloudpathlib<0.17.0,>=0.7.0 in c:\\users\\ralva\\desktop\\university\\4t-cuatrimestre-gia\\plh\\plh-wordembeddings\\wordembeddings\\lib\\site-packages (from weasel<0.4.0,>=0.1.0->spacy<3.8.0,>=3.7.0->ca-core-news-md==3.7.0) (0.16.0)\n",
      "Requirement already satisfied: MarkupSafe>=2.0 in c:\\users\\ralva\\desktop\\university\\4t-cuatrimestre-gia\\plh\\plh-wordembeddings\\wordembeddings\\lib\\site-packages (from jinja2->spacy<3.8.0,>=3.7.0->ca-core-news-md==3.7.0) (2.1.5)\n",
      "Requirement already satisfied: marisa-trie>=0.7.7 in c:\\users\\ralva\\desktop\\university\\4t-cuatrimestre-gia\\plh\\plh-wordembeddings\\wordembeddings\\lib\\site-packages (from language-data>=1.2->langcodes<4.0.0,>=3.2.0->spacy<3.8.0,>=3.7.0->ca-core-news-md==3.7.0) (1.1.1)\n",
      "Installing collected packages: ca-core-news-md\n",
      "Successfully installed ca-core-news-md-3.7.0\n",
      "\u001b[38;5;2m✔ Download and installation successful\u001b[0m\n",
      "You can now load the package via spacy.load('ca_core_news_md')\n"
     ]
    }
   ],
   "source": [
    "!python -m spacy download ca_core_news_md"
   ]
  },
  {
   "cell_type": "markdown",
   "metadata": {},
   "source": [
    "Carreguem el model de SpaCy en català."
   ]
  },
  {
   "cell_type": "code",
   "execution_count": 43,
   "metadata": {},
   "outputs": [
    {
     "name": "stderr",
     "output_type": "stream",
     "text": [
      "c:\\Users\\ralva\\Desktop\\University\\4t-Cuatrimestre-GIA\\PLH\\PLH-WordEmbeddings\\WordEmbeddings\\Lib\\site-packages\\tqdm\\auto.py:21: TqdmWarning: IProgress not found. Please update jupyter and ipywidgets. See https://ipywidgets.readthedocs.io/en/stable/user_install.html\n",
      "  from .autonotebook import tqdm as notebook_tqdm\n"
     ]
    }
   ],
   "source": [
    "spacy_model = spacy.load(\"ca_core_news_md\")"
   ]
  },
  {
   "cell_type": "markdown",
   "metadata": {},
   "source": [
    "Passem les particions de train, test i val a vectors amb la funció *map_spacy()*. Aquesta funció utilitza el model de SpaCy per a convertir les frases a vectors."
   ]
  },
  {
   "cell_type": "code",
   "execution_count": 44,
   "metadata": {},
   "outputs": [],
   "source": [
    "mapped_spacy_train = map_spacy_embed(train, spacy_model)\n",
    "mapped_spacy_test = map_spacy_embed(test, spacy_model)\n",
    "mapped_spacy_val = map_spacy_embed(val, spacy_model)"
   ]
  },
  {
   "cell_type": "markdown",
   "metadata": {},
   "source": [
    "Dividim les particions en X i Y."
   ]
  },
  {
   "cell_type": "code",
   "execution_count": 45,
   "metadata": {},
   "outputs": [],
   "source": [
    "x_train_sp, y_train_sp = pair_list_to_x_y(mapped_spacy_train)\n",
    "x_val_sp, y_val_sp = pair_list_to_x_y(mapped_spacy_val)\n",
    "x_test_sp, y_test_sp = pair_list_to_x_y(mapped_spacy_test)"
   ]
  },
  {
   "cell_type": "markdown",
   "metadata": {},
   "source": [
    "Entrenem el model"
   ]
  },
  {
   "cell_type": "code",
   "execution_count": 46,
   "metadata": {},
   "outputs": [],
   "source": [
    "batch_size_sp: int = 64\n",
    "num_epochs_sp: int = 64\n",
    "\n",
    "train_dataset_sp = tf.data.Dataset.from_tensor_slices((x_train_sp, y_train_sp))\n",
    "train_dataset_sp = train_dataset_sp.shuffle(buffer_size=len(x_train_sp)).batch(batch_size_sp)\n",
    "\n",
    "val_dataset_sp = tf.data.Dataset.from_tensor_slices((x_val_sp, y_val_sp))\n",
    "val_dataset_sp = val_dataset_sp.batch(batch_size_sp)"
   ]
  },
  {
   "cell_type": "code",
   "execution_count": 47,
   "metadata": {},
   "outputs": [
    {
     "name": "stdout",
     "output_type": "stream",
     "text": [
      "You must install pydot (`pip install pydot`) for `plot_model` to work.\n"
     ]
    },
    {
     "data": {
      "text/html": [
       "<pre style=\"white-space:pre;overflow-x:auto;line-height:normal;font-family:Menlo,'DejaVu Sans Mono',consolas,'Courier New',monospace\"><span style=\"font-weight: bold\">Model: \"functional_7\"</span>\n",
       "</pre>\n"
      ],
      "text/plain": [
       "\u001b[1mModel: \"functional_7\"\u001b[0m\n"
      ]
     },
     "metadata": {},
     "output_type": "display_data"
    },
    {
     "data": {
      "text/html": [
       "<pre style=\"white-space:pre;overflow-x:auto;line-height:normal;font-family:Menlo,'DejaVu Sans Mono',consolas,'Courier New',monospace\">┏━━━━━━━━━━━━━━━━━━━━━┳━━━━━━━━━━━━━━━━━━━┳━━━━━━━━━━━━┳━━━━━━━━━━━━━━━━━━━┓\n",
       "┃<span style=\"font-weight: bold\"> Layer (type)        </span>┃<span style=\"font-weight: bold\"> Output Shape      </span>┃<span style=\"font-weight: bold\">    Param # </span>┃<span style=\"font-weight: bold\"> Connected to      </span>┃\n",
       "┡━━━━━━━━━━━━━━━━━━━━━╇━━━━━━━━━━━━━━━━━━━╇━━━━━━━━━━━━╇━━━━━━━━━━━━━━━━━━━┩\n",
       "│ input_layer_6       │ (<span style=\"color: #00d7ff; text-decoration-color: #00d7ff\">None</span>, <span style=\"color: #00af00; text-decoration-color: #00af00\">300</span>)       │          <span style=\"color: #00af00; text-decoration-color: #00af00\">0</span> │ -                 │\n",
       "│ (<span style=\"color: #0087ff; text-decoration-color: #0087ff\">InputLayer</span>)        │                   │            │                   │\n",
       "├─────────────────────┼───────────────────┼────────────┼───────────────────┤\n",
       "│ input_layer_7       │ (<span style=\"color: #00d7ff; text-decoration-color: #00d7ff\">None</span>, <span style=\"color: #00af00; text-decoration-color: #00af00\">300</span>)       │          <span style=\"color: #00af00; text-decoration-color: #00af00\">0</span> │ -                 │\n",
       "│ (<span style=\"color: #0087ff; text-decoration-color: #0087ff\">InputLayer</span>)        │                   │            │                   │\n",
       "├─────────────────────┼───────────────────┼────────────┼───────────────────┤\n",
       "│ dense_9 (<span style=\"color: #0087ff; text-decoration-color: #0087ff\">Dense</span>)     │ (<span style=\"color: #00d7ff; text-decoration-color: #00d7ff\">None</span>, <span style=\"color: #00af00; text-decoration-color: #00af00\">300</span>)       │     <span style=\"color: #00af00; text-decoration-color: #00af00\">90,300</span> │ input_layer_6[<span style=\"color: #00af00; text-decoration-color: #00af00\">0</span>]… │\n",
       "│                     │                   │            │ input_layer_7[<span style=\"color: #00af00; text-decoration-color: #00af00\">0</span>]… │\n",
       "├─────────────────────┼───────────────────┼────────────┼───────────────────┤\n",
       "│ lambda_6 (<span style=\"color: #0087ff; text-decoration-color: #0087ff\">Lambda</span>)   │ (<span style=\"color: #00d7ff; text-decoration-color: #00d7ff\">None</span>, <span style=\"color: #00af00; text-decoration-color: #00af00\">300</span>)       │          <span style=\"color: #00af00; text-decoration-color: #00af00\">0</span> │ dense_9[<span style=\"color: #00af00; text-decoration-color: #00af00\">0</span>][<span style=\"color: #00af00; text-decoration-color: #00af00\">0</span>],    │\n",
       "│                     │                   │            │ dense_9[<span style=\"color: #00af00; text-decoration-color: #00af00\">1</span>][<span style=\"color: #00af00; text-decoration-color: #00af00\">0</span>]     │\n",
       "├─────────────────────┼───────────────────┼────────────┼───────────────────┤\n",
       "│ dropout_6 (<span style=\"color: #0087ff; text-decoration-color: #0087ff\">Dropout</span>) │ (<span style=\"color: #00d7ff; text-decoration-color: #00d7ff\">None</span>, <span style=\"color: #00af00; text-decoration-color: #00af00\">300</span>)       │          <span style=\"color: #00af00; text-decoration-color: #00af00\">0</span> │ lambda_6[<span style=\"color: #00af00; text-decoration-color: #00af00\">0</span>][<span style=\"color: #00af00; text-decoration-color: #00af00\">0</span>]    │\n",
       "├─────────────────────┼───────────────────┼────────────┼───────────────────┤\n",
       "│ dense_10 (<span style=\"color: #0087ff; text-decoration-color: #0087ff\">Dense</span>)    │ (<span style=\"color: #00d7ff; text-decoration-color: #00d7ff\">None</span>, <span style=\"color: #00af00; text-decoration-color: #00af00\">16</span>)        │      <span style=\"color: #00af00; text-decoration-color: #00af00\">4,816</span> │ dropout_6[<span style=\"color: #00af00; text-decoration-color: #00af00\">0</span>][<span style=\"color: #00af00; text-decoration-color: #00af00\">0</span>]   │\n",
       "├─────────────────────┼───────────────────┼────────────┼───────────────────┤\n",
       "│ dropout_7 (<span style=\"color: #0087ff; text-decoration-color: #0087ff\">Dropout</span>) │ (<span style=\"color: #00d7ff; text-decoration-color: #00d7ff\">None</span>, <span style=\"color: #00af00; text-decoration-color: #00af00\">16</span>)        │          <span style=\"color: #00af00; text-decoration-color: #00af00\">0</span> │ dense_10[<span style=\"color: #00af00; text-decoration-color: #00af00\">0</span>][<span style=\"color: #00af00; text-decoration-color: #00af00\">0</span>]    │\n",
       "├─────────────────────┼───────────────────┼────────────┼───────────────────┤\n",
       "│ dense_11 (<span style=\"color: #0087ff; text-decoration-color: #0087ff\">Dense</span>)    │ (<span style=\"color: #00d7ff; text-decoration-color: #00d7ff\">None</span>, <span style=\"color: #00af00; text-decoration-color: #00af00\">1</span>)         │         <span style=\"color: #00af00; text-decoration-color: #00af00\">17</span> │ dropout_7[<span style=\"color: #00af00; text-decoration-color: #00af00\">0</span>][<span style=\"color: #00af00; text-decoration-color: #00af00\">0</span>]   │\n",
       "├─────────────────────┼───────────────────┼────────────┼───────────────────┤\n",
       "│ lambda_7 (<span style=\"color: #0087ff; text-decoration-color: #0087ff\">Lambda</span>)   │ (<span style=\"color: #00d7ff; text-decoration-color: #00d7ff\">None</span>, <span style=\"color: #00af00; text-decoration-color: #00af00\">1</span>)         │          <span style=\"color: #00af00; text-decoration-color: #00af00\">0</span> │ dense_11[<span style=\"color: #00af00; text-decoration-color: #00af00\">0</span>][<span style=\"color: #00af00; text-decoration-color: #00af00\">0</span>]    │\n",
       "└─────────────────────┴───────────────────┴────────────┴───────────────────┘\n",
       "</pre>\n"
      ],
      "text/plain": [
       "┏━━━━━━━━━━━━━━━━━━━━━┳━━━━━━━━━━━━━━━━━━━┳━━━━━━━━━━━━┳━━━━━━━━━━━━━━━━━━━┓\n",
       "┃\u001b[1m \u001b[0m\u001b[1mLayer (type)       \u001b[0m\u001b[1m \u001b[0m┃\u001b[1m \u001b[0m\u001b[1mOutput Shape     \u001b[0m\u001b[1m \u001b[0m┃\u001b[1m \u001b[0m\u001b[1m   Param #\u001b[0m\u001b[1m \u001b[0m┃\u001b[1m \u001b[0m\u001b[1mConnected to     \u001b[0m\u001b[1m \u001b[0m┃\n",
       "┡━━━━━━━━━━━━━━━━━━━━━╇━━━━━━━━━━━━━━━━━━━╇━━━━━━━━━━━━╇━━━━━━━━━━━━━━━━━━━┩\n",
       "│ input_layer_6       │ (\u001b[38;5;45mNone\u001b[0m, \u001b[38;5;34m300\u001b[0m)       │          \u001b[38;5;34m0\u001b[0m │ -                 │\n",
       "│ (\u001b[38;5;33mInputLayer\u001b[0m)        │                   │            │                   │\n",
       "├─────────────────────┼───────────────────┼────────────┼───────────────────┤\n",
       "│ input_layer_7       │ (\u001b[38;5;45mNone\u001b[0m, \u001b[38;5;34m300\u001b[0m)       │          \u001b[38;5;34m0\u001b[0m │ -                 │\n",
       "│ (\u001b[38;5;33mInputLayer\u001b[0m)        │                   │            │                   │\n",
       "├─────────────────────┼───────────────────┼────────────┼───────────────────┤\n",
       "│ dense_9 (\u001b[38;5;33mDense\u001b[0m)     │ (\u001b[38;5;45mNone\u001b[0m, \u001b[38;5;34m300\u001b[0m)       │     \u001b[38;5;34m90,300\u001b[0m │ input_layer_6[\u001b[38;5;34m0\u001b[0m]… │\n",
       "│                     │                   │            │ input_layer_7[\u001b[38;5;34m0\u001b[0m]… │\n",
       "├─────────────────────┼───────────────────┼────────────┼───────────────────┤\n",
       "│ lambda_6 (\u001b[38;5;33mLambda\u001b[0m)   │ (\u001b[38;5;45mNone\u001b[0m, \u001b[38;5;34m300\u001b[0m)       │          \u001b[38;5;34m0\u001b[0m │ dense_9[\u001b[38;5;34m0\u001b[0m][\u001b[38;5;34m0\u001b[0m],    │\n",
       "│                     │                   │            │ dense_9[\u001b[38;5;34m1\u001b[0m][\u001b[38;5;34m0\u001b[0m]     │\n",
       "├─────────────────────┼───────────────────┼────────────┼───────────────────┤\n",
       "│ dropout_6 (\u001b[38;5;33mDropout\u001b[0m) │ (\u001b[38;5;45mNone\u001b[0m, \u001b[38;5;34m300\u001b[0m)       │          \u001b[38;5;34m0\u001b[0m │ lambda_6[\u001b[38;5;34m0\u001b[0m][\u001b[38;5;34m0\u001b[0m]    │\n",
       "├─────────────────────┼───────────────────┼────────────┼───────────────────┤\n",
       "│ dense_10 (\u001b[38;5;33mDense\u001b[0m)    │ (\u001b[38;5;45mNone\u001b[0m, \u001b[38;5;34m16\u001b[0m)        │      \u001b[38;5;34m4,816\u001b[0m │ dropout_6[\u001b[38;5;34m0\u001b[0m][\u001b[38;5;34m0\u001b[0m]   │\n",
       "├─────────────────────┼───────────────────┼────────────┼───────────────────┤\n",
       "│ dropout_7 (\u001b[38;5;33mDropout\u001b[0m) │ (\u001b[38;5;45mNone\u001b[0m, \u001b[38;5;34m16\u001b[0m)        │          \u001b[38;5;34m0\u001b[0m │ dense_10[\u001b[38;5;34m0\u001b[0m][\u001b[38;5;34m0\u001b[0m]    │\n",
       "├─────────────────────┼───────────────────┼────────────┼───────────────────┤\n",
       "│ dense_11 (\u001b[38;5;33mDense\u001b[0m)    │ (\u001b[38;5;45mNone\u001b[0m, \u001b[38;5;34m1\u001b[0m)         │         \u001b[38;5;34m17\u001b[0m │ dropout_7[\u001b[38;5;34m0\u001b[0m][\u001b[38;5;34m0\u001b[0m]   │\n",
       "├─────────────────────┼───────────────────┼────────────┼───────────────────┤\n",
       "│ lambda_7 (\u001b[38;5;33mLambda\u001b[0m)   │ (\u001b[38;5;45mNone\u001b[0m, \u001b[38;5;34m1\u001b[0m)         │          \u001b[38;5;34m0\u001b[0m │ dense_11[\u001b[38;5;34m0\u001b[0m][\u001b[38;5;34m0\u001b[0m]    │\n",
       "└─────────────────────┴───────────────────┴────────────┴───────────────────┘\n"
      ]
     },
     "metadata": {},
     "output_type": "display_data"
    },
    {
     "data": {
      "text/html": [
       "<pre style=\"white-space:pre;overflow-x:auto;line-height:normal;font-family:Menlo,'DejaVu Sans Mono',consolas,'Courier New',monospace\"><span style=\"font-weight: bold\"> Total params: </span><span style=\"color: #00af00; text-decoration-color: #00af00\">95,133</span> (371.61 KB)\n",
       "</pre>\n"
      ],
      "text/plain": [
       "\u001b[1m Total params: \u001b[0m\u001b[38;5;34m95,133\u001b[0m (371.61 KB)\n"
      ]
     },
     "metadata": {},
     "output_type": "display_data"
    },
    {
     "data": {
      "text/html": [
       "<pre style=\"white-space:pre;overflow-x:auto;line-height:normal;font-family:Menlo,'DejaVu Sans Mono',consolas,'Courier New',monospace\"><span style=\"font-weight: bold\"> Trainable params: </span><span style=\"color: #00af00; text-decoration-color: #00af00\">95,133</span> (371.61 KB)\n",
       "</pre>\n"
      ],
      "text/plain": [
       "\u001b[1m Trainable params: \u001b[0m\u001b[38;5;34m95,133\u001b[0m (371.61 KB)\n"
      ]
     },
     "metadata": {},
     "output_type": "display_data"
    },
    {
     "data": {
      "text/html": [
       "<pre style=\"white-space:pre;overflow-x:auto;line-height:normal;font-family:Menlo,'DejaVu Sans Mono',consolas,'Courier New',monospace\"><span style=\"font-weight: bold\"> Non-trainable params: </span><span style=\"color: #00af00; text-decoration-color: #00af00\">0</span> (0.00 B)\n",
       "</pre>\n"
      ],
      "text/plain": [
       "\u001b[1m Non-trainable params: \u001b[0m\u001b[38;5;34m0\u001b[0m (0.00 B)\n"
      ]
     },
     "metadata": {},
     "output_type": "display_data"
    },
    {
     "name": "stdout",
     "output_type": "stream",
     "text": [
      "None\n"
     ]
    }
   ],
   "source": [
    "embedding_size_sp = 300\n",
    "model_sp = build_and_compile_model_better(embedding_size = embedding_size_sp)\n",
    "tf.keras.utils.plot_model(model_sp, show_shapes=True, show_layer_activations=True, )\n",
    "print(model_sp.summary())"
   ]
  },
  {
   "cell_type": "code",
   "execution_count": 48,
   "metadata": {},
   "outputs": [
    {
     "name": "stdout",
     "output_type": "stream",
     "text": [
      "Epoch 1/64\n",
      "\u001b[1m32/32\u001b[0m \u001b[32m━━━━━━━━━━━━━━━━━━━━\u001b[0m\u001b[37m\u001b[0m \u001b[1m1s\u001b[0m 5ms/step - loss: 0.7266 - val_loss: 0.7404\n",
      "Epoch 2/64\n",
      "\u001b[1m32/32\u001b[0m \u001b[32m━━━━━━━━━━━━━━━━━━━━\u001b[0m\u001b[37m\u001b[0m \u001b[1m0s\u001b[0m 2ms/step - loss: 0.7163 - val_loss: 0.7326\n",
      "Epoch 3/64\n",
      "\u001b[1m32/32\u001b[0m \u001b[32m━━━━━━━━━━━━━━━━━━━━\u001b[0m\u001b[37m\u001b[0m \u001b[1m0s\u001b[0m 2ms/step - loss: 0.7043 - val_loss: 0.7222\n",
      "Epoch 4/64\n",
      "\u001b[1m32/32\u001b[0m \u001b[32m━━━━━━━━━━━━━━━━━━━━\u001b[0m\u001b[37m\u001b[0m \u001b[1m0s\u001b[0m 2ms/step - loss: 0.6890 - val_loss: 0.7142\n",
      "Epoch 5/64\n",
      "\u001b[1m32/32\u001b[0m \u001b[32m━━━━━━━━━━━━━━━━━━━━\u001b[0m\u001b[37m\u001b[0m \u001b[1m0s\u001b[0m 2ms/step - loss: 0.6734 - val_loss: 0.7051\n",
      "Epoch 6/64\n",
      "\u001b[1m32/32\u001b[0m \u001b[32m━━━━━━━━━━━━━━━━━━━━\u001b[0m\u001b[37m\u001b[0m \u001b[1m0s\u001b[0m 2ms/step - loss: 0.6516 - val_loss: 0.6999\n",
      "Epoch 7/64\n",
      "\u001b[1m32/32\u001b[0m \u001b[32m━━━━━━━━━━━━━━━━━━━━\u001b[0m\u001b[37m\u001b[0m \u001b[1m0s\u001b[0m 2ms/step - loss: 0.6224 - val_loss: 0.6939\n",
      "Epoch 8/64\n",
      "\u001b[1m32/32\u001b[0m \u001b[32m━━━━━━━━━━━━━━━━━━━━\u001b[0m\u001b[37m\u001b[0m \u001b[1m0s\u001b[0m 2ms/step - loss: 0.5958 - val_loss: 0.6824\n",
      "Epoch 9/64\n",
      "\u001b[1m32/32\u001b[0m \u001b[32m━━━━━━━━━━━━━━━━━━━━\u001b[0m\u001b[37m\u001b[0m \u001b[1m0s\u001b[0m 2ms/step - loss: 0.5618 - val_loss: 0.6788\n",
      "Epoch 10/64\n",
      "\u001b[1m32/32\u001b[0m \u001b[32m━━━━━━━━━━━━━━━━━━━━\u001b[0m\u001b[37m\u001b[0m \u001b[1m0s\u001b[0m 2ms/step - loss: 0.5336 - val_loss: 0.6656\n",
      "Epoch 11/64\n",
      "\u001b[1m32/32\u001b[0m \u001b[32m━━━━━━━━━━━━━━━━━━━━\u001b[0m\u001b[37m\u001b[0m \u001b[1m0s\u001b[0m 2ms/step - loss: 0.5041 - val_loss: 0.6523\n",
      "Epoch 12/64\n",
      "\u001b[1m32/32\u001b[0m \u001b[32m━━━━━━━━━━━━━━━━━━━━\u001b[0m\u001b[37m\u001b[0m \u001b[1m0s\u001b[0m 3ms/step - loss: 0.4738 - val_loss: 0.6487\n",
      "Epoch 13/64\n",
      "\u001b[1m32/32\u001b[0m \u001b[32m━━━━━━━━━━━━━━━━━━━━\u001b[0m\u001b[37m\u001b[0m \u001b[1m0s\u001b[0m 2ms/step - loss: 0.4483 - val_loss: 0.6489\n",
      "Epoch 14/64\n",
      "\u001b[1m32/32\u001b[0m \u001b[32m━━━━━━━━━━━━━━━━━━━━\u001b[0m\u001b[37m\u001b[0m \u001b[1m0s\u001b[0m 2ms/step - loss: 0.4239 - val_loss: 0.6408\n",
      "Epoch 15/64\n",
      "\u001b[1m32/32\u001b[0m \u001b[32m━━━━━━━━━━━━━━━━━━━━\u001b[0m\u001b[37m\u001b[0m \u001b[1m0s\u001b[0m 2ms/step - loss: 0.3903 - val_loss: 0.6481\n",
      "Epoch 16/64\n",
      "\u001b[1m32/32\u001b[0m \u001b[32m━━━━━━━━━━━━━━━━━━━━\u001b[0m\u001b[37m\u001b[0m \u001b[1m0s\u001b[0m 2ms/step - loss: 0.3786 - val_loss: 0.6518\n",
      "Epoch 17/64\n",
      "\u001b[1m32/32\u001b[0m \u001b[32m━━━━━━━━━━━━━━━━━━━━\u001b[0m\u001b[37m\u001b[0m \u001b[1m0s\u001b[0m 2ms/step - loss: 0.3575 - val_loss: 0.6574\n",
      "Epoch 18/64\n",
      "\u001b[1m32/32\u001b[0m \u001b[32m━━━━━━━━━━━━━━━━━━━━\u001b[0m\u001b[37m\u001b[0m \u001b[1m0s\u001b[0m 2ms/step - loss: 0.3371 - val_loss: 0.6790\n",
      "Epoch 19/64\n",
      "\u001b[1m32/32\u001b[0m \u001b[32m━━━━━━━━━━━━━━━━━━━━\u001b[0m\u001b[37m\u001b[0m \u001b[1m0s\u001b[0m 2ms/step - loss: 0.3202 - val_loss: 0.6643\n",
      "Epoch 20/64\n",
      "\u001b[1m32/32\u001b[0m \u001b[32m━━━━━━━━━━━━━━━━━━━━\u001b[0m\u001b[37m\u001b[0m \u001b[1m0s\u001b[0m 2ms/step - loss: 0.3188 - val_loss: 0.6660\n",
      "Epoch 21/64\n",
      "\u001b[1m32/32\u001b[0m \u001b[32m━━━━━━━━━━━━━━━━━━━━\u001b[0m\u001b[37m\u001b[0m \u001b[1m0s\u001b[0m 2ms/step - loss: 0.3042 - val_loss: 0.6763\n",
      "Epoch 22/64\n",
      "\u001b[1m32/32\u001b[0m \u001b[32m━━━━━━━━━━━━━━━━━━━━\u001b[0m\u001b[37m\u001b[0m \u001b[1m0s\u001b[0m 2ms/step - loss: 0.2889 - val_loss: 0.6892\n",
      "Epoch 23/64\n",
      "\u001b[1m32/32\u001b[0m \u001b[32m━━━━━━━━━━━━━━━━━━━━\u001b[0m\u001b[37m\u001b[0m \u001b[1m0s\u001b[0m 2ms/step - loss: 0.2646 - val_loss: 0.6841\n",
      "Epoch 24/64\n",
      "\u001b[1m32/32\u001b[0m \u001b[32m━━━━━━━━━━━━━━━━━━━━\u001b[0m\u001b[37m\u001b[0m \u001b[1m0s\u001b[0m 2ms/step - loss: 0.2592 - val_loss: 0.6971\n",
      "Epoch 25/64\n",
      "\u001b[1m32/32\u001b[0m \u001b[32m━━━━━━━━━━━━━━━━━━━━\u001b[0m\u001b[37m\u001b[0m \u001b[1m0s\u001b[0m 2ms/step - loss: 0.2479 - val_loss: 0.6728\n",
      "Epoch 26/64\n",
      "\u001b[1m32/32\u001b[0m \u001b[32m━━━━━━━━━━━━━━━━━━━━\u001b[0m\u001b[37m\u001b[0m \u001b[1m0s\u001b[0m 2ms/step - loss: 0.2418 - val_loss: 0.7144\n",
      "Epoch 27/64\n",
      "\u001b[1m32/32\u001b[0m \u001b[32m━━━━━━━━━━━━━━━━━━━━\u001b[0m\u001b[37m\u001b[0m \u001b[1m0s\u001b[0m 2ms/step - loss: 0.2319 - val_loss: 0.7011\n",
      "Epoch 28/64\n",
      "\u001b[1m32/32\u001b[0m \u001b[32m━━━━━━━━━━━━━━━━━━━━\u001b[0m\u001b[37m\u001b[0m \u001b[1m0s\u001b[0m 2ms/step - loss: 0.2314 - val_loss: 0.7927\n",
      "Epoch 29/64\n",
      "\u001b[1m32/32\u001b[0m \u001b[32m━━━━━━━━━━━━━━━━━━━━\u001b[0m\u001b[37m\u001b[0m \u001b[1m0s\u001b[0m 2ms/step - loss: 0.2373 - val_loss: 0.7553\n",
      "Epoch 30/64\n",
      "\u001b[1m32/32\u001b[0m \u001b[32m━━━━━━━━━━━━━━━━━━━━\u001b[0m\u001b[37m\u001b[0m \u001b[1m0s\u001b[0m 2ms/step - loss: 0.2275 - val_loss: 0.7749\n",
      "Epoch 31/64\n",
      "\u001b[1m32/32\u001b[0m \u001b[32m━━━━━━━━━━━━━━━━━━━━\u001b[0m\u001b[37m\u001b[0m \u001b[1m0s\u001b[0m 2ms/step - loss: 0.2274 - val_loss: 0.7427\n",
      "Epoch 32/64\n",
      "\u001b[1m32/32\u001b[0m \u001b[32m━━━━━━━━━━━━━━━━━━━━\u001b[0m\u001b[37m\u001b[0m \u001b[1m0s\u001b[0m 2ms/step - loss: 0.2098 - val_loss: 0.7843\n",
      "Epoch 33/64\n",
      "\u001b[1m32/32\u001b[0m \u001b[32m━━━━━━━━━━━━━━━━━━━━\u001b[0m\u001b[37m\u001b[0m \u001b[1m0s\u001b[0m 2ms/step - loss: 0.2174 - val_loss: 0.7959\n",
      "Epoch 34/64\n",
      "\u001b[1m32/32\u001b[0m \u001b[32m━━━━━━━━━━━━━━━━━━━━\u001b[0m\u001b[37m\u001b[0m \u001b[1m0s\u001b[0m 2ms/step - loss: 0.2269 - val_loss: 0.7699\n",
      "Epoch 35/64\n",
      "\u001b[1m32/32\u001b[0m \u001b[32m━━━━━━━━━━━━━━━━━━━━\u001b[0m\u001b[37m\u001b[0m \u001b[1m0s\u001b[0m 2ms/step - loss: 0.2149 - val_loss: 0.7400\n",
      "Epoch 36/64\n",
      "\u001b[1m32/32\u001b[0m \u001b[32m━━━━━━━━━━━━━━━━━━━━\u001b[0m\u001b[37m\u001b[0m \u001b[1m0s\u001b[0m 2ms/step - loss: 0.2015 - val_loss: 0.7230\n",
      "Epoch 37/64\n",
      "\u001b[1m32/32\u001b[0m \u001b[32m━━━━━━━━━━━━━━━━━━━━\u001b[0m\u001b[37m\u001b[0m \u001b[1m0s\u001b[0m 2ms/step - loss: 0.2074 - val_loss: 0.7380\n",
      "Epoch 38/64\n",
      "\u001b[1m32/32\u001b[0m \u001b[32m━━━━━━━━━━━━━━━━━━━━\u001b[0m\u001b[37m\u001b[0m \u001b[1m0s\u001b[0m 2ms/step - loss: 0.1909 - val_loss: 0.7217\n",
      "Epoch 39/64\n",
      "\u001b[1m32/32\u001b[0m \u001b[32m━━━━━━━━━━━━━━━━━━━━\u001b[0m\u001b[37m\u001b[0m \u001b[1m0s\u001b[0m 2ms/step - loss: 0.1753 - val_loss: 0.7280\n",
      "Epoch 40/64\n",
      "\u001b[1m32/32\u001b[0m \u001b[32m━━━━━━━━━━━━━━━━━━━━\u001b[0m\u001b[37m\u001b[0m \u001b[1m0s\u001b[0m 2ms/step - loss: 0.1797 - val_loss: 0.7696\n",
      "Epoch 41/64\n",
      "\u001b[1m32/32\u001b[0m \u001b[32m━━━━━━━━━━━━━━━━━━━━\u001b[0m\u001b[37m\u001b[0m \u001b[1m0s\u001b[0m 2ms/step - loss: 0.1689 - val_loss: 0.7714\n",
      "Epoch 42/64\n",
      "\u001b[1m32/32\u001b[0m \u001b[32m━━━━━━━━━━━━━━━━━━━━\u001b[0m\u001b[37m\u001b[0m \u001b[1m0s\u001b[0m 2ms/step - loss: 0.1557 - val_loss: 0.8079\n",
      "Epoch 43/64\n",
      "\u001b[1m32/32\u001b[0m \u001b[32m━━━━━━━━━━━━━━━━━━━━\u001b[0m\u001b[37m\u001b[0m \u001b[1m0s\u001b[0m 2ms/step - loss: 0.1514 - val_loss: 0.7698\n",
      "Epoch 44/64\n",
      "\u001b[1m32/32\u001b[0m \u001b[32m━━━━━━━━━━━━━━━━━━━━\u001b[0m\u001b[37m\u001b[0m \u001b[1m0s\u001b[0m 2ms/step - loss: 0.1628 - val_loss: 0.7781\n",
      "Epoch 45/64\n",
      "\u001b[1m32/32\u001b[0m \u001b[32m━━━━━━━━━━━━━━━━━━━━\u001b[0m\u001b[37m\u001b[0m \u001b[1m0s\u001b[0m 2ms/step - loss: 0.1505 - val_loss: 0.7973\n",
      "Epoch 46/64\n",
      "\u001b[1m32/32\u001b[0m \u001b[32m━━━━━━━━━━━━━━━━━━━━\u001b[0m\u001b[37m\u001b[0m \u001b[1m0s\u001b[0m 2ms/step - loss: 0.1527 - val_loss: 0.7790\n",
      "Epoch 47/64\n",
      "\u001b[1m32/32\u001b[0m \u001b[32m━━━━━━━━━━━━━━━━━━━━\u001b[0m\u001b[37m\u001b[0m \u001b[1m0s\u001b[0m 2ms/step - loss: 0.1434 - val_loss: 0.7914\n",
      "Epoch 48/64\n",
      "\u001b[1m32/32\u001b[0m \u001b[32m━━━━━━━━━━━━━━━━━━━━\u001b[0m\u001b[37m\u001b[0m \u001b[1m0s\u001b[0m 2ms/step - loss: 0.1402 - val_loss: 0.7911\n",
      "Epoch 49/64\n",
      "\u001b[1m32/32\u001b[0m \u001b[32m━━━━━━━━━━━━━━━━━━━━\u001b[0m\u001b[37m\u001b[0m \u001b[1m0s\u001b[0m 2ms/step - loss: 0.1350 - val_loss: 0.8083\n",
      "Epoch 50/64\n",
      "\u001b[1m32/32\u001b[0m \u001b[32m━━━━━━━━━━━━━━━━━━━━\u001b[0m\u001b[37m\u001b[0m \u001b[1m0s\u001b[0m 2ms/step - loss: 0.1311 - val_loss: 0.7855\n",
      "Epoch 51/64\n",
      "\u001b[1m32/32\u001b[0m \u001b[32m━━━━━━━━━━━━━━━━━━━━\u001b[0m\u001b[37m\u001b[0m \u001b[1m0s\u001b[0m 2ms/step - loss: 0.1371 - val_loss: 0.7778\n",
      "Epoch 52/64\n",
      "\u001b[1m32/32\u001b[0m \u001b[32m━━━━━━━━━━━━━━━━━━━━\u001b[0m\u001b[37m\u001b[0m \u001b[1m0s\u001b[0m 2ms/step - loss: 0.1299 - val_loss: 0.7891\n",
      "Epoch 53/64\n",
      "\u001b[1m32/32\u001b[0m \u001b[32m━━━━━━━━━━━━━━━━━━━━\u001b[0m\u001b[37m\u001b[0m \u001b[1m0s\u001b[0m 2ms/step - loss: 0.1276 - val_loss: 0.8070\n",
      "Epoch 54/64\n",
      "\u001b[1m32/32\u001b[0m \u001b[32m━━━━━━━━━━━━━━━━━━━━\u001b[0m\u001b[37m\u001b[0m \u001b[1m0s\u001b[0m 2ms/step - loss: 0.1197 - val_loss: 0.7877\n",
      "Epoch 55/64\n",
      "\u001b[1m32/32\u001b[0m \u001b[32m━━━━━━━━━━━━━━━━━━━━\u001b[0m\u001b[37m\u001b[0m \u001b[1m0s\u001b[0m 2ms/step - loss: 0.1215 - val_loss: 0.7727\n",
      "Epoch 56/64\n",
      "\u001b[1m32/32\u001b[0m \u001b[32m━━━━━━━━━━━━━━━━━━━━\u001b[0m\u001b[37m\u001b[0m \u001b[1m0s\u001b[0m 2ms/step - loss: 0.1134 - val_loss: 0.7811\n",
      "Epoch 57/64\n",
      "\u001b[1m32/32\u001b[0m \u001b[32m━━━━━━━━━━━━━━━━━━━━\u001b[0m\u001b[37m\u001b[0m \u001b[1m0s\u001b[0m 2ms/step - loss: 0.1144 - val_loss: 0.7606\n",
      "Epoch 58/64\n",
      "\u001b[1m32/32\u001b[0m \u001b[32m━━━━━━━━━━━━━━━━━━━━\u001b[0m\u001b[37m\u001b[0m \u001b[1m0s\u001b[0m 2ms/step - loss: 0.1144 - val_loss: 0.7438\n",
      "Epoch 59/64\n",
      "\u001b[1m32/32\u001b[0m \u001b[32m━━━━━━━━━━━━━━━━━━━━\u001b[0m\u001b[37m\u001b[0m \u001b[1m0s\u001b[0m 2ms/step - loss: 0.1102 - val_loss: 0.7655\n",
      "Epoch 60/64\n",
      "\u001b[1m32/32\u001b[0m \u001b[32m━━━━━━━━━━━━━━━━━━━━\u001b[0m\u001b[37m\u001b[0m \u001b[1m0s\u001b[0m 2ms/step - loss: 0.1194 - val_loss: 0.8191\n",
      "Epoch 61/64\n",
      "\u001b[1m32/32\u001b[0m \u001b[32m━━━━━━━━━━━━━━━━━━━━\u001b[0m\u001b[37m\u001b[0m \u001b[1m0s\u001b[0m 2ms/step - loss: 0.1053 - val_loss: 0.8069\n",
      "Epoch 62/64\n",
      "\u001b[1m32/32\u001b[0m \u001b[32m━━━━━━━━━━━━━━━━━━━━\u001b[0m\u001b[37m\u001b[0m \u001b[1m0s\u001b[0m 2ms/step - loss: 0.1141 - val_loss: 0.7422\n",
      "Epoch 63/64\n",
      "\u001b[1m32/32\u001b[0m \u001b[32m━━━━━━━━━━━━━━━━━━━━\u001b[0m\u001b[37m\u001b[0m \u001b[1m0s\u001b[0m 2ms/step - loss: 0.1040 - val_loss: 0.7786\n",
      "Epoch 64/64\n",
      "\u001b[1m32/32\u001b[0m \u001b[32m━━━━━━━━━━━━━━━━━━━━\u001b[0m\u001b[37m\u001b[0m \u001b[1m0s\u001b[0m 2ms/step - loss: 0.1100 - val_loss: 0.7430\n"
     ]
    },
    {
     "data": {
      "text/plain": [
       "<keras.src.callbacks.history.History at 0x222ad5ab510>"
      ]
     },
     "execution_count": 48,
     "metadata": {},
     "output_type": "execute_result"
    }
   ],
   "source": [
    "model_sp.fit(train_dataset_sp, epochs=num_epochs_sp, validation_data=val_dataset_sp)"
   ]
  },
  {
   "cell_type": "markdown",
   "metadata": {},
   "source": [
    "Evaluem el model amb al partició de validation"
   ]
  },
  {
   "cell_type": "code",
   "execution_count": 49,
   "metadata": {},
   "outputs": [
    {
     "name": "stdout",
     "output_type": "stream",
     "text": [
      "\u001b[1m64/64\u001b[0m \u001b[32m━━━━━━━━━━━━━━━━━━━━\u001b[0m\u001b[37m\u001b[0m \u001b[1m0s\u001b[0m 2ms/step\n",
      "Correlación de Pearson (train): 0.9441170210460957\n",
      "\u001b[1m16/16\u001b[0m \u001b[32m━━━━━━━━━━━━━━━━━━━━\u001b[0m\u001b[37m\u001b[0m \u001b[1m0s\u001b[0m 1ms/step \n",
      "Correlación de Pearson (validation): 0.3498764145329417\n"
     ]
    }
   ],
   "source": [
    "print(f\"Correlación de Pearson (train): {compute_pearson(model_sp, x_train_sp, y_train_sp)}\")\n",
    "print(f\"Correlación de Pearson (validation): {compute_pearson(model_sp, x_val_sp, y_val_sp)}\")"
   ]
  },
  {
   "cell_type": "markdown",
   "metadata": {},
   "source": [
    "Provem el model amb la partició de test"
   ]
  },
  {
   "cell_type": "code",
   "execution_count": 50,
   "metadata": {},
   "outputs": [
    {
     "name": "stdout",
     "output_type": "stream",
     "text": [
      "\u001b[1m16/16\u001b[0m \u001b[32m━━━━━━━━━━━━━━━━━━━━\u001b[0m\u001b[37m\u001b[0m \u001b[1m0s\u001b[0m 1ms/step \n",
      "Correlación de Pearson (train): 0.26835966963377894\n"
     ]
    }
   ],
   "source": [
    "print(f\"Correlación de Pearson (train): {compute_pearson(model_sp, x_test_sp, y_test_sp)}\")"
   ]
  },
  {
   "cell_type": "markdown",
   "metadata": {},
   "source": [
    "##### Conclusions de SpaCy"
   ]
  },
  {
   "cell_type": "markdown",
   "metadata": {},
   "source": [
    "Utilitzant el model de SpaCy, el model segueix fent sobreajust, i funciona de manera molt similar al Word2Vec, però una mica pitjor. Això és degut a que el model de SpaCy també té en compte la semàntica de les paraules, ja que les paraules que tenen un significat similar tenen un embedding similar. Això fa que el model sigui capaç de generalitzar millor."
   ]
  },
  {
   "cell_type": "markdown",
   "metadata": {},
   "source": [
    "#### 4. RoBERTa "
   ]
  },
  {
   "cell_type": "code",
   "execution_count": 51,
   "metadata": {},
   "outputs": [],
   "source": [
    "from roberta_base import map_roberta_embed\n",
    "import spacy"
   ]
  },
  {
   "cell_type": "code",
   "execution_count": 52,
   "metadata": {},
   "outputs": [
    {
     "name": "stdout",
     "output_type": "stream",
     "text": [
      "Collecting ca-core-news-trf==3.7.2\n",
      "  Downloading https://github.com/explosion/spacy-models/releases/download/ca_core_news_trf-3.7.2/ca_core_news_trf-3.7.2-py3-none-any.whl (457.1 MB)\n",
      "     ---------------------------------------- 0.0/457.1 MB ? eta -:--:--\n",
      "     ---------------------------------------- 0.0/457.1 MB ? eta -:--:--\n",
      "     ---------------------------------------- 0.1/457.1 MB 1.7 MB/s eta 0:04:37\n",
      "     ---------------------------------------- 0.6/457.1 MB 5.1 MB/s eta 0:01:30\n",
      "     ---------------------------------------- 1.1/457.1 MB 7.0 MB/s eta 0:01:06\n",
      "     ---------------------------------------- 1.8/457.1 MB 8.6 MB/s eta 0:00:54\n",
      "     --------------------------------------- 2.6/457.1 MB 10.4 MB/s eta 0:00:44\n",
      "     --------------------------------------- 3.6/457.1 MB 12.1 MB/s eta 0:00:38\n",
      "     --------------------------------------- 4.7/457.1 MB 13.8 MB/s eta 0:00:33\n",
      "      -------------------------------------- 6.1/457.1 MB 15.7 MB/s eta 0:00:29\n",
      "      -------------------------------------- 7.8/457.1 MB 17.8 MB/s eta 0:00:26\n",
      "      -------------------------------------- 9.7/457.1 MB 20.1 MB/s eta 0:00:23\n",
      "     - ------------------------------------ 12.1/457.1 MB 31.2 MB/s eta 0:00:15\n",
      "     - ------------------------------------ 15.0/457.1 MB 43.5 MB/s eta 0:00:11\n",
      "     - ------------------------------------ 18.5/457.1 MB 54.4 MB/s eta 0:00:09\n",
      "     - ------------------------------------ 20.2/457.1 MB 54.7 MB/s eta 0:00:08\n",
      "     -- ----------------------------------- 26.9/457.1 MB 81.8 MB/s eta 0:00:06\n",
      "     -- ---------------------------------- 32.9/457.1 MB 131.2 MB/s eta 0:00:04\n",
      "     -- ---------------------------------- 37.0/457.1 MB 131.2 MB/s eta 0:00:04\n",
      "     --- ---------------------------------- 39.7/457.1 MB 81.8 MB/s eta 0:00:06\n",
      "     --- ---------------------------------- 44.9/457.1 MB 93.9 MB/s eta 0:00:05\n",
      "     --- --------------------------------- 47.3/457.1 MB 108.8 MB/s eta 0:00:04\n",
      "     ---- --------------------------------- 50.7/457.1 MB 81.8 MB/s eta 0:00:05\n",
      "     ---- --------------------------------- 51.2/457.1 MB 59.5 MB/s eta 0:00:07\n",
      "     ---- --------------------------------- 53.6/457.1 MB 50.4 MB/s eta 0:00:09\n",
      "     ---- --------------------------------- 55.0/457.1 MB 43.5 MB/s eta 0:00:10\n",
      "     ----- -------------------------------- 62.1/457.1 MB 81.8 MB/s eta 0:00:05\n",
      "     ----- -------------------------------- 63.1/457.1 MB 72.6 MB/s eta 0:00:06\n",
      "     ----- -------------------------------- 67.9/457.1 MB 93.9 MB/s eta 0:00:05\n",
      "     ----- -------------------------------- 71.4/457.1 MB 72.6 MB/s eta 0:00:06\n",
      "     ------ ------------------------------ 77.1/457.1 MB 108.8 MB/s eta 0:00:04\n",
      "     ------ ------------------------------- 80.6/457.1 MB 93.0 MB/s eta 0:00:05\n",
      "     ------- ------------------------------ 84.5/457.1 MB 93.0 MB/s eta 0:00:05\n",
      "     ------- ------------------------------ 89.1/457.1 MB 93.0 MB/s eta 0:00:04\n",
      "     ------- ------------------------------ 92.7/457.1 MB 93.9 MB/s eta 0:00:04\n",
      "     -------- ----------------------------- 96.6/457.1 MB 93.9 MB/s eta 0:00:04\n",
      "     -------- ----------------------------- 98.9/457.1 MB 73.1 MB/s eta 0:00:05\n",
      "     -------- ---------------------------- 103.9/457.1 MB 93.9 MB/s eta 0:00:04\n",
      "     -------- --------------------------- 109.0/457.1 MB 108.8 MB/s eta 0:00:04\n",
      "     -------- ---------------------------- 111.1/457.1 MB 81.8 MB/s eta 0:00:05\n",
      "     --------- --------------------------- 117.2/457.1 MB 93.0 MB/s eta 0:00:04\n",
      "     --------- -------------------------- 120.7/457.1 MB 108.8 MB/s eta 0:00:04\n",
      "     ---------- -------------------------- 124.4/457.1 MB 93.9 MB/s eta 0:00:04\n",
      "     ---------- -------------------------- 128.4/457.1 MB 81.8 MB/s eta 0:00:05\n",
      "     ---------- ------------------------- 133.3/457.1 MB 108.8 MB/s eta 0:00:03\n",
      "     ---------- ------------------------- 138.1/457.1 MB 108.8 MB/s eta 0:00:03\n",
      "     ----------- ------------------------- 140.3/457.1 MB 81.8 MB/s eta 0:00:04\n",
      "     ----------- ------------------------- 146.6/457.1 MB 93.0 MB/s eta 0:00:04\n",
      "     ----------- ------------------------- 147.7/457.1 MB 81.8 MB/s eta 0:00:04\n",
      "     ----------- ------------------------- 147.7/457.1 MB 81.8 MB/s eta 0:00:04\n",
      "     ----------- ------------------------- 147.7/457.1 MB 81.8 MB/s eta 0:00:04\n",
      "     ----------- ------------------------- 147.7/457.1 MB 81.8 MB/s eta 0:00:04\n",
      "     ----------- ------------------------- 147.7/457.1 MB 81.8 MB/s eta 0:00:04\n",
      "     ----------- ------------------------- 147.7/457.1 MB 81.8 MB/s eta 0:00:04\n",
      "     ----------- ------------------------- 147.7/457.1 MB 81.8 MB/s eta 0:00:04\n",
      "     ----------- ------------------------- 147.7/457.1 MB 81.8 MB/s eta 0:00:04\n",
      "     ------------ ------------------------ 151.2/457.1 MB 22.6 MB/s eta 0:00:14\n",
      "     ------------ ------------------------ 157.5/457.1 MB 22.5 MB/s eta 0:00:14\n",
      "     ------------ ----------------------- 161.4/457.1 MB 110.0 MB/s eta 0:00:03\n",
      "     ------------- ----------------------- 165.0/457.1 MB 93.9 MB/s eta 0:00:04\n",
      "     ------------- ----------------------- 169.2/457.1 MB 93.9 MB/s eta 0:00:04\n",
      "     ------------- ----------------------- 172.7/457.1 MB 81.8 MB/s eta 0:00:04\n",
      "     -------------- ---------------------- 176.1/457.1 MB 93.9 MB/s eta 0:00:03\n",
      "     -------------- --------------------- 182.7/457.1 MB 108.8 MB/s eta 0:00:03\n",
      "     -------------- --------------------- 187.8/457.1 MB 131.2 MB/s eta 0:00:03\n",
      "     --------------- --------------------- 190.0/457.1 MB 81.8 MB/s eta 0:00:04\n",
      "     --------------- --------------------- 194.3/457.1 MB 93.0 MB/s eta 0:00:03\n",
      "     --------------- --------------------- 194.3/457.1 MB 93.0 MB/s eta 0:00:03\n",
      "     --------------- --------------------- 194.9/457.1 MB 43.5 MB/s eta 0:00:07\n",
      "     ---------------- -------------------- 202.1/457.1 MB 59.5 MB/s eta 0:00:05\n",
      "     ---------------- ------------------- 206.0/457.1 MB 131.2 MB/s eta 0:00:02\n",
      "     ---------------- -------------------- 209.6/457.1 MB 93.0 MB/s eta 0:00:03\n",
      "     ----------------- ------------------- 214.0/457.1 MB 93.0 MB/s eta 0:00:03\n",
      "     ----------------- ------------------ 219.4/457.1 MB 108.8 MB/s eta 0:00:03\n",
      "     ----------------- ------------------ 224.0/457.1 MB 110.0 MB/s eta 0:00:03\n",
      "     ------------------ ------------------ 226.9/457.1 MB 81.8 MB/s eta 0:00:03\n",
      "     ------------------ ------------------ 228.7/457.1 MB 93.9 MB/s eta 0:00:03\n",
      "     ------------------ ------------------ 231.5/457.1 MB 65.6 MB/s eta 0:00:04\n",
      "     ------------------ ------------------ 234.4/457.1 MB 59.5 MB/s eta 0:00:04\n",
      "     ------------------- ----------------- 237.6/457.1 MB 59.5 MB/s eta 0:00:04\n",
      "     ------------------- ----------------- 238.0/457.1 MB 46.7 MB/s eta 0:00:05\n",
      "     ------------------- ----------------- 243.9/457.1 MB 65.2 MB/s eta 0:00:04\n",
      "     ------------------- ----------------- 246.6/457.1 MB 73.1 MB/s eta 0:00:03\n",
      "     -------------------- ---------------- 251.2/457.1 MB 93.9 MB/s eta 0:00:03\n",
      "     -------------------- ---------------- 254.5/457.1 MB 93.9 MB/s eta 0:00:03\n",
      "     -------------------- --------------- 260.1/457.1 MB 108.8 MB/s eta 0:00:02\n",
      "     -------------------- --------------- 263.8/457.1 MB 108.8 MB/s eta 0:00:02\n",
      "     --------------------- -------------- 269.8/457.1 MB 108.8 MB/s eta 0:00:02\n",
      "     --------------------- -------------- 272.6/457.1 MB 108.8 MB/s eta 0:00:02\n",
      "     ---------------------- -------------- 279.3/457.1 MB 93.0 MB/s eta 0:00:02\n",
      "     ---------------------- -------------- 282.0/457.1 MB 81.8 MB/s eta 0:00:03\n",
      "     ----------------------- ------------- 284.6/457.1 MB 81.8 MB/s eta 0:00:03\n",
      "     ----------------------- ------------- 290.2/457.1 MB 81.8 MB/s eta 0:00:03\n",
      "     ----------------------- ------------ 296.1/457.1 MB 131.2 MB/s eta 0:00:02\n",
      "     ----------------------- ------------ 299.3/457.1 MB 108.8 MB/s eta 0:00:02\n",
      "     ------------------------ ------------ 304.3/457.1 MB 93.0 MB/s eta 0:00:02\n",
      "     ------------------------ ----------- 310.1/457.1 MB 131.2 MB/s eta 0:00:02\n",
      "     ------------------------- ----------- 313.0/457.1 MB 93.0 MB/s eta 0:00:02\n",
      "     ------------------------- ---------- 319.8/457.1 MB 110.0 MB/s eta 0:00:02\n",
      "     -------------------------- ---------- 321.5/457.1 MB 81.8 MB/s eta 0:00:02\n",
      "     ------------------------- ---------- 329.1/457.1 MB 108.8 MB/s eta 0:00:02\n",
      "     -------------------------- --------- 332.1/457.1 MB 108.8 MB/s eta 0:00:02\n",
      "     -------------------------- --------- 338.1/457.1 MB 108.8 MB/s eta 0:00:02\n",
      "     -------------------------- --------- 342.7/457.1 MB 131.2 MB/s eta 0:00:01\n",
      "     --------------------------- --------- 343.4/457.1 MB 81.8 MB/s eta 0:00:02\n",
      "     ---------------------------- -------- 346.9/457.1 MB 65.2 MB/s eta 0:00:02\n",
      "     --------------------------- -------- 354.1/457.1 MB 110.0 MB/s eta 0:00:01\n",
      "     ---------------------------- ------- 360.9/457.1 MB 165.0 MB/s eta 0:00:01\n",
      "     ---------------------------- ------- 365.6/457.1 MB 162.4 MB/s eta 0:00:01\n",
      "     ---------------------------- ------- 368.1/457.1 MB 110.0 MB/s eta 0:00:01\n",
      "     ------------------------------ ------ 370.7/457.1 MB 72.6 MB/s eta 0:00:02\n",
      "     ------------------------------ ------ 372.3/457.1 MB 72.6 MB/s eta 0:00:02\n",
      "     ------------------------------ ------ 374.9/457.1 MB 54.7 MB/s eta 0:00:02\n",
      "     ------------------------------ ------ 376.8/457.1 MB 50.1 MB/s eta 0:00:02\n",
      "     ------------------------------ ------ 377.0/457.1 MB 50.1 MB/s eta 0:00:02\n",
      "     ------------------------------ ------ 378.0/457.1 MB 40.9 MB/s eta 0:00:02\n",
      "     ------------------------------ ------ 382.8/457.1 MB 43.7 MB/s eta 0:00:02\n",
      "     ------------------------------- ----- 386.7/457.1 MB 59.8 MB/s eta 0:00:02\n",
      "     ------------------------------- ----- 388.3/457.1 MB 81.8 MB/s eta 0:00:01\n",
      "     ------------------------------- ----- 390.9/457.1 MB 65.6 MB/s eta 0:00:02\n",
      "     ------------------------------- ----- 393.2/457.1 MB 59.5 MB/s eta 0:00:02\n",
      "     ------------------------------- ----- 394.0/457.1 MB 50.4 MB/s eta 0:00:02\n",
      "     -------------------------------- ---- 396.6/457.1 MB 43.5 MB/s eta 0:00:02\n",
      "     -------------------------------- ---- 399.3/457.1 MB 43.7 MB/s eta 0:00:02\n",
      "     -------------------------------- ---- 401.3/457.1 MB 50.1 MB/s eta 0:00:02\n",
      "     -------------------------------- ---- 401.3/457.1 MB 50.1 MB/s eta 0:00:02\n",
      "     -------------------------------- ---- 404.8/457.1 MB 46.7 MB/s eta 0:00:02\n",
      "     -------------------------------- ---- 406.5/457.1 MB 43.5 MB/s eta 0:00:02\n",
      "     --------------------------------- --- 408.0/457.1 MB 40.9 MB/s eta 0:00:02\n",
      "     --------------------------------- --- 413.3/457.1 MB 59.5 MB/s eta 0:00:01\n",
      "     --------------------------------- --- 414.4/457.1 MB 59.5 MB/s eta 0:00:01\n",
      "     --------------------------------- --- 414.4/457.1 MB 59.5 MB/s eta 0:00:01\n",
      "     --------------------------------- --- 417.9/457.1 MB 54.7 MB/s eta 0:00:01\n",
      "     ---------------------------------- -- 421.8/457.1 MB 50.4 MB/s eta 0:00:01\n",
      "     ---------------------------------- -- 425.7/457.1 MB 81.8 MB/s eta 0:00:01\n",
      "     ---------------------------------- -- 428.7/457.1 MB 81.8 MB/s eta 0:00:01\n",
      "     ---------------------------------- -- 430.1/457.1 MB 59.5 MB/s eta 0:00:01\n",
      "     ----------------------------------- - 432.6/457.1 MB 59.5 MB/s eta 0:00:01\n",
      "     ----------------------------------- - 434.4/457.1 MB 54.4 MB/s eta 0:00:01\n",
      "     ----------------------------------- - 435.0/457.1 MB 40.9 MB/s eta 0:00:01\n",
      "     ----------------------------------- - 436.5/457.1 MB 43.7 MB/s eta 0:00:01\n",
      "     ----------------------------------- - 438.8/457.1 MB 34.4 MB/s eta 0:00:01\n",
      "     ----------------------------------- - 442.2/457.1 MB 43.7 MB/s eta 0:00:01\n",
      "     ------------------------------------  445.1/457.1 MB 43.5 MB/s eta 0:00:01\n",
      "     ------------------------------------  446.4/457.1 MB 43.5 MB/s eta 0:00:01\n",
      "     ------------------------------------  447.9/457.1 MB 54.4 MB/s eta 0:00:01\n",
      "     ------------------------------------  451.1/457.1 MB 46.9 MB/s eta 0:00:01\n",
      "     ------------------------------------  452.3/457.1 MB 43.5 MB/s eta 0:00:01\n",
      "     ------------------------------------  453.4/457.1 MB 38.5 MB/s eta 0:00:01\n",
      "     ------------------------------------  454.5/457.1 MB 34.6 MB/s eta 0:00:01\n",
      "     ------------------------------------  457.1/457.1 MB 43.7 MB/s eta 0:00:01\n",
      "     ------------------------------------  457.1/457.1 MB 43.7 MB/s eta 0:00:01\n",
      "     ------------------------------------  457.1/457.1 MB 43.7 MB/s eta 0:00:01\n",
      "     ------------------------------------  457.1/457.1 MB 43.7 MB/s eta 0:00:01\n",
      "     ------------------------------------  457.1/457.1 MB 43.7 MB/s eta 0:00:01\n",
      "     ------------------------------------  457.1/457.1 MB 43.7 MB/s eta 0:00:01\n",
      "     ------------------------------------  457.1/457.1 MB 43.7 MB/s eta 0:00:01\n",
      "     ------------------------------------  457.1/457.1 MB 43.7 MB/s eta 0:00:01\n",
      "     ------------------------------------  457.1/457.1 MB 43.7 MB/s eta 0:00:01\n",
      "     ------------------------------------  457.1/457.1 MB 43.7 MB/s eta 0:00:01\n",
      "     ------------------------------------  457.1/457.1 MB 43.7 MB/s eta 0:00:01\n",
      "     ------------------------------------  457.1/457.1 MB 43.7 MB/s eta 0:00:01\n",
      "     ------------------------------------  457.1/457.1 MB 43.7 MB/s eta 0:00:01\n",
      "     ------------------------------------  457.1/457.1 MB 43.7 MB/s eta 0:00:01\n",
      "     ------------------------------------  457.1/457.1 MB 43.7 MB/s eta 0:00:01\n",
      "     ------------------------------------  457.1/457.1 MB 43.7 MB/s eta 0:00:01\n",
      "     ------------------------------------  457.1/457.1 MB 43.7 MB/s eta 0:00:01\n",
      "     ------------------------------------  457.1/457.1 MB 43.7 MB/s eta 0:00:01\n",
      "     ------------------------------------  457.1/457.1 MB 43.7 MB/s eta 0:00:01\n",
      "     ------------------------------------  457.1/457.1 MB 43.7 MB/s eta 0:00:01\n",
      "     ------------------------------------  457.1/457.1 MB 43.7 MB/s eta 0:00:01\n",
      "     ------------------------------------  457.1/457.1 MB 43.7 MB/s eta 0:00:01\n",
      "     ------------------------------------  457.1/457.1 MB 43.7 MB/s eta 0:00:01\n",
      "     ------------------------------------  457.1/457.1 MB 43.7 MB/s eta 0:00:01\n",
      "     ------------------------------------  457.1/457.1 MB 43.7 MB/s eta 0:00:01\n",
      "     ------------------------------------  457.1/457.1 MB 43.7 MB/s eta 0:00:01\n",
      "     ------------------------------------  457.1/457.1 MB 43.7 MB/s eta 0:00:01\n",
      "     ------------------------------------  457.1/457.1 MB 43.7 MB/s eta 0:00:01\n",
      "     ------------------------------------  457.1/457.1 MB 43.7 MB/s eta 0:00:01\n",
      "     ------------------------------------  457.1/457.1 MB 43.7 MB/s eta 0:00:01\n",
      "     ------------------------------------  457.1/457.1 MB 43.7 MB/s eta 0:00:01\n",
      "     ------------------------------------  457.1/457.1 MB 43.7 MB/s eta 0:00:01\n",
      "     ------------------------------------  457.1/457.1 MB 43.7 MB/s eta 0:00:01\n",
      "     ------------------------------------  457.1/457.1 MB 43.7 MB/s eta 0:00:01\n",
      "     ------------------------------------  457.1/457.1 MB 43.7 MB/s eta 0:00:01\n",
      "     ------------------------------------  457.1/457.1 MB 43.7 MB/s eta 0:00:01\n",
      "     ------------------------------------  457.1/457.1 MB 43.7 MB/s eta 0:00:01\n",
      "     ------------------------------------  457.1/457.1 MB 43.7 MB/s eta 0:00:01\n",
      "     ------------------------------------  457.1/457.1 MB 43.7 MB/s eta 0:00:01\n",
      "     ------------------------------------  457.1/457.1 MB 43.7 MB/s eta 0:00:01\n",
      "     ------------------------------------  457.1/457.1 MB 43.7 MB/s eta 0:00:01\n",
      "     ------------------------------------  457.1/457.1 MB 43.7 MB/s eta 0:00:01\n",
      "     ------------------------------------  457.1/457.1 MB 43.7 MB/s eta 0:00:01\n",
      "     ------------------------------------  457.1/457.1 MB 43.7 MB/s eta 0:00:01\n",
      "     ------------------------------------  457.1/457.1 MB 43.7 MB/s eta 0:00:01\n",
      "     ------------------------------------  457.1/457.1 MB 43.7 MB/s eta 0:00:01\n",
      "     ------------------------------------  457.1/457.1 MB 43.7 MB/s eta 0:00:01\n",
      "     ------------------------------------  457.1/457.1 MB 43.7 MB/s eta 0:00:01\n",
      "     ------------------------------------  457.1/457.1 MB 43.7 MB/s eta 0:00:01\n",
      "     ------------------------------------  457.1/457.1 MB 43.7 MB/s eta 0:00:01\n",
      "     ------------------------------------  457.1/457.1 MB 43.7 MB/s eta 0:00:01\n",
      "     ------------------------------------  457.1/457.1 MB 43.7 MB/s eta 0:00:01\n",
      "     ------------------------------------  457.1/457.1 MB 43.7 MB/s eta 0:00:01\n",
      "     ------------------------------------  457.1/457.1 MB 43.7 MB/s eta 0:00:01\n",
      "     ------------------------------------  457.1/457.1 MB 43.7 MB/s eta 0:00:01\n",
      "     ------------------------------------  457.1/457.1 MB 43.7 MB/s eta 0:00:01\n",
      "     ------------------------------------  457.1/457.1 MB 43.7 MB/s eta 0:00:01\n",
      "     ------------------------------------  457.1/457.1 MB 43.7 MB/s eta 0:00:01\n",
      "     ------------------------------------  457.1/457.1 MB 43.7 MB/s eta 0:00:01\n",
      "     ------------------------------------  457.1/457.1 MB 43.7 MB/s eta 0:00:01\n",
      "     ------------------------------------  457.1/457.1 MB 43.7 MB/s eta 0:00:01\n",
      "     ------------------------------------  457.1/457.1 MB 43.7 MB/s eta 0:00:01\n",
      "     ------------------------------------  457.1/457.1 MB 43.7 MB/s eta 0:00:01\n",
      "     ------------------------------------  457.1/457.1 MB 43.7 MB/s eta 0:00:01\n",
      "     ------------------------------------  457.1/457.1 MB 43.7 MB/s eta 0:00:01\n",
      "     ------------------------------------  457.1/457.1 MB 43.7 MB/s eta 0:00:01\n",
      "     ------------------------------------  457.1/457.1 MB 43.7 MB/s eta 0:00:01\n",
      "     ------------------------------------  457.1/457.1 MB 43.7 MB/s eta 0:00:01\n",
      "     ------------------------------------  457.1/457.1 MB 43.7 MB/s eta 0:00:01\n",
      "     ------------------------------------  457.1/457.1 MB 43.7 MB/s eta 0:00:01\n",
      "     ------------------------------------  457.1/457.1 MB 43.7 MB/s eta 0:00:01\n",
      "     ------------------------------------  457.1/457.1 MB 43.7 MB/s eta 0:00:01\n",
      "     ------------------------------------  457.1/457.1 MB 43.7 MB/s eta 0:00:01\n",
      "     ------------------------------------  457.1/457.1 MB 43.7 MB/s eta 0:00:01\n",
      "     ------------------------------------  457.1/457.1 MB 43.7 MB/s eta 0:00:01\n",
      "     ------------------------------------  457.1/457.1 MB 43.7 MB/s eta 0:00:01\n",
      "     ------------------------------------  457.1/457.1 MB 43.7 MB/s eta 0:00:01\n",
      "     ------------------------------------  457.1/457.1 MB 43.7 MB/s eta 0:00:01\n",
      "     ------------------------------------  457.1/457.1 MB 43.7 MB/s eta 0:00:01\n",
      "     ------------------------------------  457.1/457.1 MB 43.7 MB/s eta 0:00:01\n",
      "     ------------------------------------  457.1/457.1 MB 43.7 MB/s eta 0:00:01\n",
      "     ------------------------------------  457.1/457.1 MB 43.7 MB/s eta 0:00:01\n",
      "     ------------------------------------  457.1/457.1 MB 43.7 MB/s eta 0:00:01\n",
      "     ------------------------------------  457.1/457.1 MB 43.7 MB/s eta 0:00:01\n",
      "     ------------------------------------  457.1/457.1 MB 43.7 MB/s eta 0:00:01\n",
      "     ------------------------------------  457.1/457.1 MB 43.7 MB/s eta 0:00:01\n",
      "     ------------------------------------  457.1/457.1 MB 43.7 MB/s eta 0:00:01\n",
      "     ------------------------------------  457.1/457.1 MB 43.7 MB/s eta 0:00:01\n",
      "     ------------------------------------  457.1/457.1 MB 43.7 MB/s eta 0:00:01\n",
      "     ------------------------------------  457.1/457.1 MB 43.7 MB/s eta 0:00:01\n",
      "     ------------------------------------  457.1/457.1 MB 43.7 MB/s eta 0:00:01\n",
      "     ------------------------------------  457.1/457.1 MB 43.7 MB/s eta 0:00:01\n",
      "     ------------------------------------  457.1/457.1 MB 43.7 MB/s eta 0:00:01\n",
      "     ------------------------------------  457.1/457.1 MB 43.7 MB/s eta 0:00:01\n",
      "     ------------------------------------  457.1/457.1 MB 43.7 MB/s eta 0:00:01\n",
      "     ------------------------------------  457.1/457.1 MB 43.7 MB/s eta 0:00:01\n",
      "     ------------------------------------  457.1/457.1 MB 43.7 MB/s eta 0:00:01\n",
      "     ------------------------------------  457.1/457.1 MB 43.7 MB/s eta 0:00:01\n",
      "     ------------------------------------  457.1/457.1 MB 43.7 MB/s eta 0:00:01\n",
      "     ------------------------------------  457.1/457.1 MB 43.7 MB/s eta 0:00:01\n",
      "     ------------------------------------  457.1/457.1 MB 43.7 MB/s eta 0:00:01\n",
      "     ------------------------------------  457.1/457.1 MB 43.7 MB/s eta 0:00:01\n",
      "     ------------------------------------  457.1/457.1 MB 43.7 MB/s eta 0:00:01\n",
      "     ------------------------------------  457.1/457.1 MB 43.7 MB/s eta 0:00:01\n",
      "     ------------------------------------  457.1/457.1 MB 43.7 MB/s eta 0:00:01\n",
      "     ------------------------------------  457.1/457.1 MB 43.7 MB/s eta 0:00:01\n",
      "     ------------------------------------  457.1/457.1 MB 43.7 MB/s eta 0:00:01\n",
      "     ------------------------------------  457.1/457.1 MB 43.7 MB/s eta 0:00:01\n",
      "     ------------------------------------  457.1/457.1 MB 43.7 MB/s eta 0:00:01\n",
      "     ------------------------------------  457.1/457.1 MB 43.7 MB/s eta 0:00:01\n",
      "     ------------------------------------  457.1/457.1 MB 43.7 MB/s eta 0:00:01\n",
      "     -------------------------------------- 457.1/457.1 MB 1.9 MB/s eta 0:00:00\n",
      "Requirement already satisfied: spacy<3.8.0,>=3.7.0 in c:\\users\\ralva\\desktop\\university\\4t-cuatrimestre-gia\\plh\\plh-wordembeddings\\wordembeddings\\lib\\site-packages (from ca-core-news-trf==3.7.2) (3.7.4)\n",
      "Requirement already satisfied: spacy-curated-transformers<0.3.0,>=0.2.0 in c:\\users\\ralva\\desktop\\university\\4t-cuatrimestre-gia\\plh\\plh-wordembeddings\\wordembeddings\\lib\\site-packages (from ca-core-news-trf==3.7.2) (0.2.2)\n",
      "Requirement already satisfied: spacy-legacy<3.1.0,>=3.0.11 in c:\\users\\ralva\\desktop\\university\\4t-cuatrimestre-gia\\plh\\plh-wordembeddings\\wordembeddings\\lib\\site-packages (from spacy<3.8.0,>=3.7.0->ca-core-news-trf==3.7.2) (3.0.12)\n",
      "Requirement already satisfied: spacy-loggers<2.0.0,>=1.0.0 in c:\\users\\ralva\\desktop\\university\\4t-cuatrimestre-gia\\plh\\plh-wordembeddings\\wordembeddings\\lib\\site-packages (from spacy<3.8.0,>=3.7.0->ca-core-news-trf==3.7.2) (1.0.5)\n",
      "Requirement already satisfied: murmurhash<1.1.0,>=0.28.0 in c:\\users\\ralva\\desktop\\university\\4t-cuatrimestre-gia\\plh\\plh-wordembeddings\\wordembeddings\\lib\\site-packages (from spacy<3.8.0,>=3.7.0->ca-core-news-trf==3.7.2) (1.0.10)\n",
      "Requirement already satisfied: cymem<2.1.0,>=2.0.2 in c:\\users\\ralva\\desktop\\university\\4t-cuatrimestre-gia\\plh\\plh-wordembeddings\\wordembeddings\\lib\\site-packages (from spacy<3.8.0,>=3.7.0->ca-core-news-trf==3.7.2) (2.0.8)\n",
      "Requirement already satisfied: preshed<3.1.0,>=3.0.2 in c:\\users\\ralva\\desktop\\university\\4t-cuatrimestre-gia\\plh\\plh-wordembeddings\\wordembeddings\\lib\\site-packages (from spacy<3.8.0,>=3.7.0->ca-core-news-trf==3.7.2) (3.0.9)\n",
      "Requirement already satisfied: thinc<8.3.0,>=8.2.2 in c:\\users\\ralva\\desktop\\university\\4t-cuatrimestre-gia\\plh\\plh-wordembeddings\\wordembeddings\\lib\\site-packages (from spacy<3.8.0,>=3.7.0->ca-core-news-trf==3.7.2) (8.2.3)\n",
      "Requirement already satisfied: wasabi<1.2.0,>=0.9.1 in c:\\users\\ralva\\desktop\\university\\4t-cuatrimestre-gia\\plh\\plh-wordembeddings\\wordembeddings\\lib\\site-packages (from spacy<3.8.0,>=3.7.0->ca-core-news-trf==3.7.2) (1.1.2)\n",
      "Requirement already satisfied: srsly<3.0.0,>=2.4.3 in c:\\users\\ralva\\desktop\\university\\4t-cuatrimestre-gia\\plh\\plh-wordembeddings\\wordembeddings\\lib\\site-packages (from spacy<3.8.0,>=3.7.0->ca-core-news-trf==3.7.2) (2.4.8)\n",
      "Requirement already satisfied: catalogue<2.1.0,>=2.0.6 in c:\\users\\ralva\\desktop\\university\\4t-cuatrimestre-gia\\plh\\plh-wordembeddings\\wordembeddings\\lib\\site-packages (from spacy<3.8.0,>=3.7.0->ca-core-news-trf==3.7.2) (2.0.10)\n",
      "Requirement already satisfied: weasel<0.4.0,>=0.1.0 in c:\\users\\ralva\\desktop\\university\\4t-cuatrimestre-gia\\plh\\plh-wordembeddings\\wordembeddings\\lib\\site-packages (from spacy<3.8.0,>=3.7.0->ca-core-news-trf==3.7.2) (0.3.4)\n",
      "Requirement already satisfied: typer<0.10.0,>=0.3.0 in c:\\users\\ralva\\desktop\\university\\4t-cuatrimestre-gia\\plh\\plh-wordembeddings\\wordembeddings\\lib\\site-packages (from spacy<3.8.0,>=3.7.0->ca-core-news-trf==3.7.2) (0.9.4)\n",
      "Requirement already satisfied: smart-open<7.0.0,>=5.2.1 in c:\\users\\ralva\\desktop\\university\\4t-cuatrimestre-gia\\plh\\plh-wordembeddings\\wordembeddings\\lib\\site-packages (from spacy<3.8.0,>=3.7.0->ca-core-news-trf==3.7.2) (6.4.0)\n",
      "Requirement already satisfied: tqdm<5.0.0,>=4.38.0 in c:\\users\\ralva\\desktop\\university\\4t-cuatrimestre-gia\\plh\\plh-wordembeddings\\wordembeddings\\lib\\site-packages (from spacy<3.8.0,>=3.7.0->ca-core-news-trf==3.7.2) (4.66.4)\n",
      "Requirement already satisfied: requests<3.0.0,>=2.13.0 in c:\\users\\ralva\\desktop\\university\\4t-cuatrimestre-gia\\plh\\plh-wordembeddings\\wordembeddings\\lib\\site-packages (from spacy<3.8.0,>=3.7.0->ca-core-news-trf==3.7.2) (2.31.0)\n",
      "Requirement already satisfied: pydantic!=1.8,!=1.8.1,<3.0.0,>=1.7.4 in c:\\users\\ralva\\desktop\\university\\4t-cuatrimestre-gia\\plh\\plh-wordembeddings\\wordembeddings\\lib\\site-packages (from spacy<3.8.0,>=3.7.0->ca-core-news-trf==3.7.2) (2.7.1)\n",
      "Requirement already satisfied: jinja2 in c:\\users\\ralva\\desktop\\university\\4t-cuatrimestre-gia\\plh\\plh-wordembeddings\\wordembeddings\\lib\\site-packages (from spacy<3.8.0,>=3.7.0->ca-core-news-trf==3.7.2) (3.1.4)\n",
      "Requirement already satisfied: setuptools in c:\\users\\ralva\\desktop\\university\\4t-cuatrimestre-gia\\plh\\plh-wordembeddings\\wordembeddings\\lib\\site-packages (from spacy<3.8.0,>=3.7.0->ca-core-news-trf==3.7.2) (65.5.0)\n",
      "Requirement already satisfied: packaging>=20.0 in c:\\users\\ralva\\desktop\\university\\4t-cuatrimestre-gia\\plh\\plh-wordembeddings\\wordembeddings\\lib\\site-packages (from spacy<3.8.0,>=3.7.0->ca-core-news-trf==3.7.2) (24.0)\n",
      "Requirement already satisfied: langcodes<4.0.0,>=3.2.0 in c:\\users\\ralva\\desktop\\university\\4t-cuatrimestre-gia\\plh\\plh-wordembeddings\\wordembeddings\\lib\\site-packages (from spacy<3.8.0,>=3.7.0->ca-core-news-trf==3.7.2) (3.4.0)\n",
      "Requirement already satisfied: numpy>=1.19.0 in c:\\users\\ralva\\desktop\\university\\4t-cuatrimestre-gia\\plh\\plh-wordembeddings\\wordembeddings\\lib\\site-packages (from spacy<3.8.0,>=3.7.0->ca-core-news-trf==3.7.2) (1.26.4)\n",
      "Requirement already satisfied: curated-transformers<0.2.0,>=0.1.0 in c:\\users\\ralva\\desktop\\university\\4t-cuatrimestre-gia\\plh\\plh-wordembeddings\\wordembeddings\\lib\\site-packages (from spacy-curated-transformers<0.3.0,>=0.2.0->ca-core-news-trf==3.7.2) (0.1.1)\n",
      "Requirement already satisfied: curated-tokenizers<0.1.0,>=0.0.9 in c:\\users\\ralva\\desktop\\university\\4t-cuatrimestre-gia\\plh\\plh-wordembeddings\\wordembeddings\\lib\\site-packages (from spacy-curated-transformers<0.3.0,>=0.2.0->ca-core-news-trf==3.7.2) (0.0.9)\n",
      "Requirement already satisfied: torch>=1.12.0 in c:\\users\\ralva\\desktop\\university\\4t-cuatrimestre-gia\\plh\\plh-wordembeddings\\wordembeddings\\lib\\site-packages (from spacy-curated-transformers<0.3.0,>=0.2.0->ca-core-news-trf==3.7.2) (2.3.0)\n",
      "Requirement already satisfied: regex>=2022 in c:\\users\\ralva\\desktop\\university\\4t-cuatrimestre-gia\\plh\\plh-wordembeddings\\wordembeddings\\lib\\site-packages (from curated-tokenizers<0.1.0,>=0.0.9->spacy-curated-transformers<0.3.0,>=0.2.0->ca-core-news-trf==3.7.2) (2024.5.15)\n",
      "Requirement already satisfied: language-data>=1.2 in c:\\users\\ralva\\desktop\\university\\4t-cuatrimestre-gia\\plh\\plh-wordembeddings\\wordembeddings\\lib\\site-packages (from langcodes<4.0.0,>=3.2.0->spacy<3.8.0,>=3.7.0->ca-core-news-trf==3.7.2) (1.2.0)\n",
      "Requirement already satisfied: annotated-types>=0.4.0 in c:\\users\\ralva\\desktop\\university\\4t-cuatrimestre-gia\\plh\\plh-wordembeddings\\wordembeddings\\lib\\site-packages (from pydantic!=1.8,!=1.8.1,<3.0.0,>=1.7.4->spacy<3.8.0,>=3.7.0->ca-core-news-trf==3.7.2) (0.6.0)\n",
      "Requirement already satisfied: pydantic-core==2.18.2 in c:\\users\\ralva\\desktop\\university\\4t-cuatrimestre-gia\\plh\\plh-wordembeddings\\wordembeddings\\lib\\site-packages (from pydantic!=1.8,!=1.8.1,<3.0.0,>=1.7.4->spacy<3.8.0,>=3.7.0->ca-core-news-trf==3.7.2) (2.18.2)\n",
      "Requirement already satisfied: typing-extensions>=4.6.1 in c:\\users\\ralva\\desktop\\university\\4t-cuatrimestre-gia\\plh\\plh-wordembeddings\\wordembeddings\\lib\\site-packages (from pydantic!=1.8,!=1.8.1,<3.0.0,>=1.7.4->spacy<3.8.0,>=3.7.0->ca-core-news-trf==3.7.2) (4.11.0)\n",
      "Requirement already satisfied: charset-normalizer<4,>=2 in c:\\users\\ralva\\desktop\\university\\4t-cuatrimestre-gia\\plh\\plh-wordembeddings\\wordembeddings\\lib\\site-packages (from requests<3.0.0,>=2.13.0->spacy<3.8.0,>=3.7.0->ca-core-news-trf==3.7.2) (3.3.2)\n",
      "Requirement already satisfied: idna<4,>=2.5 in c:\\users\\ralva\\desktop\\university\\4t-cuatrimestre-gia\\plh\\plh-wordembeddings\\wordembeddings\\lib\\site-packages (from requests<3.0.0,>=2.13.0->spacy<3.8.0,>=3.7.0->ca-core-news-trf==3.7.2) (3.7)\n",
      "Requirement already satisfied: urllib3<3,>=1.21.1 in c:\\users\\ralva\\desktop\\university\\4t-cuatrimestre-gia\\plh\\plh-wordembeddings\\wordembeddings\\lib\\site-packages (from requests<3.0.0,>=2.13.0->spacy<3.8.0,>=3.7.0->ca-core-news-trf==3.7.2) (2.2.1)\n",
      "Requirement already satisfied: certifi>=2017.4.17 in c:\\users\\ralva\\desktop\\university\\4t-cuatrimestre-gia\\plh\\plh-wordembeddings\\wordembeddings\\lib\\site-packages (from requests<3.0.0,>=2.13.0->spacy<3.8.0,>=3.7.0->ca-core-news-trf==3.7.2) (2024.2.2)\n",
      "Requirement already satisfied: blis<0.8.0,>=0.7.8 in c:\\users\\ralva\\desktop\\university\\4t-cuatrimestre-gia\\plh\\plh-wordembeddings\\wordembeddings\\lib\\site-packages (from thinc<8.3.0,>=8.2.2->spacy<3.8.0,>=3.7.0->ca-core-news-trf==3.7.2) (0.7.11)\n",
      "Requirement already satisfied: confection<1.0.0,>=0.0.1 in c:\\users\\ralva\\desktop\\university\\4t-cuatrimestre-gia\\plh\\plh-wordembeddings\\wordembeddings\\lib\\site-packages (from thinc<8.3.0,>=8.2.2->spacy<3.8.0,>=3.7.0->ca-core-news-trf==3.7.2) (0.1.4)\n",
      "Requirement already satisfied: filelock in c:\\users\\ralva\\desktop\\university\\4t-cuatrimestre-gia\\plh\\plh-wordembeddings\\wordembeddings\\lib\\site-packages (from torch>=1.12.0->spacy-curated-transformers<0.3.0,>=0.2.0->ca-core-news-trf==3.7.2) (3.14.0)\n",
      "Requirement already satisfied: sympy in c:\\users\\ralva\\desktop\\university\\4t-cuatrimestre-gia\\plh\\plh-wordembeddings\\wordembeddings\\lib\\site-packages (from torch>=1.12.0->spacy-curated-transformers<0.3.0,>=0.2.0->ca-core-news-trf==3.7.2) (1.12)\n",
      "Requirement already satisfied: networkx in c:\\users\\ralva\\desktop\\university\\4t-cuatrimestre-gia\\plh\\plh-wordembeddings\\wordembeddings\\lib\\site-packages (from torch>=1.12.0->spacy-curated-transformers<0.3.0,>=0.2.0->ca-core-news-trf==3.7.2) (3.3)\n",
      "Requirement already satisfied: fsspec in c:\\users\\ralva\\desktop\\university\\4t-cuatrimestre-gia\\plh\\plh-wordembeddings\\wordembeddings\\lib\\site-packages (from torch>=1.12.0->spacy-curated-transformers<0.3.0,>=0.2.0->ca-core-news-trf==3.7.2) (2024.3.1)\n",
      "Requirement already satisfied: mkl<=2021.4.0,>=2021.1.1 in c:\\users\\ralva\\desktop\\university\\4t-cuatrimestre-gia\\plh\\plh-wordembeddings\\wordembeddings\\lib\\site-packages (from torch>=1.12.0->spacy-curated-transformers<0.3.0,>=0.2.0->ca-core-news-trf==3.7.2) (2021.4.0)\n",
      "Requirement already satisfied: colorama in c:\\users\\ralva\\desktop\\university\\4t-cuatrimestre-gia\\plh\\plh-wordembeddings\\wordembeddings\\lib\\site-packages (from tqdm<5.0.0,>=4.38.0->spacy<3.8.0,>=3.7.0->ca-core-news-trf==3.7.2) (0.4.6)\n",
      "Requirement already satisfied: click<9.0.0,>=7.1.1 in c:\\users\\ralva\\desktop\\university\\4t-cuatrimestre-gia\\plh\\plh-wordembeddings\\wordembeddings\\lib\\site-packages (from typer<0.10.0,>=0.3.0->spacy<3.8.0,>=3.7.0->ca-core-news-trf==3.7.2) (8.1.7)\n",
      "Requirement already satisfied: cloudpathlib<0.17.0,>=0.7.0 in c:\\users\\ralva\\desktop\\university\\4t-cuatrimestre-gia\\plh\\plh-wordembeddings\\wordembeddings\\lib\\site-packages (from weasel<0.4.0,>=0.1.0->spacy<3.8.0,>=3.7.0->ca-core-news-trf==3.7.2) (0.16.0)\n",
      "Requirement already satisfied: MarkupSafe>=2.0 in c:\\users\\ralva\\desktop\\university\\4t-cuatrimestre-gia\\plh\\plh-wordembeddings\\wordembeddings\\lib\\site-packages (from jinja2->spacy<3.8.0,>=3.7.0->ca-core-news-trf==3.7.2) (2.1.5)\n",
      "Requirement already satisfied: marisa-trie>=0.7.7 in c:\\users\\ralva\\desktop\\university\\4t-cuatrimestre-gia\\plh\\plh-wordembeddings\\wordembeddings\\lib\\site-packages (from language-data>=1.2->langcodes<4.0.0,>=3.2.0->spacy<3.8.0,>=3.7.0->ca-core-news-trf==3.7.2) (1.1.1)\n",
      "Requirement already satisfied: intel-openmp==2021.* in c:\\users\\ralva\\desktop\\university\\4t-cuatrimestre-gia\\plh\\plh-wordembeddings\\wordembeddings\\lib\\site-packages (from mkl<=2021.4.0,>=2021.1.1->torch>=1.12.0->spacy-curated-transformers<0.3.0,>=0.2.0->ca-core-news-trf==3.7.2) (2021.4.0)\n",
      "Requirement already satisfied: tbb==2021.* in c:\\users\\ralva\\desktop\\university\\4t-cuatrimestre-gia\\plh\\plh-wordembeddings\\wordembeddings\\lib\\site-packages (from mkl<=2021.4.0,>=2021.1.1->torch>=1.12.0->spacy-curated-transformers<0.3.0,>=0.2.0->ca-core-news-trf==3.7.2) (2021.12.0)\n",
      "Requirement already satisfied: mpmath>=0.19 in c:\\users\\ralva\\desktop\\university\\4t-cuatrimestre-gia\\plh\\plh-wordembeddings\\wordembeddings\\lib\\site-packages (from sympy->torch>=1.12.0->spacy-curated-transformers<0.3.0,>=0.2.0->ca-core-news-trf==3.7.2) (1.3.0)\n",
      "\u001b[38;5;2m✔ Download and installation successful\u001b[0m\n",
      "You can now load the package via spacy.load('ca_core_news_trf')\n"
     ]
    }
   ],
   "source": [
    "!python -m spacy download ca_core_news_trf"
   ]
  },
  {
   "cell_type": "markdown",
   "metadata": {},
   "source": [
    "Carreguem el model de RoBERTa preentrenat en català."
   ]
  },
  {
   "cell_type": "code",
   "execution_count": 53,
   "metadata": {},
   "outputs": [],
   "source": [
    "roberta_model = spacy.load(\"ca_core_news_trf\")"
   ]
  },
  {
   "cell_type": "markdown",
   "metadata": {},
   "source": [
    "Passem les particions de train, test i val a vectors amb la funció *map_roberta()*. Aquesta funció utilitza el model de RoBERTa per a convertir les frases a vectors."
   ]
  },
  {
   "cell_type": "code",
   "execution_count": 54,
   "metadata": {},
   "outputs": [],
   "source": [
    "mapped_roberta_train = map_roberta_embed(train, roberta_model)\n",
    "mapped_roberta_test = map_roberta_embed(test, roberta_model)\n",
    "mapped_roberta_val = map_roberta_embed(val, roberta_model)"
   ]
  },
  {
   "cell_type": "markdown",
   "metadata": {},
   "source": [
    "Dividim les particions en X i Y."
   ]
  },
  {
   "cell_type": "code",
   "execution_count": 55,
   "metadata": {},
   "outputs": [],
   "source": [
    "x_train_roberta, y_train_roberta = pair_list_to_x_y(mapped_roberta_train)\n",
    "x_val_roberta, y_val_roberta = pair_list_to_x_y(mapped_roberta_val)\n",
    "x_test_roberta, y_test_roberta = pair_list_to_x_y(mapped_roberta_test)"
   ]
  },
  {
   "cell_type": "markdown",
   "metadata": {},
   "source": [
    "Entrenem el model."
   ]
  },
  {
   "cell_type": "code",
   "execution_count": 56,
   "metadata": {},
   "outputs": [],
   "source": [
    "batch_size_roberta: int = 64\n",
    "num_epochs_roberta: int = 64\n",
    "\n",
    "train_dataset_roberta = tf.data.Dataset.from_tensor_slices((x_train_roberta, y_train_roberta))\n",
    "train_dataset_roberta = train_dataset_roberta.shuffle(buffer_size=len(x_train_roberta)).batch(batch_size_roberta)\n",
    "\n",
    "val_dataset_roberta = tf.data.Dataset.from_tensor_slices((x_val_roberta, y_val_roberta))\n",
    "val_dataset_roberta = val_dataset_roberta.batch(batch_size_roberta)"
   ]
  },
  {
   "cell_type": "code",
   "execution_count": 57,
   "metadata": {},
   "outputs": [
    {
     "name": "stdout",
     "output_type": "stream",
     "text": [
      "You must install pydot (`pip install pydot`) for `plot_model` to work.\n"
     ]
    },
    {
     "data": {
      "text/html": [
       "<pre style=\"white-space:pre;overflow-x:auto;line-height:normal;font-family:Menlo,'DejaVu Sans Mono',consolas,'Courier New',monospace\"><span style=\"font-weight: bold\">Model: \"functional_9\"</span>\n",
       "</pre>\n"
      ],
      "text/plain": [
       "\u001b[1mModel: \"functional_9\"\u001b[0m\n"
      ]
     },
     "metadata": {},
     "output_type": "display_data"
    },
    {
     "data": {
      "text/html": [
       "<pre style=\"white-space:pre;overflow-x:auto;line-height:normal;font-family:Menlo,'DejaVu Sans Mono',consolas,'Courier New',monospace\">┏━━━━━━━━━━━━━━━━━━━━━┳━━━━━━━━━━━━━━━━━━━┳━━━━━━━━━━━━┳━━━━━━━━━━━━━━━━━━━┓\n",
       "┃<span style=\"font-weight: bold\"> Layer (type)        </span>┃<span style=\"font-weight: bold\"> Output Shape      </span>┃<span style=\"font-weight: bold\">    Param # </span>┃<span style=\"font-weight: bold\"> Connected to      </span>┃\n",
       "┡━━━━━━━━━━━━━━━━━━━━━╇━━━━━━━━━━━━━━━━━━━╇━━━━━━━━━━━━╇━━━━━━━━━━━━━━━━━━━┩\n",
       "│ input_layer_8       │ (<span style=\"color: #00d7ff; text-decoration-color: #00d7ff\">None</span>, <span style=\"color: #00af00; text-decoration-color: #00af00\">768</span>)       │          <span style=\"color: #00af00; text-decoration-color: #00af00\">0</span> │ -                 │\n",
       "│ (<span style=\"color: #0087ff; text-decoration-color: #0087ff\">InputLayer</span>)        │                   │            │                   │\n",
       "├─────────────────────┼───────────────────┼────────────┼───────────────────┤\n",
       "│ input_layer_9       │ (<span style=\"color: #00d7ff; text-decoration-color: #00d7ff\">None</span>, <span style=\"color: #00af00; text-decoration-color: #00af00\">768</span>)       │          <span style=\"color: #00af00; text-decoration-color: #00af00\">0</span> │ -                 │\n",
       "│ (<span style=\"color: #0087ff; text-decoration-color: #0087ff\">InputLayer</span>)        │                   │            │                   │\n",
       "├─────────────────────┼───────────────────┼────────────┼───────────────────┤\n",
       "│ dense_12 (<span style=\"color: #0087ff; text-decoration-color: #0087ff\">Dense</span>)    │ (<span style=\"color: #00d7ff; text-decoration-color: #00d7ff\">None</span>, <span style=\"color: #00af00; text-decoration-color: #00af00\">768</span>)       │    <span style=\"color: #00af00; text-decoration-color: #00af00\">590,592</span> │ input_layer_8[<span style=\"color: #00af00; text-decoration-color: #00af00\">0</span>]… │\n",
       "│                     │                   │            │ input_layer_9[<span style=\"color: #00af00; text-decoration-color: #00af00\">0</span>]… │\n",
       "├─────────────────────┼───────────────────┼────────────┼───────────────────┤\n",
       "│ lambda_8 (<span style=\"color: #0087ff; text-decoration-color: #0087ff\">Lambda</span>)   │ (<span style=\"color: #00d7ff; text-decoration-color: #00d7ff\">None</span>, <span style=\"color: #00af00; text-decoration-color: #00af00\">768</span>)       │          <span style=\"color: #00af00; text-decoration-color: #00af00\">0</span> │ dense_12[<span style=\"color: #00af00; text-decoration-color: #00af00\">0</span>][<span style=\"color: #00af00; text-decoration-color: #00af00\">0</span>],   │\n",
       "│                     │                   │            │ dense_12[<span style=\"color: #00af00; text-decoration-color: #00af00\">1</span>][<span style=\"color: #00af00; text-decoration-color: #00af00\">0</span>]    │\n",
       "├─────────────────────┼───────────────────┼────────────┼───────────────────┤\n",
       "│ dropout_8 (<span style=\"color: #0087ff; text-decoration-color: #0087ff\">Dropout</span>) │ (<span style=\"color: #00d7ff; text-decoration-color: #00d7ff\">None</span>, <span style=\"color: #00af00; text-decoration-color: #00af00\">768</span>)       │          <span style=\"color: #00af00; text-decoration-color: #00af00\">0</span> │ lambda_8[<span style=\"color: #00af00; text-decoration-color: #00af00\">0</span>][<span style=\"color: #00af00; text-decoration-color: #00af00\">0</span>]    │\n",
       "├─────────────────────┼───────────────────┼────────────┼───────────────────┤\n",
       "│ dense_13 (<span style=\"color: #0087ff; text-decoration-color: #0087ff\">Dense</span>)    │ (<span style=\"color: #00d7ff; text-decoration-color: #00d7ff\">None</span>, <span style=\"color: #00af00; text-decoration-color: #00af00\">16</span>)        │     <span style=\"color: #00af00; text-decoration-color: #00af00\">12,304</span> │ dropout_8[<span style=\"color: #00af00; text-decoration-color: #00af00\">0</span>][<span style=\"color: #00af00; text-decoration-color: #00af00\">0</span>]   │\n",
       "├─────────────────────┼───────────────────┼────────────┼───────────────────┤\n",
       "│ dropout_9 (<span style=\"color: #0087ff; text-decoration-color: #0087ff\">Dropout</span>) │ (<span style=\"color: #00d7ff; text-decoration-color: #00d7ff\">None</span>, <span style=\"color: #00af00; text-decoration-color: #00af00\">16</span>)        │          <span style=\"color: #00af00; text-decoration-color: #00af00\">0</span> │ dense_13[<span style=\"color: #00af00; text-decoration-color: #00af00\">0</span>][<span style=\"color: #00af00; text-decoration-color: #00af00\">0</span>]    │\n",
       "├─────────────────────┼───────────────────┼────────────┼───────────────────┤\n",
       "│ dense_14 (<span style=\"color: #0087ff; text-decoration-color: #0087ff\">Dense</span>)    │ (<span style=\"color: #00d7ff; text-decoration-color: #00d7ff\">None</span>, <span style=\"color: #00af00; text-decoration-color: #00af00\">1</span>)         │         <span style=\"color: #00af00; text-decoration-color: #00af00\">17</span> │ dropout_9[<span style=\"color: #00af00; text-decoration-color: #00af00\">0</span>][<span style=\"color: #00af00; text-decoration-color: #00af00\">0</span>]   │\n",
       "├─────────────────────┼───────────────────┼────────────┼───────────────────┤\n",
       "│ lambda_9 (<span style=\"color: #0087ff; text-decoration-color: #0087ff\">Lambda</span>)   │ (<span style=\"color: #00d7ff; text-decoration-color: #00d7ff\">None</span>, <span style=\"color: #00af00; text-decoration-color: #00af00\">1</span>)         │          <span style=\"color: #00af00; text-decoration-color: #00af00\">0</span> │ dense_14[<span style=\"color: #00af00; text-decoration-color: #00af00\">0</span>][<span style=\"color: #00af00; text-decoration-color: #00af00\">0</span>]    │\n",
       "└─────────────────────┴───────────────────┴────────────┴───────────────────┘\n",
       "</pre>\n"
      ],
      "text/plain": [
       "┏━━━━━━━━━━━━━━━━━━━━━┳━━━━━━━━━━━━━━━━━━━┳━━━━━━━━━━━━┳━━━━━━━━━━━━━━━━━━━┓\n",
       "┃\u001b[1m \u001b[0m\u001b[1mLayer (type)       \u001b[0m\u001b[1m \u001b[0m┃\u001b[1m \u001b[0m\u001b[1mOutput Shape     \u001b[0m\u001b[1m \u001b[0m┃\u001b[1m \u001b[0m\u001b[1m   Param #\u001b[0m\u001b[1m \u001b[0m┃\u001b[1m \u001b[0m\u001b[1mConnected to     \u001b[0m\u001b[1m \u001b[0m┃\n",
       "┡━━━━━━━━━━━━━━━━━━━━━╇━━━━━━━━━━━━━━━━━━━╇━━━━━━━━━━━━╇━━━━━━━━━━━━━━━━━━━┩\n",
       "│ input_layer_8       │ (\u001b[38;5;45mNone\u001b[0m, \u001b[38;5;34m768\u001b[0m)       │          \u001b[38;5;34m0\u001b[0m │ -                 │\n",
       "│ (\u001b[38;5;33mInputLayer\u001b[0m)        │                   │            │                   │\n",
       "├─────────────────────┼───────────────────┼────────────┼───────────────────┤\n",
       "│ input_layer_9       │ (\u001b[38;5;45mNone\u001b[0m, \u001b[38;5;34m768\u001b[0m)       │          \u001b[38;5;34m0\u001b[0m │ -                 │\n",
       "│ (\u001b[38;5;33mInputLayer\u001b[0m)        │                   │            │                   │\n",
       "├─────────────────────┼───────────────────┼────────────┼───────────────────┤\n",
       "│ dense_12 (\u001b[38;5;33mDense\u001b[0m)    │ (\u001b[38;5;45mNone\u001b[0m, \u001b[38;5;34m768\u001b[0m)       │    \u001b[38;5;34m590,592\u001b[0m │ input_layer_8[\u001b[38;5;34m0\u001b[0m]… │\n",
       "│                     │                   │            │ input_layer_9[\u001b[38;5;34m0\u001b[0m]… │\n",
       "├─────────────────────┼───────────────────┼────────────┼───────────────────┤\n",
       "│ lambda_8 (\u001b[38;5;33mLambda\u001b[0m)   │ (\u001b[38;5;45mNone\u001b[0m, \u001b[38;5;34m768\u001b[0m)       │          \u001b[38;5;34m0\u001b[0m │ dense_12[\u001b[38;5;34m0\u001b[0m][\u001b[38;5;34m0\u001b[0m],   │\n",
       "│                     │                   │            │ dense_12[\u001b[38;5;34m1\u001b[0m][\u001b[38;5;34m0\u001b[0m]    │\n",
       "├─────────────────────┼───────────────────┼────────────┼───────────────────┤\n",
       "│ dropout_8 (\u001b[38;5;33mDropout\u001b[0m) │ (\u001b[38;5;45mNone\u001b[0m, \u001b[38;5;34m768\u001b[0m)       │          \u001b[38;5;34m0\u001b[0m │ lambda_8[\u001b[38;5;34m0\u001b[0m][\u001b[38;5;34m0\u001b[0m]    │\n",
       "├─────────────────────┼───────────────────┼────────────┼───────────────────┤\n",
       "│ dense_13 (\u001b[38;5;33mDense\u001b[0m)    │ (\u001b[38;5;45mNone\u001b[0m, \u001b[38;5;34m16\u001b[0m)        │     \u001b[38;5;34m12,304\u001b[0m │ dropout_8[\u001b[38;5;34m0\u001b[0m][\u001b[38;5;34m0\u001b[0m]   │\n",
       "├─────────────────────┼───────────────────┼────────────┼───────────────────┤\n",
       "│ dropout_9 (\u001b[38;5;33mDropout\u001b[0m) │ (\u001b[38;5;45mNone\u001b[0m, \u001b[38;5;34m16\u001b[0m)        │          \u001b[38;5;34m0\u001b[0m │ dense_13[\u001b[38;5;34m0\u001b[0m][\u001b[38;5;34m0\u001b[0m]    │\n",
       "├─────────────────────┼───────────────────┼────────────┼───────────────────┤\n",
       "│ dense_14 (\u001b[38;5;33mDense\u001b[0m)    │ (\u001b[38;5;45mNone\u001b[0m, \u001b[38;5;34m1\u001b[0m)         │         \u001b[38;5;34m17\u001b[0m │ dropout_9[\u001b[38;5;34m0\u001b[0m][\u001b[38;5;34m0\u001b[0m]   │\n",
       "├─────────────────────┼───────────────────┼────────────┼───────────────────┤\n",
       "│ lambda_9 (\u001b[38;5;33mLambda\u001b[0m)   │ (\u001b[38;5;45mNone\u001b[0m, \u001b[38;5;34m1\u001b[0m)         │          \u001b[38;5;34m0\u001b[0m │ dense_14[\u001b[38;5;34m0\u001b[0m][\u001b[38;5;34m0\u001b[0m]    │\n",
       "└─────────────────────┴───────────────────┴────────────┴───────────────────┘\n"
      ]
     },
     "metadata": {},
     "output_type": "display_data"
    },
    {
     "data": {
      "text/html": [
       "<pre style=\"white-space:pre;overflow-x:auto;line-height:normal;font-family:Menlo,'DejaVu Sans Mono',consolas,'Courier New',monospace\"><span style=\"font-weight: bold\"> Total params: </span><span style=\"color: #00af00; text-decoration-color: #00af00\">602,913</span> (2.30 MB)\n",
       "</pre>\n"
      ],
      "text/plain": [
       "\u001b[1m Total params: \u001b[0m\u001b[38;5;34m602,913\u001b[0m (2.30 MB)\n"
      ]
     },
     "metadata": {},
     "output_type": "display_data"
    },
    {
     "data": {
      "text/html": [
       "<pre style=\"white-space:pre;overflow-x:auto;line-height:normal;font-family:Menlo,'DejaVu Sans Mono',consolas,'Courier New',monospace\"><span style=\"font-weight: bold\"> Trainable params: </span><span style=\"color: #00af00; text-decoration-color: #00af00\">602,913</span> (2.30 MB)\n",
       "</pre>\n"
      ],
      "text/plain": [
       "\u001b[1m Trainable params: \u001b[0m\u001b[38;5;34m602,913\u001b[0m (2.30 MB)\n"
      ]
     },
     "metadata": {},
     "output_type": "display_data"
    },
    {
     "data": {
      "text/html": [
       "<pre style=\"white-space:pre;overflow-x:auto;line-height:normal;font-family:Menlo,'DejaVu Sans Mono',consolas,'Courier New',monospace\"><span style=\"font-weight: bold\"> Non-trainable params: </span><span style=\"color: #00af00; text-decoration-color: #00af00\">0</span> (0.00 B)\n",
       "</pre>\n"
      ],
      "text/plain": [
       "\u001b[1m Non-trainable params: \u001b[0m\u001b[38;5;34m0\u001b[0m (0.00 B)\n"
      ]
     },
     "metadata": {},
     "output_type": "display_data"
    },
    {
     "name": "stdout",
     "output_type": "stream",
     "text": [
      "None\n"
     ]
    }
   ],
   "source": [
    "embedding_size_roberta = 768\n",
    "model_roberta = build_and_compile_model_better(embedding_size = embedding_size_roberta)\n",
    "tf.keras.utils.plot_model(model_roberta, show_shapes=True, show_layer_activations=True)\n",
    "print(model_roberta.summary())"
   ]
  },
  {
   "cell_type": "code",
   "execution_count": 58,
   "metadata": {},
   "outputs": [
    {
     "name": "stdout",
     "output_type": "stream",
     "text": [
      "Epoch 1/64\n",
      "\u001b[1m32/32\u001b[0m \u001b[32m━━━━━━━━━━━━━━━━━━━━\u001b[0m\u001b[37m\u001b[0m \u001b[1m1s\u001b[0m 9ms/step - loss: 0.7277 - val_loss: 0.7421\n",
      "Epoch 2/64\n",
      "\u001b[1m32/32\u001b[0m \u001b[32m━━━━━━━━━━━━━━━━━━━━\u001b[0m\u001b[37m\u001b[0m \u001b[1m0s\u001b[0m 4ms/step - loss: 0.7180 - val_loss: 0.7324\n",
      "Epoch 3/64\n",
      "\u001b[1m32/32\u001b[0m \u001b[32m━━━━━━━━━━━━━━━━━━━━\u001b[0m\u001b[37m\u001b[0m \u001b[1m0s\u001b[0m 5ms/step - loss: 0.7062 - val_loss: 0.7160\n",
      "Epoch 4/64\n",
      "\u001b[1m32/32\u001b[0m \u001b[32m━━━━━━━━━━━━━━━━━━━━\u001b[0m\u001b[37m\u001b[0m \u001b[1m0s\u001b[0m 5ms/step - loss: 0.6830 - val_loss: 0.7027\n",
      "Epoch 5/64\n",
      "\u001b[1m32/32\u001b[0m \u001b[32m━━━━━━━━━━━━━━━━━━━━\u001b[0m\u001b[37m\u001b[0m \u001b[1m0s\u001b[0m 5ms/step - loss: 0.6553 - val_loss: 0.6951\n",
      "Epoch 6/64\n",
      "\u001b[1m32/32\u001b[0m \u001b[32m━━━━━━━━━━━━━━━━━━━━\u001b[0m\u001b[37m\u001b[0m \u001b[1m0s\u001b[0m 5ms/step - loss: 0.6191 - val_loss: 0.6858\n",
      "Epoch 7/64\n",
      "\u001b[1m32/32\u001b[0m \u001b[32m━━━━━━━━━━━━━━━━━━━━\u001b[0m\u001b[37m\u001b[0m \u001b[1m0s\u001b[0m 5ms/step - loss: 0.5954 - val_loss: 0.6782\n",
      "Epoch 8/64\n",
      "\u001b[1m32/32\u001b[0m \u001b[32m━━━━━━━━━━━━━━━━━━━━\u001b[0m\u001b[37m\u001b[0m \u001b[1m0s\u001b[0m 5ms/step - loss: 0.5688 - val_loss: 0.6639\n",
      "Epoch 9/64\n",
      "\u001b[1m32/32\u001b[0m \u001b[32m━━━━━━━━━━━━━━━━━━━━\u001b[0m\u001b[37m\u001b[0m \u001b[1m0s\u001b[0m 5ms/step - loss: 0.5409 - val_loss: 0.6500\n",
      "Epoch 10/64\n",
      "\u001b[1m32/32\u001b[0m \u001b[32m━━━━━━━━━━━━━━━━━━━━\u001b[0m\u001b[37m\u001b[0m \u001b[1m0s\u001b[0m 5ms/step - loss: 0.5164 - val_loss: 0.6398\n",
      "Epoch 11/64\n",
      "\u001b[1m32/32\u001b[0m \u001b[32m━━━━━━━━━━━━━━━━━━━━\u001b[0m\u001b[37m\u001b[0m \u001b[1m0s\u001b[0m 5ms/step - loss: 0.4744 - val_loss: 0.6205\n",
      "Epoch 12/64\n",
      "\u001b[1m32/32\u001b[0m \u001b[32m━━━━━━━━━━━━━━━━━━━━\u001b[0m\u001b[37m\u001b[0m \u001b[1m0s\u001b[0m 5ms/step - loss: 0.4561 - val_loss: 0.6136\n",
      "Epoch 13/64\n",
      "\u001b[1m32/32\u001b[0m \u001b[32m━━━━━━━━━━━━━━━━━━━━\u001b[0m\u001b[37m\u001b[0m \u001b[1m0s\u001b[0m 5ms/step - loss: 0.4303 - val_loss: 0.6128\n",
      "Epoch 14/64\n",
      "\u001b[1m32/32\u001b[0m \u001b[32m━━━━━━━━━━━━━━━━━━━━\u001b[0m\u001b[37m\u001b[0m \u001b[1m0s\u001b[0m 5ms/step - loss: 0.3918 - val_loss: 0.6039\n",
      "Epoch 15/64\n",
      "\u001b[1m32/32\u001b[0m \u001b[32m━━━━━━━━━━━━━━━━━━━━\u001b[0m\u001b[37m\u001b[0m \u001b[1m0s\u001b[0m 5ms/step - loss: 0.3974 - val_loss: 0.6117\n",
      "Epoch 16/64\n",
      "\u001b[1m32/32\u001b[0m \u001b[32m━━━━━━━━━━━━━━━━━━━━\u001b[0m\u001b[37m\u001b[0m \u001b[1m0s\u001b[0m 5ms/step - loss: 0.3669 - val_loss: 0.5994\n",
      "Epoch 17/64\n",
      "\u001b[1m32/32\u001b[0m \u001b[32m━━━━━━━━━━━━━━━━━━━━\u001b[0m\u001b[37m\u001b[0m \u001b[1m0s\u001b[0m 5ms/step - loss: 0.3514 - val_loss: 0.5883\n",
      "Epoch 18/64\n",
      "\u001b[1m32/32\u001b[0m \u001b[32m━━━━━━━━━━━━━━━━━━━━\u001b[0m\u001b[37m\u001b[0m \u001b[1m0s\u001b[0m 5ms/step - loss: 0.3470 - val_loss: 0.5899\n",
      "Epoch 19/64\n",
      "\u001b[1m32/32\u001b[0m \u001b[32m━━━━━━━━━━━━━━━━━━━━\u001b[0m\u001b[37m\u001b[0m \u001b[1m0s\u001b[0m 5ms/step - loss: 0.3300 - val_loss: 0.5870\n",
      "Epoch 20/64\n",
      "\u001b[1m32/32\u001b[0m \u001b[32m━━━━━━━━━━━━━━━━━━━━\u001b[0m\u001b[37m\u001b[0m \u001b[1m0s\u001b[0m 5ms/step - loss: 0.3176 - val_loss: 0.5920\n",
      "Epoch 21/64\n",
      "\u001b[1m32/32\u001b[0m \u001b[32m━━━━━━━━━━━━━━━━━━━━\u001b[0m\u001b[37m\u001b[0m \u001b[1m0s\u001b[0m 5ms/step - loss: 0.3178 - val_loss: 0.5893\n",
      "Epoch 22/64\n",
      "\u001b[1m32/32\u001b[0m \u001b[32m━━━━━━━━━━━━━━━━━━━━\u001b[0m\u001b[37m\u001b[0m \u001b[1m0s\u001b[0m 5ms/step - loss: 0.2961 - val_loss: 0.5762\n",
      "Epoch 23/64\n",
      "\u001b[1m32/32\u001b[0m \u001b[32m━━━━━━━━━━━━━━━━━━━━\u001b[0m\u001b[37m\u001b[0m \u001b[1m0s\u001b[0m 5ms/step - loss: 0.2770 - val_loss: 0.5930\n",
      "Epoch 24/64\n",
      "\u001b[1m32/32\u001b[0m \u001b[32m━━━━━━━━━━━━━━━━━━━━\u001b[0m\u001b[37m\u001b[0m \u001b[1m0s\u001b[0m 5ms/step - loss: 0.2490 - val_loss: 0.5779\n",
      "Epoch 25/64\n",
      "\u001b[1m32/32\u001b[0m \u001b[32m━━━━━━━━━━━━━━━━━━━━\u001b[0m\u001b[37m\u001b[0m \u001b[1m0s\u001b[0m 5ms/step - loss: 0.2443 - val_loss: 0.5810\n",
      "Epoch 26/64\n",
      "\u001b[1m32/32\u001b[0m \u001b[32m━━━━━━━━━━━━━━━━━━━━\u001b[0m\u001b[37m\u001b[0m \u001b[1m0s\u001b[0m 5ms/step - loss: 0.2347 - val_loss: 0.5679\n",
      "Epoch 27/64\n",
      "\u001b[1m32/32\u001b[0m \u001b[32m━━━━━━━━━━━━━━━━━━━━\u001b[0m\u001b[37m\u001b[0m \u001b[1m0s\u001b[0m 5ms/step - loss: 0.2254 - val_loss: 0.5794\n",
      "Epoch 28/64\n",
      "\u001b[1m32/32\u001b[0m \u001b[32m━━━━━━━━━━━━━━━━━━━━\u001b[0m\u001b[37m\u001b[0m \u001b[1m0s\u001b[0m 5ms/step - loss: 0.2179 - val_loss: 0.5807\n",
      "Epoch 29/64\n",
      "\u001b[1m32/32\u001b[0m \u001b[32m━━━━━━━━━━━━━━━━━━━━\u001b[0m\u001b[37m\u001b[0m \u001b[1m0s\u001b[0m 5ms/step - loss: 0.2129 - val_loss: 0.6002\n",
      "Epoch 30/64\n",
      "\u001b[1m32/32\u001b[0m \u001b[32m━━━━━━━━━━━━━━━━━━━━\u001b[0m\u001b[37m\u001b[0m \u001b[1m0s\u001b[0m 5ms/step - loss: 0.2049 - val_loss: 0.5892\n",
      "Epoch 31/64\n",
      "\u001b[1m32/32\u001b[0m \u001b[32m━━━━━━━━━━━━━━━━━━━━\u001b[0m\u001b[37m\u001b[0m \u001b[1m0s\u001b[0m 5ms/step - loss: 0.1919 - val_loss: 0.5768\n",
      "Epoch 32/64\n",
      "\u001b[1m32/32\u001b[0m \u001b[32m━━━━━━━━━━━━━━━━━━━━\u001b[0m\u001b[37m\u001b[0m \u001b[1m0s\u001b[0m 5ms/step - loss: 0.1907 - val_loss: 0.6390\n",
      "Epoch 33/64\n",
      "\u001b[1m32/32\u001b[0m \u001b[32m━━━━━━━━━━━━━━━━━━━━\u001b[0m\u001b[37m\u001b[0m \u001b[1m0s\u001b[0m 5ms/step - loss: 0.1936 - val_loss: 0.6066\n",
      "Epoch 34/64\n",
      "\u001b[1m32/32\u001b[0m \u001b[32m━━━━━━━━━━━━━━━━━━━━\u001b[0m\u001b[37m\u001b[0m \u001b[1m0s\u001b[0m 5ms/step - loss: 0.1866 - val_loss: 0.6066\n",
      "Epoch 35/64\n",
      "\u001b[1m32/32\u001b[0m \u001b[32m━━━━━━━━━━━━━━━━━━━━\u001b[0m\u001b[37m\u001b[0m \u001b[1m0s\u001b[0m 5ms/step - loss: 0.1841 - val_loss: 0.6074\n",
      "Epoch 36/64\n",
      "\u001b[1m32/32\u001b[0m \u001b[32m━━━━━━━━━━━━━━━━━━━━\u001b[0m\u001b[37m\u001b[0m \u001b[1m0s\u001b[0m 5ms/step - loss: 0.1775 - val_loss: 0.6329\n",
      "Epoch 37/64\n",
      "\u001b[1m32/32\u001b[0m \u001b[32m━━━━━━━━━━━━━━━━━━━━\u001b[0m\u001b[37m\u001b[0m \u001b[1m0s\u001b[0m 5ms/step - loss: 0.1575 - val_loss: 0.6234\n",
      "Epoch 38/64\n",
      "\u001b[1m32/32\u001b[0m \u001b[32m━━━━━━━━━━━━━━━━━━━━\u001b[0m\u001b[37m\u001b[0m \u001b[1m0s\u001b[0m 5ms/step - loss: 0.1568 - val_loss: 0.6311\n",
      "Epoch 39/64\n",
      "\u001b[1m32/32\u001b[0m \u001b[32m━━━━━━━━━━━━━━━━━━━━\u001b[0m\u001b[37m\u001b[0m \u001b[1m0s\u001b[0m 5ms/step - loss: 0.1562 - val_loss: 0.6262\n",
      "Epoch 40/64\n",
      "\u001b[1m32/32\u001b[0m \u001b[32m━━━━━━━━━━━━━━━━━━━━\u001b[0m\u001b[37m\u001b[0m \u001b[1m0s\u001b[0m 5ms/step - loss: 0.1617 - val_loss: 0.6652\n",
      "Epoch 41/64\n",
      "\u001b[1m32/32\u001b[0m \u001b[32m━━━━━━━━━━━━━━━━━━━━\u001b[0m\u001b[37m\u001b[0m \u001b[1m0s\u001b[0m 5ms/step - loss: 0.1679 - val_loss: 0.6262\n",
      "Epoch 42/64\n",
      "\u001b[1m32/32\u001b[0m \u001b[32m━━━━━━━━━━━━━━━━━━━━\u001b[0m\u001b[37m\u001b[0m \u001b[1m0s\u001b[0m 5ms/step - loss: 0.1586 - val_loss: 0.6358\n",
      "Epoch 43/64\n",
      "\u001b[1m32/32\u001b[0m \u001b[32m━━━━━━━━━━━━━━━━━━━━\u001b[0m\u001b[37m\u001b[0m \u001b[1m0s\u001b[0m 5ms/step - loss: 0.1549 - val_loss: 0.6664\n",
      "Epoch 44/64\n",
      "\u001b[1m32/32\u001b[0m \u001b[32m━━━━━━━━━━━━━━━━━━━━\u001b[0m\u001b[37m\u001b[0m \u001b[1m0s\u001b[0m 5ms/step - loss: 0.1513 - val_loss: 0.6810\n",
      "Epoch 45/64\n",
      "\u001b[1m32/32\u001b[0m \u001b[32m━━━━━━━━━━━━━━━━━━━━\u001b[0m\u001b[37m\u001b[0m \u001b[1m0s\u001b[0m 5ms/step - loss: 0.1423 - val_loss: 0.6859\n",
      "Epoch 46/64\n",
      "\u001b[1m32/32\u001b[0m \u001b[32m━━━━━━━━━━━━━━━━━━━━\u001b[0m\u001b[37m\u001b[0m \u001b[1m0s\u001b[0m 5ms/step - loss: 0.1506 - val_loss: 0.6660\n",
      "Epoch 47/64\n",
      "\u001b[1m32/32\u001b[0m \u001b[32m━━━━━━━━━━━━━━━━━━━━\u001b[0m\u001b[37m\u001b[0m \u001b[1m0s\u001b[0m 5ms/step - loss: 0.1504 - val_loss: 0.5935\n",
      "Epoch 48/64\n",
      "\u001b[1m32/32\u001b[0m \u001b[32m━━━━━━━━━━━━━━━━━━━━\u001b[0m\u001b[37m\u001b[0m \u001b[1m0s\u001b[0m 5ms/step - loss: 0.1624 - val_loss: 0.6269\n",
      "Epoch 49/64\n",
      "\u001b[1m32/32\u001b[0m \u001b[32m━━━━━━━━━━━━━━━━━━━━\u001b[0m\u001b[37m\u001b[0m \u001b[1m0s\u001b[0m 5ms/step - loss: 0.1595 - val_loss: 0.6204\n",
      "Epoch 50/64\n",
      "\u001b[1m32/32\u001b[0m \u001b[32m━━━━━━━━━━━━━━━━━━━━\u001b[0m\u001b[37m\u001b[0m \u001b[1m0s\u001b[0m 5ms/step - loss: 0.1429 - val_loss: 0.6420\n",
      "Epoch 51/64\n",
      "\u001b[1m32/32\u001b[0m \u001b[32m━━━━━━━━━━━━━━━━━━━━\u001b[0m\u001b[37m\u001b[0m \u001b[1m0s\u001b[0m 5ms/step - loss: 0.1357 - val_loss: 0.6745\n",
      "Epoch 52/64\n",
      "\u001b[1m32/32\u001b[0m \u001b[32m━━━━━━━━━━━━━━━━━━━━\u001b[0m\u001b[37m\u001b[0m \u001b[1m0s\u001b[0m 5ms/step - loss: 0.1354 - val_loss: 0.6364\n",
      "Epoch 53/64\n",
      "\u001b[1m32/32\u001b[0m \u001b[32m━━━━━━━━━━━━━━━━━━━━\u001b[0m\u001b[37m\u001b[0m \u001b[1m0s\u001b[0m 5ms/step - loss: 0.1172 - val_loss: 0.6399\n",
      "Epoch 54/64\n",
      "\u001b[1m32/32\u001b[0m \u001b[32m━━━━━━━━━━━━━━━━━━━━\u001b[0m\u001b[37m\u001b[0m \u001b[1m0s\u001b[0m 5ms/step - loss: 0.1139 - val_loss: 0.6100\n",
      "Epoch 55/64\n",
      "\u001b[1m32/32\u001b[0m \u001b[32m━━━━━━━━━━━━━━━━━━━━\u001b[0m\u001b[37m\u001b[0m \u001b[1m0s\u001b[0m 5ms/step - loss: 0.1176 - val_loss: 0.6220\n",
      "Epoch 56/64\n",
      "\u001b[1m32/32\u001b[0m \u001b[32m━━━━━━━━━━━━━━━━━━━━\u001b[0m\u001b[37m\u001b[0m \u001b[1m0s\u001b[0m 5ms/step - loss: 0.1163 - val_loss: 0.6166\n",
      "Epoch 57/64\n",
      "\u001b[1m32/32\u001b[0m \u001b[32m━━━━━━━━━━━━━━━━━━━━\u001b[0m\u001b[37m\u001b[0m \u001b[1m0s\u001b[0m 5ms/step - loss: 0.1152 - val_loss: 0.5975\n",
      "Epoch 58/64\n",
      "\u001b[1m32/32\u001b[0m \u001b[32m━━━━━━━━━━━━━━━━━━━━\u001b[0m\u001b[37m\u001b[0m \u001b[1m0s\u001b[0m 5ms/step - loss: 0.1145 - val_loss: 0.6159\n",
      "Epoch 59/64\n",
      "\u001b[1m32/32\u001b[0m \u001b[32m━━━━━━━━━━━━━━━━━━━━\u001b[0m\u001b[37m\u001b[0m \u001b[1m0s\u001b[0m 5ms/step - loss: 0.1208 - val_loss: 0.5876\n",
      "Epoch 60/64\n",
      "\u001b[1m32/32\u001b[0m \u001b[32m━━━━━━━━━━━━━━━━━━━━\u001b[0m\u001b[37m\u001b[0m \u001b[1m0s\u001b[0m 5ms/step - loss: 0.1154 - val_loss: 0.6258\n",
      "Epoch 61/64\n",
      "\u001b[1m32/32\u001b[0m \u001b[32m━━━━━━━━━━━━━━━━━━━━\u001b[0m\u001b[37m\u001b[0m \u001b[1m0s\u001b[0m 5ms/step - loss: 0.1227 - val_loss: 0.6263\n",
      "Epoch 62/64\n",
      "\u001b[1m32/32\u001b[0m \u001b[32m━━━━━━━━━━━━━━━━━━━━\u001b[0m\u001b[37m\u001b[0m \u001b[1m0s\u001b[0m 5ms/step - loss: 0.1291 - val_loss: 0.6168\n",
      "Epoch 63/64\n",
      "\u001b[1m32/32\u001b[0m \u001b[32m━━━━━━━━━━━━━━━━━━━━\u001b[0m\u001b[37m\u001b[0m \u001b[1m0s\u001b[0m 5ms/step - loss: 0.1264 - val_loss: 0.6556\n",
      "Epoch 64/64\n",
      "\u001b[1m32/32\u001b[0m \u001b[32m━━━━━━━━━━━━━━━━━━━━\u001b[0m\u001b[37m\u001b[0m \u001b[1m0s\u001b[0m 5ms/step - loss: 0.1355 - val_loss: 0.6232\n"
     ]
    },
    {
     "data": {
      "text/plain": [
       "<keras.src.callbacks.history.History at 0x222aaf40e10>"
      ]
     },
     "execution_count": 58,
     "metadata": {},
     "output_type": "execute_result"
    }
   ],
   "source": [
    "model_roberta.fit(train_dataset_roberta, epochs=num_epochs_roberta, validation_data=val_dataset_roberta)"
   ]
  },
  {
   "cell_type": "markdown",
   "metadata": {},
   "source": [
    "Evaluar el model amb la partició de validació."
   ]
  },
  {
   "cell_type": "code",
   "execution_count": 59,
   "metadata": {},
   "outputs": [
    {
     "name": "stdout",
     "output_type": "stream",
     "text": [
      "\u001b[1m64/64\u001b[0m \u001b[32m━━━━━━━━━━━━━━━━━━━━\u001b[0m\u001b[37m\u001b[0m \u001b[1m0s\u001b[0m 2ms/step\n",
      "Correlación de Pearson (train): 0.9427521667979583\n",
      "\u001b[1m16/16\u001b[0m \u001b[32m━━━━━━━━━━━━━━━━━━━━\u001b[0m\u001b[37m\u001b[0m \u001b[1m0s\u001b[0m 1ms/step \n",
      "Correlación de Pearson (validation): 0.4714974301945399\n"
     ]
    }
   ],
   "source": [
    "print(f\"Correlación de Pearson (train): {compute_pearson(model_roberta, x_train_roberta, y_train_roberta)}\")\n",
    "print(f\"Correlación de Pearson (validation): {compute_pearson(model_roberta, x_val_roberta, y_val_roberta)}\")"
   ]
  },
  {
   "cell_type": "markdown",
   "metadata": {},
   "source": [
    "Provar el model amb la partició de test."
   ]
  },
  {
   "cell_type": "code",
   "execution_count": 60,
   "metadata": {},
   "outputs": [
    {
     "name": "stdout",
     "output_type": "stream",
     "text": [
      "\u001b[1m16/16\u001b[0m \u001b[32m━━━━━━━━━━━━━━━━━━━━\u001b[0m\u001b[37m\u001b[0m \u001b[1m0s\u001b[0m 1ms/step \n",
      "Correlación de Pearson (test): 0.2963311193928673\n"
     ]
    }
   ],
   "source": [
    "print(f\"Correlación de Pearson (test): {compute_pearson(model_roberta, x_test_roberta, y_test_roberta)}\")"
   ]
  },
  {
   "cell_type": "markdown",
   "metadata": {},
   "source": [
    "##### Conclusions Roberta"
   ]
  },
  {
   "cell_type": "markdown",
   "metadata": {},
   "source": [
    "Veiem com el model de RoBERTa és un dels que millor funciona, ja que és el model més avançat i el que millor semàntica té. Això fa que el model sigui capaç de generalitzar millor.\n",
    "Per altra banda, els seus vectors són més grans així que és més pesat d'executar que els altres models."
   ]
  },
  {
   "cell_type": "markdown",
   "metadata": {},
   "source": [
    "#### 5. RoBERTa fine-tuned"
   ]
  },
  {
   "cell_type": "markdown",
   "metadata": {},
   "source": [
    "Instal·lem les llibreries necessàries"
   ]
  },
  {
   "cell_type": "code",
   "execution_count": 61,
   "metadata": {},
   "outputs": [
    {
     "name": "stdout",
     "output_type": "stream",
     "text": [
      "Requirement already satisfied: tf-keras in c:\\users\\ralva\\desktop\\university\\4t-cuatrimestre-gia\\plh\\plh-wordembeddings\\wordembeddings\\lib\\site-packages (2.16.0)\n",
      "Requirement already satisfied: tensorflow<2.17,>=2.16 in c:\\users\\ralva\\desktop\\university\\4t-cuatrimestre-gia\\plh\\plh-wordembeddings\\wordembeddings\\lib\\site-packages (from tf-keras) (2.16.1)\n",
      "Requirement already satisfied: tensorflow-intel==2.16.1 in c:\\users\\ralva\\desktop\\university\\4t-cuatrimestre-gia\\plh\\plh-wordembeddings\\wordembeddings\\lib\\site-packages (from tensorflow<2.17,>=2.16->tf-keras) (2.16.1)\n",
      "Requirement already satisfied: absl-py>=1.0.0 in c:\\users\\ralva\\desktop\\university\\4t-cuatrimestre-gia\\plh\\plh-wordembeddings\\wordembeddings\\lib\\site-packages (from tensorflow-intel==2.16.1->tensorflow<2.17,>=2.16->tf-keras) (2.1.0)\n",
      "Requirement already satisfied: astunparse>=1.6.0 in c:\\users\\ralva\\desktop\\university\\4t-cuatrimestre-gia\\plh\\plh-wordembeddings\\wordembeddings\\lib\\site-packages (from tensorflow-intel==2.16.1->tensorflow<2.17,>=2.16->tf-keras) (1.6.3)\n",
      "Requirement already satisfied: flatbuffers>=23.5.26 in c:\\users\\ralva\\desktop\\university\\4t-cuatrimestre-gia\\plh\\plh-wordembeddings\\wordembeddings\\lib\\site-packages (from tensorflow-intel==2.16.1->tensorflow<2.17,>=2.16->tf-keras) (24.3.25)\n",
      "Requirement already satisfied: gast!=0.5.0,!=0.5.1,!=0.5.2,>=0.2.1 in c:\\users\\ralva\\desktop\\university\\4t-cuatrimestre-gia\\plh\\plh-wordembeddings\\wordembeddings\\lib\\site-packages (from tensorflow-intel==2.16.1->tensorflow<2.17,>=2.16->tf-keras) (0.5.4)\n",
      "Requirement already satisfied: google-pasta>=0.1.1 in c:\\users\\ralva\\desktop\\university\\4t-cuatrimestre-gia\\plh\\plh-wordembeddings\\wordembeddings\\lib\\site-packages (from tensorflow-intel==2.16.1->tensorflow<2.17,>=2.16->tf-keras) (0.2.0)\n",
      "Requirement already satisfied: h5py>=3.10.0 in c:\\users\\ralva\\desktop\\university\\4t-cuatrimestre-gia\\plh\\plh-wordembeddings\\wordembeddings\\lib\\site-packages (from tensorflow-intel==2.16.1->tensorflow<2.17,>=2.16->tf-keras) (3.11.0)\n",
      "Requirement already satisfied: libclang>=13.0.0 in c:\\users\\ralva\\desktop\\university\\4t-cuatrimestre-gia\\plh\\plh-wordembeddings\\wordembeddings\\lib\\site-packages (from tensorflow-intel==2.16.1->tensorflow<2.17,>=2.16->tf-keras) (18.1.1)\n",
      "Requirement already satisfied: ml-dtypes~=0.3.1 in c:\\users\\ralva\\desktop\\university\\4t-cuatrimestre-gia\\plh\\plh-wordembeddings\\wordembeddings\\lib\\site-packages (from tensorflow-intel==2.16.1->tensorflow<2.17,>=2.16->tf-keras) (0.3.2)\n",
      "Requirement already satisfied: opt-einsum>=2.3.2 in c:\\users\\ralva\\desktop\\university\\4t-cuatrimestre-gia\\plh\\plh-wordembeddings\\wordembeddings\\lib\\site-packages (from tensorflow-intel==2.16.1->tensorflow<2.17,>=2.16->tf-keras) (3.3.0)\n",
      "Requirement already satisfied: packaging in c:\\users\\ralva\\desktop\\university\\4t-cuatrimestre-gia\\plh\\plh-wordembeddings\\wordembeddings\\lib\\site-packages (from tensorflow-intel==2.16.1->tensorflow<2.17,>=2.16->tf-keras) (24.0)\n",
      "Requirement already satisfied: protobuf!=4.21.0,!=4.21.1,!=4.21.2,!=4.21.3,!=4.21.4,!=4.21.5,<5.0.0dev,>=3.20.3 in c:\\users\\ralva\\desktop\\university\\4t-cuatrimestre-gia\\plh\\plh-wordembeddings\\wordembeddings\\lib\\site-packages (from tensorflow-intel==2.16.1->tensorflow<2.17,>=2.16->tf-keras) (4.25.3)\n",
      "Requirement already satisfied: requests<3,>=2.21.0 in c:\\users\\ralva\\desktop\\university\\4t-cuatrimestre-gia\\plh\\plh-wordembeddings\\wordembeddings\\lib\\site-packages (from tensorflow-intel==2.16.1->tensorflow<2.17,>=2.16->tf-keras) (2.31.0)\n",
      "Requirement already satisfied: setuptools in c:\\users\\ralva\\desktop\\university\\4t-cuatrimestre-gia\\plh\\plh-wordembeddings\\wordembeddings\\lib\\site-packages (from tensorflow-intel==2.16.1->tensorflow<2.17,>=2.16->tf-keras) (65.5.0)\n",
      "Requirement already satisfied: six>=1.12.0 in c:\\users\\ralva\\desktop\\university\\4t-cuatrimestre-gia\\plh\\plh-wordembeddings\\wordembeddings\\lib\\site-packages (from tensorflow-intel==2.16.1->tensorflow<2.17,>=2.16->tf-keras) (1.16.0)\n",
      "Requirement already satisfied: termcolor>=1.1.0 in c:\\users\\ralva\\desktop\\university\\4t-cuatrimestre-gia\\plh\\plh-wordembeddings\\wordembeddings\\lib\\site-packages (from tensorflow-intel==2.16.1->tensorflow<2.17,>=2.16->tf-keras) (2.4.0)\n",
      "Requirement already satisfied: typing-extensions>=3.6.6 in c:\\users\\ralva\\desktop\\university\\4t-cuatrimestre-gia\\plh\\plh-wordembeddings\\wordembeddings\\lib\\site-packages (from tensorflow-intel==2.16.1->tensorflow<2.17,>=2.16->tf-keras) (4.11.0)\n",
      "Requirement already satisfied: wrapt>=1.11.0 in c:\\users\\ralva\\desktop\\university\\4t-cuatrimestre-gia\\plh\\plh-wordembeddings\\wordembeddings\\lib\\site-packages (from tensorflow-intel==2.16.1->tensorflow<2.17,>=2.16->tf-keras) (1.16.0)\n",
      "Requirement already satisfied: grpcio<2.0,>=1.24.3 in c:\\users\\ralva\\desktop\\university\\4t-cuatrimestre-gia\\plh\\plh-wordembeddings\\wordembeddings\\lib\\site-packages (from tensorflow-intel==2.16.1->tensorflow<2.17,>=2.16->tf-keras) (1.63.0)\n",
      "Requirement already satisfied: tensorboard<2.17,>=2.16 in c:\\users\\ralva\\desktop\\university\\4t-cuatrimestre-gia\\plh\\plh-wordembeddings\\wordembeddings\\lib\\site-packages (from tensorflow-intel==2.16.1->tensorflow<2.17,>=2.16->tf-keras) (2.16.2)\n",
      "Requirement already satisfied: keras>=3.0.0 in c:\\users\\ralva\\desktop\\university\\4t-cuatrimestre-gia\\plh\\plh-wordembeddings\\wordembeddings\\lib\\site-packages (from tensorflow-intel==2.16.1->tensorflow<2.17,>=2.16->tf-keras) (3.3.3)\n",
      "Requirement already satisfied: tensorflow-io-gcs-filesystem>=0.23.1 in c:\\users\\ralva\\desktop\\university\\4t-cuatrimestre-gia\\plh\\plh-wordembeddings\\wordembeddings\\lib\\site-packages (from tensorflow-intel==2.16.1->tensorflow<2.17,>=2.16->tf-keras) (0.31.0)\n",
      "Requirement already satisfied: numpy<2.0.0,>=1.23.5 in c:\\users\\ralva\\desktop\\university\\4t-cuatrimestre-gia\\plh\\plh-wordembeddings\\wordembeddings\\lib\\site-packages (from tensorflow-intel==2.16.1->tensorflow<2.17,>=2.16->tf-keras) (1.26.4)\n",
      "Requirement already satisfied: wheel<1.0,>=0.23.0 in c:\\users\\ralva\\desktop\\university\\4t-cuatrimestre-gia\\plh\\plh-wordembeddings\\wordembeddings\\lib\\site-packages (from astunparse>=1.6.0->tensorflow-intel==2.16.1->tensorflow<2.17,>=2.16->tf-keras) (0.43.0)\n",
      "Requirement already satisfied: rich in c:\\users\\ralva\\desktop\\university\\4t-cuatrimestre-gia\\plh\\plh-wordembeddings\\wordembeddings\\lib\\site-packages (from keras>=3.0.0->tensorflow-intel==2.16.1->tensorflow<2.17,>=2.16->tf-keras) (13.7.1)\n",
      "Requirement already satisfied: namex in c:\\users\\ralva\\desktop\\university\\4t-cuatrimestre-gia\\plh\\plh-wordembeddings\\wordembeddings\\lib\\site-packages (from keras>=3.0.0->tensorflow-intel==2.16.1->tensorflow<2.17,>=2.16->tf-keras) (0.0.8)\n",
      "Requirement already satisfied: optree in c:\\users\\ralva\\desktop\\university\\4t-cuatrimestre-gia\\plh\\plh-wordembeddings\\wordembeddings\\lib\\site-packages (from keras>=3.0.0->tensorflow-intel==2.16.1->tensorflow<2.17,>=2.16->tf-keras) (0.11.0)\n",
      "Requirement already satisfied: charset-normalizer<4,>=2 in c:\\users\\ralva\\desktop\\university\\4t-cuatrimestre-gia\\plh\\plh-wordembeddings\\wordembeddings\\lib\\site-packages (from requests<3,>=2.21.0->tensorflow-intel==2.16.1->tensorflow<2.17,>=2.16->tf-keras) (3.3.2)\n",
      "Requirement already satisfied: idna<4,>=2.5 in c:\\users\\ralva\\desktop\\university\\4t-cuatrimestre-gia\\plh\\plh-wordembeddings\\wordembeddings\\lib\\site-packages (from requests<3,>=2.21.0->tensorflow-intel==2.16.1->tensorflow<2.17,>=2.16->tf-keras) (3.7)\n",
      "Requirement already satisfied: urllib3<3,>=1.21.1 in c:\\users\\ralva\\desktop\\university\\4t-cuatrimestre-gia\\plh\\plh-wordembeddings\\wordembeddings\\lib\\site-packages (from requests<3,>=2.21.0->tensorflow-intel==2.16.1->tensorflow<2.17,>=2.16->tf-keras) (2.2.1)\n",
      "Requirement already satisfied: certifi>=2017.4.17 in c:\\users\\ralva\\desktop\\university\\4t-cuatrimestre-gia\\plh\\plh-wordembeddings\\wordembeddings\\lib\\site-packages (from requests<3,>=2.21.0->tensorflow-intel==2.16.1->tensorflow<2.17,>=2.16->tf-keras) (2024.2.2)\n",
      "Requirement already satisfied: markdown>=2.6.8 in c:\\users\\ralva\\desktop\\university\\4t-cuatrimestre-gia\\plh\\plh-wordembeddings\\wordembeddings\\lib\\site-packages (from tensorboard<2.17,>=2.16->tensorflow-intel==2.16.1->tensorflow<2.17,>=2.16->tf-keras) (3.6)\n",
      "Requirement already satisfied: tensorboard-data-server<0.8.0,>=0.7.0 in c:\\users\\ralva\\desktop\\university\\4t-cuatrimestre-gia\\plh\\plh-wordembeddings\\wordembeddings\\lib\\site-packages (from tensorboard<2.17,>=2.16->tensorflow-intel==2.16.1->tensorflow<2.17,>=2.16->tf-keras) (0.7.2)\n",
      "Requirement already satisfied: werkzeug>=1.0.1 in c:\\users\\ralva\\desktop\\university\\4t-cuatrimestre-gia\\plh\\plh-wordembeddings\\wordembeddings\\lib\\site-packages (from tensorboard<2.17,>=2.16->tensorflow-intel==2.16.1->tensorflow<2.17,>=2.16->tf-keras) (3.0.3)\n",
      "Requirement already satisfied: MarkupSafe>=2.1.1 in c:\\users\\ralva\\desktop\\university\\4t-cuatrimestre-gia\\plh\\plh-wordembeddings\\wordembeddings\\lib\\site-packages (from werkzeug>=1.0.1->tensorboard<2.17,>=2.16->tensorflow-intel==2.16.1->tensorflow<2.17,>=2.16->tf-keras) (2.1.5)\n",
      "Requirement already satisfied: markdown-it-py>=2.2.0 in c:\\users\\ralva\\desktop\\university\\4t-cuatrimestre-gia\\plh\\plh-wordembeddings\\wordembeddings\\lib\\site-packages (from rich->keras>=3.0.0->tensorflow-intel==2.16.1->tensorflow<2.17,>=2.16->tf-keras) (3.0.0)\n",
      "Requirement already satisfied: pygments<3.0.0,>=2.13.0 in c:\\users\\ralva\\desktop\\university\\4t-cuatrimestre-gia\\plh\\plh-wordembeddings\\wordembeddings\\lib\\site-packages (from rich->keras>=3.0.0->tensorflow-intel==2.16.1->tensorflow<2.17,>=2.16->tf-keras) (2.18.0)\n",
      "Requirement already satisfied: mdurl~=0.1 in c:\\users\\ralva\\desktop\\university\\4t-cuatrimestre-gia\\plh\\plh-wordembeddings\\wordembeddings\\lib\\site-packages (from markdown-it-py>=2.2.0->rich->keras>=3.0.0->tensorflow-intel==2.16.1->tensorflow<2.17,>=2.16->tf-keras) (0.1.2)\n",
      "Note: you may need to restart the kernel to use updated packages.\n",
      "Requirement already satisfied: transformers in c:\\users\\ralva\\desktop\\university\\4t-cuatrimestre-gia\\plh\\plh-wordembeddings\\wordembeddings\\lib\\site-packages (4.41.2)\n",
      "Requirement already satisfied: filelock in c:\\users\\ralva\\desktop\\university\\4t-cuatrimestre-gia\\plh\\plh-wordembeddings\\wordembeddings\\lib\\site-packages (from transformers) (3.14.0)\n",
      "Requirement already satisfied: huggingface-hub<1.0,>=0.23.0 in c:\\users\\ralva\\desktop\\university\\4t-cuatrimestre-gia\\plh\\plh-wordembeddings\\wordembeddings\\lib\\site-packages (from transformers) (0.23.2)\n",
      "Requirement already satisfied: numpy>=1.17 in c:\\users\\ralva\\desktop\\university\\4t-cuatrimestre-gia\\plh\\plh-wordembeddings\\wordembeddings\\lib\\site-packages (from transformers) (1.26.4)\n",
      "Requirement already satisfied: packaging>=20.0 in c:\\users\\ralva\\desktop\\university\\4t-cuatrimestre-gia\\plh\\plh-wordembeddings\\wordembeddings\\lib\\site-packages (from transformers) (24.0)\n",
      "Requirement already satisfied: pyyaml>=5.1 in c:\\users\\ralva\\desktop\\university\\4t-cuatrimestre-gia\\plh\\plh-wordembeddings\\wordembeddings\\lib\\site-packages (from transformers) (6.0.1)\n",
      "Requirement already satisfied: regex!=2019.12.17 in c:\\users\\ralva\\desktop\\university\\4t-cuatrimestre-gia\\plh\\plh-wordembeddings\\wordembeddings\\lib\\site-packages (from transformers) (2024.5.15)\n",
      "Requirement already satisfied: requests in c:\\users\\ralva\\desktop\\university\\4t-cuatrimestre-gia\\plh\\plh-wordembeddings\\wordembeddings\\lib\\site-packages (from transformers) (2.31.0)\n",
      "Requirement already satisfied: tokenizers<0.20,>=0.19 in c:\\users\\ralva\\desktop\\university\\4t-cuatrimestre-gia\\plh\\plh-wordembeddings\\wordembeddings\\lib\\site-packages (from transformers) (0.19.1)\n",
      "Requirement already satisfied: safetensors>=0.4.1 in c:\\users\\ralva\\desktop\\university\\4t-cuatrimestre-gia\\plh\\plh-wordembeddings\\wordembeddings\\lib\\site-packages (from transformers) (0.4.3)\n",
      "Requirement already satisfied: tqdm>=4.27 in c:\\users\\ralva\\desktop\\university\\4t-cuatrimestre-gia\\plh\\plh-wordembeddings\\wordembeddings\\lib\\site-packages (from transformers) (4.66.4)\n",
      "Requirement already satisfied: fsspec>=2023.5.0 in c:\\users\\ralva\\desktop\\university\\4t-cuatrimestre-gia\\plh\\plh-wordembeddings\\wordembeddings\\lib\\site-packages (from huggingface-hub<1.0,>=0.23.0->transformers) (2024.3.1)\n",
      "Requirement already satisfied: typing-extensions>=3.7.4.3 in c:\\users\\ralva\\desktop\\university\\4t-cuatrimestre-gia\\plh\\plh-wordembeddings\\wordembeddings\\lib\\site-packages (from huggingface-hub<1.0,>=0.23.0->transformers) (4.11.0)\n",
      "Requirement already satisfied: colorama in c:\\users\\ralva\\desktop\\university\\4t-cuatrimestre-gia\\plh\\plh-wordembeddings\\wordembeddings\\lib\\site-packages (from tqdm>=4.27->transformers) (0.4.6)\n",
      "Requirement already satisfied: charset-normalizer<4,>=2 in c:\\users\\ralva\\desktop\\university\\4t-cuatrimestre-gia\\plh\\plh-wordembeddings\\wordembeddings\\lib\\site-packages (from requests->transformers) (3.3.2)\n",
      "Requirement already satisfied: idna<4,>=2.5 in c:\\users\\ralva\\desktop\\university\\4t-cuatrimestre-gia\\plh\\plh-wordembeddings\\wordembeddings\\lib\\site-packages (from requests->transformers) (3.7)\n",
      "Requirement already satisfied: urllib3<3,>=1.21.1 in c:\\users\\ralva\\desktop\\university\\4t-cuatrimestre-gia\\plh\\plh-wordembeddings\\wordembeddings\\lib\\site-packages (from requests->transformers) (2.2.1)\n",
      "Requirement already satisfied: certifi>=2017.4.17 in c:\\users\\ralva\\desktop\\university\\4t-cuatrimestre-gia\\plh\\plh-wordembeddings\\wordembeddings\\lib\\site-packages (from requests->transformers) (2024.2.2)\n",
      "Note: you may need to restart the kernel to use updated packages.\n"
     ]
    }
   ],
   "source": [
    "%pip install tf-keras\n",
    "%pip install transformers"
   ]
  },
  {
   "cell_type": "markdown",
   "metadata": {},
   "source": [
    "Fem els imports de les funcions."
   ]
  },
  {
   "cell_type": "code",
   "execution_count": 62,
   "metadata": {},
   "outputs": [],
   "source": [
    "from roberta_fine_tuned import prepare_roberta_ft, compute_pearson_roberta_ft, x_y_split_roberta_ft\n",
    "from transformers import pipeline, AutoTokenizer"
   ]
  },
  {
   "cell_type": "markdown",
   "metadata": {},
   "source": [
    "Creem el model de RoBERTa fine-tuned."
   ]
  },
  {
   "cell_type": "code",
   "execution_count": 63,
   "metadata": {},
   "outputs": [
    {
     "name": "stdout",
     "output_type": "stream",
     "text": [
      "WARNING:tensorflow:From c:\\Users\\ralva\\Desktop\\University\\4t-Cuatrimestre-GIA\\PLH\\PLH-WordEmbeddings\\WordEmbeddings\\Lib\\site-packages\\tf_keras\\src\\losses.py:2976: The name tf.losses.sparse_softmax_cross_entropy is deprecated. Please use tf.compat.v1.losses.sparse_softmax_cross_entropy instead.\n",
      "\n"
     ]
    }
   ],
   "source": [
    "model_roberta_ft = 'projecte-aina/roberta-base-ca-v2-cased-sts'\n",
    "tokenizer_roberta_ft = AutoTokenizer.from_pretrained(model_roberta_ft)\n",
    "pipe_roberta_ft = pipeline('text-classification', model=model_roberta_ft, tokenizer=tokenizer_roberta_ft)"
   ]
  },
  {
   "cell_type": "markdown",
   "metadata": {},
   "source": [
    "Separem en X i Y."
   ]
  },
  {
   "cell_type": "code",
   "execution_count": 64,
   "metadata": {},
   "outputs": [],
   "source": [
    "X_train_roberta_ft, y_train_roberta_ft = x_y_split_roberta_ft(train)\n",
    "X_val_roberta_ft, y_val_roberta_ft = x_y_split_roberta_ft(val)\n",
    "X_test_roberta_ft, y_test_roberta_ft = x_y_split_roberta_ft(test)"
   ]
  },
  {
   "cell_type": "code",
   "execution_count": 65,
   "metadata": {},
   "outputs": [],
   "source": [
    "X = X_train_roberta_ft + X_val_roberta_ft + X_test_roberta_ft\n",
    "y = y_train_roberta_ft + y_val_roberta_ft + y_test_roberta_ft"
   ]
  },
  {
   "cell_type": "markdown",
   "metadata": {},
   "source": [
    "Obtenim els resultats del model"
   ]
  },
  {
   "cell_type": "code",
   "execution_count": 66,
   "metadata": {},
   "outputs": [],
   "source": [
    "predictions = pipe_roberta_ft(prepare_roberta_ft(X, tokenizer_roberta_ft), add_special_tokens=False)"
   ]
  },
  {
   "cell_type": "code",
   "execution_count": 67,
   "metadata": {},
   "outputs": [
    {
     "name": "stdout",
     "output_type": "stream",
     "text": [
      "Correlación de Pearson (all data): 0.890561552970006\n"
     ]
    }
   ],
   "source": [
    "print(f\"Correlación de Pearson (all data): {compute_pearson_roberta_ft(predictions, y)}\")"
   ]
  },
  {
   "cell_type": "code",
   "execution_count": 68,
   "metadata": {},
   "outputs": [
    {
     "name": "stdout",
     "output_type": "stream",
     "text": [
      "Correlación de Pearson (test): 0.7527686784730463\n"
     ]
    }
   ],
   "source": [
    "print(f\"Correlación de Pearson (test): {compute_pearson_roberta_ft(predictions[-len(y_test_roberta_ft):], y_test_roberta_ft)}\")"
   ]
  },
  {
   "cell_type": "markdown",
   "metadata": {},
   "source": [
    "##### Conclusions Roberta fine-tuned"
   ]
  },
  {
   "cell_type": "markdown",
   "metadata": {},
   "source": [
    "Sens dubte el model de RoBERTa fine-tuned és el que millor funciona, ja que és el model més avançat i el que millor semàntica té. Això fa que el model sigui capaç de generalitzar millor."
   ]
  },
  {
   "cell_type": "markdown",
   "metadata": {},
   "source": [
    "## Models amb embeddings entrenables"
   ]
  },
  {
   "cell_type": "code",
   "execution_count": 69,
   "metadata": {},
   "outputs": [],
   "source": [
    "REMAP_EMBEDDINGS: bool = True\n",
    "USE_PRETRAINED: bool = True\n",
    "MAX_LEN: int = 96"
   ]
  },
  {
   "cell_type": "code",
   "execution_count": 70,
   "metadata": {},
   "outputs": [],
   "source": [
    "from trainable_embed_model import map_w2v_trainable, model_2, pair_list_to_x_y"
   ]
  },
  {
   "cell_type": "markdown",
   "metadata": {},
   "source": [
    "Passem les particions de train, test i val a vectors amb la funció *map_w2v_trainable()*. Aquesta funció utilitza el model de Word2Vec per a convertir les frases a vectors."
   ]
  },
  {
   "cell_type": "code",
   "execution_count": 71,
   "metadata": {},
   "outputs": [],
   "source": [
    "mapped_train_trainable = map_w2v_trainable(wv_model, train, MAX_LEN, dictionary)\n",
    "mapped_test_trainable = map_w2v_trainable(wv_model, test, MAX_LEN, fixed_dictionary=dictionary)\n",
    "mapped_val_trainable = map_w2v_trainable(wv_model, val, MAX_LEN, fixed_dictionary=dictionary)"
   ]
  },
  {
   "cell_type": "markdown",
   "metadata": {},
   "source": [
    "Partim en X i Y."
   ]
  },
  {
   "cell_type": "code",
   "execution_count": 72,
   "metadata": {},
   "outputs": [],
   "source": [
    "x_train_trainable, y_train_trainable = pair_list_to_x_y(mapped_train_trainable)\n",
    "x_val_trainable, y_val_trainable = pair_list_to_x_y(mapped_val_trainable)\n",
    "x_test_trainable, y_test_trainable = pair_list_to_x_y(mapped_test_trainable)"
   ]
  },
  {
   "cell_type": "markdown",
   "metadata": {},
   "source": [
    "Reformatejem les dades per a que siguin l'estructura correcte."
   ]
  },
  {
   "cell_type": "code",
   "execution_count": 73,
   "metadata": {},
   "outputs": [],
   "source": [
    "batch_size_trainable: int = 64\n",
    "num_epochs_trainable: int = 128\n",
    "\n",
    "train_dataset_trainable = tf.data.Dataset.from_tensor_slices((x_train_trainable, y_train_trainable))\n",
    "train_dataset_trainable = train_dataset_trainable.shuffle(buffer_size=len(x_train_trainable)).batch(batch_size_trainable)\n",
    "\n",
    "val_dataset_trainable = tf.data.Dataset.from_tensor_slices((x_val_trainable, y_val_trainable))\n",
    "val_dataset_trainable = val_dataset_trainable.batch(batch_size_trainable)"
   ]
  },
  {
   "cell_type": "markdown",
   "metadata": {},
   "source": [
    "### Random embeddings"
   ]
  },
  {
   "cell_type": "markdown",
   "metadata": {},
   "source": [
    "Creem el model amb embeddings aleatoris, sense cap tipus de preentrenament."
   ]
  },
  {
   "cell_type": "code",
   "execution_count": 83,
   "metadata": {},
   "outputs": [
    {
     "name": "stderr",
     "output_type": "stream",
     "text": [
      "c:\\Users\\ralva\\Desktop\\University\\4t-Cuatrimestre-GIA\\PLH\\PLH-WordEmbeddings\\WordEmbeddings\\Lib\\site-packages\\keras\\src\\layers\\core\\embedding.py:90: UserWarning: Argument `input_length` is deprecated. Just remove it.\n",
      "  warnings.warn(\n",
      "c:\\Users\\ralva\\Desktop\\University\\4t-Cuatrimestre-GIA\\PLH\\PLH-WordEmbeddings\\WordEmbeddings\\Lib\\site-packages\\keras\\src\\layers\\layer.py:877: UserWarning: Layer 'sequential_3' (of type Sequential) was passed an input with a mask attached to it. However, this layer does not support masking and will therefore destroy the mask information. Downstream layers will not see the mask.\n",
      "  warnings.warn(\n"
     ]
    },
    {
     "data": {
      "text/html": [
       "<pre style=\"white-space:pre;overflow-x:auto;line-height:normal;font-family:Menlo,'DejaVu Sans Mono',consolas,'Courier New',monospace\"><span style=\"font-weight: bold\">Model: \"functional_21\"</span>\n",
       "</pre>\n"
      ],
      "text/plain": [
       "\u001b[1mModel: \"functional_21\"\u001b[0m\n"
      ]
     },
     "metadata": {},
     "output_type": "display_data"
    },
    {
     "data": {
      "text/html": [
       "<pre style=\"white-space:pre;overflow-x:auto;line-height:normal;font-family:Menlo,'DejaVu Sans Mono',consolas,'Courier New',monospace\">┏━━━━━━━━━━━━━━━━━━━━━┳━━━━━━━━━━━━━━━━━━━┳━━━━━━━━━━━━┳━━━━━━━━━━━━━━━━━━━┓\n",
       "┃<span style=\"font-weight: bold\"> Layer (type)        </span>┃<span style=\"font-weight: bold\"> Output Shape      </span>┃<span style=\"font-weight: bold\">    Param # </span>┃<span style=\"font-weight: bold\"> Connected to      </span>┃\n",
       "┡━━━━━━━━━━━━━━━━━━━━━╇━━━━━━━━━━━━━━━━━━━╇━━━━━━━━━━━━╇━━━━━━━━━━━━━━━━━━━┩\n",
       "│ input_layer_19      │ (<span style=\"color: #00d7ff; text-decoration-color: #00d7ff\">None</span>, <span style=\"color: #00af00; text-decoration-color: #00af00\">96</span>)        │          <span style=\"color: #00af00; text-decoration-color: #00af00\">0</span> │ -                 │\n",
       "│ (<span style=\"color: #0087ff; text-decoration-color: #0087ff\">InputLayer</span>)        │                   │            │                   │\n",
       "├─────────────────────┼───────────────────┼────────────┼───────────────────┤\n",
       "│ input_layer_20      │ (<span style=\"color: #00d7ff; text-decoration-color: #00d7ff\">None</span>, <span style=\"color: #00af00; text-decoration-color: #00af00\">96</span>)        │          <span style=\"color: #00af00; text-decoration-color: #00af00\">0</span> │ -                 │\n",
       "│ (<span style=\"color: #0087ff; text-decoration-color: #0087ff\">InputLayer</span>)        │                   │            │                   │\n",
       "├─────────────────────┼───────────────────┼────────────┼───────────────────┤\n",
       "│ embedding_3         │ (<span style=\"color: #00d7ff; text-decoration-color: #00d7ff\">None</span>, <span style=\"color: #00af00; text-decoration-color: #00af00\">96</span>, <span style=\"color: #00af00; text-decoration-color: #00af00\">16</span>)    │     <span style=\"color: #00af00; text-decoration-color: #00af00\">16,000</span> │ input_layer_19[<span style=\"color: #00af00; text-decoration-color: #00af00\">0</span>… │\n",
       "│ (<span style=\"color: #0087ff; text-decoration-color: #0087ff\">Embedding</span>)         │                   │            │ input_layer_20[<span style=\"color: #00af00; text-decoration-color: #00af00\">0</span>… │\n",
       "├─────────────────────┼───────────────────┼────────────┼───────────────────┤\n",
       "│ not_equal_6         │ (<span style=\"color: #00d7ff; text-decoration-color: #00d7ff\">None</span>, <span style=\"color: #00af00; text-decoration-color: #00af00\">96</span>)        │          <span style=\"color: #00af00; text-decoration-color: #00af00\">0</span> │ input_layer_19[<span style=\"color: #00af00; text-decoration-color: #00af00\">0</span>… │\n",
       "│ (<span style=\"color: #0087ff; text-decoration-color: #0087ff\">NotEqual</span>)          │                   │            │                   │\n",
       "├─────────────────────┼───────────────────┼────────────┼───────────────────┤\n",
       "│ my_layer_mask_6     │ (<span style=\"color: #00d7ff; text-decoration-color: #00d7ff\">None</span>, <span style=\"color: #00af00; text-decoration-color: #00af00\">96</span>)        │          <span style=\"color: #00af00; text-decoration-color: #00af00\">0</span> │ input_layer_19[<span style=\"color: #00af00; text-decoration-color: #00af00\">0</span>… │\n",
       "│ (<span style=\"color: #0087ff; text-decoration-color: #0087ff\">MyLayer_mask</span>)      │                   │            │                   │\n",
       "├─────────────────────┼───────────────────┼────────────┼───────────────────┤\n",
       "│ not_equal_7         │ (<span style=\"color: #00d7ff; text-decoration-color: #00d7ff\">None</span>, <span style=\"color: #00af00; text-decoration-color: #00af00\">96</span>)        │          <span style=\"color: #00af00; text-decoration-color: #00af00\">0</span> │ input_layer_20[<span style=\"color: #00af00; text-decoration-color: #00af00\">0</span>… │\n",
       "│ (<span style=\"color: #0087ff; text-decoration-color: #0087ff\">NotEqual</span>)          │                   │            │                   │\n",
       "├─────────────────────┼───────────────────┼────────────┼───────────────────┤\n",
       "│ my_layer_mask_7     │ (<span style=\"color: #00d7ff; text-decoration-color: #00d7ff\">None</span>, <span style=\"color: #00af00; text-decoration-color: #00af00\">96</span>)        │          <span style=\"color: #00af00; text-decoration-color: #00af00\">0</span> │ input_layer_20[<span style=\"color: #00af00; text-decoration-color: #00af00\">0</span>… │\n",
       "│ (<span style=\"color: #0087ff; text-decoration-color: #0087ff\">MyLayer_mask</span>)      │                   │            │                   │\n",
       "├─────────────────────┼───────────────────┼────────────┼───────────────────┤\n",
       "│ sequential_3        │ (<span style=\"color: #00d7ff; text-decoration-color: #00d7ff\">None</span>, <span style=\"color: #00af00; text-decoration-color: #00af00\">96</span>, <span style=\"color: #00af00; text-decoration-color: #00af00\">1</span>)     │        <span style=\"color: #00af00; text-decoration-color: #00af00\">289</span> │ embedding_3[<span style=\"color: #00af00; text-decoration-color: #00af00\">0</span>][<span style=\"color: #00af00; text-decoration-color: #00af00\">0</span>… │\n",
       "│ (<span style=\"color: #0087ff; text-decoration-color: #0087ff\">Sequential</span>)        │                   │            │ not_equal_6[<span style=\"color: #00af00; text-decoration-color: #00af00\">0</span>][<span style=\"color: #00af00; text-decoration-color: #00af00\">0</span>… │\n",
       "│                     │                   │            │ embedding_3[<span style=\"color: #00af00; text-decoration-color: #00af00\">1</span>][<span style=\"color: #00af00; text-decoration-color: #00af00\">0</span>… │\n",
       "│                     │                   │            │ not_equal_7[<span style=\"color: #00af00; text-decoration-color: #00af00\">0</span>][<span style=\"color: #00af00; text-decoration-color: #00af00\">0</span>] │\n",
       "├─────────────────────┼───────────────────┼────────────┼───────────────────┤\n",
       "│ get_item_6          │ (<span style=\"color: #00d7ff; text-decoration-color: #00d7ff\">None</span>, <span style=\"color: #00af00; text-decoration-color: #00af00\">96</span>, <span style=\"color: #00af00; text-decoration-color: #00af00\">1</span>)     │          <span style=\"color: #00af00; text-decoration-color: #00af00\">0</span> │ my_layer_mask_6[<span style=\"color: #00af00; text-decoration-color: #00af00\">…</span> │\n",
       "│ (<span style=\"color: #0087ff; text-decoration-color: #0087ff\">GetItem</span>)           │                   │            │                   │\n",
       "├─────────────────────┼───────────────────┼────────────┼───────────────────┤\n",
       "│ get_item_7          │ (<span style=\"color: #00d7ff; text-decoration-color: #00d7ff\">None</span>, <span style=\"color: #00af00; text-decoration-color: #00af00\">96</span>, <span style=\"color: #00af00; text-decoration-color: #00af00\">1</span>)     │          <span style=\"color: #00af00; text-decoration-color: #00af00\">0</span> │ my_layer_mask_7[<span style=\"color: #00af00; text-decoration-color: #00af00\">…</span> │\n",
       "│ (<span style=\"color: #0087ff; text-decoration-color: #0087ff\">GetItem</span>)           │                   │            │                   │\n",
       "├─────────────────────┼───────────────────┼────────────┼───────────────────┤\n",
       "│ my_layer_exp_6      │ (<span style=\"color: #00d7ff; text-decoration-color: #00d7ff\">None</span>, <span style=\"color: #00af00; text-decoration-color: #00af00\">96</span>, <span style=\"color: #00af00; text-decoration-color: #00af00\">1</span>)     │          <span style=\"color: #00af00; text-decoration-color: #00af00\">0</span> │ sequential_3[<span style=\"color: #00af00; text-decoration-color: #00af00\">0</span>][<span style=\"color: #00af00; text-decoration-color: #00af00\">…</span> │\n",
       "│ (<span style=\"color: #0087ff; text-decoration-color: #0087ff\">MyLayer_exp</span>)       │                   │            │                   │\n",
       "├─────────────────────┼───────────────────┼────────────┼───────────────────┤\n",
       "│ my_layer_cast_6     │ (<span style=\"color: #00d7ff; text-decoration-color: #00d7ff\">None</span>, <span style=\"color: #00af00; text-decoration-color: #00af00\">96</span>, <span style=\"color: #00af00; text-decoration-color: #00af00\">1</span>)     │          <span style=\"color: #00af00; text-decoration-color: #00af00\">0</span> │ get_item_6[<span style=\"color: #00af00; text-decoration-color: #00af00\">0</span>][<span style=\"color: #00af00; text-decoration-color: #00af00\">0</span>]  │\n",
       "│ (<span style=\"color: #0087ff; text-decoration-color: #0087ff\">MyLayer_cast</span>)      │                   │            │                   │\n",
       "├─────────────────────┼───────────────────┼────────────┼───────────────────┤\n",
       "│ my_layer_exp_7      │ (<span style=\"color: #00d7ff; text-decoration-color: #00d7ff\">None</span>, <span style=\"color: #00af00; text-decoration-color: #00af00\">96</span>, <span style=\"color: #00af00; text-decoration-color: #00af00\">1</span>)     │          <span style=\"color: #00af00; text-decoration-color: #00af00\">0</span> │ sequential_3[<span style=\"color: #00af00; text-decoration-color: #00af00\">1</span>][<span style=\"color: #00af00; text-decoration-color: #00af00\">…</span> │\n",
       "│ (<span style=\"color: #0087ff; text-decoration-color: #0087ff\">MyLayer_exp</span>)       │                   │            │                   │\n",
       "├─────────────────────┼───────────────────┼────────────┼───────────────────┤\n",
       "│ my_layer_cast_7     │ (<span style=\"color: #00d7ff; text-decoration-color: #00d7ff\">None</span>, <span style=\"color: #00af00; text-decoration-color: #00af00\">96</span>, <span style=\"color: #00af00; text-decoration-color: #00af00\">1</span>)     │          <span style=\"color: #00af00; text-decoration-color: #00af00\">0</span> │ get_item_7[<span style=\"color: #00af00; text-decoration-color: #00af00\">0</span>][<span style=\"color: #00af00; text-decoration-color: #00af00\">0</span>]  │\n",
       "│ (<span style=\"color: #0087ff; text-decoration-color: #0087ff\">MyLayer_cast</span>)      │                   │            │                   │\n",
       "├─────────────────────┼───────────────────┼────────────┼───────────────────┤\n",
       "│ multiply_12         │ (<span style=\"color: #00d7ff; text-decoration-color: #00d7ff\">None</span>, <span style=\"color: #00af00; text-decoration-color: #00af00\">96</span>, <span style=\"color: #00af00; text-decoration-color: #00af00\">1</span>)     │          <span style=\"color: #00af00; text-decoration-color: #00af00\">0</span> │ my_layer_exp_6[<span style=\"color: #00af00; text-decoration-color: #00af00\">0</span>… │\n",
       "│ (<span style=\"color: #0087ff; text-decoration-color: #0087ff\">Multiply</span>)          │                   │            │ my_layer_cast_6[<span style=\"color: #00af00; text-decoration-color: #00af00\">…</span> │\n",
       "├─────────────────────┼───────────────────┼────────────┼───────────────────┤\n",
       "│ multiply_13         │ (<span style=\"color: #00d7ff; text-decoration-color: #00d7ff\">None</span>, <span style=\"color: #00af00; text-decoration-color: #00af00\">96</span>, <span style=\"color: #00af00; text-decoration-color: #00af00\">1</span>)     │          <span style=\"color: #00af00; text-decoration-color: #00af00\">0</span> │ my_layer_exp_7[<span style=\"color: #00af00; text-decoration-color: #00af00\">0</span>… │\n",
       "│ (<span style=\"color: #0087ff; text-decoration-color: #0087ff\">Multiply</span>)          │                   │            │ my_layer_cast_7[<span style=\"color: #00af00; text-decoration-color: #00af00\">…</span> │\n",
       "├─────────────────────┼───────────────────┼────────────┼───────────────────┤\n",
       "│ my_layer_reduce_su… │ (<span style=\"color: #00d7ff; text-decoration-color: #00d7ff\">None</span>, <span style=\"color: #00af00; text-decoration-color: #00af00\">1</span>, <span style=\"color: #00af00; text-decoration-color: #00af00\">1</span>)      │          <span style=\"color: #00af00; text-decoration-color: #00af00\">0</span> │ multiply_12[<span style=\"color: #00af00; text-decoration-color: #00af00\">0</span>][<span style=\"color: #00af00; text-decoration-color: #00af00\">0</span>] │\n",
       "│ (<span style=\"color: #0087ff; text-decoration-color: #0087ff\">MyLayer_reduce_su…</span> │                   │            │                   │\n",
       "├─────────────────────┼───────────────────┼────────────┼───────────────────┤\n",
       "│ my_layer_reduce_su… │ (<span style=\"color: #00d7ff; text-decoration-color: #00d7ff\">None</span>, <span style=\"color: #00af00; text-decoration-color: #00af00\">1</span>, <span style=\"color: #00af00; text-decoration-color: #00af00\">1</span>)      │          <span style=\"color: #00af00; text-decoration-color: #00af00\">0</span> │ multiply_13[<span style=\"color: #00af00; text-decoration-color: #00af00\">0</span>][<span style=\"color: #00af00; text-decoration-color: #00af00\">0</span>] │\n",
       "│ (<span style=\"color: #0087ff; text-decoration-color: #0087ff\">MyLayer_reduce_su…</span> │                   │            │                   │\n",
       "├─────────────────────┼───────────────────┼────────────┼───────────────────┤\n",
       "│ true_divide_6       │ (<span style=\"color: #00d7ff; text-decoration-color: #00d7ff\">None</span>, <span style=\"color: #00af00; text-decoration-color: #00af00\">96</span>, <span style=\"color: #00af00; text-decoration-color: #00af00\">1</span>)     │          <span style=\"color: #00af00; text-decoration-color: #00af00\">0</span> │ multiply_12[<span style=\"color: #00af00; text-decoration-color: #00af00\">0</span>][<span style=\"color: #00af00; text-decoration-color: #00af00\">0</span>… │\n",
       "│ (<span style=\"color: #0087ff; text-decoration-color: #0087ff\">TrueDivide</span>)        │                   │            │ my_layer_reduce_… │\n",
       "├─────────────────────┼───────────────────┼────────────┼───────────────────┤\n",
       "│ true_divide_7       │ (<span style=\"color: #00d7ff; text-decoration-color: #00d7ff\">None</span>, <span style=\"color: #00af00; text-decoration-color: #00af00\">96</span>, <span style=\"color: #00af00; text-decoration-color: #00af00\">1</span>)     │          <span style=\"color: #00af00; text-decoration-color: #00af00\">0</span> │ multiply_13[<span style=\"color: #00af00; text-decoration-color: #00af00\">0</span>][<span style=\"color: #00af00; text-decoration-color: #00af00\">0</span>… │\n",
       "│ (<span style=\"color: #0087ff; text-decoration-color: #0087ff\">TrueDivide</span>)        │                   │            │ my_layer_reduce_… │\n",
       "├─────────────────────┼───────────────────┼────────────┼───────────────────┤\n",
       "│ multiply_14         │ (<span style=\"color: #00d7ff; text-decoration-color: #00d7ff\">None</span>, <span style=\"color: #00af00; text-decoration-color: #00af00\">96</span>, <span style=\"color: #00af00; text-decoration-color: #00af00\">16</span>)    │          <span style=\"color: #00af00; text-decoration-color: #00af00\">0</span> │ embedding_3[<span style=\"color: #00af00; text-decoration-color: #00af00\">0</span>][<span style=\"color: #00af00; text-decoration-color: #00af00\">0</span>… │\n",
       "│ (<span style=\"color: #0087ff; text-decoration-color: #0087ff\">Multiply</span>)          │                   │            │ true_divide_6[<span style=\"color: #00af00; text-decoration-color: #00af00\">0</span>]… │\n",
       "├─────────────────────┼───────────────────┼────────────┼───────────────────┤\n",
       "│ multiply_15         │ (<span style=\"color: #00d7ff; text-decoration-color: #00d7ff\">None</span>, <span style=\"color: #00af00; text-decoration-color: #00af00\">96</span>, <span style=\"color: #00af00; text-decoration-color: #00af00\">16</span>)    │          <span style=\"color: #00af00; text-decoration-color: #00af00\">0</span> │ embedding_3[<span style=\"color: #00af00; text-decoration-color: #00af00\">1</span>][<span style=\"color: #00af00; text-decoration-color: #00af00\">0</span>… │\n",
       "│ (<span style=\"color: #0087ff; text-decoration-color: #0087ff\">Multiply</span>)          │                   │            │ true_divide_7[<span style=\"color: #00af00; text-decoration-color: #00af00\">0</span>]… │\n",
       "├─────────────────────┼───────────────────┼────────────┼───────────────────┤\n",
       "│ my_layer_reduce_su… │ (<span style=\"color: #00d7ff; text-decoration-color: #00d7ff\">None</span>, <span style=\"color: #00af00; text-decoration-color: #00af00\">1</span>, <span style=\"color: #00af00; text-decoration-color: #00af00\">16</span>)     │          <span style=\"color: #00af00; text-decoration-color: #00af00\">0</span> │ multiply_14[<span style=\"color: #00af00; text-decoration-color: #00af00\">0</span>][<span style=\"color: #00af00; text-decoration-color: #00af00\">0</span>] │\n",
       "│ (<span style=\"color: #0087ff; text-decoration-color: #0087ff\">MyLayer_reduce_su…</span> │                   │            │                   │\n",
       "├─────────────────────┼───────────────────┼────────────┼───────────────────┤\n",
       "│ my_layer_reduce_su… │ (<span style=\"color: #00d7ff; text-decoration-color: #00d7ff\">None</span>, <span style=\"color: #00af00; text-decoration-color: #00af00\">1</span>, <span style=\"color: #00af00; text-decoration-color: #00af00\">16</span>)     │          <span style=\"color: #00af00; text-decoration-color: #00af00\">0</span> │ multiply_15[<span style=\"color: #00af00; text-decoration-color: #00af00\">0</span>][<span style=\"color: #00af00; text-decoration-color: #00af00\">0</span>] │\n",
       "│ (<span style=\"color: #0087ff; text-decoration-color: #0087ff\">MyLayer_reduce_su…</span> │                   │            │                   │\n",
       "├─────────────────────┼───────────────────┼────────────┼───────────────────┤\n",
       "│ lambda_16 (<span style=\"color: #0087ff; text-decoration-color: #0087ff\">Lambda</span>)  │ (<span style=\"color: #00d7ff; text-decoration-color: #00d7ff\">None</span>, <span style=\"color: #00af00; text-decoration-color: #00af00\">1</span>, <span style=\"color: #00af00; text-decoration-color: #00af00\">16</span>)     │          <span style=\"color: #00af00; text-decoration-color: #00af00\">0</span> │ my_layer_reduce_… │\n",
       "│                     │                   │            │ my_layer_reduce_… │\n",
       "├─────────────────────┼───────────────────┼────────────┼───────────────────┤\n",
       "│ dropout_24          │ (<span style=\"color: #00d7ff; text-decoration-color: #00d7ff\">None</span>, <span style=\"color: #00af00; text-decoration-color: #00af00\">1</span>, <span style=\"color: #00af00; text-decoration-color: #00af00\">16</span>)     │          <span style=\"color: #00af00; text-decoration-color: #00af00\">0</span> │ lambda_16[<span style=\"color: #00af00; text-decoration-color: #00af00\">0</span>][<span style=\"color: #00af00; text-decoration-color: #00af00\">0</span>]   │\n",
       "│ (<span style=\"color: #0087ff; text-decoration-color: #0087ff\">Dropout</span>)           │                   │            │                   │\n",
       "├─────────────────────┼───────────────────┼────────────┼───────────────────┤\n",
       "│ dense_29 (<span style=\"color: #0087ff; text-decoration-color: #0087ff\">Dense</span>)    │ (<span style=\"color: #00d7ff; text-decoration-color: #00d7ff\">None</span>, <span style=\"color: #00af00; text-decoration-color: #00af00\">1</span>, <span style=\"color: #00af00; text-decoration-color: #00af00\">16</span>)     │        <span style=\"color: #00af00; text-decoration-color: #00af00\">272</span> │ dropout_24[<span style=\"color: #00af00; text-decoration-color: #00af00\">0</span>][<span style=\"color: #00af00; text-decoration-color: #00af00\">0</span>]  │\n",
       "├─────────────────────┼───────────────────┼────────────┼───────────────────┤\n",
       "│ dropout_25          │ (<span style=\"color: #00d7ff; text-decoration-color: #00d7ff\">None</span>, <span style=\"color: #00af00; text-decoration-color: #00af00\">1</span>, <span style=\"color: #00af00; text-decoration-color: #00af00\">16</span>)     │          <span style=\"color: #00af00; text-decoration-color: #00af00\">0</span> │ dense_29[<span style=\"color: #00af00; text-decoration-color: #00af00\">0</span>][<span style=\"color: #00af00; text-decoration-color: #00af00\">0</span>]    │\n",
       "│ (<span style=\"color: #0087ff; text-decoration-color: #0087ff\">Dropout</span>)           │                   │            │                   │\n",
       "├─────────────────────┼───────────────────┼────────────┼───────────────────┤\n",
       "│ dense_30 (<span style=\"color: #0087ff; text-decoration-color: #0087ff\">Dense</span>)    │ (<span style=\"color: #00d7ff; text-decoration-color: #00d7ff\">None</span>, <span style=\"color: #00af00; text-decoration-color: #00af00\">1</span>, <span style=\"color: #00af00; text-decoration-color: #00af00\">1</span>)      │         <span style=\"color: #00af00; text-decoration-color: #00af00\">17</span> │ dropout_25[<span style=\"color: #00af00; text-decoration-color: #00af00\">0</span>][<span style=\"color: #00af00; text-decoration-color: #00af00\">0</span>]  │\n",
       "├─────────────────────┼───────────────────┼────────────┼───────────────────┤\n",
       "│ lambda_17 (<span style=\"color: #0087ff; text-decoration-color: #0087ff\">Lambda</span>)  │ (<span style=\"color: #00d7ff; text-decoration-color: #00d7ff\">None</span>, <span style=\"color: #00af00; text-decoration-color: #00af00\">1</span>, <span style=\"color: #00af00; text-decoration-color: #00af00\">1</span>)      │          <span style=\"color: #00af00; text-decoration-color: #00af00\">0</span> │ dense_30[<span style=\"color: #00af00; text-decoration-color: #00af00\">0</span>][<span style=\"color: #00af00; text-decoration-color: #00af00\">0</span>]    │\n",
       "└─────────────────────┴───────────────────┴────────────┴───────────────────┘\n",
       "</pre>\n"
      ],
      "text/plain": [
       "┏━━━━━━━━━━━━━━━━━━━━━┳━━━━━━━━━━━━━━━━━━━┳━━━━━━━━━━━━┳━━━━━━━━━━━━━━━━━━━┓\n",
       "┃\u001b[1m \u001b[0m\u001b[1mLayer (type)       \u001b[0m\u001b[1m \u001b[0m┃\u001b[1m \u001b[0m\u001b[1mOutput Shape     \u001b[0m\u001b[1m \u001b[0m┃\u001b[1m \u001b[0m\u001b[1m   Param #\u001b[0m\u001b[1m \u001b[0m┃\u001b[1m \u001b[0m\u001b[1mConnected to     \u001b[0m\u001b[1m \u001b[0m┃\n",
       "┡━━━━━━━━━━━━━━━━━━━━━╇━━━━━━━━━━━━━━━━━━━╇━━━━━━━━━━━━╇━━━━━━━━━━━━━━━━━━━┩\n",
       "│ input_layer_19      │ (\u001b[38;5;45mNone\u001b[0m, \u001b[38;5;34m96\u001b[0m)        │          \u001b[38;5;34m0\u001b[0m │ -                 │\n",
       "│ (\u001b[38;5;33mInputLayer\u001b[0m)        │                   │            │                   │\n",
       "├─────────────────────┼───────────────────┼────────────┼───────────────────┤\n",
       "│ input_layer_20      │ (\u001b[38;5;45mNone\u001b[0m, \u001b[38;5;34m96\u001b[0m)        │          \u001b[38;5;34m0\u001b[0m │ -                 │\n",
       "│ (\u001b[38;5;33mInputLayer\u001b[0m)        │                   │            │                   │\n",
       "├─────────────────────┼───────────────────┼────────────┼───────────────────┤\n",
       "│ embedding_3         │ (\u001b[38;5;45mNone\u001b[0m, \u001b[38;5;34m96\u001b[0m, \u001b[38;5;34m16\u001b[0m)    │     \u001b[38;5;34m16,000\u001b[0m │ input_layer_19[\u001b[38;5;34m0\u001b[0m… │\n",
       "│ (\u001b[38;5;33mEmbedding\u001b[0m)         │                   │            │ input_layer_20[\u001b[38;5;34m0\u001b[0m… │\n",
       "├─────────────────────┼───────────────────┼────────────┼───────────────────┤\n",
       "│ not_equal_6         │ (\u001b[38;5;45mNone\u001b[0m, \u001b[38;5;34m96\u001b[0m)        │          \u001b[38;5;34m0\u001b[0m │ input_layer_19[\u001b[38;5;34m0\u001b[0m… │\n",
       "│ (\u001b[38;5;33mNotEqual\u001b[0m)          │                   │            │                   │\n",
       "├─────────────────────┼───────────────────┼────────────┼───────────────────┤\n",
       "│ my_layer_mask_6     │ (\u001b[38;5;45mNone\u001b[0m, \u001b[38;5;34m96\u001b[0m)        │          \u001b[38;5;34m0\u001b[0m │ input_layer_19[\u001b[38;5;34m0\u001b[0m… │\n",
       "│ (\u001b[38;5;33mMyLayer_mask\u001b[0m)      │                   │            │                   │\n",
       "├─────────────────────┼───────────────────┼────────────┼───────────────────┤\n",
       "│ not_equal_7         │ (\u001b[38;5;45mNone\u001b[0m, \u001b[38;5;34m96\u001b[0m)        │          \u001b[38;5;34m0\u001b[0m │ input_layer_20[\u001b[38;5;34m0\u001b[0m… │\n",
       "│ (\u001b[38;5;33mNotEqual\u001b[0m)          │                   │            │                   │\n",
       "├─────────────────────┼───────────────────┼────────────┼───────────────────┤\n",
       "│ my_layer_mask_7     │ (\u001b[38;5;45mNone\u001b[0m, \u001b[38;5;34m96\u001b[0m)        │          \u001b[38;5;34m0\u001b[0m │ input_layer_20[\u001b[38;5;34m0\u001b[0m… │\n",
       "│ (\u001b[38;5;33mMyLayer_mask\u001b[0m)      │                   │            │                   │\n",
       "├─────────────────────┼───────────────────┼────────────┼───────────────────┤\n",
       "│ sequential_3        │ (\u001b[38;5;45mNone\u001b[0m, \u001b[38;5;34m96\u001b[0m, \u001b[38;5;34m1\u001b[0m)     │        \u001b[38;5;34m289\u001b[0m │ embedding_3[\u001b[38;5;34m0\u001b[0m][\u001b[38;5;34m0\u001b[0m… │\n",
       "│ (\u001b[38;5;33mSequential\u001b[0m)        │                   │            │ not_equal_6[\u001b[38;5;34m0\u001b[0m][\u001b[38;5;34m0\u001b[0m… │\n",
       "│                     │                   │            │ embedding_3[\u001b[38;5;34m1\u001b[0m][\u001b[38;5;34m0\u001b[0m… │\n",
       "│                     │                   │            │ not_equal_7[\u001b[38;5;34m0\u001b[0m][\u001b[38;5;34m0\u001b[0m] │\n",
       "├─────────────────────┼───────────────────┼────────────┼───────────────────┤\n",
       "│ get_item_6          │ (\u001b[38;5;45mNone\u001b[0m, \u001b[38;5;34m96\u001b[0m, \u001b[38;5;34m1\u001b[0m)     │          \u001b[38;5;34m0\u001b[0m │ my_layer_mask_6[\u001b[38;5;34m…\u001b[0m │\n",
       "│ (\u001b[38;5;33mGetItem\u001b[0m)           │                   │            │                   │\n",
       "├─────────────────────┼───────────────────┼────────────┼───────────────────┤\n",
       "│ get_item_7          │ (\u001b[38;5;45mNone\u001b[0m, \u001b[38;5;34m96\u001b[0m, \u001b[38;5;34m1\u001b[0m)     │          \u001b[38;5;34m0\u001b[0m │ my_layer_mask_7[\u001b[38;5;34m…\u001b[0m │\n",
       "│ (\u001b[38;5;33mGetItem\u001b[0m)           │                   │            │                   │\n",
       "├─────────────────────┼───────────────────┼────────────┼───────────────────┤\n",
       "│ my_layer_exp_6      │ (\u001b[38;5;45mNone\u001b[0m, \u001b[38;5;34m96\u001b[0m, \u001b[38;5;34m1\u001b[0m)     │          \u001b[38;5;34m0\u001b[0m │ sequential_3[\u001b[38;5;34m0\u001b[0m][\u001b[38;5;34m…\u001b[0m │\n",
       "│ (\u001b[38;5;33mMyLayer_exp\u001b[0m)       │                   │            │                   │\n",
       "├─────────────────────┼───────────────────┼────────────┼───────────────────┤\n",
       "│ my_layer_cast_6     │ (\u001b[38;5;45mNone\u001b[0m, \u001b[38;5;34m96\u001b[0m, \u001b[38;5;34m1\u001b[0m)     │          \u001b[38;5;34m0\u001b[0m │ get_item_6[\u001b[38;5;34m0\u001b[0m][\u001b[38;5;34m0\u001b[0m]  │\n",
       "│ (\u001b[38;5;33mMyLayer_cast\u001b[0m)      │                   │            │                   │\n",
       "├─────────────────────┼───────────────────┼────────────┼───────────────────┤\n",
       "│ my_layer_exp_7      │ (\u001b[38;5;45mNone\u001b[0m, \u001b[38;5;34m96\u001b[0m, \u001b[38;5;34m1\u001b[0m)     │          \u001b[38;5;34m0\u001b[0m │ sequential_3[\u001b[38;5;34m1\u001b[0m][\u001b[38;5;34m…\u001b[0m │\n",
       "│ (\u001b[38;5;33mMyLayer_exp\u001b[0m)       │                   │            │                   │\n",
       "├─────────────────────┼───────────────────┼────────────┼───────────────────┤\n",
       "│ my_layer_cast_7     │ (\u001b[38;5;45mNone\u001b[0m, \u001b[38;5;34m96\u001b[0m, \u001b[38;5;34m1\u001b[0m)     │          \u001b[38;5;34m0\u001b[0m │ get_item_7[\u001b[38;5;34m0\u001b[0m][\u001b[38;5;34m0\u001b[0m]  │\n",
       "│ (\u001b[38;5;33mMyLayer_cast\u001b[0m)      │                   │            │                   │\n",
       "├─────────────────────┼───────────────────┼────────────┼───────────────────┤\n",
       "│ multiply_12         │ (\u001b[38;5;45mNone\u001b[0m, \u001b[38;5;34m96\u001b[0m, \u001b[38;5;34m1\u001b[0m)     │          \u001b[38;5;34m0\u001b[0m │ my_layer_exp_6[\u001b[38;5;34m0\u001b[0m… │\n",
       "│ (\u001b[38;5;33mMultiply\u001b[0m)          │                   │            │ my_layer_cast_6[\u001b[38;5;34m…\u001b[0m │\n",
       "├─────────────────────┼───────────────────┼────────────┼───────────────────┤\n",
       "│ multiply_13         │ (\u001b[38;5;45mNone\u001b[0m, \u001b[38;5;34m96\u001b[0m, \u001b[38;5;34m1\u001b[0m)     │          \u001b[38;5;34m0\u001b[0m │ my_layer_exp_7[\u001b[38;5;34m0\u001b[0m… │\n",
       "│ (\u001b[38;5;33mMultiply\u001b[0m)          │                   │            │ my_layer_cast_7[\u001b[38;5;34m…\u001b[0m │\n",
       "├─────────────────────┼───────────────────┼────────────┼───────────────────┤\n",
       "│ my_layer_reduce_su… │ (\u001b[38;5;45mNone\u001b[0m, \u001b[38;5;34m1\u001b[0m, \u001b[38;5;34m1\u001b[0m)      │          \u001b[38;5;34m0\u001b[0m │ multiply_12[\u001b[38;5;34m0\u001b[0m][\u001b[38;5;34m0\u001b[0m] │\n",
       "│ (\u001b[38;5;33mMyLayer_reduce_su…\u001b[0m │                   │            │                   │\n",
       "├─────────────────────┼───────────────────┼────────────┼───────────────────┤\n",
       "│ my_layer_reduce_su… │ (\u001b[38;5;45mNone\u001b[0m, \u001b[38;5;34m1\u001b[0m, \u001b[38;5;34m1\u001b[0m)      │          \u001b[38;5;34m0\u001b[0m │ multiply_13[\u001b[38;5;34m0\u001b[0m][\u001b[38;5;34m0\u001b[0m] │\n",
       "│ (\u001b[38;5;33mMyLayer_reduce_su…\u001b[0m │                   │            │                   │\n",
       "├─────────────────────┼───────────────────┼────────────┼───────────────────┤\n",
       "│ true_divide_6       │ (\u001b[38;5;45mNone\u001b[0m, \u001b[38;5;34m96\u001b[0m, \u001b[38;5;34m1\u001b[0m)     │          \u001b[38;5;34m0\u001b[0m │ multiply_12[\u001b[38;5;34m0\u001b[0m][\u001b[38;5;34m0\u001b[0m… │\n",
       "│ (\u001b[38;5;33mTrueDivide\u001b[0m)        │                   │            │ my_layer_reduce_… │\n",
       "├─────────────────────┼───────────────────┼────────────┼───────────────────┤\n",
       "│ true_divide_7       │ (\u001b[38;5;45mNone\u001b[0m, \u001b[38;5;34m96\u001b[0m, \u001b[38;5;34m1\u001b[0m)     │          \u001b[38;5;34m0\u001b[0m │ multiply_13[\u001b[38;5;34m0\u001b[0m][\u001b[38;5;34m0\u001b[0m… │\n",
       "│ (\u001b[38;5;33mTrueDivide\u001b[0m)        │                   │            │ my_layer_reduce_… │\n",
       "├─────────────────────┼───────────────────┼────────────┼───────────────────┤\n",
       "│ multiply_14         │ (\u001b[38;5;45mNone\u001b[0m, \u001b[38;5;34m96\u001b[0m, \u001b[38;5;34m16\u001b[0m)    │          \u001b[38;5;34m0\u001b[0m │ embedding_3[\u001b[38;5;34m0\u001b[0m][\u001b[38;5;34m0\u001b[0m… │\n",
       "│ (\u001b[38;5;33mMultiply\u001b[0m)          │                   │            │ true_divide_6[\u001b[38;5;34m0\u001b[0m]… │\n",
       "├─────────────────────┼───────────────────┼────────────┼───────────────────┤\n",
       "│ multiply_15         │ (\u001b[38;5;45mNone\u001b[0m, \u001b[38;5;34m96\u001b[0m, \u001b[38;5;34m16\u001b[0m)    │          \u001b[38;5;34m0\u001b[0m │ embedding_3[\u001b[38;5;34m1\u001b[0m][\u001b[38;5;34m0\u001b[0m… │\n",
       "│ (\u001b[38;5;33mMultiply\u001b[0m)          │                   │            │ true_divide_7[\u001b[38;5;34m0\u001b[0m]… │\n",
       "├─────────────────────┼───────────────────┼────────────┼───────────────────┤\n",
       "│ my_layer_reduce_su… │ (\u001b[38;5;45mNone\u001b[0m, \u001b[38;5;34m1\u001b[0m, \u001b[38;5;34m16\u001b[0m)     │          \u001b[38;5;34m0\u001b[0m │ multiply_14[\u001b[38;5;34m0\u001b[0m][\u001b[38;5;34m0\u001b[0m] │\n",
       "│ (\u001b[38;5;33mMyLayer_reduce_su…\u001b[0m │                   │            │                   │\n",
       "├─────────────────────┼───────────────────┼────────────┼───────────────────┤\n",
       "│ my_layer_reduce_su… │ (\u001b[38;5;45mNone\u001b[0m, \u001b[38;5;34m1\u001b[0m, \u001b[38;5;34m16\u001b[0m)     │          \u001b[38;5;34m0\u001b[0m │ multiply_15[\u001b[38;5;34m0\u001b[0m][\u001b[38;5;34m0\u001b[0m] │\n",
       "│ (\u001b[38;5;33mMyLayer_reduce_su…\u001b[0m │                   │            │                   │\n",
       "├─────────────────────┼───────────────────┼────────────┼───────────────────┤\n",
       "│ lambda_16 (\u001b[38;5;33mLambda\u001b[0m)  │ (\u001b[38;5;45mNone\u001b[0m, \u001b[38;5;34m1\u001b[0m, \u001b[38;5;34m16\u001b[0m)     │          \u001b[38;5;34m0\u001b[0m │ my_layer_reduce_… │\n",
       "│                     │                   │            │ my_layer_reduce_… │\n",
       "├─────────────────────┼───────────────────┼────────────┼───────────────────┤\n",
       "│ dropout_24          │ (\u001b[38;5;45mNone\u001b[0m, \u001b[38;5;34m1\u001b[0m, \u001b[38;5;34m16\u001b[0m)     │          \u001b[38;5;34m0\u001b[0m │ lambda_16[\u001b[38;5;34m0\u001b[0m][\u001b[38;5;34m0\u001b[0m]   │\n",
       "│ (\u001b[38;5;33mDropout\u001b[0m)           │                   │            │                   │\n",
       "├─────────────────────┼───────────────────┼────────────┼───────────────────┤\n",
       "│ dense_29 (\u001b[38;5;33mDense\u001b[0m)    │ (\u001b[38;5;45mNone\u001b[0m, \u001b[38;5;34m1\u001b[0m, \u001b[38;5;34m16\u001b[0m)     │        \u001b[38;5;34m272\u001b[0m │ dropout_24[\u001b[38;5;34m0\u001b[0m][\u001b[38;5;34m0\u001b[0m]  │\n",
       "├─────────────────────┼───────────────────┼────────────┼───────────────────┤\n",
       "│ dropout_25          │ (\u001b[38;5;45mNone\u001b[0m, \u001b[38;5;34m1\u001b[0m, \u001b[38;5;34m16\u001b[0m)     │          \u001b[38;5;34m0\u001b[0m │ dense_29[\u001b[38;5;34m0\u001b[0m][\u001b[38;5;34m0\u001b[0m]    │\n",
       "│ (\u001b[38;5;33mDropout\u001b[0m)           │                   │            │                   │\n",
       "├─────────────────────┼───────────────────┼────────────┼───────────────────┤\n",
       "│ dense_30 (\u001b[38;5;33mDense\u001b[0m)    │ (\u001b[38;5;45mNone\u001b[0m, \u001b[38;5;34m1\u001b[0m, \u001b[38;5;34m1\u001b[0m)      │         \u001b[38;5;34m17\u001b[0m │ dropout_25[\u001b[38;5;34m0\u001b[0m][\u001b[38;5;34m0\u001b[0m]  │\n",
       "├─────────────────────┼───────────────────┼────────────┼───────────────────┤\n",
       "│ lambda_17 (\u001b[38;5;33mLambda\u001b[0m)  │ (\u001b[38;5;45mNone\u001b[0m, \u001b[38;5;34m1\u001b[0m, \u001b[38;5;34m1\u001b[0m)      │          \u001b[38;5;34m0\u001b[0m │ dense_30[\u001b[38;5;34m0\u001b[0m][\u001b[38;5;34m0\u001b[0m]    │\n",
       "└─────────────────────┴───────────────────┴────────────┴───────────────────┘\n"
      ]
     },
     "metadata": {},
     "output_type": "display_data"
    },
    {
     "data": {
      "text/html": [
       "<pre style=\"white-space:pre;overflow-x:auto;line-height:normal;font-family:Menlo,'DejaVu Sans Mono',consolas,'Courier New',monospace\"><span style=\"font-weight: bold\"> Total params: </span><span style=\"color: #00af00; text-decoration-color: #00af00\">16,578</span> (64.76 KB)\n",
       "</pre>\n"
      ],
      "text/plain": [
       "\u001b[1m Total params: \u001b[0m\u001b[38;5;34m16,578\u001b[0m (64.76 KB)\n"
      ]
     },
     "metadata": {},
     "output_type": "display_data"
    },
    {
     "data": {
      "text/html": [
       "<pre style=\"white-space:pre;overflow-x:auto;line-height:normal;font-family:Menlo,'DejaVu Sans Mono',consolas,'Courier New',monospace\"><span style=\"font-weight: bold\"> Trainable params: </span><span style=\"color: #00af00; text-decoration-color: #00af00\">16,578</span> (64.76 KB)\n",
       "</pre>\n"
      ],
      "text/plain": [
       "\u001b[1m Trainable params: \u001b[0m\u001b[38;5;34m16,578\u001b[0m (64.76 KB)\n"
      ]
     },
     "metadata": {},
     "output_type": "display_data"
    },
    {
     "data": {
      "text/html": [
       "<pre style=\"white-space:pre;overflow-x:auto;line-height:normal;font-family:Menlo,'DejaVu Sans Mono',consolas,'Courier New',monospace\"><span style=\"font-weight: bold\"> Non-trainable params: </span><span style=\"color: #00af00; text-decoration-color: #00af00\">0</span> (0.00 B)\n",
       "</pre>\n"
      ],
      "text/plain": [
       "\u001b[1m Non-trainable params: \u001b[0m\u001b[38;5;34m0\u001b[0m (0.00 B)\n"
      ]
     },
     "metadata": {},
     "output_type": "display_data"
    }
   ],
   "source": [
    "model_random = model_2(MAX_LEN, pretrained_weights=None, trainable=False, use_cosine=False)\n",
    "model_random.summary()"
   ]
  },
  {
   "cell_type": "markdown",
   "metadata": {},
   "source": [
    "Entrenem el model"
   ]
  },
  {
   "cell_type": "code",
   "execution_count": null,
   "metadata": {},
   "outputs": [],
   "source": [
    "model_random.fit(train_dataset_trainable, epochs=num_epochs_trainable, validation_data=val_dataset_trainable)"
   ]
  },
  {
   "cell_type": "markdown",
   "metadata": {},
   "source": [
    "Evaluem el model amb la partició de validació."
   ]
  },
  {
   "cell_type": "code",
   "execution_count": null,
   "metadata": {},
   "outputs": [],
   "source": [
    "print(f\"Correlación de Pearson (train): {compute_pearson(model_random, x_train_trainable, y_train_trainable)}\")\n",
    "print(f\"Correlación de Pearson (validation): {compute_pearson(model_random, x_val_trainable, y_val_trainable)}\")"
   ]
  },
  {
   "cell_type": "markdown",
   "metadata": {},
   "source": [
    "Provem amb la partició de test."
   ]
  },
  {
   "cell_type": "code",
   "execution_count": null,
   "metadata": {},
   "outputs": [],
   "source": [
    "print(f\"Correlación de Pearson (test): {compute_pearson(model_random, x_test_trainable, y_test_trainable)}\")"
   ]
  },
  {
   "cell_type": "markdown",
   "metadata": {},
   "source": [
    "### Word2Vec"
   ]
  },
  {
   "cell_type": "markdown",
   "metadata": {},
   "source": [
    "Definim els pesos preentrenats. Cal destacar que el model de Word2Vec *wv_model* ja ha estat importat en la secció [2. Word2Vec preentrenats](#2-word2vec-preentrenats)."
   ]
  },
  {
   "cell_type": "code",
   "execution_count": 84,
   "metadata": {},
   "outputs": [],
   "source": [
    "_pretrained_weights = None\n",
    "if USE_PRETRAINED:\n",
    "    if REMAP_EMBEDDINGS:\n",
    "        _pretrained_weights = np.zeros(\n",
    "            (len(dictionary.token2id) + 1, wv_model.vector_size),  dtype=np.float32)\n",
    "        for token, _id in dictionary.token2id.items():\n",
    "            if token in wv_model:\n",
    "             _pretrained_weights[_id + 1] = wv_model[token]\n",
    "\n",
    "            else:\n",
    "                # In W2V, OOV will not have a representation. We will use 0.\n",
    "                pass\n",
    "    else:\n",
    "        # Not recommended (this will consume A LOT of RAM)\n",
    "        _pretrained_weights = np.zeros((wv_model.vectors.shape[0] + 1, wv_model.vector_size,),  dtype=np.float32)\n",
    "        _pretrained_weights[1:, :] = wv_model.vectors"
   ]
  },
  {
   "cell_type": "markdown",
   "metadata": {},
   "source": [
    "Creem el model amb embeddings de Word2Vec preentrenats."
   ]
  },
  {
   "cell_type": "code",
   "execution_count": 85,
   "metadata": {},
   "outputs": [
    {
     "name": "stderr",
     "output_type": "stream",
     "text": [
      "c:\\Users\\ralva\\Desktop\\University\\4t-Cuatrimestre-GIA\\PLH\\PLH-WordEmbeddings\\WordEmbeddings\\Lib\\site-packages\\keras\\src\\layers\\layer.py:877: UserWarning: Layer 'sequential_4' (of type Sequential) was passed an input with a mask attached to it. However, this layer does not support masking and will therefore destroy the mask information. Downstream layers will not see the mask.\n",
      "  warnings.warn(\n"
     ]
    },
    {
     "data": {
      "text/html": [
       "<pre style=\"white-space:pre;overflow-x:auto;line-height:normal;font-family:Menlo,'DejaVu Sans Mono',consolas,'Courier New',monospace\"><span style=\"font-weight: bold\">Model: \"functional_24\"</span>\n",
       "</pre>\n"
      ],
      "text/plain": [
       "\u001b[1mModel: \"functional_24\"\u001b[0m\n"
      ]
     },
     "metadata": {},
     "output_type": "display_data"
    },
    {
     "data": {
      "text/html": [
       "<pre style=\"white-space:pre;overflow-x:auto;line-height:normal;font-family:Menlo,'DejaVu Sans Mono',consolas,'Courier New',monospace\">┏━━━━━━━━━━━━━━━━━━━━━┳━━━━━━━━━━━━━━━━━━━┳━━━━━━━━━━━━┳━━━━━━━━━━━━━━━━━━━┓\n",
       "┃<span style=\"font-weight: bold\"> Layer (type)        </span>┃<span style=\"font-weight: bold\"> Output Shape      </span>┃<span style=\"font-weight: bold\">    Param # </span>┃<span style=\"font-weight: bold\"> Connected to      </span>┃\n",
       "┡━━━━━━━━━━━━━━━━━━━━━╇━━━━━━━━━━━━━━━━━━━╇━━━━━━━━━━━━╇━━━━━━━━━━━━━━━━━━━┩\n",
       "│ input_layer_22      │ (<span style=\"color: #00d7ff; text-decoration-color: #00d7ff\">None</span>, <span style=\"color: #00af00; text-decoration-color: #00af00\">96</span>)        │          <span style=\"color: #00af00; text-decoration-color: #00af00\">0</span> │ -                 │\n",
       "│ (<span style=\"color: #0087ff; text-decoration-color: #0087ff\">InputLayer</span>)        │                   │            │                   │\n",
       "├─────────────────────┼───────────────────┼────────────┼───────────────────┤\n",
       "│ input_layer_23      │ (<span style=\"color: #00d7ff; text-decoration-color: #00d7ff\">None</span>, <span style=\"color: #00af00; text-decoration-color: #00af00\">96</span>)        │          <span style=\"color: #00af00; text-decoration-color: #00af00\">0</span> │ -                 │\n",
       "│ (<span style=\"color: #0087ff; text-decoration-color: #0087ff\">InputLayer</span>)        │                   │            │                   │\n",
       "├─────────────────────┼───────────────────┼────────────┼───────────────────┤\n",
       "│ embedding_4         │ (<span style=\"color: #00d7ff; text-decoration-color: #00d7ff\">None</span>, <span style=\"color: #00af00; text-decoration-color: #00af00\">96</span>, <span style=\"color: #00af00; text-decoration-color: #00af00\">300</span>)   │  <span style=\"color: #00af00; text-decoration-color: #00af00\">3,878,100</span> │ input_layer_22[<span style=\"color: #00af00; text-decoration-color: #00af00\">0</span>… │\n",
       "│ (<span style=\"color: #0087ff; text-decoration-color: #0087ff\">Embedding</span>)         │                   │            │ input_layer_23[<span style=\"color: #00af00; text-decoration-color: #00af00\">0</span>… │\n",
       "├─────────────────────┼───────────────────┼────────────┼───────────────────┤\n",
       "│ not_equal_8         │ (<span style=\"color: #00d7ff; text-decoration-color: #00d7ff\">None</span>, <span style=\"color: #00af00; text-decoration-color: #00af00\">96</span>)        │          <span style=\"color: #00af00; text-decoration-color: #00af00\">0</span> │ input_layer_22[<span style=\"color: #00af00; text-decoration-color: #00af00\">0</span>… │\n",
       "│ (<span style=\"color: #0087ff; text-decoration-color: #0087ff\">NotEqual</span>)          │                   │            │                   │\n",
       "├─────────────────────┼───────────────────┼────────────┼───────────────────┤\n",
       "│ my_layer_mask_8     │ (<span style=\"color: #00d7ff; text-decoration-color: #00d7ff\">None</span>, <span style=\"color: #00af00; text-decoration-color: #00af00\">96</span>)        │          <span style=\"color: #00af00; text-decoration-color: #00af00\">0</span> │ input_layer_22[<span style=\"color: #00af00; text-decoration-color: #00af00\">0</span>… │\n",
       "│ (<span style=\"color: #0087ff; text-decoration-color: #0087ff\">MyLayer_mask</span>)      │                   │            │                   │\n",
       "├─────────────────────┼───────────────────┼────────────┼───────────────────┤\n",
       "│ not_equal_9         │ (<span style=\"color: #00d7ff; text-decoration-color: #00d7ff\">None</span>, <span style=\"color: #00af00; text-decoration-color: #00af00\">96</span>)        │          <span style=\"color: #00af00; text-decoration-color: #00af00\">0</span> │ input_layer_23[<span style=\"color: #00af00; text-decoration-color: #00af00\">0</span>… │\n",
       "│ (<span style=\"color: #0087ff; text-decoration-color: #0087ff\">NotEqual</span>)          │                   │            │                   │\n",
       "├─────────────────────┼───────────────────┼────────────┼───────────────────┤\n",
       "│ my_layer_mask_9     │ (<span style=\"color: #00d7ff; text-decoration-color: #00d7ff\">None</span>, <span style=\"color: #00af00; text-decoration-color: #00af00\">96</span>)        │          <span style=\"color: #00af00; text-decoration-color: #00af00\">0</span> │ input_layer_23[<span style=\"color: #00af00; text-decoration-color: #00af00\">0</span>… │\n",
       "│ (<span style=\"color: #0087ff; text-decoration-color: #0087ff\">MyLayer_mask</span>)      │                   │            │                   │\n",
       "├─────────────────────┼───────────────────┼────────────┼───────────────────┤\n",
       "│ sequential_4        │ (<span style=\"color: #00d7ff; text-decoration-color: #00d7ff\">None</span>, <span style=\"color: #00af00; text-decoration-color: #00af00\">96</span>, <span style=\"color: #00af00; text-decoration-color: #00af00\">1</span>)     │      <span style=\"color: #00af00; text-decoration-color: #00af00\">4,833</span> │ embedding_4[<span style=\"color: #00af00; text-decoration-color: #00af00\">0</span>][<span style=\"color: #00af00; text-decoration-color: #00af00\">0</span>… │\n",
       "│ (<span style=\"color: #0087ff; text-decoration-color: #0087ff\">Sequential</span>)        │                   │            │ not_equal_8[<span style=\"color: #00af00; text-decoration-color: #00af00\">0</span>][<span style=\"color: #00af00; text-decoration-color: #00af00\">0</span>… │\n",
       "│                     │                   │            │ embedding_4[<span style=\"color: #00af00; text-decoration-color: #00af00\">1</span>][<span style=\"color: #00af00; text-decoration-color: #00af00\">0</span>… │\n",
       "│                     │                   │            │ not_equal_9[<span style=\"color: #00af00; text-decoration-color: #00af00\">0</span>][<span style=\"color: #00af00; text-decoration-color: #00af00\">0</span>] │\n",
       "├─────────────────────┼───────────────────┼────────────┼───────────────────┤\n",
       "│ get_item_8          │ (<span style=\"color: #00d7ff; text-decoration-color: #00d7ff\">None</span>, <span style=\"color: #00af00; text-decoration-color: #00af00\">96</span>, <span style=\"color: #00af00; text-decoration-color: #00af00\">1</span>)     │          <span style=\"color: #00af00; text-decoration-color: #00af00\">0</span> │ my_layer_mask_8[<span style=\"color: #00af00; text-decoration-color: #00af00\">…</span> │\n",
       "│ (<span style=\"color: #0087ff; text-decoration-color: #0087ff\">GetItem</span>)           │                   │            │                   │\n",
       "├─────────────────────┼───────────────────┼────────────┼───────────────────┤\n",
       "│ get_item_9          │ (<span style=\"color: #00d7ff; text-decoration-color: #00d7ff\">None</span>, <span style=\"color: #00af00; text-decoration-color: #00af00\">96</span>, <span style=\"color: #00af00; text-decoration-color: #00af00\">1</span>)     │          <span style=\"color: #00af00; text-decoration-color: #00af00\">0</span> │ my_layer_mask_9[<span style=\"color: #00af00; text-decoration-color: #00af00\">…</span> │\n",
       "│ (<span style=\"color: #0087ff; text-decoration-color: #0087ff\">GetItem</span>)           │                   │            │                   │\n",
       "├─────────────────────┼───────────────────┼────────────┼───────────────────┤\n",
       "│ my_layer_exp_8      │ (<span style=\"color: #00d7ff; text-decoration-color: #00d7ff\">None</span>, <span style=\"color: #00af00; text-decoration-color: #00af00\">96</span>, <span style=\"color: #00af00; text-decoration-color: #00af00\">1</span>)     │          <span style=\"color: #00af00; text-decoration-color: #00af00\">0</span> │ sequential_4[<span style=\"color: #00af00; text-decoration-color: #00af00\">0</span>][<span style=\"color: #00af00; text-decoration-color: #00af00\">…</span> │\n",
       "│ (<span style=\"color: #0087ff; text-decoration-color: #0087ff\">MyLayer_exp</span>)       │                   │            │                   │\n",
       "├─────────────────────┼───────────────────┼────────────┼───────────────────┤\n",
       "│ my_layer_cast_8     │ (<span style=\"color: #00d7ff; text-decoration-color: #00d7ff\">None</span>, <span style=\"color: #00af00; text-decoration-color: #00af00\">96</span>, <span style=\"color: #00af00; text-decoration-color: #00af00\">1</span>)     │          <span style=\"color: #00af00; text-decoration-color: #00af00\">0</span> │ get_item_8[<span style=\"color: #00af00; text-decoration-color: #00af00\">0</span>][<span style=\"color: #00af00; text-decoration-color: #00af00\">0</span>]  │\n",
       "│ (<span style=\"color: #0087ff; text-decoration-color: #0087ff\">MyLayer_cast</span>)      │                   │            │                   │\n",
       "├─────────────────────┼───────────────────┼────────────┼───────────────────┤\n",
       "│ my_layer_exp_9      │ (<span style=\"color: #00d7ff; text-decoration-color: #00d7ff\">None</span>, <span style=\"color: #00af00; text-decoration-color: #00af00\">96</span>, <span style=\"color: #00af00; text-decoration-color: #00af00\">1</span>)     │          <span style=\"color: #00af00; text-decoration-color: #00af00\">0</span> │ sequential_4[<span style=\"color: #00af00; text-decoration-color: #00af00\">1</span>][<span style=\"color: #00af00; text-decoration-color: #00af00\">…</span> │\n",
       "│ (<span style=\"color: #0087ff; text-decoration-color: #0087ff\">MyLayer_exp</span>)       │                   │            │                   │\n",
       "├─────────────────────┼───────────────────┼────────────┼───────────────────┤\n",
       "│ my_layer_cast_9     │ (<span style=\"color: #00d7ff; text-decoration-color: #00d7ff\">None</span>, <span style=\"color: #00af00; text-decoration-color: #00af00\">96</span>, <span style=\"color: #00af00; text-decoration-color: #00af00\">1</span>)     │          <span style=\"color: #00af00; text-decoration-color: #00af00\">0</span> │ get_item_9[<span style=\"color: #00af00; text-decoration-color: #00af00\">0</span>][<span style=\"color: #00af00; text-decoration-color: #00af00\">0</span>]  │\n",
       "│ (<span style=\"color: #0087ff; text-decoration-color: #0087ff\">MyLayer_cast</span>)      │                   │            │                   │\n",
       "├─────────────────────┼───────────────────┼────────────┼───────────────────┤\n",
       "│ multiply_16         │ (<span style=\"color: #00d7ff; text-decoration-color: #00d7ff\">None</span>, <span style=\"color: #00af00; text-decoration-color: #00af00\">96</span>, <span style=\"color: #00af00; text-decoration-color: #00af00\">1</span>)     │          <span style=\"color: #00af00; text-decoration-color: #00af00\">0</span> │ my_layer_exp_8[<span style=\"color: #00af00; text-decoration-color: #00af00\">0</span>… │\n",
       "│ (<span style=\"color: #0087ff; text-decoration-color: #0087ff\">Multiply</span>)          │                   │            │ my_layer_cast_8[<span style=\"color: #00af00; text-decoration-color: #00af00\">…</span> │\n",
       "├─────────────────────┼───────────────────┼────────────┼───────────────────┤\n",
       "│ multiply_17         │ (<span style=\"color: #00d7ff; text-decoration-color: #00d7ff\">None</span>, <span style=\"color: #00af00; text-decoration-color: #00af00\">96</span>, <span style=\"color: #00af00; text-decoration-color: #00af00\">1</span>)     │          <span style=\"color: #00af00; text-decoration-color: #00af00\">0</span> │ my_layer_exp_9[<span style=\"color: #00af00; text-decoration-color: #00af00\">0</span>… │\n",
       "│ (<span style=\"color: #0087ff; text-decoration-color: #0087ff\">Multiply</span>)          │                   │            │ my_layer_cast_9[<span style=\"color: #00af00; text-decoration-color: #00af00\">…</span> │\n",
       "├─────────────────────┼───────────────────┼────────────┼───────────────────┤\n",
       "│ my_layer_reduce_su… │ (<span style=\"color: #00d7ff; text-decoration-color: #00d7ff\">None</span>, <span style=\"color: #00af00; text-decoration-color: #00af00\">1</span>, <span style=\"color: #00af00; text-decoration-color: #00af00\">1</span>)      │          <span style=\"color: #00af00; text-decoration-color: #00af00\">0</span> │ multiply_16[<span style=\"color: #00af00; text-decoration-color: #00af00\">0</span>][<span style=\"color: #00af00; text-decoration-color: #00af00\">0</span>] │\n",
       "│ (<span style=\"color: #0087ff; text-decoration-color: #0087ff\">MyLayer_reduce_su…</span> │                   │            │                   │\n",
       "├─────────────────────┼───────────────────┼────────────┼───────────────────┤\n",
       "│ my_layer_reduce_su… │ (<span style=\"color: #00d7ff; text-decoration-color: #00d7ff\">None</span>, <span style=\"color: #00af00; text-decoration-color: #00af00\">1</span>, <span style=\"color: #00af00; text-decoration-color: #00af00\">1</span>)      │          <span style=\"color: #00af00; text-decoration-color: #00af00\">0</span> │ multiply_17[<span style=\"color: #00af00; text-decoration-color: #00af00\">0</span>][<span style=\"color: #00af00; text-decoration-color: #00af00\">0</span>] │\n",
       "│ (<span style=\"color: #0087ff; text-decoration-color: #0087ff\">MyLayer_reduce_su…</span> │                   │            │                   │\n",
       "├─────────────────────┼───────────────────┼────────────┼───────────────────┤\n",
       "│ true_divide_8       │ (<span style=\"color: #00d7ff; text-decoration-color: #00d7ff\">None</span>, <span style=\"color: #00af00; text-decoration-color: #00af00\">96</span>, <span style=\"color: #00af00; text-decoration-color: #00af00\">1</span>)     │          <span style=\"color: #00af00; text-decoration-color: #00af00\">0</span> │ multiply_16[<span style=\"color: #00af00; text-decoration-color: #00af00\">0</span>][<span style=\"color: #00af00; text-decoration-color: #00af00\">0</span>… │\n",
       "│ (<span style=\"color: #0087ff; text-decoration-color: #0087ff\">TrueDivide</span>)        │                   │            │ my_layer_reduce_… │\n",
       "├─────────────────────┼───────────────────┼────────────┼───────────────────┤\n",
       "│ true_divide_9       │ (<span style=\"color: #00d7ff; text-decoration-color: #00d7ff\">None</span>, <span style=\"color: #00af00; text-decoration-color: #00af00\">96</span>, <span style=\"color: #00af00; text-decoration-color: #00af00\">1</span>)     │          <span style=\"color: #00af00; text-decoration-color: #00af00\">0</span> │ multiply_17[<span style=\"color: #00af00; text-decoration-color: #00af00\">0</span>][<span style=\"color: #00af00; text-decoration-color: #00af00\">0</span>… │\n",
       "│ (<span style=\"color: #0087ff; text-decoration-color: #0087ff\">TrueDivide</span>)        │                   │            │ my_layer_reduce_… │\n",
       "├─────────────────────┼───────────────────┼────────────┼───────────────────┤\n",
       "│ multiply_18         │ (<span style=\"color: #00d7ff; text-decoration-color: #00d7ff\">None</span>, <span style=\"color: #00af00; text-decoration-color: #00af00\">96</span>, <span style=\"color: #00af00; text-decoration-color: #00af00\">300</span>)   │          <span style=\"color: #00af00; text-decoration-color: #00af00\">0</span> │ embedding_4[<span style=\"color: #00af00; text-decoration-color: #00af00\">0</span>][<span style=\"color: #00af00; text-decoration-color: #00af00\">0</span>… │\n",
       "│ (<span style=\"color: #0087ff; text-decoration-color: #0087ff\">Multiply</span>)          │                   │            │ true_divide_8[<span style=\"color: #00af00; text-decoration-color: #00af00\">0</span>]… │\n",
       "├─────────────────────┼───────────────────┼────────────┼───────────────────┤\n",
       "│ multiply_19         │ (<span style=\"color: #00d7ff; text-decoration-color: #00d7ff\">None</span>, <span style=\"color: #00af00; text-decoration-color: #00af00\">96</span>, <span style=\"color: #00af00; text-decoration-color: #00af00\">300</span>)   │          <span style=\"color: #00af00; text-decoration-color: #00af00\">0</span> │ embedding_4[<span style=\"color: #00af00; text-decoration-color: #00af00\">1</span>][<span style=\"color: #00af00; text-decoration-color: #00af00\">0</span>… │\n",
       "│ (<span style=\"color: #0087ff; text-decoration-color: #0087ff\">Multiply</span>)          │                   │            │ true_divide_9[<span style=\"color: #00af00; text-decoration-color: #00af00\">0</span>]… │\n",
       "├─────────────────────┼───────────────────┼────────────┼───────────────────┤\n",
       "│ my_layer_reduce_su… │ (<span style=\"color: #00d7ff; text-decoration-color: #00d7ff\">None</span>, <span style=\"color: #00af00; text-decoration-color: #00af00\">1</span>, <span style=\"color: #00af00; text-decoration-color: #00af00\">300</span>)    │          <span style=\"color: #00af00; text-decoration-color: #00af00\">0</span> │ multiply_18[<span style=\"color: #00af00; text-decoration-color: #00af00\">0</span>][<span style=\"color: #00af00; text-decoration-color: #00af00\">0</span>] │\n",
       "│ (<span style=\"color: #0087ff; text-decoration-color: #0087ff\">MyLayer_reduce_su…</span> │                   │            │                   │\n",
       "├─────────────────────┼───────────────────┼────────────┼───────────────────┤\n",
       "│ my_layer_reduce_su… │ (<span style=\"color: #00d7ff; text-decoration-color: #00d7ff\">None</span>, <span style=\"color: #00af00; text-decoration-color: #00af00\">1</span>, <span style=\"color: #00af00; text-decoration-color: #00af00\">300</span>)    │          <span style=\"color: #00af00; text-decoration-color: #00af00\">0</span> │ multiply_19[<span style=\"color: #00af00; text-decoration-color: #00af00\">0</span>][<span style=\"color: #00af00; text-decoration-color: #00af00\">0</span>] │\n",
       "│ (<span style=\"color: #0087ff; text-decoration-color: #0087ff\">MyLayer_reduce_su…</span> │                   │            │                   │\n",
       "├─────────────────────┼───────────────────┼────────────┼───────────────────┤\n",
       "│ lambda_18 (<span style=\"color: #0087ff; text-decoration-color: #0087ff\">Lambda</span>)  │ (<span style=\"color: #00d7ff; text-decoration-color: #00d7ff\">None</span>, <span style=\"color: #00af00; text-decoration-color: #00af00\">1</span>, <span style=\"color: #00af00; text-decoration-color: #00af00\">300</span>)    │          <span style=\"color: #00af00; text-decoration-color: #00af00\">0</span> │ my_layer_reduce_… │\n",
       "│                     │                   │            │ my_layer_reduce_… │\n",
       "├─────────────────────┼───────────────────┼────────────┼───────────────────┤\n",
       "│ dropout_28          │ (<span style=\"color: #00d7ff; text-decoration-color: #00d7ff\">None</span>, <span style=\"color: #00af00; text-decoration-color: #00af00\">1</span>, <span style=\"color: #00af00; text-decoration-color: #00af00\">300</span>)    │          <span style=\"color: #00af00; text-decoration-color: #00af00\">0</span> │ lambda_18[<span style=\"color: #00af00; text-decoration-color: #00af00\">0</span>][<span style=\"color: #00af00; text-decoration-color: #00af00\">0</span>]   │\n",
       "│ (<span style=\"color: #0087ff; text-decoration-color: #0087ff\">Dropout</span>)           │                   │            │                   │\n",
       "├─────────────────────┼───────────────────┼────────────┼───────────────────┤\n",
       "│ dense_33 (<span style=\"color: #0087ff; text-decoration-color: #0087ff\">Dense</span>)    │ (<span style=\"color: #00d7ff; text-decoration-color: #00d7ff\">None</span>, <span style=\"color: #00af00; text-decoration-color: #00af00\">1</span>, <span style=\"color: #00af00; text-decoration-color: #00af00\">16</span>)     │      <span style=\"color: #00af00; text-decoration-color: #00af00\">4,816</span> │ dropout_28[<span style=\"color: #00af00; text-decoration-color: #00af00\">0</span>][<span style=\"color: #00af00; text-decoration-color: #00af00\">0</span>]  │\n",
       "├─────────────────────┼───────────────────┼────────────┼───────────────────┤\n",
       "│ dropout_29          │ (<span style=\"color: #00d7ff; text-decoration-color: #00d7ff\">None</span>, <span style=\"color: #00af00; text-decoration-color: #00af00\">1</span>, <span style=\"color: #00af00; text-decoration-color: #00af00\">16</span>)     │          <span style=\"color: #00af00; text-decoration-color: #00af00\">0</span> │ dense_33[<span style=\"color: #00af00; text-decoration-color: #00af00\">0</span>][<span style=\"color: #00af00; text-decoration-color: #00af00\">0</span>]    │\n",
       "│ (<span style=\"color: #0087ff; text-decoration-color: #0087ff\">Dropout</span>)           │                   │            │                   │\n",
       "├─────────────────────┼───────────────────┼────────────┼───────────────────┤\n",
       "│ dense_34 (<span style=\"color: #0087ff; text-decoration-color: #0087ff\">Dense</span>)    │ (<span style=\"color: #00d7ff; text-decoration-color: #00d7ff\">None</span>, <span style=\"color: #00af00; text-decoration-color: #00af00\">1</span>, <span style=\"color: #00af00; text-decoration-color: #00af00\">1</span>)      │         <span style=\"color: #00af00; text-decoration-color: #00af00\">17</span> │ dropout_29[<span style=\"color: #00af00; text-decoration-color: #00af00\">0</span>][<span style=\"color: #00af00; text-decoration-color: #00af00\">0</span>]  │\n",
       "├─────────────────────┼───────────────────┼────────────┼───────────────────┤\n",
       "│ lambda_19 (<span style=\"color: #0087ff; text-decoration-color: #0087ff\">Lambda</span>)  │ (<span style=\"color: #00d7ff; text-decoration-color: #00d7ff\">None</span>, <span style=\"color: #00af00; text-decoration-color: #00af00\">1</span>, <span style=\"color: #00af00; text-decoration-color: #00af00\">1</span>)      │          <span style=\"color: #00af00; text-decoration-color: #00af00\">0</span> │ dense_34[<span style=\"color: #00af00; text-decoration-color: #00af00\">0</span>][<span style=\"color: #00af00; text-decoration-color: #00af00\">0</span>]    │\n",
       "└─────────────────────┴───────────────────┴────────────┴───────────────────┘\n",
       "</pre>\n"
      ],
      "text/plain": [
       "┏━━━━━━━━━━━━━━━━━━━━━┳━━━━━━━━━━━━━━━━━━━┳━━━━━━━━━━━━┳━━━━━━━━━━━━━━━━━━━┓\n",
       "┃\u001b[1m \u001b[0m\u001b[1mLayer (type)       \u001b[0m\u001b[1m \u001b[0m┃\u001b[1m \u001b[0m\u001b[1mOutput Shape     \u001b[0m\u001b[1m \u001b[0m┃\u001b[1m \u001b[0m\u001b[1m   Param #\u001b[0m\u001b[1m \u001b[0m┃\u001b[1m \u001b[0m\u001b[1mConnected to     \u001b[0m\u001b[1m \u001b[0m┃\n",
       "┡━━━━━━━━━━━━━━━━━━━━━╇━━━━━━━━━━━━━━━━━━━╇━━━━━━━━━━━━╇━━━━━━━━━━━━━━━━━━━┩\n",
       "│ input_layer_22      │ (\u001b[38;5;45mNone\u001b[0m, \u001b[38;5;34m96\u001b[0m)        │          \u001b[38;5;34m0\u001b[0m │ -                 │\n",
       "│ (\u001b[38;5;33mInputLayer\u001b[0m)        │                   │            │                   │\n",
       "├─────────────────────┼───────────────────┼────────────┼───────────────────┤\n",
       "│ input_layer_23      │ (\u001b[38;5;45mNone\u001b[0m, \u001b[38;5;34m96\u001b[0m)        │          \u001b[38;5;34m0\u001b[0m │ -                 │\n",
       "│ (\u001b[38;5;33mInputLayer\u001b[0m)        │                   │            │                   │\n",
       "├─────────────────────┼───────────────────┼────────────┼───────────────────┤\n",
       "│ embedding_4         │ (\u001b[38;5;45mNone\u001b[0m, \u001b[38;5;34m96\u001b[0m, \u001b[38;5;34m300\u001b[0m)   │  \u001b[38;5;34m3,878,100\u001b[0m │ input_layer_22[\u001b[38;5;34m0\u001b[0m… │\n",
       "│ (\u001b[38;5;33mEmbedding\u001b[0m)         │                   │            │ input_layer_23[\u001b[38;5;34m0\u001b[0m… │\n",
       "├─────────────────────┼───────────────────┼────────────┼───────────────────┤\n",
       "│ not_equal_8         │ (\u001b[38;5;45mNone\u001b[0m, \u001b[38;5;34m96\u001b[0m)        │          \u001b[38;5;34m0\u001b[0m │ input_layer_22[\u001b[38;5;34m0\u001b[0m… │\n",
       "│ (\u001b[38;5;33mNotEqual\u001b[0m)          │                   │            │                   │\n",
       "├─────────────────────┼───────────────────┼────────────┼───────────────────┤\n",
       "│ my_layer_mask_8     │ (\u001b[38;5;45mNone\u001b[0m, \u001b[38;5;34m96\u001b[0m)        │          \u001b[38;5;34m0\u001b[0m │ input_layer_22[\u001b[38;5;34m0\u001b[0m… │\n",
       "│ (\u001b[38;5;33mMyLayer_mask\u001b[0m)      │                   │            │                   │\n",
       "├─────────────────────┼───────────────────┼────────────┼───────────────────┤\n",
       "│ not_equal_9         │ (\u001b[38;5;45mNone\u001b[0m, \u001b[38;5;34m96\u001b[0m)        │          \u001b[38;5;34m0\u001b[0m │ input_layer_23[\u001b[38;5;34m0\u001b[0m… │\n",
       "│ (\u001b[38;5;33mNotEqual\u001b[0m)          │                   │            │                   │\n",
       "├─────────────────────┼───────────────────┼────────────┼───────────────────┤\n",
       "│ my_layer_mask_9     │ (\u001b[38;5;45mNone\u001b[0m, \u001b[38;5;34m96\u001b[0m)        │          \u001b[38;5;34m0\u001b[0m │ input_layer_23[\u001b[38;5;34m0\u001b[0m… │\n",
       "│ (\u001b[38;5;33mMyLayer_mask\u001b[0m)      │                   │            │                   │\n",
       "├─────────────────────┼───────────────────┼────────────┼───────────────────┤\n",
       "│ sequential_4        │ (\u001b[38;5;45mNone\u001b[0m, \u001b[38;5;34m96\u001b[0m, \u001b[38;5;34m1\u001b[0m)     │      \u001b[38;5;34m4,833\u001b[0m │ embedding_4[\u001b[38;5;34m0\u001b[0m][\u001b[38;5;34m0\u001b[0m… │\n",
       "│ (\u001b[38;5;33mSequential\u001b[0m)        │                   │            │ not_equal_8[\u001b[38;5;34m0\u001b[0m][\u001b[38;5;34m0\u001b[0m… │\n",
       "│                     │                   │            │ embedding_4[\u001b[38;5;34m1\u001b[0m][\u001b[38;5;34m0\u001b[0m… │\n",
       "│                     │                   │            │ not_equal_9[\u001b[38;5;34m0\u001b[0m][\u001b[38;5;34m0\u001b[0m] │\n",
       "├─────────────────────┼───────────────────┼────────────┼───────────────────┤\n",
       "│ get_item_8          │ (\u001b[38;5;45mNone\u001b[0m, \u001b[38;5;34m96\u001b[0m, \u001b[38;5;34m1\u001b[0m)     │          \u001b[38;5;34m0\u001b[0m │ my_layer_mask_8[\u001b[38;5;34m…\u001b[0m │\n",
       "│ (\u001b[38;5;33mGetItem\u001b[0m)           │                   │            │                   │\n",
       "├─────────────────────┼───────────────────┼────────────┼───────────────────┤\n",
       "│ get_item_9          │ (\u001b[38;5;45mNone\u001b[0m, \u001b[38;5;34m96\u001b[0m, \u001b[38;5;34m1\u001b[0m)     │          \u001b[38;5;34m0\u001b[0m │ my_layer_mask_9[\u001b[38;5;34m…\u001b[0m │\n",
       "│ (\u001b[38;5;33mGetItem\u001b[0m)           │                   │            │                   │\n",
       "├─────────────────────┼───────────────────┼────────────┼───────────────────┤\n",
       "│ my_layer_exp_8      │ (\u001b[38;5;45mNone\u001b[0m, \u001b[38;5;34m96\u001b[0m, \u001b[38;5;34m1\u001b[0m)     │          \u001b[38;5;34m0\u001b[0m │ sequential_4[\u001b[38;5;34m0\u001b[0m][\u001b[38;5;34m…\u001b[0m │\n",
       "│ (\u001b[38;5;33mMyLayer_exp\u001b[0m)       │                   │            │                   │\n",
       "├─────────────────────┼───────────────────┼────────────┼───────────────────┤\n",
       "│ my_layer_cast_8     │ (\u001b[38;5;45mNone\u001b[0m, \u001b[38;5;34m96\u001b[0m, \u001b[38;5;34m1\u001b[0m)     │          \u001b[38;5;34m0\u001b[0m │ get_item_8[\u001b[38;5;34m0\u001b[0m][\u001b[38;5;34m0\u001b[0m]  │\n",
       "│ (\u001b[38;5;33mMyLayer_cast\u001b[0m)      │                   │            │                   │\n",
       "├─────────────────────┼───────────────────┼────────────┼───────────────────┤\n",
       "│ my_layer_exp_9      │ (\u001b[38;5;45mNone\u001b[0m, \u001b[38;5;34m96\u001b[0m, \u001b[38;5;34m1\u001b[0m)     │          \u001b[38;5;34m0\u001b[0m │ sequential_4[\u001b[38;5;34m1\u001b[0m][\u001b[38;5;34m…\u001b[0m │\n",
       "│ (\u001b[38;5;33mMyLayer_exp\u001b[0m)       │                   │            │                   │\n",
       "├─────────────────────┼───────────────────┼────────────┼───────────────────┤\n",
       "│ my_layer_cast_9     │ (\u001b[38;5;45mNone\u001b[0m, \u001b[38;5;34m96\u001b[0m, \u001b[38;5;34m1\u001b[0m)     │          \u001b[38;5;34m0\u001b[0m │ get_item_9[\u001b[38;5;34m0\u001b[0m][\u001b[38;5;34m0\u001b[0m]  │\n",
       "│ (\u001b[38;5;33mMyLayer_cast\u001b[0m)      │                   │            │                   │\n",
       "├─────────────────────┼───────────────────┼────────────┼───────────────────┤\n",
       "│ multiply_16         │ (\u001b[38;5;45mNone\u001b[0m, \u001b[38;5;34m96\u001b[0m, \u001b[38;5;34m1\u001b[0m)     │          \u001b[38;5;34m0\u001b[0m │ my_layer_exp_8[\u001b[38;5;34m0\u001b[0m… │\n",
       "│ (\u001b[38;5;33mMultiply\u001b[0m)          │                   │            │ my_layer_cast_8[\u001b[38;5;34m…\u001b[0m │\n",
       "├─────────────────────┼───────────────────┼────────────┼───────────────────┤\n",
       "│ multiply_17         │ (\u001b[38;5;45mNone\u001b[0m, \u001b[38;5;34m96\u001b[0m, \u001b[38;5;34m1\u001b[0m)     │          \u001b[38;5;34m0\u001b[0m │ my_layer_exp_9[\u001b[38;5;34m0\u001b[0m… │\n",
       "│ (\u001b[38;5;33mMultiply\u001b[0m)          │                   │            │ my_layer_cast_9[\u001b[38;5;34m…\u001b[0m │\n",
       "├─────────────────────┼───────────────────┼────────────┼───────────────────┤\n",
       "│ my_layer_reduce_su… │ (\u001b[38;5;45mNone\u001b[0m, \u001b[38;5;34m1\u001b[0m, \u001b[38;5;34m1\u001b[0m)      │          \u001b[38;5;34m0\u001b[0m │ multiply_16[\u001b[38;5;34m0\u001b[0m][\u001b[38;5;34m0\u001b[0m] │\n",
       "│ (\u001b[38;5;33mMyLayer_reduce_su…\u001b[0m │                   │            │                   │\n",
       "├─────────────────────┼───────────────────┼────────────┼───────────────────┤\n",
       "│ my_layer_reduce_su… │ (\u001b[38;5;45mNone\u001b[0m, \u001b[38;5;34m1\u001b[0m, \u001b[38;5;34m1\u001b[0m)      │          \u001b[38;5;34m0\u001b[0m │ multiply_17[\u001b[38;5;34m0\u001b[0m][\u001b[38;5;34m0\u001b[0m] │\n",
       "│ (\u001b[38;5;33mMyLayer_reduce_su…\u001b[0m │                   │            │                   │\n",
       "├─────────────────────┼───────────────────┼────────────┼───────────────────┤\n",
       "│ true_divide_8       │ (\u001b[38;5;45mNone\u001b[0m, \u001b[38;5;34m96\u001b[0m, \u001b[38;5;34m1\u001b[0m)     │          \u001b[38;5;34m0\u001b[0m │ multiply_16[\u001b[38;5;34m0\u001b[0m][\u001b[38;5;34m0\u001b[0m… │\n",
       "│ (\u001b[38;5;33mTrueDivide\u001b[0m)        │                   │            │ my_layer_reduce_… │\n",
       "├─────────────────────┼───────────────────┼────────────┼───────────────────┤\n",
       "│ true_divide_9       │ (\u001b[38;5;45mNone\u001b[0m, \u001b[38;5;34m96\u001b[0m, \u001b[38;5;34m1\u001b[0m)     │          \u001b[38;5;34m0\u001b[0m │ multiply_17[\u001b[38;5;34m0\u001b[0m][\u001b[38;5;34m0\u001b[0m… │\n",
       "│ (\u001b[38;5;33mTrueDivide\u001b[0m)        │                   │            │ my_layer_reduce_… │\n",
       "├─────────────────────┼───────────────────┼────────────┼───────────────────┤\n",
       "│ multiply_18         │ (\u001b[38;5;45mNone\u001b[0m, \u001b[38;5;34m96\u001b[0m, \u001b[38;5;34m300\u001b[0m)   │          \u001b[38;5;34m0\u001b[0m │ embedding_4[\u001b[38;5;34m0\u001b[0m][\u001b[38;5;34m0\u001b[0m… │\n",
       "│ (\u001b[38;5;33mMultiply\u001b[0m)          │                   │            │ true_divide_8[\u001b[38;5;34m0\u001b[0m]… │\n",
       "├─────────────────────┼───────────────────┼────────────┼───────────────────┤\n",
       "│ multiply_19         │ (\u001b[38;5;45mNone\u001b[0m, \u001b[38;5;34m96\u001b[0m, \u001b[38;5;34m300\u001b[0m)   │          \u001b[38;5;34m0\u001b[0m │ embedding_4[\u001b[38;5;34m1\u001b[0m][\u001b[38;5;34m0\u001b[0m… │\n",
       "│ (\u001b[38;5;33mMultiply\u001b[0m)          │                   │            │ true_divide_9[\u001b[38;5;34m0\u001b[0m]… │\n",
       "├─────────────────────┼───────────────────┼────────────┼───────────────────┤\n",
       "│ my_layer_reduce_su… │ (\u001b[38;5;45mNone\u001b[0m, \u001b[38;5;34m1\u001b[0m, \u001b[38;5;34m300\u001b[0m)    │          \u001b[38;5;34m0\u001b[0m │ multiply_18[\u001b[38;5;34m0\u001b[0m][\u001b[38;5;34m0\u001b[0m] │\n",
       "│ (\u001b[38;5;33mMyLayer_reduce_su…\u001b[0m │                   │            │                   │\n",
       "├─────────────────────┼───────────────────┼────────────┼───────────────────┤\n",
       "│ my_layer_reduce_su… │ (\u001b[38;5;45mNone\u001b[0m, \u001b[38;5;34m1\u001b[0m, \u001b[38;5;34m300\u001b[0m)    │          \u001b[38;5;34m0\u001b[0m │ multiply_19[\u001b[38;5;34m0\u001b[0m][\u001b[38;5;34m0\u001b[0m] │\n",
       "│ (\u001b[38;5;33mMyLayer_reduce_su…\u001b[0m │                   │            │                   │\n",
       "├─────────────────────┼───────────────────┼────────────┼───────────────────┤\n",
       "│ lambda_18 (\u001b[38;5;33mLambda\u001b[0m)  │ (\u001b[38;5;45mNone\u001b[0m, \u001b[38;5;34m1\u001b[0m, \u001b[38;5;34m300\u001b[0m)    │          \u001b[38;5;34m0\u001b[0m │ my_layer_reduce_… │\n",
       "│                     │                   │            │ my_layer_reduce_… │\n",
       "├─────────────────────┼───────────────────┼────────────┼───────────────────┤\n",
       "│ dropout_28          │ (\u001b[38;5;45mNone\u001b[0m, \u001b[38;5;34m1\u001b[0m, \u001b[38;5;34m300\u001b[0m)    │          \u001b[38;5;34m0\u001b[0m │ lambda_18[\u001b[38;5;34m0\u001b[0m][\u001b[38;5;34m0\u001b[0m]   │\n",
       "│ (\u001b[38;5;33mDropout\u001b[0m)           │                   │            │                   │\n",
       "├─────────────────────┼───────────────────┼────────────┼───────────────────┤\n",
       "│ dense_33 (\u001b[38;5;33mDense\u001b[0m)    │ (\u001b[38;5;45mNone\u001b[0m, \u001b[38;5;34m1\u001b[0m, \u001b[38;5;34m16\u001b[0m)     │      \u001b[38;5;34m4,816\u001b[0m │ dropout_28[\u001b[38;5;34m0\u001b[0m][\u001b[38;5;34m0\u001b[0m]  │\n",
       "├─────────────────────┼───────────────────┼────────────┼───────────────────┤\n",
       "│ dropout_29          │ (\u001b[38;5;45mNone\u001b[0m, \u001b[38;5;34m1\u001b[0m, \u001b[38;5;34m16\u001b[0m)     │          \u001b[38;5;34m0\u001b[0m │ dense_33[\u001b[38;5;34m0\u001b[0m][\u001b[38;5;34m0\u001b[0m]    │\n",
       "│ (\u001b[38;5;33mDropout\u001b[0m)           │                   │            │                   │\n",
       "├─────────────────────┼───────────────────┼────────────┼───────────────────┤\n",
       "│ dense_34 (\u001b[38;5;33mDense\u001b[0m)    │ (\u001b[38;5;45mNone\u001b[0m, \u001b[38;5;34m1\u001b[0m, \u001b[38;5;34m1\u001b[0m)      │         \u001b[38;5;34m17\u001b[0m │ dropout_29[\u001b[38;5;34m0\u001b[0m][\u001b[38;5;34m0\u001b[0m]  │\n",
       "├─────────────────────┼───────────────────┼────────────┼───────────────────┤\n",
       "│ lambda_19 (\u001b[38;5;33mLambda\u001b[0m)  │ (\u001b[38;5;45mNone\u001b[0m, \u001b[38;5;34m1\u001b[0m, \u001b[38;5;34m1\u001b[0m)      │          \u001b[38;5;34m0\u001b[0m │ dense_34[\u001b[38;5;34m0\u001b[0m][\u001b[38;5;34m0\u001b[0m]    │\n",
       "└─────────────────────┴───────────────────┴────────────┴───────────────────┘\n"
      ]
     },
     "metadata": {},
     "output_type": "display_data"
    },
    {
     "data": {
      "text/html": [
       "<pre style=\"white-space:pre;overflow-x:auto;line-height:normal;font-family:Menlo,'DejaVu Sans Mono',consolas,'Courier New',monospace\"><span style=\"font-weight: bold\"> Total params: </span><span style=\"color: #00af00; text-decoration-color: #00af00\">3,887,766</span> (14.83 MB)\n",
       "</pre>\n"
      ],
      "text/plain": [
       "\u001b[1m Total params: \u001b[0m\u001b[38;5;34m3,887,766\u001b[0m (14.83 MB)\n"
      ]
     },
     "metadata": {},
     "output_type": "display_data"
    },
    {
     "data": {
      "text/html": [
       "<pre style=\"white-space:pre;overflow-x:auto;line-height:normal;font-family:Menlo,'DejaVu Sans Mono',consolas,'Courier New',monospace\"><span style=\"font-weight: bold\"> Trainable params: </span><span style=\"color: #00af00; text-decoration-color: #00af00\">3,887,766</span> (14.83 MB)\n",
       "</pre>\n"
      ],
      "text/plain": [
       "\u001b[1m Trainable params: \u001b[0m\u001b[38;5;34m3,887,766\u001b[0m (14.83 MB)\n"
      ]
     },
     "metadata": {},
     "output_type": "display_data"
    },
    {
     "data": {
      "text/html": [
       "<pre style=\"white-space:pre;overflow-x:auto;line-height:normal;font-family:Menlo,'DejaVu Sans Mono',consolas,'Courier New',monospace\"><span style=\"font-weight: bold\"> Non-trainable params: </span><span style=\"color: #00af00; text-decoration-color: #00af00\">0</span> (0.00 B)\n",
       "</pre>\n"
      ],
      "text/plain": [
       "\u001b[1m Non-trainable params: \u001b[0m\u001b[38;5;34m0\u001b[0m (0.00 B)\n"
      ]
     },
     "metadata": {},
     "output_type": "display_data"
    }
   ],
   "source": [
    "model2 = model_2(MAX_LEN,pretrained_weights=_pretrained_weights, trainable=True, use_cosine=False)\n",
    "model2.summary()"
   ]
  },
  {
   "cell_type": "markdown",
   "metadata": {},
   "source": [
    "Entrenem el model."
   ]
  },
  {
   "cell_type": "code",
   "execution_count": 86,
   "metadata": {},
   "outputs": [
    {
     "name": "stdout",
     "output_type": "stream",
     "text": [
      "Epoch 1/128\n"
     ]
    },
    {
     "name": "stderr",
     "output_type": "stream",
     "text": [
      "c:\\Users\\ralva\\Desktop\\University\\4t-Cuatrimestre-GIA\\PLH\\PLH-WordEmbeddings\\WordEmbeddings\\Lib\\site-packages\\keras\\src\\layers\\layer.py:877: UserWarning: Layer 'my_layer_exp_9' (of type MyLayer_exp) was passed an input with a mask attached to it. However, this layer does not support masking and will therefore destroy the mask information. Downstream layers will not see the mask.\n",
      "  warnings.warn(\n",
      "c:\\Users\\ralva\\Desktop\\University\\4t-Cuatrimestre-GIA\\PLH\\PLH-WordEmbeddings\\WordEmbeddings\\Lib\\site-packages\\keras\\src\\layers\\layer.py:877: UserWarning: Layer 'my_layer_exp_8' (of type MyLayer_exp) was passed an input with a mask attached to it. However, this layer does not support masking and will therefore destroy the mask information. Downstream layers will not see the mask.\n",
      "  warnings.warn(\n"
     ]
    },
    {
     "name": "stdout",
     "output_type": "stream",
     "text": [
      "\u001b[1m32/32\u001b[0m \u001b[32m━━━━━━━━━━━━━━━━━━━━\u001b[0m\u001b[37m\u001b[0m \u001b[1m4s\u001b[0m 62ms/step - loss: 1.7894 - val_loss: 0.8349\n",
      "Epoch 2/128\n",
      "\u001b[1m32/32\u001b[0m \u001b[32m━━━━━━━━━━━━━━━━━━━━\u001b[0m\u001b[37m\u001b[0m \u001b[1m2s\u001b[0m 62ms/step - loss: 0.8066 - val_loss: 0.7793\n",
      "Epoch 3/128\n",
      "\u001b[1m32/32\u001b[0m \u001b[32m━━━━━━━━━━━━━━━━━━━━\u001b[0m\u001b[37m\u001b[0m \u001b[1m2s\u001b[0m 60ms/step - loss: 0.7561 - val_loss: 0.7663\n",
      "Epoch 4/128\n",
      "\u001b[1m32/32\u001b[0m \u001b[32m━━━━━━━━━━━━━━━━━━━━\u001b[0m\u001b[37m\u001b[0m \u001b[1m2s\u001b[0m 56ms/step - loss: 0.7502 - val_loss: 0.7671\n",
      "Epoch 5/128\n",
      "\u001b[1m32/32\u001b[0m \u001b[32m━━━━━━━━━━━━━━━━━━━━\u001b[0m\u001b[37m\u001b[0m \u001b[1m2s\u001b[0m 60ms/step - loss: 0.7373 - val_loss: 0.7588\n",
      "Epoch 6/128\n",
      "\u001b[1m32/32\u001b[0m \u001b[32m━━━━━━━━━━━━━━━━━━━━\u001b[0m\u001b[37m\u001b[0m \u001b[1m2s\u001b[0m 56ms/step - loss: 0.7395 - val_loss: 0.7575\n",
      "Epoch 7/128\n",
      "\u001b[1m32/32\u001b[0m \u001b[32m━━━━━━━━━━━━━━━━━━━━\u001b[0m\u001b[37m\u001b[0m \u001b[1m2s\u001b[0m 57ms/step - loss: 0.7325 - val_loss: 0.7578\n",
      "Epoch 8/128\n",
      "\u001b[1m32/32\u001b[0m \u001b[32m━━━━━━━━━━━━━━━━━━━━\u001b[0m\u001b[37m\u001b[0m \u001b[1m2s\u001b[0m 57ms/step - loss: 0.7333 - val_loss: 0.7552\n",
      "Epoch 9/128\n",
      "\u001b[1m32/32\u001b[0m \u001b[32m━━━━━━━━━━━━━━━━━━━━\u001b[0m\u001b[37m\u001b[0m \u001b[1m2s\u001b[0m 56ms/step - loss: 0.7324 - val_loss: 0.7543\n",
      "Epoch 10/128\n",
      "\u001b[1m32/32\u001b[0m \u001b[32m━━━━━━━━━━━━━━━━━━━━\u001b[0m\u001b[37m\u001b[0m \u001b[1m2s\u001b[0m 58ms/step - loss: 0.7279 - val_loss: 0.7535\n",
      "Epoch 11/128\n",
      "\u001b[1m32/32\u001b[0m \u001b[32m━━━━━━━━━━━━━━━━━━━━\u001b[0m\u001b[37m\u001b[0m \u001b[1m2s\u001b[0m 57ms/step - loss: 0.7293 - val_loss: 0.7520\n",
      "Epoch 12/128\n",
      "\u001b[1m32/32\u001b[0m \u001b[32m━━━━━━━━━━━━━━━━━━━━\u001b[0m\u001b[37m\u001b[0m \u001b[1m2s\u001b[0m 61ms/step - loss: 0.7310 - val_loss: 0.7521\n",
      "Epoch 13/128\n",
      "\u001b[1m32/32\u001b[0m \u001b[32m━━━━━━━━━━━━━━━━━━━━\u001b[0m\u001b[37m\u001b[0m \u001b[1m2s\u001b[0m 65ms/step - loss: 0.7293 - val_loss: 0.7524\n",
      "Epoch 14/128\n",
      "\u001b[1m32/32\u001b[0m \u001b[32m━━━━━━━━━━━━━━━━━━━━\u001b[0m\u001b[37m\u001b[0m \u001b[1m2s\u001b[0m 65ms/step - loss: 0.7274 - val_loss: 0.7525\n",
      "Epoch 15/128\n",
      "\u001b[1m32/32\u001b[0m \u001b[32m━━━━━━━━━━━━━━━━━━━━\u001b[0m\u001b[37m\u001b[0m \u001b[1m2s\u001b[0m 62ms/step - loss: 0.7279 - val_loss: 0.7522\n",
      "Epoch 16/128\n",
      "\u001b[1m32/32\u001b[0m \u001b[32m━━━━━━━━━━━━━━━━━━━━\u001b[0m\u001b[37m\u001b[0m \u001b[1m2s\u001b[0m 61ms/step - loss: 0.7286 - val_loss: 0.7509\n",
      "Epoch 17/128\n",
      "\u001b[1m32/32\u001b[0m \u001b[32m━━━━━━━━━━━━━━━━━━━━\u001b[0m\u001b[37m\u001b[0m \u001b[1m2s\u001b[0m 64ms/step - loss: 0.7291 - val_loss: 0.7508\n",
      "Epoch 18/128\n",
      "\u001b[1m32/32\u001b[0m \u001b[32m━━━━━━━━━━━━━━━━━━━━\u001b[0m\u001b[37m\u001b[0m \u001b[1m2s\u001b[0m 61ms/step - loss: 0.7285 - val_loss: 0.7519\n",
      "Epoch 19/128\n",
      "\u001b[1m32/32\u001b[0m \u001b[32m━━━━━━━━━━━━━━━━━━━━\u001b[0m\u001b[37m\u001b[0m \u001b[1m2s\u001b[0m 57ms/step - loss: 0.7279 - val_loss: 0.7518\n",
      "Epoch 20/128\n",
      "\u001b[1m32/32\u001b[0m \u001b[32m━━━━━━━━━━━━━━━━━━━━\u001b[0m\u001b[37m\u001b[0m \u001b[1m2s\u001b[0m 62ms/step - loss: 0.7278 - val_loss: 0.7508\n",
      "Epoch 21/128\n",
      "\u001b[1m32/32\u001b[0m \u001b[32m━━━━━━━━━━━━━━━━━━━━\u001b[0m\u001b[37m\u001b[0m \u001b[1m2s\u001b[0m 57ms/step - loss: 0.7286 - val_loss: 0.7505\n",
      "Epoch 22/128\n",
      "\u001b[1m32/32\u001b[0m \u001b[32m━━━━━━━━━━━━━━━━━━━━\u001b[0m\u001b[37m\u001b[0m \u001b[1m2s\u001b[0m 61ms/step - loss: 0.7271 - val_loss: 0.7504\n",
      "Epoch 23/128\n",
      "\u001b[1m32/32\u001b[0m \u001b[32m━━━━━━━━━━━━━━━━━━━━\u001b[0m\u001b[37m\u001b[0m \u001b[1m2s\u001b[0m 60ms/step - loss: 0.7261 - val_loss: 0.7496\n",
      "Epoch 24/128\n",
      "\u001b[1m32/32\u001b[0m \u001b[32m━━━━━━━━━━━━━━━━━━━━\u001b[0m\u001b[37m\u001b[0m \u001b[1m2s\u001b[0m 60ms/step - loss: 0.7286 - val_loss: 0.7494\n",
      "Epoch 25/128\n",
      "\u001b[1m32/32\u001b[0m \u001b[32m━━━━━━━━━━━━━━━━━━━━\u001b[0m\u001b[37m\u001b[0m \u001b[1m2s\u001b[0m 60ms/step - loss: 0.7276 - val_loss: 0.7488\n",
      "Epoch 26/128\n",
      "\u001b[1m32/32\u001b[0m \u001b[32m━━━━━━━━━━━━━━━━━━━━\u001b[0m\u001b[37m\u001b[0m \u001b[1m2s\u001b[0m 56ms/step - loss: 0.7266 - val_loss: 0.7494\n",
      "Epoch 27/128\n",
      "\u001b[1m32/32\u001b[0m \u001b[32m━━━━━━━━━━━━━━━━━━━━\u001b[0m\u001b[37m\u001b[0m \u001b[1m2s\u001b[0m 60ms/step - loss: 0.7281 - val_loss: 0.7499\n",
      "Epoch 28/128\n",
      "\u001b[1m32/32\u001b[0m \u001b[32m━━━━━━━━━━━━━━━━━━━━\u001b[0m\u001b[37m\u001b[0m \u001b[1m2s\u001b[0m 60ms/step - loss: 0.7271 - val_loss: 0.7483\n",
      "Epoch 29/128\n",
      "\u001b[1m32/32\u001b[0m \u001b[32m━━━━━━━━━━━━━━━━━━━━\u001b[0m\u001b[37m\u001b[0m \u001b[1m2s\u001b[0m 61ms/step - loss: 0.7257 - val_loss: 0.7482\n",
      "Epoch 30/128\n",
      "\u001b[1m32/32\u001b[0m \u001b[32m━━━━━━━━━━━━━━━━━━━━\u001b[0m\u001b[37m\u001b[0m \u001b[1m2s\u001b[0m 62ms/step - loss: 0.7270 - val_loss: 0.7482\n",
      "Epoch 31/128\n",
      "\u001b[1m32/32\u001b[0m \u001b[32m━━━━━━━━━━━━━━━━━━━━\u001b[0m\u001b[37m\u001b[0m \u001b[1m2s\u001b[0m 59ms/step - loss: 0.7271 - val_loss: 0.7482\n",
      "Epoch 32/128\n",
      "\u001b[1m32/32\u001b[0m \u001b[32m━━━━━━━━━━━━━━━━━━━━\u001b[0m\u001b[37m\u001b[0m \u001b[1m2s\u001b[0m 58ms/step - loss: 0.7273 - val_loss: 0.7483\n",
      "Epoch 33/128\n",
      "\u001b[1m32/32\u001b[0m \u001b[32m━━━━━━━━━━━━━━━━━━━━\u001b[0m\u001b[37m\u001b[0m \u001b[1m2s\u001b[0m 57ms/step - loss: 0.7270 - val_loss: 0.7484\n",
      "Epoch 34/128\n",
      "\u001b[1m32/32\u001b[0m \u001b[32m━━━━━━━━━━━━━━━━━━━━\u001b[0m\u001b[37m\u001b[0m \u001b[1m2s\u001b[0m 60ms/step - loss: 0.7274 - val_loss: 0.7490\n",
      "Epoch 35/128\n",
      "\u001b[1m32/32\u001b[0m \u001b[32m━━━━━━━━━━━━━━━━━━━━\u001b[0m\u001b[37m\u001b[0m \u001b[1m2s\u001b[0m 60ms/step - loss: 0.7263 - val_loss: 0.7489\n",
      "Epoch 36/128\n",
      "\u001b[1m32/32\u001b[0m \u001b[32m━━━━━━━━━━━━━━━━━━━━\u001b[0m\u001b[37m\u001b[0m \u001b[1m2s\u001b[0m 59ms/step - loss: 0.7270 - val_loss: 0.7489\n",
      "Epoch 37/128\n",
      "\u001b[1m32/32\u001b[0m \u001b[32m━━━━━━━━━━━━━━━━━━━━\u001b[0m\u001b[37m\u001b[0m \u001b[1m2s\u001b[0m 59ms/step - loss: 0.7257 - val_loss: 0.7490\n",
      "Epoch 38/128\n",
      "\u001b[1m32/32\u001b[0m \u001b[32m━━━━━━━━━━━━━━━━━━━━\u001b[0m\u001b[37m\u001b[0m \u001b[1m2s\u001b[0m 63ms/step - loss: 0.7270 - val_loss: 0.7489\n",
      "Epoch 39/128\n",
      "\u001b[1m32/32\u001b[0m \u001b[32m━━━━━━━━━━━━━━━━━━━━\u001b[0m\u001b[37m\u001b[0m \u001b[1m2s\u001b[0m 59ms/step - loss: 0.7262 - val_loss: 0.7489\n",
      "Epoch 40/128\n",
      "\u001b[1m32/32\u001b[0m \u001b[32m━━━━━━━━━━━━━━━━━━━━\u001b[0m\u001b[37m\u001b[0m \u001b[1m2s\u001b[0m 59ms/step - loss: 0.7257 - val_loss: 0.7491\n",
      "Epoch 41/128\n",
      "\u001b[1m32/32\u001b[0m \u001b[32m━━━━━━━━━━━━━━━━━━━━\u001b[0m\u001b[37m\u001b[0m \u001b[1m2s\u001b[0m 57ms/step - loss: 0.7264 - val_loss: 0.7484\n",
      "Epoch 42/128\n",
      "\u001b[1m32/32\u001b[0m \u001b[32m━━━━━━━━━━━━━━━━━━━━\u001b[0m\u001b[37m\u001b[0m \u001b[1m2s\u001b[0m 57ms/step - loss: 0.7259 - val_loss: 0.7484\n",
      "Epoch 43/128\n",
      "\u001b[1m32/32\u001b[0m \u001b[32m━━━━━━━━━━━━━━━━━━━━\u001b[0m\u001b[37m\u001b[0m \u001b[1m2s\u001b[0m 59ms/step - loss: 0.7262 - val_loss: 0.7482\n",
      "Epoch 44/128\n",
      "\u001b[1m32/32\u001b[0m \u001b[32m━━━━━━━━━━━━━━━━━━━━\u001b[0m\u001b[37m\u001b[0m \u001b[1m2s\u001b[0m 57ms/step - loss: 0.7258 - val_loss: 0.7482\n",
      "Epoch 45/128\n",
      "\u001b[1m32/32\u001b[0m \u001b[32m━━━━━━━━━━━━━━━━━━━━\u001b[0m\u001b[37m\u001b[0m \u001b[1m2s\u001b[0m 56ms/step - loss: 0.7261 - val_loss: 0.7482\n",
      "Epoch 46/128\n",
      "\u001b[1m32/32\u001b[0m \u001b[32m━━━━━━━━━━━━━━━━━━━━\u001b[0m\u001b[37m\u001b[0m \u001b[1m2s\u001b[0m 60ms/step - loss: 0.7264 - val_loss: 0.7484\n",
      "Epoch 47/128\n",
      "\u001b[1m32/32\u001b[0m \u001b[32m━━━━━━━━━━━━━━━━━━━━\u001b[0m\u001b[37m\u001b[0m \u001b[1m2s\u001b[0m 59ms/step - loss: 0.7259 - val_loss: 0.7484\n",
      "Epoch 48/128\n",
      "\u001b[1m32/32\u001b[0m \u001b[32m━━━━━━━━━━━━━━━━━━━━\u001b[0m\u001b[37m\u001b[0m \u001b[1m2s\u001b[0m 58ms/step - loss: 0.7266 - val_loss: 0.7485\n",
      "Epoch 49/128\n",
      "\u001b[1m32/32\u001b[0m \u001b[32m━━━━━━━━━━━━━━━━━━━━\u001b[0m\u001b[37m\u001b[0m \u001b[1m2s\u001b[0m 57ms/step - loss: 0.7267 - val_loss: 0.7482\n",
      "Epoch 50/128\n",
      "\u001b[1m32/32\u001b[0m \u001b[32m━━━━━━━━━━━━━━━━━━━━\u001b[0m\u001b[37m\u001b[0m \u001b[1m2s\u001b[0m 61ms/step - loss: 0.7258 - val_loss: 0.7481\n",
      "Epoch 51/128\n",
      "\u001b[1m32/32\u001b[0m \u001b[32m━━━━━━━━━━━━━━━━━━━━\u001b[0m\u001b[37m\u001b[0m \u001b[1m2s\u001b[0m 59ms/step - loss: 0.7258 - val_loss: 0.7482\n",
      "Epoch 52/128\n",
      "\u001b[1m32/32\u001b[0m \u001b[32m━━━━━━━━━━━━━━━━━━━━\u001b[0m\u001b[37m\u001b[0m \u001b[1m2s\u001b[0m 61ms/step - loss: 0.7271 - val_loss: 0.7508\n",
      "Epoch 53/128\n",
      "\u001b[1m32/32\u001b[0m \u001b[32m━━━━━━━━━━━━━━━━━━━━\u001b[0m\u001b[37m\u001b[0m \u001b[1m2s\u001b[0m 59ms/step - loss: 0.7276 - val_loss: 0.7508\n",
      "Epoch 54/128\n",
      "\u001b[1m32/32\u001b[0m \u001b[32m━━━━━━━━━━━━━━━━━━━━\u001b[0m\u001b[37m\u001b[0m \u001b[1m2s\u001b[0m 61ms/step - loss: 0.7280 - val_loss: 0.7489\n",
      "Epoch 55/128\n",
      "\u001b[1m32/32\u001b[0m \u001b[32m━━━━━━━━━━━━━━━━━━━━\u001b[0m\u001b[37m\u001b[0m \u001b[1m2s\u001b[0m 64ms/step - loss: 0.7276 - val_loss: 0.7484\n",
      "Epoch 56/128\n",
      "\u001b[1m32/32\u001b[0m \u001b[32m━━━━━━━━━━━━━━━━━━━━\u001b[0m\u001b[37m\u001b[0m \u001b[1m2s\u001b[0m 66ms/step - loss: 0.7265 - val_loss: 0.7480\n",
      "Epoch 57/128\n",
      "\u001b[1m32/32\u001b[0m \u001b[32m━━━━━━━━━━━━━━━━━━━━\u001b[0m\u001b[37m\u001b[0m \u001b[1m2s\u001b[0m 63ms/step - loss: 0.7267 - val_loss: 0.7479\n",
      "Epoch 58/128\n",
      "\u001b[1m32/32\u001b[0m \u001b[32m━━━━━━━━━━━━━━━━━━━━\u001b[0m\u001b[37m\u001b[0m \u001b[1m2s\u001b[0m 57ms/step - loss: 0.7267 - val_loss: 0.7478\n",
      "Epoch 59/128\n",
      "\u001b[1m32/32\u001b[0m \u001b[32m━━━━━━━━━━━━━━━━━━━━\u001b[0m\u001b[37m\u001b[0m \u001b[1m2s\u001b[0m 63ms/step - loss: 0.7274 - val_loss: 0.7480\n",
      "Epoch 60/128\n",
      "\u001b[1m32/32\u001b[0m \u001b[32m━━━━━━━━━━━━━━━━━━━━\u001b[0m\u001b[37m\u001b[0m \u001b[1m2s\u001b[0m 63ms/step - loss: 0.7278 - val_loss: 0.7480\n",
      "Epoch 61/128\n",
      "\u001b[1m32/32\u001b[0m \u001b[32m━━━━━━━━━━━━━━━━━━━━\u001b[0m\u001b[37m\u001b[0m \u001b[1m2s\u001b[0m 60ms/step - loss: 0.7271 - val_loss: 0.7481\n",
      "Epoch 62/128\n",
      "\u001b[1m32/32\u001b[0m \u001b[32m━━━━━━━━━━━━━━━━━━━━\u001b[0m\u001b[37m\u001b[0m \u001b[1m2s\u001b[0m 60ms/step - loss: 0.7267 - val_loss: 0.7489\n",
      "Epoch 63/128\n",
      "\u001b[1m32/32\u001b[0m \u001b[32m━━━━━━━━━━━━━━━━━━━━\u001b[0m\u001b[37m\u001b[0m \u001b[1m2s\u001b[0m 59ms/step - loss: 0.7289 - val_loss: 0.7488\n",
      "Epoch 64/128\n",
      "\u001b[1m32/32\u001b[0m \u001b[32m━━━━━━━━━━━━━━━━━━━━\u001b[0m\u001b[37m\u001b[0m \u001b[1m2s\u001b[0m 59ms/step - loss: 0.7267 - val_loss: 0.7487\n",
      "Epoch 65/128\n",
      "\u001b[1m32/32\u001b[0m \u001b[32m━━━━━━━━━━━━━━━━━━━━\u001b[0m\u001b[37m\u001b[0m \u001b[1m2s\u001b[0m 62ms/step - loss: 0.7268 - val_loss: 0.7485\n",
      "Epoch 66/128\n",
      "\u001b[1m32/32\u001b[0m \u001b[32m━━━━━━━━━━━━━━━━━━━━\u001b[0m\u001b[37m\u001b[0m \u001b[1m2s\u001b[0m 59ms/step - loss: 0.7262 - val_loss: 0.7484\n",
      "Epoch 67/128\n",
      "\u001b[1m32/32\u001b[0m \u001b[32m━━━━━━━━━━━━━━━━━━━━\u001b[0m\u001b[37m\u001b[0m \u001b[1m2s\u001b[0m 58ms/step - loss: 0.7273 - val_loss: 0.7484\n",
      "Epoch 68/128\n",
      "\u001b[1m32/32\u001b[0m \u001b[32m━━━━━━━━━━━━━━━━━━━━\u001b[0m\u001b[37m\u001b[0m \u001b[1m2s\u001b[0m 60ms/step - loss: 0.7268 - val_loss: 0.7483\n",
      "Epoch 69/128\n",
      "\u001b[1m32/32\u001b[0m \u001b[32m━━━━━━━━━━━━━━━━━━━━\u001b[0m\u001b[37m\u001b[0m \u001b[1m2s\u001b[0m 57ms/step - loss: 0.7267 - val_loss: 0.7488\n",
      "Epoch 70/128\n",
      "\u001b[1m32/32\u001b[0m \u001b[32m━━━━━━━━━━━━━━━━━━━━\u001b[0m\u001b[37m\u001b[0m \u001b[1m2s\u001b[0m 59ms/step - loss: 0.7262 - val_loss: 0.7514\n",
      "Epoch 71/128\n",
      "\u001b[1m32/32\u001b[0m \u001b[32m━━━━━━━━━━━━━━━━━━━━\u001b[0m\u001b[37m\u001b[0m \u001b[1m2s\u001b[0m 59ms/step - loss: 0.7266 - val_loss: 0.7516\n",
      "Epoch 72/128\n",
      "\u001b[1m32/32\u001b[0m \u001b[32m━━━━━━━━━━━━━━━━━━━━\u001b[0m\u001b[37m\u001b[0m \u001b[1m2s\u001b[0m 60ms/step - loss: 0.7265 - val_loss: 0.7514\n",
      "Epoch 73/128\n",
      "\u001b[1m32/32\u001b[0m \u001b[32m━━━━━━━━━━━━━━━━━━━━\u001b[0m\u001b[37m\u001b[0m \u001b[1m2s\u001b[0m 63ms/step - loss: 0.7267 - val_loss: 0.7501\n",
      "Epoch 74/128\n",
      "\u001b[1m32/32\u001b[0m \u001b[32m━━━━━━━━━━━━━━━━━━━━\u001b[0m\u001b[37m\u001b[0m \u001b[1m2s\u001b[0m 58ms/step - loss: 0.7270 - val_loss: 0.7500\n",
      "Epoch 75/128\n",
      "\u001b[1m32/32\u001b[0m \u001b[32m━━━━━━━━━━━━━━━━━━━━\u001b[0m\u001b[37m\u001b[0m \u001b[1m2s\u001b[0m 58ms/step - loss: 0.7267 - val_loss: 0.7500\n",
      "Epoch 76/128\n",
      "\u001b[1m32/32\u001b[0m \u001b[32m━━━━━━━━━━━━━━━━━━━━\u001b[0m\u001b[37m\u001b[0m \u001b[1m2s\u001b[0m 58ms/step - loss: 0.7263 - val_loss: 0.7499\n",
      "Epoch 77/128\n",
      "\u001b[1m32/32\u001b[0m \u001b[32m━━━━━━━━━━━━━━━━━━━━\u001b[0m\u001b[37m\u001b[0m \u001b[1m2s\u001b[0m 58ms/step - loss: 0.7270 - val_loss: 0.7502\n",
      "Epoch 78/128\n",
      "\u001b[1m32/32\u001b[0m \u001b[32m━━━━━━━━━━━━━━━━━━━━\u001b[0m\u001b[37m\u001b[0m \u001b[1m2s\u001b[0m 56ms/step - loss: 0.7276 - val_loss: 0.7497\n",
      "Epoch 79/128\n",
      "\u001b[1m32/32\u001b[0m \u001b[32m━━━━━━━━━━━━━━━━━━━━\u001b[0m\u001b[37m\u001b[0m \u001b[1m2s\u001b[0m 61ms/step - loss: 0.7267 - val_loss: 0.7498\n",
      "Epoch 80/128\n",
      "\u001b[1m32/32\u001b[0m \u001b[32m━━━━━━━━━━━━━━━━━━━━\u001b[0m\u001b[37m\u001b[0m \u001b[1m2s\u001b[0m 56ms/step - loss: 0.7272 - val_loss: 0.7499\n",
      "Epoch 81/128\n",
      "\u001b[1m32/32\u001b[0m \u001b[32m━━━━━━━━━━━━━━━━━━━━\u001b[0m\u001b[37m\u001b[0m \u001b[1m2s\u001b[0m 59ms/step - loss: 0.7278 - val_loss: 0.7504\n",
      "Epoch 82/128\n",
      "\u001b[1m32/32\u001b[0m \u001b[32m━━━━━━━━━━━━━━━━━━━━\u001b[0m\u001b[37m\u001b[0m \u001b[1m2s\u001b[0m 58ms/step - loss: 0.7260 - val_loss: 0.7502\n",
      "Epoch 83/128\n",
      "\u001b[1m32/32\u001b[0m \u001b[32m━━━━━━━━━━━━━━━━━━━━\u001b[0m\u001b[37m\u001b[0m \u001b[1m2s\u001b[0m 56ms/step - loss: 0.7270 - val_loss: 0.7499\n",
      "Epoch 84/128\n",
      "\u001b[1m32/32\u001b[0m \u001b[32m━━━━━━━━━━━━━━━━━━━━\u001b[0m\u001b[37m\u001b[0m \u001b[1m2s\u001b[0m 56ms/step - loss: 0.7259 - val_loss: 0.7498\n",
      "Epoch 85/128\n",
      "\u001b[1m32/32\u001b[0m \u001b[32m━━━━━━━━━━━━━━━━━━━━\u001b[0m\u001b[37m\u001b[0m \u001b[1m2s\u001b[0m 57ms/step - loss: 0.7271 - val_loss: 0.7500\n",
      "Epoch 86/128\n",
      "\u001b[1m32/32\u001b[0m \u001b[32m━━━━━━━━━━━━━━━━━━━━\u001b[0m\u001b[37m\u001b[0m \u001b[1m2s\u001b[0m 56ms/step - loss: 0.7266 - val_loss: 0.7502\n",
      "Epoch 87/128\n",
      "\u001b[1m32/32\u001b[0m \u001b[32m━━━━━━━━━━━━━━━━━━━━\u001b[0m\u001b[37m\u001b[0m \u001b[1m2s\u001b[0m 58ms/step - loss: 0.7261 - val_loss: 0.7502\n",
      "Epoch 88/128\n",
      "\u001b[1m32/32\u001b[0m \u001b[32m━━━━━━━━━━━━━━━━━━━━\u001b[0m\u001b[37m\u001b[0m \u001b[1m2s\u001b[0m 60ms/step - loss: 0.7260 - val_loss: 0.7502\n",
      "Epoch 89/128\n",
      "\u001b[1m32/32\u001b[0m \u001b[32m━━━━━━━━━━━━━━━━━━━━\u001b[0m\u001b[37m\u001b[0m \u001b[1m2s\u001b[0m 58ms/step - loss: 0.7271 - val_loss: 0.7487\n",
      "Epoch 90/128\n",
      "\u001b[1m32/32\u001b[0m \u001b[32m━━━━━━━━━━━━━━━━━━━━\u001b[0m\u001b[37m\u001b[0m \u001b[1m2s\u001b[0m 60ms/step - loss: 0.7259 - val_loss: 0.7483\n",
      "Epoch 91/128\n",
      "\u001b[1m32/32\u001b[0m \u001b[32m━━━━━━━━━━━━━━━━━━━━\u001b[0m\u001b[37m\u001b[0m \u001b[1m2s\u001b[0m 60ms/step - loss: 0.7278 - val_loss: 0.7483\n",
      "Epoch 92/128\n",
      "\u001b[1m32/32\u001b[0m \u001b[32m━━━━━━━━━━━━━━━━━━━━\u001b[0m\u001b[37m\u001b[0m \u001b[1m2s\u001b[0m 60ms/step - loss: 0.7266 - val_loss: 0.7485\n",
      "Epoch 93/128\n",
      "\u001b[1m32/32\u001b[0m \u001b[32m━━━━━━━━━━━━━━━━━━━━\u001b[0m\u001b[37m\u001b[0m \u001b[1m2s\u001b[0m 59ms/step - loss: 0.7263 - val_loss: 0.7486\n",
      "Epoch 94/128\n",
      "\u001b[1m32/32\u001b[0m \u001b[32m━━━━━━━━━━━━━━━━━━━━\u001b[0m\u001b[37m\u001b[0m \u001b[1m2s\u001b[0m 61ms/step - loss: 0.7261 - val_loss: 0.7486\n",
      "Epoch 95/128\n",
      "\u001b[1m32/32\u001b[0m \u001b[32m━━━━━━━━━━━━━━━━━━━━\u001b[0m\u001b[37m\u001b[0m \u001b[1m2s\u001b[0m 58ms/step - loss: 0.7269 - val_loss: 0.7486\n",
      "Epoch 96/128\n",
      "\u001b[1m32/32\u001b[0m \u001b[32m━━━━━━━━━━━━━━━━━━━━\u001b[0m\u001b[37m\u001b[0m \u001b[1m2s\u001b[0m 58ms/step - loss: 0.7256 - val_loss: 0.7487\n",
      "Epoch 97/128\n",
      "\u001b[1m32/32\u001b[0m \u001b[32m━━━━━━━━━━━━━━━━━━━━\u001b[0m\u001b[37m\u001b[0m \u001b[1m2s\u001b[0m 59ms/step - loss: 0.7267 - val_loss: 0.7486\n",
      "Epoch 98/128\n",
      "\u001b[1m32/32\u001b[0m \u001b[32m━━━━━━━━━━━━━━━━━━━━\u001b[0m\u001b[37m\u001b[0m \u001b[1m2s\u001b[0m 58ms/step - loss: 0.7267 - val_loss: 0.7485\n",
      "Epoch 99/128\n",
      "\u001b[1m32/32\u001b[0m \u001b[32m━━━━━━━━━━━━━━━━━━━━\u001b[0m\u001b[37m\u001b[0m \u001b[1m2s\u001b[0m 60ms/step - loss: 0.7262 - val_loss: 0.7486\n",
      "Epoch 100/128\n",
      "\u001b[1m32/32\u001b[0m \u001b[32m━━━━━━━━━━━━━━━━━━━━\u001b[0m\u001b[37m\u001b[0m \u001b[1m2s\u001b[0m 62ms/step - loss: 0.7258 - val_loss: 0.7486\n",
      "Epoch 101/128\n",
      "\u001b[1m32/32\u001b[0m \u001b[32m━━━━━━━━━━━━━━━━━━━━\u001b[0m\u001b[37m\u001b[0m \u001b[1m2s\u001b[0m 57ms/step - loss: 0.7264 - val_loss: 0.7485\n",
      "Epoch 102/128\n",
      "\u001b[1m32/32\u001b[0m \u001b[32m━━━━━━━━━━━━━━━━━━━━\u001b[0m\u001b[37m\u001b[0m \u001b[1m2s\u001b[0m 58ms/step - loss: 0.7266 - val_loss: 0.7485\n",
      "Epoch 103/128\n",
      "\u001b[1m32/32\u001b[0m \u001b[32m━━━━━━━━━━━━━━━━━━━━\u001b[0m\u001b[37m\u001b[0m \u001b[1m2s\u001b[0m 58ms/step - loss: 0.7257 - val_loss: 0.7484\n",
      "Epoch 104/128\n",
      "\u001b[1m32/32\u001b[0m \u001b[32m━━━━━━━━━━━━━━━━━━━━\u001b[0m\u001b[37m\u001b[0m \u001b[1m2s\u001b[0m 61ms/step - loss: 0.7268 - val_loss: 0.7480\n",
      "Epoch 105/128\n",
      "\u001b[1m32/32\u001b[0m \u001b[32m━━━━━━━━━━━━━━━━━━━━\u001b[0m\u001b[37m\u001b[0m \u001b[1m2s\u001b[0m 61ms/step - loss: 0.7261 - val_loss: 0.7484\n",
      "Epoch 106/128\n",
      "\u001b[1m32/32\u001b[0m \u001b[32m━━━━━━━━━━━━━━━━━━━━\u001b[0m\u001b[37m\u001b[0m \u001b[1m2s\u001b[0m 59ms/step - loss: 0.7264 - val_loss: 0.7483\n",
      "Epoch 107/128\n",
      "\u001b[1m32/32\u001b[0m \u001b[32m━━━━━━━━━━━━━━━━━━━━\u001b[0m\u001b[37m\u001b[0m \u001b[1m2s\u001b[0m 60ms/step - loss: 0.7272 - val_loss: 0.7487\n",
      "Epoch 108/128\n",
      "\u001b[1m32/32\u001b[0m \u001b[32m━━━━━━━━━━━━━━━━━━━━\u001b[0m\u001b[37m\u001b[0m \u001b[1m2s\u001b[0m 58ms/step - loss: 0.7252 - val_loss: 0.7489\n",
      "Epoch 109/128\n",
      "\u001b[1m32/32\u001b[0m \u001b[32m━━━━━━━━━━━━━━━━━━━━\u001b[0m\u001b[37m\u001b[0m \u001b[1m2s\u001b[0m 59ms/step - loss: 0.7271 - val_loss: 0.7491\n",
      "Epoch 110/128\n",
      "\u001b[1m32/32\u001b[0m \u001b[32m━━━━━━━━━━━━━━━━━━━━\u001b[0m\u001b[37m\u001b[0m \u001b[1m2s\u001b[0m 60ms/step - loss: 0.7266 - val_loss: 0.7491\n",
      "Epoch 111/128\n",
      "\u001b[1m32/32\u001b[0m \u001b[32m━━━━━━━━━━━━━━━━━━━━\u001b[0m\u001b[37m\u001b[0m \u001b[1m2s\u001b[0m 57ms/step - loss: 0.7274 - val_loss: 0.7491\n",
      "Epoch 112/128\n",
      "\u001b[1m32/32\u001b[0m \u001b[32m━━━━━━━━━━━━━━━━━━━━\u001b[0m\u001b[37m\u001b[0m \u001b[1m2s\u001b[0m 58ms/step - loss: 0.7265 - val_loss: 0.7493\n",
      "Epoch 113/128\n",
      "\u001b[1m32/32\u001b[0m \u001b[32m━━━━━━━━━━━━━━━━━━━━\u001b[0m\u001b[37m\u001b[0m \u001b[1m2s\u001b[0m 59ms/step - loss: 0.7271 - val_loss: 0.7487\n",
      "Epoch 114/128\n",
      "\u001b[1m32/32\u001b[0m \u001b[32m━━━━━━━━━━━━━━━━━━━━\u001b[0m\u001b[37m\u001b[0m \u001b[1m2s\u001b[0m 69ms/step - loss: 0.7262 - val_loss: 0.7489\n",
      "Epoch 115/128\n",
      "\u001b[1m32/32\u001b[0m \u001b[32m━━━━━━━━━━━━━━━━━━━━\u001b[0m\u001b[37m\u001b[0m \u001b[1m2s\u001b[0m 66ms/step - loss: 0.7263 - val_loss: 0.7487\n",
      "Epoch 116/128\n",
      "\u001b[1m32/32\u001b[0m \u001b[32m━━━━━━━━━━━━━━━━━━━━\u001b[0m\u001b[37m\u001b[0m \u001b[1m2s\u001b[0m 71ms/step - loss: 0.7263 - val_loss: 0.7491\n",
      "Epoch 117/128\n",
      "\u001b[1m32/32\u001b[0m \u001b[32m━━━━━━━━━━━━━━━━━━━━\u001b[0m\u001b[37m\u001b[0m \u001b[1m2s\u001b[0m 65ms/step - loss: 0.7261 - val_loss: 0.7493\n",
      "Epoch 118/128\n",
      "\u001b[1m32/32\u001b[0m \u001b[32m━━━━━━━━━━━━━━━━━━━━\u001b[0m\u001b[37m\u001b[0m \u001b[1m2s\u001b[0m 65ms/step - loss: 0.7261 - val_loss: 0.7492\n",
      "Epoch 119/128\n",
      "\u001b[1m32/32\u001b[0m \u001b[32m━━━━━━━━━━━━━━━━━━━━\u001b[0m\u001b[37m\u001b[0m \u001b[1m2s\u001b[0m 64ms/step - loss: 0.7254 - val_loss: 0.7492\n",
      "Epoch 120/128\n",
      "\u001b[1m32/32\u001b[0m \u001b[32m━━━━━━━━━━━━━━━━━━━━\u001b[0m\u001b[37m\u001b[0m \u001b[1m2s\u001b[0m 65ms/step - loss: 0.7262 - val_loss: 0.7491\n",
      "Epoch 121/128\n",
      "\u001b[1m32/32\u001b[0m \u001b[32m━━━━━━━━━━━━━━━━━━━━\u001b[0m\u001b[37m\u001b[0m \u001b[1m2s\u001b[0m 61ms/step - loss: 0.7262 - val_loss: 0.7491\n",
      "Epoch 122/128\n",
      "\u001b[1m32/32\u001b[0m \u001b[32m━━━━━━━━━━━━━━━━━━━━\u001b[0m\u001b[37m\u001b[0m \u001b[1m2s\u001b[0m 61ms/step - loss: 0.7258 - val_loss: 0.7488\n",
      "Epoch 123/128\n",
      "\u001b[1m32/32\u001b[0m \u001b[32m━━━━━━━━━━━━━━━━━━━━\u001b[0m\u001b[37m\u001b[0m \u001b[1m2s\u001b[0m 65ms/step - loss: 0.7252 - val_loss: 0.7487\n",
      "Epoch 124/128\n",
      "\u001b[1m32/32\u001b[0m \u001b[32m━━━━━━━━━━━━━━━━━━━━\u001b[0m\u001b[37m\u001b[0m \u001b[1m2s\u001b[0m 63ms/step - loss: 0.7258 - val_loss: 0.7491\n",
      "Epoch 125/128\n",
      "\u001b[1m32/32\u001b[0m \u001b[32m━━━━━━━━━━━━━━━━━━━━\u001b[0m\u001b[37m\u001b[0m \u001b[1m2s\u001b[0m 68ms/step - loss: 0.7259 - val_loss: 0.7493\n",
      "Epoch 126/128\n",
      "\u001b[1m32/32\u001b[0m \u001b[32m━━━━━━━━━━━━━━━━━━━━\u001b[0m\u001b[37m\u001b[0m \u001b[1m2s\u001b[0m 67ms/step - loss: 0.7258 - val_loss: 0.7488\n",
      "Epoch 127/128\n",
      "\u001b[1m32/32\u001b[0m \u001b[32m━━━━━━━━━━━━━━━━━━━━\u001b[0m\u001b[37m\u001b[0m \u001b[1m2s\u001b[0m 63ms/step - loss: 0.7266 - val_loss: 0.7487\n",
      "Epoch 128/128\n",
      "\u001b[1m32/32\u001b[0m \u001b[32m━━━━━━━━━━━━━━━━━━━━\u001b[0m\u001b[37m\u001b[0m \u001b[1m2s\u001b[0m 62ms/step - loss: 0.7259 - val_loss: 0.7487\n"
     ]
    },
    {
     "data": {
      "text/plain": [
       "<keras.src.callbacks.history.History at 0x222fb108dd0>"
      ]
     },
     "execution_count": 86,
     "metadata": {},
     "output_type": "execute_result"
    }
   ],
   "source": [
    "model2.fit(train_dataset_trainable, epochs=num_epochs_trainable, validation_data=val_dataset_trainable)"
   ]
  },
  {
   "cell_type": "markdown",
   "metadata": {},
   "source": [
    "Evaluem el model amb la partició de validació."
   ]
  },
  {
   "cell_type": "code",
   "execution_count": 87,
   "metadata": {},
   "outputs": [
    {
     "name": "stdout",
     "output_type": "stream",
     "text": [
      "\u001b[1m64/64\u001b[0m \u001b[32m━━━━━━━━━━━━━━━━━━━━\u001b[0m\u001b[37m\u001b[0m \u001b[1m0s\u001b[0m 5ms/step\n",
      "Correlación de Pearson (train): 0.04502294958392269\n",
      "\u001b[1m16/16\u001b[0m \u001b[32m━━━━━━━━━━━━━━━━━━━━\u001b[0m\u001b[37m\u001b[0m \u001b[1m0s\u001b[0m 3ms/step \n",
      "Correlación de Pearson (validation): 0.059929202136506016\n"
     ]
    }
   ],
   "source": [
    "print(f\"Correlación de Pearson (train): {compute_pearson(model2, x_train_trainable, y_train_trainable)}\")\n",
    "print(f\"Correlación de Pearson (validation): {compute_pearson(model2, x_val_trainable, y_val_trainable)}\")"
   ]
  },
  {
   "cell_type": "markdown",
   "metadata": {},
   "source": [
    "Provem amb la partició de test."
   ]
  },
  {
   "cell_type": "code",
   "execution_count": 88,
   "metadata": {},
   "outputs": [
    {
     "name": "stdout",
     "output_type": "stream",
     "text": [
      "\u001b[1m16/16\u001b[0m \u001b[32m━━━━━━━━━━━━━━━━━━━━\u001b[0m\u001b[37m\u001b[0m \u001b[1m0s\u001b[0m 3ms/step\n",
      "Correlación de Pearson (test): 0.042564639119677804\n"
     ]
    }
   ],
   "source": [
    "print(f\"Correlación de Pearson (test): {compute_pearson(model2, x_test_trainable, y_test_trainable)}\")"
   ]
  }
 ],
 "metadata": {
  "kernelspec": {
   "display_name": "WordEmbeddings",
   "language": "python",
   "name": "python3"
  },
  "language_info": {
   "codemirror_mode": {
    "name": "ipython",
    "version": 3
   },
   "file_extension": ".py",
   "mimetype": "text/x-python",
   "name": "python",
   "nbconvert_exporter": "python",
   "pygments_lexer": "ipython3",
   "version": "3.11.9"
  }
 },
 "nbformat": 4,
 "nbformat_minor": 2
}
