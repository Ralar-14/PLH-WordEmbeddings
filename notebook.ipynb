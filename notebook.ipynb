{
 "cells": [
  {
   "cell_type": "markdown",
   "metadata": {},
   "source": [
    "# Pràctica 4 PLH - Rubén Álvarez Aragonés i Pol Pérez Prades"
   ]
  },
  {
   "cell_type": "markdown",
   "metadata": {},
   "source": [
    "____"
   ]
  },
  {
   "cell_type": "markdown",
   "metadata": {},
   "source": [
    "# Stuff"
   ]
  },
  {
   "cell_type": "markdown",
   "metadata": {},
   "source": [
    "## Imports "
   ]
  },
  {
   "cell_type": "code",
   "execution_count": 2,
   "metadata": {},
   "outputs": [
    {
     "name": "stdout",
     "output_type": "stream",
     "text": [
      "Requirement already satisfied: tensorflow in c:\\users\\pol\\appdata\\local\\packages\\pythonsoftwarefoundation.python.3.10_qbz5n2kfra8p0\\localcache\\local-packages\\python310\\site-packages (from -r requirements.txt (line 1)) (2.16.1)\n",
      "Requirement already satisfied: numpy in c:\\users\\pol\\appdata\\local\\packages\\pythonsoftwarefoundation.python.3.10_qbz5n2kfra8p0\\localcache\\local-packages\\python310\\site-packages (from -r requirements.txt (line 2)) (1.26.4)\n",
      "Requirement already satisfied: spacy in c:\\users\\pol\\appdata\\local\\packages\\pythonsoftwarefoundation.python.3.10_qbz5n2kfra8p0\\localcache\\local-packages\\python310\\site-packages (from -r requirements.txt (line 3)) (3.4.4)\n",
      "Collecting scipy==1.10.1 (from -r requirements.txt (line 4))\n",
      "  Using cached scipy-1.10.1-cp310-cp310-win_amd64.whl.metadata (58 kB)\n",
      "Requirement already satisfied: gensim in c:\\users\\pol\\appdata\\local\\packages\\pythonsoftwarefoundation.python.3.10_qbz5n2kfra8p0\\localcache\\local-packages\\python310\\site-packages (from -r requirements.txt (line 5)) (4.3.2)\n",
      "Requirement already satisfied: torch in c:\\users\\pol\\appdata\\local\\packages\\pythonsoftwarefoundation.python.3.10_qbz5n2kfra8p0\\localcache\\local-packages\\python310\\site-packages (from -r requirements.txt (line 6)) (2.3.0)\n",
      "Requirement already satisfied: scikit-learn in c:\\users\\pol\\appdata\\local\\packages\\pythonsoftwarefoundation.python.3.10_qbz5n2kfra8p0\\localcache\\local-packages\\python310\\site-packages (from -r requirements.txt (line 7)) (1.5.0)\n",
      "Requirement already satisfied: matplotlib in c:\\users\\pol\\appdata\\local\\packages\\pythonsoftwarefoundation.python.3.10_qbz5n2kfra8p0\\localcache\\local-packages\\python310\\site-packages (from -r requirements.txt (line 8)) (3.9.0)\n",
      "Requirement already satisfied: plotly in c:\\users\\pol\\appdata\\local\\packages\\pythonsoftwarefoundation.python.3.10_qbz5n2kfra8p0\\localcache\\local-packages\\python310\\site-packages (from -r requirements.txt (line 9)) (5.22.0)\n",
      "Requirement already satisfied: pandas in c:\\users\\pol\\appdata\\local\\packages\\pythonsoftwarefoundation.python.3.10_qbz5n2kfra8p0\\localcache\\local-packages\\python310\\site-packages (from -r requirements.txt (line 10)) (2.2.2)\n",
      "Collecting fasttext (from -r requirements.txt (line 11))\n",
      "  Using cached fasttext-0.9.2.tar.gz (68 kB)\n",
      "  Preparing metadata (setup.py): started\n",
      "  Preparing metadata (setup.py): finished with status 'done'\n",
      "Requirement already satisfied: nbformat>=4.2.0 in c:\\users\\pol\\appdata\\local\\packages\\pythonsoftwarefoundation.python.3.10_qbz5n2kfra8p0\\localcache\\local-packages\\python310\\site-packages (from -r requirements.txt (line 12)) (5.10.4)\n",
      "Requirement already satisfied: tensorflow-intel==2.16.1 in c:\\users\\pol\\appdata\\local\\packages\\pythonsoftwarefoundation.python.3.10_qbz5n2kfra8p0\\localcache\\local-packages\\python310\\site-packages (from tensorflow->-r requirements.txt (line 1)) (2.16.1)\n",
      "Requirement already satisfied: absl-py>=1.0.0 in c:\\users\\pol\\appdata\\local\\packages\\pythonsoftwarefoundation.python.3.10_qbz5n2kfra8p0\\localcache\\local-packages\\python310\\site-packages (from tensorflow-intel==2.16.1->tensorflow->-r requirements.txt (line 1)) (2.1.0)\n",
      "Requirement already satisfied: astunparse>=1.6.0 in c:\\users\\pol\\appdata\\local\\packages\\pythonsoftwarefoundation.python.3.10_qbz5n2kfra8p0\\localcache\\local-packages\\python310\\site-packages (from tensorflow-intel==2.16.1->tensorflow->-r requirements.txt (line 1)) (1.6.3)\n",
      "Requirement already satisfied: flatbuffers>=23.5.26 in c:\\users\\pol\\appdata\\local\\packages\\pythonsoftwarefoundation.python.3.10_qbz5n2kfra8p0\\localcache\\local-packages\\python310\\site-packages (from tensorflow-intel==2.16.1->tensorflow->-r requirements.txt (line 1)) (24.3.25)\n",
      "Requirement already satisfied: gast!=0.5.0,!=0.5.1,!=0.5.2,>=0.2.1 in c:\\users\\pol\\appdata\\local\\packages\\pythonsoftwarefoundation.python.3.10_qbz5n2kfra8p0\\localcache\\local-packages\\python310\\site-packages (from tensorflow-intel==2.16.1->tensorflow->-r requirements.txt (line 1)) (0.5.4)\n",
      "Requirement already satisfied: google-pasta>=0.1.1 in c:\\users\\pol\\appdata\\local\\packages\\pythonsoftwarefoundation.python.3.10_qbz5n2kfra8p0\\localcache\\local-packages\\python310\\site-packages (from tensorflow-intel==2.16.1->tensorflow->-r requirements.txt (line 1)) (0.2.0)\n",
      "Requirement already satisfied: h5py>=3.10.0 in c:\\users\\pol\\appdata\\local\\packages\\pythonsoftwarefoundation.python.3.10_qbz5n2kfra8p0\\localcache\\local-packages\\python310\\site-packages (from tensorflow-intel==2.16.1->tensorflow->-r requirements.txt (line 1)) (3.11.0)\n",
      "Requirement already satisfied: libclang>=13.0.0 in c:\\users\\pol\\appdata\\local\\packages\\pythonsoftwarefoundation.python.3.10_qbz5n2kfra8p0\\localcache\\local-packages\\python310\\site-packages (from tensorflow-intel==2.16.1->tensorflow->-r requirements.txt (line 1)) (18.1.1)\n",
      "Collecting ml-dtypes~=0.3.1 (from tensorflow-intel==2.16.1->tensorflow->-r requirements.txt (line 1))\n",
      "  Using cached ml_dtypes-0.3.2-cp310-cp310-win_amd64.whl.metadata (20 kB)\n",
      "Requirement already satisfied: opt-einsum>=2.3.2 in c:\\users\\pol\\appdata\\local\\packages\\pythonsoftwarefoundation.python.3.10_qbz5n2kfra8p0\\localcache\\local-packages\\python310\\site-packages (from tensorflow-intel==2.16.1->tensorflow->-r requirements.txt (line 1)) (3.3.0)\n",
      "Requirement already satisfied: packaging in c:\\users\\pol\\appdata\\local\\packages\\pythonsoftwarefoundation.python.3.10_qbz5n2kfra8p0\\localcache\\local-packages\\python310\\site-packages (from tensorflow-intel==2.16.1->tensorflow->-r requirements.txt (line 1)) (24.0)\n",
      "Collecting protobuf!=4.21.0,!=4.21.1,!=4.21.2,!=4.21.3,!=4.21.4,!=4.21.5,<5.0.0dev,>=3.20.3 (from tensorflow-intel==2.16.1->tensorflow->-r requirements.txt (line 1))\n",
      "  Using cached protobuf-4.25.3-cp310-abi3-win_amd64.whl.metadata (541 bytes)\n",
      "Requirement already satisfied: requests<3,>=2.21.0 in c:\\users\\pol\\appdata\\local\\packages\\pythonsoftwarefoundation.python.3.10_qbz5n2kfra8p0\\localcache\\local-packages\\python310\\site-packages (from tensorflow-intel==2.16.1->tensorflow->-r requirements.txt (line 1)) (2.32.3)\n",
      "Requirement already satisfied: setuptools in c:\\users\\pol\\appdata\\local\\packages\\pythonsoftwarefoundation.python.3.10_qbz5n2kfra8p0\\localcache\\local-packages\\python310\\site-packages (from tensorflow-intel==2.16.1->tensorflow->-r requirements.txt (line 1)) (70.0.0)\n",
      "Requirement already satisfied: six>=1.12.0 in c:\\users\\pol\\appdata\\local\\packages\\pythonsoftwarefoundation.python.3.10_qbz5n2kfra8p0\\localcache\\local-packages\\python310\\site-packages (from tensorflow-intel==2.16.1->tensorflow->-r requirements.txt (line 1)) (1.16.0)\n",
      "Requirement already satisfied: termcolor>=1.1.0 in c:\\users\\pol\\appdata\\local\\packages\\pythonsoftwarefoundation.python.3.10_qbz5n2kfra8p0\\localcache\\local-packages\\python310\\site-packages (from tensorflow-intel==2.16.1->tensorflow->-r requirements.txt (line 1)) (2.4.0)\n",
      "Requirement already satisfied: typing-extensions>=3.6.6 in c:\\users\\pol\\appdata\\local\\packages\\pythonsoftwarefoundation.python.3.10_qbz5n2kfra8p0\\localcache\\local-packages\\python310\\site-packages (from tensorflow-intel==2.16.1->tensorflow->-r requirements.txt (line 1)) (4.11.0)\n",
      "Requirement already satisfied: wrapt>=1.11.0 in c:\\users\\pol\\appdata\\local\\packages\\pythonsoftwarefoundation.python.3.10_qbz5n2kfra8p0\\localcache\\local-packages\\python310\\site-packages (from tensorflow-intel==2.16.1->tensorflow->-r requirements.txt (line 1)) (1.16.0)\n",
      "Requirement already satisfied: grpcio<2.0,>=1.24.3 in c:\\users\\pol\\appdata\\local\\packages\\pythonsoftwarefoundation.python.3.10_qbz5n2kfra8p0\\localcache\\local-packages\\python310\\site-packages (from tensorflow-intel==2.16.1->tensorflow->-r requirements.txt (line 1)) (1.64.1)\n",
      "Requirement already satisfied: tensorboard<2.17,>=2.16 in c:\\users\\pol\\appdata\\local\\packages\\pythonsoftwarefoundation.python.3.10_qbz5n2kfra8p0\\localcache\\local-packages\\python310\\site-packages (from tensorflow-intel==2.16.1->tensorflow->-r requirements.txt (line 1)) (2.16.2)\n",
      "Requirement already satisfied: keras>=3.0.0 in c:\\users\\pol\\appdata\\local\\packages\\pythonsoftwarefoundation.python.3.10_qbz5n2kfra8p0\\localcache\\local-packages\\python310\\site-packages (from tensorflow-intel==2.16.1->tensorflow->-r requirements.txt (line 1)) (3.3.3)\n",
      "Requirement already satisfied: tensorflow-io-gcs-filesystem>=0.23.1 in c:\\users\\pol\\appdata\\local\\packages\\pythonsoftwarefoundation.python.3.10_qbz5n2kfra8p0\\localcache\\local-packages\\python310\\site-packages (from tensorflow-intel==2.16.1->tensorflow->-r requirements.txt (line 1)) (0.31.0)\n",
      "Requirement already satisfied: spacy-legacy<3.1.0,>=3.0.10 in c:\\users\\pol\\appdata\\local\\packages\\pythonsoftwarefoundation.python.3.10_qbz5n2kfra8p0\\localcache\\local-packages\\python310\\site-packages (from spacy->-r requirements.txt (line 3)) (3.0.12)\n",
      "Requirement already satisfied: spacy-loggers<2.0.0,>=1.0.0 in c:\\users\\pol\\appdata\\local\\packages\\pythonsoftwarefoundation.python.3.10_qbz5n2kfra8p0\\localcache\\local-packages\\python310\\site-packages (from spacy->-r requirements.txt (line 3)) (1.0.5)\n",
      "Requirement already satisfied: murmurhash<1.1.0,>=0.28.0 in c:\\users\\pol\\appdata\\local\\packages\\pythonsoftwarefoundation.python.3.10_qbz5n2kfra8p0\\localcache\\local-packages\\python310\\site-packages (from spacy->-r requirements.txt (line 3)) (1.0.10)\n",
      "Requirement already satisfied: cymem<2.1.0,>=2.0.2 in c:\\users\\pol\\appdata\\local\\packages\\pythonsoftwarefoundation.python.3.10_qbz5n2kfra8p0\\localcache\\local-packages\\python310\\site-packages (from spacy->-r requirements.txt (line 3)) (2.0.8)\n",
      "Requirement already satisfied: preshed<3.1.0,>=3.0.2 in c:\\users\\pol\\appdata\\local\\packages\\pythonsoftwarefoundation.python.3.10_qbz5n2kfra8p0\\localcache\\local-packages\\python310\\site-packages (from spacy->-r requirements.txt (line 3)) (3.0.9)\n",
      "Requirement already satisfied: thinc<8.2.0,>=8.1.0 in c:\\users\\pol\\appdata\\local\\packages\\pythonsoftwarefoundation.python.3.10_qbz5n2kfra8p0\\localcache\\local-packages\\python310\\site-packages (from spacy->-r requirements.txt (line 3)) (8.1.12)\n",
      "Requirement already satisfied: wasabi<1.1.0,>=0.9.1 in c:\\users\\pol\\appdata\\local\\packages\\pythonsoftwarefoundation.python.3.10_qbz5n2kfra8p0\\localcache\\local-packages\\python310\\site-packages (from spacy->-r requirements.txt (line 3)) (0.10.1)\n",
      "Requirement already satisfied: srsly<3.0.0,>=2.4.3 in c:\\users\\pol\\appdata\\local\\packages\\pythonsoftwarefoundation.python.3.10_qbz5n2kfra8p0\\localcache\\local-packages\\python310\\site-packages (from spacy->-r requirements.txt (line 3)) (2.4.8)\n",
      "Requirement already satisfied: catalogue<2.1.0,>=2.0.6 in c:\\users\\pol\\appdata\\local\\packages\\pythonsoftwarefoundation.python.3.10_qbz5n2kfra8p0\\localcache\\local-packages\\python310\\site-packages (from spacy->-r requirements.txt (line 3)) (2.0.10)\n",
      "Requirement already satisfied: typer<0.8.0,>=0.3.0 in c:\\users\\pol\\appdata\\local\\packages\\pythonsoftwarefoundation.python.3.10_qbz5n2kfra8p0\\localcache\\local-packages\\python310\\site-packages (from spacy->-r requirements.txt (line 3)) (0.7.0)\n",
      "Requirement already satisfied: pathy>=0.3.5 in c:\\users\\pol\\appdata\\local\\packages\\pythonsoftwarefoundation.python.3.10_qbz5n2kfra8p0\\localcache\\local-packages\\python310\\site-packages (from spacy->-r requirements.txt (line 3)) (0.11.0)\n",
      "Collecting smart-open<7.0.0,>=5.2.1 (from spacy->-r requirements.txt (line 3))\n",
      "  Using cached smart_open-6.4.0-py3-none-any.whl.metadata (21 kB)\n",
      "Requirement already satisfied: tqdm<5.0.0,>=4.38.0 in c:\\users\\pol\\appdata\\local\\packages\\pythonsoftwarefoundation.python.3.10_qbz5n2kfra8p0\\localcache\\local-packages\\python310\\site-packages (from spacy->-r requirements.txt (line 3)) (4.66.1)\n",
      "Collecting pydantic!=1.8,!=1.8.1,<1.11.0,>=1.7.4 (from spacy->-r requirements.txt (line 3))\n",
      "  Using cached pydantic-1.10.15-cp310-cp310-win_amd64.whl.metadata (152 kB)\n",
      "Requirement already satisfied: jinja2 in c:\\users\\pol\\appdata\\local\\packages\\pythonsoftwarefoundation.python.3.10_qbz5n2kfra8p0\\localcache\\local-packages\\python310\\site-packages (from spacy->-r requirements.txt (line 3)) (3.1.4)\n",
      "Requirement already satisfied: langcodes<4.0.0,>=3.2.0 in c:\\users\\pol\\appdata\\local\\packages\\pythonsoftwarefoundation.python.3.10_qbz5n2kfra8p0\\localcache\\local-packages\\python310\\site-packages (from spacy->-r requirements.txt (line 3)) (3.4.0)\n",
      "Requirement already satisfied: filelock in c:\\users\\pol\\appdata\\local\\packages\\pythonsoftwarefoundation.python.3.10_qbz5n2kfra8p0\\localcache\\local-packages\\python310\\site-packages (from torch->-r requirements.txt (line 6)) (3.14.0)\n",
      "Requirement already satisfied: sympy in c:\\users\\pol\\appdata\\local\\packages\\pythonsoftwarefoundation.python.3.10_qbz5n2kfra8p0\\localcache\\local-packages\\python310\\site-packages (from torch->-r requirements.txt (line 6)) (1.12)\n",
      "Requirement already satisfied: networkx in c:\\users\\pol\\appdata\\local\\packages\\pythonsoftwarefoundation.python.3.10_qbz5n2kfra8p0\\localcache\\local-packages\\python310\\site-packages (from torch->-r requirements.txt (line 6)) (3.3)\n",
      "Requirement already satisfied: fsspec in c:\\users\\pol\\appdata\\local\\packages\\pythonsoftwarefoundation.python.3.10_qbz5n2kfra8p0\\localcache\\local-packages\\python310\\site-packages (from torch->-r requirements.txt (line 6)) (2024.6.0)\n",
      "Requirement already satisfied: mkl<=2021.4.0,>=2021.1.1 in c:\\users\\pol\\appdata\\local\\packages\\pythonsoftwarefoundation.python.3.10_qbz5n2kfra8p0\\localcache\\local-packages\\python310\\site-packages (from torch->-r requirements.txt (line 6)) (2021.4.0)\n",
      "Requirement already satisfied: joblib>=1.2.0 in c:\\users\\pol\\appdata\\local\\packages\\pythonsoftwarefoundation.python.3.10_qbz5n2kfra8p0\\localcache\\local-packages\\python310\\site-packages (from scikit-learn->-r requirements.txt (line 7)) (1.4.2)\n",
      "Requirement already satisfied: threadpoolctl>=3.1.0 in c:\\users\\pol\\appdata\\local\\packages\\pythonsoftwarefoundation.python.3.10_qbz5n2kfra8p0\\localcache\\local-packages\\python310\\site-packages (from scikit-learn->-r requirements.txt (line 7)) (3.2.0)\n",
      "Requirement already satisfied: contourpy>=1.0.1 in c:\\users\\pol\\appdata\\local\\packages\\pythonsoftwarefoundation.python.3.10_qbz5n2kfra8p0\\localcache\\local-packages\\python310\\site-packages (from matplotlib->-r requirements.txt (line 8)) (1.2.1)\n",
      "Requirement already satisfied: cycler>=0.10 in c:\\users\\pol\\appdata\\local\\packages\\pythonsoftwarefoundation.python.3.10_qbz5n2kfra8p0\\localcache\\local-packages\\python310\\site-packages (from matplotlib->-r requirements.txt (line 8)) (0.12.1)\n",
      "Requirement already satisfied: fonttools>=4.22.0 in c:\\users\\pol\\appdata\\local\\packages\\pythonsoftwarefoundation.python.3.10_qbz5n2kfra8p0\\localcache\\local-packages\\python310\\site-packages (from matplotlib->-r requirements.txt (line 8)) (4.53.0)\n",
      "Requirement already satisfied: kiwisolver>=1.3.1 in c:\\users\\pol\\appdata\\local\\packages\\pythonsoftwarefoundation.python.3.10_qbz5n2kfra8p0\\localcache\\local-packages\\python310\\site-packages (from matplotlib->-r requirements.txt (line 8)) (1.4.5)\n",
      "Requirement already satisfied: pillow>=8 in c:\\users\\pol\\appdata\\local\\packages\\pythonsoftwarefoundation.python.3.10_qbz5n2kfra8p0\\localcache\\local-packages\\python310\\site-packages (from matplotlib->-r requirements.txt (line 8)) (10.3.0)\n",
      "Requirement already satisfied: pyparsing>=2.3.1 in c:\\users\\pol\\appdata\\local\\packages\\pythonsoftwarefoundation.python.3.10_qbz5n2kfra8p0\\localcache\\local-packages\\python310\\site-packages (from matplotlib->-r requirements.txt (line 8)) (3.1.2)\n",
      "Requirement already satisfied: python-dateutil>=2.7 in c:\\users\\pol\\appdata\\local\\packages\\pythonsoftwarefoundation.python.3.10_qbz5n2kfra8p0\\localcache\\local-packages\\python310\\site-packages (from matplotlib->-r requirements.txt (line 8)) (2.9.0.post0)\n",
      "Requirement already satisfied: tenacity>=6.2.0 in c:\\users\\pol\\appdata\\local\\packages\\pythonsoftwarefoundation.python.3.10_qbz5n2kfra8p0\\localcache\\local-packages\\python310\\site-packages (from plotly->-r requirements.txt (line 9)) (8.2.3)\n",
      "Requirement already satisfied: pytz>=2020.1 in c:\\users\\pol\\appdata\\local\\packages\\pythonsoftwarefoundation.python.3.10_qbz5n2kfra8p0\\localcache\\local-packages\\python310\\site-packages (from pandas->-r requirements.txt (line 10)) (2024.1)\n",
      "Requirement already satisfied: tzdata>=2022.7 in c:\\users\\pol\\appdata\\local\\packages\\pythonsoftwarefoundation.python.3.10_qbz5n2kfra8p0\\localcache\\local-packages\\python310\\site-packages (from pandas->-r requirements.txt (line 10)) (2023.3)\n",
      "Requirement already satisfied: pybind11>=2.2 in c:\\users\\pol\\appdata\\local\\packages\\pythonsoftwarefoundation.python.3.10_qbz5n2kfra8p0\\localcache\\local-packages\\python310\\site-packages (from fasttext->-r requirements.txt (line 11)) (2.12.0)\n",
      "Requirement already satisfied: fastjsonschema>=2.15 in c:\\users\\pol\\appdata\\local\\packages\\pythonsoftwarefoundation.python.3.10_qbz5n2kfra8p0\\localcache\\local-packages\\python310\\site-packages (from nbformat>=4.2.0->-r requirements.txt (line 12)) (2.19.1)\n",
      "Requirement already satisfied: jsonschema>=2.6 in c:\\users\\pol\\appdata\\local\\packages\\pythonsoftwarefoundation.python.3.10_qbz5n2kfra8p0\\localcache\\local-packages\\python310\\site-packages (from nbformat>=4.2.0->-r requirements.txt (line 12)) (4.22.0)\n",
      "Requirement already satisfied: jupyter-core!=5.0.*,>=4.12 in c:\\users\\pol\\appdata\\local\\packages\\pythonsoftwarefoundation.python.3.10_qbz5n2kfra8p0\\localcache\\local-packages\\python310\\site-packages (from nbformat>=4.2.0->-r requirements.txt (line 12)) (5.7.2)\n",
      "Requirement already satisfied: traitlets>=5.1 in c:\\users\\pol\\appdata\\local\\packages\\pythonsoftwarefoundation.python.3.10_qbz5n2kfra8p0\\localcache\\local-packages\\python310\\site-packages (from nbformat>=4.2.0->-r requirements.txt (line 12)) (5.14.2)\n",
      "Requirement already satisfied: attrs>=22.2.0 in c:\\users\\pol\\appdata\\local\\packages\\pythonsoftwarefoundation.python.3.10_qbz5n2kfra8p0\\localcache\\local-packages\\python310\\site-packages (from jsonschema>=2.6->nbformat>=4.2.0->-r requirements.txt (line 12)) (23.2.0)\n",
      "Requirement already satisfied: jsonschema-specifications>=2023.03.6 in c:\\users\\pol\\appdata\\local\\packages\\pythonsoftwarefoundation.python.3.10_qbz5n2kfra8p0\\localcache\\local-packages\\python310\\site-packages (from jsonschema>=2.6->nbformat>=4.2.0->-r requirements.txt (line 12)) (2023.12.1)\n",
      "Requirement already satisfied: referencing>=0.28.4 in c:\\users\\pol\\appdata\\local\\packages\\pythonsoftwarefoundation.python.3.10_qbz5n2kfra8p0\\localcache\\local-packages\\python310\\site-packages (from jsonschema>=2.6->nbformat>=4.2.0->-r requirements.txt (line 12)) (0.35.1)\n",
      "Requirement already satisfied: rpds-py>=0.7.1 in c:\\users\\pol\\appdata\\local\\packages\\pythonsoftwarefoundation.python.3.10_qbz5n2kfra8p0\\localcache\\local-packages\\python310\\site-packages (from jsonschema>=2.6->nbformat>=4.2.0->-r requirements.txt (line 12)) (0.18.1)\n",
      "Requirement already satisfied: platformdirs>=2.5 in c:\\users\\pol\\appdata\\local\\packages\\pythonsoftwarefoundation.python.3.10_qbz5n2kfra8p0\\localcache\\local-packages\\python310\\site-packages (from jupyter-core!=5.0.*,>=4.12->nbformat>=4.2.0->-r requirements.txt (line 12)) (4.2.2)\n",
      "Requirement already satisfied: pywin32>=300 in c:\\users\\pol\\appdata\\local\\packages\\pythonsoftwarefoundation.python.3.10_qbz5n2kfra8p0\\localcache\\local-packages\\python310\\site-packages (from jupyter-core!=5.0.*,>=4.12->nbformat>=4.2.0->-r requirements.txt (line 12)) (306)\n",
      "Requirement already satisfied: language-data>=1.2 in c:\\users\\pol\\appdata\\local\\packages\\pythonsoftwarefoundation.python.3.10_qbz5n2kfra8p0\\localcache\\local-packages\\python310\\site-packages (from langcodes<4.0.0,>=3.2.0->spacy->-r requirements.txt (line 3)) (1.2.0)\n",
      "Requirement already satisfied: intel-openmp==2021.* in c:\\users\\pol\\appdata\\local\\packages\\pythonsoftwarefoundation.python.3.10_qbz5n2kfra8p0\\localcache\\local-packages\\python310\\site-packages (from mkl<=2021.4.0,>=2021.1.1->torch->-r requirements.txt (line 6)) (2021.4.0)\n",
      "Requirement already satisfied: tbb==2021.* in c:\\users\\pol\\appdata\\local\\packages\\pythonsoftwarefoundation.python.3.10_qbz5n2kfra8p0\\localcache\\local-packages\\python310\\site-packages (from mkl<=2021.4.0,>=2021.1.1->torch->-r requirements.txt (line 6)) (2021.12.0)\n",
      "Requirement already satisfied: pathlib-abc==0.1.1 in c:\\users\\pol\\appdata\\local\\packages\\pythonsoftwarefoundation.python.3.10_qbz5n2kfra8p0\\localcache\\local-packages\\python310\\site-packages (from pathy>=0.3.5->spacy->-r requirements.txt (line 3)) (0.1.1)\n",
      "Requirement already satisfied: charset-normalizer<4,>=2 in c:\\users\\pol\\appdata\\local\\packages\\pythonsoftwarefoundation.python.3.10_qbz5n2kfra8p0\\localcache\\local-packages\\python310\\site-packages (from requests<3,>=2.21.0->tensorflow-intel==2.16.1->tensorflow->-r requirements.txt (line 1)) (3.3.2)\n",
      "Requirement already satisfied: idna<4,>=2.5 in c:\\users\\pol\\appdata\\local\\packages\\pythonsoftwarefoundation.python.3.10_qbz5n2kfra8p0\\localcache\\local-packages\\python310\\site-packages (from requests<3,>=2.21.0->tensorflow-intel==2.16.1->tensorflow->-r requirements.txt (line 1)) (3.7)\n",
      "Requirement already satisfied: urllib3<3,>=1.21.1 in c:\\users\\pol\\appdata\\local\\packages\\pythonsoftwarefoundation.python.3.10_qbz5n2kfra8p0\\localcache\\local-packages\\python310\\site-packages (from requests<3,>=2.21.0->tensorflow-intel==2.16.1->tensorflow->-r requirements.txt (line 1)) (1.26.18)\n",
      "Requirement already satisfied: certifi>=2017.4.17 in c:\\users\\pol\\appdata\\local\\packages\\pythonsoftwarefoundation.python.3.10_qbz5n2kfra8p0\\localcache\\local-packages\\python310\\site-packages (from requests<3,>=2.21.0->tensorflow-intel==2.16.1->tensorflow->-r requirements.txt (line 1)) (2024.6.2)\n",
      "Requirement already satisfied: blis<0.8.0,>=0.7.8 in c:\\users\\pol\\appdata\\local\\packages\\pythonsoftwarefoundation.python.3.10_qbz5n2kfra8p0\\localcache\\local-packages\\python310\\site-packages (from thinc<8.2.0,>=8.1.0->spacy->-r requirements.txt (line 3)) (0.7.11)\n",
      "Requirement already satisfied: confection<1.0.0,>=0.0.1 in c:\\users\\pol\\appdata\\local\\packages\\pythonsoftwarefoundation.python.3.10_qbz5n2kfra8p0\\localcache\\local-packages\\python310\\site-packages (from thinc<8.2.0,>=8.1.0->spacy->-r requirements.txt (line 3)) (0.1.5)\n",
      "Requirement already satisfied: colorama in c:\\users\\pol\\appdata\\local\\packages\\pythonsoftwarefoundation.python.3.10_qbz5n2kfra8p0\\localcache\\local-packages\\python310\\site-packages (from tqdm<5.0.0,>=4.38.0->spacy->-r requirements.txt (line 3)) (0.4.6)\n",
      "Requirement already satisfied: click<9.0.0,>=7.1.1 in c:\\users\\pol\\appdata\\local\\packages\\pythonsoftwarefoundation.python.3.10_qbz5n2kfra8p0\\localcache\\local-packages\\python310\\site-packages (from typer<0.8.0,>=0.3.0->spacy->-r requirements.txt (line 3)) (8.1.7)\n",
      "Requirement already satisfied: MarkupSafe>=2.0 in c:\\users\\pol\\appdata\\local\\packages\\pythonsoftwarefoundation.python.3.10_qbz5n2kfra8p0\\localcache\\local-packages\\python310\\site-packages (from jinja2->spacy->-r requirements.txt (line 3)) (2.1.5)\n",
      "Requirement already satisfied: mpmath>=0.19 in c:\\users\\pol\\appdata\\local\\packages\\pythonsoftwarefoundation.python.3.10_qbz5n2kfra8p0\\localcache\\local-packages\\python310\\site-packages (from sympy->torch->-r requirements.txt (line 6)) (1.3.0)\n",
      "Requirement already satisfied: wheel<1.0,>=0.23.0 in c:\\users\\pol\\appdata\\local\\packages\\pythonsoftwarefoundation.python.3.10_qbz5n2kfra8p0\\localcache\\local-packages\\python310\\site-packages (from astunparse>=1.6.0->tensorflow-intel==2.16.1->tensorflow->-r requirements.txt (line 1)) (0.43.0)\n",
      "Requirement already satisfied: rich in c:\\users\\pol\\appdata\\local\\packages\\pythonsoftwarefoundation.python.3.10_qbz5n2kfra8p0\\localcache\\local-packages\\python310\\site-packages (from keras>=3.0.0->tensorflow-intel==2.16.1->tensorflow->-r requirements.txt (line 1)) (13.7.1)\n",
      "Requirement already satisfied: namex in c:\\users\\pol\\appdata\\local\\packages\\pythonsoftwarefoundation.python.3.10_qbz5n2kfra8p0\\localcache\\local-packages\\python310\\site-packages (from keras>=3.0.0->tensorflow-intel==2.16.1->tensorflow->-r requirements.txt (line 1)) (0.0.8)\n",
      "Requirement already satisfied: optree in c:\\users\\pol\\appdata\\local\\packages\\pythonsoftwarefoundation.python.3.10_qbz5n2kfra8p0\\localcache\\local-packages\\python310\\site-packages (from keras>=3.0.0->tensorflow-intel==2.16.1->tensorflow->-r requirements.txt (line 1)) (0.11.0)\n",
      "Requirement already satisfied: marisa-trie>=0.7.7 in c:\\users\\pol\\appdata\\local\\packages\\pythonsoftwarefoundation.python.3.10_qbz5n2kfra8p0\\localcache\\local-packages\\python310\\site-packages (from language-data>=1.2->langcodes<4.0.0,>=3.2.0->spacy->-r requirements.txt (line 3)) (1.1.1)\n",
      "Requirement already satisfied: markdown>=2.6.8 in c:\\users\\pol\\appdata\\local\\packages\\pythonsoftwarefoundation.python.3.10_qbz5n2kfra8p0\\localcache\\local-packages\\python310\\site-packages (from tensorboard<2.17,>=2.16->tensorflow-intel==2.16.1->tensorflow->-r requirements.txt (line 1)) (3.6)\n",
      "Requirement already satisfied: tensorboard-data-server<0.8.0,>=0.7.0 in c:\\users\\pol\\appdata\\local\\packages\\pythonsoftwarefoundation.python.3.10_qbz5n2kfra8p0\\localcache\\local-packages\\python310\\site-packages (from tensorboard<2.17,>=2.16->tensorflow-intel==2.16.1->tensorflow->-r requirements.txt (line 1)) (0.7.2)\n",
      "Requirement already satisfied: werkzeug>=1.0.1 in c:\\users\\pol\\appdata\\local\\packages\\pythonsoftwarefoundation.python.3.10_qbz5n2kfra8p0\\localcache\\local-packages\\python310\\site-packages (from tensorboard<2.17,>=2.16->tensorflow-intel==2.16.1->tensorflow->-r requirements.txt (line 1)) (3.0.3)\n",
      "Requirement already satisfied: markdown-it-py>=2.2.0 in c:\\users\\pol\\appdata\\local\\packages\\pythonsoftwarefoundation.python.3.10_qbz5n2kfra8p0\\localcache\\local-packages\\python310\\site-packages (from rich->keras>=3.0.0->tensorflow-intel==2.16.1->tensorflow->-r requirements.txt (line 1)) (3.0.0)\n",
      "Requirement already satisfied: pygments<3.0.0,>=2.13.0 in c:\\users\\pol\\appdata\\local\\packages\\pythonsoftwarefoundation.python.3.10_qbz5n2kfra8p0\\localcache\\local-packages\\python310\\site-packages (from rich->keras>=3.0.0->tensorflow-intel==2.16.1->tensorflow->-r requirements.txt (line 1)) (2.18.0)\n",
      "Requirement already satisfied: mdurl~=0.1 in c:\\users\\pol\\appdata\\local\\packages\\pythonsoftwarefoundation.python.3.10_qbz5n2kfra8p0\\localcache\\local-packages\\python310\\site-packages (from markdown-it-py>=2.2.0->rich->keras>=3.0.0->tensorflow-intel==2.16.1->tensorflow->-r requirements.txt (line 1)) (0.1.2)\n",
      "Using cached scipy-1.10.1-cp310-cp310-win_amd64.whl (42.5 MB)\n",
      "Using cached pydantic-1.10.15-cp310-cp310-win_amd64.whl (2.1 MB)\n",
      "Using cached smart_open-6.4.0-py3-none-any.whl (57 kB)\n",
      "Using cached ml_dtypes-0.3.2-cp310-cp310-win_amd64.whl (127 kB)\n",
      "Using cached protobuf-4.25.3-cp310-abi3-win_amd64.whl (413 kB)\n",
      "Building wheels for collected packages: fasttext\n",
      "  Building wheel for fasttext (setup.py): started\n",
      "  Building wheel for fasttext (setup.py): finished with status 'error'\n",
      "  Running setup.py clean for fasttext\n",
      "Failed to build fasttext\n",
      "Note: you may need to restart the kernel to use updated packages.\n"
     ]
    },
    {
     "name": "stderr",
     "output_type": "stream",
     "text": [
      "  error: subprocess-exited-with-error\n",
      "  \n",
      "  × python setup.py bdist_wheel did not run successfully.\n",
      "  │ exit code: 1\n",
      "  ╰─> [33 lines of output]\n",
      "      C:\\Users\\Pol\\AppData\\Local\\Packages\\PythonSoftwareFoundation.Python.3.10_qbz5n2kfra8p0\\LocalCache\\local-packages\\Python310\\site-packages\\setuptools\\dist.py:476: SetuptoolsDeprecationWarning: Invalid dash-separated options\n",
      "      !!\n",
      "      \n",
      "              ********************************************************************************\n",
      "              Usage of dash-separated 'description-file' will not be supported in future\n",
      "              versions. Please use the underscore name 'description_file' instead.\n",
      "      \n",
      "              By 2024-Sep-26, you need to update your project and remove deprecated calls\n",
      "              or your builds will no longer be supported.\n",
      "      \n",
      "              See https://setuptools.pypa.io/en/latest/userguide/declarative_config.html for details.\n",
      "              ********************************************************************************\n",
      "      \n",
      "      !!\n",
      "        opt = self.warn_dash_deprecation(opt, section)\n",
      "      running bdist_wheel\n",
      "      running build\n",
      "      running build_py\n",
      "      creating build\n",
      "      creating build\\lib.win-amd64-cpython-310\n",
      "      creating build\\lib.win-amd64-cpython-310\\fasttext\n",
      "      copying python\\fasttext_module\\fasttext\\FastText.py -> build\\lib.win-amd64-cpython-310\\fasttext\n",
      "      copying python\\fasttext_module\\fasttext\\__init__.py -> build\\lib.win-amd64-cpython-310\\fasttext\n",
      "      creating build\\lib.win-amd64-cpython-310\\fasttext\\util\n",
      "      copying python\\fasttext_module\\fasttext\\util\\util.py -> build\\lib.win-amd64-cpython-310\\fasttext\\util\n",
      "      copying python\\fasttext_module\\fasttext\\util\\__init__.py -> build\\lib.win-amd64-cpython-310\\fasttext\\util\n",
      "      creating build\\lib.win-amd64-cpython-310\\fasttext\\tests\n",
      "      copying python\\fasttext_module\\fasttext\\tests\\test_configurations.py -> build\\lib.win-amd64-cpython-310\\fasttext\\tests\n",
      "      copying python\\fasttext_module\\fasttext\\tests\\test_script.py -> build\\lib.win-amd64-cpython-310\\fasttext\\tests\n",
      "      copying python\\fasttext_module\\fasttext\\tests\\__init__.py -> build\\lib.win-amd64-cpython-310\\fasttext\\tests\n",
      "      running build_ext\n",
      "      building 'fasttext_pybind' extension\n",
      "      error: Microsoft Visual C++ 14.0 or greater is required. Get it with \"Microsoft C++ Build Tools\": https://visualstudio.microsoft.com/visual-cpp-build-tools/\n",
      "      [end of output]\n",
      "  \n",
      "  note: This error originates from a subprocess, and is likely not a problem with pip.\n",
      "  ERROR: Failed building wheel for fasttext\n",
      "ERROR: Could not build wheels for fasttext, which is required to install pyproject.toml-based projects\n"
     ]
    }
   ],
   "source": [
    "%pip install -r requirements.txt"
   ]
  },
  {
   "cell_type": "code",
   "execution_count": 3,
   "metadata": {},
   "outputs": [
    {
     "ename": "KeyboardInterrupt",
     "evalue": "",
     "output_type": "error",
     "traceback": [
      "\u001b[1;31m---------------------------------------------------------------------------\u001b[0m",
      "\u001b[1;31mKeyboardInterrupt\u001b[0m                         Traceback (most recent call last)",
      "Cell \u001b[1;32mIn[3], line 1\u001b[0m\n\u001b[1;32m----> 1\u001b[0m \u001b[38;5;28;01mimport\u001b[39;00m \u001b[38;5;21;01mtensorflow\u001b[39;00m \u001b[38;5;28;01mas\u001b[39;00m \u001b[38;5;21;01mtf\u001b[39;00m\n\u001b[0;32m      2\u001b[0m \u001b[38;5;28;01mimport\u001b[39;00m \u001b[38;5;21;01mnumpy\u001b[39;00m \u001b[38;5;28;01mas\u001b[39;00m \u001b[38;5;21;01mnp\u001b[39;00m\n\u001b[0;32m      3\u001b[0m \u001b[38;5;28;01mimport\u001b[39;00m \u001b[38;5;21;01mnltk\u001b[39;00m\n",
      "File \u001b[1;32m~\\AppData\\Local\\Packages\\PythonSoftwareFoundation.Python.3.10_qbz5n2kfra8p0\\LocalCache\\local-packages\\Python310\\site-packages\\tensorflow\\__init__.py:45\u001b[0m\n\u001b[0;32m     42\u001b[0m \u001b[38;5;28;01mfrom\u001b[39;00m \u001b[38;5;21;01mtensorflow\u001b[39;00m\u001b[38;5;21;01m.\u001b[39;00m\u001b[38;5;21;01mpython\u001b[39;00m \u001b[38;5;28;01mimport\u001b[39;00m tf2 \u001b[38;5;28;01mas\u001b[39;00m _tf2\n\u001b[0;32m     43\u001b[0m _tf2\u001b[38;5;241m.\u001b[39menable()\n\u001b[1;32m---> 45\u001b[0m \u001b[38;5;28;01mfrom\u001b[39;00m \u001b[38;5;21;01mtensorflow\u001b[39;00m\u001b[38;5;21;01m.\u001b[39;00m\u001b[38;5;21;01m_api\u001b[39;00m\u001b[38;5;21;01m.\u001b[39;00m\u001b[38;5;21;01mv2\u001b[39;00m \u001b[38;5;28;01mimport\u001b[39;00m __internal__\n\u001b[0;32m     46\u001b[0m \u001b[38;5;28;01mfrom\u001b[39;00m \u001b[38;5;21;01mtensorflow\u001b[39;00m\u001b[38;5;21;01m.\u001b[39;00m\u001b[38;5;21;01m_api\u001b[39;00m\u001b[38;5;21;01m.\u001b[39;00m\u001b[38;5;21;01mv2\u001b[39;00m \u001b[38;5;28;01mimport\u001b[39;00m __operators__\n\u001b[0;32m     47\u001b[0m \u001b[38;5;28;01mfrom\u001b[39;00m \u001b[38;5;21;01mtensorflow\u001b[39;00m\u001b[38;5;21;01m.\u001b[39;00m\u001b[38;5;21;01m_api\u001b[39;00m\u001b[38;5;21;01m.\u001b[39;00m\u001b[38;5;21;01mv2\u001b[39;00m \u001b[38;5;28;01mimport\u001b[39;00m audio\n",
      "File \u001b[1;32m~\\AppData\\Local\\Packages\\PythonSoftwareFoundation.Python.3.10_qbz5n2kfra8p0\\LocalCache\\local-packages\\Python310\\site-packages\\tensorflow\\_api\\v2\\__internal__\\__init__.py:8\u001b[0m\n\u001b[0;32m      3\u001b[0m \u001b[38;5;124;03m\"\"\"Public API for tf._api.v2.__internal__ namespace\u001b[39;00m\n\u001b[0;32m      4\u001b[0m \u001b[38;5;124;03m\"\"\"\u001b[39;00m\n\u001b[0;32m      6\u001b[0m \u001b[38;5;28;01mimport\u001b[39;00m \u001b[38;5;21;01msys\u001b[39;00m \u001b[38;5;28;01mas\u001b[39;00m \u001b[38;5;21;01m_sys\u001b[39;00m\n\u001b[1;32m----> 8\u001b[0m \u001b[38;5;28;01mfrom\u001b[39;00m \u001b[38;5;21;01mtensorflow\u001b[39;00m\u001b[38;5;21;01m.\u001b[39;00m\u001b[38;5;21;01m_api\u001b[39;00m\u001b[38;5;21;01m.\u001b[39;00m\u001b[38;5;21;01mv2\u001b[39;00m\u001b[38;5;21;01m.\u001b[39;00m\u001b[38;5;21;01m__internal__\u001b[39;00m \u001b[38;5;28;01mimport\u001b[39;00m autograph\n\u001b[0;32m      9\u001b[0m \u001b[38;5;28;01mfrom\u001b[39;00m \u001b[38;5;21;01mtensorflow\u001b[39;00m\u001b[38;5;21;01m.\u001b[39;00m\u001b[38;5;21;01m_api\u001b[39;00m\u001b[38;5;21;01m.\u001b[39;00m\u001b[38;5;21;01mv2\u001b[39;00m\u001b[38;5;21;01m.\u001b[39;00m\u001b[38;5;21;01m__internal__\u001b[39;00m \u001b[38;5;28;01mimport\u001b[39;00m decorator\n\u001b[0;32m     10\u001b[0m \u001b[38;5;28;01mfrom\u001b[39;00m \u001b[38;5;21;01mtensorflow\u001b[39;00m\u001b[38;5;21;01m.\u001b[39;00m\u001b[38;5;21;01m_api\u001b[39;00m\u001b[38;5;21;01m.\u001b[39;00m\u001b[38;5;21;01mv2\u001b[39;00m\u001b[38;5;21;01m.\u001b[39;00m\u001b[38;5;21;01m__internal__\u001b[39;00m \u001b[38;5;28;01mimport\u001b[39;00m dispatch\n",
      "File \u001b[1;32m~\\AppData\\Local\\Packages\\PythonSoftwareFoundation.Python.3.10_qbz5n2kfra8p0\\LocalCache\\local-packages\\Python310\\site-packages\\tensorflow\\_api\\v2\\__internal__\\autograph\\__init__.py:8\u001b[0m\n\u001b[0;32m      3\u001b[0m \u001b[38;5;124;03m\"\"\"Public API for tf._api.v2.__internal__.autograph namespace\u001b[39;00m\n\u001b[0;32m      4\u001b[0m \u001b[38;5;124;03m\"\"\"\u001b[39;00m\n\u001b[0;32m      6\u001b[0m \u001b[38;5;28;01mimport\u001b[39;00m \u001b[38;5;21;01msys\u001b[39;00m \u001b[38;5;28;01mas\u001b[39;00m \u001b[38;5;21;01m_sys\u001b[39;00m\n\u001b[1;32m----> 8\u001b[0m \u001b[38;5;28;01mfrom\u001b[39;00m \u001b[38;5;21;01mtensorflow\u001b[39;00m\u001b[38;5;21;01m.\u001b[39;00m\u001b[38;5;21;01mpython\u001b[39;00m\u001b[38;5;21;01m.\u001b[39;00m\u001b[38;5;21;01mautograph\u001b[39;00m\u001b[38;5;21;01m.\u001b[39;00m\u001b[38;5;21;01mcore\u001b[39;00m\u001b[38;5;21;01m.\u001b[39;00m\u001b[38;5;21;01mag_ctx\u001b[39;00m \u001b[38;5;28;01mimport\u001b[39;00m control_status_ctx \u001b[38;5;66;03m# line: 34\u001b[39;00m\n\u001b[0;32m      9\u001b[0m \u001b[38;5;28;01mfrom\u001b[39;00m \u001b[38;5;21;01mtensorflow\u001b[39;00m\u001b[38;5;21;01m.\u001b[39;00m\u001b[38;5;21;01mpython\u001b[39;00m\u001b[38;5;21;01m.\u001b[39;00m\u001b[38;5;21;01mautograph\u001b[39;00m\u001b[38;5;21;01m.\u001b[39;00m\u001b[38;5;21;01mimpl\u001b[39;00m\u001b[38;5;21;01m.\u001b[39;00m\u001b[38;5;21;01mapi\u001b[39;00m \u001b[38;5;28;01mimport\u001b[39;00m tf_convert \u001b[38;5;66;03m# line: 493\u001b[39;00m\n",
      "File \u001b[1;32m~\\AppData\\Local\\Packages\\PythonSoftwareFoundation.Python.3.10_qbz5n2kfra8p0\\LocalCache\\local-packages\\Python310\\site-packages\\tensorflow\\python\\autograph\\core\\ag_ctx.py:21\u001b[0m\n\u001b[0;32m     18\u001b[0m \u001b[38;5;28;01mimport\u001b[39;00m \u001b[38;5;21;01minspect\u001b[39;00m\n\u001b[0;32m     19\u001b[0m \u001b[38;5;28;01mimport\u001b[39;00m \u001b[38;5;21;01mthreading\u001b[39;00m\n\u001b[1;32m---> 21\u001b[0m \u001b[38;5;28;01mfrom\u001b[39;00m \u001b[38;5;21;01mtensorflow\u001b[39;00m\u001b[38;5;21;01m.\u001b[39;00m\u001b[38;5;21;01mpython\u001b[39;00m\u001b[38;5;21;01m.\u001b[39;00m\u001b[38;5;21;01mautograph\u001b[39;00m\u001b[38;5;21;01m.\u001b[39;00m\u001b[38;5;21;01mutils\u001b[39;00m \u001b[38;5;28;01mimport\u001b[39;00m ag_logging\n\u001b[0;32m     22\u001b[0m \u001b[38;5;28;01mfrom\u001b[39;00m \u001b[38;5;21;01mtensorflow\u001b[39;00m\u001b[38;5;21;01m.\u001b[39;00m\u001b[38;5;21;01mpython\u001b[39;00m\u001b[38;5;21;01m.\u001b[39;00m\u001b[38;5;21;01mutil\u001b[39;00m\u001b[38;5;21;01m.\u001b[39;00m\u001b[38;5;21;01mtf_export\u001b[39;00m \u001b[38;5;28;01mimport\u001b[39;00m tf_export\n\u001b[0;32m     25\u001b[0m stacks \u001b[38;5;241m=\u001b[39m threading\u001b[38;5;241m.\u001b[39mlocal()\n",
      "File \u001b[1;32m~\\AppData\\Local\\Packages\\PythonSoftwareFoundation.Python.3.10_qbz5n2kfra8p0\\LocalCache\\local-packages\\Python310\\site-packages\\tensorflow\\python\\autograph\\utils\\__init__.py:17\u001b[0m\n\u001b[0;32m      1\u001b[0m \u001b[38;5;66;03m# Copyright 2016 The TensorFlow Authors. All Rights Reserved.\u001b[39;00m\n\u001b[0;32m      2\u001b[0m \u001b[38;5;66;03m#\u001b[39;00m\n\u001b[0;32m      3\u001b[0m \u001b[38;5;66;03m# Licensed under the Apache License, Version 2.0 (the \"License\");\u001b[39;00m\n\u001b[1;32m   (...)\u001b[0m\n\u001b[0;32m     13\u001b[0m \u001b[38;5;66;03m# limitations under the License.\u001b[39;00m\n\u001b[0;32m     14\u001b[0m \u001b[38;5;66;03m# ==============================================================================\u001b[39;00m\n\u001b[0;32m     15\u001b[0m \u001b[38;5;124;03m\"\"\"Utility module that contains APIs usable in the generated code.\"\"\"\u001b[39;00m\n\u001b[1;32m---> 17\u001b[0m \u001b[38;5;28;01mfrom\u001b[39;00m \u001b[38;5;21;01mtensorflow\u001b[39;00m\u001b[38;5;21;01m.\u001b[39;00m\u001b[38;5;21;01mpython\u001b[39;00m\u001b[38;5;21;01m.\u001b[39;00m\u001b[38;5;21;01mautograph\u001b[39;00m\u001b[38;5;21;01m.\u001b[39;00m\u001b[38;5;21;01mutils\u001b[39;00m\u001b[38;5;21;01m.\u001b[39;00m\u001b[38;5;21;01mcontext_managers\u001b[39;00m \u001b[38;5;28;01mimport\u001b[39;00m control_dependency_on_returns\n\u001b[0;32m     18\u001b[0m \u001b[38;5;28;01mfrom\u001b[39;00m \u001b[38;5;21;01mtensorflow\u001b[39;00m\u001b[38;5;21;01m.\u001b[39;00m\u001b[38;5;21;01mpython\u001b[39;00m\u001b[38;5;21;01m.\u001b[39;00m\u001b[38;5;21;01mautograph\u001b[39;00m\u001b[38;5;21;01m.\u001b[39;00m\u001b[38;5;21;01mutils\u001b[39;00m\u001b[38;5;21;01m.\u001b[39;00m\u001b[38;5;21;01mmisc\u001b[39;00m \u001b[38;5;28;01mimport\u001b[39;00m alias_tensors\n\u001b[0;32m     19\u001b[0m \u001b[38;5;28;01mfrom\u001b[39;00m \u001b[38;5;21;01mtensorflow\u001b[39;00m\u001b[38;5;21;01m.\u001b[39;00m\u001b[38;5;21;01mpython\u001b[39;00m\u001b[38;5;21;01m.\u001b[39;00m\u001b[38;5;21;01mautograph\u001b[39;00m\u001b[38;5;21;01m.\u001b[39;00m\u001b[38;5;21;01mutils\u001b[39;00m\u001b[38;5;21;01m.\u001b[39;00m\u001b[38;5;21;01mtensor_list\u001b[39;00m \u001b[38;5;28;01mimport\u001b[39;00m dynamic_list_append\n",
      "File \u001b[1;32m~\\AppData\\Local\\Packages\\PythonSoftwareFoundation.Python.3.10_qbz5n2kfra8p0\\LocalCache\\local-packages\\Python310\\site-packages\\tensorflow\\python\\autograph\\utils\\context_managers.py:19\u001b[0m\n\u001b[0;32m     15\u001b[0m \u001b[38;5;124;03m\"\"\"Various context managers.\"\"\"\u001b[39;00m\n\u001b[0;32m     17\u001b[0m \u001b[38;5;28;01mimport\u001b[39;00m \u001b[38;5;21;01mcontextlib\u001b[39;00m\n\u001b[1;32m---> 19\u001b[0m \u001b[38;5;28;01mfrom\u001b[39;00m \u001b[38;5;21;01mtensorflow\u001b[39;00m\u001b[38;5;21;01m.\u001b[39;00m\u001b[38;5;21;01mpython\u001b[39;00m\u001b[38;5;21;01m.\u001b[39;00m\u001b[38;5;21;01mframework\u001b[39;00m \u001b[38;5;28;01mimport\u001b[39;00m ops\n\u001b[0;32m     20\u001b[0m \u001b[38;5;28;01mfrom\u001b[39;00m \u001b[38;5;21;01mtensorflow\u001b[39;00m\u001b[38;5;21;01m.\u001b[39;00m\u001b[38;5;21;01mpython\u001b[39;00m\u001b[38;5;21;01m.\u001b[39;00m\u001b[38;5;21;01mops\u001b[39;00m \u001b[38;5;28;01mimport\u001b[39;00m tensor_array_ops\n\u001b[0;32m     23\u001b[0m \u001b[38;5;28;01mdef\u001b[39;00m \u001b[38;5;21mcontrol_dependency_on_returns\u001b[39m(return_value):\n",
      "File \u001b[1;32m~\\AppData\\Local\\Packages\\PythonSoftwareFoundation.Python.3.10_qbz5n2kfra8p0\\LocalCache\\local-packages\\Python310\\site-packages\\tensorflow\\python\\framework\\ops.py:45\u001b[0m\n\u001b[0;32m     41\u001b[0m \u001b[38;5;28;01mfrom\u001b[39;00m \u001b[38;5;21;01mtensorflow\u001b[39;00m\u001b[38;5;21;01m.\u001b[39;00m\u001b[38;5;21;01mcore\u001b[39;00m\u001b[38;5;21;01m.\u001b[39;00m\u001b[38;5;21;01mprotobuf\u001b[39;00m \u001b[38;5;28;01mimport\u001b[39;00m config_pb2\n\u001b[0;32m     42\u001b[0m \u001b[38;5;66;03m# pywrap_tensorflow must be imported first to avoid protobuf issues.\u001b[39;00m\n\u001b[0;32m     43\u001b[0m \u001b[38;5;66;03m# (b/143110113)\u001b[39;00m\n\u001b[0;32m     44\u001b[0m \u001b[38;5;66;03m# pylint: disable=invalid-import-order,g-bad-import-order,unused-import\u001b[39;00m\n\u001b[1;32m---> 45\u001b[0m \u001b[38;5;28;01mfrom\u001b[39;00m \u001b[38;5;21;01mtensorflow\u001b[39;00m\u001b[38;5;21;01m.\u001b[39;00m\u001b[38;5;21;01mpython\u001b[39;00m \u001b[38;5;28;01mimport\u001b[39;00m pywrap_tensorflow\n\u001b[0;32m     46\u001b[0m \u001b[38;5;28;01mfrom\u001b[39;00m \u001b[38;5;21;01mtensorflow\u001b[39;00m\u001b[38;5;21;01m.\u001b[39;00m\u001b[38;5;21;01mpython\u001b[39;00m \u001b[38;5;28;01mimport\u001b[39;00m pywrap_tfe\n\u001b[0;32m     47\u001b[0m \u001b[38;5;66;03m# pylint: enable=invalid-import-order,g-bad-import-order,unused-import\u001b[39;00m\n",
      "File \u001b[1;32m~\\AppData\\Local\\Packages\\PythonSoftwareFoundation.Python.3.10_qbz5n2kfra8p0\\LocalCache\\local-packages\\Python310\\site-packages\\tensorflow\\python\\pywrap_tensorflow.py:70\u001b[0m\n\u001b[0;32m     68\u001b[0m \u001b[38;5;66;03m# pylint: disable=wildcard-import,g-import-not-at-top,line-too-long,undefined-variable\u001b[39;00m\n\u001b[0;32m     69\u001b[0m \u001b[38;5;28;01mtry\u001b[39;00m:\n\u001b[1;32m---> 70\u001b[0m   \u001b[38;5;28;01mfrom\u001b[39;00m \u001b[38;5;21;01mtensorflow\u001b[39;00m\u001b[38;5;21;01m.\u001b[39;00m\u001b[38;5;21;01mpython\u001b[39;00m\u001b[38;5;21;01m.\u001b[39;00m\u001b[38;5;21;01m_pywrap_tensorflow_internal\u001b[39;00m \u001b[38;5;28;01mimport\u001b[39;00m \u001b[38;5;241m*\u001b[39m\n\u001b[0;32m     71\u001b[0m \u001b[38;5;66;03m# This try catch logic is because there is no bazel equivalent for py_extension.\u001b[39;00m\n\u001b[0;32m     72\u001b[0m \u001b[38;5;66;03m# Externally in opensource we must enable exceptions to load the shared object\u001b[39;00m\n\u001b[0;32m     73\u001b[0m \u001b[38;5;66;03m# by exposing the PyInit symbols with pybind. This error will only be\u001b[39;00m\n\u001b[0;32m     74\u001b[0m \u001b[38;5;66;03m# caught internally or if someone changes the name of the target _pywrap_tensorflow_internal.\u001b[39;00m\n\u001b[0;32m     75\u001b[0m \n\u001b[0;32m     76\u001b[0m \u001b[38;5;66;03m# This logic is used in other internal projects using py_extension.\u001b[39;00m\n\u001b[0;32m     77\u001b[0m \u001b[38;5;28;01mexcept\u001b[39;00m \u001b[38;5;167;01mModuleNotFoundError\u001b[39;00m:\n",
      "\u001b[1;31mKeyboardInterrupt\u001b[0m: "
     ]
    }
   ],
   "source": [
    "import tensorflow as tf\n",
    "import numpy as np\n",
    "import nltk\n",
    "import re\n",
    "import spacy\n",
    "from spacy.lang.ca.examples import sentences \n",
    "from gensim.models import word2vec\n",
    "import torch\n",
    "import plotly.express as px\n",
    "import pandas as pd\n",
    "from sklearn.manifold import TSNE\n",
    "\n",
    "import os\n",
    "os.environ[\"CUDA_DEVICE_ORDER\"] = \"PCI_BUS_ID\"\n",
    "os.environ[\"CUDA_VISIBLE_DEVICES\"] = \"0\"\n",
    "\n",
    "# Requisites\n",
    "from gensim.utils import simple_preprocess\n",
    "from gensim.corpora import Dictionary\n",
    "import numpy as np\n",
    "\n",
    "\n",
    "nltk.download('punkt')\n",
    "nltk.download('stopwords')\n",
    "\n",
    "spacy.cli.download(\"ca_core_news_sm\")\n"
   ]
  },
  {
   "cell_type": "markdown",
   "metadata": {},
   "source": [
    "## Entrenament model Word2Vec"
   ]
  },
  {
   "cell_type": "code",
   "execution_count": null,
   "metadata": {},
   "outputs": [],
   "source": [
    "class Word2VecEmbedder:\n",
    "    def __init__(self, corpus_path, corpus_size, load_model=False, model_path=None):\n",
    "        if not load_model:\n",
    "            self.corpus_path = corpus_path\n",
    "            self.corpus_size = int(corpus_size * 2**30)  # Convert GB to bytes\n",
    "            self.corpus = self.get_corpus(corpus_path)\n",
    "            self.fit()\n",
    "        else:\n",
    "            try:\n",
    "                self.load(model_path)\n",
    "            except FileNotFoundError:\n",
    "                print(\"Model not found. Please check the path.\")\n",
    "                return\n",
    "\n",
    "    def get_corpus(self, corpus_path):\n",
    "        with open(corpus_path, 'r', encoding='utf-8') as f:\n",
    "            print(\"Reading corpus...\")\n",
    "            corpus = f.read(self.corpus_size)\n",
    "            print(\"Preprocessing corpus...\")\n",
    "            corpus = self.preprocess(corpus)  # Preprocess the corpus and tokenize it\n",
    "        return corpus\n",
    "\n",
    "    def fit(self, window_size=15, vector_size=300, min_count=10, workers=8, epochs=10):\n",
    "        # Initialize the Word2Vec model with gensim\n",
    "        print(\"Initializing Word2Vec model...\")\n",
    "        self.model = word2vec.Word2Vec(sentences=[self.corpus], vector_size=vector_size, window=window_size, min_count=min_count, workers=workers, epochs=epochs)\n",
    "        print(\"Model training completed.\")\n",
    "\n",
    "    def save(self, model_path):\n",
    "        # Save the model\n",
    "        self.model.save(model_path)\n",
    "\n",
    "    def load(self, model_path):\n",
    "        # Load the model\n",
    "        self.model = word2vec.Word2Vec.load(model_path)\n",
    "\n",
    "    def preprocess(self, corpus):\n",
    "        # Lowercase the corpus\n",
    "        print(\"Lowercasing...\")\n",
    "        corpus = corpus.lower()\n",
    "        \n",
    "        # Remove special characters\n",
    "        print(\"Removing special characters...\")\n",
    "        corpus = re.sub(r'[^a-záàéèíìóòúùñüç\\s]', ' ', corpus)\n",
    "        \n",
    "        # Tokenize the corpus\n",
    "        print(\"Tokenizing...\")\n",
    "        corpus = nltk.word_tokenize(corpus)\n",
    "        \n",
    "        # Eliminate last token (probably incomplete word)\n",
    "        corpus = corpus[:-1]\n",
    "        \n",
    "        return corpus\n",
    "\n",
    "    def get_embedding(self, word):\n",
    "        # Get the embedding of a word\n",
    "        try:\n",
    "            return self.model.wv[word]\n",
    "        except KeyError:\n",
    "            print(f\"Word '{word}' not in vocabulary.\")\n",
    "            return None\n",
    "\n",
    "    def print_vocab(self):\n",
    "        print(\"Vocabulary:\", list(self.model.wv.index_to_key))\n",
    "        \n",
    "    "
   ]
  },
  {
   "cell_type": "markdown",
   "metadata": {},
   "source": [
    "### 1. Model amb 100MB de dades"
   ]
  },
  {
   "cell_type": "code",
   "execution_count": null,
   "metadata": {},
   "outputs": [],
   "source": [
    "Word2Vec_model = Word2VecEmbedder('corpus\\catalan_general_crawling.txt', 0.1)"
   ]
  },
  {
   "cell_type": "code",
   "execution_count": null,
   "metadata": {},
   "outputs": [],
   "source": [
    "Word2Vec_model.save('models/word2vec_model.bin')"
   ]
  },
  {
   "cell_type": "code",
   "execution_count": null,
   "metadata": {},
   "outputs": [],
   "source": [
    "Word2Vec_model.print_vocab()"
   ]
  },
  {
   "cell_type": "code",
   "execution_count": null,
   "metadata": {},
   "outputs": [],
   "source": [
    "Word2Vec_model.get_embedding(\"de\")"
   ]
  },
  {
   "cell_type": "code",
   "execution_count": null,
   "metadata": {},
   "outputs": [],
   "source": [
    "Word2Vec_model.model.wv.most_similar(\"negre\")"
   ]
  },
  {
   "cell_type": "markdown",
   "metadata": {},
   "source": [
    "### 2. Model amb 500MB de dades"
   ]
  },
  {
   "cell_type": "code",
   "execution_count": null,
   "metadata": {},
   "outputs": [],
   "source": [
    "Word2Vec_model_500 = Word2VecEmbedder('corpus\\catalan_general_crawling.txt', 0.5)"
   ]
  },
  {
   "cell_type": "code",
   "execution_count": null,
   "metadata": {},
   "outputs": [],
   "source": [
    "Word2Vec_model.get_embedding(\"hola\")"
   ]
  },
  {
   "cell_type": "code",
   "execution_count": null,
   "metadata": {},
   "outputs": [],
   "source": [
    "Word2Vec_model_500.model.wv.most_similar(\"inshalla\")"
   ]
  },
  {
   "cell_type": "markdown",
   "metadata": {},
   "source": [
    "### 3. Model amb 1GB de dades"
   ]
  },
  {
   "cell_type": "code",
   "execution_count": null,
   "metadata": {},
   "outputs": [],
   "source": [
    "Word2Vec_model_1024 = Word2VecEmbedder('corpus\\catalan_general_crawling.txt', 1)"
   ]
  },
  {
   "cell_type": "code",
   "execution_count": null,
   "metadata": {},
   "outputs": [],
   "source": [
    "Word2Vec_model.get_embedding(\"hola\")"
   ]
  },
  {
   "cell_type": "markdown",
   "metadata": {},
   "source": [
    "## Entrenament model de Similitud de Text Semàntic"
   ]
  },
  {
   "cell_type": "markdown",
   "metadata": {},
   "source": [
    "### Imports"
   ]
  },
  {
   "cell_type": "code",
   "execution_count": 4,
   "metadata": {},
   "outputs": [
    {
     "ename": "ImportError",
     "evalue": "cannot import name 'triu' from 'scipy.linalg' (C:\\Users\\Pol\\AppData\\Local\\Packages\\PythonSoftwareFoundation.Python.3.10_qbz5n2kfra8p0\\LocalCache\\local-packages\\Python310\\site-packages\\scipy\\linalg\\__init__.py)",
     "output_type": "error",
     "traceback": [
      "\u001b[1;31m---------------------------------------------------------------------------\u001b[0m",
      "\u001b[1;31mImportError\u001b[0m                               Traceback (most recent call last)",
      "Cell \u001b[1;32mIn[4], line 1\u001b[0m\n\u001b[1;32m----> 1\u001b[0m \u001b[38;5;28;01mfrom\u001b[39;00m \u001b[38;5;21;01mimportació_data\u001b[39;00m \u001b[38;5;28;01mimport\u001b[39;00m read_all_ts_data, reformat_data, create_corpus, preprocess, flattened_corpus_count\n",
      "File \u001b[1;32mc:\\Users\\Pol\\Desktop\\1_Uni\\Q4\\PLH\\PLH-WordEmbeddings\\importació_data.py:2\u001b[0m\n\u001b[0;32m      1\u001b[0m \u001b[38;5;28;01mimport\u001b[39;00m \u001b[38;5;21;01mpandas\u001b[39;00m \u001b[38;5;28;01mas\u001b[39;00m \u001b[38;5;21;01mpd\u001b[39;00m\n\u001b[1;32m----> 2\u001b[0m \u001b[38;5;28;01mfrom\u001b[39;00m \u001b[38;5;21;01mgensim\u001b[39;00m\u001b[38;5;21;01m.\u001b[39;00m\u001b[38;5;21;01mcorpora\u001b[39;00m \u001b[38;5;28;01mimport\u001b[39;00m Dictionary\n\u001b[0;32m      3\u001b[0m \u001b[38;5;28;01mfrom\u001b[39;00m \u001b[38;5;21;01mgensim\u001b[39;00m\u001b[38;5;21;01m.\u001b[39;00m\u001b[38;5;21;01mutils\u001b[39;00m \u001b[38;5;28;01mimport\u001b[39;00m simple_preprocess\n\u001b[0;32m      4\u001b[0m \u001b[38;5;28;01mfrom\u001b[39;00m \u001b[38;5;21;01mtyping\u001b[39;00m \u001b[38;5;28;01mimport\u001b[39;00m List, Tuple, Callable\n",
      "File \u001b[1;32m~\\AppData\\Local\\Packages\\PythonSoftwareFoundation.Python.3.10_qbz5n2kfra8p0\\LocalCache\\local-packages\\Python310\\site-packages\\gensim\\__init__.py:11\u001b[0m\n\u001b[0;32m      7\u001b[0m __version__ \u001b[38;5;241m=\u001b[39m \u001b[38;5;124m'\u001b[39m\u001b[38;5;124m4.3.2\u001b[39m\u001b[38;5;124m'\u001b[39m\n\u001b[0;32m      9\u001b[0m \u001b[38;5;28;01mimport\u001b[39;00m \u001b[38;5;21;01mlogging\u001b[39;00m\n\u001b[1;32m---> 11\u001b[0m \u001b[38;5;28;01mfrom\u001b[39;00m \u001b[38;5;21;01mgensim\u001b[39;00m \u001b[38;5;28;01mimport\u001b[39;00m parsing, corpora, matutils, interfaces, models, similarities, utils  \u001b[38;5;66;03m# noqa:F401\u001b[39;00m\n\u001b[0;32m     14\u001b[0m logger \u001b[38;5;241m=\u001b[39m logging\u001b[38;5;241m.\u001b[39mgetLogger(\u001b[38;5;124m'\u001b[39m\u001b[38;5;124mgensim\u001b[39m\u001b[38;5;124m'\u001b[39m)\n\u001b[0;32m     15\u001b[0m \u001b[38;5;28;01mif\u001b[39;00m \u001b[38;5;129;01mnot\u001b[39;00m logger\u001b[38;5;241m.\u001b[39mhandlers:  \u001b[38;5;66;03m# To ensure reload() doesn't add another one\u001b[39;00m\n",
      "File \u001b[1;32m~\\AppData\\Local\\Packages\\PythonSoftwareFoundation.Python.3.10_qbz5n2kfra8p0\\LocalCache\\local-packages\\Python310\\site-packages\\gensim\\corpora\\__init__.py:6\u001b[0m\n\u001b[0;32m      1\u001b[0m \u001b[38;5;124;03m\"\"\"\u001b[39;00m\n\u001b[0;32m      2\u001b[0m \u001b[38;5;124;03mThis package contains implementations of various streaming corpus I/O format.\u001b[39;00m\n\u001b[0;32m      3\u001b[0m \u001b[38;5;124;03m\"\"\"\u001b[39;00m\n\u001b[0;32m      5\u001b[0m \u001b[38;5;66;03m# bring corpus classes directly into package namespace, to save some typing\u001b[39;00m\n\u001b[1;32m----> 6\u001b[0m \u001b[38;5;28;01mfrom\u001b[39;00m \u001b[38;5;21;01m.\u001b[39;00m\u001b[38;5;21;01mindexedcorpus\u001b[39;00m \u001b[38;5;28;01mimport\u001b[39;00m IndexedCorpus  \u001b[38;5;66;03m# noqa:F401 must appear before the other classes\u001b[39;00m\n\u001b[0;32m      8\u001b[0m \u001b[38;5;28;01mfrom\u001b[39;00m \u001b[38;5;21;01m.\u001b[39;00m\u001b[38;5;21;01mmmcorpus\u001b[39;00m \u001b[38;5;28;01mimport\u001b[39;00m MmCorpus  \u001b[38;5;66;03m# noqa:F401\u001b[39;00m\n\u001b[0;32m      9\u001b[0m \u001b[38;5;28;01mfrom\u001b[39;00m \u001b[38;5;21;01m.\u001b[39;00m\u001b[38;5;21;01mbleicorpus\u001b[39;00m \u001b[38;5;28;01mimport\u001b[39;00m BleiCorpus  \u001b[38;5;66;03m# noqa:F401\u001b[39;00m\n",
      "File \u001b[1;32m~\\AppData\\Local\\Packages\\PythonSoftwareFoundation.Python.3.10_qbz5n2kfra8p0\\LocalCache\\local-packages\\Python310\\site-packages\\gensim\\corpora\\indexedcorpus.py:14\u001b[0m\n\u001b[0;32m     10\u001b[0m \u001b[38;5;28;01mimport\u001b[39;00m \u001b[38;5;21;01mlogging\u001b[39;00m\n\u001b[0;32m     12\u001b[0m \u001b[38;5;28;01mimport\u001b[39;00m \u001b[38;5;21;01mnumpy\u001b[39;00m\n\u001b[1;32m---> 14\u001b[0m \u001b[38;5;28;01mfrom\u001b[39;00m \u001b[38;5;21;01mgensim\u001b[39;00m \u001b[38;5;28;01mimport\u001b[39;00m interfaces, utils\n\u001b[0;32m     16\u001b[0m logger \u001b[38;5;241m=\u001b[39m logging\u001b[38;5;241m.\u001b[39mgetLogger(\u001b[38;5;18m__name__\u001b[39m)\n\u001b[0;32m     19\u001b[0m \u001b[38;5;28;01mclass\u001b[39;00m \u001b[38;5;21;01mIndexedCorpus\u001b[39;00m(interfaces\u001b[38;5;241m.\u001b[39mCorpusABC):\n",
      "File \u001b[1;32m~\\AppData\\Local\\Packages\\PythonSoftwareFoundation.Python.3.10_qbz5n2kfra8p0\\LocalCache\\local-packages\\Python310\\site-packages\\gensim\\interfaces.py:19\u001b[0m\n\u001b[0;32m      7\u001b[0m \u001b[38;5;124;03m\"\"\"Basic interfaces used across the whole Gensim package.\u001b[39;00m\n\u001b[0;32m      8\u001b[0m \n\u001b[0;32m      9\u001b[0m \u001b[38;5;124;03mThese interfaces are used for building corpora, model transformation and similarity queries.\u001b[39;00m\n\u001b[1;32m   (...)\u001b[0m\n\u001b[0;32m     14\u001b[0m \n\u001b[0;32m     15\u001b[0m \u001b[38;5;124;03m\"\"\"\u001b[39;00m\n\u001b[0;32m     17\u001b[0m \u001b[38;5;28;01mimport\u001b[39;00m \u001b[38;5;21;01mlogging\u001b[39;00m\n\u001b[1;32m---> 19\u001b[0m \u001b[38;5;28;01mfrom\u001b[39;00m \u001b[38;5;21;01mgensim\u001b[39;00m \u001b[38;5;28;01mimport\u001b[39;00m utils, matutils\n\u001b[0;32m     22\u001b[0m logger \u001b[38;5;241m=\u001b[39m logging\u001b[38;5;241m.\u001b[39mgetLogger(\u001b[38;5;18m__name__\u001b[39m)\n\u001b[0;32m     25\u001b[0m \u001b[38;5;28;01mclass\u001b[39;00m \u001b[38;5;21;01mCorpusABC\u001b[39;00m(utils\u001b[38;5;241m.\u001b[39mSaveLoad):\n",
      "File \u001b[1;32m~\\AppData\\Local\\Packages\\PythonSoftwareFoundation.Python.3.10_qbz5n2kfra8p0\\LocalCache\\local-packages\\Python310\\site-packages\\gensim\\matutils.py:20\u001b[0m\n\u001b[0;32m     18\u001b[0m \u001b[38;5;28;01mimport\u001b[39;00m \u001b[38;5;21;01mscipy\u001b[39;00m\u001b[38;5;21;01m.\u001b[39;00m\u001b[38;5;21;01msparse\u001b[39;00m\n\u001b[0;32m     19\u001b[0m \u001b[38;5;28;01mfrom\u001b[39;00m \u001b[38;5;21;01mscipy\u001b[39;00m\u001b[38;5;21;01m.\u001b[39;00m\u001b[38;5;21;01mstats\u001b[39;00m \u001b[38;5;28;01mimport\u001b[39;00m entropy\n\u001b[1;32m---> 20\u001b[0m \u001b[38;5;28;01mfrom\u001b[39;00m \u001b[38;5;21;01mscipy\u001b[39;00m\u001b[38;5;21;01m.\u001b[39;00m\u001b[38;5;21;01mlinalg\u001b[39;00m \u001b[38;5;28;01mimport\u001b[39;00m get_blas_funcs, triu\n\u001b[0;32m     21\u001b[0m \u001b[38;5;28;01mfrom\u001b[39;00m \u001b[38;5;21;01mscipy\u001b[39;00m\u001b[38;5;21;01m.\u001b[39;00m\u001b[38;5;21;01mlinalg\u001b[39;00m\u001b[38;5;21;01m.\u001b[39;00m\u001b[38;5;21;01mlapack\u001b[39;00m \u001b[38;5;28;01mimport\u001b[39;00m get_lapack_funcs\n\u001b[0;32m     22\u001b[0m \u001b[38;5;28;01mfrom\u001b[39;00m \u001b[38;5;21;01mscipy\u001b[39;00m\u001b[38;5;21;01m.\u001b[39;00m\u001b[38;5;21;01mspecial\u001b[39;00m \u001b[38;5;28;01mimport\u001b[39;00m psi  \u001b[38;5;66;03m# gamma function utils\u001b[39;00m\n",
      "\u001b[1;31mImportError\u001b[0m: cannot import name 'triu' from 'scipy.linalg' (C:\\Users\\Pol\\AppData\\Local\\Packages\\PythonSoftwareFoundation.Python.3.10_qbz5n2kfra8p0\\LocalCache\\local-packages\\Python310\\site-packages\\scipy\\linalg\\__init__.py)"
     ]
    }
   ],
   "source": [
    "from importació_data import read_all_ts_data, reformat_data, create_corpus, preprocess, flattened_corpus_count"
   ]
  },
  {
   "cell_type": "markdown",
   "metadata": {},
   "source": [
    "- Llegim totes les dades de text similarity dividint-les en train, test i val. \n",
    "- Reformatejem les dades per a que siguin l'estructura List[Tuple[str, str, float]]. \n",
    "- Definim el corpus i el diccionari amb totes les paraules.\n",
    "- Creem un diccionari de python amb tots els indexs com a claus i amb la repetició de les paraules com a valor."
   ]
  },
  {
   "cell_type": "code",
   "execution_count": null,
   "metadata": {},
   "outputs": [],
   "source": [
    "train, test, val = read_all_ts_data()\n",
    "train, test, val = reformat_data(train, test, val)\n",
    "corpus, all_words = create_corpus(train, test, val, preprocess=preprocess)\n",
    "flat_corpus = flattened_corpus_count(corpus)"
   ]
  },
  {
   "cell_type": "markdown",
   "metadata": {},
   "source": [
    "### Compartació amb diferents models de Word Embeddings"
   ]
  },
  {
   "cell_type": "markdown",
   "metadata": {},
   "source": [
    "#### 1. One Hot"
   ]
  },
  {
   "cell_type": "code",
   "execution_count": null,
   "metadata": {},
   "outputs": [],
   "source": [
    "from onehot import map_one_hot\n",
    "from importació_data import pair_list_to_x_y\n",
    "from model_bàsic import build_and_compile_model_better\n",
    "import tensorflow as tf\n",
    "from model_bàsic import compute_pearson"
   ]
  },
  {
   "cell_type": "markdown",
   "metadata": {},
   "source": [
    "Un embedding OneHot té tamany igual a la llargada del diccionari. En la importació de dades ja hem eliminat les stopwords per reduïr la dimensió, però ara també eliminarem del embedding aquelles paraules que es repeteixen masses poques vegades o massa sovint. Per aconseguir això creem una llista que conté els indexs de les paraules que sí que utilitzarem i la passem com a argument a la funció *map_one_hot()*, per reduïr la dimensió del embedding."
   ]
  },
  {
   "cell_type": "code",
   "execution_count": null,
   "metadata": {},
   "outputs": [],
   "source": [
    "# Eliminate from all_words, the words that are repeated very few times or too much times\n",
    "keys_preprocess = [index  for index in all_words if flat_corpus[index] > 10 and flat_corpus[index] < 50]"
   ]
  },
  {
   "cell_type": "markdown",
   "metadata": {},
   "source": [
    "Convertim les paraules a vectors OneHot amb la funció *map_one_hot()*. Aquesta funció crea un vector de zeros de la mida del diccionari i posa un 1 a la posició de la paraula en el diccionari."
   ]
  },
  {
   "cell_type": "code",
   "execution_count": null,
   "metadata": {},
   "outputs": [],
   "source": [
    "mapped_one_hot_train = map_one_hot(train, all_words, keys_preprocess)\n",
    "mapped_one_hot_test = map_one_hot(test, all_words, keys_preprocess)\n",
    "mapped_one_hot_val = map_one_hot(val, all_words, keys_preprocess)"
   ]
  },
  {
   "cell_type": "markdown",
   "metadata": {},
   "source": [
    "Separem el X i Y"
   ]
  },
  {
   "cell_type": "code",
   "execution_count": null,
   "metadata": {},
   "outputs": [],
   "source": [
    "x_train, y_train = pair_list_to_x_y(mapped_one_hot_train)\n",
    "x_val, y_val = pair_list_to_x_y(mapped_one_hot_val)"
   ]
  },
  {
   "cell_type": "markdown",
   "metadata": {},
   "source": [
    "Entrenem el model"
   ]
  },
  {
   "cell_type": "code",
   "execution_count": null,
   "metadata": {},
   "outputs": [],
   "source": [
    "batch_size: int = 64\n",
    "num_epochs: int = 64"
   ]
  },
  {
   "cell_type": "code",
   "execution_count": null,
   "metadata": {},
   "outputs": [],
   "source": [
    "train_dataset = tf.data.Dataset.from_tensor_slices((x_train, y_train))\n",
    "train_dataset = train_dataset.shuffle(buffer_size=len(x_train)).batch(batch_size)\n",
    "\n",
    "val_dataset = tf.data.Dataset.from_tensor_slices((x_val, y_val))\n",
    "val_dataset = val_dataset.batch(batch_size)"
   ]
  },
  {
   "cell_type": "code",
   "execution_count": null,
   "metadata": {},
   "outputs": [],
   "source": [
    "x_train[0].shape, x_train[1].shape, y_train.shape"
   ]
  },
  {
   "cell_type": "code",
   "execution_count": null,
   "metadata": {},
   "outputs": [],
   "source": [
    "embedding_size = len(keys_preprocess)\n",
    "model = build_and_compile_model_better(embedding_size = embedding_size)\n",
    "tf.keras.utils.plot_model(model, show_shapes=True, show_layer_activations=True, )\n",
    "print(model.summary())"
   ]
  },
  {
   "cell_type": "code",
   "execution_count": null,
   "metadata": {},
   "outputs": [],
   "source": [
    "model.fit(train_dataset, epochs=num_epochs, validation_data=val_dataset)"
   ]
  },
  {
   "cell_type": "code",
   "execution_count": null,
   "metadata": {},
   "outputs": [],
   "source": [
    "print(f\"Correlación de Pearson (train): {compute_pearson(model, x_train, y_train)}\")\n",
    "print(f\"Correlación de Pearson (validation): {compute_pearson(model, x_val, y_val)}\")"
   ]
  },
  {
   "cell_type": "markdown",
   "metadata": {},
   "source": [
    "Provem el model"
   ]
  },
  {
   "cell_type": "code",
   "execution_count": null,
   "metadata": {},
   "outputs": [],
   "source": [
    "x_test, y_test = pair_list_to_x_y(mapped_one_hot_test)"
   ]
  },
  {
   "cell_type": "code",
   "execution_count": null,
   "metadata": {},
   "outputs": [],
   "source": [
    "# Imprimir el coeficiente de correlación de Pearson\n",
    "print(f\"Correlación de Pearson (test): {compute_pearson(model, x_test, y_test)}\")"
   ]
  },
  {
   "cell_type": "markdown",
   "metadata": {},
   "source": [
    "#### 2. Word2Vec preentrenats "
   ]
  },
  {
   "cell_type": "markdown",
   "metadata": {},
   "source": [
    "#### 3. SpaCy"
   ]
  },
  {
   "cell_type": "code",
   "execution_count": 1,
   "metadata": {},
   "outputs": [],
   "source": [
    "import spacy"
   ]
  },
  {
   "cell_type": "code",
   "execution_count": 5,
   "metadata": {},
   "outputs": [
    {
     "name": "stdout",
     "output_type": "stream",
     "text": [
      "Collecting ca-core-news-md==3.7.0"
     ]
    },
    {
     "name": "stderr",
     "output_type": "stream",
     "text": [
      "\n",
      "[notice] A new release of pip is available: 23.0.1 -> 24.0\n",
      "[notice] To update, run: python.exe -m pip install --upgrade pip\n"
     ]
    },
    {
     "name": "stdout",
     "output_type": "stream",
     "text": [
      "\n",
      "  Downloading https://github.com/explosion/spacy-models/releases/download/ca_core_news_md-3.7.0/ca_core_news_md-3.7.0-py3-none-any.whl (49.2 MB)\n",
      "     ---------------------------------------- 0.0/49.2 MB ? eta -:--:--\n",
      "     ---------------------------------------- 0.1/49.2 MB 3.2 MB/s eta 0:00:16\n",
      "     ---------------------------------------- 0.2/49.2 MB 2.5 MB/s eta 0:00:20\n",
      "     ---------------------------------------- 0.3/49.2 MB 2.5 MB/s eta 0:00:20\n",
      "     ---------------------------------------- 0.6/49.2 MB 2.8 MB/s eta 0:00:18\n",
      "      --------------------------------------- 0.8/49.2 MB 3.1 MB/s eta 0:00:16\n",
      "      --------------------------------------- 1.1/49.2 MB 3.4 MB/s eta 0:00:15\n",
      "     - -------------------------------------- 1.3/49.2 MB 3.5 MB/s eta 0:00:14\n",
      "     - -------------------------------------- 1.6/49.2 MB 3.7 MB/s eta 0:00:13\n",
      "     - -------------------------------------- 1.9/49.2 MB 3.9 MB/s eta 0:00:13\n",
      "     - -------------------------------------- 2.2/49.2 MB 4.0 MB/s eta 0:00:12\n",
      "     -- ------------------------------------- 2.6/49.2 MB 4.1 MB/s eta 0:00:12\n",
      "     -- ------------------------------------- 3.1/49.2 MB 4.5 MB/s eta 0:00:11\n",
      "     -- ------------------------------------- 3.4/49.2 MB 4.7 MB/s eta 0:00:10\n",
      "     --- ------------------------------------ 3.9/49.2 MB 4.9 MB/s eta 0:00:10\n",
      "     --- ------------------------------------ 4.3/49.2 MB 4.9 MB/s eta 0:00:10\n",
      "     --- ------------------------------------ 4.8/49.2 MB 5.2 MB/s eta 0:00:09\n",
      "     ---- ----------------------------------- 5.3/49.2 MB 5.4 MB/s eta 0:00:09\n",
      "     ---- ----------------------------------- 5.9/49.2 MB 5.6 MB/s eta 0:00:08\n",
      "     ----- ---------------------------------- 6.5/49.2 MB 5.7 MB/s eta 0:00:08\n",
      "     ----- ---------------------------------- 6.9/49.2 MB 5.8 MB/s eta 0:00:08\n",
      "     ------ --------------------------------- 7.4/49.2 MB 5.9 MB/s eta 0:00:08\n",
      "     ------ --------------------------------- 7.8/49.2 MB 5.9 MB/s eta 0:00:07\n",
      "     ------ --------------------------------- 8.1/49.2 MB 5.9 MB/s eta 0:00:07\n",
      "     ------ --------------------------------- 8.4/49.2 MB 5.8 MB/s eta 0:00:08\n",
      "     ------- -------------------------------- 8.8/49.2 MB 5.8 MB/s eta 0:00:07\n",
      "     ------- -------------------------------- 9.3/49.2 MB 5.9 MB/s eta 0:00:07\n",
      "     ------- -------------------------------- 9.8/49.2 MB 6.0 MB/s eta 0:00:07\n",
      "     -------- ------------------------------- 10.1/49.2 MB 5.9 MB/s eta 0:00:07\n",
      "     -------- ------------------------------- 10.2/49.2 MB 5.8 MB/s eta 0:00:07\n",
      "     -------- ------------------------------- 10.7/49.2 MB 6.2 MB/s eta 0:00:07\n",
      "     --------- ------------------------------ 11.2/49.2 MB 6.4 MB/s eta 0:00:06\n",
      "     --------- ------------------------------ 11.8/49.2 MB 6.7 MB/s eta 0:00:06\n",
      "     --------- ------------------------------ 12.0/49.2 MB 6.7 MB/s eta 0:00:06\n",
      "     ---------- ----------------------------- 12.7/49.2 MB 7.0 MB/s eta 0:00:06\n",
      "     ---------- ----------------------------- 13.3/49.2 MB 7.0 MB/s eta 0:00:06\n",
      "     ----------- ---------------------------- 13.9/49.2 MB 7.3 MB/s eta 0:00:05\n",
      "     ----------- ---------------------------- 14.5/49.2 MB 7.4 MB/s eta 0:00:05\n",
      "     ------------ --------------------------- 15.1/49.2 MB 7.4 MB/s eta 0:00:05\n",
      "     ------------ --------------------------- 15.3/49.2 MB 7.3 MB/s eta 0:00:05\n",
      "     ------------- -------------------------- 16.1/49.2 MB 7.4 MB/s eta 0:00:05\n",
      "     ------------- -------------------------- 16.6/49.2 MB 7.3 MB/s eta 0:00:05\n",
      "     -------------- ------------------------- 17.2/49.2 MB 7.5 MB/s eta 0:00:05\n",
      "     -------------- ------------------------- 17.9/49.2 MB 7.5 MB/s eta 0:00:05\n",
      "     -------------- ------------------------- 18.2/49.2 MB 7.6 MB/s eta 0:00:05\n",
      "     --------------- ------------------------ 18.7/49.2 MB 8.0 MB/s eta 0:00:04\n",
      "     --------------- ------------------------ 19.3/49.2 MB 8.2 MB/s eta 0:00:04\n",
      "     ---------------- ----------------------- 19.8/49.2 MB 8.1 MB/s eta 0:00:04\n",
      "     ---------------- ----------------------- 20.4/49.2 MB 8.5 MB/s eta 0:00:04\n",
      "     ----------------- ---------------------- 21.1/49.2 MB 8.8 MB/s eta 0:00:04\n",
      "     ----------------- ---------------------- 21.5/49.2 MB 9.1 MB/s eta 0:00:04\n",
      "     ------------------ --------------------- 22.3/49.2 MB 9.1 MB/s eta 0:00:03\n",
      "     ------------------ --------------------- 22.9/49.2 MB 9.0 MB/s eta 0:00:03\n",
      "     ------------------ --------------------- 23.3/49.2 MB 8.8 MB/s eta 0:00:03\n",
      "     ------------------- -------------------- 24.0/49.2 MB 8.7 MB/s eta 0:00:03\n",
      "     ------------------- -------------------- 24.5/49.2 MB 8.8 MB/s eta 0:00:03\n",
      "     -------------------- ------------------- 25.0/49.2 MB 8.7 MB/s eta 0:00:03\n",
      "     -------------------- ------------------- 25.6/49.2 MB 9.1 MB/s eta 0:00:03\n",
      "     --------------------- ------------------ 26.0/49.2 MB 8.8 MB/s eta 0:00:03\n",
      "     --------------------- ------------------ 26.6/49.2 MB 9.0 MB/s eta 0:00:03\n",
      "     ---------------------- ----------------- 27.1/49.2 MB 9.0 MB/s eta 0:00:03\n",
      "     ---------------------- ----------------- 27.8/49.2 MB 9.0 MB/s eta 0:00:03\n",
      "     ----------------------- ---------------- 28.3/49.2 MB 9.0 MB/s eta 0:00:03\n",
      "     ----------------------- ---------------- 28.9/49.2 MB 9.1 MB/s eta 0:00:03\n",
      "     ------------------------ --------------- 29.6/49.2 MB 9.4 MB/s eta 0:00:03\n",
      "     ------------------------ --------------- 30.0/49.2 MB 9.1 MB/s eta 0:00:03\n",
      "     ------------------------ --------------- 30.4/49.2 MB 9.0 MB/s eta 0:00:03\n",
      "     ------------------------- -------------- 31.0/49.2 MB 9.1 MB/s eta 0:00:02\n",
      "     ------------------------- -------------- 31.8/49.2 MB 9.6 MB/s eta 0:00:02\n",
      "     -------------------------- ------------- 32.5/49.2 MB 9.5 MB/s eta 0:00:02\n",
      "     -------------------------- ------------- 33.1/49.2 MB 9.5 MB/s eta 0:00:02\n",
      "     --------------------------- ------------ 33.6/49.2 MB 9.8 MB/s eta 0:00:02\n",
      "     --------------------------- ------------ 34.3/49.2 MB 9.9 MB/s eta 0:00:02\n",
      "     ---------------------------- ----------- 34.9/49.2 MB 9.8 MB/s eta 0:00:02\n",
      "     ---------------------------- ----------- 35.4/49.2 MB 9.8 MB/s eta 0:00:02\n",
      "     ----------------------------- ---------- 36.0/49.2 MB 9.9 MB/s eta 0:00:02\n",
      "     ----------------------------- ---------- 36.4/49.2 MB 9.8 MB/s eta 0:00:02\n",
      "     ----------------------------- ---------- 36.6/49.2 MB 9.5 MB/s eta 0:00:02\n",
      "     ----------------------------- ---------- 36.9/49.2 MB 9.1 MB/s eta 0:00:02\n",
      "     ------------------------------ --------- 37.4/49.2 MB 9.0 MB/s eta 0:00:02\n",
      "     ------------------------------ --------- 37.9/49.2 MB 8.6 MB/s eta 0:00:02\n",
      "     ------------------------------- -------- 38.3/49.2 MB 8.6 MB/s eta 0:00:02\n",
      "     ------------------------------- -------- 38.9/49.2 MB 7.5 MB/s eta 0:00:02\n",
      "     ------------------------------- -------- 38.9/49.2 MB 7.5 MB/s eta 0:00:02\n",
      "     ------------------------------- -------- 39.3/49.2 MB 6.5 MB/s eta 0:00:02\n",
      "     -------------------------------- ------- 39.8/49.2 MB 6.4 MB/s eta 0:00:02\n",
      "     -------------------------------- ------- 40.5/49.2 MB 6.4 MB/s eta 0:00:02\n",
      "     --------------------------------- ------ 41.0/49.2 MB 6.4 MB/s eta 0:00:02\n",
      "     --------------------------------- ------ 41.5/49.2 MB 6.4 MB/s eta 0:00:02\n",
      "     ---------------------------------- ----- 42.1/49.2 MB 6.2 MB/s eta 0:00:02\n",
      "     ---------------------------------- ----- 42.5/49.2 MB 6.1 MB/s eta 0:00:02\n",
      "     ---------------------------------- ----- 43.0/49.2 MB 6.1 MB/s eta 0:00:02\n",
      "     ----------------------------------- ---- 43.4/49.2 MB 6.0 MB/s eta 0:00:01\n",
      "     ----------------------------------- ---- 43.7/49.2 MB 5.9 MB/s eta 0:00:01\n",
      "     ----------------------------------- ---- 44.0/49.2 MB 5.7 MB/s eta 0:00:01\n",
      "     ------------------------------------ --- 44.3/49.2 MB 5.5 MB/s eta 0:00:01\n",
      "     ------------------------------------ --- 44.7/49.2 MB 5.4 MB/s eta 0:00:01\n",
      "     ------------------------------------ --- 44.9/49.2 MB 5.3 MB/s eta 0:00:01\n",
      "     ------------------------------------ --- 45.4/49.2 MB 5.2 MB/s eta 0:00:01\n",
      "     ------------------------------------- -- 45.9/49.2 MB 5.1 MB/s eta 0:00:01\n",
      "     ------------------------------------- -- 46.4/49.2 MB 5.1 MB/s eta 0:00:01\n",
      "     ------------------------------------- -- 46.7/49.2 MB 5.1 MB/s eta 0:00:01\n",
      "     -------------------------------------- - 47.1/49.2 MB 5.2 MB/s eta 0:00:01\n",
      "     -------------------------------------- - 47.7/49.2 MB 5.3 MB/s eta 0:00:01\n",
      "     -------------------------------------- - 47.9/49.2 MB 5.3 MB/s eta 0:00:01\n",
      "     ---------------------------------------  48.6/49.2 MB 5.8 MB/s eta 0:00:01\n",
      "     ---------------------------------------  48.8/49.2 MB 5.7 MB/s eta 0:00:01\n",
      "     ---------------------------------------  49.2/49.2 MB 6.4 MB/s eta 0:00:01\n",
      "     ---------------------------------------  49.2/49.2 MB 6.4 MB/s eta 0:00:01\n",
      "     ---------------------------------------  49.2/49.2 MB 6.4 MB/s eta 0:00:01\n",
      "     ---------------------------------------  49.2/49.2 MB 6.4 MB/s eta 0:00:01\n",
      "     ---------------------------------------  49.2/49.2 MB 6.4 MB/s eta 0:00:01\n",
      "     ---------------------------------------  49.2/49.2 MB 6.4 MB/s eta 0:00:01\n",
      "     ---------------------------------------  49.2/49.2 MB 6.4 MB/s eta 0:00:01\n",
      "     ---------------------------------------  49.2/49.2 MB 6.4 MB/s eta 0:00:01\n",
      "     ---------------------------------------  49.2/49.2 MB 6.4 MB/s eta 0:00:01\n",
      "     ---------------------------------------- 49.2/49.2 MB 3.7 MB/s eta 0:00:00\n",
      "Requirement already satisfied: spacy<3.8.0,>=3.7.0 in c:\\users\\pol\\desktop\\1_uni\\q4\\plh\\plh-wordembeddings\\plh-we-env\\lib\\site-packages (from ca-core-news-md==3.7.0) (3.7.4)\n",
      "Requirement already satisfied: pydantic!=1.8,!=1.8.1,<3.0.0,>=1.7.4 in c:\\users\\pol\\desktop\\1_uni\\q4\\plh\\plh-wordembeddings\\plh-we-env\\lib\\site-packages (from spacy<3.8.0,>=3.7.0->ca-core-news-md==3.7.0) (2.7.3)\n",
      "Requirement already satisfied: wasabi<1.2.0,>=0.9.1 in c:\\users\\pol\\desktop\\1_uni\\q4\\plh\\plh-wordembeddings\\plh-we-env\\lib\\site-packages (from spacy<3.8.0,>=3.7.0->ca-core-news-md==3.7.0) (1.1.3)\n",
      "Requirement already satisfied: jinja2 in c:\\users\\pol\\desktop\\1_uni\\q4\\plh\\plh-wordembeddings\\plh-we-env\\lib\\site-packages (from spacy<3.8.0,>=3.7.0->ca-core-news-md==3.7.0) (3.1.4)\n",
      "Requirement already satisfied: spacy-loggers<2.0.0,>=1.0.0 in c:\\users\\pol\\desktop\\1_uni\\q4\\plh\\plh-wordembeddings\\plh-we-env\\lib\\site-packages (from spacy<3.8.0,>=3.7.0->ca-core-news-md==3.7.0) (1.0.5)\n",
      "Requirement already satisfied: smart-open<7.0.0,>=5.2.1 in c:\\users\\pol\\desktop\\1_uni\\q4\\plh\\plh-wordembeddings\\plh-we-env\\lib\\site-packages (from spacy<3.8.0,>=3.7.0->ca-core-news-md==3.7.0) (6.4.0)\n",
      "Requirement already satisfied: srsly<3.0.0,>=2.4.3 in c:\\users\\pol\\desktop\\1_uni\\q4\\plh\\plh-wordembeddings\\plh-we-env\\lib\\site-packages (from spacy<3.8.0,>=3.7.0->ca-core-news-md==3.7.0) (2.4.8)\n",
      "Requirement already satisfied: spacy-legacy<3.1.0,>=3.0.11 in c:\\users\\pol\\desktop\\1_uni\\q4\\plh\\plh-wordembeddings\\plh-we-env\\lib\\site-packages (from spacy<3.8.0,>=3.7.0->ca-core-news-md==3.7.0) (3.0.12)\n",
      "Requirement already satisfied: thinc<8.3.0,>=8.2.2 in c:\\users\\pol\\desktop\\1_uni\\q4\\plh\\plh-wordembeddings\\plh-we-env\\lib\\site-packages (from spacy<3.8.0,>=3.7.0->ca-core-news-md==3.7.0) (8.2.3)\n",
      "Requirement already satisfied: cymem<2.1.0,>=2.0.2 in c:\\users\\pol\\desktop\\1_uni\\q4\\plh\\plh-wordembeddings\\plh-we-env\\lib\\site-packages (from spacy<3.8.0,>=3.7.0->ca-core-news-md==3.7.0) (2.0.8)\n",
      "Requirement already satisfied: langcodes<4.0.0,>=3.2.0 in c:\\users\\pol\\desktop\\1_uni\\q4\\plh\\plh-wordembeddings\\plh-we-env\\lib\\site-packages (from spacy<3.8.0,>=3.7.0->ca-core-news-md==3.7.0) (3.4.0)\n",
      "Requirement already satisfied: packaging>=20.0 in c:\\users\\pol\\desktop\\1_uni\\q4\\plh\\plh-wordembeddings\\plh-we-env\\lib\\site-packages (from spacy<3.8.0,>=3.7.0->ca-core-news-md==3.7.0) (24.0)\n",
      "Requirement already satisfied: weasel<0.4.0,>=0.1.0 in c:\\users\\pol\\desktop\\1_uni\\q4\\plh\\plh-wordembeddings\\plh-we-env\\lib\\site-packages (from spacy<3.8.0,>=3.7.0->ca-core-news-md==3.7.0) (0.3.4)\n",
      "Requirement already satisfied: typer<0.10.0,>=0.3.0 in c:\\users\\pol\\desktop\\1_uni\\q4\\plh\\plh-wordembeddings\\plh-we-env\\lib\\site-packages (from spacy<3.8.0,>=3.7.0->ca-core-news-md==3.7.0) (0.9.4)\n",
      "Requirement already satisfied: numpy>=1.19.0 in c:\\users\\pol\\desktop\\1_uni\\q4\\plh\\plh-wordembeddings\\plh-we-env\\lib\\site-packages (from spacy<3.8.0,>=3.7.0->ca-core-news-md==3.7.0) (1.26.4)\n",
      "Requirement already satisfied: tqdm<5.0.0,>=4.38.0 in c:\\users\\pol\\desktop\\1_uni\\q4\\plh\\plh-wordembeddings\\plh-we-env\\lib\\site-packages (from spacy<3.8.0,>=3.7.0->ca-core-news-md==3.7.0) (4.66.4)\n",
      "Requirement already satisfied: murmurhash<1.1.0,>=0.28.0 in c:\\users\\pol\\desktop\\1_uni\\q4\\plh\\plh-wordembeddings\\plh-we-env\\lib\\site-packages (from spacy<3.8.0,>=3.7.0->ca-core-news-md==3.7.0) (1.0.10)\n",
      "Requirement already satisfied: preshed<3.1.0,>=3.0.2 in c:\\users\\pol\\desktop\\1_uni\\q4\\plh\\plh-wordembeddings\\plh-we-env\\lib\\site-packages (from spacy<3.8.0,>=3.7.0->ca-core-news-md==3.7.0) (3.0.9)\n",
      "Requirement already satisfied: requests<3.0.0,>=2.13.0 in c:\\users\\pol\\desktop\\1_uni\\q4\\plh\\plh-wordembeddings\\plh-we-env\\lib\\site-packages (from spacy<3.8.0,>=3.7.0->ca-core-news-md==3.7.0) (2.32.3)\n",
      "Requirement already satisfied: setuptools in c:\\users\\pol\\desktop\\1_uni\\q4\\plh\\plh-wordembeddings\\plh-we-env\\lib\\site-packages (from spacy<3.8.0,>=3.7.0->ca-core-news-md==3.7.0) (65.5.0)\n",
      "Requirement already satisfied: catalogue<2.1.0,>=2.0.6 in c:\\users\\pol\\desktop\\1_uni\\q4\\plh\\plh-wordembeddings\\plh-we-env\\lib\\site-packages (from spacy<3.8.0,>=3.7.0->ca-core-news-md==3.7.0) (2.0.10)\n",
      "Requirement already satisfied: language-data>=1.2 in c:\\users\\pol\\desktop\\1_uni\\q4\\plh\\plh-wordembeddings\\plh-we-env\\lib\\site-packages (from langcodes<4.0.0,>=3.2.0->spacy<3.8.0,>=3.7.0->ca-core-news-md==3.7.0) (1.2.0)\n",
      "Requirement already satisfied: typing-extensions>=4.6.1 in c:\\users\\pol\\desktop\\1_uni\\q4\\plh\\plh-wordembeddings\\plh-we-env\\lib\\site-packages (from pydantic!=1.8,!=1.8.1,<3.0.0,>=1.7.4->spacy<3.8.0,>=3.7.0->ca-core-news-md==3.7.0) (4.12.1)\n",
      "Requirement already satisfied: annotated-types>=0.4.0 in c:\\users\\pol\\desktop\\1_uni\\q4\\plh\\plh-wordembeddings\\plh-we-env\\lib\\site-packages (from pydantic!=1.8,!=1.8.1,<3.0.0,>=1.7.4->spacy<3.8.0,>=3.7.0->ca-core-news-md==3.7.0) (0.7.0)\n",
      "Requirement already satisfied: pydantic-core==2.18.4 in c:\\users\\pol\\desktop\\1_uni\\q4\\plh\\plh-wordembeddings\\plh-we-env\\lib\\site-packages (from pydantic!=1.8,!=1.8.1,<3.0.0,>=1.7.4->spacy<3.8.0,>=3.7.0->ca-core-news-md==3.7.0) (2.18.4)\n",
      "Requirement already satisfied: certifi>=2017.4.17 in c:\\users\\pol\\desktop\\1_uni\\q4\\plh\\plh-wordembeddings\\plh-we-env\\lib\\site-packages (from requests<3.0.0,>=2.13.0->spacy<3.8.0,>=3.7.0->ca-core-news-md==3.7.0) (2024.6.2)\n",
      "Requirement already satisfied: urllib3<3,>=1.21.1 in c:\\users\\pol\\desktop\\1_uni\\q4\\plh\\plh-wordembeddings\\plh-we-env\\lib\\site-packages (from requests<3.0.0,>=2.13.0->spacy<3.8.0,>=3.7.0->ca-core-news-md==3.7.0) (2.2.1)\n",
      "Requirement already satisfied: charset-normalizer<4,>=2 in c:\\users\\pol\\desktop\\1_uni\\q4\\plh\\plh-wordembeddings\\plh-we-env\\lib\\site-packages (from requests<3.0.0,>=2.13.0->spacy<3.8.0,>=3.7.0->ca-core-news-md==3.7.0) (3.3.2)\n",
      "Requirement already satisfied: idna<4,>=2.5 in c:\\users\\pol\\desktop\\1_uni\\q4\\plh\\plh-wordembeddings\\plh-we-env\\lib\\site-packages (from requests<3.0.0,>=2.13.0->spacy<3.8.0,>=3.7.0->ca-core-news-md==3.7.0) (3.7)\n",
      "Requirement already satisfied: confection<1.0.0,>=0.0.1 in c:\\users\\pol\\desktop\\1_uni\\q4\\plh\\plh-wordembeddings\\plh-we-env\\lib\\site-packages (from thinc<8.3.0,>=8.2.2->spacy<3.8.0,>=3.7.0->ca-core-news-md==3.7.0) (0.1.5)\n",
      "Requirement already satisfied: blis<0.8.0,>=0.7.8 in c:\\users\\pol\\desktop\\1_uni\\q4\\plh\\plh-wordembeddings\\plh-we-env\\lib\\site-packages (from thinc<8.3.0,>=8.2.2->spacy<3.8.0,>=3.7.0->ca-core-news-md==3.7.0) (0.7.11)\n",
      "Requirement already satisfied: colorama in c:\\users\\pol\\desktop\\1_uni\\q4\\plh\\plh-wordembeddings\\plh-we-env\\lib\\site-packages (from tqdm<5.0.0,>=4.38.0->spacy<3.8.0,>=3.7.0->ca-core-news-md==3.7.0) (0.4.6)\n",
      "Requirement already satisfied: click<9.0.0,>=7.1.1 in c:\\users\\pol\\desktop\\1_uni\\q4\\plh\\plh-wordembeddings\\plh-we-env\\lib\\site-packages (from typer<0.10.0,>=0.3.0->spacy<3.8.0,>=3.7.0->ca-core-news-md==3.7.0) (8.1.7)\n",
      "Requirement already satisfied: cloudpathlib<0.17.0,>=0.7.0 in c:\\users\\pol\\desktop\\1_uni\\q4\\plh\\plh-wordembeddings\\plh-we-env\\lib\\site-packages (from weasel<0.4.0,>=0.1.0->spacy<3.8.0,>=3.7.0->ca-core-news-md==3.7.0) (0.16.0)\n",
      "Requirement already satisfied: MarkupSafe>=2.0 in c:\\users\\pol\\desktop\\1_uni\\q4\\plh\\plh-wordembeddings\\plh-we-env\\lib\\site-packages (from jinja2->spacy<3.8.0,>=3.7.0->ca-core-news-md==3.7.0) (2.1.5)\n",
      "Requirement already satisfied: marisa-trie>=0.7.7 in c:\\users\\pol\\desktop\\1_uni\\q4\\plh\\plh-wordembeddings\\plh-we-env\\lib\\site-packages (from language-data>=1.2->langcodes<4.0.0,>=3.2.0->spacy<3.8.0,>=3.7.0->ca-core-news-md==3.7.0) (1.1.1)\n",
      "Installing collected packages: ca-core-news-md\n",
      "Successfully installed ca-core-news-md-3.7.0\n",
      "\u001b[38;5;2m✔ Download and installation successful\u001b[0m\n",
      "You can now load the package via spacy.load('ca_core_news_md')\n"
     ]
    }
   ],
   "source": [
    "!python -m spacy download ca_core_news_md"
   ]
  },
  {
   "cell_type": "code",
   "execution_count": 7,
   "metadata": {},
   "outputs": [
    {
     "data": {
      "text/plain": [
       "array([ 0.68042  , -1.4599   ,  5.8433   ,  0.74058  ,  2.0949   ,\n",
       "        0.18079  ,  1.8701   , -1.2873   ,  3.0511   , -0.28411  ,\n",
       "        3.4147   ,  0.43923  , -2.8034   , -1.8566   , -1.2819   ,\n",
       "       -2.8928   ,  0.6468   , -2.6281   ,  4.6685   , -0.99647  ,\n",
       "       -1.1507   , -0.62254  ,  2.7648   , -3.0783   ,  1.3667   ,\n",
       "        2.1095   ,  0.26997  , -0.081743 , -0.86469  ,  5.9948   ,\n",
       "        2.4253   ,  1.5278   ,  1.5823   , -3.6996   , -3.8477   ,\n",
       "       -0.14405  , -2.1246   ,  4.2239   , -1.6706   ,  0.43578  ,\n",
       "       -0.6248   ,  1.5282   ,  4.207    , -0.051116 , -3.7832   ,\n",
       "        0.0070785, -1.0093   ,  1.8353   , -1.2686   , -0.82724  ,\n",
       "        2.6191   , -4.1626   ,  1.5366   , -0.49138  , -0.12545  ,\n",
       "        0.51432  ,  1.3739   , -0.24285  , -1.1281   , -2.8424   ,\n",
       "        0.82868  , -2.0375   , -0.76264  ,  1.9085   , -0.78051  ,\n",
       "       -2.2556   , -1.5522   , -0.30314  , -0.73646  , -0.12398  ,\n",
       "        0.14051  , -0.46373  , -1.6978   , -2.4986   ,  2.7556   ,\n",
       "        4.697    ,  1.7687   ,  2.1825   , -1.8768   ,  1.6614   ,\n",
       "       -2.2231   , -1.1355   , -0.37807  ,  1.2758   , -1.878    ,\n",
       "       -0.5798   , -1.0252   , -0.599    ,  1.8134   ,  0.12733  ,\n",
       "       -0.96452  , -1.885    , -1.6107   ,  1.2081   ,  1.352    ,\n",
       "       -2.0537   ,  1.784    , -0.51286  ,  1.6783   , -2.3504   ,\n",
       "        2.7609   , -0.17358  ,  2.0044   , -0.51417  ,  1.0578   ,\n",
       "       -2.5909   ,  0.54406  , -2.0787   ,  0.3158   , -0.7512   ,\n",
       "        1.6049   ,  1.1344   ,  2.4341   , -0.41995  , -3.2846   ,\n",
       "       -2.7119   , -2.2889   ,  2.2547   ,  1.5942   ,  1.6491   ,\n",
       "       -0.5033   ,  2.7261   ,  1.1      ,  1.2458   , -1.964    ,\n",
       "       -2.4367   ,  1.5755   ,  0.41625  , -3.2702   , -1.5966   ,\n",
       "        0.53657  ,  0.29597  , -1.4746   , -3.5342   , -2.868    ,\n",
       "       -0.55563  , -2.2941   ,  1.5108   , -1.7192   ,  0.78021  ,\n",
       "       -0.80583  , -2.7756   ,  1.1041   , -0.5173   , -2.4717   ,\n",
       "       -0.80739  ,  3.7611   ,  1.1695   , -2.4171   ,  1.3212   ,\n",
       "        0.70233  , -2.12     , -1.7175   , -2.2797   ,  0.61367  ,\n",
       "       -2.7909   ,  5.5585   , -0.12849  , -5.1206   , -2.0694   ,\n",
       "       -0.94292  , -0.89532  , -0.75786  ,  1.3177   , -0.85191  ,\n",
       "       -4.608    ,  0.66494  , -0.68695  , -4.6774   , -1.0962   ,\n",
       "        1.8894   ,  0.34842  ,  1.322    ,  1.7649   , -1.3972   ,\n",
       "       -0.098923 ,  2.3399   ,  2.0981   , -3.139    ,  3.0298   ,\n",
       "       -0.71744  ,  0.30185  , -1.2919   ,  1.3852   , -1.0699   ,\n",
       "        1.1533   , -4.7108   ,  4.1079   ,  0.46461  , -6.2478   ,\n",
       "       -4.583    ,  3.0682   , -4.4138   ,  1.1298   , -0.52204  ,\n",
       "       -0.80583  , -0.029564 ,  0.24883  ,  2.5595   , -3.9176   ,\n",
       "        0.73098  , -2.4927   , -0.89144  ,  0.81873  ,  2.7554   ,\n",
       "       -1.1884   , -1.8929   ,  3.0715   , -0.32548  , -2.5229   ,\n",
       "        2.6853   ,  1.5955   ,  0.88708  ,  2.8756   ,  1.5325   ,\n",
       "        0.13349  , -1.4701   ,  1.7892   , -1.2162   , -0.72923  ,\n",
       "        2.2032   , -1.3773   ,  2.5013   ,  4.1863   ,  2.0303   ,\n",
       "       -2.4794   ,  6.0857   , -0.84421  ,  2.357    ,  1.0553   ,\n",
       "       -3.0372   , -0.93071  ,  0.65536  ,  2.8922   , -0.73261  ,\n",
       "        3.8182   ,  0.76467  ,  2.0413   ,  0.98923  , -1.2354   ,\n",
       "       -0.21968  ,  0.14576  ,  2.1889   ,  1.4761   ,  1.8972   ,\n",
       "       -1.4095   , -1.5709   , -3.7036   ,  1.4358   ,  1.8185   ,\n",
       "        0.4263   ,  0.93984  ,  0.27736  , -1.2879   , -1.3049   ,\n",
       "        0.33428  ,  2.1287   ,  0.94671  ,  0.99249  , -0.090718 ,\n",
       "        2.0654   , -3.2235   , -0.27847  , -0.35793  ,  0.52482  ,\n",
       "       -1.072    , -2.8369   ,  2.1751   ,  0.62848  , -2.5693   ,\n",
       "        2.6966   , -1.8997   , -2.2273   , -2.5457   , -0.6038   ,\n",
       "       -1.718    , -0.58108  , -2.5717   , -4.3407   ,  1.0045   ,\n",
       "       -1.017    , -1.0844   ,  2.4243   , -0.77834  , -1.3015   ,\n",
       "        0.062138 , -1.7536   , -1.4644   , -1.0151   ,  2.5369   ,\n",
       "        0.79381  , -0.68722  , -1.6045   ,  3.0305   ,  1.6231   ,\n",
       "        1.8104   , -1.9833   , -3.5724   , -1.9906   , -0.7102   ],\n",
       "      dtype=float32)"
      ]
     },
     "execution_count": 7,
     "metadata": {},
     "output_type": "execute_result"
    }
   ],
   "source": [
    "nlp = spacy.load(\"ca_core_news_md\")"
   ]
  },
  {
   "cell_type": "markdown",
   "metadata": {},
   "source": [
    "#### 4. RoBERTa "
   ]
  },
  {
   "cell_type": "code",
   "execution_count": null,
   "metadata": {},
   "outputs": [],
   "source": [
    "nlp = spacy.load(\"ca_core_news_trf\")\n",
    "doc = nlp(sentences[0])\n",
    "print(doc.text)\n",
    "for token in doc:\n",
    "    print(token.text, token.pos_, token.dep_)"
   ]
  },
  {
   "cell_type": "markdown",
   "metadata": {},
   "source": [
    "#### 5. RoBERTa fine-tuned"
   ]
  },
  {
   "cell_type": "code",
   "execution_count": null,
   "metadata": {},
   "outputs": [],
   "source": [
    "model = 'projecte-aina/roberta-base-ca-v2-cased-sts'\n",
    "tokenizer = AutoTokenizer.from_pretrained(model)\n",
    "pipe = pipeline('text-classification', model=model, tokenizer=tokenizer)\n",
    "\n",
    "def prepare(sentence_pairs):\n",
    "    sentence_pairs_prep = []\n",
    "    for s1, s2 in sentence_pairs:\n",
    "        sentence_pairs_prep.append(f\"{tokenizer.cls_token} {s1}{tokenizer.sep_token}{tokenizer.sep_token} {s2}{tokenizer.sep_token}\")\n",
    "    return sentence_pairs_prep\n",
    "\n",
    "sentence_pairs = [(\"El llibre va caure per la finestra.\", \"El llibre va sortir volant.\"),\n",
    "                  (\"M'agrades.\", \"T'estimo.\"),\n",
    "                  (\"M'agrada el sol i la calor\", \"A la Garrotxa plou molt.\")]\n",
    "\n",
    "predictions = pipe(prepare(sentence_pairs), add_special_tokens=False)\n",
    "\n",
    "# convert back to scores to the original 0 and 5 interval\n",
    "for prediction in predictions:\n",
    "    prediction['score'] = logit(prediction['score'])\n",
    "print(predictions)"
   ]
  }
 ],
 "metadata": {
  "kernelspec": {
   "display_name": "WordEmbeddings",
   "language": "python",
   "name": "python3"
  },
  "language_info": {
   "codemirror_mode": {
    "name": "ipython",
    "version": 3
   },
   "file_extension": ".py",
   "mimetype": "text/x-python",
   "name": "python",
   "nbconvert_exporter": "python",
   "pygments_lexer": "ipython3",
   "version": "3.10.11"
  }
 },
 "nbformat": 4,
 "nbformat_minor": 2
}
